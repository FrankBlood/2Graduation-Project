{
 "cells": [
  {
   "cell_type": "markdown",
   "metadata": {},
   "source": [
    "<img src='NEFUlogo.png' align='left'>"
   ]
  },
  {
   "cell_type": "markdown",
   "metadata": {},
   "source": [
    "# Declare the enviornment is utf-8"
   ]
  },
  {
   "cell_type": "code",
   "execution_count": 1,
   "metadata": {
    "collapsed": true
   },
   "outputs": [],
   "source": [
    "# -*- coding: utf-8 -*-"
   ]
  },
  {
   "cell_type": "markdown",
   "metadata": {},
   "source": [
    "# Define a sentence for example"
   ]
  },
  {
   "cell_type": "code",
   "execution_count": 2,
   "metadata": {
    "collapsed": true
   },
   "outputs": [],
   "source": [
    "sentence = '元芳你怎么看？我就趴窗户上看呗！'"
   ]
  },
  {
   "cell_type": "markdown",
   "metadata": {},
   "source": [
    "# Word Segmentation"
   ]
  },
  {
   "cell_type": "code",
   "execution_count": 3,
   "metadata": {
    "collapsed": false
   },
   "outputs": [
    {
     "name": "stdout",
     "output_type": "stream",
     "text": [
      "元芳\t你\t怎么\t看\t？\t我\t就\t趴\t窗户\t上\t看\t呗\t！\n"
     ]
    }
   ],
   "source": [
    "from pyltp import Segmentor\n",
    "segmentor = Segmentor()\n",
    "segmentor.load('E:/Python/pyltp/ltp_data/cws.model')\n",
    "words = segmentor.segment(sentence)\n",
    "print '\\t'.join(words)\n",
    "segmentor.release()"
   ]
  },
  {
   "cell_type": "markdown",
   "metadata": {},
   "source": [
    "# Part-of-speech-Tagging"
   ]
  },
  {
   "cell_type": "code",
   "execution_count": 4,
   "metadata": {
    "collapsed": false
   },
   "outputs": [
    {
     "name": "stdout",
     "output_type": "stream",
     "text": [
      "nh\tr\tr\tv\twp\tr\td\tv\tn\tnd\tv\tu\twp\n"
     ]
    }
   ],
   "source": [
    "from pyltp import Postagger\n",
    "postagger = Postagger()\n",
    "postagger.load('E:/Python/pyltp/ltp_data/pos.model')\n",
    "postags = postagger.postag(words)\n",
    "print '\\t'.join(postags)\n",
    "postagger.release()"
   ]
  },
  {
   "cell_type": "markdown",
   "metadata": {},
   "source": [
    "# Dependency Parsing"
   ]
  },
  {
   "cell_type": "code",
   "execution_count": 5,
   "metadata": {
    "collapsed": false
   },
   "outputs": [
    {
     "name": "stdout",
     "output_type": "stream",
     "text": [
      "4:SBV\t4:SBV\t4:ADV\t0:HED\t4:WP\t8:SBV\t8:ADV\t4:COO\t10:ATT\t8:VOB\t8:COO\t11:RAD\t4:WP\n"
     ]
    }
   ],
   "source": [
    "from pyltp import Parser\n",
    "parser = Parser()\n",
    "parser.load('E:/Python/pyltp/ltp_data/parser.model')\n",
    "arcs = parser.parse(words, postags)\n",
    "print \"\\t\".join(\"%d:%s\" % (arc.head, arc.relation) for arc in arcs)\n",
    "parser.release()"
   ]
  },
  {
   "cell_type": "markdown",
   "metadata": {},
   "source": [
    "# Named Entity Recognition"
   ]
  },
  {
   "cell_type": "code",
   "execution_count": 6,
   "metadata": {
    "collapsed": false
   },
   "outputs": [
    {
     "name": "stdout",
     "output_type": "stream",
     "text": [
      "S-Nh\tO\tO\tO\tO\tO\tO\tO\tO\tO\tO\tO\tO\n"
     ]
    }
   ],
   "source": [
    "from pyltp import NamedEntityRecognizer\n",
    "recognizer = NamedEntityRecognizer()\n",
    "recognizer.load('E:/Python/pyltp/ltp_data/ner.model')\n",
    "netags = recognizer.recognize(words, postags)\n",
    "print \"\\t\".join(netags)\n",
    "recognizer.release()"
   ]
  },
  {
   "cell_type": "markdown",
   "metadata": {},
   "source": [
    "# Semantic Role Labeling"
   ]
  },
  {
   "cell_type": "code",
   "execution_count": 7,
   "metadata": {
    "collapsed": false
   },
   "outputs": [
    {
     "name": "stdout",
     "output_type": "stream",
     "text": [
      "3 A0:(0,0)A0:(1,1)ADV:(2,2)\n",
      "7 A0:(5,5)ADV:(6,6)A1:(8,9)\n"
     ]
    }
   ],
   "source": [
    "from pyltp import SementicRoleLabeller\n",
    "labeller = SementicRoleLabeller()\n",
    "labeller.load('E:/Python/pyltp/ltp_data/srl/')\n",
    "roles = labeller.label(words, postags, netags, arcs)\n",
    "\n",
    "for role in roles:\n",
    "    print role.index, \"\".join(\n",
    "            [\"%s:(%d,%d)\" % (arg.name, arg.range.start, arg.range.end) for arg in role.arguments])\n",
    "labeller.release()"
   ]
  },
  {
   "cell_type": "code",
   "execution_count": null,
   "metadata": {
    "collapsed": true
   },
   "outputs": [],
   "source": []
  }
 ],
 "metadata": {
  "kernelspec": {
   "display_name": "Python 2",
   "language": "python",
   "name": "python2"
  },
  "language_info": {
   "codemirror_mode": {
    "name": "ipython",
    "version": 2
   },
   "file_extension": ".py",
   "mimetype": "text/x-python",
   "name": "python",
   "nbconvert_exporter": "python",
   "pygments_lexer": "ipython2",
   "version": "2.7.11"
  }
 },
 "nbformat": 4,
 "nbformat_minor": 0
}
