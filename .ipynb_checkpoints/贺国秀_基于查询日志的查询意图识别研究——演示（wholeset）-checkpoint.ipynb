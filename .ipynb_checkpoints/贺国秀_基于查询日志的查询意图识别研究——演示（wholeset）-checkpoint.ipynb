{
 "cells": [
  {
   "cell_type": "markdown",
   "metadata": {},
   "source": [
    "<img src='NEFUlogo.png' align='left'>"
   ]
  },
  {
   "cell_type": "markdown",
   "metadata": {},
   "source": [
    "# 基于查询日志的查询意图识别研究"
   ]
  },
  {
   "cell_type": "markdown",
   "metadata": {},
   "source": [
    "## 1. 讲在前面"
   ]
  },
  {
   "cell_type": "markdown",
   "metadata": {},
   "source": [
    "### 1.1 研究背景"
   ]
  },
  {
   "cell_type": "markdown",
   "metadata": {},
   "source": [
    "&nbsp;&nbsp;&nbsp;&nbsp;&nbsp;&nbsp;&nbsp;互联网（World Wide Web）是世界上最大的信息资源库，是人们快速获取信息的重要途径之一，极大的改变了人们的生活方式。据2016年1月中国互联网络信息中心（CNNIC）发布的第37次*《中国互联网络发展状况统计报告》*显示，截至2015年12月，中国网民已达6.88亿，互联网普及率高达50.3%。截至2015年12月，中国网站数量为423万个，年增长26.3%，中国网页的数量为2123亿个，年增长11.8%，如图所示。"
   ]
  },
  {
   "cell_type": "markdown",
   "metadata": {},
   "source": [
    "<img src='Extraction Features.jpeg' align='left'>"
   ]
  },
  {
   "cell_type": "markdown",
   "metadata": {},
   "source": [
    "<img src='中国网站数量.png' align='left'>"
   ]
  },
  {
   "cell_type": "markdown",
   "metadata": {},
   "source": [
    "<img src='中国网页数量.png' align='left'>"
   ]
  },
  {
   "cell_type": "markdown",
   "metadata": {},
   "source": [
    "&nbsp;&nbsp;&nbsp;&nbsp;&nbsp;&nbsp;&nbsp;由于用户提交的查询往往较短，自然语言存在模糊性，无法清晰的表达用户的意图。所以包含查询关键字的查询结果，有可能不足以满足用户的需求；搜索引擎返回的数以千计的文档也造成严重的信息过载。有研究显示，在查询日志中，有至少16%的歧义查询，有超过75%的查询具有更复杂的信息需求，难以被简单的答案或者特定的网址满足。"
   ]
  },
  {
   "cell_type": "markdown",
   "metadata": {},
   "source": [
    "<img src='结果点击排名.png' align='left'>"
   ]
  },
  {
   "cell_type": "markdown",
   "metadata": {},
   "source": [
    "### 1.2 研究意义"
   ]
  },
  {
   "cell_type": "markdown",
   "metadata": {},
   "source": [
    "* **增加用户对搜索结果的满意度**：正确对用户意图进行识别，可以有效解决“信息过载”等问题，提高搜索效率；<br>\n",
    "* **提高广告推荐的精度**：向搜索引擎用户提供和用户当前搜索相关的广告，提高商业价值；<br>\n",
    "* **帮助搜索引擎组织和检索信息**：可以根据意图整理网络上的信息资源，建立更高效的检索系统。"
   ]
  },
  {
   "cell_type": "markdown",
   "metadata": {},
   "source": [
    "### 1.3 国内外研究现状"
   ]
  },
  {
   "cell_type": "markdown",
   "metadata": {},
   "source": [
    "* 查询意图**类目体系构建**<br>\n",
    "* 查询意图**特征提取**<br>\n",
    "* 查询意图的**识别方法研究**<br>\n",
    "* **数据集与评价方法**<br>"
   ]
  },
  {
   "cell_type": "markdown",
   "metadata": {},
   "source": [
    "### 1.4 论文框架"
   ]
  },
  {
   "cell_type": "markdown",
   "metadata": {},
   "source": [
    "<img src='论文框架.png' align='left'>"
   ]
  },
  {
   "cell_type": "markdown",
   "metadata": {},
   "source": [
    "## 2. 相关理论介绍"
   ]
  },
  {
   "cell_type": "markdown",
   "metadata": {},
   "source": [
    "## 3. 实验"
   ]
  },
  {
   "cell_type": "markdown",
   "metadata": {},
   "source": [
    "&nbsp;&nbsp;&nbsp;&nbsp;&nbsp;&nbsp;&nbsp;导入要用到的python程序库，并且设置数据展示在notebook中。"
   ]
  },
  {
   "cell_type": "code",
   "execution_count": 1,
   "metadata": {
    "collapsed": true
   },
   "outputs": [],
   "source": [
    "import graphlab\n",
    "import re\n",
    "import pandas as pd\n",
    "import string\n",
    "import jieba.posseg as pseg\n",
    "import jieba\n",
    "from collections import OrderedDict\n",
    "from collections import Counter"
   ]
  },
  {
   "cell_type": "code",
   "execution_count": 2,
   "metadata": {
    "collapsed": true
   },
   "outputs": [],
   "source": [
    "graphlab.canvas.set_target('ipynb')"
   ]
  },
  {
   "cell_type": "markdown",
   "metadata": {},
   "source": [
    "### 3.1 搜集数据"
   ]
  },
  {
   "cell_type": "markdown",
   "metadata": {},
   "source": [
    "#### 3.1.1 查询日志数据（subset）"
   ]
  },
  {
   "cell_type": "code",
   "execution_count": 3,
   "metadata": {
    "collapsed": false
   },
   "outputs": [
    {
     "name": "stdout",
     "output_type": "stream",
     "text": [
      "This non-commercial license of GraphLab Create is assigned to guoxiuhe@nefu.edu.cn and will expire on April 02, 2017. For commercial licensing options, visit https://dato.com/buy/.\n"
     ]
    },
    {
     "name": "stderr",
     "output_type": "stream",
     "text": [
      "2016-05-07 17:50:24,084 [INFO] graphlab.cython.cy_server, 176: GraphLab Create v1.9 started. Logging: C:\\Users\\heguoxiu\\AppData\\Local\\Temp\\graphlab_server_1462614612.log.0\n"
     ]
    },
    {
     "data": {
      "text/html": [
       "<pre>Unable to parse line \"12:10:47\t3182383064076715\t[1锛�璞″舰銆佹寚浜嬨�浼氭剰鐨勫尯鍒玗\t1 3\tks.cn.yahoo.com/question/1307012100335.html\"</pre>"
      ],
      "text/plain": [
       "Unable to parse line \"12:10:47\t3182383064076715\t[1锛�璞″舰銆佹寚浜嬨�浼氭剰鐨勫尯鍒玗\t1 3\tks.cn.yahoo.com/question/1307012100335.html\""
      ]
     },
     "metadata": {},
     "output_type": "display_data"
    },
    {
     "data": {
      "text/html": [
       "<pre>Unable to parse line \"12:20:29\t3182383064076715\t[1锛�璞″舰銆佹寚浜嬨�浼氭剰鐨勫尯鍒玗\t2 4\tzhidao.baidu.com/question/5357195.html?fr=qrl3\"</pre>"
      ],
      "text/plain": [
       "Unable to parse line \"12:20:29\t3182383064076715\t[1锛�璞″舰銆佹寚浜嬨�浼氭剰鐨勫尯鍒玗\t2 4\tzhidao.baidu.com/question/5357195.html?fr=qrl3\""
      ]
     },
     "metadata": {},
     "output_type": "display_data"
    },
    {
     "data": {
      "text/html": [
       "<pre>Read 552555 lines. Lines per second: 52521.2</pre>"
      ],
      "text/plain": [
       "Read 552555 lines. Lines per second: 52521.2"
      ]
     },
     "metadata": {},
     "output_type": "display_data"
    },
    {
     "data": {
      "text/html": [
       "<pre>Unable to parse line \"20:06:13\t23996506530073747\t[Analog+Devices+AD1888+@+Intel+82801FB+ICH6+-+AC'97+Audio+Controller+[C-0]\tPCI]\t1 1\tbbs.mydrivers.com/thread-189845-1-40.html\"</pre>"
      ],
      "text/plain": [
       "Unable to parse line \"20:06:13\t23996506530073747\t[Analog+Devices+AD1888+@+Intel+82801FB+ICH6+-+AC'97+Audio+Controller+[C-0]\tPCI]\t1 1\tbbs.mydrivers.com/thread-189845-1-40.html\""
      ]
     },
     "metadata": {},
     "output_type": "display_data"
    },
    {
     "data": {
      "text/html": [
       "<pre>Unable to parse line \"20:07:12\t23996506530073747\t[Analog+Devices+AD1888+@+Intel+82801FB+ICH6+-+AC'97+Audio+Controller+[C-0]\tPCI]\t2 2\tbbs.ylmf.com/read.php?tid=558330&fpage=254\"</pre>"
      ],
      "text/plain": [
       "Unable to parse line \"20:07:12\t23996506530073747\t[Analog+Devices+AD1888+@+Intel+82801FB+ICH6+-+AC'97+Audio+Controller+[C-0]\tPCI]\t2 2\tbbs.ylmf.com/read.php?tid=558330&fpage=254\""
      ]
     },
     "metadata": {},
     "output_type": "display_data"
    },
    {
     "data": {
      "text/html": [
       "<pre>Unable to parse line \"20:07:19\t23996506530073747\t[Analog+Devices+AD1888+@+Intel+82801FB+ICH6+-+AC'97+Audio+Controller+[C-0]\tPCI]\t4 3\tbbs.mumayi.net/viewthread.php?tid=1149896&extra=page%3D1\"</pre>"
      ],
      "text/plain": [
       "Unable to parse line \"20:07:19\t23996506530073747\t[Analog+Devices+AD1888+@+Intel+82801FB+ICH6+-+AC'97+Audio+Controller+[C-0]\tPCI]\t4 3\tbbs.mumayi.net/viewthread.php?tid=1149896&extra=page%3D1\""
      ]
     },
     "metadata": {},
     "output_type": "display_data"
    },
    {
     "data": {
      "text/html": [
       "<pre>Unable to parse line \"21:59:14\t8160510088862797\t[1銆�瀹剁數缁翠慨锛堜腑銆侀珮绾э級鎶�兘鍩硅�椤圭洰浠诲姟涔�\t4 1\twww.tech.net.cn/tab/tab200404023.doc\"</pre>"
      ],
      "text/plain": [
       "Unable to parse line \"21:59:14\t8160510088862797\t[1銆�瀹剁數缁翠慨锛堜腑銆侀珮绾э級鎶�兘鍩硅�椤圭洰浠诲姟涔�\t4 1\twww.tech.net.cn/tab/tab200404023.doc\""
      ]
     },
     "metadata": {},
     "output_type": "display_data"
    },
    {
     "data": {
      "text/html": [
       "<pre>Unable to parse line \"22:03:48\t8160510088862797\t[1銆�瀹剁數缁翠慨锛堜腑銆侀珮绾э級鎶�兘鍩硅�椤圭洰浠诲姟涔�\t8 2\twww.sict.edu.cn/deng/file/1\\xa8\\xb2?\\xa8\\xb0\\xa8\\xba?\\xa1\\xa4?D??oD\\xa1\\xea?\\xa1\\xa7\\xa8\\xa6\\xa8\\xa8???t/1\\xa8\\xb2?\\xa8\\xb0\\xa8\\xba?\\xa1\\xa4?D???\\xa6\\xcc\\xa8\\xa8...\"</pre>"
      ],
      "text/plain": [
       "Unable to parse line \"22:03:48\t8160510088862797\t[1銆�瀹剁數缁翠慨锛堜腑銆侀珮绾э級鎶�兘鍩硅�椤圭洰浠诲姟涔�\t8 2\twww.sict.edu.cn/deng/file/1\\xa8\\xb2?\\xa8\\xb0\\xa8\\xba?\\xa1\\xa4?D??oD\\xa1\\xea?\\xa1\\xa7\\xa8\\xa6\\xa8\\xa8???t/1\\xa8\\xb2?\\xa8\\xb0\\xa8\\xba?\\xa1\\xa4?D???\\xa6\\xcc\\xa8\\xa8...\""
      ]
     },
     "metadata": {},
     "output_type": "display_data"
    },
    {
     "data": {
      "text/html": [
       "<pre>Unable to parse line \"18:47:27\t5999958585312108\t[1.\t浠�箞鏄疧SI鍙傝�妯″瀷锛熷悇灞傜殑涓昏�鍔熻兘鏄�粈涔堬紵]\t9 67\twww.eyea.net/bbs/index.php?mods=topicdisplay&forumid=62&postid=42\"</pre>"
      ],
      "text/plain": [
       "Unable to parse line \"18:47:27\t5999958585312108\t[1.\t浠�箞鏄疧SI鍙傝�妯″瀷锛熷悇灞傜殑涓昏�鍔熻兘鏄�粈涔堬紵]\t9 67\twww.eyea.net/bbs/index.php?mods=topicdisplay&forumid=62&postid=42\""
      ]
     },
     "metadata": {},
     "output_type": "display_data"
    },
    {
     "data": {
      "text/html": [
       "<pre>Unable to parse line \"18:47:29\t5999958585312108\t[1.\t浠�箞鏄疧SI鍙傝�妯″瀷锛熷悇灞傜殑涓昏�鍔熻兘鏄�粈涔堬紵]\t9 68\twww.eyea.net/bbs/index.php?mods=topicdisplay&forumid=62&postid=42\"</pre>"
      ],
      "text/plain": [
       "Unable to parse line \"18:47:29\t5999958585312108\t[1.\t浠�箞鏄疧SI鍙傝�妯″瀷锛熷悇灞傜殑涓昏�鍔熻兘鏄�粈涔堬紵]\t9 68\twww.eyea.net/bbs/index.php?mods=topicdisplay&forumid=62&postid=42\""
      ]
     },
     "metadata": {},
     "output_type": "display_data"
    },
    {
     "data": {
      "text/html": [
       "<pre>Unable to parse line \"18:47:29\t5999958585312108\t[1.\t浠�箞鏄疧SI鍙傝�妯″瀷锛熷悇灞傜殑涓昏�鍔熻兘鏄�粈涔堬紵]\t9 69\twww.eyea.net/bbs/index.php?mods=topicdisplay&forumid=62&postid=42\"</pre>"
      ],
      "text/plain": [
       "Unable to parse line \"18:47:29\t5999958585312108\t[1.\t浠�箞鏄疧SI鍙傝�妯″瀷锛熷悇灞傜殑涓昏�鍔熻兘鏄�粈涔堬紵]\t9 69\twww.eyea.net/bbs/index.php?mods=topicdisplay&forumid=62&postid=42\""
      ]
     },
     "metadata": {},
     "output_type": "display_data"
    },
    {
     "data": {
      "text/html": [
       "<pre>Read 1685019 lines. Lines per second: 102727</pre>"
      ],
      "text/plain": [
       "Read 1685019 lines. Lines per second: 102727"
      ]
     },
     "metadata": {},
     "output_type": "display_data"
    },
    {
     "data": {
      "text/html": [
       "<pre>11 lines failed to parse correctly</pre>"
      ],
      "text/plain": [
       "11 lines failed to parse correctly"
      ]
     },
     "metadata": {},
     "output_type": "display_data"
    },
    {
     "data": {
      "text/html": [
       "<pre>Finished parsing file E:\\Python\\2Graduation-Project\\SogouQ.txt</pre>"
      ],
      "text/plain": [
       "Finished parsing file E:\\Python\\2Graduation-Project\\SogouQ.txt"
      ]
     },
     "metadata": {},
     "output_type": "display_data"
    },
    {
     "data": {
      "text/html": [
       "<pre>Parsing completed. Parsed 1724253 lines in 16.4649 secs.</pre>"
      ],
      "text/plain": [
       "Parsing completed. Parsed 1724253 lines in 16.4649 secs."
      ]
     },
     "metadata": {},
     "output_type": "display_data"
    }
   ],
   "source": [
    "data = graphlab.SFrame.read_csv('SogouQ.txt', delimiter='\\t', header=True, column_type_hints=[str, str, str, str, str])"
   ]
  },
  {
   "cell_type": "code",
   "execution_count": 4,
   "metadata": {
    "collapsed": false
   },
   "outputs": [
    {
     "data": {
      "text/html": [
       "<div style=\"max-height:1000px;max-width:1500px;overflow:auto;\"><table frame=\"box\" rules=\"cols\">\n",
       "    <tr>\n",
       "        <th style=\"padding-left: 1em; padding-right: 1em; text-align: center\">﻿time</th>\n",
       "        <th style=\"padding-left: 1em; padding-right: 1em; text-align: center\">user_id</th>\n",
       "        <th style=\"padding-left: 1em; padding-right: 1em; text-align: center\">query</th>\n",
       "        <th style=\"padding-left: 1em; padding-right: 1em; text-align: center\">result_click</th>\n",
       "        <th style=\"padding-left: 1em; padding-right: 1em; text-align: center\">url</th>\n",
       "    </tr>\n",
       "    <tr>\n",
       "        <td style=\"padding-left: 1em; padding-right: 1em; text-align: center; vertical-align: top\">00:00:00</td>\n",
       "        <td style=\"padding-left: 1em; padding-right: 1em; text-align: center; vertical-align: top\">2982199073774412</td>\n",
       "        <td style=\"padding-left: 1em; padding-right: 1em; text-align: center; vertical-align: top\">[360安全卫士]</td>\n",
       "        <td style=\"padding-left: 1em; padding-right: 1em; text-align: center; vertical-align: top\">8 3</td>\n",
       "        <td style=\"padding-left: 1em; padding-right: 1em; text-align: center; vertical-align: top\">download.it.com.cn/softwe<br>b/software/firewall/a ...</td>\n",
       "    </tr>\n",
       "    <tr>\n",
       "        <td style=\"padding-left: 1em; padding-right: 1em; text-align: center; vertical-align: top\">00:00:00</td>\n",
       "        <td style=\"padding-left: 1em; padding-right: 1em; text-align: center; vertical-align: top\">07594220010824798</td>\n",
       "        <td style=\"padding-left: 1em; padding-right: 1em; text-align: center; vertical-align: top\">[哄抢救灾物资]</td>\n",
       "        <td style=\"padding-left: 1em; padding-right: 1em; text-align: center; vertical-align: top\">1 1</td>\n",
       "        <td style=\"padding-left: 1em; padding-right: 1em; text-align: center; vertical-align: top\">news.21cn.com/social/daqi<br>an/2008/05/29/4777194 ...</td>\n",
       "    </tr>\n",
       "    <tr>\n",
       "        <td style=\"padding-left: 1em; padding-right: 1em; text-align: center; vertical-align: top\">00:00:00</td>\n",
       "        <td style=\"padding-left: 1em; padding-right: 1em; text-align: center; vertical-align: top\">5228056822071097</td>\n",
       "        <td style=\"padding-left: 1em; padding-right: 1em; text-align: center; vertical-align: top\">[75810部队]</td>\n",
       "        <td style=\"padding-left: 1em; padding-right: 1em; text-align: center; vertical-align: top\">14 5</td>\n",
       "        <td style=\"padding-left: 1em; padding-right: 1em; text-align: center; vertical-align: top\">www.greatoo.com/greatoo_c<br>n/list.asp?link_id=27 ...</td>\n",
       "    </tr>\n",
       "    <tr>\n",
       "        <td style=\"padding-left: 1em; padding-right: 1em; text-align: center; vertical-align: top\">00:00:00</td>\n",
       "        <td style=\"padding-left: 1em; padding-right: 1em; text-align: center; vertical-align: top\">6140463203615646</td>\n",
       "        <td style=\"padding-left: 1em; padding-right: 1em; text-align: center; vertical-align: top\">[绳艺]</td>\n",
       "        <td style=\"padding-left: 1em; padding-right: 1em; text-align: center; vertical-align: top\">62 36</td>\n",
       "        <td style=\"padding-left: 1em; padding-right: 1em; text-align: center; vertical-align: top\">www.jd-cd.com/jd_opus/xx/<br>200607/706.html ...</td>\n",
       "    </tr>\n",
       "    <tr>\n",
       "        <td style=\"padding-left: 1em; padding-right: 1em; text-align: center; vertical-align: top\">00:00:00</td>\n",
       "        <td style=\"padding-left: 1em; padding-right: 1em; text-align: center; vertical-align: top\">8561366108033201</td>\n",
       "        <td style=\"padding-left: 1em; padding-right: 1em; text-align: center; vertical-align: top\">[汶川地震原因]</td>\n",
       "        <td style=\"padding-left: 1em; padding-right: 1em; text-align: center; vertical-align: top\">3 2</td>\n",
       "        <td style=\"padding-left: 1em; padding-right: 1em; text-align: center; vertical-align: top\">www.big38.net/</td>\n",
       "    </tr>\n",
       "    <tr>\n",
       "        <td style=\"padding-left: 1em; padding-right: 1em; text-align: center; vertical-align: top\">00:00:00</td>\n",
       "        <td style=\"padding-left: 1em; padding-right: 1em; text-align: center; vertical-align: top\">23908140386148713</td>\n",
       "        <td style=\"padding-left: 1em; padding-right: 1em; text-align: center; vertical-align: top\">[莫衷一是的意思]</td>\n",
       "        <td style=\"padding-left: 1em; padding-right: 1em; text-align: center; vertical-align: top\">1 2</td>\n",
       "        <td style=\"padding-left: 1em; padding-right: 1em; text-align: center; vertical-align: top\">www.chinabaike.com/articl<br>e/81/82/110/2007/2007 ...</td>\n",
       "    </tr>\n",
       "    <tr>\n",
       "        <td style=\"padding-left: 1em; padding-right: 1em; text-align: center; vertical-align: top\">00:00:00</td>\n",
       "        <td style=\"padding-left: 1em; padding-right: 1em; text-align: center; vertical-align: top\">1797943298449139</td>\n",
       "        <td style=\"padding-left: 1em; padding-right: 1em; text-align: center; vertical-align: top\">[星梦缘全集在线观<br>看] ...</td>\n",
       "        <td style=\"padding-left: 1em; padding-right: 1em; text-align: center; vertical-align: top\">8 5</td>\n",
       "        <td style=\"padding-left: 1em; padding-right: 1em; text-align: center; vertical-align: top\">www.6wei.net/dianshiju/??<br>??\\xa1\\xe9|????do=index ...</td>\n",
       "    </tr>\n",
       "    <tr>\n",
       "        <td style=\"padding-left: 1em; padding-right: 1em; text-align: center; vertical-align: top\">00:00:00</td>\n",
       "        <td style=\"padding-left: 1em; padding-right: 1em; text-align: center; vertical-align: top\">00717725924582846</td>\n",
       "        <td style=\"padding-left: 1em; padding-right: 1em; text-align: center; vertical-align: top\">[闪字吧]</td>\n",
       "        <td style=\"padding-left: 1em; padding-right: 1em; text-align: center; vertical-align: top\">1 2</td>\n",
       "        <td style=\"padding-left: 1em; padding-right: 1em; text-align: center; vertical-align: top\">www.shanziba.com/</td>\n",
       "    </tr>\n",
       "    <tr>\n",
       "        <td style=\"padding-left: 1em; padding-right: 1em; text-align: center; vertical-align: top\">00:00:00</td>\n",
       "        <td style=\"padding-left: 1em; padding-right: 1em; text-align: center; vertical-align: top\">41416219018952116</td>\n",
       "        <td style=\"padding-left: 1em; padding-right: 1em; text-align: center; vertical-align: top\">[霍震霆与朱玲玲照<br>片] ...</td>\n",
       "        <td style=\"padding-left: 1em; padding-right: 1em; text-align: center; vertical-align: top\">2 6</td>\n",
       "        <td style=\"padding-left: 1em; padding-right: 1em; text-align: center; vertical-align: top\">bbs.gouzai.cn/thread-6987<br>36.html ...</td>\n",
       "    </tr>\n",
       "    <tr>\n",
       "        <td style=\"padding-left: 1em; padding-right: 1em; text-align: center; vertical-align: top\">00:00:00</td>\n",
       "        <td style=\"padding-left: 1em; padding-right: 1em; text-align: center; vertical-align: top\">9975666857142764</td>\n",
       "        <td style=\"padding-left: 1em; padding-right: 1em; text-align: center; vertical-align: top\">[电脑创业]</td>\n",
       "        <td style=\"padding-left: 1em; padding-right: 1em; text-align: center; vertical-align: top\">2 2</td>\n",
       "        <td style=\"padding-left: 1em; padding-right: 1em; text-align: center; vertical-align: top\">ks.cn.yahoo.com/question/<br>1307120203719.html ...</td>\n",
       "    </tr>\n",
       "</table>\n",
       "[1724253 rows x 5 columns]<br/>Note: Only the head of the SFrame is printed.<br/>You can use print_rows(num_rows=m, num_columns=n) to print more rows and columns.\n",
       "</div>"
      ],
      "text/plain": [
       "Columns:\n",
       "\t﻿time\tstr\n",
       "\tuser_id\tstr\n",
       "\tquery\tstr\n",
       "\tresult_click\tstr\n",
       "\turl\tstr\n",
       "\n",
       "Rows: 1724253\n",
       "\n",
       "Data:\n",
       "+----------+-------------------+----------------------+--------------+\n",
       "|  ﻿time   |      user_id      |        query         | result_click |\n",
       "+----------+-------------------+----------------------+--------------+\n",
       "| 00:00:00 |  2982199073774412 |    [360安全卫士]     |     8 3      |\n",
       "| 00:00:00 | 07594220010824798 |    [哄抢救灾物资]    |     1 1      |\n",
       "| 00:00:00 |  5228056822071097 |     [75810部队]      |     14 5     |\n",
       "| 00:00:00 |  6140463203615646 |        [绳艺]        |    62 36     |\n",
       "| 00:00:00 |  8561366108033201 |    [汶川地震原因]    |     3 2      |\n",
       "| 00:00:00 | 23908140386148713 |   [莫衷一是的意思]   |     1 2      |\n",
       "| 00:00:00 |  1797943298449139 | [星梦缘全集在线观看] |     8 5      |\n",
       "| 00:00:00 | 00717725924582846 |       [闪字吧]       |     1 2      |\n",
       "| 00:00:00 | 41416219018952116 | [霍震霆与朱玲玲照片] |     2 6      |\n",
       "| 00:00:00 |  9975666857142764 |      [电脑创业]      |     2 2      |\n",
       "+----------+-------------------+----------------------+--------------+\n",
       "+-------------------------------+\n",
       "|              url              |\n",
       "+-------------------------------+\n",
       "| download.it.com.cn/softweb... |\n",
       "| news.21cn.com/social/daqia... |\n",
       "| www.greatoo.com/greatoo_cn... |\n",
       "| www.jd-cd.com/jd_opus/xx/2... |\n",
       "|         www.big38.net/        |\n",
       "| www.chinabaike.com/article... |\n",
       "| www.6wei.net/dianshiju/???... |\n",
       "|       www.shanziba.com/       |\n",
       "| bbs.gouzai.cn/thread-69873... |\n",
       "| ks.cn.yahoo.com/question/1... |\n",
       "+-------------------------------+\n",
       "[1724253 rows x 5 columns]\n",
       "Note: Only the head of the SFrame is printed.\n",
       "You can use print_rows(num_rows=m, num_columns=n) to print more rows and columns."
      ]
     },
     "execution_count": 4,
     "metadata": {},
     "output_type": "execute_result"
    }
   ],
   "source": [
    "data"
   ]
  },
  {
   "cell_type": "code",
   "execution_count": 5,
   "metadata": {
    "collapsed": true
   },
   "outputs": [],
   "source": [
    "data['result_and_click'] = data['result_click'].apply(lambda x : re.split(r'\\s+',x))"
   ]
  },
  {
   "cell_type": "code",
   "execution_count": 6,
   "metadata": {
    "collapsed": true
   },
   "outputs": [],
   "source": [
    "def getfirst(l):\n",
    "    return int(l[0])\n",
    "def getsecond(l):\n",
    "    return int(l[1])\n",
    "\n",
    "data['result_rank'] = data['result_and_click'].apply(lambda l: getfirst(l))\n",
    "data['click_rank'] = data['result_and_click'].apply(lambda l: getsecond(l))"
   ]
  },
  {
   "cell_type": "code",
   "execution_count": 7,
   "metadata": {
    "collapsed": true
   },
   "outputs": [],
   "source": [
    "data['query'] = data['query'].apply(lambda x: str(x)).apply(lambda x: x.strip().lstrip('[').rstrip(']'))"
   ]
  },
  {
   "cell_type": "code",
   "execution_count": 8,
   "metadata": {
    "collapsed": true
   },
   "outputs": [],
   "source": [
    "def remove_tail(url):\n",
    "    if url[-1] == '/':\n",
    "        return url[:-1]\n",
    "    else:\n",
    "        return url[:]"
   ]
  },
  {
   "cell_type": "code",
   "execution_count": 9,
   "metadata": {
    "collapsed": true
   },
   "outputs": [],
   "source": [
    "data['url'] = data['url'].apply(remove_tail)"
   ]
  },
  {
   "cell_type": "code",
   "execution_count": 10,
   "metadata": {
    "collapsed": false
   },
   "outputs": [
    {
     "data": {
      "text/html": [
       "<div style=\"max-height:1000px;max-width:1500px;overflow:auto;\"><table frame=\"box\" rules=\"cols\">\n",
       "    <tr>\n",
       "        <th style=\"padding-left: 1em; padding-right: 1em; text-align: center\">﻿time</th>\n",
       "        <th style=\"padding-left: 1em; padding-right: 1em; text-align: center\">user_id</th>\n",
       "        <th style=\"padding-left: 1em; padding-right: 1em; text-align: center\">query</th>\n",
       "        <th style=\"padding-left: 1em; padding-right: 1em; text-align: center\">result_click</th>\n",
       "        <th style=\"padding-left: 1em; padding-right: 1em; text-align: center\">url</th>\n",
       "        <th style=\"padding-left: 1em; padding-right: 1em; text-align: center\">result_and_click</th>\n",
       "        <th style=\"padding-left: 1em; padding-right: 1em; text-align: center\">result_rank</th>\n",
       "    </tr>\n",
       "    <tr>\n",
       "        <td style=\"padding-left: 1em; padding-right: 1em; text-align: center; vertical-align: top\">00:00:00</td>\n",
       "        <td style=\"padding-left: 1em; padding-right: 1em; text-align: center; vertical-align: top\">2982199073774412</td>\n",
       "        <td style=\"padding-left: 1em; padding-right: 1em; text-align: center; vertical-align: top\">360安全卫士</td>\n",
       "        <td style=\"padding-left: 1em; padding-right: 1em; text-align: center; vertical-align: top\">8 3</td>\n",
       "        <td style=\"padding-left: 1em; padding-right: 1em; text-align: center; vertical-align: top\">download.it.com.cn/softwe<br>b/software/firewall/a ...</td>\n",
       "        <td style=\"padding-left: 1em; padding-right: 1em; text-align: center; vertical-align: top\">[8, 3]</td>\n",
       "        <td style=\"padding-left: 1em; padding-right: 1em; text-align: center; vertical-align: top\">8</td>\n",
       "    </tr>\n",
       "    <tr>\n",
       "        <td style=\"padding-left: 1em; padding-right: 1em; text-align: center; vertical-align: top\">00:00:00</td>\n",
       "        <td style=\"padding-left: 1em; padding-right: 1em; text-align: center; vertical-align: top\">07594220010824798</td>\n",
       "        <td style=\"padding-left: 1em; padding-right: 1em; text-align: center; vertical-align: top\">哄抢救灾物资</td>\n",
       "        <td style=\"padding-left: 1em; padding-right: 1em; text-align: center; vertical-align: top\">1 1</td>\n",
       "        <td style=\"padding-left: 1em; padding-right: 1em; text-align: center; vertical-align: top\">news.21cn.com/social/daqi<br>an/2008/05/29/4777194 ...</td>\n",
       "        <td style=\"padding-left: 1em; padding-right: 1em; text-align: center; vertical-align: top\">[1, 1]</td>\n",
       "        <td style=\"padding-left: 1em; padding-right: 1em; text-align: center; vertical-align: top\">1</td>\n",
       "    </tr>\n",
       "    <tr>\n",
       "        <td style=\"padding-left: 1em; padding-right: 1em; text-align: center; vertical-align: top\">00:00:00</td>\n",
       "        <td style=\"padding-left: 1em; padding-right: 1em; text-align: center; vertical-align: top\">5228056822071097</td>\n",
       "        <td style=\"padding-left: 1em; padding-right: 1em; text-align: center; vertical-align: top\">75810部队</td>\n",
       "        <td style=\"padding-left: 1em; padding-right: 1em; text-align: center; vertical-align: top\">14 5</td>\n",
       "        <td style=\"padding-left: 1em; padding-right: 1em; text-align: center; vertical-align: top\">www.greatoo.com/greatoo_c<br>n/list.asp?link_id=27 ...</td>\n",
       "        <td style=\"padding-left: 1em; padding-right: 1em; text-align: center; vertical-align: top\">[14, 5]</td>\n",
       "        <td style=\"padding-left: 1em; padding-right: 1em; text-align: center; vertical-align: top\">14</td>\n",
       "    </tr>\n",
       "    <tr>\n",
       "        <td style=\"padding-left: 1em; padding-right: 1em; text-align: center; vertical-align: top\">00:00:00</td>\n",
       "        <td style=\"padding-left: 1em; padding-right: 1em; text-align: center; vertical-align: top\">6140463203615646</td>\n",
       "        <td style=\"padding-left: 1em; padding-right: 1em; text-align: center; vertical-align: top\">绳艺</td>\n",
       "        <td style=\"padding-left: 1em; padding-right: 1em; text-align: center; vertical-align: top\">62 36</td>\n",
       "        <td style=\"padding-left: 1em; padding-right: 1em; text-align: center; vertical-align: top\">www.jd-cd.com/jd_opus/xx/<br>200607/706.html ...</td>\n",
       "        <td style=\"padding-left: 1em; padding-right: 1em; text-align: center; vertical-align: top\">[62, 36]</td>\n",
       "        <td style=\"padding-left: 1em; padding-right: 1em; text-align: center; vertical-align: top\">62</td>\n",
       "    </tr>\n",
       "    <tr>\n",
       "        <td style=\"padding-left: 1em; padding-right: 1em; text-align: center; vertical-align: top\">00:00:00</td>\n",
       "        <td style=\"padding-left: 1em; padding-right: 1em; text-align: center; vertical-align: top\">8561366108033201</td>\n",
       "        <td style=\"padding-left: 1em; padding-right: 1em; text-align: center; vertical-align: top\">汶川地震原因</td>\n",
       "        <td style=\"padding-left: 1em; padding-right: 1em; text-align: center; vertical-align: top\">3 2</td>\n",
       "        <td style=\"padding-left: 1em; padding-right: 1em; text-align: center; vertical-align: top\">www.big38.net</td>\n",
       "        <td style=\"padding-left: 1em; padding-right: 1em; text-align: center; vertical-align: top\">[3, 2]</td>\n",
       "        <td style=\"padding-left: 1em; padding-right: 1em; text-align: center; vertical-align: top\">3</td>\n",
       "    </tr>\n",
       "    <tr>\n",
       "        <td style=\"padding-left: 1em; padding-right: 1em; text-align: center; vertical-align: top\">00:00:00</td>\n",
       "        <td style=\"padding-left: 1em; padding-right: 1em; text-align: center; vertical-align: top\">23908140386148713</td>\n",
       "        <td style=\"padding-left: 1em; padding-right: 1em; text-align: center; vertical-align: top\">莫衷一是的意思</td>\n",
       "        <td style=\"padding-left: 1em; padding-right: 1em; text-align: center; vertical-align: top\">1 2</td>\n",
       "        <td style=\"padding-left: 1em; padding-right: 1em; text-align: center; vertical-align: top\">www.chinabaike.com/articl<br>e/81/82/110/2007/2007 ...</td>\n",
       "        <td style=\"padding-left: 1em; padding-right: 1em; text-align: center; vertical-align: top\">[1, 2]</td>\n",
       "        <td style=\"padding-left: 1em; padding-right: 1em; text-align: center; vertical-align: top\">1</td>\n",
       "    </tr>\n",
       "    <tr>\n",
       "        <td style=\"padding-left: 1em; padding-right: 1em; text-align: center; vertical-align: top\">00:00:00</td>\n",
       "        <td style=\"padding-left: 1em; padding-right: 1em; text-align: center; vertical-align: top\">1797943298449139</td>\n",
       "        <td style=\"padding-left: 1em; padding-right: 1em; text-align: center; vertical-align: top\">星梦缘全集在线观�<br>�� ...</td>\n",
       "        <td style=\"padding-left: 1em; padding-right: 1em; text-align: center; vertical-align: top\">8 5</td>\n",
       "        <td style=\"padding-left: 1em; padding-right: 1em; text-align: center; vertical-align: top\">www.6wei.net/dianshiju/??<br>??\\xa1\\xe9|????do=index ...</td>\n",
       "        <td style=\"padding-left: 1em; padding-right: 1em; text-align: center; vertical-align: top\">[8, 5]</td>\n",
       "        <td style=\"padding-left: 1em; padding-right: 1em; text-align: center; vertical-align: top\">8</td>\n",
       "    </tr>\n",
       "    <tr>\n",
       "        <td style=\"padding-left: 1em; padding-right: 1em; text-align: center; vertical-align: top\">00:00:00</td>\n",
       "        <td style=\"padding-left: 1em; padding-right: 1em; text-align: center; vertical-align: top\">00717725924582846</td>\n",
       "        <td style=\"padding-left: 1em; padding-right: 1em; text-align: center; vertical-align: top\">闪字吧</td>\n",
       "        <td style=\"padding-left: 1em; padding-right: 1em; text-align: center; vertical-align: top\">1 2</td>\n",
       "        <td style=\"padding-left: 1em; padding-right: 1em; text-align: center; vertical-align: top\">www.shanziba.com</td>\n",
       "        <td style=\"padding-left: 1em; padding-right: 1em; text-align: center; vertical-align: top\">[1, 2]</td>\n",
       "        <td style=\"padding-left: 1em; padding-right: 1em; text-align: center; vertical-align: top\">1</td>\n",
       "    </tr>\n",
       "    <tr>\n",
       "        <td style=\"padding-left: 1em; padding-right: 1em; text-align: center; vertical-align: top\">00:00:00</td>\n",
       "        <td style=\"padding-left: 1em; padding-right: 1em; text-align: center; vertical-align: top\">41416219018952116</td>\n",
       "        <td style=\"padding-left: 1em; padding-right: 1em; text-align: center; vertical-align: top\">霍震霆与朱玲玲照�<br>�� ...</td>\n",
       "        <td style=\"padding-left: 1em; padding-right: 1em; text-align: center; vertical-align: top\">2 6</td>\n",
       "        <td style=\"padding-left: 1em; padding-right: 1em; text-align: center; vertical-align: top\">bbs.gouzai.cn/thread-6987<br>36.html ...</td>\n",
       "        <td style=\"padding-left: 1em; padding-right: 1em; text-align: center; vertical-align: top\">[2, 6]</td>\n",
       "        <td style=\"padding-left: 1em; padding-right: 1em; text-align: center; vertical-align: top\">2</td>\n",
       "    </tr>\n",
       "    <tr>\n",
       "        <td style=\"padding-left: 1em; padding-right: 1em; text-align: center; vertical-align: top\">00:00:00</td>\n",
       "        <td style=\"padding-left: 1em; padding-right: 1em; text-align: center; vertical-align: top\">9975666857142764</td>\n",
       "        <td style=\"padding-left: 1em; padding-right: 1em; text-align: center; vertical-align: top\">电脑创业</td>\n",
       "        <td style=\"padding-left: 1em; padding-right: 1em; text-align: center; vertical-align: top\">2 2</td>\n",
       "        <td style=\"padding-left: 1em; padding-right: 1em; text-align: center; vertical-align: top\">ks.cn.yahoo.com/question/<br>1307120203719.html ...</td>\n",
       "        <td style=\"padding-left: 1em; padding-right: 1em; text-align: center; vertical-align: top\">[2, 2]</td>\n",
       "        <td style=\"padding-left: 1em; padding-right: 1em; text-align: center; vertical-align: top\">2</td>\n",
       "    </tr>\n",
       "</table>\n",
       "<table frame=\"box\" rules=\"cols\">\n",
       "    <tr>\n",
       "        <th style=\"padding-left: 1em; padding-right: 1em; text-align: center\">click_rank</th>\n",
       "    </tr>\n",
       "    <tr>\n",
       "        <td style=\"padding-left: 1em; padding-right: 1em; text-align: center; vertical-align: top\">3</td>\n",
       "    </tr>\n",
       "    <tr>\n",
       "        <td style=\"padding-left: 1em; padding-right: 1em; text-align: center; vertical-align: top\">1</td>\n",
       "    </tr>\n",
       "    <tr>\n",
       "        <td style=\"padding-left: 1em; padding-right: 1em; text-align: center; vertical-align: top\">5</td>\n",
       "    </tr>\n",
       "    <tr>\n",
       "        <td style=\"padding-left: 1em; padding-right: 1em; text-align: center; vertical-align: top\">36</td>\n",
       "    </tr>\n",
       "    <tr>\n",
       "        <td style=\"padding-left: 1em; padding-right: 1em; text-align: center; vertical-align: top\">2</td>\n",
       "    </tr>\n",
       "    <tr>\n",
       "        <td style=\"padding-left: 1em; padding-right: 1em; text-align: center; vertical-align: top\">2</td>\n",
       "    </tr>\n",
       "    <tr>\n",
       "        <td style=\"padding-left: 1em; padding-right: 1em; text-align: center; vertical-align: top\">5</td>\n",
       "    </tr>\n",
       "    <tr>\n",
       "        <td style=\"padding-left: 1em; padding-right: 1em; text-align: center; vertical-align: top\">2</td>\n",
       "    </tr>\n",
       "    <tr>\n",
       "        <td style=\"padding-left: 1em; padding-right: 1em; text-align: center; vertical-align: top\">6</td>\n",
       "    </tr>\n",
       "    <tr>\n",
       "        <td style=\"padding-left: 1em; padding-right: 1em; text-align: center; vertical-align: top\">2</td>\n",
       "    </tr>\n",
       "</table>\n",
       "[1724253 rows x 8 columns]<br/>Note: Only the head of the SFrame is printed.<br/>You can use print_rows(num_rows=m, num_columns=n) to print more rows and columns.\n",
       "</div>"
      ],
      "text/plain": [
       "Columns:\n",
       "\t﻿time\tstr\n",
       "\tuser_id\tstr\n",
       "\tquery\tstr\n",
       "\tresult_click\tstr\n",
       "\turl\tstr\n",
       "\tresult_and_click\tlist\n",
       "\tresult_rank\tint\n",
       "\tclick_rank\tint\n",
       "\n",
       "Rows: 1724253\n",
       "\n",
       "Data:\n",
       "+----------+-------------------+--------------------+--------------+\n",
       "|  ﻿time   |      user_id      |       query        | result_click |\n",
       "+----------+-------------------+--------------------+--------------+\n",
       "| 00:00:00 |  2982199073774412 |    360安全卫士     |     8 3      |\n",
       "| 00:00:00 | 07594220010824798 |    哄抢救灾物资    |     1 1      |\n",
       "| 00:00:00 |  5228056822071097 |     75810部队      |     14 5     |\n",
       "| 00:00:00 |  6140463203615646 |        绳艺        |    62 36     |\n",
       "| 00:00:00 |  8561366108033201 |    汶川地震原因    |     3 2      |\n",
       "| 00:00:00 | 23908140386148713 |   莫衷一是的意思   |     1 2      |\n",
       "| 00:00:00 |  1797943298449139 | 星梦缘全集在线观看 |     8 5      |\n",
       "| 00:00:00 | 00717725924582846 |       闪字吧       |     1 2      |\n",
       "| 00:00:00 | 41416219018952116 | 霍震霆与朱玲玲照片 |     2 6      |\n",
       "| 00:00:00 |  9975666857142764 |      电脑创业      |     2 2      |\n",
       "+----------+-------------------+--------------------+--------------+\n",
       "+-------------------------------+------------------+-------------+------------+\n",
       "|              url              | result_and_click | result_rank | click_rank |\n",
       "+-------------------------------+------------------+-------------+------------+\n",
       "| download.it.com.cn/softweb... |      [8, 3]      |      8      |     3      |\n",
       "| news.21cn.com/social/daqia... |      [1, 1]      |      1      |     1      |\n",
       "| www.greatoo.com/greatoo_cn... |     [14, 5]      |      14     |     5      |\n",
       "| www.jd-cd.com/jd_opus/xx/2... |     [62, 36]     |      62     |     36     |\n",
       "|         www.big38.net         |      [3, 2]      |      3      |     2      |\n",
       "| www.chinabaike.com/article... |      [1, 2]      |      1      |     2      |\n",
       "| www.6wei.net/dianshiju/???... |      [8, 5]      |      8      |     5      |\n",
       "|        www.shanziba.com       |      [1, 2]      |      1      |     2      |\n",
       "| bbs.gouzai.cn/thread-69873... |      [2, 6]      |      2      |     6      |\n",
       "| ks.cn.yahoo.com/question/1... |      [2, 2]      |      2      |     2      |\n",
       "+-------------------------------+------------------+-------------+------------+\n",
       "[1724253 rows x 8 columns]\n",
       "Note: Only the head of the SFrame is printed.\n",
       "You can use print_rows(num_rows=m, num_columns=n) to print more rows and columns."
      ]
     },
     "execution_count": 10,
     "metadata": {},
     "output_type": "execute_result"
    }
   ],
   "source": [
    "data"
   ]
  },
  {
   "cell_type": "markdown",
   "metadata": {},
   "source": [
    "#### 3.1.2 Open Directory Project(ODP) 体系"
   ]
  },
  {
   "cell_type": "markdown",
   "metadata": {},
   "source": [
    "<img src='odp.png' align='left'>"
   ]
  },
  {
   "cell_type": "code",
   "execution_count": 11,
   "metadata": {
    "collapsed": false
   },
   "outputs": [
    {
     "data": {
      "text/html": [
       "<pre>Finished parsing file E:\\Python\\2Graduation-Project\\ODP.csv</pre>"
      ],
      "text/plain": [
       "Finished parsing file E:\\Python\\2Graduation-Project\\ODP.csv"
      ]
     },
     "metadata": {},
     "output_type": "display_data"
    },
    {
     "data": {
      "text/html": [
       "<pre>Parsing completed. Parsed 100 lines in 0.171009 secs.</pre>"
      ],
      "text/plain": [
       "Parsing completed. Parsed 100 lines in 0.171009 secs."
      ]
     },
     "metadata": {},
     "output_type": "display_data"
    },
    {
     "name": "stdout",
     "output_type": "stream",
     "text": [
      "------------------------------------------------------\n",
      "Inferred types from first 100 line(s) of file as \n",
      "column_type_hints=[str,str,str,str]\n",
      "If parsing fails due to incorrect types, you can correct\n",
      "the inferred type list above and pass it to read_csv in\n",
      "the column_type_hints argument\n",
      "------------------------------------------------------\n"
     ]
    },
    {
     "data": {
      "text/html": [
       "<pre>Finished parsing file E:\\Python\\2Graduation-Project\\ODP.csv</pre>"
      ],
      "text/plain": [
       "Finished parsing file E:\\Python\\2Graduation-Project\\ODP.csv"
      ]
     },
     "metadata": {},
     "output_type": "display_data"
    },
    {
     "data": {
      "text/html": [
       "<pre>Parsing completed. Parsed 16248 lines in 0.082004 secs.</pre>"
      ],
      "text/plain": [
       "Parsing completed. Parsed 16248 lines in 0.082004 secs."
      ]
     },
     "metadata": {},
     "output_type": "display_data"
    }
   ],
   "source": [
    "odp = graphlab.SFrame.read_csv('ODP.csv', delimiter=',', header=True)"
   ]
  },
  {
   "cell_type": "code",
   "execution_count": 12,
   "metadata": {
    "collapsed": false
   },
   "outputs": [
    {
     "data": {
      "text/html": [
       "<div style=\"max-height:1000px;max-width:1500px;overflow:auto;\"><table frame=\"box\" rules=\"cols\">\n",
       "    <tr>\n",
       "        <th style=\"padding-left: 1em; padding-right: 1em; text-align: center\">url</th>\n",
       "        <th style=\"padding-left: 1em; padding-right: 1em; text-align: center\">name</th>\n",
       "        <th style=\"padding-left: 1em; padding-right: 1em; text-align: center\">label</th>\n",
       "        <th style=\"padding-left: 1em; padding-right: 1em; text-align: center\">url_new</th>\n",
       "    </tr>\n",
       "    <tr>\n",
       "        <td style=\"padding-left: 1em; padding-right: 1em; text-align: center; vertical-align: top\">http://news.jmu.edu.cn/</td>\n",
       "        <td style=\"padding-left: 1em; padding-right: 1em; text-align: center; vertical-align: top\">集美大学新闻网</td>\n",
       "        <td style=\"padding-left: 1em; padding-right: 1em; text-align: center; vertical-align: top\">大专院校</td>\n",
       "        <td style=\"padding-left: 1em; padding-right: 1em; text-align: center; vertical-align: top\">news.jmu.edu.cn/</td>\n",
       "    </tr>\n",
       "    <tr>\n",
       "        <td style=\"padding-left: 1em; padding-right: 1em; text-align: center; vertical-align: top\">http://jjxj.swufe.edu.cn/</td>\n",
       "        <td style=\"padding-left: 1em; padding-right: 1em; text-align: center; vertical-align: top\">经济学家</td>\n",
       "        <td style=\"padding-left: 1em; padding-right: 1em; text-align: center; vertical-align: top\">出版物</td>\n",
       "        <td style=\"padding-left: 1em; padding-right: 1em; text-align: center; vertical-align: top\">jjxj.swufe.edu.cn/</td>\n",
       "    </tr>\n",
       "    <tr>\n",
       "        <td style=\"padding-left: 1em; padding-right: 1em; text-align: center; vertical-align: top\">http://www.jsacd.gov.cn/</td>\n",
       "        <td style=\"padding-left: 1em; padding-right: 1em; text-align: center; vertical-align: top\">江苏省农业资源开�<br>��局 ...</td>\n",
       "        <td style=\"padding-left: 1em; padding-right: 1em; text-align: center; vertical-align: top\">江苏</td>\n",
       "        <td style=\"padding-left: 1em; padding-right: 1em; text-align: center; vertical-align: top\">www.jsacd.gov.cn/</td>\n",
       "    </tr>\n",
       "    <tr>\n",
       "        <td style=\"padding-left: 1em; padding-right: 1em; text-align: center; vertical-align: top\">http://www.yndaily.com/</td>\n",
       "        <td style=\"padding-left: 1em; padding-right: 1em; text-align: center; vertical-align: top\">云南日报网</td>\n",
       "        <td style=\"padding-left: 1em; padding-right: 1em; text-align: center; vertical-align: top\">地区</td>\n",
       "        <td style=\"padding-left: 1em; padding-right: 1em; text-align: center; vertical-align: top\">www.yndaily.com/</td>\n",
       "    </tr>\n",
       "    <tr>\n",
       "        <td style=\"padding-left: 1em; padding-right: 1em; text-align: center; vertical-align: top\">http://www.panda.org.cn/</td>\n",
       "        <td style=\"padding-left: 1em; padding-right: 1em; text-align: center; vertical-align: top\">成都大熊猫繁育研�<br>��基地 ...</td>\n",
       "        <td style=\"padding-left: 1em; padding-right: 1em; text-align: center; vertical-align: top\">熊猫</td>\n",
       "        <td style=\"padding-left: 1em; padding-right: 1em; text-align: center; vertical-align: top\">www.panda.org.cn/</td>\n",
       "    </tr>\n",
       "    <tr>\n",
       "        <td style=\"padding-left: 1em; padding-right: 1em; text-align: center; vertical-align: top\">http://www.fjinfo.gov.cn/</td>\n",
       "        <td style=\"padding-left: 1em; padding-right: 1em; text-align: center; vertical-align: top\">福建科技信息</td>\n",
       "        <td style=\"padding-left: 1em; padding-right: 1em; text-align: center; vertical-align: top\">福建</td>\n",
       "        <td style=\"padding-left: 1em; padding-right: 1em; text-align: center; vertical-align: top\">www.fjinfo.gov.cn/</td>\n",
       "    </tr>\n",
       "    <tr>\n",
       "        <td style=\"padding-left: 1em; padding-right: 1em; text-align: center; vertical-align: top\">http://www.klxuexi.com/</td>\n",
       "        <td style=\"padding-left: 1em; padding-right: 1em; text-align: center; vertical-align: top\">快乐学习教育科技�<br>��团 ...</td>\n",
       "        <td style=\"padding-left: 1em; padding-right: 1em; text-align: center; vertical-align: top\">上海</td>\n",
       "        <td style=\"padding-left: 1em; padding-right: 1em; text-align: center; vertical-align: top\">www.klxuexi.com/</td>\n",
       "    </tr>\n",
       "    <tr>\n",
       "        <td style=\"padding-left: 1em; padding-right: 1em; text-align: center; vertical-align: top\">http://www.haier.com/cn/</td>\n",
       "        <td style=\"padding-left: 1em; padding-right: 1em; text-align: center; vertical-align: top\">海尔集团</td>\n",
       "        <td style=\"padding-left: 1em; padding-right: 1em; text-align: center; vertical-align: top\">消费电子产品</td>\n",
       "        <td style=\"padding-left: 1em; padding-right: 1em; text-align: center; vertical-align: top\">www.haier.com/cn/</td>\n",
       "    </tr>\n",
       "    <tr>\n",
       "        <td style=\"padding-left: 1em; padding-right: 1em; text-align: center; vertical-align: top\">http://www.jstvu.edu.cn/</td>\n",
       "        <td style=\"padding-left: 1em; padding-right: 1em; text-align: center; vertical-align: top\">江苏广播电视大学</td>\n",
       "        <td style=\"padding-left: 1em; padding-right: 1em; text-align: center; vertical-align: top\">江苏</td>\n",
       "        <td style=\"padding-left: 1em; padding-right: 1em; text-align: center; vertical-align: top\">www.jstvu.edu.cn/</td>\n",
       "    </tr>\n",
       "    <tr>\n",
       "        <td style=\"padding-left: 1em; padding-right: 1em; text-align: center; vertical-align: top\">http://www.gxtc.edu.cn/</td>\n",
       "        <td style=\"padding-left: 1em; padding-right: 1em; text-align: center; vertical-align: top\">广西师范学院</td>\n",
       "        <td style=\"padding-left: 1em; padding-right: 1em; text-align: center; vertical-align: top\">大专院校</td>\n",
       "        <td style=\"padding-left: 1em; padding-right: 1em; text-align: center; vertical-align: top\">www.gxtc.edu.cn/</td>\n",
       "    </tr>\n",
       "</table>\n",
       "[10 rows x 4 columns]<br/>\n",
       "</div>"
      ],
      "text/plain": [
       "Columns:\n",
       "\turl\tstr\n",
       "\tname\tstr\n",
       "\tlabel\tstr\n",
       "\turl_new\tstr\n",
       "\n",
       "Rows: 10\n",
       "\n",
       "Data:\n",
       "+---------------------------+---------------------------+--------------+\n",
       "|            url            |            name           |    label     |\n",
       "+---------------------------+---------------------------+--------------+\n",
       "|  http://news.jmu.edu.cn/  |       集美大学新闻网      |   大专院校   |\n",
       "| http://jjxj.swufe.edu.cn/ |          经济学家         |    出版物    |\n",
       "|  http://www.jsacd.gov.cn/ |    江苏省农业资源开发局   |     江苏     |\n",
       "|  http://www.yndaily.com/  |         云南日报网        |     地区     |\n",
       "|  http://www.panda.org.cn/ | 成都大熊猫繁育研究基地... |     熊猫     |\n",
       "| http://www.fjinfo.gov.cn/ |        福建科技信息       |     福建     |\n",
       "|  http://www.klxuexi.com/  |    快乐学习教育科技集团   |     上海     |\n",
       "|  http://www.haier.com/cn/ |          海尔集团         | 消费电子产品 |\n",
       "|  http://www.jstvu.edu.cn/ |      江苏广播电视大学     |     江苏     |\n",
       "|  http://www.gxtc.edu.cn/  |        广西师范学院       |   大专院校   |\n",
       "+---------------------------+---------------------------+--------------+\n",
       "+--------------------+\n",
       "|      url_new       |\n",
       "+--------------------+\n",
       "|  news.jmu.edu.cn/  |\n",
       "| jjxj.swufe.edu.cn/ |\n",
       "| www.jsacd.gov.cn/  |\n",
       "|  www.yndaily.com/  |\n",
       "| www.panda.org.cn/  |\n",
       "| www.fjinfo.gov.cn/ |\n",
       "|  www.klxuexi.com/  |\n",
       "| www.haier.com/cn/  |\n",
       "| www.jstvu.edu.cn/  |\n",
       "|  www.gxtc.edu.cn/  |\n",
       "+--------------------+\n",
       "[10 rows x 4 columns]"
      ]
     },
     "execution_count": 12,
     "metadata": {},
     "output_type": "execute_result"
    }
   ],
   "source": [
    "odp.head()"
   ]
  },
  {
   "cell_type": "code",
   "execution_count": 13,
   "metadata": {
    "collapsed": true
   },
   "outputs": [],
   "source": [
    "def remove_head(url):\n",
    "    return string.replace(url, 'http://', '')"
   ]
  },
  {
   "cell_type": "code",
   "execution_count": 14,
   "metadata": {
    "collapsed": true
   },
   "outputs": [],
   "source": [
    "def remove_tail(url):\n",
    "    if url[-1] == '/':\n",
    "        return url[:-1]\n",
    "    else:\n",
    "        return url[:]"
   ]
  },
  {
   "cell_type": "code",
   "execution_count": 15,
   "metadata": {
    "collapsed": true
   },
   "outputs": [],
   "source": [
    "odp['url_new'] = odp['url'].apply(remove_head).apply(remove_tail)"
   ]
  },
  {
   "cell_type": "code",
   "execution_count": 16,
   "metadata": {
    "collapsed": false
   },
   "outputs": [
    {
     "data": {
      "text/html": [
       "<div style=\"max-height:1000px;max-width:1500px;overflow:auto;\"><table frame=\"box\" rules=\"cols\">\n",
       "    <tr>\n",
       "        <th style=\"padding-left: 1em; padding-right: 1em; text-align: center\">url</th>\n",
       "        <th style=\"padding-left: 1em; padding-right: 1em; text-align: center\">name</th>\n",
       "        <th style=\"padding-left: 1em; padding-right: 1em; text-align: center\">label</th>\n",
       "        <th style=\"padding-left: 1em; padding-right: 1em; text-align: center\">url_new</th>\n",
       "    </tr>\n",
       "    <tr>\n",
       "        <td style=\"padding-left: 1em; padding-right: 1em; text-align: center; vertical-align: top\">http://news.jmu.edu.cn/</td>\n",
       "        <td style=\"padding-left: 1em; padding-right: 1em; text-align: center; vertical-align: top\">集美大学新闻网</td>\n",
       "        <td style=\"padding-left: 1em; padding-right: 1em; text-align: center; vertical-align: top\">大专院校</td>\n",
       "        <td style=\"padding-left: 1em; padding-right: 1em; text-align: center; vertical-align: top\">news.jmu.edu.cn</td>\n",
       "    </tr>\n",
       "    <tr>\n",
       "        <td style=\"padding-left: 1em; padding-right: 1em; text-align: center; vertical-align: top\">http://jjxj.swufe.edu.cn/</td>\n",
       "        <td style=\"padding-left: 1em; padding-right: 1em; text-align: center; vertical-align: top\">经济学家</td>\n",
       "        <td style=\"padding-left: 1em; padding-right: 1em; text-align: center; vertical-align: top\">出版物</td>\n",
       "        <td style=\"padding-left: 1em; padding-right: 1em; text-align: center; vertical-align: top\">jjxj.swufe.edu.cn</td>\n",
       "    </tr>\n",
       "    <tr>\n",
       "        <td style=\"padding-left: 1em; padding-right: 1em; text-align: center; vertical-align: top\">http://www.jsacd.gov.cn/</td>\n",
       "        <td style=\"padding-left: 1em; padding-right: 1em; text-align: center; vertical-align: top\">江苏省农业资源开�<br>��局 ...</td>\n",
       "        <td style=\"padding-left: 1em; padding-right: 1em; text-align: center; vertical-align: top\">江苏</td>\n",
       "        <td style=\"padding-left: 1em; padding-right: 1em; text-align: center; vertical-align: top\">www.jsacd.gov.cn</td>\n",
       "    </tr>\n",
       "    <tr>\n",
       "        <td style=\"padding-left: 1em; padding-right: 1em; text-align: center; vertical-align: top\">http://www.yndaily.com/</td>\n",
       "        <td style=\"padding-left: 1em; padding-right: 1em; text-align: center; vertical-align: top\">云南日报网</td>\n",
       "        <td style=\"padding-left: 1em; padding-right: 1em; text-align: center; vertical-align: top\">地区</td>\n",
       "        <td style=\"padding-left: 1em; padding-right: 1em; text-align: center; vertical-align: top\">www.yndaily.com</td>\n",
       "    </tr>\n",
       "    <tr>\n",
       "        <td style=\"padding-left: 1em; padding-right: 1em; text-align: center; vertical-align: top\">http://www.panda.org.cn/</td>\n",
       "        <td style=\"padding-left: 1em; padding-right: 1em; text-align: center; vertical-align: top\">成都大熊猫繁育研�<br>��基地 ...</td>\n",
       "        <td style=\"padding-left: 1em; padding-right: 1em; text-align: center; vertical-align: top\">熊猫</td>\n",
       "        <td style=\"padding-left: 1em; padding-right: 1em; text-align: center; vertical-align: top\">www.panda.org.cn</td>\n",
       "    </tr>\n",
       "    <tr>\n",
       "        <td style=\"padding-left: 1em; padding-right: 1em; text-align: center; vertical-align: top\">http://www.fjinfo.gov.cn/</td>\n",
       "        <td style=\"padding-left: 1em; padding-right: 1em; text-align: center; vertical-align: top\">福建科技信息</td>\n",
       "        <td style=\"padding-left: 1em; padding-right: 1em; text-align: center; vertical-align: top\">福建</td>\n",
       "        <td style=\"padding-left: 1em; padding-right: 1em; text-align: center; vertical-align: top\">www.fjinfo.gov.cn</td>\n",
       "    </tr>\n",
       "    <tr>\n",
       "        <td style=\"padding-left: 1em; padding-right: 1em; text-align: center; vertical-align: top\">http://www.klxuexi.com/</td>\n",
       "        <td style=\"padding-left: 1em; padding-right: 1em; text-align: center; vertical-align: top\">快乐学习教育科技�<br>��团 ...</td>\n",
       "        <td style=\"padding-left: 1em; padding-right: 1em; text-align: center; vertical-align: top\">上海</td>\n",
       "        <td style=\"padding-left: 1em; padding-right: 1em; text-align: center; vertical-align: top\">www.klxuexi.com</td>\n",
       "    </tr>\n",
       "    <tr>\n",
       "        <td style=\"padding-left: 1em; padding-right: 1em; text-align: center; vertical-align: top\">http://www.haier.com/cn/</td>\n",
       "        <td style=\"padding-left: 1em; padding-right: 1em; text-align: center; vertical-align: top\">海尔集团</td>\n",
       "        <td style=\"padding-left: 1em; padding-right: 1em; text-align: center; vertical-align: top\">消费电子产品</td>\n",
       "        <td style=\"padding-left: 1em; padding-right: 1em; text-align: center; vertical-align: top\">www.haier.com/cn</td>\n",
       "    </tr>\n",
       "    <tr>\n",
       "        <td style=\"padding-left: 1em; padding-right: 1em; text-align: center; vertical-align: top\">http://www.jstvu.edu.cn/</td>\n",
       "        <td style=\"padding-left: 1em; padding-right: 1em; text-align: center; vertical-align: top\">江苏广播电视大学</td>\n",
       "        <td style=\"padding-left: 1em; padding-right: 1em; text-align: center; vertical-align: top\">江苏</td>\n",
       "        <td style=\"padding-left: 1em; padding-right: 1em; text-align: center; vertical-align: top\">www.jstvu.edu.cn</td>\n",
       "    </tr>\n",
       "    <tr>\n",
       "        <td style=\"padding-left: 1em; padding-right: 1em; text-align: center; vertical-align: top\">http://www.gxtc.edu.cn/</td>\n",
       "        <td style=\"padding-left: 1em; padding-right: 1em; text-align: center; vertical-align: top\">广西师范学院</td>\n",
       "        <td style=\"padding-left: 1em; padding-right: 1em; text-align: center; vertical-align: top\">大专院校</td>\n",
       "        <td style=\"padding-left: 1em; padding-right: 1em; text-align: center; vertical-align: top\">www.gxtc.edu.cn</td>\n",
       "    </tr>\n",
       "</table>\n",
       "[10 rows x 4 columns]<br/>\n",
       "</div>"
      ],
      "text/plain": [
       "Columns:\n",
       "\turl\tstr\n",
       "\tname\tstr\n",
       "\tlabel\tstr\n",
       "\turl_new\tstr\n",
       "\n",
       "Rows: 10\n",
       "\n",
       "Data:\n",
       "+---------------------------+---------------------------+--------------+\n",
       "|            url            |            name           |    label     |\n",
       "+---------------------------+---------------------------+--------------+\n",
       "|  http://news.jmu.edu.cn/  |       集美大学新闻网      |   大专院校   |\n",
       "| http://jjxj.swufe.edu.cn/ |          经济学家         |    出版物    |\n",
       "|  http://www.jsacd.gov.cn/ |    江苏省农业资源开发局   |     江苏     |\n",
       "|  http://www.yndaily.com/  |         云南日报网        |     地区     |\n",
       "|  http://www.panda.org.cn/ | 成都大熊猫繁育研究基地... |     熊猫     |\n",
       "| http://www.fjinfo.gov.cn/ |        福建科技信息       |     福建     |\n",
       "|  http://www.klxuexi.com/  |    快乐学习教育科技集团   |     上海     |\n",
       "|  http://www.haier.com/cn/ |          海尔集团         | 消费电子产品 |\n",
       "|  http://www.jstvu.edu.cn/ |      江苏广播电视大学     |     江苏     |\n",
       "|  http://www.gxtc.edu.cn/  |        广西师范学院       |   大专院校   |\n",
       "+---------------------------+---------------------------+--------------+\n",
       "+-------------------+\n",
       "|      url_new      |\n",
       "+-------------------+\n",
       "|  news.jmu.edu.cn  |\n",
       "| jjxj.swufe.edu.cn |\n",
       "|  www.jsacd.gov.cn |\n",
       "|  www.yndaily.com  |\n",
       "|  www.panda.org.cn |\n",
       "| www.fjinfo.gov.cn |\n",
       "|  www.klxuexi.com  |\n",
       "|  www.haier.com/cn |\n",
       "|  www.jstvu.edu.cn |\n",
       "|  www.gxtc.edu.cn  |\n",
       "+-------------------+\n",
       "[10 rows x 4 columns]"
      ]
     },
     "execution_count": 16,
     "metadata": {},
     "output_type": "execute_result"
    }
   ],
   "source": [
    "odp.head()"
   ]
  },
  {
   "cell_type": "markdown",
   "metadata": {},
   "source": [
    "### 3.2 构建新的类目体系以标注查询日志数据"
   ]
  },
  {
   "cell_type": "markdown",
   "metadata": {},
   "source": [
    "#### 3.2.1 将ODP主题类目体系映射到Rose类目体系"
   ]
  },
  {
   "cell_type": "markdown",
   "metadata": {},
   "source": [
    "* Rose类目体系"
   ]
  },
  {
   "cell_type": "markdown",
   "metadata": {},
   "source": [
    "<img src='rose.png' align='left'>"
   ]
  },
  {
   "cell_type": "markdown",
   "metadata": {},
   "source": [
    "&nbsp;&nbsp;&nbsp;&nbsp;&nbsp;&nbsp;&nbsp;通过对Rose分类体系的分析，本文将ODP主题类目体系映射到Rose类目体系的三大类即*信息类* 、*资源类* 和*导航类* 中，主要是*信息类* 和*导航类*。然后对查询日志数据进行标注。"
   ]
  },
  {
   "cell_type": "markdown",
   "metadata": {},
   "source": [
    "* **导航类**：本文将日志数据中url仅能匹配到web服务器名称的标记为导航类。如：www.nefu.edu.cn\n",
    "* **资源类**：本文首先利用启发式的方法，把日志数据中url能匹配到download/game/music/movie/book等字符的标记为资源类。然后利用上述的分析，人工筛选出ODP中属于资源类的url，构建资源类url库*resource*，当日志数据中的url可以匹配到*resource*时，标记为资源类。例如：ODP中的购物类、游戏类等都属于资源类。\n",
    "* **信息类**：将其他不属于以上两类的标注为信息类。"
   ]
  },
  {
   "cell_type": "code",
   "execution_count": 17,
   "metadata": {
    "collapsed": true
   },
   "outputs": [],
   "source": [
    "r = ['二手货','交通工具','休闲','体育用品','健康饮食','健康器材','在线销售','化妆美容','出版物','办公用品','化妆美容','古董与收藏','图书',\\\n",
    "     '婴幼儿用品','宠物','家具','家居与园艺','批发','日用商品','服装饰品','消费电子产品','图书','玩具与游戏','杂志','音像制品','化妆品',\\\n",
    "     '珠宝首饰','礼品','视觉艺术','计算机','食品','鲜花','精油香氛','分类','拍卖','目录','大学出版社','家具','家居装饰','电器','体育用品',\\\n",
    "    '乒乓球','渔具','飞镖','家具','文具','办公室服务','购物','批发与分销','烟草','机动车','珠宝首饰','眼镜','行李与包','食品','女装','童装',\\\n",
    "     '鞋帽','饰品','电子通讯','数字卡','虚拟物品交易','摄影','画','饮料','茶','葡萄酒',\\\n",
    "    '卡牌游戏','投币式游戏','棋类游戏','牌类游戏','电子游戏','电脑游戏','益智游戏','网络游戏','角色扮演','赌博',\\\n",
    "        '中国象棋','军棋','围棋','国际象棋','连珠','黑白棋','组织','休闲','体育','冒险','动作','射击','格斗','模拟','益智','策略','网络游戏',\\\n",
    "        '角色扮演','赛车','音乐与舞蹈','射击','格斗','网页游戏','魔兽争霸','魔兽世界','大型多人在线','网页游戏','角色扮演',\\\n",
    "       '网络泥巴','角色扮演','冒险岛','天龙八部','永恒之塔','魔兽世界','手持平台','游戏机平台','网页游戏','计算机平台','手机','新闻与评论',\\\n",
    "        '世嘉','任天堂','微软','索尼','下载','下载','会议展览','作弊与攻略','家族与公会','开发商与发布商','新闻与评论',\\\n",
    "        '电子竞技','聊天与论坛','麻将','体育','彩票','赌场']"
   ]
  },
  {
   "cell_type": "code",
   "execution_count": 18,
   "metadata": {
    "collapsed": true
   },
   "outputs": [],
   "source": [
    "f = open('resource_show.csv', 'a')"
   ]
  },
  {
   "cell_type": "code",
   "execution_count": 19,
   "metadata": {
    "collapsed": true
   },
   "outputs": [],
   "source": [
    "for i in r:\n",
    "    for url in odp[odp['label'] == i]['url_new']:\n",
    "        f.writelines(url+'\\n')\n",
    "f.close()"
   ]
  },
  {
   "cell_type": "code",
   "execution_count": 20,
   "metadata": {
    "collapsed": false
   },
   "outputs": [
    {
     "data": {
      "text/html": [
       "<pre>Finished parsing file E:\\Python\\2Graduation-Project\\resource_show.csv</pre>"
      ],
      "text/plain": [
       "Finished parsing file E:\\Python\\2Graduation-Project\\resource_show.csv"
      ]
     },
     "metadata": {},
     "output_type": "display_data"
    },
    {
     "name": "stdout",
     "output_type": "stream",
     "text": [
      "------------------------------------------------------"
     ]
    },
    {
     "data": {
      "text/html": [
       "<pre>Parsing completed. Parsed 100 lines in 0.029001 secs.</pre>"
      ],
      "text/plain": [
       "Parsing completed. Parsed 100 lines in 0.029001 secs."
      ]
     },
     "metadata": {},
     "output_type": "display_data"
    },
    {
     "name": "stdout",
     "output_type": "stream",
     "text": [
      "\n",
      "Inferred types from first 100 line(s) of file as \n",
      "column_type_hints=[str]\n",
      "If parsing fails due to incorrect types, you can correct\n",
      "the inferred type list above and pass it to read_csv in\n",
      "the column_type_hints argument\n",
      "------------------------------------------------------\n"
     ]
    },
    {
     "data": {
      "text/html": [
       "<pre>Finished parsing file E:\\Python\\2Graduation-Project\\resource_show.csv</pre>"
      ],
      "text/plain": [
       "Finished parsing file E:\\Python\\2Graduation-Project\\resource_show.csv"
      ]
     },
     "metadata": {},
     "output_type": "display_data"
    },
    {
     "data": {
      "text/html": [
       "<pre>Parsing completed. Parsed 4045 lines in 0.024002 secs.</pre>"
      ],
      "text/plain": [
       "Parsing completed. Parsed 4045 lines in 0.024002 secs."
      ]
     },
     "metadata": {},
     "output_type": "display_data"
    }
   ],
   "source": [
    "resource = graphlab.SFrame.read_csv('resource_show.csv',header=False)"
   ]
  },
  {
   "cell_type": "code",
   "execution_count": 21,
   "metadata": {
    "collapsed": true
   },
   "outputs": [],
   "source": [
    "resource.unique().save('resource_show.csv')"
   ]
  },
  {
   "cell_type": "code",
   "execution_count": 22,
   "metadata": {
    "collapsed": false
   },
   "outputs": [
    {
     "data": {
      "text/html": [
       "<pre>Finished parsing file E:\\Python\\2Graduation-Project\\resource_show.csv</pre>"
      ],
      "text/plain": [
       "Finished parsing file E:\\Python\\2Graduation-Project\\resource_show.csv"
      ]
     },
     "metadata": {},
     "output_type": "display_data"
    },
    {
     "name": "stdout",
     "output_type": "stream",
     "text": [
      "------------------------------------------------------\n",
      "Inferred types from first 100 line(s) of file as \n",
      "column_type_hints=[str]\n",
      "If parsing fails due to incorrect types, you can correct\n",
      "the inferred type list above and pass it to read_csv in\n",
      "the column_type_hints argument"
     ]
    },
    {
     "data": {
      "text/html": [
       "<pre>Parsing completed. Parsed 100 lines in 0.025001 secs.</pre>"
      ],
      "text/plain": [
       "Parsing completed. Parsed 100 lines in 0.025001 secs."
      ]
     },
     "metadata": {},
     "output_type": "display_data"
    },
    {
     "name": "stdout",
     "output_type": "stream",
     "text": [
      "\n",
      "------------------------------------------------------\n"
     ]
    },
    {
     "data": {
      "text/html": [
       "<pre>Finished parsing file E:\\Python\\2Graduation-Project\\resource_show.csv</pre>"
      ],
      "text/plain": [
       "Finished parsing file E:\\Python\\2Graduation-Project\\resource_show.csv"
      ]
     },
     "metadata": {},
     "output_type": "display_data"
    },
    {
     "data": {
      "text/html": [
       "<pre>Parsing completed. Parsed 1604 lines in 0.036003 secs.</pre>"
      ],
      "text/plain": [
       "Parsing completed. Parsed 1604 lines in 0.036003 secs."
      ]
     },
     "metadata": {},
     "output_type": "display_data"
    }
   ],
   "source": [
    "resource = graphlab.SFrame.read_csv('resource_show.csv',header=False)"
   ]
  },
  {
   "cell_type": "code",
   "execution_count": 23,
   "metadata": {
    "collapsed": false
   },
   "outputs": [
    {
     "data": {
      "text/html": [
       "<div style=\"max-height:1000px;max-width:1500px;overflow:auto;\"><table frame=\"box\" rules=\"cols\">\n",
       "    <tr>\n",
       "        <th style=\"padding-left: 1em; padding-right: 1em; text-align: center\">X1</th>\n",
       "    </tr>\n",
       "    <tr>\n",
       "        <td style=\"padding-left: 1em; padding-right: 1em; text-align: center; vertical-align: top\">X1</td>\n",
       "    </tr>\n",
       "    <tr>\n",
       "        <td style=\"padding-left: 1em; padding-right: 1em; text-align: center; vertical-align: top\">wow.uuu9.com/immtc</td>\n",
       "    </tr>\n",
       "    <tr>\n",
       "        <td style=\"padding-left: 1em; padding-right: 1em; text-align: center; vertical-align: top\">www.bmw-motorsport.com.cn</td>\n",
       "    </tr>\n",
       "    <tr>\n",
       "        <td style=\"padding-left: 1em; padding-right: 1em; text-align: center; vertical-align: top\">zh.wikipedia.org/zh-<br>cn/Xbox ...</td>\n",
       "    </tr>\n",
       "    <tr>\n",
       "        <td style=\"padding-left: 1em; padding-right: 1em; text-align: center; vertical-align: top\">www.zglyyx.com</td>\n",
       "    </tr>\n",
       "    <tr>\n",
       "        <td style=\"padding-left: 1em; padding-right: 1em; text-align: center; vertical-align: top\">www.csapa.org</td>\n",
       "    </tr>\n",
       "    <tr>\n",
       "        <td style=\"padding-left: 1em; padding-right: 1em; text-align: center; vertical-align: top\">app.hicloud.com</td>\n",
       "    </tr>\n",
       "    <tr>\n",
       "        <td style=\"padding-left: 1em; padding-right: 1em; text-align: center; vertical-align: top\">www.e800.com.cn</td>\n",
       "    </tr>\n",
       "    <tr>\n",
       "        <td style=\"padding-left: 1em; padding-right: 1em; text-align: center; vertical-align: top\">d3.178.com</td>\n",
       "    </tr>\n",
       "    <tr>\n",
       "        <td style=\"padding-left: 1em; padding-right: 1em; text-align: center; vertical-align: top\">sports.sohu.com/weiqi.sht<br>ml ...</td>\n",
       "    </tr>\n",
       "</table>\n",
       "[10 rows x 1 columns]<br/>\n",
       "</div>"
      ],
      "text/plain": [
       "Columns:\n",
       "\tX1\tstr\n",
       "\n",
       "Rows: 10\n",
       "\n",
       "Data:\n",
       "+-----------------------------+\n",
       "|              X1             |\n",
       "+-----------------------------+\n",
       "|              X1             |\n",
       "|      wow.uuu9.com/immtc     |\n",
       "|  www.bmw-motorsport.com.cn  |\n",
       "| zh.wikipedia.org/zh-cn/Xbox |\n",
       "|        www.zglyyx.com       |\n",
       "|        www.csapa.org        |\n",
       "|       app.hicloud.com       |\n",
       "|       www.e800.com.cn       |\n",
       "|          d3.178.com         |\n",
       "| sports.sohu.com/weiqi.shtml |\n",
       "+-----------------------------+\n",
       "[10 rows x 1 columns]"
      ]
     },
     "execution_count": 23,
     "metadata": {},
     "output_type": "execute_result"
    }
   ],
   "source": [
    "resource.head()"
   ]
  },
  {
   "cell_type": "markdown",
   "metadata": {},
   "source": [
    "#### 3.2.2 对查询日志数据进行标注"
   ]
  },
  {
   "cell_type": "markdown",
   "metadata": {},
   "source": [
    "标注资源类数据的方法"
   ]
  },
  {
   "cell_type": "code",
   "execution_count": 24,
   "metadata": {
    "collapsed": true
   },
   "outputs": [],
   "source": [
    "def label_resource(row, resource):\n",
    "    for url_i in resource['X1']:\n",
    "        if row['url'].find(url_i) != -1:\n",
    "            return True\n",
    "    return False"
   ]
  },
  {
   "cell_type": "markdown",
   "metadata": {},
   "source": [
    "对整个数据集进行标注的方法"
   ]
  },
  {
   "cell_type": "code",
   "execution_count": 25,
   "metadata": {
    "collapsed": true
   },
   "outputs": [],
   "source": [
    "def log_label(row, resource):\n",
    "    if re.match(r'www(.*?)\\b(com|cn|org|net|gov|xin|red|pub|ink|info|xyz|win|edu|mil|tv|TV|mobi|travel|name|aero|museum|pro|biz|coop|aero)\\b$',\\\n",
    "                row['url']):\n",
    "        return 'Navigation'\n",
    "    elif label_resource(row, resource):\n",
    "        return 'Resource'\n",
    "    else:\n",
    "        return 'Information'"
   ]
  },
  {
   "cell_type": "code",
   "execution_count": 26,
   "metadata": {
    "collapsed": false
   },
   "outputs": [],
   "source": [
    "data['label'] = data.apply(lambda x: log_label(x, resource))"
   ]
  },
  {
   "cell_type": "code",
   "execution_count": 27,
   "metadata": {
    "collapsed": false
   },
   "outputs": [],
   "source": [
    "#data['label'].show()"
   ]
  },
  {
   "cell_type": "markdown",
   "metadata": {},
   "source": [
    "### 3.3 利用NLP技术提取特征"
   ]
  },
  {
   "cell_type": "markdown",
   "metadata": {},
   "source": [
    "&nbsp;&nbsp;&nbsp;&nbsp;&nbsp;&nbsp;&nbsp;本文主要利用NLP技术来提取Query中的特征，包括：分词、词性统计等特征。结合点击排序特征和结果排序特征共同作为查询意图识别的特征。"
   ]
  },
  {
   "cell_type": "code",
   "execution_count": 28,
   "metadata": {
    "collapsed": true
   },
   "outputs": [],
   "source": [
    "def cut(query):\n",
    "    flag_cut = ''\n",
    "    temp = pseg.cut(query)\n",
    "    for word, flag in temp:\n",
    "        flag_cut = flag_cut + ' ' + flag\n",
    "    return flag_cut"
   ]
  },
  {
   "cell_type": "code",
   "execution_count": 29,
   "metadata": {
    "collapsed": false
   },
   "outputs": [
    {
     "name": "stderr",
     "output_type": "stream",
     "text": [
      "Building prefix dict from the default dictionary ...\n",
      "2016-05-07 17:52:07,730 [DEBUG] jieba, 111: Building prefix dict from the default dictionary ...\n",
      "Loading model from cache c:\\users\\heguoxiu\\appdata\\local\\temp\\jieba.cache\n",
      "2016-05-07 17:52:07,733 [DEBUG] jieba, 131: Loading model from cache c:\\users\\heguoxiu\\appdata\\local\\temp\\jieba.cache\n",
      "Loading model cost 1.660 seconds.\n",
      "2016-05-07 17:52:09,392 [DEBUG] jieba, 163: Loading model cost 1.660 seconds.\n",
      "Prefix dict has been built succesfully.\n",
      "2016-05-07 17:52:09,400 [DEBUG] jieba, 164: Prefix dict has been built succesfully.\n"
     ]
    }
   ],
   "source": [
    "data['flag_cut'] = data['query'].apply(cut)"
   ]
  },
  {
   "cell_type": "code",
   "execution_count": 30,
   "metadata": {
    "collapsed": true
   },
   "outputs": [],
   "source": [
    "def search_cut(query):\n",
    "    query_search_cut = ''\n",
    "    temp = jieba.cut_for_search(query)\n",
    "    for word in temp:\n",
    "        query_search_cut = query_search_cut + ' ' + word \n",
    "    return query_search_cut"
   ]
  },
  {
   "cell_type": "code",
   "execution_count": 31,
   "metadata": {
    "collapsed": true
   },
   "outputs": [],
   "source": [
    "data['query_search_cut'] = data['query'].apply(search_cut)"
   ]
  },
  {
   "cell_type": "code",
   "execution_count": 32,
   "metadata": {
    "collapsed": false
   },
   "outputs": [
    {
     "data": {
      "text/html": [
       "<div style=\"max-height:1000px;max-width:1500px;overflow:auto;\"><table frame=\"box\" rules=\"cols\">\n",
       "    <tr>\n",
       "        <th style=\"padding-left: 1em; padding-right: 1em; text-align: center\">﻿time</th>\n",
       "        <th style=\"padding-left: 1em; padding-right: 1em; text-align: center\">user_id</th>\n",
       "        <th style=\"padding-left: 1em; padding-right: 1em; text-align: center\">query</th>\n",
       "        <th style=\"padding-left: 1em; padding-right: 1em; text-align: center\">result_click</th>\n",
       "        <th style=\"padding-left: 1em; padding-right: 1em; text-align: center\">url</th>\n",
       "        <th style=\"padding-left: 1em; padding-right: 1em; text-align: center\">result_and_click</th>\n",
       "        <th style=\"padding-left: 1em; padding-right: 1em; text-align: center\">result_rank</th>\n",
       "    </tr>\n",
       "    <tr>\n",
       "        <td style=\"padding-left: 1em; padding-right: 1em; text-align: center; vertical-align: top\">00:00:00</td>\n",
       "        <td style=\"padding-left: 1em; padding-right: 1em; text-align: center; vertical-align: top\">2982199073774412</td>\n",
       "        <td style=\"padding-left: 1em; padding-right: 1em; text-align: center; vertical-align: top\">360安全卫士</td>\n",
       "        <td style=\"padding-left: 1em; padding-right: 1em; text-align: center; vertical-align: top\">8 3</td>\n",
       "        <td style=\"padding-left: 1em; padding-right: 1em; text-align: center; vertical-align: top\">download.it.com.cn/softwe<br>b/software/firewall/a ...</td>\n",
       "        <td style=\"padding-left: 1em; padding-right: 1em; text-align: center; vertical-align: top\">[8, 3]</td>\n",
       "        <td style=\"padding-left: 1em; padding-right: 1em; text-align: center; vertical-align: top\">8</td>\n",
       "    </tr>\n",
       "    <tr>\n",
       "        <td style=\"padding-left: 1em; padding-right: 1em; text-align: center; vertical-align: top\">00:00:00</td>\n",
       "        <td style=\"padding-left: 1em; padding-right: 1em; text-align: center; vertical-align: top\">07594220010824798</td>\n",
       "        <td style=\"padding-left: 1em; padding-right: 1em; text-align: center; vertical-align: top\">哄抢救灾物资</td>\n",
       "        <td style=\"padding-left: 1em; padding-right: 1em; text-align: center; vertical-align: top\">1 1</td>\n",
       "        <td style=\"padding-left: 1em; padding-right: 1em; text-align: center; vertical-align: top\">news.21cn.com/social/daqi<br>an/2008/05/29/4777194 ...</td>\n",
       "        <td style=\"padding-left: 1em; padding-right: 1em; text-align: center; vertical-align: top\">[1, 1]</td>\n",
       "        <td style=\"padding-left: 1em; padding-right: 1em; text-align: center; vertical-align: top\">1</td>\n",
       "    </tr>\n",
       "    <tr>\n",
       "        <td style=\"padding-left: 1em; padding-right: 1em; text-align: center; vertical-align: top\">00:00:00</td>\n",
       "        <td style=\"padding-left: 1em; padding-right: 1em; text-align: center; vertical-align: top\">5228056822071097</td>\n",
       "        <td style=\"padding-left: 1em; padding-right: 1em; text-align: center; vertical-align: top\">75810部队</td>\n",
       "        <td style=\"padding-left: 1em; padding-right: 1em; text-align: center; vertical-align: top\">14 5</td>\n",
       "        <td style=\"padding-left: 1em; padding-right: 1em; text-align: center; vertical-align: top\">www.greatoo.com/greatoo_c<br>n/list.asp?link_id=27 ...</td>\n",
       "        <td style=\"padding-left: 1em; padding-right: 1em; text-align: center; vertical-align: top\">[14, 5]</td>\n",
       "        <td style=\"padding-left: 1em; padding-right: 1em; text-align: center; vertical-align: top\">14</td>\n",
       "    </tr>\n",
       "    <tr>\n",
       "        <td style=\"padding-left: 1em; padding-right: 1em; text-align: center; vertical-align: top\">00:00:00</td>\n",
       "        <td style=\"padding-left: 1em; padding-right: 1em; text-align: center; vertical-align: top\">6140463203615646</td>\n",
       "        <td style=\"padding-left: 1em; padding-right: 1em; text-align: center; vertical-align: top\">绳艺</td>\n",
       "        <td style=\"padding-left: 1em; padding-right: 1em; text-align: center; vertical-align: top\">62 36</td>\n",
       "        <td style=\"padding-left: 1em; padding-right: 1em; text-align: center; vertical-align: top\">www.jd-cd.com/jd_opus/xx/<br>200607/706.html ...</td>\n",
       "        <td style=\"padding-left: 1em; padding-right: 1em; text-align: center; vertical-align: top\">[62, 36]</td>\n",
       "        <td style=\"padding-left: 1em; padding-right: 1em; text-align: center; vertical-align: top\">62</td>\n",
       "    </tr>\n",
       "    <tr>\n",
       "        <td style=\"padding-left: 1em; padding-right: 1em; text-align: center; vertical-align: top\">00:00:00</td>\n",
       "        <td style=\"padding-left: 1em; padding-right: 1em; text-align: center; vertical-align: top\">8561366108033201</td>\n",
       "        <td style=\"padding-left: 1em; padding-right: 1em; text-align: center; vertical-align: top\">汶川地震原因</td>\n",
       "        <td style=\"padding-left: 1em; padding-right: 1em; text-align: center; vertical-align: top\">3 2</td>\n",
       "        <td style=\"padding-left: 1em; padding-right: 1em; text-align: center; vertical-align: top\">www.big38.net</td>\n",
       "        <td style=\"padding-left: 1em; padding-right: 1em; text-align: center; vertical-align: top\">[3, 2]</td>\n",
       "        <td style=\"padding-left: 1em; padding-right: 1em; text-align: center; vertical-align: top\">3</td>\n",
       "    </tr>\n",
       "    <tr>\n",
       "        <td style=\"padding-left: 1em; padding-right: 1em; text-align: center; vertical-align: top\">00:00:00</td>\n",
       "        <td style=\"padding-left: 1em; padding-right: 1em; text-align: center; vertical-align: top\">23908140386148713</td>\n",
       "        <td style=\"padding-left: 1em; padding-right: 1em; text-align: center; vertical-align: top\">莫衷一是的意思</td>\n",
       "        <td style=\"padding-left: 1em; padding-right: 1em; text-align: center; vertical-align: top\">1 2</td>\n",
       "        <td style=\"padding-left: 1em; padding-right: 1em; text-align: center; vertical-align: top\">www.chinabaike.com/articl<br>e/81/82/110/2007/2007 ...</td>\n",
       "        <td style=\"padding-left: 1em; padding-right: 1em; text-align: center; vertical-align: top\">[1, 2]</td>\n",
       "        <td style=\"padding-left: 1em; padding-right: 1em; text-align: center; vertical-align: top\">1</td>\n",
       "    </tr>\n",
       "    <tr>\n",
       "        <td style=\"padding-left: 1em; padding-right: 1em; text-align: center; vertical-align: top\">00:00:00</td>\n",
       "        <td style=\"padding-left: 1em; padding-right: 1em; text-align: center; vertical-align: top\">1797943298449139</td>\n",
       "        <td style=\"padding-left: 1em; padding-right: 1em; text-align: center; vertical-align: top\">星梦缘全集在线观�<br>�� ...</td>\n",
       "        <td style=\"padding-left: 1em; padding-right: 1em; text-align: center; vertical-align: top\">8 5</td>\n",
       "        <td style=\"padding-left: 1em; padding-right: 1em; text-align: center; vertical-align: top\">www.6wei.net/dianshiju/??<br>??\\xa1\\xe9|????do=index ...</td>\n",
       "        <td style=\"padding-left: 1em; padding-right: 1em; text-align: center; vertical-align: top\">[8, 5]</td>\n",
       "        <td style=\"padding-left: 1em; padding-right: 1em; text-align: center; vertical-align: top\">8</td>\n",
       "    </tr>\n",
       "    <tr>\n",
       "        <td style=\"padding-left: 1em; padding-right: 1em; text-align: center; vertical-align: top\">00:00:00</td>\n",
       "        <td style=\"padding-left: 1em; padding-right: 1em; text-align: center; vertical-align: top\">00717725924582846</td>\n",
       "        <td style=\"padding-left: 1em; padding-right: 1em; text-align: center; vertical-align: top\">闪字吧</td>\n",
       "        <td style=\"padding-left: 1em; padding-right: 1em; text-align: center; vertical-align: top\">1 2</td>\n",
       "        <td style=\"padding-left: 1em; padding-right: 1em; text-align: center; vertical-align: top\">www.shanziba.com</td>\n",
       "        <td style=\"padding-left: 1em; padding-right: 1em; text-align: center; vertical-align: top\">[1, 2]</td>\n",
       "        <td style=\"padding-left: 1em; padding-right: 1em; text-align: center; vertical-align: top\">1</td>\n",
       "    </tr>\n",
       "    <tr>\n",
       "        <td style=\"padding-left: 1em; padding-right: 1em; text-align: center; vertical-align: top\">00:00:00</td>\n",
       "        <td style=\"padding-left: 1em; padding-right: 1em; text-align: center; vertical-align: top\">41416219018952116</td>\n",
       "        <td style=\"padding-left: 1em; padding-right: 1em; text-align: center; vertical-align: top\">霍震霆与朱玲玲照�<br>�� ...</td>\n",
       "        <td style=\"padding-left: 1em; padding-right: 1em; text-align: center; vertical-align: top\">2 6</td>\n",
       "        <td style=\"padding-left: 1em; padding-right: 1em; text-align: center; vertical-align: top\">bbs.gouzai.cn/thread-6987<br>36.html ...</td>\n",
       "        <td style=\"padding-left: 1em; padding-right: 1em; text-align: center; vertical-align: top\">[2, 6]</td>\n",
       "        <td style=\"padding-left: 1em; padding-right: 1em; text-align: center; vertical-align: top\">2</td>\n",
       "    </tr>\n",
       "    <tr>\n",
       "        <td style=\"padding-left: 1em; padding-right: 1em; text-align: center; vertical-align: top\">00:00:00</td>\n",
       "        <td style=\"padding-left: 1em; padding-right: 1em; text-align: center; vertical-align: top\">9975666857142764</td>\n",
       "        <td style=\"padding-left: 1em; padding-right: 1em; text-align: center; vertical-align: top\">电脑创业</td>\n",
       "        <td style=\"padding-left: 1em; padding-right: 1em; text-align: center; vertical-align: top\">2 2</td>\n",
       "        <td style=\"padding-left: 1em; padding-right: 1em; text-align: center; vertical-align: top\">ks.cn.yahoo.com/question/<br>1307120203719.html ...</td>\n",
       "        <td style=\"padding-left: 1em; padding-right: 1em; text-align: center; vertical-align: top\">[2, 2]</td>\n",
       "        <td style=\"padding-left: 1em; padding-right: 1em; text-align: center; vertical-align: top\">2</td>\n",
       "    </tr>\n",
       "</table>\n",
       "<table frame=\"box\" rules=\"cols\">\n",
       "    <tr>\n",
       "        <th style=\"padding-left: 1em; padding-right: 1em; text-align: center\">click_rank</th>\n",
       "        <th style=\"padding-left: 1em; padding-right: 1em; text-align: center\">label</th>\n",
       "        <th style=\"padding-left: 1em; padding-right: 1em; text-align: center\">flag_cut</th>\n",
       "        <th style=\"padding-left: 1em; padding-right: 1em; text-align: center\">query_search_cut</th>\n",
       "    </tr>\n",
       "    <tr>\n",
       "        <td style=\"padding-left: 1em; padding-right: 1em; text-align: center; vertical-align: top\">3</td>\n",
       "        <td style=\"padding-left: 1em; padding-right: 1em; text-align: center; vertical-align: top\">Information</td>\n",
       "        <td style=\"padding-left: 1em; padding-right: 1em; text-align: center; vertical-align: top\"> m nz</td>\n",
       "        <td style=\"padding-left: 1em; padding-right: 1em; text-align: center; vertical-align: top\"> 360 安全 卫士<br>安全卫士 ...</td>\n",
       "    </tr>\n",
       "    <tr>\n",
       "        <td style=\"padding-left: 1em; padding-right: 1em; text-align: center; vertical-align: top\">1</td>\n",
       "        <td style=\"padding-left: 1em; padding-right: 1em; text-align: center; vertical-align: top\">Information</td>\n",
       "        <td style=\"padding-left: 1em; padding-right: 1em; text-align: center; vertical-align: top\"> v l</td>\n",
       "        <td style=\"padding-left: 1em; padding-right: 1em; text-align: center; vertical-align: top\"> 哄抢 救灾 物资<br>救灾物资 ...</td>\n",
       "    </tr>\n",
       "    <tr>\n",
       "        <td style=\"padding-left: 1em; padding-right: 1em; text-align: center; vertical-align: top\">5</td>\n",
       "        <td style=\"padding-left: 1em; padding-right: 1em; text-align: center; vertical-align: top\">Information</td>\n",
       "        <td style=\"padding-left: 1em; padding-right: 1em; text-align: center; vertical-align: top\"> m n</td>\n",
       "        <td style=\"padding-left: 1em; padding-right: 1em; text-align: center; vertical-align: top\"> 75810 部队</td>\n",
       "    </tr>\n",
       "    <tr>\n",
       "        <td style=\"padding-left: 1em; padding-right: 1em; text-align: center; vertical-align: top\">36</td>\n",
       "        <td style=\"padding-left: 1em; padding-right: 1em; text-align: center; vertical-align: top\">Information</td>\n",
       "        <td style=\"padding-left: 1em; padding-right: 1em; text-align: center; vertical-align: top\"> n</td>\n",
       "        <td style=\"padding-left: 1em; padding-right: 1em; text-align: center; vertical-align: top\"> 绳艺</td>\n",
       "    </tr>\n",
       "    <tr>\n",
       "        <td style=\"padding-left: 1em; padding-right: 1em; text-align: center; vertical-align: top\">2</td>\n",
       "        <td style=\"padding-left: 1em; padding-right: 1em; text-align: center; vertical-align: top\">Navigation</td>\n",
       "        <td style=\"padding-left: 1em; padding-right: 1em; text-align: center; vertical-align: top\"> ns n n</td>\n",
       "        <td style=\"padding-left: 1em; padding-right: 1em; text-align: center; vertical-align: top\"> 汶川 地震 原因</td>\n",
       "    </tr>\n",
       "    <tr>\n",
       "        <td style=\"padding-left: 1em; padding-right: 1em; text-align: center; vertical-align: top\">2</td>\n",
       "        <td style=\"padding-left: 1em; padding-right: 1em; text-align: center; vertical-align: top\">Information</td>\n",
       "        <td style=\"padding-left: 1em; padding-right: 1em; text-align: center; vertical-align: top\"> i uj n</td>\n",
       "        <td style=\"padding-left: 1em; padding-right: 1em; text-align: center; vertical-align: top\"> 莫衷一是 的 意思</td>\n",
       "    </tr>\n",
       "    <tr>\n",
       "        <td style=\"padding-left: 1em; padding-right: 1em; text-align: center; vertical-align: top\">5</td>\n",
       "        <td style=\"padding-left: 1em; padding-right: 1em; text-align: center; vertical-align: top\">Information</td>\n",
       "        <td style=\"padding-left: 1em; padding-right: 1em; text-align: center; vertical-align: top\"> nr n b v</td>\n",
       "        <td style=\"padding-left: 1em; padding-right: 1em; text-align: center; vertical-align: top\"> 星梦 星梦缘 全集<br>在线 观看 ...</td>\n",
       "    </tr>\n",
       "    <tr>\n",
       "        <td style=\"padding-left: 1em; padding-right: 1em; text-align: center; vertical-align: top\">2</td>\n",
       "        <td style=\"padding-left: 1em; padding-right: 1em; text-align: center; vertical-align: top\">Navigation</td>\n",
       "        <td style=\"padding-left: 1em; padding-right: 1em; text-align: center; vertical-align: top\"> n y</td>\n",
       "        <td style=\"padding-left: 1em; padding-right: 1em; text-align: center; vertical-align: top\"> 闪字 吧</td>\n",
       "    </tr>\n",
       "    <tr>\n",
       "        <td style=\"padding-left: 1em; padding-right: 1em; text-align: center; vertical-align: top\">6</td>\n",
       "        <td style=\"padding-left: 1em; padding-right: 1em; text-align: center; vertical-align: top\">Information</td>\n",
       "        <td style=\"padding-left: 1em; padding-right: 1em; text-align: center; vertical-align: top\"> nr p nr n</td>\n",
       "        <td style=\"padding-left: 1em; padding-right: 1em; text-align: center; vertical-align: top\"> 霍震霆 与 玲玲<br>朱玲玲 照片 ...</td>\n",
       "    </tr>\n",
       "    <tr>\n",
       "        <td style=\"padding-left: 1em; padding-right: 1em; text-align: center; vertical-align: top\">2</td>\n",
       "        <td style=\"padding-left: 1em; padding-right: 1em; text-align: center; vertical-align: top\">Information</td>\n",
       "        <td style=\"padding-left: 1em; padding-right: 1em; text-align: center; vertical-align: top\"> n n</td>\n",
       "        <td style=\"padding-left: 1em; padding-right: 1em; text-align: center; vertical-align: top\"> 电脑 创业</td>\n",
       "    </tr>\n",
       "</table>\n",
       "[1724253 rows x 11 columns]<br/>Note: Only the head of the SFrame is printed.<br/>You can use print_rows(num_rows=m, num_columns=n) to print more rows and columns.\n",
       "</div>"
      ],
      "text/plain": [
       "Columns:\n",
       "\t﻿time\tstr\n",
       "\tuser_id\tstr\n",
       "\tquery\tstr\n",
       "\tresult_click\tstr\n",
       "\turl\tstr\n",
       "\tresult_and_click\tlist\n",
       "\tresult_rank\tint\n",
       "\tclick_rank\tint\n",
       "\tlabel\tstr\n",
       "\tflag_cut\tstr\n",
       "\tquery_search_cut\tstr\n",
       "\n",
       "Rows: 1724253\n",
       "\n",
       "Data:\n",
       "+----------+-------------------+--------------------+--------------+\n",
       "|  ﻿time   |      user_id      |       query        | result_click |\n",
       "+----------+-------------------+--------------------+--------------+\n",
       "| 00:00:00 |  2982199073774412 |    360安全卫士     |     8 3      |\n",
       "| 00:00:00 | 07594220010824798 |    哄抢救灾物资    |     1 1      |\n",
       "| 00:00:00 |  5228056822071097 |     75810部队      |     14 5     |\n",
       "| 00:00:00 |  6140463203615646 |        绳艺        |    62 36     |\n",
       "| 00:00:00 |  8561366108033201 |    汶川地震原因    |     3 2      |\n",
       "| 00:00:00 | 23908140386148713 |   莫衷一是的意思   |     1 2      |\n",
       "| 00:00:00 |  1797943298449139 | 星梦缘全集在线观看 |     8 5      |\n",
       "| 00:00:00 | 00717725924582846 |       闪字吧       |     1 2      |\n",
       "| 00:00:00 | 41416219018952116 | 霍震霆与朱玲玲照片 |     2 6      |\n",
       "| 00:00:00 |  9975666857142764 |      电脑创业      |     2 2      |\n",
       "+----------+-------------------+--------------------+--------------+\n",
       "+-------------------------------+------------------+-------------+------------+\n",
       "|              url              | result_and_click | result_rank | click_rank |\n",
       "+-------------------------------+------------------+-------------+------------+\n",
       "| download.it.com.cn/softweb... |      [8, 3]      |      8      |     3      |\n",
       "| news.21cn.com/social/daqia... |      [1, 1]      |      1      |     1      |\n",
       "| www.greatoo.com/greatoo_cn... |     [14, 5]      |      14     |     5      |\n",
       "| www.jd-cd.com/jd_opus/xx/2... |     [62, 36]     |      62     |     36     |\n",
       "|         www.big38.net         |      [3, 2]      |      3      |     2      |\n",
       "| www.chinabaike.com/article... |      [1, 2]      |      1      |     2      |\n",
       "| www.6wei.net/dianshiju/???... |      [8, 5]      |      8      |     5      |\n",
       "|        www.shanziba.com       |      [1, 2]      |      1      |     2      |\n",
       "| bbs.gouzai.cn/thread-69873... |      [2, 6]      |      2      |     6      |\n",
       "| ks.cn.yahoo.com/question/1... |      [2, 2]      |      2      |     2      |\n",
       "+-------------------------------+------------------+-------------+------------+\n",
       "+-------------+------------+--------------------------------+\n",
       "|    label    |  flag_cut  |        query_search_cut        |\n",
       "+-------------+------------+--------------------------------+\n",
       "| Information |    m nz    |    360 安全 卫士 安全卫士...   |\n",
       "| Information |     v l    |   哄抢 救灾 物资 救灾物资...   |\n",
       "| Information |     m n    |           75810 部队           |\n",
       "| Information |      n     |              绳艺              |\n",
       "|  Navigation |   ns n n   |         汶川 地震 原因         |\n",
       "| Information |   i uj n   |        莫衷一是 的 意思        |\n",
       "| Information |  nr n b v  |  星梦 星梦缘 全集 在线 观看... |\n",
       "|  Navigation |     n y    |             闪字 吧            |\n",
       "| Information |  nr p nr n |  霍震霆 与 玲玲 朱玲玲 照片... |\n",
       "| Information |     n n    |            电脑 创业           |\n",
       "+-------------+------------+--------------------------------+\n",
       "[1724253 rows x 11 columns]\n",
       "Note: Only the head of the SFrame is printed.\n",
       "You can use print_rows(num_rows=m, num_columns=n) to print more rows and columns."
      ]
     },
     "execution_count": 32,
     "metadata": {},
     "output_type": "execute_result"
    }
   ],
   "source": [
    "data"
   ]
  },
  {
   "cell_type": "markdown",
   "metadata": {},
   "source": [
    "### 3.4 比较Logistic Regression和Boost Tree对查询意图识别的效率"
   ]
  },
  {
   "cell_type": "markdown",
   "metadata": {},
   "source": [
    "#### 3.4.1 数据准备(train_data, validation_data, test_data)"
   ]
  },
  {
   "cell_type": "code",
   "execution_count": 33,
   "metadata": {
    "collapsed": true
   },
   "outputs": [],
   "source": [
    "data['flag_word_count'] = graphlab.text_analytics.count_words(data['flag_cut'])"
   ]
  },
  {
   "cell_type": "code",
   "execution_count": 34,
   "metadata": {
    "collapsed": true
   },
   "outputs": [],
   "source": [
    "data['query_search_word_count'] = graphlab.text_analytics.count_words(data['query_search_cut'])"
   ]
  },
  {
   "cell_type": "code",
   "execution_count": 35,
   "metadata": {
    "collapsed": true
   },
   "outputs": [],
   "source": [
    "data['tfidf'] = graphlab.text_analytics.tf_idf(data['flag_word_count'])"
   ]
  },
  {
   "cell_type": "code",
   "execution_count": 36,
   "metadata": {
    "collapsed": true
   },
   "outputs": [],
   "source": [
    "data['search_tfidf'] = graphlab.text_analytics.tf_idf(data['query_search_word_count'])"
   ]
  },
  {
   "cell_type": "code",
   "execution_count": 37,
   "metadata": {
    "collapsed": true
   },
   "outputs": [],
   "source": [
    "train_data, test_data = data.random_split(.8, seed=0)"
   ]
  },
  {
   "cell_type": "code",
   "execution_count": 38,
   "metadata": {
    "collapsed": true
   },
   "outputs": [],
   "source": [
    "#train_data, validation_data = train_data.random_split(0.75, seed=0)"
   ]
  },
  {
   "cell_type": "markdown",
   "metadata": {},
   "source": [
    "#### 3.4.2 Logistic Regression"
   ]
  },
  {
   "cell_type": "markdown",
   "metadata": {},
   "source": [
    "* 分类器训练"
   ]
  },
  {
   "cell_type": "code",
   "execution_count": 39,
   "metadata": {
    "collapsed": false
   },
   "outputs": [
    {
     "name": "stdout",
     "output_type": "stream",
     "text": [
      "PROGRESS: Creating a validation set from 5 percent of training data. This may take a while.\n",
      "          You can set ``validation_set=None`` to disable validation tracking.\n",
      "\n"
     ]
    },
    {
     "data": {
      "text/html": [
       "<pre>Logistic regression:</pre>"
      ],
      "text/plain": [
       "Logistic regression:"
      ]
     },
     "metadata": {},
     "output_type": "display_data"
    },
    {
     "data": {
      "text/html": [
       "<pre>--------------------------------------------------------</pre>"
      ],
      "text/plain": [
       "--------------------------------------------------------"
      ]
     },
     "metadata": {},
     "output_type": "display_data"
    },
    {
     "data": {
      "text/html": [
       "<pre>Number of examples          : 1310350</pre>"
      ],
      "text/plain": [
       "Number of examples          : 1310350"
      ]
     },
     "metadata": {},
     "output_type": "display_data"
    },
    {
     "data": {
      "text/html": [
       "<pre>Number of classes           : 3</pre>"
      ],
      "text/plain": [
       "Number of classes           : 3"
      ]
     },
     "metadata": {},
     "output_type": "display_data"
    },
    {
     "data": {
      "text/html": [
       "<pre>Number of feature columns   : 4</pre>"
      ],
      "text/plain": [
       "Number of feature columns   : 4"
      ]
     },
     "metadata": {},
     "output_type": "display_data"
    },
    {
     "data": {
      "text/html": [
       "<pre>Number of unpacked features : 112843</pre>"
      ],
      "text/plain": [
       "Number of unpacked features : 112843"
      ]
     },
     "metadata": {},
     "output_type": "display_data"
    },
    {
     "data": {
      "text/html": [
       "<pre>Number of coefficients    : 225688</pre>"
      ],
      "text/plain": [
       "Number of coefficients    : 225688"
      ]
     },
     "metadata": {},
     "output_type": "display_data"
    },
    {
     "data": {
      "text/html": [
       "<pre>Starting L-BFGS</pre>"
      ],
      "text/plain": [
       "Starting L-BFGS"
      ]
     },
     "metadata": {},
     "output_type": "display_data"
    },
    {
     "data": {
      "text/html": [
       "<pre>--------------------------------------------------------</pre>"
      ],
      "text/plain": [
       "--------------------------------------------------------"
      ]
     },
     "metadata": {},
     "output_type": "display_data"
    },
    {
     "data": {
      "text/html": [
       "<pre>+-----------+----------+-----------+--------------+-------------------+---------------------+</pre>"
      ],
      "text/plain": [
       "+-----------+----------+-----------+--------------+-------------------+---------------------+"
      ]
     },
     "metadata": {},
     "output_type": "display_data"
    },
    {
     "data": {
      "text/html": [
       "<pre>| Iteration | Passes   | Step size | Elapsed Time | Training-accuracy | Validation-accuracy |</pre>"
      ],
      "text/plain": [
       "| Iteration | Passes   | Step size | Elapsed Time | Training-accuracy | Validation-accuracy |"
      ]
     },
     "metadata": {},
     "output_type": "display_data"
    },
    {
     "data": {
      "text/html": [
       "<pre>+-----------+----------+-----------+--------------+-------------------+---------------------+</pre>"
      ],
      "text/plain": [
       "+-----------+----------+-----------+--------------+-------------------+---------------------+"
      ]
     },
     "metadata": {},
     "output_type": "display_data"
    },
    {
     "data": {
      "text/html": [
       "<pre>| 1         | 3        | 0.000001  | 3.586205     | 0.884378          | 0.879465            |</pre>"
      ],
      "text/plain": [
       "| 1         | 3        | 0.000001  | 3.586205     | 0.884378          | 0.879465            |"
      ]
     },
     "metadata": {},
     "output_type": "display_data"
    },
    {
     "data": {
      "text/html": [
       "<pre>| 2         | 5        | 1.000000  | 1249.817485  | 0.896394          | 0.890107            |</pre>"
      ],
      "text/plain": [
       "| 2         | 5        | 1.000000  | 1249.817485  | 0.896394          | 0.890107            |"
      ]
     },
     "metadata": {},
     "output_type": "display_data"
    },
    {
     "data": {
      "text/html": [
       "<pre>| 3         | 6        | 1.000000  | 2715.978345  | 0.906741          | 0.897260            |</pre>"
      ],
      "text/plain": [
       "| 3         | 6        | 1.000000  | 2715.978345  | 0.906741          | 0.897260            |"
      ]
     },
     "metadata": {},
     "output_type": "display_data"
    },
    {
     "data": {
      "text/html": [
       "<pre>| 4         | 7        | 1.000000  | 4085.090653  | 0.907029          | 0.898016            |</pre>"
      ],
      "text/plain": [
       "| 4         | 7        | 1.000000  | 4085.090653  | 0.907029          | 0.898016            |"
      ]
     },
     "metadata": {},
     "output_type": "display_data"
    },
    {
     "data": {
      "text/html": [
       "<pre>| 5         | 8        | 1.000000  | 5462.384430  | 0.911057          | 0.900734            |</pre>"
      ],
      "text/plain": [
       "| 5         | 8        | 1.000000  | 5462.384430  | 0.911057          | 0.900734            |"
      ]
     },
     "metadata": {},
     "output_type": "display_data"
    },
    {
     "data": {
      "text/html": [
       "<pre>| 6         | 9        | 1.000000  | 6962.016204  | 0.911917          | 0.900342            |</pre>"
      ],
      "text/plain": [
       "| 6         | 9        | 1.000000  | 6962.016204  | 0.911917          | 0.900342            |"
      ]
     },
     "metadata": {},
     "output_type": "display_data"
    },
    {
     "data": {
      "text/html": [
       "<pre>| 7         | 10       | 1.000000  | 8385.343614  | 0.913153          | 0.900865            |</pre>"
      ],
      "text/plain": [
       "| 7         | 10       | 1.000000  | 8385.343614  | 0.913153          | 0.900865            |"
      ]
     },
     "metadata": {},
     "output_type": "display_data"
    },
    {
     "data": {
      "text/html": [
       "<pre>| 8         | 11       | 1.000000  | 9588.828449  | 0.914002          | 0.901926            |</pre>"
      ],
      "text/plain": [
       "| 8         | 11       | 1.000000  | 9588.828449  | 0.914002          | 0.901926            |"
      ]
     },
     "metadata": {},
     "output_type": "display_data"
    },
    {
     "data": {
      "text/html": [
       "<pre>| 9         | 12       | 1.000000  | 10612.215984 | 0.914293          | 0.902246            |</pre>"
      ],
      "text/plain": [
       "| 9         | 12       | 1.000000  | 10612.215984 | 0.914293          | 0.902246            |"
      ]
     },
     "metadata": {},
     "output_type": "display_data"
    },
    {
     "data": {
      "text/html": [
       "<pre>| 10        | 13       | 1.000000  | 11633.587403 | 0.914752          | 0.901926            |</pre>"
      ],
      "text/plain": [
       "| 10        | 13       | 1.000000  | 11633.587403 | 0.914752          | 0.901926            |"
      ]
     },
     "metadata": {},
     "output_type": "display_data"
    },
    {
     "data": {
      "text/html": [
       "<pre>+-----------+----------+-----------+--------------+-------------------+---------------------+</pre>"
      ],
      "text/plain": [
       "+-----------+----------+-----------+--------------+-------------------+---------------------+"
      ]
     },
     "metadata": {},
     "output_type": "display_data"
    },
    {
     "data": {
      "text/html": [
       "<pre>TERMINATED: Iteration limit reached.</pre>"
      ],
      "text/plain": [
       "TERMINATED: Iteration limit reached."
      ]
     },
     "metadata": {},
     "output_type": "display_data"
    },
    {
     "data": {
      "text/html": [
       "<pre>This model may not be optimal. To improve it, consider increasing `max_iterations`.</pre>"
      ],
      "text/plain": [
       "This model may not be optimal. To improve it, consider increasing `max_iterations`."
      ]
     },
     "metadata": {},
     "output_type": "display_data"
    }
   ],
   "source": [
    "logistic_model_1 = graphlab.logistic_classifier.create(train_data, target='label', \\\n",
    "                                                       features=['tfidf', 'search_tfidf', 'result_rank', 'click_rank'])"
   ]
  },
  {
   "cell_type": "code",
   "execution_count": 40,
   "metadata": {
    "collapsed": false
   },
   "outputs": [
    {
     "name": "stdout",
     "output_type": "stream",
     "text": [
      "PROGRESS: Creating a validation set from 5 percent of training data. This may take a while.\n",
      "          You can set ``validation_set=None`` to disable validation tracking.\n",
      "\n"
     ]
    },
    {
     "data": {
      "text/html": [
       "<pre>Logistic regression:</pre>"
      ],
      "text/plain": [
       "Logistic regression:"
      ]
     },
     "metadata": {},
     "output_type": "display_data"
    },
    {
     "data": {
      "text/html": [
       "<pre>--------------------------------------------------------</pre>"
      ],
      "text/plain": [
       "--------------------------------------------------------"
      ]
     },
     "metadata": {},
     "output_type": "display_data"
    },
    {
     "data": {
      "text/html": [
       "<pre>Number of examples          : 1309560</pre>"
      ],
      "text/plain": [
       "Number of examples          : 1309560"
      ]
     },
     "metadata": {},
     "output_type": "display_data"
    },
    {
     "data": {
      "text/html": [
       "<pre>Number of classes           : 3</pre>"
      ],
      "text/plain": [
       "Number of classes           : 3"
      ]
     },
     "metadata": {},
     "output_type": "display_data"
    },
    {
     "data": {
      "text/html": [
       "<pre>Number of feature columns   : 3</pre>"
      ],
      "text/plain": [
       "Number of feature columns   : 3"
      ]
     },
     "metadata": {},
     "output_type": "display_data"
    },
    {
     "data": {
      "text/html": [
       "<pre>Number of unpacked features : 112902</pre>"
      ],
      "text/plain": [
       "Number of unpacked features : 112902"
      ]
     },
     "metadata": {},
     "output_type": "display_data"
    },
    {
     "data": {
      "text/html": [
       "<pre>Number of coefficients    : 225806</pre>"
      ],
      "text/plain": [
       "Number of coefficients    : 225806"
      ]
     },
     "metadata": {},
     "output_type": "display_data"
    },
    {
     "data": {
      "text/html": [
       "<pre>Starting L-BFGS</pre>"
      ],
      "text/plain": [
       "Starting L-BFGS"
      ]
     },
     "metadata": {},
     "output_type": "display_data"
    },
    {
     "data": {
      "text/html": [
       "<pre>--------------------------------------------------------</pre>"
      ],
      "text/plain": [
       "--------------------------------------------------------"
      ]
     },
     "metadata": {},
     "output_type": "display_data"
    },
    {
     "data": {
      "text/html": [
       "<pre>+-----------+----------+-----------+--------------+-------------------+---------------------+</pre>"
      ],
      "text/plain": [
       "+-----------+----------+-----------+--------------+-------------------+---------------------+"
      ]
     },
     "metadata": {},
     "output_type": "display_data"
    },
    {
     "data": {
      "text/html": [
       "<pre>| Iteration | Passes   | Step size | Elapsed Time | Training-accuracy | Validation-accuracy |</pre>"
      ],
      "text/plain": [
       "| Iteration | Passes   | Step size | Elapsed Time | Training-accuracy | Validation-accuracy |"
      ]
     },
     "metadata": {},
     "output_type": "display_data"
    },
    {
     "data": {
      "text/html": [
       "<pre>+-----------+----------+-----------+--------------+-------------------+---------------------+</pre>"
      ],
      "text/plain": [
       "+-----------+----------+-----------+--------------+-------------------+---------------------+"
      ]
     },
     "metadata": {},
     "output_type": "display_data"
    },
    {
     "data": {
      "text/html": [
       "<pre>| 1         | 3        | 0.000001  | 1.797103     | 0.891189          | 0.887143            |</pre>"
      ],
      "text/plain": [
       "| 1         | 3        | 0.000001  | 1.797103     | 0.891189          | 0.887143            |"
      ]
     },
     "metadata": {},
     "output_type": "display_data"
    },
    {
     "data": {
      "text/html": [
       "<pre>| 2         | 5        | 1.000000  | 1037.243327  | 0.898319          | 0.892562            |</pre>"
      ],
      "text/plain": [
       "| 2         | 5        | 1.000000  | 1037.243327  | 0.898319          | 0.892562            |"
      ]
     },
     "metadata": {},
     "output_type": "display_data"
    },
    {
     "data": {
      "text/html": [
       "<pre>| 3         | 6        | 1.000000  | 2093.339733  | 0.905729          | 0.897650            |</pre>"
      ],
      "text/plain": [
       "| 3         | 6        | 1.000000  | 2093.339733  | 0.905729          | 0.897650            |"
      ]
     },
     "metadata": {},
     "output_type": "display_data"
    },
    {
     "data": {
      "text/html": [
       "<pre>| 4         | 7        | 1.000000  | 3129.337988  | 0.904741          | 0.895738            |</pre>"
      ],
      "text/plain": [
       "| 4         | 7        | 1.000000  | 3129.337988  | 0.904741          | 0.895738            |"
      ]
     },
     "metadata": {},
     "output_type": "display_data"
    },
    {
     "data": {
      "text/html": [
       "<pre>| 5         | 8        | 1.000000  | 4204.045458  | 0.910776          | 0.901085            |</pre>"
      ],
      "text/plain": [
       "| 5         | 8        | 1.000000  | 4204.045458  | 0.910776          | 0.901085            |"
      ]
     },
     "metadata": {},
     "output_type": "display_data"
    },
    {
     "data": {
      "text/html": [
       "<pre>| 6         | 9        | 1.000000  | 5293.583776  | 0.910833          | 0.900496            |</pre>"
      ],
      "text/plain": [
       "| 6         | 9        | 1.000000  | 5293.583776  | 0.910833          | 0.900496            |"
      ]
     },
     "metadata": {},
     "output_type": "display_data"
    },
    {
     "data": {
      "text/html": [
       "<pre>| 7         | 10       | 1.000000  | 6329.250013  | 0.911508          | 0.900985            |</pre>"
      ],
      "text/plain": [
       "| 7         | 10       | 1.000000  | 6329.250013  | 0.911508          | 0.900985            |"
      ]
     },
     "metadata": {},
     "output_type": "display_data"
    },
    {
     "data": {
      "text/html": [
       "<pre>| 8         | 11       | 1.000000  | 7420.616435  | 0.912693          | 0.901833            |</pre>"
      ],
      "text/plain": [
       "| 8         | 11       | 1.000000  | 7420.616435  | 0.912693          | 0.901833            |"
      ]
     },
     "metadata": {},
     "output_type": "display_data"
    },
    {
     "data": {
      "text/html": [
       "<pre>| 9         | 12       | 1.000000  | 8507.977629  | 0.913164          | 0.902508            |</pre>"
      ],
      "text/plain": [
       "| 9         | 12       | 1.000000  | 8507.977629  | 0.913164          | 0.902508            |"
      ]
     },
     "metadata": {},
     "output_type": "display_data"
    },
    {
     "data": {
      "text/html": [
       "<pre>| 10        | 13       | 1.000000  | 9564.965085  | 0.913782          | 0.902508            |</pre>"
      ],
      "text/plain": [
       "| 10        | 13       | 1.000000  | 9564.965085  | 0.913782          | 0.902508            |"
      ]
     },
     "metadata": {},
     "output_type": "display_data"
    },
    {
     "data": {
      "text/html": [
       "<pre>+-----------+----------+-----------+--------------+-------------------+---------------------+</pre>"
      ],
      "text/plain": [
       "+-----------+----------+-----------+--------------+-------------------+---------------------+"
      ]
     },
     "metadata": {},
     "output_type": "display_data"
    },
    {
     "data": {
      "text/html": [
       "<pre>TERMINATED: Iteration limit reached.</pre>"
      ],
      "text/plain": [
       "TERMINATED: Iteration limit reached."
      ]
     },
     "metadata": {},
     "output_type": "display_data"
    },
    {
     "data": {
      "text/html": [
       "<pre>This model may not be optimal. To improve it, consider increasing `max_iterations`.</pre>"
      ],
      "text/plain": [
       "This model may not be optimal. To improve it, consider increasing `max_iterations`."
      ]
     },
     "metadata": {},
     "output_type": "display_data"
    }
   ],
   "source": [
    "logistic_model_2 = graphlab.logistic_classifier.create(train_data, target='label', \\\n",
    "                                                       features=['search_tfidf', 'result_rank', 'click_rank'])"
   ]
  },
  {
   "cell_type": "markdown",
   "metadata": {},
   "source": [
    "* 分类器测试"
   ]
  },
  {
   "cell_type": "code",
   "execution_count": 41,
   "metadata": {
    "collapsed": false
   },
   "outputs": [
    {
     "data": {
      "text/plain": [
       "{'accuracy': 0.9028419265294769,\n",
       " 'auc': 0.8959618612890848,\n",
       " 'confusion_matrix': Columns:\n",
       " \ttarget_label\tstr\n",
       " \tpredicted_label\tstr\n",
       " \tcount\tint\n",
       " \n",
       " Rows: 9\n",
       " \n",
       " Data:\n",
       " +--------------+-----------------+--------+\n",
       " | target_label | predicted_label | count  |\n",
       " +--------------+-----------------+--------+\n",
       " |   Resource   |    Navigation   |  429   |\n",
       " | Information  |     Resource    |  1238  |\n",
       " | Information  |    Navigation   | 10609  |\n",
       " |  Navigation  |   Information   | 15139  |\n",
       " |  Navigation  |    Navigation   | 25166  |\n",
       " |  Navigation  |     Resource    |  122   |\n",
       " |   Resource   |     Resource    |  778   |\n",
       " |   Resource   |   Information   |  5994  |\n",
       " | Information  |   Information   | 285643 |\n",
       " +--------------+-----------------+--------+\n",
       " [9 rows x 3 columns],\n",
       " 'f1_score': 0.5896148074104733,\n",
       " 'log_loss': 0.27898994137215655,\n",
       " 'precision': 0.6633735508033296,\n",
       " 'recall': 0.5635740414195917,\n",
       " 'roc_curve': Columns:\n",
       " \tthreshold\tfloat\n",
       " \tfpr\tfloat\n",
       " \ttpr\tfloat\n",
       " \tp\tint\n",
       " \tn\tint\n",
       " \tclass\tint\n",
       " \n",
       " Rows: 300003\n",
       " \n",
       " Data:\n",
       " +-----------+----------------+----------------+--------+-------+-------+\n",
       " | threshold |      fpr       |      tpr       |   p    |   n   | class |\n",
       " +-----------+----------------+----------------+--------+-------+-------+\n",
       " |    0.0    |      1.0       |      1.0       | 297490 | 47628 |   0   |\n",
       " |   1e-05   | 0.999139161838 | 0.999882348987 | 297490 | 47628 |   0   |\n",
       " |   2e-05   | 0.998866213152 | 0.999868903156 | 297490 | 47628 |   0   |\n",
       " |   3e-05   | 0.998572268414 | 0.999862180241 | 297490 | 47628 |   0   |\n",
       " |   4e-05   | 0.998509280255 | 0.999852095869 | 297490 | 47628 |   0   |\n",
       " |   5e-05   | 0.998425296044 | 0.999842011496 | 297490 | 47628 |   0   |\n",
       " |   6e-05   | 0.998215335517 | 0.999838650039 | 297490 | 47628 |   0   |\n",
       " |   7e-05   | 0.997711430251 | 0.999825204209 | 297490 | 47628 |   0   |\n",
       " |   8e-05   | 0.997606449987 | 0.999815119836 | 297490 | 47628 |   0   |\n",
       " |   9e-05   | 0.99716553288  | 0.999805035463 | 297490 | 47628 |   0   |\n",
       " +-----------+----------------+----------------+--------+-------+-------+\n",
       " [300003 rows x 6 columns]\n",
       " Note: Only the head of the SFrame is printed.\n",
       " You can use print_rows(num_rows=m, num_columns=n) to print more rows and columns.}"
      ]
     },
     "execution_count": 41,
     "metadata": {},
     "output_type": "execute_result"
    }
   ],
   "source": [
    "logistic_model_1.evaluate(test_data)"
   ]
  },
  {
   "cell_type": "code",
   "execution_count": 42,
   "metadata": {
    "collapsed": false
   },
   "outputs": [
    {
     "data": {
      "text/plain": [
       "{'accuracy': 0.9018915269559976,\n",
       " 'auc': 0.8943043480440952,\n",
       " 'confusion_matrix': Columns:\n",
       " \ttarget_label\tstr\n",
       " \tpredicted_label\tstr\n",
       " \tcount\tint\n",
       " \n",
       " Rows: 9\n",
       " \n",
       " Data:\n",
       " +--------------+-----------------+--------+\n",
       " | target_label | predicted_label | count  |\n",
       " +--------------+-----------------+--------+\n",
       " |   Resource   |    Navigation   |  397   |\n",
       " | Information  |     Resource    |  1160  |\n",
       " | Information  |    Navigation   | 10592  |\n",
       " |  Navigation  |   Information   | 15545  |\n",
       " |  Navigation  |    Navigation   | 24761  |\n",
       " |  Navigation  |     Resource    |  121   |\n",
       " |   Resource   |     Resource    |  760   |\n",
       " |   Resource   |   Information   |  6044  |\n",
       " | Information  |   Information   | 285738 |\n",
       " +--------------+-----------------+--------+\n",
       " [9 rows x 3 columns],\n",
       " 'f1_score': 0.5864773450838197,\n",
       " 'log_loss': 0.2814398149571041,\n",
       " 'precision': 0.664911406702427,\n",
       " 'recall': 0.5595079175529878,\n",
       " 'roc_curve': Columns:\n",
       " \tthreshold\tfloat\n",
       " \tfpr\tfloat\n",
       " \ttpr\tfloat\n",
       " \tp\tint\n",
       " \tn\tint\n",
       " \tclass\tint\n",
       " \n",
       " Rows: 300003\n",
       " \n",
       " Data:\n",
       " +-----------+----------------+----------------+--------+-------+-------+\n",
       " | threshold |      fpr       |      tpr       |   p    |   n   | class |\n",
       " +-----------+----------------+----------------+--------+-------+-------+\n",
       " |    0.0    |      1.0       |      1.0       | 297490 | 47628 |   0   |\n",
       " |   1e-05   | 0.999874023684 | 0.999966385425 | 297490 | 47628 |   0   |\n",
       " |   2e-05   | 0.999853027631 | 0.999956301052 | 297490 | 47628 |   0   |\n",
       " |   3e-05   | 0.999811035525 | 0.99994621668  | 297490 | 47628 |   0   |\n",
       " |   4e-05   | 0.999706055262 | 0.999942855222 | 297490 | 47628 |   0   |\n",
       " |   5e-05   | 0.999265138154 | 0.999932770849 | 297490 | 47628 |   0   |\n",
       " |   6e-05   | 0.999244142101 | 0.999926047934 | 297490 | 47628 |   0   |\n",
       " |   7e-05   | 0.99916015789  | 0.999922686477 | 297490 | 47628 |   0   |\n",
       " |   8e-05   | 0.999118165785 | 0.999912602104 | 297490 | 47628 |   0   |\n",
       " |   9e-05   | 0.998971193416 | 0.999909240647 | 297490 | 47628 |   0   |\n",
       " +-----------+----------------+----------------+--------+-------+-------+\n",
       " [300003 rows x 6 columns]\n",
       " Note: Only the head of the SFrame is printed.\n",
       " You can use print_rows(num_rows=m, num_columns=n) to print more rows and columns.}"
      ]
     },
     "execution_count": 42,
     "metadata": {},
     "output_type": "execute_result"
    }
   ],
   "source": [
    "logistic_model_2.evaluate(test_data)"
   ]
  },
  {
   "cell_type": "markdown",
   "metadata": {},
   "source": [
    "#### 3.4.3 Boosted Tree"
   ]
  },
  {
   "cell_type": "markdown",
   "metadata": {},
   "source": [
    "* 分类器训练"
   ]
  },
  {
   "cell_type": "code",
   "execution_count": 43,
   "metadata": {
    "collapsed": false,
    "scrolled": false
   },
   "outputs": [
    {
     "name": "stdout",
     "output_type": "stream",
     "text": [
      "PROGRESS: Creating a validation set from 5 percent of training data. This may take a while.\n",
      "          You can set ``validation_set=None`` to disable validation tracking.\n",
      "\n"
     ]
    },
    {
     "data": {
      "text/html": [
       "<pre>Boosted trees classifier:</pre>"
      ],
      "text/plain": [
       "Boosted trees classifier:"
      ]
     },
     "metadata": {},
     "output_type": "display_data"
    },
    {
     "data": {
      "text/html": [
       "<pre>--------------------------------------------------------</pre>"
      ],
      "text/plain": [
       "--------------------------------------------------------"
      ]
     },
     "metadata": {},
     "output_type": "display_data"
    },
    {
     "data": {
      "text/html": [
       "<pre>Number of examples          : 1310584</pre>"
      ],
      "text/plain": [
       "Number of examples          : 1310584"
      ]
     },
     "metadata": {},
     "output_type": "display_data"
    },
    {
     "data": {
      "text/html": [
       "<pre>Number of classes           : 3</pre>"
      ],
      "text/plain": [
       "Number of classes           : 3"
      ]
     },
     "metadata": {},
     "output_type": "display_data"
    },
    {
     "data": {
      "text/html": [
       "<pre>Number of feature columns   : 4</pre>"
      ],
      "text/plain": [
       "Number of feature columns   : 4"
      ]
     },
     "metadata": {},
     "output_type": "display_data"
    },
    {
     "data": {
      "text/html": [
       "<pre>Number of unpacked features : 112822</pre>"
      ],
      "text/plain": [
       "Number of unpacked features : 112822"
      ]
     },
     "metadata": {},
     "output_type": "display_data"
    },
    {
     "data": {
      "text/html": [
       "<pre>+-----------+--------------+-------------------+-------------------+---------------------+---------------------+</pre>"
      ],
      "text/plain": [
       "+-----------+--------------+-------------------+-------------------+---------------------+---------------------+"
      ]
     },
     "metadata": {},
     "output_type": "display_data"
    },
    {
     "data": {
      "text/html": [
       "<pre>| Iteration | Elapsed Time | Training-accuracy | Training-log_loss | Validation-accuracy | Validation-log_loss |</pre>"
      ],
      "text/plain": [
       "| Iteration | Elapsed Time | Training-accuracy | Training-log_loss | Validation-accuracy | Validation-log_loss |"
      ]
     },
     "metadata": {},
     "output_type": "display_data"
    },
    {
     "data": {
      "text/html": [
       "<pre>+-----------+--------------+-------------------+-------------------+---------------------+---------------------+</pre>"
      ],
      "text/plain": [
       "+-----------+--------------+-------------------+-------------------+---------------------+---------------------+"
      ]
     },
     "metadata": {},
     "output_type": "display_data"
    },
    {
     "data": {
      "text/html": [
       "<pre>| 1         | 5.452312     | 0.878084          | 0.820237          | 0.878543            | 0.819767            |</pre>"
      ],
      "text/plain": [
       "| 1         | 5.452312     | 0.878084          | 0.820237          | 0.878543            | 0.819767            |"
      ]
     },
     "metadata": {},
     "output_type": "display_data"
    },
    {
     "data": {
      "text/html": [
       "<pre>| 2         | 9.716556     | 0.876966          | 0.660737          | 0.876807            | 0.660215            |</pre>"
      ],
      "text/plain": [
       "| 2         | 9.716556     | 0.876966          | 0.660737          | 0.876807            | 0.660215            |"
      ]
     },
     "metadata": {},
     "output_type": "display_data"
    },
    {
     "data": {
      "text/html": [
       "<pre>| 3         | 14.400823    | 0.879256          | 0.559238          | 0.879331            | 0.558403            |</pre>"
      ],
      "text/plain": [
       "| 3         | 14.400823    | 0.879256          | 0.559238          | 0.879331            | 0.558403            |"
      ]
     },
     "metadata": {},
     "output_type": "display_data"
    },
    {
     "data": {
      "text/html": [
       "<pre>| 4         | 18.953084    | 0.881036          | 0.492342          | 0.881621            | 0.491347            |</pre>"
      ],
      "text/plain": [
       "| 4         | 18.953084    | 0.881036          | 0.492342          | 0.881621            | 0.491347            |"
      ]
     },
     "metadata": {},
     "output_type": "display_data"
    },
    {
     "data": {
      "text/html": [
       "<pre>| 5         | 23.395338    | 0.881420          | 0.446584          | 0.882059            | 0.445654            |</pre>"
      ],
      "text/plain": [
       "| 5         | 23.395338    | 0.881420          | 0.446584          | 0.882059            | 0.445654            |"
      ]
     },
     "metadata": {},
     "output_type": "display_data"
    },
    {
     "data": {
      "text/html": [
       "<pre>| 6         | 27.847593    | 0.881337          | 0.414778          | 0.882496            | 0.413797            |</pre>"
      ],
      "text/plain": [
       "| 6         | 27.847593    | 0.881337          | 0.414778          | 0.882496            | 0.413797            |"
      ]
     },
     "metadata": {},
     "output_type": "display_data"
    },
    {
     "data": {
      "text/html": [
       "<pre>| 7         | 32.447856    | 0.882568          | 0.392332          | 0.883590            | 0.391181            |</pre>"
      ],
      "text/plain": [
       "| 7         | 32.447856    | 0.882568          | 0.392332          | 0.883590            | 0.391181            |"
      ]
     },
     "metadata": {},
     "output_type": "display_data"
    },
    {
     "data": {
      "text/html": [
       "<pre>| 8         | 36.884109    | 0.882619          | 0.375952          | 0.883576            | 0.374750            |</pre>"
      ],
      "text/plain": [
       "| 8         | 36.884109    | 0.882619          | 0.375952          | 0.883576            | 0.374750            |"
      ]
     },
     "metadata": {},
     "output_type": "display_data"
    },
    {
     "data": {
      "text/html": [
       "<pre>| 9         | 41.226358    | 0.882111          | 0.364510          | 0.883196            | 0.363411            |</pre>"
      ],
      "text/plain": [
       "| 9         | 41.226358    | 0.882111          | 0.364510          | 0.883196            | 0.363411            |"
      ]
     },
     "metadata": {},
     "output_type": "display_data"
    },
    {
     "data": {
      "text/html": [
       "<pre>| 10        | 45.606608    | 0.882188          | 0.356143          | 0.883313            | 0.355035            |</pre>"
      ],
      "text/plain": [
       "| 10        | 45.606608    | 0.882188          | 0.356143          | 0.883313            | 0.355035            |"
      ]
     },
     "metadata": {},
     "output_type": "display_data"
    },
    {
     "data": {
      "text/html": [
       "<pre>+-----------+--------------+-------------------+-------------------+---------------------+---------------------+</pre>"
      ],
      "text/plain": [
       "+-----------+--------------+-------------------+-------------------+---------------------+---------------------+"
      ]
     },
     "metadata": {},
     "output_type": "display_data"
    }
   ],
   "source": [
    "boost_model_1 = graphlab.boosted_trees_classifier.create(train_data, target='label', \\\n",
    "                                                         features=['tfidf', 'search_tfidf', 'result_rank', 'click_rank'])"
   ]
  },
  {
   "cell_type": "code",
   "execution_count": 44,
   "metadata": {
    "collapsed": false
   },
   "outputs": [
    {
     "name": "stdout",
     "output_type": "stream",
     "text": [
      "PROGRESS: Creating a validation set from 5 percent of training data. This may take a while.\n",
      "          You can set ``validation_set=None`` to disable validation tracking.\n",
      "\n"
     ]
    },
    {
     "data": {
      "text/html": [
       "<pre>Boosted trees classifier:</pre>"
      ],
      "text/plain": [
       "Boosted trees classifier:"
      ]
     },
     "metadata": {},
     "output_type": "display_data"
    },
    {
     "data": {
      "text/html": [
       "<pre>--------------------------------------------------------</pre>"
      ],
      "text/plain": [
       "--------------------------------------------------------"
      ]
     },
     "metadata": {},
     "output_type": "display_data"
    },
    {
     "data": {
      "text/html": [
       "<pre>Number of examples          : 1310280</pre>"
      ],
      "text/plain": [
       "Number of examples          : 1310280"
      ]
     },
     "metadata": {},
     "output_type": "display_data"
    },
    {
     "data": {
      "text/html": [
       "<pre>Number of classes           : 3</pre>"
      ],
      "text/plain": [
       "Number of classes           : 3"
      ]
     },
     "metadata": {},
     "output_type": "display_data"
    },
    {
     "data": {
      "text/html": [
       "<pre>Number of feature columns   : 3</pre>"
      ],
      "text/plain": [
       "Number of feature columns   : 3"
      ]
     },
     "metadata": {},
     "output_type": "display_data"
    },
    {
     "data": {
      "text/html": [
       "<pre>Number of unpacked features : 112811</pre>"
      ],
      "text/plain": [
       "Number of unpacked features : 112811"
      ]
     },
     "metadata": {},
     "output_type": "display_data"
    },
    {
     "data": {
      "text/html": [
       "<pre>+-----------+--------------+-------------------+-------------------+---------------------+---------------------+</pre>"
      ],
      "text/plain": [
       "+-----------+--------------+-------------------+-------------------+---------------------+---------------------+"
      ]
     },
     "metadata": {},
     "output_type": "display_data"
    },
    {
     "data": {
      "text/html": [
       "<pre>| Iteration | Elapsed Time | Training-accuracy | Training-log_loss | Validation-accuracy | Validation-log_loss |</pre>"
      ],
      "text/plain": [
       "| Iteration | Elapsed Time | Training-accuracy | Training-log_loss | Validation-accuracy | Validation-log_loss |"
      ]
     },
     "metadata": {},
     "output_type": "display_data"
    },
    {
     "data": {
      "text/html": [
       "<pre>+-----------+--------------+-------------------+-------------------+---------------------+---------------------+</pre>"
      ],
      "text/plain": [
       "+-----------+--------------+-------------------+-------------------+---------------------+---------------------+"
      ]
     },
     "metadata": {},
     "output_type": "display_data"
    },
    {
     "data": {
      "text/html": [
       "<pre>| 1         | 3.387193     | 0.875933          | 0.829160          | 0.876944            | 0.828462            |</pre>"
      ],
      "text/plain": [
       "| 1         | 3.387193     | 0.875933          | 0.829160          | 0.876944            | 0.828462            |"
      ]
     },
     "metadata": {},
     "output_type": "display_data"
    },
    {
     "data": {
      "text/html": [
       "<pre>| 2         | 6.913395     | 0.876152          | 0.676614          | 0.877206            | 0.675472            |</pre>"
      ],
      "text/plain": [
       "| 2         | 6.913395     | 0.876152          | 0.676614          | 0.877206            | 0.675472            |"
      ]
     },
     "metadata": {},
     "output_type": "display_data"
    },
    {
     "data": {
      "text/html": [
       "<pre>| 3         | 10.376593    | 0.877515          | 0.581424          | 0.878440            | 0.580138            |</pre>"
      ],
      "text/plain": [
       "| 3         | 10.376593    | 0.877515          | 0.581424          | 0.878440            | 0.580138            |"
      ]
     },
     "metadata": {},
     "output_type": "display_data"
    },
    {
     "data": {
      "text/html": [
       "<pre>| 4         | 13.986800    | 0.877052          | 0.519339          | 0.877874            | 0.517596            |</pre>"
      ],
      "text/plain": [
       "| 4         | 13.986800    | 0.877052          | 0.519339          | 0.877874            | 0.517596            |"
      ]
     },
     "metadata": {},
     "output_type": "display_data"
    },
    {
     "data": {
      "text/html": [
       "<pre>| 5         | 17.378994    | 0.874786          | 0.478131          | 0.875710            | 0.476408            |</pre>"
      ],
      "text/plain": [
       "| 5         | 17.378994    | 0.874786          | 0.478131          | 0.875710            | 0.476408            |"
      ]
     },
     "metadata": {},
     "output_type": "display_data"
    },
    {
     "data": {
      "text/html": [
       "<pre>| 6         | 20.930197    | 0.874834          | 0.450089          | 0.875724            | 0.448138            |</pre>"
      ],
      "text/plain": [
       "| 6         | 20.930197    | 0.874834          | 0.450089          | 0.875724            | 0.448138            |"
      ]
     },
     "metadata": {},
     "output_type": "display_data"
    },
    {
     "data": {
      "text/html": [
       "<pre>| 7         | 24.520402    | 0.874792          | 0.430204          | 0.875608            | 0.428458            |</pre>"
      ],
      "text/plain": [
       "| 7         | 24.520402    | 0.874792          | 0.430204          | 0.875608            | 0.428458            |"
      ]
     },
     "metadata": {},
     "output_type": "display_data"
    },
    {
     "data": {
      "text/html": [
       "<pre>| 8         | 28.021602    | 0.874693          | 0.415783          | 0.875507            | 0.414042            |</pre>"
      ],
      "text/plain": [
       "| 8         | 28.021602    | 0.874693          | 0.415783          | 0.875507            | 0.414042            |"
      ]
     },
     "metadata": {},
     "output_type": "display_data"
    },
    {
     "data": {
      "text/html": [
       "<pre>| 9         | 31.568805    | 0.874819          | 0.405572          | 0.875550            | 0.403669            |</pre>"
      ],
      "text/plain": [
       "| 9         | 31.568805    | 0.874819          | 0.405572          | 0.875550            | 0.403669            |"
      ]
     },
     "metadata": {},
     "output_type": "display_data"
    },
    {
     "data": {
      "text/html": [
       "<pre>| 10        | 34.973000    | 0.875966          | 0.398151          | 0.876639            | 0.396280            |</pre>"
      ],
      "text/plain": [
       "| 10        | 34.973000    | 0.875966          | 0.398151          | 0.876639            | 0.396280            |"
      ]
     },
     "metadata": {},
     "output_type": "display_data"
    },
    {
     "data": {
      "text/html": [
       "<pre>+-----------+--------------+-------------------+-------------------+---------------------+---------------------+</pre>"
      ],
      "text/plain": [
       "+-----------+--------------+-------------------+-------------------+---------------------+---------------------+"
      ]
     },
     "metadata": {},
     "output_type": "display_data"
    }
   ],
   "source": [
    "boost_model_2 = graphlab.boosted_trees_classifier.create(train_data, target='label', \\\n",
    "                                                         features=['search_tfidf', 'result_rank', 'click_rank'])"
   ]
  },
  {
   "cell_type": "markdown",
   "metadata": {},
   "source": [
    "* 分类器测试"
   ]
  },
  {
   "cell_type": "code",
   "execution_count": 45,
   "metadata": {
    "collapsed": false
   },
   "outputs": [
    {
     "data": {
      "text/plain": [
       "{'accuracy': 0.8818925700774808,\n",
       " 'auc': 0.7855897148994869,\n",
       " 'confusion_matrix': Columns:\n",
       " \ttarget_label\tstr\n",
       " \tpredicted_label\tstr\n",
       " \tcount\tint\n",
       " \n",
       " Rows: 8\n",
       " \n",
       " Data:\n",
       " +--------------+-----------------+--------+\n",
       " | target_label | predicted_label | count  |\n",
       " +--------------+-----------------+--------+\n",
       " |   Resource   |    Navigation   |  137   |\n",
       " |  Navigation  |    Navigation   | 10751  |\n",
       " |  Navigation  |   Information   | 29676  |\n",
       " |   Resource   |     Resource    |  420   |\n",
       " |   Resource   |   Information   |  6644  |\n",
       " | Information  |   Information   | 293186 |\n",
       " | Information  |    Navigation   |  4303  |\n",
       " | Information  |     Resource    |   1    |\n",
       " +--------------+-----------------+--------+\n",
       " [8 rows x 3 columns],\n",
       " 'f1_score': 0.47733909090299687,\n",
       " 'log_loss': 0.35691104906725496,\n",
       " 'precision': 0.8650402566458418,\n",
       " 'recall': 0.43659788373308245,\n",
       " 'roc_curve': Columns:\n",
       " \tthreshold\tfloat\n",
       " \tfpr\tfloat\n",
       " \ttpr\tfloat\n",
       " \tp\tint\n",
       " \tn\tint\n",
       " \tclass\tint\n",
       " \n",
       " Rows: 300003\n",
       " \n",
       " Data:\n",
       " +-----------+-----+-----+--------+-------+-------+\n",
       " | threshold | fpr | tpr |   p    |   n   | class |\n",
       " +-----------+-----+-----+--------+-------+-------+\n",
       " |    0.0    | 1.0 | 1.0 | 297490 | 47628 |   0   |\n",
       " |   1e-05   | 1.0 | 1.0 | 297490 | 47628 |   0   |\n",
       " |   2e-05   | 1.0 | 1.0 | 297490 | 47628 |   0   |\n",
       " |   3e-05   | 1.0 | 1.0 | 297490 | 47628 |   0   |\n",
       " |   4e-05   | 1.0 | 1.0 | 297490 | 47628 |   0   |\n",
       " |   5e-05   | 1.0 | 1.0 | 297490 | 47628 |   0   |\n",
       " |   6e-05   | 1.0 | 1.0 | 297490 | 47628 |   0   |\n",
       " |   7e-05   | 1.0 | 1.0 | 297490 | 47628 |   0   |\n",
       " |   8e-05   | 1.0 | 1.0 | 297490 | 47628 |   0   |\n",
       " |   9e-05   | 1.0 | 1.0 | 297490 | 47628 |   0   |\n",
       " +-----------+-----+-----+--------+-------+-------+\n",
       " [300003 rows x 6 columns]\n",
       " Note: Only the head of the SFrame is printed.\n",
       " You can use print_rows(num_rows=m, num_columns=n) to print more rows and columns.}"
      ]
     },
     "execution_count": 45,
     "metadata": {},
     "output_type": "execute_result"
    }
   ],
   "source": [
    "boost_model_1.evaluate(test_data)"
   ]
  },
  {
   "cell_type": "code",
   "execution_count": 46,
   "metadata": {
    "collapsed": false
   },
   "outputs": [
    {
     "data": {
      "text/plain": [
       "{'accuracy': 0.8760394995334929,\n",
       " 'auc': 0.7310632720035798,\n",
       " 'confusion_matrix': Columns:\n",
       " \ttarget_label\tstr\n",
       " \tpredicted_label\tstr\n",
       " \tcount\tint\n",
       " \n",
       " Rows: 8\n",
       " \n",
       " Data:\n",
       " +--------------+-----------------+--------+\n",
       " | target_label | predicted_label | count  |\n",
       " +--------------+-----------------+--------+\n",
       " |  Navigation  |    Navigation   |  4754  |\n",
       " |  Navigation  |   Information   | 35673  |\n",
       " |   Resource   |     Resource    |  421   |\n",
       " |   Resource   |   Information   |  6779  |\n",
       " | Information  |   Information   | 297162 |\n",
       " |   Resource   |    Navigation   |   1    |\n",
       " | Information  |    Navigation   |  327   |\n",
       " | Information  |     Resource    |   1    |\n",
       " +--------------+-----------------+--------+\n",
       " [8 rows x 3 columns],\n",
       " 'f1_score': 0.4174111051698739,\n",
       " 'log_loss': 0.39827852907597866,\n",
       " 'precision': 0.9360293588455798,\n",
       " 'recall': 0.3916520736545807,\n",
       " 'roc_curve': Columns:\n",
       " \tthreshold\tfloat\n",
       " \tfpr\tfloat\n",
       " \ttpr\tfloat\n",
       " \tp\tint\n",
       " \tn\tint\n",
       " \tclass\tint\n",
       " \n",
       " Rows: 300003\n",
       " \n",
       " Data:\n",
       " +-----------+-----+-----+--------+-------+-------+\n",
       " | threshold | fpr | tpr |   p    |   n   | class |\n",
       " +-----------+-----+-----+--------+-------+-------+\n",
       " |    0.0    | 1.0 | 1.0 | 297490 | 47628 |   0   |\n",
       " |   1e-05   | 1.0 | 1.0 | 297490 | 47628 |   0   |\n",
       " |   2e-05   | 1.0 | 1.0 | 297490 | 47628 |   0   |\n",
       " |   3e-05   | 1.0 | 1.0 | 297490 | 47628 |   0   |\n",
       " |   4e-05   | 1.0 | 1.0 | 297490 | 47628 |   0   |\n",
       " |   5e-05   | 1.0 | 1.0 | 297490 | 47628 |   0   |\n",
       " |   6e-05   | 1.0 | 1.0 | 297490 | 47628 |   0   |\n",
       " |   7e-05   | 1.0 | 1.0 | 297490 | 47628 |   0   |\n",
       " |   8e-05   | 1.0 | 1.0 | 297490 | 47628 |   0   |\n",
       " |   9e-05   | 1.0 | 1.0 | 297490 | 47628 |   0   |\n",
       " +-----------+-----+-----+--------+-------+-------+\n",
       " [300003 rows x 6 columns]\n",
       " Note: Only the head of the SFrame is printed.\n",
       " You can use print_rows(num_rows=m, num_columns=n) to print more rows and columns.}"
      ]
     },
     "execution_count": 46,
     "metadata": {},
     "output_type": "execute_result"
    }
   ],
   "source": [
    "boost_model_2.evaluate(test_data)"
   ]
  },
  {
   "cell_type": "markdown",
   "metadata": {},
   "source": [
    "#### 3.4.4 比较不同分类器和不同特征提取对查询意图识别的影响"
   ]
  },
  {
   "cell_type": "markdown",
   "metadata": {},
   "source": [
    "&nbsp;&nbsp;&nbsp;&nbsp;&nbsp;&nbsp;&nbsp;呃，其实这部分还**有待改进**。毕竟虽然有影响，但是影响比较小。\n",
    "* 不同分类器对查询意图识别会有**1个百分点**的影响；\n",
    "* 不同特征提取对意图识别的影响仅仅有**0.1个百分点**。"
   ]
  },
  {
   "cell_type": "markdown",
   "metadata": {},
   "source": [
    "## 4. 结论"
   ]
  },
  {
   "cell_type": "markdown",
   "metadata": {},
   "source": [
    "&nbsp;&nbsp;&nbsp;&nbsp;&nbsp;&nbsp;&nbsp;由于论文没有完成，所以结论部分还有待分析。\n",
    "* 在答辩前，要深入学习**LTP工具**，优化特征提取；\n",
    "* 同时要**调整分类器的参数**，优化分类结果。"
   ]
  },
  {
   "cell_type": "markdown",
   "metadata": {},
   "source": [
    "<img src='classification.jpg' align='left'>"
   ]
  },
  {
   "cell_type": "markdown",
   "metadata": {},
   "source": [
    "# 欢迎大家批评指正，谢谢！"
   ]
  }
 ],
 "metadata": {
  "kernelspec": {
   "display_name": "Python 2",
   "language": "python",
   "name": "python2"
  },
  "language_info": {
   "codemirror_mode": {
    "name": "ipython",
    "version": 2
   },
   "file_extension": ".py",
   "mimetype": "text/x-python",
   "name": "python",
   "nbconvert_exporter": "python",
   "pygments_lexer": "ipython2",
   "version": "2.7.11"
  }
 },
 "nbformat": 4,
 "nbformat_minor": 0
}
