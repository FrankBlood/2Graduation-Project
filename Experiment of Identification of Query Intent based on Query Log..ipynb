{
 "cells": [
  {
   "cell_type": "markdown",
   "metadata": {},
   "source": [
    "# Experiment of Identification of Query Intent based on Query Log.\n",
    "<img src = 'classification.jpg'>"
   ]
  },
  {
   "cell_type": "markdown",
   "metadata": {},
   "source": [
    "## Fire up graphlab"
   ]
  },
  {
   "cell_type": "code",
   "execution_count": 1,
   "metadata": {
    "collapsed": true
   },
   "outputs": [],
   "source": [
    "import graphlab"
   ]
  },
  {
   "cell_type": "code",
   "execution_count": 2,
   "metadata": {
    "collapsed": true
   },
   "outputs": [],
   "source": [
    "graphlab.canvas.set_target('ipynb')"
   ]
  },
  {
   "cell_type": "markdown",
   "metadata": {},
   "source": [
    "## Load data"
   ]
  },
  {
   "cell_type": "code",
   "execution_count": 3,
   "metadata": {
    "collapsed": false
   },
   "outputs": [
    {
     "name": "stdout",
     "output_type": "stream",
     "text": [
      "This non-commercial license of GraphLab Create is assigned to guoxiuhe@nefu.edu.cn and will expire on April 02, 2017. For commercial licensing options, visit https://dato.com/buy/.\n"
     ]
    },
    {
     "name": "stderr",
     "output_type": "stream",
     "text": [
      "2016-05-04 19:12:54,257 [INFO] graphlab.cython.cy_server, 176: GraphLab Create v1.9 started. Logging: C:\\Users\\heguoxiu\\AppData\\Local\\Temp\\graphlab_server_1462360370.log.0\n"
     ]
    },
    {
     "data": {
      "text/html": [
       "<pre>Finished parsing file E:\\Python\\2Graduation-Project\\Sogou_Extraction_Features.csv</pre>"
      ],
      "text/plain": [
       "Finished parsing file E:\\Python\\2Graduation-Project\\Sogou_Extraction_Features.csv"
      ]
     },
     "metadata": {},
     "output_type": "display_data"
    },
    {
     "data": {
      "text/html": [
       "<pre>Parsing completed. Parsed 100 lines in 0.160009 secs.</pre>"
      ],
      "text/plain": [
       "Parsing completed. Parsed 100 lines in 0.160009 secs."
      ]
     },
     "metadata": {},
     "output_type": "display_data"
    },
    {
     "name": "stdout",
     "output_type": "stream",
     "text": [
      "------------------------------------------------------\n",
      "Inferred types from first 100 line(s) of file as \n",
      "column_type_hints=[str,long,str,str,str,list,long,long,str,dict,str,str]\n",
      "If parsing fails due to incorrect types, you can correct\n",
      "the inferred type list above and pass it to read_csv in\n",
      "the column_type_hints argument\n",
      "------------------------------------------------------\n"
     ]
    },
    {
     "data": {
      "text/html": [
       "<pre>Finished parsing file E:\\Python\\2Graduation-Project\\Sogou_Extraction_Features.csv</pre>"
      ],
      "text/plain": [
       "Finished parsing file E:\\Python\\2Graduation-Project\\Sogou_Extraction_Features.csv"
      ]
     },
     "metadata": {},
     "output_type": "display_data"
    },
    {
     "data": {
      "text/html": [
       "<pre>Parsing completed. Parsed 10000 lines in 0.114007 secs.</pre>"
      ],
      "text/plain": [
       "Parsing completed. Parsed 10000 lines in 0.114007 secs."
      ]
     },
     "metadata": {},
     "output_type": "display_data"
    }
   ],
   "source": [
    "data = graphlab.SFrame.read_csv('Sogou_Extraction_Features.csv')"
   ]
  },
  {
   "cell_type": "markdown",
   "metadata": {},
   "source": [
    "## have a show of data"
   ]
  },
  {
   "cell_type": "code",
   "execution_count": 4,
   "metadata": {
    "collapsed": false,
    "scrolled": true
   },
   "outputs": [
    {
     "data": {
      "text/html": [
       "<div style=\"max-height:1000px;max-width:1500px;overflow:auto;\"><table frame=\"box\" rules=\"cols\">\n",
       "    <tr>\n",
       "        <th style=\"padding-left: 1em; padding-right: 1em; text-align: center\">﻿time</th>\n",
       "        <th style=\"padding-left: 1em; padding-right: 1em; text-align: center\">user_id</th>\n",
       "        <th style=\"padding-left: 1em; padding-right: 1em; text-align: center\">query</th>\n",
       "        <th style=\"padding-left: 1em; padding-right: 1em; text-align: center\">result_click</th>\n",
       "        <th style=\"padding-left: 1em; padding-right: 1em; text-align: center\">url</th>\n",
       "        <th style=\"padding-left: 1em; padding-right: 1em; text-align: center\">result_and_click</th>\n",
       "        <th style=\"padding-left: 1em; padding-right: 1em; text-align: center\">result_rank</th>\n",
       "    </tr>\n",
       "    <tr>\n",
       "        <td style=\"padding-left: 1em; padding-right: 1em; text-align: center; vertical-align: top\">00:00:00</td>\n",
       "        <td style=\"padding-left: 1em; padding-right: 1em; text-align: center; vertical-align: top\">2982199073774412</td>\n",
       "        <td style=\"padding-left: 1em; padding-right: 1em; text-align: center; vertical-align: top\">360安全卫士</td>\n",
       "        <td style=\"padding-left: 1em; padding-right: 1em; text-align: center; vertical-align: top\">8 3</td>\n",
       "        <td style=\"padding-left: 1em; padding-right: 1em; text-align: center; vertical-align: top\">download.it.com.cn/softwe<br>b/software/firewall/a ...</td>\n",
       "        <td style=\"padding-left: 1em; padding-right: 1em; text-align: center; vertical-align: top\">[8, 3]</td>\n",
       "        <td style=\"padding-left: 1em; padding-right: 1em; text-align: center; vertical-align: top\">8</td>\n",
       "    </tr>\n",
       "    <tr>\n",
       "        <td style=\"padding-left: 1em; padding-right: 1em; text-align: center; vertical-align: top\">00:00:00</td>\n",
       "        <td style=\"padding-left: 1em; padding-right: 1em; text-align: center; vertical-align: top\">7594220010824798</td>\n",
       "        <td style=\"padding-left: 1em; padding-right: 1em; text-align: center; vertical-align: top\">哄抢救灾物资</td>\n",
       "        <td style=\"padding-left: 1em; padding-right: 1em; text-align: center; vertical-align: top\">1 1</td>\n",
       "        <td style=\"padding-left: 1em; padding-right: 1em; text-align: center; vertical-align: top\">news.21cn.com/social/daqi<br>an/2008/05/29/4777194 ...</td>\n",
       "        <td style=\"padding-left: 1em; padding-right: 1em; text-align: center; vertical-align: top\">[1, 1]</td>\n",
       "        <td style=\"padding-left: 1em; padding-right: 1em; text-align: center; vertical-align: top\">1</td>\n",
       "    </tr>\n",
       "    <tr>\n",
       "        <td style=\"padding-left: 1em; padding-right: 1em; text-align: center; vertical-align: top\">00:00:00</td>\n",
       "        <td style=\"padding-left: 1em; padding-right: 1em; text-align: center; vertical-align: top\">5228056822071097</td>\n",
       "        <td style=\"padding-left: 1em; padding-right: 1em; text-align: center; vertical-align: top\">75810部队</td>\n",
       "        <td style=\"padding-left: 1em; padding-right: 1em; text-align: center; vertical-align: top\">14 5</td>\n",
       "        <td style=\"padding-left: 1em; padding-right: 1em; text-align: center; vertical-align: top\">www.greatoo.com/greatoo_c<br>n/list.asp?link_id=27 ...</td>\n",
       "        <td style=\"padding-left: 1em; padding-right: 1em; text-align: center; vertical-align: top\">[14, 5]</td>\n",
       "        <td style=\"padding-left: 1em; padding-right: 1em; text-align: center; vertical-align: top\">14</td>\n",
       "    </tr>\n",
       "    <tr>\n",
       "        <td style=\"padding-left: 1em; padding-right: 1em; text-align: center; vertical-align: top\">00:00:00</td>\n",
       "        <td style=\"padding-left: 1em; padding-right: 1em; text-align: center; vertical-align: top\">6140463203615646</td>\n",
       "        <td style=\"padding-left: 1em; padding-right: 1em; text-align: center; vertical-align: top\">绳艺</td>\n",
       "        <td style=\"padding-left: 1em; padding-right: 1em; text-align: center; vertical-align: top\">62 36</td>\n",
       "        <td style=\"padding-left: 1em; padding-right: 1em; text-align: center; vertical-align: top\">www.jd-cd.com/jd_opus/xx/<br>200607/706.html ...</td>\n",
       "        <td style=\"padding-left: 1em; padding-right: 1em; text-align: center; vertical-align: top\">[62, 36]</td>\n",
       "        <td style=\"padding-left: 1em; padding-right: 1em; text-align: center; vertical-align: top\">62</td>\n",
       "    </tr>\n",
       "    <tr>\n",
       "        <td style=\"padding-left: 1em; padding-right: 1em; text-align: center; vertical-align: top\">00:00:00</td>\n",
       "        <td style=\"padding-left: 1em; padding-right: 1em; text-align: center; vertical-align: top\">8561366108033201</td>\n",
       "        <td style=\"padding-left: 1em; padding-right: 1em; text-align: center; vertical-align: top\">汶川地震原因</td>\n",
       "        <td style=\"padding-left: 1em; padding-right: 1em; text-align: center; vertical-align: top\">3 2</td>\n",
       "        <td style=\"padding-left: 1em; padding-right: 1em; text-align: center; vertical-align: top\">www.big38.net</td>\n",
       "        <td style=\"padding-left: 1em; padding-right: 1em; text-align: center; vertical-align: top\">[3, 2]</td>\n",
       "        <td style=\"padding-left: 1em; padding-right: 1em; text-align: center; vertical-align: top\">3</td>\n",
       "    </tr>\n",
       "    <tr>\n",
       "        <td style=\"padding-left: 1em; padding-right: 1em; text-align: center; vertical-align: top\">00:00:00</td>\n",
       "        <td style=\"padding-left: 1em; padding-right: 1em; text-align: center; vertical-align: top\">23908140386148713</td>\n",
       "        <td style=\"padding-left: 1em; padding-right: 1em; text-align: center; vertical-align: top\">莫衷一是的意思</td>\n",
       "        <td style=\"padding-left: 1em; padding-right: 1em; text-align: center; vertical-align: top\">1 2</td>\n",
       "        <td style=\"padding-left: 1em; padding-right: 1em; text-align: center; vertical-align: top\">www.chinabaike.com/articl<br>e/81/82/110/2007/2007 ...</td>\n",
       "        <td style=\"padding-left: 1em; padding-right: 1em; text-align: center; vertical-align: top\">[1, 2]</td>\n",
       "        <td style=\"padding-left: 1em; padding-right: 1em; text-align: center; vertical-align: top\">1</td>\n",
       "    </tr>\n",
       "    <tr>\n",
       "        <td style=\"padding-left: 1em; padding-right: 1em; text-align: center; vertical-align: top\">00:00:00</td>\n",
       "        <td style=\"padding-left: 1em; padding-right: 1em; text-align: center; vertical-align: top\">1797943298449139</td>\n",
       "        <td style=\"padding-left: 1em; padding-right: 1em; text-align: center; vertical-align: top\">星梦缘全集在线观�<br>�� ...</td>\n",
       "        <td style=\"padding-left: 1em; padding-right: 1em; text-align: center; vertical-align: top\">8 5</td>\n",
       "        <td style=\"padding-left: 1em; padding-right: 1em; text-align: center; vertical-align: top\">www.6wei.net/dianshiju/??<br>??\\xa1\\xe9|????do=index ...</td>\n",
       "        <td style=\"padding-left: 1em; padding-right: 1em; text-align: center; vertical-align: top\">[8, 5]</td>\n",
       "        <td style=\"padding-left: 1em; padding-right: 1em; text-align: center; vertical-align: top\">8</td>\n",
       "    </tr>\n",
       "    <tr>\n",
       "        <td style=\"padding-left: 1em; padding-right: 1em; text-align: center; vertical-align: top\">00:00:00</td>\n",
       "        <td style=\"padding-left: 1em; padding-right: 1em; text-align: center; vertical-align: top\">717725924582846</td>\n",
       "        <td style=\"padding-left: 1em; padding-right: 1em; text-align: center; vertical-align: top\">闪字吧</td>\n",
       "        <td style=\"padding-left: 1em; padding-right: 1em; text-align: center; vertical-align: top\">1 2</td>\n",
       "        <td style=\"padding-left: 1em; padding-right: 1em; text-align: center; vertical-align: top\">www.shanziba.com</td>\n",
       "        <td style=\"padding-left: 1em; padding-right: 1em; text-align: center; vertical-align: top\">[1, 2]</td>\n",
       "        <td style=\"padding-left: 1em; padding-right: 1em; text-align: center; vertical-align: top\">1</td>\n",
       "    </tr>\n",
       "    <tr>\n",
       "        <td style=\"padding-left: 1em; padding-right: 1em; text-align: center; vertical-align: top\">00:00:00</td>\n",
       "        <td style=\"padding-left: 1em; padding-right: 1em; text-align: center; vertical-align: top\">41416219018952116</td>\n",
       "        <td style=\"padding-left: 1em; padding-right: 1em; text-align: center; vertical-align: top\">霍震霆与朱玲玲照�<br>�� ...</td>\n",
       "        <td style=\"padding-left: 1em; padding-right: 1em; text-align: center; vertical-align: top\">2 6</td>\n",
       "        <td style=\"padding-left: 1em; padding-right: 1em; text-align: center; vertical-align: top\">bbs.gouzai.cn/thread-6987<br>36.html ...</td>\n",
       "        <td style=\"padding-left: 1em; padding-right: 1em; text-align: center; vertical-align: top\">[2, 6]</td>\n",
       "        <td style=\"padding-left: 1em; padding-right: 1em; text-align: center; vertical-align: top\">2</td>\n",
       "    </tr>\n",
       "    <tr>\n",
       "        <td style=\"padding-left: 1em; padding-right: 1em; text-align: center; vertical-align: top\">00:00:00</td>\n",
       "        <td style=\"padding-left: 1em; padding-right: 1em; text-align: center; vertical-align: top\">9975666857142764</td>\n",
       "        <td style=\"padding-left: 1em; padding-right: 1em; text-align: center; vertical-align: top\">电脑创业</td>\n",
       "        <td style=\"padding-left: 1em; padding-right: 1em; text-align: center; vertical-align: top\">2 2</td>\n",
       "        <td style=\"padding-left: 1em; padding-right: 1em; text-align: center; vertical-align: top\">ks.cn.yahoo.com/question/<br>1307120203719.html ...</td>\n",
       "        <td style=\"padding-left: 1em; padding-right: 1em; text-align: center; vertical-align: top\">[2, 2]</td>\n",
       "        <td style=\"padding-left: 1em; padding-right: 1em; text-align: center; vertical-align: top\">2</td>\n",
       "    </tr>\n",
       "</table>\n",
       "<table frame=\"box\" rules=\"cols\">\n",
       "    <tr>\n",
       "        <th style=\"padding-left: 1em; padding-right: 1em; text-align: center\">click_rank</th>\n",
       "        <th style=\"padding-left: 1em; padding-right: 1em; text-align: center\">url_split</th>\n",
       "        <th style=\"padding-left: 1em; padding-right: 1em; text-align: center\">word_count</th>\n",
       "        <th style=\"padding-left: 1em; padding-right: 1em; text-align: center\">label</th>\n",
       "        <th style=\"padding-left: 1em; padding-right: 1em; text-align: center\">query_cut</th>\n",
       "    </tr>\n",
       "    <tr>\n",
       "        <td style=\"padding-left: 1em; padding-right: 1em; text-align: center; vertical-align: top\">3</td>\n",
       "        <td style=\"padding-left: 1em; padding-right: 1em; text-align: center; vertical-align: top\">[\"download.it\",\"softweb\",<br>\"software\",\"firewall\" ...</td>\n",
       "        <td style=\"padding-left: 1em; padding-right: 1em; text-align: center; vertical-align: top\">{'20067': 1L,<br>'download.it': 1L, ...</td>\n",
       "        <td style=\"padding-left: 1em; padding-right: 1em; text-align: center; vertical-align: top\">Resource</td>\n",
       "        <td style=\"padding-left: 1em; padding-right: 1em; text-align: center; vertical-align: top\">360 m 安全卫士 nz</td>\n",
       "    </tr>\n",
       "    <tr>\n",
       "        <td style=\"padding-left: 1em; padding-right: 1em; text-align: center; vertical-align: top\">1</td>\n",
       "        <td style=\"padding-left: 1em; padding-right: 1em; text-align: center; vertical-align: top\">[\"news.21cn\",\"social\",\"da<br>qian\",\"2008\",\"05\",\"29 ...</td>\n",
       "        <td style=\"padding-left: 1em; padding-right: 1em; text-align: center; vertical-align: top\">{'news.21cn': 1L, '05':<br>1L, 'daqian': 1L, '29': ...</td>\n",
       "        <td style=\"padding-left: 1em; padding-right: 1em; text-align: center; vertical-align: top\">Information</td>\n",
       "        <td style=\"padding-left: 1em; padding-right: 1em; text-align: center; vertical-align: top\">哄抢 v 救灾物资 l</td>\n",
       "    </tr>\n",
       "    <tr>\n",
       "        <td style=\"padding-left: 1em; padding-right: 1em; text-align: center; vertical-align: top\">5</td>\n",
       "        <td style=\"padding-left: 1em; padding-right: 1em; text-align: center; vertical-align: top\">[\"www.greatoo\",\"greatoo_c<br>n\",\"list.asp?link_id= ...</td>\n",
       "        <td style=\"padding-left: 1em; padding-right: 1em; text-align: center; vertical-align: top\">{'greatoo_cn': 1L, 'list.<br>asp?link_id=276&amp;title ...</td>\n",
       "        <td style=\"padding-left: 1em; padding-right: 1em; text-align: center; vertical-align: top\">Information</td>\n",
       "        <td style=\"padding-left: 1em; padding-right: 1em; text-align: center; vertical-align: top\">75810 m 部队 n</td>\n",
       "    </tr>\n",
       "    <tr>\n",
       "        <td style=\"padding-left: 1em; padding-right: 1em; text-align: center; vertical-align: top\">36</td>\n",
       "        <td style=\"padding-left: 1em; padding-right: 1em; text-align: center; vertical-align: top\">[\"www.jd-cd\",\"jd_opus\",\"x<br>x\",\"200607\",\"706l\"] ...</td>\n",
       "        <td style=\"padding-left: 1em; padding-right: 1em; text-align: center; vertical-align: top\">{'www.jd-cd': 1L,<br>'200607': 1L, 'xx': 1L, ...</td>\n",
       "        <td style=\"padding-left: 1em; padding-right: 1em; text-align: center; vertical-align: top\">Information</td>\n",
       "        <td style=\"padding-left: 1em; padding-right: 1em; text-align: center; vertical-align: top\">绳艺 n</td>\n",
       "    </tr>\n",
       "    <tr>\n",
       "        <td style=\"padding-left: 1em; padding-right: 1em; text-align: center; vertical-align: top\">2</td>\n",
       "        <td style=\"padding-left: 1em; padding-right: 1em; text-align: center; vertical-align: top\">[\"www.big38\",\"\"]</td>\n",
       "        <td style=\"padding-left: 1em; padding-right: 1em; text-align: center; vertical-align: top\">{'www.big38': 1L}</td>\n",
       "        <td style=\"padding-left: 1em; padding-right: 1em; text-align: center; vertical-align: top\">Navigation</td>\n",
       "        <td style=\"padding-left: 1em; padding-right: 1em; text-align: center; vertical-align: top\">汶川 ns 地震 n 原因<br>n ...</td>\n",
       "    </tr>\n",
       "    <tr>\n",
       "        <td style=\"padding-left: 1em; padding-right: 1em; text-align: center; vertical-align: top\">2</td>\n",
       "        <td style=\"padding-left: 1em; padding-right: 1em; text-align: center; vertical-align: top\">[\"www.chinabaike\",\"articl<br>e\",\"81\",\"82\",\"110\",\"2 ...</td>\n",
       "        <td style=\"padding-left: 1em; padding-right: 1em; text-align: center; vertical-align: top\">{'www.chinabaike': 1L,<br>'2007': 1L, 'article': ...</td>\n",
       "        <td style=\"padding-left: 1em; padding-right: 1em; text-align: center; vertical-align: top\">Information</td>\n",
       "        <td style=\"padding-left: 1em; padding-right: 1em; text-align: center; vertical-align: top\">莫衷一是 i 的 uj<br>意思 n ...</td>\n",
       "    </tr>\n",
       "    <tr>\n",
       "        <td style=\"padding-left: 1em; padding-right: 1em; text-align: center; vertical-align: top\">5</td>\n",
       "        <td style=\"padding-left: 1em; padding-right: 1em; text-align: center; vertical-align: top\">[\"www.6wei\",\"dianshiju\",\"<br>????\\xa1\\xe9|????do=i ...</td>\n",
       "        <td style=\"padding-left: 1em; padding-right: 1em; text-align: center; vertical-align: top\">{'www.6wei': 1L,<br>'dianshiju': 1L, '??? ...</td>\n",
       "        <td style=\"padding-left: 1em; padding-right: 1em; text-align: center; vertical-align: top\">Information</td>\n",
       "        <td style=\"padding-left: 1em; padding-right: 1em; text-align: center; vertical-align: top\">星梦缘 nr 全集 n<br>在线 b 观看 v ...</td>\n",
       "    </tr>\n",
       "    <tr>\n",
       "        <td style=\"padding-left: 1em; padding-right: 1em; text-align: center; vertical-align: top\">2</td>\n",
       "        <td style=\"padding-left: 1em; padding-right: 1em; text-align: center; vertical-align: top\">[\"www.shanziba\",\"\"]</td>\n",
       "        <td style=\"padding-left: 1em; padding-right: 1em; text-align: center; vertical-align: top\">{'www.shanziba': 1L}</td>\n",
       "        <td style=\"padding-left: 1em; padding-right: 1em; text-align: center; vertical-align: top\">Navigation</td>\n",
       "        <td style=\"padding-left: 1em; padding-right: 1em; text-align: center; vertical-align: top\">闪字 n 吧 y</td>\n",
       "    </tr>\n",
       "    <tr>\n",
       "        <td style=\"padding-left: 1em; padding-right: 1em; text-align: center; vertical-align: top\">6</td>\n",
       "        <td style=\"padding-left: 1em; padding-right: 1em; text-align: center; vertical-align: top\">[\"bbs.gouzai\",\"thread-<br>698736l\"] ...</td>\n",
       "        <td style=\"padding-left: 1em; padding-right: 1em; text-align: center; vertical-align: top\">{'bbs.gouzai': 1L,<br>'thread-698736l': 1L} ...</td>\n",
       "        <td style=\"padding-left: 1em; padding-right: 1em; text-align: center; vertical-align: top\">Resource</td>\n",
       "        <td style=\"padding-left: 1em; padding-right: 1em; text-align: center; vertical-align: top\">霍震霆 nr 与 p<br>朱玲玲 nr 照片 n ...</td>\n",
       "    </tr>\n",
       "    <tr>\n",
       "        <td style=\"padding-left: 1em; padding-right: 1em; text-align: center; vertical-align: top\">2</td>\n",
       "        <td style=\"padding-left: 1em; padding-right: 1em; text-align: center; vertical-align: top\">[\"ks.yahoo\",\"question\",\"1<br>307120203719l\"] ...</td>\n",
       "        <td style=\"padding-left: 1em; padding-right: 1em; text-align: center; vertical-align: top\">{'ks.yahoo': 1L,<br>'question': 1L, ...</td>\n",
       "        <td style=\"padding-left: 1em; padding-right: 1em; text-align: center; vertical-align: top\">Resource</td>\n",
       "        <td style=\"padding-left: 1em; padding-right: 1em; text-align: center; vertical-align: top\">电脑 n 创业 n</td>\n",
       "    </tr>\n",
       "</table>\n",
       "[10 rows x 12 columns]<br/>\n",
       "</div>"
      ],
      "text/plain": [
       "Columns:\n",
       "\t﻿time\tstr\n",
       "\tuser_id\tint\n",
       "\tquery\tstr\n",
       "\tresult_click\tstr\n",
       "\turl\tstr\n",
       "\tresult_and_click\tlist\n",
       "\tresult_rank\tint\n",
       "\tclick_rank\tint\n",
       "\turl_split\tstr\n",
       "\tword_count\tdict\n",
       "\tlabel\tstr\n",
       "\tquery_cut\tstr\n",
       "\n",
       "Rows: 10\n",
       "\n",
       "Data:\n",
       "+----------+-------------------+--------------------+--------------+\n",
       "|  ﻿time   |      user_id      |       query        | result_click |\n",
       "+----------+-------------------+--------------------+--------------+\n",
       "| 00:00:00 |  2982199073774412 |    360安全卫士     |     8 3      |\n",
       "| 00:00:00 |  7594220010824798 |    哄抢救灾物资    |     1 1      |\n",
       "| 00:00:00 |  5228056822071097 |     75810部队      |     14 5     |\n",
       "| 00:00:00 |  6140463203615646 |        绳艺        |    62 36     |\n",
       "| 00:00:00 |  8561366108033201 |    汶川地震原因    |     3 2      |\n",
       "| 00:00:00 | 23908140386148713 |   莫衷一是的意思   |     1 2      |\n",
       "| 00:00:00 |  1797943298449139 | 星梦缘全集在线观看 |     8 5      |\n",
       "| 00:00:00 |  717725924582846  |       闪字吧       |     1 2      |\n",
       "| 00:00:00 | 41416219018952116 | 霍震霆与朱玲玲照片 |     2 6      |\n",
       "| 00:00:00 |  9975666857142764 |      电脑创业      |     2 2      |\n",
       "+----------+-------------------+--------------------+--------------+\n",
       "+-------------------------------+------------------+-------------+------------+\n",
       "|              url              | result_and_click | result_rank | click_rank |\n",
       "+-------------------------------+------------------+-------------+------------+\n",
       "| download.it.com.cn/softweb... |      [8, 3]      |      8      |     3      |\n",
       "| news.21cn.com/social/daqia... |      [1, 1]      |      1      |     1      |\n",
       "| www.greatoo.com/greatoo_cn... |     [14, 5]      |      14     |     5      |\n",
       "| www.jd-cd.com/jd_opus/xx/2... |     [62, 36]     |      62     |     36     |\n",
       "|         www.big38.net         |      [3, 2]      |      3      |     2      |\n",
       "| www.chinabaike.com/article... |      [1, 2]      |      1      |     2      |\n",
       "| www.6wei.net/dianshiju/???... |      [8, 5]      |      8      |     5      |\n",
       "|        www.shanziba.com       |      [1, 2]      |      1      |     2      |\n",
       "| bbs.gouzai.cn/thread-69873... |      [2, 6]      |      2      |     6      |\n",
       "| ks.cn.yahoo.com/question/1... |      [2, 2]      |      2      |     2      |\n",
       "+-------------------------------+------------------+-------------+------------+\n",
       "+-------------------------------+-------------------------------+-------------+\n",
       "|           url_split           |           word_count          |    label    |\n",
       "+-------------------------------+-------------------------------+-------------+\n",
       "| [\"download.it\",\"softweb\",\"... | {'20067': 1L, 'download.it... |   Resource  |\n",
       "| [\"news.21cn\",\"social\",\"daq... | {'news.21cn': 1L, '05': 1L... | Information |\n",
       "| [\"www.greatoo\",\"greatoo_cn... | {'greatoo_cn': 1L, 'list.a... | Information |\n",
       "| [\"www.jd-cd\",\"jd_opus\",\"xx... | {'www.jd-cd': 1L, '200607'... | Information |\n",
       "|        [\"www.big38\",\"\"]       |       {'www.big38': 1L}       |  Navigation |\n",
       "| [\"www.chinabaike\",\"article... | {'www.chinabaike': 1L, '20... | Information |\n",
       "| [\"www.6wei\",\"dianshiju\",\"?... | {'www.6wei': 1L, 'dianshij... | Information |\n",
       "|      [\"www.shanziba\",\"\"]      |      {'www.shanziba': 1L}     |  Navigation |\n",
       "| [\"bbs.gouzai\",\"thread-6987... | {'bbs.gouzai': 1L, 'thread... |   Resource  |\n",
       "| [\"ks.yahoo\",\"question\",\"13... | {'ks.yahoo': 1L, 'question... |   Resource  |\n",
       "+-------------------------------+-------------------------------+-------------+\n",
       "+------------------------------------+\n",
       "|             query_cut              |\n",
       "+------------------------------------+\n",
       "|         360 m 安全卫士 nz          |\n",
       "|         哄抢 v 救灾物资 l          |\n",
       "|           75810 m 部队 n           |\n",
       "|               绳艺 n               |\n",
       "|       汶川 ns 地震 n 原因 n        |\n",
       "|      莫衷一是 i 的 uj 意思 n       |\n",
       "| 星梦缘 nr 全集 n 在线 b 观看 v...  |\n",
       "|            闪字 n 吧 y             |\n",
       "| 霍震霆 nr 与 p 朱玲玲 nr 照片 n... |\n",
       "|           电脑 n 创业 n            |\n",
       "+------------------------------------+\n",
       "[10 rows x 12 columns]"
      ]
     },
     "execution_count": 4,
     "metadata": {},
     "output_type": "execute_result"
    }
   ],
   "source": [
    "data.head()"
   ]
  },
  {
   "cell_type": "markdown",
   "metadata": {},
   "source": [
    "## Caculate the query_word_count of the query_cut"
   ]
  },
  {
   "cell_type": "code",
   "execution_count": 5,
   "metadata": {
    "collapsed": true
   },
   "outputs": [],
   "source": [
    "data['query_word_count'] = graphlab.text_analytics.count_words(data['query_cut'])"
   ]
  },
  {
   "cell_type": "code",
   "execution_count": 6,
   "metadata": {
    "collapsed": true
   },
   "outputs": [],
   "source": [
    "data['tfidf'] = graphlab.text_analytics.tf_idf(data['query_word_count'])"
   ]
  },
  {
   "cell_type": "markdown",
   "metadata": {},
   "source": [
    "## Set the train_data, validation_data, test_data"
   ]
  },
  {
   "cell_type": "code",
   "execution_count": 7,
   "metadata": {
    "collapsed": true
   },
   "outputs": [],
   "source": [
    "train_data, test_data = data.random_split(.8, seed=0)"
   ]
  },
  {
   "cell_type": "code",
   "execution_count": 8,
   "metadata": {
    "collapsed": true
   },
   "outputs": [],
   "source": [
    "train_data, validation_data = train_data.random_split(0.75, seed=0)"
   ]
  },
  {
   "cell_type": "markdown",
   "metadata": {},
   "source": [
    "# Experiment Analysis"
   ]
  },
  {
   "cell_type": "markdown",
   "metadata": {},
   "source": [
    "## 1. logistic_classifier"
   ]
  },
  {
   "cell_type": "code",
   "execution_count": 9,
   "metadata": {
    "collapsed": false
   },
   "outputs": [
    {
     "data": {
      "text/html": [
       "<pre>Logistic regression:</pre>"
      ],
      "text/plain": [
       "Logistic regression:"
      ]
     },
     "metadata": {},
     "output_type": "display_data"
    },
    {
     "data": {
      "text/html": [
       "<pre>--------------------------------------------------------</pre>"
      ],
      "text/plain": [
       "--------------------------------------------------------"
      ]
     },
     "metadata": {},
     "output_type": "display_data"
    },
    {
     "data": {
      "text/html": [
       "<pre>Number of examples          : 6010</pre>"
      ],
      "text/plain": [
       "Number of examples          : 6010"
      ]
     },
     "metadata": {},
     "output_type": "display_data"
    },
    {
     "data": {
      "text/html": [
       "<pre>Number of classes           : 3</pre>"
      ],
      "text/plain": [
       "Number of classes           : 3"
      ]
     },
     "metadata": {},
     "output_type": "display_data"
    },
    {
     "data": {
      "text/html": [
       "<pre>Number of feature columns   : 1</pre>"
      ],
      "text/plain": [
       "Number of feature columns   : 1"
      ]
     },
     "metadata": {},
     "output_type": "display_data"
    },
    {
     "data": {
      "text/html": [
       "<pre>Number of unpacked features : 4447</pre>"
      ],
      "text/plain": [
       "Number of unpacked features : 4447"
      ]
     },
     "metadata": {},
     "output_type": "display_data"
    },
    {
     "data": {
      "text/html": [
       "<pre>Number of coefficients    : 8896</pre>"
      ],
      "text/plain": [
       "Number of coefficients    : 8896"
      ]
     },
     "metadata": {},
     "output_type": "display_data"
    },
    {
     "data": {
      "text/html": [
       "<pre>Starting L-BFGS</pre>"
      ],
      "text/plain": [
       "Starting L-BFGS"
      ]
     },
     "metadata": {},
     "output_type": "display_data"
    },
    {
     "data": {
      "text/html": [
       "<pre>--------------------------------------------------------</pre>"
      ],
      "text/plain": [
       "--------------------------------------------------------"
      ]
     },
     "metadata": {},
     "output_type": "display_data"
    },
    {
     "data": {
      "text/html": [
       "<pre>+-----------+----------+-----------+--------------+-------------------+---------------------+</pre>"
      ],
      "text/plain": [
       "+-----------+----------+-----------+--------------+-------------------+---------------------+"
      ]
     },
     "metadata": {},
     "output_type": "display_data"
    },
    {
     "data": {
      "text/html": [
       "<pre>| Iteration | Passes   | Step size | Elapsed Time | Training-accuracy | Validation-accuracy |</pre>"
      ],
      "text/plain": [
       "| Iteration | Passes   | Step size | Elapsed Time | Training-accuracy | Validation-accuracy |"
      ]
     },
     "metadata": {},
     "output_type": "display_data"
    },
    {
     "data": {
      "text/html": [
       "<pre>+-----------+----------+-----------+--------------+-------------------+---------------------+</pre>"
      ],
      "text/plain": [
       "+-----------+----------+-----------+--------------+-------------------+---------------------+"
      ]
     },
     "metadata": {},
     "output_type": "display_data"
    },
    {
     "data": {
      "text/html": [
       "<pre>| 1         | 3        | 0.000166  | 1.026059     | 0.818303          | 0.672107            |</pre>"
      ],
      "text/plain": [
       "| 1         | 3        | 0.000166  | 1.026059     | 0.818303          | 0.672107            |"
      ]
     },
     "metadata": {},
     "output_type": "display_data"
    },
    {
     "data": {
      "text/html": [
       "<pre>| 2         | 5        | 1.000000  | 1.069061     | 0.830283          | 0.674085            |</pre>"
      ],
      "text/plain": [
       "| 2         | 5        | 1.000000  | 1.069061     | 0.830283          | 0.674085            |"
      ]
     },
     "metadata": {},
     "output_type": "display_data"
    },
    {
     "data": {
      "text/html": [
       "<pre>| 3         | 6        | 1.000000  | 1.170067     | 0.845258          | 0.652819            |</pre>"
      ],
      "text/plain": [
       "| 3         | 6        | 1.000000  | 1.170067     | 0.845258          | 0.652819            |"
      ]
     },
     "metadata": {},
     "output_type": "display_data"
    },
    {
     "data": {
      "text/html": [
       "<pre>| 4         | 7        | 1.000000  | 1.211069     | 0.856240          | 0.671118            |</pre>"
      ],
      "text/plain": [
       "| 4         | 7        | 1.000000  | 1.211069     | 0.856240          | 0.671118            |"
      ]
     },
     "metadata": {},
     "output_type": "display_data"
    },
    {
     "data": {
      "text/html": [
       "<pre>| 5         | 8        | 1.000000  | 1.256072     | 0.858902          | 0.676063            |</pre>"
      ],
      "text/plain": [
       "| 5         | 8        | 1.000000  | 1.256072     | 0.858902          | 0.676063            |"
      ]
     },
     "metadata": {},
     "output_type": "display_data"
    },
    {
     "data": {
      "text/html": [
       "<pre>| 6         | 9        | 1.000000  | 1.296074     | 0.860899          | 0.672107            |</pre>"
      ],
      "text/plain": [
       "| 6         | 9        | 1.000000  | 1.296074     | 0.860899          | 0.672107            |"
      ]
     },
     "metadata": {},
     "output_type": "display_data"
    },
    {
     "data": {
      "text/html": [
       "<pre>+-----------+----------+-----------+--------------+-------------------+---------------------+</pre>"
      ],
      "text/plain": [
       "+-----------+----------+-----------+--------------+-------------------+---------------------+"
      ]
     },
     "metadata": {},
     "output_type": "display_data"
    },
    {
     "data": {
      "text/html": [
       "<pre>TERMINATED: Iteration limit reached.</pre>"
      ],
      "text/plain": [
       "TERMINATED: Iteration limit reached."
      ]
     },
     "metadata": {},
     "output_type": "display_data"
    },
    {
     "data": {
      "text/html": [
       "<pre>This model may not be optimal. To improve it, consider increasing `max_iterations`.</pre>"
      ],
      "text/plain": [
       "This model may not be optimal. To improve it, consider increasing `max_iterations`."
      ]
     },
     "metadata": {},
     "output_type": "display_data"
    }
   ],
   "source": [
    "logistic_model = graphlab.logistic_classifier.create(train_data, target='label', features=['tfidf'], validation_set=validation_data)"
   ]
  },
  {
   "cell_type": "code",
   "execution_count": 10,
   "metadata": {
    "collapsed": false
   },
   "outputs": [
    {
     "data": {
      "text/plain": [
       "{'accuracy': 0.6600609756097561,\n",
       " 'auc': 0.7233940858960747,\n",
       " 'confusion_matrix': Columns:\n",
       " \ttarget_label\tstr\n",
       " \tpredicted_label\tstr\n",
       " \tcount\tint\n",
       " \n",
       " Rows: 9\n",
       " \n",
       " Data:\n",
       " +--------------+-----------------+-------+\n",
       " | target_label | predicted_label | count |\n",
       " +--------------+-----------------+-------+\n",
       " |   Resource   |    Navigation   |   13  |\n",
       " | Information  |    Navigation   |   72  |\n",
       " | Information  |     Resource    |  199  |\n",
       " |  Navigation  |    Navigation   |  102  |\n",
       " |  Navigation  |   Information   |  107  |\n",
       " |  Navigation  |     Resource    |   12  |\n",
       " |   Resource   |     Resource    |  136  |\n",
       " |   Resource   |   Information   |  266  |\n",
       " | Information  |   Information   |  1061 |\n",
       " +--------------+-----------------+-------+\n",
       " [9 rows x 3 columns],\n",
       " 'f1_score': 0.5413760644344618,\n",
       " 'log_loss': 1.2976648242124964,\n",
       " 'precision': 0.5590912683927527,\n",
       " 'recall': 0.528598617152834,\n",
       " 'roc_curve': Columns:\n",
       " \tthreshold\tfloat\n",
       " \tfpr\tfloat\n",
       " \ttpr\tfloat\n",
       " \tp\tint\n",
       " \tn\tint\n",
       " \tclass\tint\n",
       " \n",
       " Rows: 300003\n",
       " \n",
       " Data:\n",
       " +-----------+----------------+----------------+------+-----+-------+\n",
       " | threshold |      fpr       |      tpr       |  p   |  n  | class |\n",
       " +-----------+----------------+----------------+------+-----+-------+\n",
       " |    0.0    |      1.0       |      1.0       | 1332 | 636 |   0   |\n",
       " |   1e-05   |      1.0       |      1.0       | 1332 | 636 |   0   |\n",
       " |   2e-05   |      1.0       |      1.0       | 1332 | 636 |   0   |\n",
       " |   3e-05   |      1.0       |      1.0       | 1332 | 636 |   0   |\n",
       " |   4e-05   | 0.998427672956 | 0.999249249249 | 1332 | 636 |   0   |\n",
       " |   5e-05   | 0.998427672956 | 0.999249249249 | 1332 | 636 |   0   |\n",
       " |   6e-05   | 0.998427672956 | 0.999249249249 | 1332 | 636 |   0   |\n",
       " |   7e-05   | 0.998427672956 | 0.999249249249 | 1332 | 636 |   0   |\n",
       " |   8e-05   | 0.998427672956 | 0.997747747748 | 1332 | 636 |   0   |\n",
       " |   9e-05   | 0.998427672956 | 0.997747747748 | 1332 | 636 |   0   |\n",
       " +-----------+----------------+----------------+------+-----+-------+\n",
       " [300003 rows x 6 columns]\n",
       " Note: Only the head of the SFrame is printed.\n",
       " You can use print_rows(num_rows=m, num_columns=n) to print more rows and columns.}"
      ]
     },
     "execution_count": 10,
     "metadata": {},
     "output_type": "execute_result"
    }
   ],
   "source": [
    "logistic_model.evaluate(test_data)"
   ]
  },
  {
   "cell_type": "markdown",
   "metadata": {},
   "source": [
    "## 2. boosted_trees_classifier"
   ]
  },
  {
   "cell_type": "code",
   "execution_count": 11,
   "metadata": {
    "collapsed": false
   },
   "outputs": [
    {
     "data": {
      "text/html": [
       "<pre>Boosted trees classifier:</pre>"
      ],
      "text/plain": [
       "Boosted trees classifier:"
      ]
     },
     "metadata": {},
     "output_type": "display_data"
    },
    {
     "data": {
      "text/html": [
       "<pre>--------------------------------------------------------</pre>"
      ],
      "text/plain": [
       "--------------------------------------------------------"
      ]
     },
     "metadata": {},
     "output_type": "display_data"
    },
    {
     "data": {
      "text/html": [
       "<pre>Number of examples          : 6010</pre>"
      ],
      "text/plain": [
       "Number of examples          : 6010"
      ]
     },
     "metadata": {},
     "output_type": "display_data"
    },
    {
     "data": {
      "text/html": [
       "<pre>Number of classes           : 3</pre>"
      ],
      "text/plain": [
       "Number of classes           : 3"
      ]
     },
     "metadata": {},
     "output_type": "display_data"
    },
    {
     "data": {
      "text/html": [
       "<pre>Number of feature columns   : 1</pre>"
      ],
      "text/plain": [
       "Number of feature columns   : 1"
      ]
     },
     "metadata": {},
     "output_type": "display_data"
    },
    {
     "data": {
      "text/html": [
       "<pre>Number of unpacked features : 4447</pre>"
      ],
      "text/plain": [
       "Number of unpacked features : 4447"
      ]
     },
     "metadata": {},
     "output_type": "display_data"
    },
    {
     "data": {
      "text/html": [
       "<pre>+-----------+--------------+-------------------+-------------------+---------------------+---------------------+</pre>"
      ],
      "text/plain": [
       "+-----------+--------------+-------------------+-------------------+---------------------+---------------------+"
      ]
     },
     "metadata": {},
     "output_type": "display_data"
    },
    {
     "data": {
      "text/html": [
       "<pre>| Iteration | Elapsed Time | Training-accuracy | Training-log_loss | Validation-accuracy | Validation-log_loss |</pre>"
      ],
      "text/plain": [
       "| Iteration | Elapsed Time | Training-accuracy | Training-log_loss | Validation-accuracy | Validation-log_loss |"
      ]
     },
     "metadata": {},
     "output_type": "display_data"
    },
    {
     "data": {
      "text/html": [
       "<pre>+-----------+--------------+-------------------+-------------------+---------------------+---------------------+</pre>"
      ],
      "text/plain": [
       "+-----------+--------------+-------------------+-------------------+---------------------+---------------------+"
      ]
     },
     "metadata": {},
     "output_type": "display_data"
    },
    {
     "data": {
      "text/html": [
       "<pre>| 1         | 0.044003     | 0.693511          | 0.967202          | 0.665183            | 0.974521            |</pre>"
      ],
      "text/plain": [
       "| 1         | 0.044003     | 0.693511          | 0.967202          | 0.665183            | 0.974521            |"
      ]
     },
     "metadata": {},
     "output_type": "display_data"
    },
    {
     "data": {
      "text/html": [
       "<pre>| 2         | 0.086005     | 0.695840          | 0.885471          | 0.671118            | 0.901324            |</pre>"
      ],
      "text/plain": [
       "| 2         | 0.086005     | 0.695840          | 0.885471          | 0.671118            | 0.901324            |"
      ]
     },
     "metadata": {},
     "output_type": "display_data"
    },
    {
     "data": {
      "text/html": [
       "<pre>| 3         | 0.127008     | 0.696506          | 0.835160          | 0.672601            | 0.856580            |</pre>"
      ],
      "text/plain": [
       "| 3         | 0.127008     | 0.696506          | 0.835160          | 0.672601            | 0.856580            |"
      ]
     },
     "metadata": {},
     "output_type": "display_data"
    },
    {
     "data": {
      "text/html": [
       "<pre>| 4         | 0.171010     | 0.696672          | 0.800387          | 0.674085            | 0.826896            |</pre>"
      ],
      "text/plain": [
       "| 4         | 0.171010     | 0.696672          | 0.800387          | 0.674085            | 0.826896            |"
      ]
     },
     "metadata": {},
     "output_type": "display_data"
    },
    {
     "data": {
      "text/html": [
       "<pre>| 5         | 0.212012     | 0.698502          | 0.773593          | 0.674085            | 0.805420            |</pre>"
      ],
      "text/plain": [
       "| 5         | 0.212012     | 0.698502          | 0.773593          | 0.674085            | 0.805420            |"
      ]
     },
     "metadata": {},
     "output_type": "display_data"
    },
    {
     "data": {
      "text/html": [
       "<pre>| 6         | 0.253015     | 0.697504          | 0.755660          | 0.674580            | 0.792164            |</pre>"
      ],
      "text/plain": [
       "| 6         | 0.253015     | 0.697504          | 0.755660          | 0.674580            | 0.792164            |"
      ]
     },
     "metadata": {},
     "output_type": "display_data"
    },
    {
     "data": {
      "text/html": [
       "<pre>+-----------+--------------+-------------------+-------------------+---------------------+---------------------+</pre>"
      ],
      "text/plain": [
       "+-----------+--------------+-------------------+-------------------+---------------------+---------------------+"
      ]
     },
     "metadata": {},
     "output_type": "display_data"
    }
   ],
   "source": [
    "boost_model = graphlab.boosted_trees_classifier.create(train_data, target='label', features=['tfidf'], validation_set=validation_data)"
   ]
  },
  {
   "cell_type": "code",
   "execution_count": 12,
   "metadata": {
    "collapsed": false,
    "scrolled": false
   },
   "outputs": [
    {
     "data": {
      "text/plain": [
       "{'accuracy': 0.6859756097560976,\n",
       " 'auc': 0.7082852966264563,\n",
       " 'confusion_matrix': Columns:\n",
       " \ttarget_label\tstr\n",
       " \tpredicted_label\tstr\n",
       " \tcount\tint\n",
       " \n",
       " Rows: 8\n",
       " \n",
       " Data:\n",
       " +--------------+-----------------+-------+\n",
       " | target_label | predicted_label | count |\n",
       " +--------------+-----------------+-------+\n",
       " |   Resource   |    Navigation   |   1   |\n",
       " |  Navigation  |    Navigation   |   39  |\n",
       " |  Navigation  |   Information   |  182  |\n",
       " | Information  |     Resource    |   12  |\n",
       " | Information  |    Navigation   |   17  |\n",
       " |   Resource   |     Resource    |   8   |\n",
       " |   Resource   |   Information   |  406  |\n",
       " | Information  |   Information   |  1303 |\n",
       " +--------------+-----------------+-------+\n",
       " [8 rows x 3 columns],\n",
       " 'f1_score': 0.3753068663218077,\n",
       " 'log_loss': 0.7529904191750523,\n",
       " 'precision': 0.5910879790698322,\n",
       " 'recall': 0.39132530829908574,\n",
       " 'roc_curve': Columns:\n",
       " \tthreshold\tfloat\n",
       " \tfpr\tfloat\n",
       " \ttpr\tfloat\n",
       " \tp\tint\n",
       " \tn\tint\n",
       " \tclass\tint\n",
       " \n",
       " Rows: 300003\n",
       " \n",
       " Data:\n",
       " +-----------+-----+-----+------+-----+-------+\n",
       " | threshold | fpr | tpr |  p   |  n  | class |\n",
       " +-----------+-----+-----+------+-----+-------+\n",
       " |    0.0    | 1.0 | 1.0 | 1332 | 636 |   0   |\n",
       " |   1e-05   | 1.0 | 1.0 | 1332 | 636 |   0   |\n",
       " |   2e-05   | 1.0 | 1.0 | 1332 | 636 |   0   |\n",
       " |   3e-05   | 1.0 | 1.0 | 1332 | 636 |   0   |\n",
       " |   4e-05   | 1.0 | 1.0 | 1332 | 636 |   0   |\n",
       " |   5e-05   | 1.0 | 1.0 | 1332 | 636 |   0   |\n",
       " |   6e-05   | 1.0 | 1.0 | 1332 | 636 |   0   |\n",
       " |   7e-05   | 1.0 | 1.0 | 1332 | 636 |   0   |\n",
       " |   8e-05   | 1.0 | 1.0 | 1332 | 636 |   0   |\n",
       " |   9e-05   | 1.0 | 1.0 | 1332 | 636 |   0   |\n",
       " +-----------+-----+-----+------+-----+-------+\n",
       " [300003 rows x 6 columns]\n",
       " Note: Only the head of the SFrame is printed.\n",
       " You can use print_rows(num_rows=m, num_columns=n) to print more rows and columns.}"
      ]
     },
     "execution_count": 12,
     "metadata": {},
     "output_type": "execute_result"
    }
   ],
   "source": [
    "boost_model.evaluate(test_data)"
   ]
  },
  {
   "cell_type": "markdown",
   "metadata": {},
   "source": [
    "## 3. decision_tree_classifier"
   ]
  },
  {
   "cell_type": "code",
   "execution_count": 13,
   "metadata": {
    "collapsed": false
   },
   "outputs": [
    {
     "data": {
      "text/html": [
       "<pre>Decision tree classifier:</pre>"
      ],
      "text/plain": [
       "Decision tree classifier:"
      ]
     },
     "metadata": {},
     "output_type": "display_data"
    },
    {
     "data": {
      "text/html": [
       "<pre>--------------------------------------------------------</pre>"
      ],
      "text/plain": [
       "--------------------------------------------------------"
      ]
     },
     "metadata": {},
     "output_type": "display_data"
    },
    {
     "data": {
      "text/html": [
       "<pre>Number of examples          : 6010</pre>"
      ],
      "text/plain": [
       "Number of examples          : 6010"
      ]
     },
     "metadata": {},
     "output_type": "display_data"
    },
    {
     "data": {
      "text/html": [
       "<pre>Number of classes           : 3</pre>"
      ],
      "text/plain": [
       "Number of classes           : 3"
      ]
     },
     "metadata": {},
     "output_type": "display_data"
    },
    {
     "data": {
      "text/html": [
       "<pre>Number of feature columns   : 1</pre>"
      ],
      "text/plain": [
       "Number of feature columns   : 1"
      ]
     },
     "metadata": {},
     "output_type": "display_data"
    },
    {
     "data": {
      "text/html": [
       "<pre>Number of unpacked features : 4447</pre>"
      ],
      "text/plain": [
       "Number of unpacked features : 4447"
      ]
     },
     "metadata": {},
     "output_type": "display_data"
    },
    {
     "data": {
      "text/html": [
       "<pre>+-----------+--------------+-------------------+-------------------+---------------------+---------------------+</pre>"
      ],
      "text/plain": [
       "+-----------+--------------+-------------------+-------------------+---------------------+---------------------+"
      ]
     },
     "metadata": {},
     "output_type": "display_data"
    },
    {
     "data": {
      "text/html": [
       "<pre>| Iteration | Elapsed Time | Training-accuracy | Training-log_loss | Validation-accuracy | Validation-log_loss |</pre>"
      ],
      "text/plain": [
       "| Iteration | Elapsed Time | Training-accuracy | Training-log_loss | Validation-accuracy | Validation-log_loss |"
      ]
     },
     "metadata": {},
     "output_type": "display_data"
    },
    {
     "data": {
      "text/html": [
       "<pre>+-----------+--------------+-------------------+-------------------+---------------------+---------------------+</pre>"
      ],
      "text/plain": [
       "+-----------+--------------+-------------------+-------------------+---------------------+---------------------+"
      ]
     },
     "metadata": {},
     "output_type": "display_data"
    },
    {
     "data": {
      "text/html": [
       "<pre>| 1         | 0.031002     | 0.693511          | 0.967202          | 0.665183            | 0.974521            |</pre>"
      ],
      "text/plain": [
       "| 1         | 0.031002     | 0.693511          | 0.967202          | 0.665183            | 0.974521            |"
      ]
     },
     "metadata": {},
     "output_type": "display_data"
    },
    {
     "data": {
      "text/html": [
       "<pre>+-----------+--------------+-------------------+-------------------+---------------------+---------------------+</pre>"
      ],
      "text/plain": [
       "+-----------+--------------+-------------------+-------------------+---------------------+---------------------+"
      ]
     },
     "metadata": {},
     "output_type": "display_data"
    }
   ],
   "source": [
    "tree_model = graphlab.decision_tree_classifier.create(train_data, target='label', features=['tfidf'], validation_set=validation_data)"
   ]
  },
  {
   "cell_type": "code",
   "execution_count": 14,
   "metadata": {
    "collapsed": false
   },
   "outputs": [
    {
     "data": {
      "text/plain": [
       "{'accuracy': 0.679369918699187,\n",
       " 'auc': 0.6717311270767645,\n",
       " 'confusion_matrix': Columns:\n",
       " \ttarget_label\tstr\n",
       " \tpredicted_label\tstr\n",
       " \tcount\tint\n",
       " \n",
       " Rows: 9\n",
       " \n",
       " Data:\n",
       " +--------------+-----------------+-------+\n",
       " | target_label | predicted_label | count |\n",
       " +--------------+-----------------+-------+\n",
       " |   Resource   |    Navigation   |   1   |\n",
       " |  Navigation  |    Navigation   |   22  |\n",
       " |  Navigation  |   Information   |  195  |\n",
       " | Information  |     Resource    |   17  |\n",
       " | Information  |    Navigation   |   14  |\n",
       " |  Navigation  |     Resource    |   4   |\n",
       " |   Resource   |     Resource    |   14  |\n",
       " |   Resource   |   Information   |  400  |\n",
       " | Information  |   Information   |  1301 |\n",
       " +--------------+-----------------+-------+\n",
       " [9 rows x 3 columns],\n",
       " 'f1_score': 0.34627890966959,\n",
       " 'log_loss': 0.9716732110494738,\n",
       " 'precision': 0.5602586763979169,\n",
       " 'recall': 0.37000305926599336,\n",
       " 'roc_curve': Columns:\n",
       " \tthreshold\tfloat\n",
       " \tfpr\tfloat\n",
       " \ttpr\tfloat\n",
       " \tp\tint\n",
       " \tn\tint\n",
       " \tclass\tint\n",
       " \n",
       " Rows: 300003\n",
       " \n",
       " Data:\n",
       " +-----------+-----+-----+------+-----+-------+\n",
       " | threshold | fpr | tpr |  p   |  n  | class |\n",
       " +-----------+-----+-----+------+-----+-------+\n",
       " |    0.0    | 1.0 | 1.0 | 1332 | 636 |   0   |\n",
       " |   1e-05   | 1.0 | 1.0 | 1332 | 636 |   0   |\n",
       " |   2e-05   | 1.0 | 1.0 | 1332 | 636 |   0   |\n",
       " |   3e-05   | 1.0 | 1.0 | 1332 | 636 |   0   |\n",
       " |   4e-05   | 1.0 | 1.0 | 1332 | 636 |   0   |\n",
       " |   5e-05   | 1.0 | 1.0 | 1332 | 636 |   0   |\n",
       " |   6e-05   | 1.0 | 1.0 | 1332 | 636 |   0   |\n",
       " |   7e-05   | 1.0 | 1.0 | 1332 | 636 |   0   |\n",
       " |   8e-05   | 1.0 | 1.0 | 1332 | 636 |   0   |\n",
       " |   9e-05   | 1.0 | 1.0 | 1332 | 636 |   0   |\n",
       " +-----------+-----+-----+------+-----+-------+\n",
       " [300003 rows x 6 columns]\n",
       " Note: Only the head of the SFrame is printed.\n",
       " You can use print_rows(num_rows=m, num_columns=n) to print more rows and columns.}"
      ]
     },
     "execution_count": 14,
     "metadata": {},
     "output_type": "execute_result"
    }
   ],
   "source": [
    "tree_model.evaluate(test_data)"
   ]
  },
  {
   "cell_type": "markdown",
   "metadata": {},
   "source": [
    "## 4. nearest_neighbor_classifier"
   ]
  },
  {
   "cell_type": "code",
   "execution_count": 15,
   "metadata": {
    "collapsed": false
   },
   "outputs": [
    {
     "data": {
      "text/html": [
       "<pre>Starting brute force nearest neighbors model training.</pre>"
      ],
      "text/plain": [
       "Starting brute force nearest neighbors model training."
      ]
     },
     "metadata": {},
     "output_type": "display_data"
    }
   ],
   "source": [
    "knn_model = graphlab.nearest_neighbor_classifier.create(train_data, target='label', features=['tfidf'])"
   ]
  },
  {
   "cell_type": "code",
   "execution_count": 16,
   "metadata": {
    "collapsed": false
   },
   "outputs": [
    {
     "name": "stdout",
     "output_type": "stream",
     "text": [
      "WARNING: Ignoring `roc_curve`. Not supported for multi-class classification.\n"
     ]
    },
    {
     "data": {
      "text/html": [
       "<pre>Starting pairwise querying.</pre>"
      ],
      "text/plain": [
       "Starting pairwise querying."
      ]
     },
     "metadata": {},
     "output_type": "display_data"
    },
    {
     "data": {
      "text/html": [
       "<pre>+--------------+---------+-------------+--------------+</pre>"
      ],
      "text/plain": [
       "+--------------+---------+-------------+--------------+"
      ]
     },
     "metadata": {},
     "output_type": "display_data"
    },
    {
     "data": {
      "text/html": [
       "<pre>| Query points | # Pairs | % Complete. | Elapsed Time |</pre>"
      ],
      "text/plain": [
       "| Query points | # Pairs | % Complete. | Elapsed Time |"
      ]
     },
     "metadata": {},
     "output_type": "display_data"
    },
    {
     "data": {
      "text/html": [
       "<pre>+--------------+---------+-------------+--------------+</pre>"
      ],
      "text/plain": [
       "+--------------+---------+-------------+--------------+"
      ]
     },
     "metadata": {},
     "output_type": "display_data"
    },
    {
     "data": {
      "text/html": [
       "<pre>| 0            | 1968    | 0.0166389   | 5.001ms      |</pre>"
      ],
      "text/plain": [
       "| 0            | 1968    | 0.0166389   | 5.001ms      |"
      ]
     },
     "metadata": {},
     "output_type": "display_data"
    },
    {
     "data": {
      "text/html": [
       "<pre>| Done         |         | 100         | 519.03ms     |</pre>"
      ],
      "text/plain": [
       "| Done         |         | 100         | 519.03ms     |"
      ]
     },
     "metadata": {},
     "output_type": "display_data"
    },
    {
     "data": {
      "text/html": [
       "<pre>+--------------+---------+-------------+--------------+</pre>"
      ],
      "text/plain": [
       "+--------------+---------+-------------+--------------+"
      ]
     },
     "metadata": {},
     "output_type": "display_data"
    },
    {
     "data": {
      "text/html": [
       "<pre>Starting pairwise querying.</pre>"
      ],
      "text/plain": [
       "Starting pairwise querying."
      ]
     },
     "metadata": {},
     "output_type": "display_data"
    },
    {
     "data": {
      "text/html": [
       "<pre>+--------------+---------+-------------+--------------+</pre>"
      ],
      "text/plain": [
       "+--------------+---------+-------------+--------------+"
      ]
     },
     "metadata": {},
     "output_type": "display_data"
    },
    {
     "data": {
      "text/html": [
       "<pre>| Query points | # Pairs | % Complete. | Elapsed Time |</pre>"
      ],
      "text/plain": [
       "| Query points | # Pairs | % Complete. | Elapsed Time |"
      ]
     },
     "metadata": {},
     "output_type": "display_data"
    },
    {
     "data": {
      "text/html": [
       "<pre>+--------------+---------+-------------+--------------+</pre>"
      ],
      "text/plain": [
       "+--------------+---------+-------------+--------------+"
      ]
     },
     "metadata": {},
     "output_type": "display_data"
    },
    {
     "data": {
      "text/html": [
       "<pre>| 0            | 1968    | 0.0166389   | 2ms          |</pre>"
      ],
      "text/plain": [
       "| 0            | 1968    | 0.0166389   | 2ms          |"
      ]
     },
     "metadata": {},
     "output_type": "display_data"
    },
    {
     "data": {
      "text/html": [
       "<pre>| Done         |         | 100         | 507.029ms    |</pre>"
      ],
      "text/plain": [
       "| Done         |         | 100         | 507.029ms    |"
      ]
     },
     "metadata": {},
     "output_type": "display_data"
    },
    {
     "data": {
      "text/html": [
       "<pre>+--------------+---------+-------------+--------------+</pre>"
      ],
      "text/plain": [
       "+--------------+---------+-------------+--------------+"
      ]
     },
     "metadata": {},
     "output_type": "display_data"
    },
    {
     "data": {
      "text/plain": [
       "{'accuracy': 0.6422764227642277, 'confusion_matrix': Columns:\n",
       " \ttarget_label\tstr\n",
       " \tpredicted_label\tstr\n",
       " \tcount\tint\n",
       " \n",
       " Rows: 9\n",
       " \n",
       " Data:\n",
       " +--------------+-----------------+-------+\n",
       " | target_label | predicted_label | count |\n",
       " +--------------+-----------------+-------+\n",
       " | Information  |   Information   |  1062 |\n",
       " |   Resource   |   Information   |  290  |\n",
       " |   Resource   |    Navigation   |   50  |\n",
       " |  Navigation  |   Information   |   84  |\n",
       " | Information  |    Navigation   |  150  |\n",
       " | Information  |     Resource    |  120  |\n",
       " |  Navigation  |    Navigation   |  127  |\n",
       " |   Resource   |     Resource    |   75  |\n",
       " |  Navigation  |     Resource    |   10  |\n",
       " +--------------+-----------------+-------+\n",
       " [9 rows x 3 columns]}"
      ]
     },
     "execution_count": 16,
     "metadata": {},
     "output_type": "execute_result"
    }
   ],
   "source": [
    "knn_model.evaluate(test_data)"
   ]
  },
  {
   "cell_type": "markdown",
   "metadata": {},
   "source": [
    "## 5. random_forest_classifier"
   ]
  },
  {
   "cell_type": "code",
   "execution_count": 17,
   "metadata": {
    "collapsed": false
   },
   "outputs": [
    {
     "data": {
      "text/html": [
       "<pre>Random forest classifier:</pre>"
      ],
      "text/plain": [
       "Random forest classifier:"
      ]
     },
     "metadata": {},
     "output_type": "display_data"
    },
    {
     "data": {
      "text/html": [
       "<pre>--------------------------------------------------------</pre>"
      ],
      "text/plain": [
       "--------------------------------------------------------"
      ]
     },
     "metadata": {},
     "output_type": "display_data"
    },
    {
     "data": {
      "text/html": [
       "<pre>Number of examples          : 6010</pre>"
      ],
      "text/plain": [
       "Number of examples          : 6010"
      ]
     },
     "metadata": {},
     "output_type": "display_data"
    },
    {
     "data": {
      "text/html": [
       "<pre>Number of classes           : 3</pre>"
      ],
      "text/plain": [
       "Number of classes           : 3"
      ]
     },
     "metadata": {},
     "output_type": "display_data"
    },
    {
     "data": {
      "text/html": [
       "<pre>Number of feature columns   : 1</pre>"
      ],
      "text/plain": [
       "Number of feature columns   : 1"
      ]
     },
     "metadata": {},
     "output_type": "display_data"
    },
    {
     "data": {
      "text/html": [
       "<pre>Number of unpacked features : 4447</pre>"
      ],
      "text/plain": [
       "Number of unpacked features : 4447"
      ]
     },
     "metadata": {},
     "output_type": "display_data"
    },
    {
     "data": {
      "text/html": [
       "<pre>+-----------+--------------+-------------------+-------------------+---------------------+---------------------+</pre>"
      ],
      "text/plain": [
       "+-----------+--------------+-------------------+-------------------+---------------------+---------------------+"
      ]
     },
     "metadata": {},
     "output_type": "display_data"
    },
    {
     "data": {
      "text/html": [
       "<pre>| Iteration | Elapsed Time | Training-accuracy | Training-log_loss | Validation-accuracy | Validation-log_loss |</pre>"
      ],
      "text/plain": [
       "| Iteration | Elapsed Time | Training-accuracy | Training-log_loss | Validation-accuracy | Validation-log_loss |"
      ]
     },
     "metadata": {},
     "output_type": "display_data"
    },
    {
     "data": {
      "text/html": [
       "<pre>+-----------+--------------+-------------------+-------------------+---------------------+---------------------+</pre>"
      ],
      "text/plain": [
       "+-----------+--------------+-------------------+-------------------+---------------------+---------------------+"
      ]
     },
     "metadata": {},
     "output_type": "display_data"
    },
    {
     "data": {
      "text/html": [
       "<pre>| 1         | 0.041003     | 0.693844          | 0.790007          | 0.669634            | 0.818903            |</pre>"
      ],
      "text/plain": [
       "| 1         | 0.041003     | 0.693844          | 0.790007          | 0.669634            | 0.818903            |"
      ]
     },
     "metadata": {},
     "output_type": "display_data"
    },
    {
     "data": {
      "text/html": [
       "<pre>| 2         | 0.073005     | 0.689351          | 0.786998          | 0.673096            | 0.813416            |</pre>"
      ],
      "text/plain": [
       "| 2         | 0.073005     | 0.689351          | 0.786998          | 0.673096            | 0.813416            |"
      ]
     },
     "metadata": {},
     "output_type": "display_data"
    },
    {
     "data": {
      "text/html": [
       "<pre>| 3         | 0.110007     | 0.689517          | 0.787223          | 0.674580            | 0.813828            |</pre>"
      ],
      "text/plain": [
       "| 3         | 0.110007     | 0.689517          | 0.787223          | 0.674580            | 0.813828            |"
      ]
     },
     "metadata": {},
     "output_type": "display_data"
    },
    {
     "data": {
      "text/html": [
       "<pre>| 4         | 0.143009     | 0.691847          | 0.787528          | 0.676558            | 0.814237            |</pre>"
      ],
      "text/plain": [
       "| 4         | 0.143009     | 0.691847          | 0.787528          | 0.676558            | 0.814237            |"
      ]
     },
     "metadata": {},
     "output_type": "display_data"
    },
    {
     "data": {
      "text/html": [
       "<pre>| 5         | 0.187011     | 0.688186          | 0.786888          | 0.674580            | 0.813492            |</pre>"
      ],
      "text/plain": [
       "| 5         | 0.187011     | 0.688186          | 0.786888          | 0.674580            | 0.813492            |"
      ]
     },
     "metadata": {},
     "output_type": "display_data"
    },
    {
     "data": {
      "text/html": [
       "<pre>| 6         | 0.222013     | 0.691847          | 0.787143          | 0.677052            | 0.814426            |</pre>"
      ],
      "text/plain": [
       "| 6         | 0.222013     | 0.691847          | 0.787143          | 0.677052            | 0.814426            |"
      ]
     },
     "metadata": {},
     "output_type": "display_data"
    },
    {
     "data": {
      "text/html": [
       "<pre>+-----------+--------------+-------------------+-------------------+---------------------+---------------------+</pre>"
      ],
      "text/plain": [
       "+-----------+--------------+-------------------+-------------------+---------------------+---------------------+"
      ]
     },
     "metadata": {},
     "output_type": "display_data"
    }
   ],
   "source": [
    "rf_model = graphlab.random_forest_classifier.create(train_data, target='label', features=['tfidf'], validation_set=validation_data)"
   ]
  },
  {
   "cell_type": "code",
   "execution_count": 18,
   "metadata": {
    "collapsed": false
   },
   "outputs": [
    {
     "data": {
      "text/plain": [
       "{'accuracy': 0.6875, 'auc': 0.6923104953105416, 'confusion_matrix': Columns:\n",
       " \ttarget_label\tstr\n",
       " \tpredicted_label\tstr\n",
       " \tcount\tint\n",
       " \n",
       " Rows: 7\n",
       " \n",
       " Data:\n",
       " +--------------+-----------------+-------+\n",
       " | target_label | predicted_label | count |\n",
       " +--------------+-----------------+-------+\n",
       " |  Navigation  |    Navigation   |   33  |\n",
       " |  Navigation  |   Information   |  188  |\n",
       " |   Resource   |     Resource    |   8   |\n",
       " |   Resource   |   Information   |  407  |\n",
       " | Information  |   Information   |  1312 |\n",
       " | Information  |    Navigation   |   17  |\n",
       " | Information  |     Resource    |   3   |\n",
       " +--------------+-----------------+-------+\n",
       " [7 rows x 3 columns], 'f1_score': 0.36374256771628155, 'log_loss': 0.8019730761225622, 'precision': 0.6917547790437145, 'recall': 0.38452778679568184, 'roc_curve': Columns:\n",
       " \tthreshold\tfloat\n",
       " \tfpr\tfloat\n",
       " \ttpr\tfloat\n",
       " \tp\tint\n",
       " \tn\tint\n",
       " \tclass\tint\n",
       " \n",
       " Rows: 300003\n",
       " \n",
       " Data:\n",
       " +-----------+-----+-----+------+-----+-------+\n",
       " | threshold | fpr | tpr |  p   |  n  | class |\n",
       " +-----------+-----+-----+------+-----+-------+\n",
       " |    0.0    | 1.0 | 1.0 | 1332 | 636 |   0   |\n",
       " |   1e-05   | 1.0 | 1.0 | 1332 | 636 |   0   |\n",
       " |   2e-05   | 1.0 | 1.0 | 1332 | 636 |   0   |\n",
       " |   3e-05   | 1.0 | 1.0 | 1332 | 636 |   0   |\n",
       " |   4e-05   | 1.0 | 1.0 | 1332 | 636 |   0   |\n",
       " |   5e-05   | 1.0 | 1.0 | 1332 | 636 |   0   |\n",
       " |   6e-05   | 1.0 | 1.0 | 1332 | 636 |   0   |\n",
       " |   7e-05   | 1.0 | 1.0 | 1332 | 636 |   0   |\n",
       " |   8e-05   | 1.0 | 1.0 | 1332 | 636 |   0   |\n",
       " |   9e-05   | 1.0 | 1.0 | 1332 | 636 |   0   |\n",
       " +-----------+-----+-----+------+-----+-------+\n",
       " [300003 rows x 6 columns]\n",
       " Note: Only the head of the SFrame is printed.\n",
       " You can use print_rows(num_rows=m, num_columns=n) to print more rows and columns.}"
      ]
     },
     "execution_count": 18,
     "metadata": {},
     "output_type": "execute_result"
    }
   ],
   "source": [
    "rf_model.evaluate(test_data)"
   ]
  },
  {
   "cell_type": "code",
   "execution_count": null,
   "metadata": {
    "collapsed": true
   },
   "outputs": [],
   "source": []
  }
 ],
 "metadata": {
  "kernelspec": {
   "display_name": "Python 2",
   "language": "python",
   "name": "python2"
  },
  "language_info": {
   "codemirror_mode": {
    "name": "ipython",
    "version": 2
   },
   "file_extension": ".py",
   "mimetype": "text/x-python",
   "name": "python",
   "nbconvert_exporter": "python",
   "pygments_lexer": "ipython2",
   "version": "2.7.11"
  }
 },
 "nbformat": 4,
 "nbformat_minor": 0
}
