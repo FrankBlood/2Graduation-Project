{
 "cells": [
  {
   "cell_type": "markdown",
   "metadata": {},
   "source": [
    "<img src='NEFUlogo.png' align='left'>"
   ]
  },
  {
   "cell_type": "code",
   "execution_count": 1,
   "metadata": {
    "collapsed": false
   },
   "outputs": [
    {
     "name": "stderr",
     "output_type": "stream",
     "text": [
      "usage: E:\\Anaconda2\\envs\\dato-env\\lib\\site-packages\\ipykernel\\__main__.py [xml/json/conll]\n"
     ]
    },
    {
     "ename": "SystemExit",
     "evalue": "1",
     "output_type": "error",
     "traceback": [
      "An exception has occurred, use %tb to see the full traceback.\n",
      "\u001b[1;31mSystemExit\u001b[0m\u001b[1;31m:\u001b[0m 1\n"
     ]
    },
    {
     "name": "stderr",
     "output_type": "stream",
     "text": [
      "To exit: use 'exit', 'quit', or Ctrl-D.\n"
     ]
    }
   ],
   "source": [
    "import urllib2, urllib\n",
    "import sys\n",
    "\n",
    "if __name__ == '__main__':\n",
    "    if len(sys.argv) < 2 or sys.argv[1] not in [\"xml\", \"json\", \"conll\"]:\n",
    "        print >> sys.stderr, \"usage: %s [xml/json/conll]\" % sys.argv[0]\n",
    "        sys.exit(1)\n",
    "\n",
    "    uri_base = \"http://ltpapi.voicecloud.cn/analysis/?\"\n",
    "    api_key = \"L693Q726KenaGTMjoZBOFf8ELaOJIJMkvACvCopJ\"\n",
    "    text = \"我爱北京天安门\"\n",
    "    # Note that if your text contain special characters such as linefeed or '&',\n",
    "    # you need to use urlencode to encode your data\n",
    "    text = urllib.quote(text)\n",
    "    format = sys.argv[1]\n",
    "    pattern = \"all\"\n",
    "\n",
    "    url = (uri_base + \"api_key=\" + api_key + \"&\" + \"text=\" + text + \"&\" + \"format=\" + format + \"&\" + \"pattern=\" + \"all\")\n",
    "    try:\n",
    "        response = urllib2.urlopen(url)\n",
    "        content  = response.read().strip()\n",
    "        print content\n",
    "    except urllib2.HTTPError, e:\n",
    "        print >> sys.stderr, e.reason"
   ]
  },
  {
   "cell_type": "code",
   "execution_count": null,
   "metadata": {
    "collapsed": true
   },
   "outputs": [],
   "source": []
  }
 ],
 "metadata": {
  "kernelspec": {
   "display_name": "Python 2",
   "language": "python",
   "name": "python2"
  },
  "language_info": {
   "codemirror_mode": {
    "name": "ipython",
    "version": 2
   },
   "file_extension": ".py",
   "mimetype": "text/x-python",
   "name": "python",
   "nbconvert_exporter": "python",
   "pygments_lexer": "ipython2",
   "version": "2.7.11"
  }
 },
 "nbformat": 4,
 "nbformat_minor": 0
}
