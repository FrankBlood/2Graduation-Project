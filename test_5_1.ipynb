{
 "cells": [
  {
   "cell_type": "markdown",
   "metadata": {},
   "source": [
    "<img src='NEFUlogo.png' align='left'>"
   ]
  },
  {
   "cell_type": "code",
   "execution_count": 1,
   "metadata": {
    "collapsed": true
   },
   "outputs": [],
   "source": [
    "import pandas as pd"
   ]
  },
  {
   "cell_type": "code",
   "execution_count": 2,
   "metadata": {
    "collapsed": false
   },
   "outputs": [],
   "source": [
    "df = pd.read_csv('SogouM.txt',sep = '\\t', header=None)"
   ]
  },
  {
   "cell_type": "code",
   "execution_count": 3,
   "metadata": {
    "collapsed": false,
    "scrolled": true
   },
   "outputs": [
    {
     "data": {
      "text/html": [
       "<div>\n",
       "<table border=\"1\" class=\"dataframe\">\n",
       "  <thead>\n",
       "    <tr style=\"text-align: right;\">\n",
       "      <th></th>\n",
       "      <th>0</th>\n",
       "      <th>1</th>\n",
       "      <th>2</th>\n",
       "      <th>3</th>\n",
       "      <th>4</th>\n",
       "    </tr>\n",
       "  </thead>\n",
       "  <tbody>\n",
       "    <tr>\n",
       "      <th>0</th>\n",
       "      <td>﻿00:00:00</td>\n",
       "      <td>2982199073774412</td>\n",
       "      <td>[360安全卫士]</td>\n",
       "      <td>8 3</td>\n",
       "      <td>download.it.com.cn/softweb/software/firewall/a...</td>\n",
       "    </tr>\n",
       "    <tr>\n",
       "      <th>1</th>\n",
       "      <td>00:00:00</td>\n",
       "      <td>7594220010824798</td>\n",
       "      <td>[哄抢救灾物资]</td>\n",
       "      <td>1 1</td>\n",
       "      <td>news.21cn.com/social/daqian/2008/05/29/4777194...</td>\n",
       "    </tr>\n",
       "    <tr>\n",
       "      <th>2</th>\n",
       "      <td>00:00:00</td>\n",
       "      <td>5228056822071097</td>\n",
       "      <td>[75810部队]</td>\n",
       "      <td>14 5</td>\n",
       "      <td>www.greatoo.com/greatoo_cn/list.asp?link_id=27...</td>\n",
       "    </tr>\n",
       "    <tr>\n",
       "      <th>3</th>\n",
       "      <td>00:00:00</td>\n",
       "      <td>6140463203615646</td>\n",
       "      <td>[绳艺]</td>\n",
       "      <td>62 36</td>\n",
       "      <td>www.jd-cd.com/jd_opus/xx/200607/706.html</td>\n",
       "    </tr>\n",
       "    <tr>\n",
       "      <th>4</th>\n",
       "      <td>00:00:00</td>\n",
       "      <td>8561366108033201</td>\n",
       "      <td>[汶川地震原因]</td>\n",
       "      <td>3 2</td>\n",
       "      <td>www.big38.net/</td>\n",
       "    </tr>\n",
       "    <tr>\n",
       "      <th>5</th>\n",
       "      <td>00:00:00</td>\n",
       "      <td>23908140386148713</td>\n",
       "      <td>[莫衷一是的意思]</td>\n",
       "      <td>1 2</td>\n",
       "      <td>www.chinabaike.com/article/81/82/110/2007/2007...</td>\n",
       "    </tr>\n",
       "    <tr>\n",
       "      <th>6</th>\n",
       "      <td>00:00:00</td>\n",
       "      <td>1797943298449139</td>\n",
       "      <td>[星梦缘全集在线观看]</td>\n",
       "      <td>8 5</td>\n",
       "      <td>www.6wei.net/dianshiju/????\\xa1\\xe9|????do=index</td>\n",
       "    </tr>\n",
       "    <tr>\n",
       "      <th>7</th>\n",
       "      <td>00:00:00</td>\n",
       "      <td>717725924582846</td>\n",
       "      <td>[闪字吧]</td>\n",
       "      <td>1 2</td>\n",
       "      <td>www.shanziba.com/</td>\n",
       "    </tr>\n",
       "    <tr>\n",
       "      <th>8</th>\n",
       "      <td>00:00:00</td>\n",
       "      <td>41416219018952116</td>\n",
       "      <td>[霍震霆与朱玲玲照片]</td>\n",
       "      <td>2 6</td>\n",
       "      <td>bbs.gouzai.cn/thread-698736.html</td>\n",
       "    </tr>\n",
       "    <tr>\n",
       "      <th>9</th>\n",
       "      <td>00:00:00</td>\n",
       "      <td>9975666857142764</td>\n",
       "      <td>[电脑创业]</td>\n",
       "      <td>2 2</td>\n",
       "      <td>ks.cn.yahoo.com/question/1307120203719.html</td>\n",
       "    </tr>\n",
       "    <tr>\n",
       "      <th>10</th>\n",
       "      <td>00:00:00</td>\n",
       "      <td>21603374619077448</td>\n",
       "      <td>[111aa图片]</td>\n",
       "      <td>1 6</td>\n",
       "      <td>www.fotolog.com.cn/tags/aa111</td>\n",
       "    </tr>\n",
       "    <tr>\n",
       "      <th>11</th>\n",
       "      <td>00:00:00</td>\n",
       "      <td>7423866288265172</td>\n",
       "      <td>[豆腐的制成]</td>\n",
       "      <td>3 13</td>\n",
       "      <td>ks.cn.yahoo.com/question/1406051201894.html</td>\n",
       "    </tr>\n",
       "    <tr>\n",
       "      <th>12</th>\n",
       "      <td>00:00:00</td>\n",
       "      <td>616877776407358</td>\n",
       "      <td>[tudou.com+禁播电影]</td>\n",
       "      <td>2 9</td>\n",
       "      <td>topic.bindou.com/1487/</td>\n",
       "    </tr>\n",
       "    <tr>\n",
       "      <th>13</th>\n",
       "      <td>00:00:00</td>\n",
       "      <td>3933365481995287</td>\n",
       "      <td>[最佳受孕时间]</td>\n",
       "      <td>6 3</td>\n",
       "      <td>ks.cn.yahoo.com/question/1407051001276.html</td>\n",
       "    </tr>\n",
       "    <tr>\n",
       "      <th>14</th>\n",
       "      <td>00:00:00</td>\n",
       "      <td>8242389147671512</td>\n",
       "      <td>[捷克民歌土风舞++教案]</td>\n",
       "      <td>2 3</td>\n",
       "      <td>shwamlys.blog.sohu.com/76558184.html</td>\n",
       "    </tr>\n",
       "    <tr>\n",
       "      <th>15</th>\n",
       "      <td>00:00:00</td>\n",
       "      <td>8248403977107859</td>\n",
       "      <td>[pdf]</td>\n",
       "      <td>1 1</td>\n",
       "      <td>download.it168.com/18/1805/13947/13947_3.shtml</td>\n",
       "    </tr>\n",
       "    <tr>\n",
       "      <th>16</th>\n",
       "      <td>00:00:00</td>\n",
       "      <td>6239728533154822</td>\n",
       "      <td>[喷嘭乐团lonely+day]</td>\n",
       "      <td>7 9</td>\n",
       "      <td>www.songtaste.com/song/266563/</td>\n",
       "    </tr>\n",
       "    <tr>\n",
       "      <th>17</th>\n",
       "      <td>00:00:00</td>\n",
       "      <td>6551182914925117</td>\n",
       "      <td>[尼康相机报价]</td>\n",
       "      <td>6 4</td>\n",
       "      <td>product.it168.com/list/b/03050171_1.shtml</td>\n",
       "    </tr>\n",
       "    <tr>\n",
       "      <th>18</th>\n",
       "      <td>00:00:00</td>\n",
       "      <td>2345161545038265</td>\n",
       "      <td>[哄抢救灾物资]</td>\n",
       "      <td>2 1</td>\n",
       "      <td>pic.news.mop.com/gs/2008/0528/12985.shtml</td>\n",
       "    </tr>\n",
       "    <tr>\n",
       "      <th>19</th>\n",
       "      <td>00:00:00</td>\n",
       "      <td>6478452674857782</td>\n",
       "      <td>[1000]</td>\n",
       "      <td>4 1</td>\n",
       "      <td>www.1000dy.cn/</td>\n",
       "    </tr>\n",
       "    <tr>\n",
       "      <th>20</th>\n",
       "      <td>00:00:00</td>\n",
       "      <td>23405445793591878</td>\n",
       "      <td>[剑荡天下+++展鹏]</td>\n",
       "      <td>4 5</td>\n",
       "      <td>74.53.27.3/~xx4ucom/bbs/simple/index.php?t3174...</td>\n",
       "    </tr>\n",
       "    <tr>\n",
       "      <th>21</th>\n",
       "      <td>00:00:00</td>\n",
       "      <td>23457845712802688</td>\n",
       "      <td>[人妖]</td>\n",
       "      <td>4 1</td>\n",
       "      <td>play.zol.com.cn/detail/1659_1.html</td>\n",
       "    </tr>\n",
       "    <tr>\n",
       "      <th>22</th>\n",
       "      <td>00:00:00</td>\n",
       "      <td>4625224675315291</td>\n",
       "      <td>[印尼排华是怎么回事]</td>\n",
       "      <td>2 6</td>\n",
       "      <td>zhidao.baidu.com/question/47218514</td>\n",
       "    </tr>\n",
       "    <tr>\n",
       "      <th>23</th>\n",
       "      <td>00:00:00</td>\n",
       "      <td>48731119953599966</td>\n",
       "      <td>[东莞市塘厦新泰塑胶五金厂]</td>\n",
       "      <td>10 44</td>\n",
       "      <td>www.hi-b2b.com/product/17w47204/index.shtml</td>\n",
       "    </tr>\n",
       "    <tr>\n",
       "      <th>24</th>\n",
       "      <td>00:00:00</td>\n",
       "      <td>48530765688455246</td>\n",
       "      <td>[胡其美]</td>\n",
       "      <td>26 3</td>\n",
       "      <td>www.gotostreet.com/bbs/ShowPost.Asp?ID=121</td>\n",
       "    </tr>\n",
       "    <tr>\n",
       "      <th>25</th>\n",
       "      <td>00:00:00</td>\n",
       "      <td>5750662932822584</td>\n",
       "      <td>[女士找鸭子经历]</td>\n",
       "      <td>3 2</td>\n",
       "      <td>zhangxiaoyu52.blog.sohu.com/76119569.html</td>\n",
       "    </tr>\n",
       "    <tr>\n",
       "      <th>26</th>\n",
       "      <td>00:00:00</td>\n",
       "      <td>11515839301781111</td>\n",
       "      <td>[2008年运程]</td>\n",
       "      <td>4 3</td>\n",
       "      <td>2008.gif123.com/</td>\n",
       "    </tr>\n",
       "    <tr>\n",
       "      <th>27</th>\n",
       "      <td>00:00:00</td>\n",
       "      <td>26706283607513126</td>\n",
       "      <td>[芭蕾舞剧《天鹅湖》]</td>\n",
       "      <td>5 6</td>\n",
       "      <td>you.video.sina.com.cn/b/5924814-1246200450.html</td>\n",
       "    </tr>\n",
       "    <tr>\n",
       "      <th>28</th>\n",
       "      <td>00:00:00</td>\n",
       "      <td>1532039495118448</td>\n",
       "      <td>[不锈钢]</td>\n",
       "      <td>1 1</td>\n",
       "      <td>www.51bxg.com/</td>\n",
       "    </tr>\n",
       "    <tr>\n",
       "      <th>29</th>\n",
       "      <td>00:00:01</td>\n",
       "      <td>14362172758659586</td>\n",
       "      <td>[明星合成]</td>\n",
       "      <td>64 21</td>\n",
       "      <td>link.44box.com/</td>\n",
       "    </tr>\n",
       "    <tr>\n",
       "      <th>...</th>\n",
       "      <td>...</td>\n",
       "      <td>...</td>\n",
       "      <td>...</td>\n",
       "      <td>...</td>\n",
       "      <td>...</td>\n",
       "    </tr>\n",
       "    <tr>\n",
       "      <th>9970</th>\n",
       "      <td>00:09:39</td>\n",
       "      <td>8222816937830956</td>\n",
       "      <td>[菅野亜梨沙+bt]</td>\n",
       "      <td>40 32</td>\n",
       "      <td>63.223.89.214/html/0423456.htm</td>\n",
       "    </tr>\n",
       "    <tr>\n",
       "      <th>9971</th>\n",
       "      <td>00:09:39</td>\n",
       "      <td>4238014293859742</td>\n",
       "      <td>[8080]</td>\n",
       "      <td>1 1</td>\n",
       "      <td>www.8080.net/</td>\n",
       "    </tr>\n",
       "    <tr>\n",
       "      <th>9972</th>\n",
       "      <td>00:09:39</td>\n",
       "      <td>2908142862713471</td>\n",
       "      <td>[漫画]</td>\n",
       "      <td>1 1</td>\n",
       "      <td>www.zxmh.net/</td>\n",
       "    </tr>\n",
       "    <tr>\n",
       "      <th>9973</th>\n",
       "      <td>00:09:39</td>\n",
       "      <td>47453743441352913</td>\n",
       "      <td>[08年手机市场分析]</td>\n",
       "      <td>55 36</td>\n",
       "      <td>www.a.com.cn/forum/article_20_1_344833_1.html</td>\n",
       "    </tr>\n",
       "    <tr>\n",
       "      <th>9974</th>\n",
       "      <td>00:09:39</td>\n",
       "      <td>5860901801871866</td>\n",
       "      <td>[印尼海啸图片]</td>\n",
       "      <td>2 9</td>\n",
       "      <td>www.yangteacher.com/Html/2005102823400-1.html</td>\n",
       "    </tr>\n",
       "    <tr>\n",
       "      <th>9975</th>\n",
       "      <td>00:09:39</td>\n",
       "      <td>28907505120909504</td>\n",
       "      <td>[哄抢救灾物资]</td>\n",
       "      <td>2 2</td>\n",
       "      <td>pic.news.mop.com/gs/2008/0528/12985.shtml</td>\n",
       "    </tr>\n",
       "    <tr>\n",
       "      <th>9976</th>\n",
       "      <td>00:09:39</td>\n",
       "      <td>8584557041448806</td>\n",
       "      <td>[锦州租房]</td>\n",
       "      <td>2 2</td>\n",
       "      <td>jz.hire.house.alijiefu.com/</td>\n",
       "    </tr>\n",
       "    <tr>\n",
       "      <th>9977</th>\n",
       "      <td>00:09:39</td>\n",
       "      <td>968062155426188</td>\n",
       "      <td>[大小周天]</td>\n",
       "      <td>7 10</td>\n",
       "      <td>zhidao.baidu.com/question/12886465.html?fr=qrl3</td>\n",
       "    </tr>\n",
       "    <tr>\n",
       "      <th>9978</th>\n",
       "      <td>00:09:39</td>\n",
       "      <td>6339556139419988</td>\n",
       "      <td>[唐朝历史]</td>\n",
       "      <td>7 3</td>\n",
       "      <td>military.china.com/dljl/tangchao/</td>\n",
       "    </tr>\n",
       "    <tr>\n",
       "      <th>9979</th>\n",
       "      <td>00:09:39</td>\n",
       "      <td>4173703953767403</td>\n",
       "      <td>[金巧巧视频]</td>\n",
       "      <td>9 4</td>\n",
       "      <td>tv.sohu.com/20080319/n255799512.shtml</td>\n",
       "    </tr>\n",
       "    <tr>\n",
       "      <th>9980</th>\n",
       "      <td>00:09:39</td>\n",
       "      <td>4736282616407962</td>\n",
       "      <td>[印尼排华暴行]</td>\n",
       "      <td>10 3</td>\n",
       "      <td>www.cyrcbbs.com/showtopic-3674-4.aspx</td>\n",
       "    </tr>\n",
       "    <tr>\n",
       "      <th>9981</th>\n",
       "      <td>00:09:39</td>\n",
       "      <td>4379740661038056</td>\n",
       "      <td>[儿童怎样补钙]</td>\n",
       "      <td>4 11</td>\n",
       "      <td>ask.ci123.com/questions/show/108266</td>\n",
       "    </tr>\n",
       "    <tr>\n",
       "      <th>9982</th>\n",
       "      <td>00:09:39</td>\n",
       "      <td>9268723508043302</td>\n",
       "      <td>[陕西地震预测]</td>\n",
       "      <td>2 6</td>\n",
       "      <td>news.cnwest.com/content/2006-12/16/content_377...</td>\n",
       "    </tr>\n",
       "    <tr>\n",
       "      <th>9983</th>\n",
       "      <td>00:09:39</td>\n",
       "      <td>768942793554007</td>\n",
       "      <td>[为民+务实+清廉]</td>\n",
       "      <td>10 14</td>\n",
       "      <td>www.sxhbao.com/jlth/xdth/66000.html</td>\n",
       "    </tr>\n",
       "    <tr>\n",
       "      <th>9984</th>\n",
       "      <td>00:09:40</td>\n",
       "      <td>4644328333569405</td>\n",
       "      <td>[专升本复习英语]</td>\n",
       "      <td>3 2</td>\n",
       "      <td>www.chengkao365.com/web/z_waiyu/</td>\n",
       "    </tr>\n",
       "    <tr>\n",
       "      <th>9985</th>\n",
       "      <td>00:09:40</td>\n",
       "      <td>8617500076743922</td>\n",
       "      <td>[免费生辰八字算婚姻]</td>\n",
       "      <td>4 2</td>\n",
       "      <td>zhidao.baidu.com/question/34533010.html</td>\n",
       "    </tr>\n",
       "    <tr>\n",
       "      <th>9986</th>\n",
       "      <td>00:09:40</td>\n",
       "      <td>571713390095026</td>\n",
       "      <td>[立花里子]</td>\n",
       "      <td>4 1</td>\n",
       "      <td>man.icxo.com/sp/lihualizi.htm</td>\n",
       "    </tr>\n",
       "    <tr>\n",
       "      <th>9987</th>\n",
       "      <td>00:09:40</td>\n",
       "      <td>7268014691247232</td>\n",
       "      <td>[中英文+歌曲]</td>\n",
       "      <td>5 2</td>\n",
       "      <td>www.ekouyu.com/</td>\n",
       "    </tr>\n",
       "    <tr>\n",
       "      <th>9988</th>\n",
       "      <td>00:09:40</td>\n",
       "      <td>2739469928397069</td>\n",
       "      <td>[汶川震后十分钟]</td>\n",
       "      <td>8 28</td>\n",
       "      <td>nv.qianlong.com/33530/2008/05/16/2400@4444820.htm</td>\n",
       "    </tr>\n",
       "    <tr>\n",
       "      <th>9989</th>\n",
       "      <td>00:09:40</td>\n",
       "      <td>9420683319156038</td>\n",
       "      <td>[萧亚轩什么时候发片]</td>\n",
       "      <td>1 1</td>\n",
       "      <td>zhidao.baidu.com/question/4453555</td>\n",
       "    </tr>\n",
       "    <tr>\n",
       "      <th>9990</th>\n",
       "      <td>00:09:40</td>\n",
       "      <td>2739469928397069</td>\n",
       "      <td>[汶川震后十分钟]</td>\n",
       "      <td>8 29</td>\n",
       "      <td>nv.qianlong.com/33530/2008/05/16/2400@4444820.htm</td>\n",
       "    </tr>\n",
       "    <tr>\n",
       "      <th>9991</th>\n",
       "      <td>00:09:40</td>\n",
       "      <td>13864620334426242</td>\n",
       "      <td>[网络]</td>\n",
       "      <td>1001 1</td>\n",
       "      <td>click.cpc.sogou.com/bill_cpc?p=XwZ2OrJzFZewygk...</td>\n",
       "    </tr>\n",
       "    <tr>\n",
       "      <th>9992</th>\n",
       "      <td>00:09:40</td>\n",
       "      <td>6605960166399166</td>\n",
       "      <td>[hp4vc]</td>\n",
       "      <td>206 62</td>\n",
       "      <td>flea.shangdu.com/p_memo.php?p_id=1428314</td>\n",
       "    </tr>\n",
       "    <tr>\n",
       "      <th>9993</th>\n",
       "      <td>00:09:40</td>\n",
       "      <td>24085471014261378</td>\n",
       "      <td>[武林启示录+金铃]</td>\n",
       "      <td>12 53</td>\n",
       "      <td>66.79.187.84/two/18/article_19040_1.shtml</td>\n",
       "    </tr>\n",
       "    <tr>\n",
       "      <th>9994</th>\n",
       "      <td>00:09:40</td>\n",
       "      <td>3396646436048334</td>\n",
       "      <td>[天文地震]</td>\n",
       "      <td>75 40</td>\n",
       "      <td>bbs.tiexue.net/post2_2778569_1.html</td>\n",
       "    </tr>\n",
       "    <tr>\n",
       "      <th>9995</th>\n",
       "      <td>00:09:40</td>\n",
       "      <td>7908503597048404</td>\n",
       "      <td>[韩国女星整容前]</td>\n",
       "      <td>3 11</td>\n",
       "      <td>video.sznews.com/content/2007-09/17/content_15...</td>\n",
       "    </tr>\n",
       "    <tr>\n",
       "      <th>9996</th>\n",
       "      <td>00:09:40</td>\n",
       "      <td>3163545304465018</td>\n",
       "      <td>[get+in+her+ass]</td>\n",
       "      <td>140 14</td>\n",
       "      <td>www.oldtransexuals.com/</td>\n",
       "    </tr>\n",
       "    <tr>\n",
       "      <th>9997</th>\n",
       "      <td>00:09:40</td>\n",
       "      <td>40625869871683956</td>\n",
       "      <td>[哄抢救灾物资]</td>\n",
       "      <td>4 1</td>\n",
       "      <td>news.vnet.cn/photo/292_6.html</td>\n",
       "    </tr>\n",
       "    <tr>\n",
       "      <th>9998</th>\n",
       "      <td>00:09:40</td>\n",
       "      <td>5668233219730905</td>\n",
       "      <td>[普利司通轮胎报价]</td>\n",
       "      <td>1 6</td>\n",
       "      <td>bbs.speedyou.com/cgi-bin/topic.cgi?forum=107&amp;t...</td>\n",
       "    </tr>\n",
       "    <tr>\n",
       "      <th>9999</th>\n",
       "      <td>00:09:41</td>\n",
       "      <td>289686447071065</td>\n",
       "      <td>[酒店]</td>\n",
       "      <td>1001 1</td>\n",
       "      <td>click.cpc.sogou.com/bill_cpc?p=9dGXgZYgEUewygP...</td>\n",
       "    </tr>\n",
       "  </tbody>\n",
       "</table>\n",
       "<p>10000 rows × 5 columns</p>\n",
       "</div>"
      ],
      "text/plain": [
       "              0                  1                 2       3  \\\n",
       "0     ﻿00:00:00   2982199073774412         [360安全卫士]     8 3   \n",
       "1      00:00:00   7594220010824798          [哄抢救灾物资]     1 1   \n",
       "2      00:00:00   5228056822071097         [75810部队]    14 5   \n",
       "3      00:00:00   6140463203615646              [绳艺]   62 36   \n",
       "4      00:00:00   8561366108033201          [汶川地震原因]     3 2   \n",
       "5      00:00:00  23908140386148713         [莫衷一是的意思]     1 2   \n",
       "6      00:00:00   1797943298449139       [星梦缘全集在线观看]     8 5   \n",
       "7      00:00:00    717725924582846             [闪字吧]     1 2   \n",
       "8      00:00:00  41416219018952116       [霍震霆与朱玲玲照片]     2 6   \n",
       "9      00:00:00   9975666857142764            [电脑创业]     2 2   \n",
       "10     00:00:00  21603374619077448         [111aa图片]     1 6   \n",
       "11     00:00:00   7423866288265172           [豆腐的制成]    3 13   \n",
       "12     00:00:00    616877776407358  [tudou.com+禁播电影]     2 9   \n",
       "13     00:00:00   3933365481995287          [最佳受孕时间]     6 3   \n",
       "14     00:00:00   8242389147671512     [捷克民歌土风舞++教案]     2 3   \n",
       "15     00:00:00   8248403977107859             [pdf]     1 1   \n",
       "16     00:00:00   6239728533154822  [喷嘭乐团lonely+day]     7 9   \n",
       "17     00:00:00   6551182914925117          [尼康相机报价]     6 4   \n",
       "18     00:00:00   2345161545038265          [哄抢救灾物资]     2 1   \n",
       "19     00:00:00   6478452674857782            [1000]     4 1   \n",
       "20     00:00:00  23405445793591878       [剑荡天下+++展鹏]     4 5   \n",
       "21     00:00:00  23457845712802688              [人妖]     4 1   \n",
       "22     00:00:00   4625224675315291       [印尼排华是怎么回事]     2 6   \n",
       "23     00:00:00  48731119953599966    [东莞市塘厦新泰塑胶五金厂]   10 44   \n",
       "24     00:00:00  48530765688455246             [胡其美]    26 3   \n",
       "25     00:00:00   5750662932822584         [女士找鸭子经历]     3 2   \n",
       "26     00:00:00  11515839301781111         [2008年运程]     4 3   \n",
       "27     00:00:00  26706283607513126       [芭蕾舞剧《天鹅湖》]     5 6   \n",
       "28     00:00:00   1532039495118448             [不锈钢]     1 1   \n",
       "29     00:00:01  14362172758659586            [明星合成]   64 21   \n",
       "...         ...                ...               ...     ...   \n",
       "9970   00:09:39   8222816937830956        [菅野亜梨沙+bt]   40 32   \n",
       "9971   00:09:39   4238014293859742            [8080]     1 1   \n",
       "9972   00:09:39   2908142862713471              [漫画]     1 1   \n",
       "9973   00:09:39  47453743441352913       [08年手机市场分析]   55 36   \n",
       "9974   00:09:39   5860901801871866          [印尼海啸图片]     2 9   \n",
       "9975   00:09:39  28907505120909504          [哄抢救灾物资]     2 2   \n",
       "9976   00:09:39   8584557041448806            [锦州租房]     2 2   \n",
       "9977   00:09:39    968062155426188            [大小周天]    7 10   \n",
       "9978   00:09:39   6339556139419988            [唐朝历史]     7 3   \n",
       "9979   00:09:39   4173703953767403           [金巧巧视频]     9 4   \n",
       "9980   00:09:39   4736282616407962          [印尼排华暴行]    10 3   \n",
       "9981   00:09:39   4379740661038056          [儿童怎样补钙]    4 11   \n",
       "9982   00:09:39   9268723508043302          [陕西地震预测]     2 6   \n",
       "9983   00:09:39    768942793554007        [为民+务实+清廉]   10 14   \n",
       "9984   00:09:40   4644328333569405         [专升本复习英语]     3 2   \n",
       "9985   00:09:40   8617500076743922       [免费生辰八字算婚姻]     4 2   \n",
       "9986   00:09:40    571713390095026            [立花里子]     4 1   \n",
       "9987   00:09:40   7268014691247232          [中英文+歌曲]     5 2   \n",
       "9988   00:09:40   2739469928397069         [汶川震后十分钟]    8 28   \n",
       "9989   00:09:40   9420683319156038       [萧亚轩什么时候发片]     1 1   \n",
       "9990   00:09:40   2739469928397069         [汶川震后十分钟]    8 29   \n",
       "9991   00:09:40  13864620334426242              [网络]  1001 1   \n",
       "9992   00:09:40   6605960166399166           [hp4vc]  206 62   \n",
       "9993   00:09:40  24085471014261378        [武林启示录+金铃]   12 53   \n",
       "9994   00:09:40   3396646436048334            [天文地震]   75 40   \n",
       "9995   00:09:40   7908503597048404         [韩国女星整容前]    3 11   \n",
       "9996   00:09:40   3163545304465018  [get+in+her+ass]  140 14   \n",
       "9997   00:09:40  40625869871683956          [哄抢救灾物资]     4 1   \n",
       "9998   00:09:40   5668233219730905        [普利司通轮胎报价]     1 6   \n",
       "9999   00:09:41    289686447071065              [酒店]  1001 1   \n",
       "\n",
       "                                                      4  \n",
       "0     download.it.com.cn/softweb/software/firewall/a...  \n",
       "1     news.21cn.com/social/daqian/2008/05/29/4777194...  \n",
       "2     www.greatoo.com/greatoo_cn/list.asp?link_id=27...  \n",
       "3              www.jd-cd.com/jd_opus/xx/200607/706.html  \n",
       "4                                        www.big38.net/  \n",
       "5     www.chinabaike.com/article/81/82/110/2007/2007...  \n",
       "6      www.6wei.net/dianshiju/????\\xa1\\xe9|????do=index  \n",
       "7                                     www.shanziba.com/  \n",
       "8                      bbs.gouzai.cn/thread-698736.html  \n",
       "9           ks.cn.yahoo.com/question/1307120203719.html  \n",
       "10                        www.fotolog.com.cn/tags/aa111  \n",
       "11          ks.cn.yahoo.com/question/1406051201894.html  \n",
       "12                               topic.bindou.com/1487/  \n",
       "13          ks.cn.yahoo.com/question/1407051001276.html  \n",
       "14                 shwamlys.blog.sohu.com/76558184.html  \n",
       "15       download.it168.com/18/1805/13947/13947_3.shtml  \n",
       "16                       www.songtaste.com/song/266563/  \n",
       "17            product.it168.com/list/b/03050171_1.shtml  \n",
       "18            pic.news.mop.com/gs/2008/0528/12985.shtml  \n",
       "19                                       www.1000dy.cn/  \n",
       "20    74.53.27.3/~xx4ucom/bbs/simple/index.php?t3174...  \n",
       "21                   play.zol.com.cn/detail/1659_1.html  \n",
       "22                   zhidao.baidu.com/question/47218514  \n",
       "23          www.hi-b2b.com/product/17w47204/index.shtml  \n",
       "24           www.gotostreet.com/bbs/ShowPost.Asp?ID=121  \n",
       "25            zhangxiaoyu52.blog.sohu.com/76119569.html  \n",
       "26                                     2008.gif123.com/  \n",
       "27      you.video.sina.com.cn/b/5924814-1246200450.html  \n",
       "28                                       www.51bxg.com/  \n",
       "29                                      link.44box.com/  \n",
       "...                                                 ...  \n",
       "9970                     63.223.89.214/html/0423456.htm  \n",
       "9971                                      www.8080.net/  \n",
       "9972                                      www.zxmh.net/  \n",
       "9973      www.a.com.cn/forum/article_20_1_344833_1.html  \n",
       "9974      www.yangteacher.com/Html/2005102823400-1.html  \n",
       "9975          pic.news.mop.com/gs/2008/0528/12985.shtml  \n",
       "9976                        jz.hire.house.alijiefu.com/  \n",
       "9977    zhidao.baidu.com/question/12886465.html?fr=qrl3  \n",
       "9978                  military.china.com/dljl/tangchao/  \n",
       "9979              tv.sohu.com/20080319/n255799512.shtml  \n",
       "9980              www.cyrcbbs.com/showtopic-3674-4.aspx  \n",
       "9981                ask.ci123.com/questions/show/108266  \n",
       "9982  news.cnwest.com/content/2006-12/16/content_377...  \n",
       "9983                www.sxhbao.com/jlth/xdth/66000.html  \n",
       "9984                   www.chengkao365.com/web/z_waiyu/  \n",
       "9985            zhidao.baidu.com/question/34533010.html  \n",
       "9986                      man.icxo.com/sp/lihualizi.htm  \n",
       "9987                                    www.ekouyu.com/  \n",
       "9988  nv.qianlong.com/33530/2008/05/16/2400@4444820.htm  \n",
       "9989                  zhidao.baidu.com/question/4453555  \n",
       "9990  nv.qianlong.com/33530/2008/05/16/2400@4444820.htm  \n",
       "9991  click.cpc.sogou.com/bill_cpc?p=XwZ2OrJzFZewygk...  \n",
       "9992           flea.shangdu.com/p_memo.php?p_id=1428314  \n",
       "9993          66.79.187.84/two/18/article_19040_1.shtml  \n",
       "9994                bbs.tiexue.net/post2_2778569_1.html  \n",
       "9995  video.sznews.com/content/2007-09/17/content_15...  \n",
       "9996                            www.oldtransexuals.com/  \n",
       "9997                      news.vnet.cn/photo/292_6.html  \n",
       "9998  bbs.speedyou.com/cgi-bin/topic.cgi?forum=107&t...  \n",
       "9999  click.cpc.sogou.com/bill_cpc?p=9dGXgZYgEUewygP...  \n",
       "\n",
       "[10000 rows x 5 columns]"
      ]
     },
     "execution_count": 3,
     "metadata": {},
     "output_type": "execute_result"
    }
   ],
   "source": [
    "df"
   ]
  },
  {
   "cell_type": "markdown",
   "metadata": {},
   "source": [
    "# 第三列的数据进行拆分\n",
    "## Fire up re"
   ]
  },
  {
   "cell_type": "code",
   "execution_count": 4,
   "metadata": {
    "collapsed": false
   },
   "outputs": [],
   "source": [
    "import re"
   ]
  },
  {
   "cell_type": "markdown",
   "metadata": {},
   "source": [
    "## Little example of re.split(pattern, string) using part of the data, and using the lambda for every rows"
   ]
  },
  {
   "cell_type": "code",
   "execution_count": 5,
   "metadata": {
    "collapsed": false,
    "scrolled": true
   },
   "outputs": [
    {
     "data": {
      "text/plain": [
       "0    [8, 3]\n",
       "1    [1, 1]\n",
       "Name: 3, dtype: object"
      ]
     },
     "execution_count": 5,
     "metadata": {},
     "output_type": "execute_result"
    }
   ],
   "source": [
    "(df[3].apply(lambda x : str(x)))[0:2].apply(lambda x: re.split(r'\\s+',x))"
   ]
  },
  {
   "cell_type": "markdown",
   "metadata": {},
   "source": [
    "## Create the new colum t"
   ]
  },
  {
   "cell_type": "code",
   "execution_count": 6,
   "metadata": {
    "collapsed": false,
    "scrolled": true
   },
   "outputs": [],
   "source": [
    "df[5] = (df[3].apply(lambda x: str(x))).apply(lambda x : re.split(r'\\s+',x))"
   ]
  },
  {
   "cell_type": "code",
   "execution_count": 7,
   "metadata": {
    "collapsed": false,
    "scrolled": true
   },
   "outputs": [
    {
     "data": {
      "text/html": [
       "<div>\n",
       "<table border=\"1\" class=\"dataframe\">\n",
       "  <thead>\n",
       "    <tr style=\"text-align: right;\">\n",
       "      <th></th>\n",
       "      <th>0</th>\n",
       "      <th>1</th>\n",
       "      <th>2</th>\n",
       "      <th>3</th>\n",
       "      <th>4</th>\n",
       "      <th>5</th>\n",
       "    </tr>\n",
       "  </thead>\n",
       "  <tbody>\n",
       "    <tr>\n",
       "      <th>0</th>\n",
       "      <td>﻿00:00:00</td>\n",
       "      <td>2982199073774412</td>\n",
       "      <td>[360安全卫士]</td>\n",
       "      <td>8 3</td>\n",
       "      <td>download.it.com.cn/softweb/software/firewall/a...</td>\n",
       "      <td>[8, 3]</td>\n",
       "    </tr>\n",
       "    <tr>\n",
       "      <th>1</th>\n",
       "      <td>00:00:00</td>\n",
       "      <td>7594220010824798</td>\n",
       "      <td>[哄抢救灾物资]</td>\n",
       "      <td>1 1</td>\n",
       "      <td>news.21cn.com/social/daqian/2008/05/29/4777194...</td>\n",
       "      <td>[1, 1]</td>\n",
       "    </tr>\n",
       "    <tr>\n",
       "      <th>2</th>\n",
       "      <td>00:00:00</td>\n",
       "      <td>5228056822071097</td>\n",
       "      <td>[75810部队]</td>\n",
       "      <td>14 5</td>\n",
       "      <td>www.greatoo.com/greatoo_cn/list.asp?link_id=27...</td>\n",
       "      <td>[14, 5]</td>\n",
       "    </tr>\n",
       "    <tr>\n",
       "      <th>3</th>\n",
       "      <td>00:00:00</td>\n",
       "      <td>6140463203615646</td>\n",
       "      <td>[绳艺]</td>\n",
       "      <td>62 36</td>\n",
       "      <td>www.jd-cd.com/jd_opus/xx/200607/706.html</td>\n",
       "      <td>[62, 36]</td>\n",
       "    </tr>\n",
       "    <tr>\n",
       "      <th>4</th>\n",
       "      <td>00:00:00</td>\n",
       "      <td>8561366108033201</td>\n",
       "      <td>[汶川地震原因]</td>\n",
       "      <td>3 2</td>\n",
       "      <td>www.big38.net/</td>\n",
       "      <td>[3, 2]</td>\n",
       "    </tr>\n",
       "    <tr>\n",
       "      <th>5</th>\n",
       "      <td>00:00:00</td>\n",
       "      <td>23908140386148713</td>\n",
       "      <td>[莫衷一是的意思]</td>\n",
       "      <td>1 2</td>\n",
       "      <td>www.chinabaike.com/article/81/82/110/2007/2007...</td>\n",
       "      <td>[1, 2]</td>\n",
       "    </tr>\n",
       "    <tr>\n",
       "      <th>6</th>\n",
       "      <td>00:00:00</td>\n",
       "      <td>1797943298449139</td>\n",
       "      <td>[星梦缘全集在线观看]</td>\n",
       "      <td>8 5</td>\n",
       "      <td>www.6wei.net/dianshiju/????\\xa1\\xe9|????do=index</td>\n",
       "      <td>[8, 5]</td>\n",
       "    </tr>\n",
       "    <tr>\n",
       "      <th>7</th>\n",
       "      <td>00:00:00</td>\n",
       "      <td>717725924582846</td>\n",
       "      <td>[闪字吧]</td>\n",
       "      <td>1 2</td>\n",
       "      <td>www.shanziba.com/</td>\n",
       "      <td>[1, 2]</td>\n",
       "    </tr>\n",
       "    <tr>\n",
       "      <th>8</th>\n",
       "      <td>00:00:00</td>\n",
       "      <td>41416219018952116</td>\n",
       "      <td>[霍震霆与朱玲玲照片]</td>\n",
       "      <td>2 6</td>\n",
       "      <td>bbs.gouzai.cn/thread-698736.html</td>\n",
       "      <td>[2, 6]</td>\n",
       "    </tr>\n",
       "    <tr>\n",
       "      <th>9</th>\n",
       "      <td>00:00:00</td>\n",
       "      <td>9975666857142764</td>\n",
       "      <td>[电脑创业]</td>\n",
       "      <td>2 2</td>\n",
       "      <td>ks.cn.yahoo.com/question/1307120203719.html</td>\n",
       "      <td>[2, 2]</td>\n",
       "    </tr>\n",
       "    <tr>\n",
       "      <th>10</th>\n",
       "      <td>00:00:00</td>\n",
       "      <td>21603374619077448</td>\n",
       "      <td>[111aa图片]</td>\n",
       "      <td>1 6</td>\n",
       "      <td>www.fotolog.com.cn/tags/aa111</td>\n",
       "      <td>[1, 6]</td>\n",
       "    </tr>\n",
       "    <tr>\n",
       "      <th>11</th>\n",
       "      <td>00:00:00</td>\n",
       "      <td>7423866288265172</td>\n",
       "      <td>[豆腐的制成]</td>\n",
       "      <td>3 13</td>\n",
       "      <td>ks.cn.yahoo.com/question/1406051201894.html</td>\n",
       "      <td>[3, 13]</td>\n",
       "    </tr>\n",
       "    <tr>\n",
       "      <th>12</th>\n",
       "      <td>00:00:00</td>\n",
       "      <td>616877776407358</td>\n",
       "      <td>[tudou.com+禁播电影]</td>\n",
       "      <td>2 9</td>\n",
       "      <td>topic.bindou.com/1487/</td>\n",
       "      <td>[2, 9]</td>\n",
       "    </tr>\n",
       "    <tr>\n",
       "      <th>13</th>\n",
       "      <td>00:00:00</td>\n",
       "      <td>3933365481995287</td>\n",
       "      <td>[最佳受孕时间]</td>\n",
       "      <td>6 3</td>\n",
       "      <td>ks.cn.yahoo.com/question/1407051001276.html</td>\n",
       "      <td>[6, 3]</td>\n",
       "    </tr>\n",
       "    <tr>\n",
       "      <th>14</th>\n",
       "      <td>00:00:00</td>\n",
       "      <td>8242389147671512</td>\n",
       "      <td>[捷克民歌土风舞++教案]</td>\n",
       "      <td>2 3</td>\n",
       "      <td>shwamlys.blog.sohu.com/76558184.html</td>\n",
       "      <td>[2, 3]</td>\n",
       "    </tr>\n",
       "    <tr>\n",
       "      <th>15</th>\n",
       "      <td>00:00:00</td>\n",
       "      <td>8248403977107859</td>\n",
       "      <td>[pdf]</td>\n",
       "      <td>1 1</td>\n",
       "      <td>download.it168.com/18/1805/13947/13947_3.shtml</td>\n",
       "      <td>[1, 1]</td>\n",
       "    </tr>\n",
       "    <tr>\n",
       "      <th>16</th>\n",
       "      <td>00:00:00</td>\n",
       "      <td>6239728533154822</td>\n",
       "      <td>[喷嘭乐团lonely+day]</td>\n",
       "      <td>7 9</td>\n",
       "      <td>www.songtaste.com/song/266563/</td>\n",
       "      <td>[7, 9]</td>\n",
       "    </tr>\n",
       "    <tr>\n",
       "      <th>17</th>\n",
       "      <td>00:00:00</td>\n",
       "      <td>6551182914925117</td>\n",
       "      <td>[尼康相机报价]</td>\n",
       "      <td>6 4</td>\n",
       "      <td>product.it168.com/list/b/03050171_1.shtml</td>\n",
       "      <td>[6, 4]</td>\n",
       "    </tr>\n",
       "    <tr>\n",
       "      <th>18</th>\n",
       "      <td>00:00:00</td>\n",
       "      <td>2345161545038265</td>\n",
       "      <td>[哄抢救灾物资]</td>\n",
       "      <td>2 1</td>\n",
       "      <td>pic.news.mop.com/gs/2008/0528/12985.shtml</td>\n",
       "      <td>[2, 1]</td>\n",
       "    </tr>\n",
       "    <tr>\n",
       "      <th>19</th>\n",
       "      <td>00:00:00</td>\n",
       "      <td>6478452674857782</td>\n",
       "      <td>[1000]</td>\n",
       "      <td>4 1</td>\n",
       "      <td>www.1000dy.cn/</td>\n",
       "      <td>[4, 1]</td>\n",
       "    </tr>\n",
       "    <tr>\n",
       "      <th>20</th>\n",
       "      <td>00:00:00</td>\n",
       "      <td>23405445793591878</td>\n",
       "      <td>[剑荡天下+++展鹏]</td>\n",
       "      <td>4 5</td>\n",
       "      <td>74.53.27.3/~xx4ucom/bbs/simple/index.php?t3174...</td>\n",
       "      <td>[4, 5]</td>\n",
       "    </tr>\n",
       "    <tr>\n",
       "      <th>21</th>\n",
       "      <td>00:00:00</td>\n",
       "      <td>23457845712802688</td>\n",
       "      <td>[人妖]</td>\n",
       "      <td>4 1</td>\n",
       "      <td>play.zol.com.cn/detail/1659_1.html</td>\n",
       "      <td>[4, 1]</td>\n",
       "    </tr>\n",
       "    <tr>\n",
       "      <th>22</th>\n",
       "      <td>00:00:00</td>\n",
       "      <td>4625224675315291</td>\n",
       "      <td>[印尼排华是怎么回事]</td>\n",
       "      <td>2 6</td>\n",
       "      <td>zhidao.baidu.com/question/47218514</td>\n",
       "      <td>[2, 6]</td>\n",
       "    </tr>\n",
       "    <tr>\n",
       "      <th>23</th>\n",
       "      <td>00:00:00</td>\n",
       "      <td>48731119953599966</td>\n",
       "      <td>[东莞市塘厦新泰塑胶五金厂]</td>\n",
       "      <td>10 44</td>\n",
       "      <td>www.hi-b2b.com/product/17w47204/index.shtml</td>\n",
       "      <td>[10, 44]</td>\n",
       "    </tr>\n",
       "    <tr>\n",
       "      <th>24</th>\n",
       "      <td>00:00:00</td>\n",
       "      <td>48530765688455246</td>\n",
       "      <td>[胡其美]</td>\n",
       "      <td>26 3</td>\n",
       "      <td>www.gotostreet.com/bbs/ShowPost.Asp?ID=121</td>\n",
       "      <td>[26, 3]</td>\n",
       "    </tr>\n",
       "    <tr>\n",
       "      <th>25</th>\n",
       "      <td>00:00:00</td>\n",
       "      <td>5750662932822584</td>\n",
       "      <td>[女士找鸭子经历]</td>\n",
       "      <td>3 2</td>\n",
       "      <td>zhangxiaoyu52.blog.sohu.com/76119569.html</td>\n",
       "      <td>[3, 2]</td>\n",
       "    </tr>\n",
       "    <tr>\n",
       "      <th>26</th>\n",
       "      <td>00:00:00</td>\n",
       "      <td>11515839301781111</td>\n",
       "      <td>[2008年运程]</td>\n",
       "      <td>4 3</td>\n",
       "      <td>2008.gif123.com/</td>\n",
       "      <td>[4, 3]</td>\n",
       "    </tr>\n",
       "    <tr>\n",
       "      <th>27</th>\n",
       "      <td>00:00:00</td>\n",
       "      <td>26706283607513126</td>\n",
       "      <td>[芭蕾舞剧《天鹅湖》]</td>\n",
       "      <td>5 6</td>\n",
       "      <td>you.video.sina.com.cn/b/5924814-1246200450.html</td>\n",
       "      <td>[5, 6]</td>\n",
       "    </tr>\n",
       "    <tr>\n",
       "      <th>28</th>\n",
       "      <td>00:00:00</td>\n",
       "      <td>1532039495118448</td>\n",
       "      <td>[不锈钢]</td>\n",
       "      <td>1 1</td>\n",
       "      <td>www.51bxg.com/</td>\n",
       "      <td>[1, 1]</td>\n",
       "    </tr>\n",
       "    <tr>\n",
       "      <th>29</th>\n",
       "      <td>00:00:01</td>\n",
       "      <td>14362172758659586</td>\n",
       "      <td>[明星合成]</td>\n",
       "      <td>64 21</td>\n",
       "      <td>link.44box.com/</td>\n",
       "      <td>[64, 21]</td>\n",
       "    </tr>\n",
       "    <tr>\n",
       "      <th>...</th>\n",
       "      <td>...</td>\n",
       "      <td>...</td>\n",
       "      <td>...</td>\n",
       "      <td>...</td>\n",
       "      <td>...</td>\n",
       "      <td>...</td>\n",
       "    </tr>\n",
       "    <tr>\n",
       "      <th>9970</th>\n",
       "      <td>00:09:39</td>\n",
       "      <td>8222816937830956</td>\n",
       "      <td>[菅野亜梨沙+bt]</td>\n",
       "      <td>40 32</td>\n",
       "      <td>63.223.89.214/html/0423456.htm</td>\n",
       "      <td>[40, 32]</td>\n",
       "    </tr>\n",
       "    <tr>\n",
       "      <th>9971</th>\n",
       "      <td>00:09:39</td>\n",
       "      <td>4238014293859742</td>\n",
       "      <td>[8080]</td>\n",
       "      <td>1 1</td>\n",
       "      <td>www.8080.net/</td>\n",
       "      <td>[1, 1]</td>\n",
       "    </tr>\n",
       "    <tr>\n",
       "      <th>9972</th>\n",
       "      <td>00:09:39</td>\n",
       "      <td>2908142862713471</td>\n",
       "      <td>[漫画]</td>\n",
       "      <td>1 1</td>\n",
       "      <td>www.zxmh.net/</td>\n",
       "      <td>[1, 1]</td>\n",
       "    </tr>\n",
       "    <tr>\n",
       "      <th>9973</th>\n",
       "      <td>00:09:39</td>\n",
       "      <td>47453743441352913</td>\n",
       "      <td>[08年手机市场分析]</td>\n",
       "      <td>55 36</td>\n",
       "      <td>www.a.com.cn/forum/article_20_1_344833_1.html</td>\n",
       "      <td>[55, 36]</td>\n",
       "    </tr>\n",
       "    <tr>\n",
       "      <th>9974</th>\n",
       "      <td>00:09:39</td>\n",
       "      <td>5860901801871866</td>\n",
       "      <td>[印尼海啸图片]</td>\n",
       "      <td>2 9</td>\n",
       "      <td>www.yangteacher.com/Html/2005102823400-1.html</td>\n",
       "      <td>[2, 9]</td>\n",
       "    </tr>\n",
       "    <tr>\n",
       "      <th>9975</th>\n",
       "      <td>00:09:39</td>\n",
       "      <td>28907505120909504</td>\n",
       "      <td>[哄抢救灾物资]</td>\n",
       "      <td>2 2</td>\n",
       "      <td>pic.news.mop.com/gs/2008/0528/12985.shtml</td>\n",
       "      <td>[2, 2]</td>\n",
       "    </tr>\n",
       "    <tr>\n",
       "      <th>9976</th>\n",
       "      <td>00:09:39</td>\n",
       "      <td>8584557041448806</td>\n",
       "      <td>[锦州租房]</td>\n",
       "      <td>2 2</td>\n",
       "      <td>jz.hire.house.alijiefu.com/</td>\n",
       "      <td>[2, 2]</td>\n",
       "    </tr>\n",
       "    <tr>\n",
       "      <th>9977</th>\n",
       "      <td>00:09:39</td>\n",
       "      <td>968062155426188</td>\n",
       "      <td>[大小周天]</td>\n",
       "      <td>7 10</td>\n",
       "      <td>zhidao.baidu.com/question/12886465.html?fr=qrl3</td>\n",
       "      <td>[7, 10]</td>\n",
       "    </tr>\n",
       "    <tr>\n",
       "      <th>9978</th>\n",
       "      <td>00:09:39</td>\n",
       "      <td>6339556139419988</td>\n",
       "      <td>[唐朝历史]</td>\n",
       "      <td>7 3</td>\n",
       "      <td>military.china.com/dljl/tangchao/</td>\n",
       "      <td>[7, 3]</td>\n",
       "    </tr>\n",
       "    <tr>\n",
       "      <th>9979</th>\n",
       "      <td>00:09:39</td>\n",
       "      <td>4173703953767403</td>\n",
       "      <td>[金巧巧视频]</td>\n",
       "      <td>9 4</td>\n",
       "      <td>tv.sohu.com/20080319/n255799512.shtml</td>\n",
       "      <td>[9, 4]</td>\n",
       "    </tr>\n",
       "    <tr>\n",
       "      <th>9980</th>\n",
       "      <td>00:09:39</td>\n",
       "      <td>4736282616407962</td>\n",
       "      <td>[印尼排华暴行]</td>\n",
       "      <td>10 3</td>\n",
       "      <td>www.cyrcbbs.com/showtopic-3674-4.aspx</td>\n",
       "      <td>[10, 3]</td>\n",
       "    </tr>\n",
       "    <tr>\n",
       "      <th>9981</th>\n",
       "      <td>00:09:39</td>\n",
       "      <td>4379740661038056</td>\n",
       "      <td>[儿童怎样补钙]</td>\n",
       "      <td>4 11</td>\n",
       "      <td>ask.ci123.com/questions/show/108266</td>\n",
       "      <td>[4, 11]</td>\n",
       "    </tr>\n",
       "    <tr>\n",
       "      <th>9982</th>\n",
       "      <td>00:09:39</td>\n",
       "      <td>9268723508043302</td>\n",
       "      <td>[陕西地震预测]</td>\n",
       "      <td>2 6</td>\n",
       "      <td>news.cnwest.com/content/2006-12/16/content_377...</td>\n",
       "      <td>[2, 6]</td>\n",
       "    </tr>\n",
       "    <tr>\n",
       "      <th>9983</th>\n",
       "      <td>00:09:39</td>\n",
       "      <td>768942793554007</td>\n",
       "      <td>[为民+务实+清廉]</td>\n",
       "      <td>10 14</td>\n",
       "      <td>www.sxhbao.com/jlth/xdth/66000.html</td>\n",
       "      <td>[10, 14]</td>\n",
       "    </tr>\n",
       "    <tr>\n",
       "      <th>9984</th>\n",
       "      <td>00:09:40</td>\n",
       "      <td>4644328333569405</td>\n",
       "      <td>[专升本复习英语]</td>\n",
       "      <td>3 2</td>\n",
       "      <td>www.chengkao365.com/web/z_waiyu/</td>\n",
       "      <td>[3, 2]</td>\n",
       "    </tr>\n",
       "    <tr>\n",
       "      <th>9985</th>\n",
       "      <td>00:09:40</td>\n",
       "      <td>8617500076743922</td>\n",
       "      <td>[免费生辰八字算婚姻]</td>\n",
       "      <td>4 2</td>\n",
       "      <td>zhidao.baidu.com/question/34533010.html</td>\n",
       "      <td>[4, 2]</td>\n",
       "    </tr>\n",
       "    <tr>\n",
       "      <th>9986</th>\n",
       "      <td>00:09:40</td>\n",
       "      <td>571713390095026</td>\n",
       "      <td>[立花里子]</td>\n",
       "      <td>4 1</td>\n",
       "      <td>man.icxo.com/sp/lihualizi.htm</td>\n",
       "      <td>[4, 1]</td>\n",
       "    </tr>\n",
       "    <tr>\n",
       "      <th>9987</th>\n",
       "      <td>00:09:40</td>\n",
       "      <td>7268014691247232</td>\n",
       "      <td>[中英文+歌曲]</td>\n",
       "      <td>5 2</td>\n",
       "      <td>www.ekouyu.com/</td>\n",
       "      <td>[5, 2]</td>\n",
       "    </tr>\n",
       "    <tr>\n",
       "      <th>9988</th>\n",
       "      <td>00:09:40</td>\n",
       "      <td>2739469928397069</td>\n",
       "      <td>[汶川震后十分钟]</td>\n",
       "      <td>8 28</td>\n",
       "      <td>nv.qianlong.com/33530/2008/05/16/2400@4444820.htm</td>\n",
       "      <td>[8, 28]</td>\n",
       "    </tr>\n",
       "    <tr>\n",
       "      <th>9989</th>\n",
       "      <td>00:09:40</td>\n",
       "      <td>9420683319156038</td>\n",
       "      <td>[萧亚轩什么时候发片]</td>\n",
       "      <td>1 1</td>\n",
       "      <td>zhidao.baidu.com/question/4453555</td>\n",
       "      <td>[1, 1]</td>\n",
       "    </tr>\n",
       "    <tr>\n",
       "      <th>9990</th>\n",
       "      <td>00:09:40</td>\n",
       "      <td>2739469928397069</td>\n",
       "      <td>[汶川震后十分钟]</td>\n",
       "      <td>8 29</td>\n",
       "      <td>nv.qianlong.com/33530/2008/05/16/2400@4444820.htm</td>\n",
       "      <td>[8, 29]</td>\n",
       "    </tr>\n",
       "    <tr>\n",
       "      <th>9991</th>\n",
       "      <td>00:09:40</td>\n",
       "      <td>13864620334426242</td>\n",
       "      <td>[网络]</td>\n",
       "      <td>1001 1</td>\n",
       "      <td>click.cpc.sogou.com/bill_cpc?p=XwZ2OrJzFZewygk...</td>\n",
       "      <td>[1001, 1]</td>\n",
       "    </tr>\n",
       "    <tr>\n",
       "      <th>9992</th>\n",
       "      <td>00:09:40</td>\n",
       "      <td>6605960166399166</td>\n",
       "      <td>[hp4vc]</td>\n",
       "      <td>206 62</td>\n",
       "      <td>flea.shangdu.com/p_memo.php?p_id=1428314</td>\n",
       "      <td>[206, 62]</td>\n",
       "    </tr>\n",
       "    <tr>\n",
       "      <th>9993</th>\n",
       "      <td>00:09:40</td>\n",
       "      <td>24085471014261378</td>\n",
       "      <td>[武林启示录+金铃]</td>\n",
       "      <td>12 53</td>\n",
       "      <td>66.79.187.84/two/18/article_19040_1.shtml</td>\n",
       "      <td>[12, 53]</td>\n",
       "    </tr>\n",
       "    <tr>\n",
       "      <th>9994</th>\n",
       "      <td>00:09:40</td>\n",
       "      <td>3396646436048334</td>\n",
       "      <td>[天文地震]</td>\n",
       "      <td>75 40</td>\n",
       "      <td>bbs.tiexue.net/post2_2778569_1.html</td>\n",
       "      <td>[75, 40]</td>\n",
       "    </tr>\n",
       "    <tr>\n",
       "      <th>9995</th>\n",
       "      <td>00:09:40</td>\n",
       "      <td>7908503597048404</td>\n",
       "      <td>[韩国女星整容前]</td>\n",
       "      <td>3 11</td>\n",
       "      <td>video.sznews.com/content/2007-09/17/content_15...</td>\n",
       "      <td>[3, 11]</td>\n",
       "    </tr>\n",
       "    <tr>\n",
       "      <th>9996</th>\n",
       "      <td>00:09:40</td>\n",
       "      <td>3163545304465018</td>\n",
       "      <td>[get+in+her+ass]</td>\n",
       "      <td>140 14</td>\n",
       "      <td>www.oldtransexuals.com/</td>\n",
       "      <td>[140, 14]</td>\n",
       "    </tr>\n",
       "    <tr>\n",
       "      <th>9997</th>\n",
       "      <td>00:09:40</td>\n",
       "      <td>40625869871683956</td>\n",
       "      <td>[哄抢救灾物资]</td>\n",
       "      <td>4 1</td>\n",
       "      <td>news.vnet.cn/photo/292_6.html</td>\n",
       "      <td>[4, 1]</td>\n",
       "    </tr>\n",
       "    <tr>\n",
       "      <th>9998</th>\n",
       "      <td>00:09:40</td>\n",
       "      <td>5668233219730905</td>\n",
       "      <td>[普利司通轮胎报价]</td>\n",
       "      <td>1 6</td>\n",
       "      <td>bbs.speedyou.com/cgi-bin/topic.cgi?forum=107&amp;t...</td>\n",
       "      <td>[1, 6]</td>\n",
       "    </tr>\n",
       "    <tr>\n",
       "      <th>9999</th>\n",
       "      <td>00:09:41</td>\n",
       "      <td>289686447071065</td>\n",
       "      <td>[酒店]</td>\n",
       "      <td>1001 1</td>\n",
       "      <td>click.cpc.sogou.com/bill_cpc?p=9dGXgZYgEUewygP...</td>\n",
       "      <td>[1001, 1]</td>\n",
       "    </tr>\n",
       "  </tbody>\n",
       "</table>\n",
       "<p>10000 rows × 6 columns</p>\n",
       "</div>"
      ],
      "text/plain": [
       "              0                  1                 2       3  \\\n",
       "0     ﻿00:00:00   2982199073774412         [360安全卫士]     8 3   \n",
       "1      00:00:00   7594220010824798          [哄抢救灾物资]     1 1   \n",
       "2      00:00:00   5228056822071097         [75810部队]    14 5   \n",
       "3      00:00:00   6140463203615646              [绳艺]   62 36   \n",
       "4      00:00:00   8561366108033201          [汶川地震原因]     3 2   \n",
       "5      00:00:00  23908140386148713         [莫衷一是的意思]     1 2   \n",
       "6      00:00:00   1797943298449139       [星梦缘全集在线观看]     8 5   \n",
       "7      00:00:00    717725924582846             [闪字吧]     1 2   \n",
       "8      00:00:00  41416219018952116       [霍震霆与朱玲玲照片]     2 6   \n",
       "9      00:00:00   9975666857142764            [电脑创业]     2 2   \n",
       "10     00:00:00  21603374619077448         [111aa图片]     1 6   \n",
       "11     00:00:00   7423866288265172           [豆腐的制成]    3 13   \n",
       "12     00:00:00    616877776407358  [tudou.com+禁播电影]     2 9   \n",
       "13     00:00:00   3933365481995287          [最佳受孕时间]     6 3   \n",
       "14     00:00:00   8242389147671512     [捷克民歌土风舞++教案]     2 3   \n",
       "15     00:00:00   8248403977107859             [pdf]     1 1   \n",
       "16     00:00:00   6239728533154822  [喷嘭乐团lonely+day]     7 9   \n",
       "17     00:00:00   6551182914925117          [尼康相机报价]     6 4   \n",
       "18     00:00:00   2345161545038265          [哄抢救灾物资]     2 1   \n",
       "19     00:00:00   6478452674857782            [1000]     4 1   \n",
       "20     00:00:00  23405445793591878       [剑荡天下+++展鹏]     4 5   \n",
       "21     00:00:00  23457845712802688              [人妖]     4 1   \n",
       "22     00:00:00   4625224675315291       [印尼排华是怎么回事]     2 6   \n",
       "23     00:00:00  48731119953599966    [东莞市塘厦新泰塑胶五金厂]   10 44   \n",
       "24     00:00:00  48530765688455246             [胡其美]    26 3   \n",
       "25     00:00:00   5750662932822584         [女士找鸭子经历]     3 2   \n",
       "26     00:00:00  11515839301781111         [2008年运程]     4 3   \n",
       "27     00:00:00  26706283607513126       [芭蕾舞剧《天鹅湖》]     5 6   \n",
       "28     00:00:00   1532039495118448             [不锈钢]     1 1   \n",
       "29     00:00:01  14362172758659586            [明星合成]   64 21   \n",
       "...         ...                ...               ...     ...   \n",
       "9970   00:09:39   8222816937830956        [菅野亜梨沙+bt]   40 32   \n",
       "9971   00:09:39   4238014293859742            [8080]     1 1   \n",
       "9972   00:09:39   2908142862713471              [漫画]     1 1   \n",
       "9973   00:09:39  47453743441352913       [08年手机市场分析]   55 36   \n",
       "9974   00:09:39   5860901801871866          [印尼海啸图片]     2 9   \n",
       "9975   00:09:39  28907505120909504          [哄抢救灾物资]     2 2   \n",
       "9976   00:09:39   8584557041448806            [锦州租房]     2 2   \n",
       "9977   00:09:39    968062155426188            [大小周天]    7 10   \n",
       "9978   00:09:39   6339556139419988            [唐朝历史]     7 3   \n",
       "9979   00:09:39   4173703953767403           [金巧巧视频]     9 4   \n",
       "9980   00:09:39   4736282616407962          [印尼排华暴行]    10 3   \n",
       "9981   00:09:39   4379740661038056          [儿童怎样补钙]    4 11   \n",
       "9982   00:09:39   9268723508043302          [陕西地震预测]     2 6   \n",
       "9983   00:09:39    768942793554007        [为民+务实+清廉]   10 14   \n",
       "9984   00:09:40   4644328333569405         [专升本复习英语]     3 2   \n",
       "9985   00:09:40   8617500076743922       [免费生辰八字算婚姻]     4 2   \n",
       "9986   00:09:40    571713390095026            [立花里子]     4 1   \n",
       "9987   00:09:40   7268014691247232          [中英文+歌曲]     5 2   \n",
       "9988   00:09:40   2739469928397069         [汶川震后十分钟]    8 28   \n",
       "9989   00:09:40   9420683319156038       [萧亚轩什么时候发片]     1 1   \n",
       "9990   00:09:40   2739469928397069         [汶川震后十分钟]    8 29   \n",
       "9991   00:09:40  13864620334426242              [网络]  1001 1   \n",
       "9992   00:09:40   6605960166399166           [hp4vc]  206 62   \n",
       "9993   00:09:40  24085471014261378        [武林启示录+金铃]   12 53   \n",
       "9994   00:09:40   3396646436048334            [天文地震]   75 40   \n",
       "9995   00:09:40   7908503597048404         [韩国女星整容前]    3 11   \n",
       "9996   00:09:40   3163545304465018  [get+in+her+ass]  140 14   \n",
       "9997   00:09:40  40625869871683956          [哄抢救灾物资]     4 1   \n",
       "9998   00:09:40   5668233219730905        [普利司通轮胎报价]     1 6   \n",
       "9999   00:09:41    289686447071065              [酒店]  1001 1   \n",
       "\n",
       "                                                      4          5  \n",
       "0     download.it.com.cn/softweb/software/firewall/a...     [8, 3]  \n",
       "1     news.21cn.com/social/daqian/2008/05/29/4777194...     [1, 1]  \n",
       "2     www.greatoo.com/greatoo_cn/list.asp?link_id=27...    [14, 5]  \n",
       "3              www.jd-cd.com/jd_opus/xx/200607/706.html   [62, 36]  \n",
       "4                                        www.big38.net/     [3, 2]  \n",
       "5     www.chinabaike.com/article/81/82/110/2007/2007...     [1, 2]  \n",
       "6      www.6wei.net/dianshiju/????\\xa1\\xe9|????do=index     [8, 5]  \n",
       "7                                     www.shanziba.com/     [1, 2]  \n",
       "8                      bbs.gouzai.cn/thread-698736.html     [2, 6]  \n",
       "9           ks.cn.yahoo.com/question/1307120203719.html     [2, 2]  \n",
       "10                        www.fotolog.com.cn/tags/aa111     [1, 6]  \n",
       "11          ks.cn.yahoo.com/question/1406051201894.html    [3, 13]  \n",
       "12                               topic.bindou.com/1487/     [2, 9]  \n",
       "13          ks.cn.yahoo.com/question/1407051001276.html     [6, 3]  \n",
       "14                 shwamlys.blog.sohu.com/76558184.html     [2, 3]  \n",
       "15       download.it168.com/18/1805/13947/13947_3.shtml     [1, 1]  \n",
       "16                       www.songtaste.com/song/266563/     [7, 9]  \n",
       "17            product.it168.com/list/b/03050171_1.shtml     [6, 4]  \n",
       "18            pic.news.mop.com/gs/2008/0528/12985.shtml     [2, 1]  \n",
       "19                                       www.1000dy.cn/     [4, 1]  \n",
       "20    74.53.27.3/~xx4ucom/bbs/simple/index.php?t3174...     [4, 5]  \n",
       "21                   play.zol.com.cn/detail/1659_1.html     [4, 1]  \n",
       "22                   zhidao.baidu.com/question/47218514     [2, 6]  \n",
       "23          www.hi-b2b.com/product/17w47204/index.shtml   [10, 44]  \n",
       "24           www.gotostreet.com/bbs/ShowPost.Asp?ID=121    [26, 3]  \n",
       "25            zhangxiaoyu52.blog.sohu.com/76119569.html     [3, 2]  \n",
       "26                                     2008.gif123.com/     [4, 3]  \n",
       "27      you.video.sina.com.cn/b/5924814-1246200450.html     [5, 6]  \n",
       "28                                       www.51bxg.com/     [1, 1]  \n",
       "29                                      link.44box.com/   [64, 21]  \n",
       "...                                                 ...        ...  \n",
       "9970                     63.223.89.214/html/0423456.htm   [40, 32]  \n",
       "9971                                      www.8080.net/     [1, 1]  \n",
       "9972                                      www.zxmh.net/     [1, 1]  \n",
       "9973      www.a.com.cn/forum/article_20_1_344833_1.html   [55, 36]  \n",
       "9974      www.yangteacher.com/Html/2005102823400-1.html     [2, 9]  \n",
       "9975          pic.news.mop.com/gs/2008/0528/12985.shtml     [2, 2]  \n",
       "9976                        jz.hire.house.alijiefu.com/     [2, 2]  \n",
       "9977    zhidao.baidu.com/question/12886465.html?fr=qrl3    [7, 10]  \n",
       "9978                  military.china.com/dljl/tangchao/     [7, 3]  \n",
       "9979              tv.sohu.com/20080319/n255799512.shtml     [9, 4]  \n",
       "9980              www.cyrcbbs.com/showtopic-3674-4.aspx    [10, 3]  \n",
       "9981                ask.ci123.com/questions/show/108266    [4, 11]  \n",
       "9982  news.cnwest.com/content/2006-12/16/content_377...     [2, 6]  \n",
       "9983                www.sxhbao.com/jlth/xdth/66000.html   [10, 14]  \n",
       "9984                   www.chengkao365.com/web/z_waiyu/     [3, 2]  \n",
       "9985            zhidao.baidu.com/question/34533010.html     [4, 2]  \n",
       "9986                      man.icxo.com/sp/lihualizi.htm     [4, 1]  \n",
       "9987                                    www.ekouyu.com/     [5, 2]  \n",
       "9988  nv.qianlong.com/33530/2008/05/16/2400@4444820.htm    [8, 28]  \n",
       "9989                  zhidao.baidu.com/question/4453555     [1, 1]  \n",
       "9990  nv.qianlong.com/33530/2008/05/16/2400@4444820.htm    [8, 29]  \n",
       "9991  click.cpc.sogou.com/bill_cpc?p=XwZ2OrJzFZewygk...  [1001, 1]  \n",
       "9992           flea.shangdu.com/p_memo.php?p_id=1428314  [206, 62]  \n",
       "9993          66.79.187.84/two/18/article_19040_1.shtml   [12, 53]  \n",
       "9994                bbs.tiexue.net/post2_2778569_1.html   [75, 40]  \n",
       "9995  video.sznews.com/content/2007-09/17/content_15...    [3, 11]  \n",
       "9996                            www.oldtransexuals.com/  [140, 14]  \n",
       "9997                      news.vnet.cn/photo/292_6.html     [4, 1]  \n",
       "9998  bbs.speedyou.com/cgi-bin/topic.cgi?forum=107&t...     [1, 6]  \n",
       "9999  click.cpc.sogou.com/bill_cpc?p=9dGXgZYgEUewygP...  [1001, 1]  \n",
       "\n",
       "[10000 rows x 6 columns]"
      ]
     },
     "execution_count": 7,
     "metadata": {},
     "output_type": "execute_result"
    }
   ],
   "source": [
    "df"
   ]
  },
  {
   "cell_type": "code",
   "execution_count": 8,
   "metadata": {
    "collapsed": true
   },
   "outputs": [],
   "source": [
    "import graphlab"
   ]
  },
  {
   "cell_type": "code",
   "execution_count": 9,
   "metadata": {
    "collapsed": false,
    "scrolled": false
   },
   "outputs": [
    {
     "name": "stdout",
     "output_type": "stream",
     "text": [
      "This non-commercial license of GraphLab Create is assigned to guoxiuhe@nefu.edu.cn and will expire on April 02, 2017. For commercial licensing options, visit https://dato.com/buy/.\n"
     ]
    },
    {
     "name": "stderr",
     "output_type": "stream",
     "text": [
      "2016-05-01 18:06:19,743 [INFO] graphlab.cython.cy_server, 176: GraphLab Create v1.9 started. Logging: C:\\Users\\heguoxiu\\AppData\\Local\\Temp\\graphlab_server_1462097167.log.0\n"
     ]
    }
   ],
   "source": [
    "data2 = graphlab.SFrame(df)"
   ]
  },
  {
   "cell_type": "code",
   "execution_count": 10,
   "metadata": {
    "collapsed": false,
    "scrolled": true
   },
   "outputs": [
    {
     "data": {
      "text/html": [
       "<div style=\"max-height:1000px;max-width:1500px;overflow:auto;\"><table frame=\"box\" rules=\"cols\">\n",
       "    <tr>\n",
       "        <th style=\"padding-left: 1em; padding-right: 1em; text-align: center\">0</th>\n",
       "        <th style=\"padding-left: 1em; padding-right: 1em; text-align: center\">1</th>\n",
       "        <th style=\"padding-left: 1em; padding-right: 1em; text-align: center\">2</th>\n",
       "        <th style=\"padding-left: 1em; padding-right: 1em; text-align: center\">3</th>\n",
       "        <th style=\"padding-left: 1em; padding-right: 1em; text-align: center\">4</th>\n",
       "        <th style=\"padding-left: 1em; padding-right: 1em; text-align: center\">5</th>\n",
       "    </tr>\n",
       "    <tr>\n",
       "        <td style=\"padding-left: 1em; padding-right: 1em; text-align: center; vertical-align: top\">﻿00:00:00</td>\n",
       "        <td style=\"padding-left: 1em; padding-right: 1em; text-align: center; vertical-align: top\">2982199073774412</td>\n",
       "        <td style=\"padding-left: 1em; padding-right: 1em; text-align: center; vertical-align: top\">[360安全卫士]</td>\n",
       "        <td style=\"padding-left: 1em; padding-right: 1em; text-align: center; vertical-align: top\">8 3</td>\n",
       "        <td style=\"padding-left: 1em; padding-right: 1em; text-align: center; vertical-align: top\">download.it.com.cn/softwe<br>b/software/firewall/a ...</td>\n",
       "        <td style=\"padding-left: 1em; padding-right: 1em; text-align: center; vertical-align: top\">[8, 3]</td>\n",
       "    </tr>\n",
       "    <tr>\n",
       "        <td style=\"padding-left: 1em; padding-right: 1em; text-align: center; vertical-align: top\">00:00:00</td>\n",
       "        <td style=\"padding-left: 1em; padding-right: 1em; text-align: center; vertical-align: top\">7594220010824798</td>\n",
       "        <td style=\"padding-left: 1em; padding-right: 1em; text-align: center; vertical-align: top\">[哄抢救灾物资]</td>\n",
       "        <td style=\"padding-left: 1em; padding-right: 1em; text-align: center; vertical-align: top\">1 1</td>\n",
       "        <td style=\"padding-left: 1em; padding-right: 1em; text-align: center; vertical-align: top\">news.21cn.com/social/daqi<br>an/2008/05/29/4777194 ...</td>\n",
       "        <td style=\"padding-left: 1em; padding-right: 1em; text-align: center; vertical-align: top\">[1, 1]</td>\n",
       "    </tr>\n",
       "    <tr>\n",
       "        <td style=\"padding-left: 1em; padding-right: 1em; text-align: center; vertical-align: top\">00:00:00</td>\n",
       "        <td style=\"padding-left: 1em; padding-right: 1em; text-align: center; vertical-align: top\">5228056822071097</td>\n",
       "        <td style=\"padding-left: 1em; padding-right: 1em; text-align: center; vertical-align: top\">[75810部队]</td>\n",
       "        <td style=\"padding-left: 1em; padding-right: 1em; text-align: center; vertical-align: top\">14 5</td>\n",
       "        <td style=\"padding-left: 1em; padding-right: 1em; text-align: center; vertical-align: top\">www.greatoo.com/greatoo_c<br>n/list.asp?link_id=27 ...</td>\n",
       "        <td style=\"padding-left: 1em; padding-right: 1em; text-align: center; vertical-align: top\">[14, 5]</td>\n",
       "    </tr>\n",
       "    <tr>\n",
       "        <td style=\"padding-left: 1em; padding-right: 1em; text-align: center; vertical-align: top\">00:00:00</td>\n",
       "        <td style=\"padding-left: 1em; padding-right: 1em; text-align: center; vertical-align: top\">6140463203615646</td>\n",
       "        <td style=\"padding-left: 1em; padding-right: 1em; text-align: center; vertical-align: top\">[绳艺]</td>\n",
       "        <td style=\"padding-left: 1em; padding-right: 1em; text-align: center; vertical-align: top\">62 36</td>\n",
       "        <td style=\"padding-left: 1em; padding-right: 1em; text-align: center; vertical-align: top\">www.jd-cd.com/jd_opus/xx/<br>200607/706.html ...</td>\n",
       "        <td style=\"padding-left: 1em; padding-right: 1em; text-align: center; vertical-align: top\">[62, 36]</td>\n",
       "    </tr>\n",
       "    <tr>\n",
       "        <td style=\"padding-left: 1em; padding-right: 1em; text-align: center; vertical-align: top\">00:00:00</td>\n",
       "        <td style=\"padding-left: 1em; padding-right: 1em; text-align: center; vertical-align: top\">8561366108033201</td>\n",
       "        <td style=\"padding-left: 1em; padding-right: 1em; text-align: center; vertical-align: top\">[汶川地震原因]</td>\n",
       "        <td style=\"padding-left: 1em; padding-right: 1em; text-align: center; vertical-align: top\">3 2</td>\n",
       "        <td style=\"padding-left: 1em; padding-right: 1em; text-align: center; vertical-align: top\">www.big38.net/</td>\n",
       "        <td style=\"padding-left: 1em; padding-right: 1em; text-align: center; vertical-align: top\">[3, 2]</td>\n",
       "    </tr>\n",
       "    <tr>\n",
       "        <td style=\"padding-left: 1em; padding-right: 1em; text-align: center; vertical-align: top\">00:00:00</td>\n",
       "        <td style=\"padding-left: 1em; padding-right: 1em; text-align: center; vertical-align: top\">23908140386148713</td>\n",
       "        <td style=\"padding-left: 1em; padding-right: 1em; text-align: center; vertical-align: top\">[莫衷一是的意思]</td>\n",
       "        <td style=\"padding-left: 1em; padding-right: 1em; text-align: center; vertical-align: top\">1 2</td>\n",
       "        <td style=\"padding-left: 1em; padding-right: 1em; text-align: center; vertical-align: top\">www.chinabaike.com/articl<br>e/81/82/110/2007/2007 ...</td>\n",
       "        <td style=\"padding-left: 1em; padding-right: 1em; text-align: center; vertical-align: top\">[1, 2]</td>\n",
       "    </tr>\n",
       "    <tr>\n",
       "        <td style=\"padding-left: 1em; padding-right: 1em; text-align: center; vertical-align: top\">00:00:00</td>\n",
       "        <td style=\"padding-left: 1em; padding-right: 1em; text-align: center; vertical-align: top\">1797943298449139</td>\n",
       "        <td style=\"padding-left: 1em; padding-right: 1em; text-align: center; vertical-align: top\">[星梦缘全集在线观<br>看] ...</td>\n",
       "        <td style=\"padding-left: 1em; padding-right: 1em; text-align: center; vertical-align: top\">8 5</td>\n",
       "        <td style=\"padding-left: 1em; padding-right: 1em; text-align: center; vertical-align: top\">www.6wei.net/dianshiju/??<br>??\\xa1\\xe9|????do=index ...</td>\n",
       "        <td style=\"padding-left: 1em; padding-right: 1em; text-align: center; vertical-align: top\">[8, 5]</td>\n",
       "    </tr>\n",
       "    <tr>\n",
       "        <td style=\"padding-left: 1em; padding-right: 1em; text-align: center; vertical-align: top\">00:00:00</td>\n",
       "        <td style=\"padding-left: 1em; padding-right: 1em; text-align: center; vertical-align: top\">717725924582846</td>\n",
       "        <td style=\"padding-left: 1em; padding-right: 1em; text-align: center; vertical-align: top\">[闪字吧]</td>\n",
       "        <td style=\"padding-left: 1em; padding-right: 1em; text-align: center; vertical-align: top\">1 2</td>\n",
       "        <td style=\"padding-left: 1em; padding-right: 1em; text-align: center; vertical-align: top\">www.shanziba.com/</td>\n",
       "        <td style=\"padding-left: 1em; padding-right: 1em; text-align: center; vertical-align: top\">[1, 2]</td>\n",
       "    </tr>\n",
       "    <tr>\n",
       "        <td style=\"padding-left: 1em; padding-right: 1em; text-align: center; vertical-align: top\">00:00:00</td>\n",
       "        <td style=\"padding-left: 1em; padding-right: 1em; text-align: center; vertical-align: top\">41416219018952116</td>\n",
       "        <td style=\"padding-left: 1em; padding-right: 1em; text-align: center; vertical-align: top\">[霍震霆与朱玲玲照<br>片] ...</td>\n",
       "        <td style=\"padding-left: 1em; padding-right: 1em; text-align: center; vertical-align: top\">2 6</td>\n",
       "        <td style=\"padding-left: 1em; padding-right: 1em; text-align: center; vertical-align: top\">bbs.gouzai.cn/thread-6987<br>36.html ...</td>\n",
       "        <td style=\"padding-left: 1em; padding-right: 1em; text-align: center; vertical-align: top\">[2, 6]</td>\n",
       "    </tr>\n",
       "    <tr>\n",
       "        <td style=\"padding-left: 1em; padding-right: 1em; text-align: center; vertical-align: top\">00:00:00</td>\n",
       "        <td style=\"padding-left: 1em; padding-right: 1em; text-align: center; vertical-align: top\">9975666857142764</td>\n",
       "        <td style=\"padding-left: 1em; padding-right: 1em; text-align: center; vertical-align: top\">[电脑创业]</td>\n",
       "        <td style=\"padding-left: 1em; padding-right: 1em; text-align: center; vertical-align: top\">2 2</td>\n",
       "        <td style=\"padding-left: 1em; padding-right: 1em; text-align: center; vertical-align: top\">ks.cn.yahoo.com/question/<br>1307120203719.html ...</td>\n",
       "        <td style=\"padding-left: 1em; padding-right: 1em; text-align: center; vertical-align: top\">[2, 2]</td>\n",
       "    </tr>\n",
       "</table>\n",
       "[10000 rows x 6 columns]<br/>Note: Only the head of the SFrame is printed.<br/>You can use print_rows(num_rows=m, num_columns=n) to print more rows and columns.\n",
       "</div>"
      ],
      "text/plain": [
       "Columns:\n",
       "\t0\tstr\n",
       "\t1\tint\n",
       "\t2\tstr\n",
       "\t3\tstr\n",
       "\t4\tstr\n",
       "\t5\tlist\n",
       "\n",
       "Rows: 10000\n",
       "\n",
       "Data:\n",
       "+-----------+-------------------+----------------------+-------+\n",
       "|     0     |         1         |          2           |   3   |\n",
       "+-----------+-------------------+----------------------+-------+\n",
       "| ﻿00:00:00 |  2982199073774412 |    [360安全卫士]     |  8 3  |\n",
       "|  00:00:00 |  7594220010824798 |    [哄抢救灾物资]    |  1 1  |\n",
       "|  00:00:00 |  5228056822071097 |     [75810部队]      |  14 5 |\n",
       "|  00:00:00 |  6140463203615646 |        [绳艺]        | 62 36 |\n",
       "|  00:00:00 |  8561366108033201 |    [汶川地震原因]    |  3 2  |\n",
       "|  00:00:00 | 23908140386148713 |   [莫衷一是的意思]   |  1 2  |\n",
       "|  00:00:00 |  1797943298449139 | [星梦缘全集在线观看] |  8 5  |\n",
       "|  00:00:00 |  717725924582846  |       [闪字吧]       |  1 2  |\n",
       "|  00:00:00 | 41416219018952116 | [霍震霆与朱玲玲照片] |  2 6  |\n",
       "|  00:00:00 |  9975666857142764 |      [电脑创业]      |  2 2  |\n",
       "+-----------+-------------------+----------------------+-------+\n",
       "+-------------------------------+----------+\n",
       "|               4               |    5     |\n",
       "+-------------------------------+----------+\n",
       "| download.it.com.cn/softweb... |  [8, 3]  |\n",
       "| news.21cn.com/social/daqia... |  [1, 1]  |\n",
       "| www.greatoo.com/greatoo_cn... | [14, 5]  |\n",
       "| www.jd-cd.com/jd_opus/xx/2... | [62, 36] |\n",
       "|         www.big38.net/        |  [3, 2]  |\n",
       "| www.chinabaike.com/article... |  [1, 2]  |\n",
       "| www.6wei.net/dianshiju/???... |  [8, 5]  |\n",
       "|       www.shanziba.com/       |  [1, 2]  |\n",
       "| bbs.gouzai.cn/thread-69873... |  [2, 6]  |\n",
       "| ks.cn.yahoo.com/question/1... |  [2, 2]  |\n",
       "+-------------------------------+----------+\n",
       "[10000 rows x 6 columns]\n",
       "Note: Only the head of the SFrame is printed.\n",
       "You can use print_rows(num_rows=m, num_columns=n) to print more rows and columns."
      ]
     },
     "execution_count": 10,
     "metadata": {},
     "output_type": "execute_result"
    }
   ],
   "source": [
    "data2"
   ]
  },
  {
   "cell_type": "code",
   "execution_count": 11,
   "metadata": {
    "collapsed": false
   },
   "outputs": [],
   "source": [
    "def getfirst(l):\n",
    "    return int(l[0])\n",
    "def getsecond(l):\n",
    "    return int(l[1])\n",
    "\n",
    "data2['result_rank'] = data2['5'].apply(lambda l: getfirst(l))\n",
    "data2['click_rank'] = data2['5'].apply(lambda l: getsecond(l))"
   ]
  },
  {
   "cell_type": "code",
   "execution_count": 12,
   "metadata": {
    "collapsed": false
   },
   "outputs": [],
   "source": [
    "data2['8'] = data2['2'].apply(str).apply(lambda x: x.strip().lstrip('[').rstrip(']'))"
   ]
  },
  {
   "cell_type": "code",
   "execution_count": 13,
   "metadata": {
    "collapsed": false
   },
   "outputs": [],
   "source": [
    "data2['url_split'] = data2['4'].apply(lambda x: str(x)).apply(lambda x: x.lower().replace('indexl', '')\\\n",
    "                                                              .replace('.shtml', '').replace('.htm', '').replace('.aspx', '')\\\n",
    "                                                              .replace('.com', '').replace('.cn', '').replace('.asp', '')\\\n",
    "                                                              .replace('.html', '').replace('.org', '').replace('index.php','')\\\n",
    "                                                              .replace('.net', '').strip().lstrip('[')\\\n",
    "                                                              .rstrip(']')).apply(lambda x: re.split(r'/[0-9\\.\\_\\-]*',x))"
   ]
  },
  {
   "cell_type": "code",
   "execution_count": 14,
   "metadata": {
    "collapsed": true
   },
   "outputs": [],
   "source": [
    "data2['word_count'] = graphlab.text_analytics.count_words(data2['url_split'])"
   ]
  },
  {
   "cell_type": "code",
   "execution_count": 15,
   "metadata": {
    "collapsed": false,
    "scrolled": true
   },
   "outputs": [
    {
     "data": {
      "text/plain": [
       "dtype: dict\n",
       "Rows: 10000\n",
       "[{'download.it': 1L, 'firewall': 1L, 'l': 1L, 'antivirus': 1L, 'softweb': 1L, 'software': 1L}, {'daqian': 1L, 'news.21cn': 1L, 'social': 1L}, {'greatoo_cn': 1L, 'list?link_id=276&title=%be%de%c2%d6%d0%c2%ce%c5': 1L, 'www.greatoo': 1L}, {'www.jd-cd': 1L, 'xx': 1L, 'l': 1L, 'jd_opus': 1L}, {'www.big38': 1L}, {'www.chinabaike': 1L, 'article': 1L, 'l': 1L}, {'www.6wei': 1L, 'dianshiju': 1L, '????\\xa1\\xe9|????do=index': 1L}, {'www.shanziba': 1L}, {'bbs.gouzai': 1L, 'thread-698736l': 1L}, {'ks.yahoo': 1L, 'question': 1L, 'l': 1L}, {'aa111': 1L, 'www.fotolog': 1L, 'tags': 1L}, {'ks.yahoo': 1L, 'question': 1L, 'l': 1L}, {'topic.bindou': 1L}, {'ks.yahoo': 1L, 'question': 1L, 'l': 1L}, {'shwamlys.blog.sohu': 1L, 'l': 1L}, {'download.it168': 1L}, {'www.songtaste': 1L, 'song': 1L}, {'product.it168': 1L, 'b': 1L, 'list': 1L}, {'gs': 1L, 'pic.news.mop': 1L}, {'www.1000dy': 1L}, {'?t31744l': 1L, 'simple': 1L, '~xx4ucom': 1L, 'bbs': 1L, '74.53.27.3': 1L}, {'play.zol': 1L, 'l': 1L, 'detail': 1L}, {'zhidao.baidu': 1L, 'question': 1L}, {'index': 1L, 'product': 1L, 'www.hi-b2b': 1L, 'w47204': 1L}, {'showpost?id=121': 1L, 'bbs': 1L, 'www.gotostreet': 1L}, {'zhangxiaoyu52.blog.sohu': 1L, 'l': 1L}, {'2008.gif123': 1L}, {'you.video.sina': 1L, 'b': 1L, 'l': 1L}, {'www.51bxg': 1L}, {'link.44box': 1L}, {'www.sxjzy': 1L, 'l?id=560': 1L, 'css': 1L}, {'n255256097': 1L, 's.sohu': 1L}, {'www.51bxg': 1L}, {'www.jp-pussy': 1L}, {'a': 1L, 'news.qq': 1L}, {'www.tudou': 1L, 'view': 1L, 'xd7r91dei3o': 1L, 'programs': 1L}, {'down': 1L, 'www.babeijiu': 1L, 'd1144002b': 1L}, {'wenwen.soso': 1L, 'z': 1L, 'q38846748': 1L}, {'q63072188': 1L, 'z': 1L, 'wenwen.soso': 1L}, {'album': 1L, 'web': 1L, 'index.jsp': 1L, 'photo.monternet': 1L}, {'bbs': 1L, 'dispbbs?boardid=46&id=9621&star=1': 1L, '226500': 1L}, {'jejie': 1L}, {'archiver': 1L, 'chinasj.ifensi': 1L, '?tid-5992l': 1L}, {'blog.sina': 1L, 'u': 1L, 'f2b53b010007e0': 1L}, {'www.scatwebmaster': 1L}, {'www.mandf': 1L}, {'gs': 1L, 'pic.news.mop': 1L}, {'www.5252se': 1L}, {'ks.yahoo': 1L, 'question': 1L, 'l': 1L}, {'city3119': 1L, 'www.9tour': 1L, 'wiki_map': 1L}, {'www.glvchina': 1L}, {'zhidao.baidu': 1L, 'question': 1L}, {'blog.sina': 1L, 'u': 1L}, {'indexl': 1L, 'www.zhulang': 1L}, {'zhidao.baidu': 1L, 'question': 1L}, {'auction': 1L, 'item_detail-0db2-a4938311dd2df6585692bee8e67ce6e6.jhtml': 1L, 'auction1.taobao': 1L}, {'daqian': 1L, 'news.21cn': 1L, 'social': 1L}, {'fucking-machines-tampa.topmegapornos': 1L}, {'huaxia.wangzhan8': 1L}, {'gs': 1L, 'pic.news.mop': 1L}, {'a.se2222': 1L, 'html': 1L, 'opic': 1L, 'indexl': 1L}, {'www.google': 1L}, {'b': 1L, 'l': 1L, 'you.video.vnet': 1L}, {'daqian': 1L, 'news.21cn': 1L, 'social': 1L}, {'city': 1L, 'spot': 1L, 'www.tourunion': 1L}, {'www.beijing2008': 1L}, {'forum-8': 1L, 'show_guide---guide-5913681-': 1L, 'forum.taobao': 1L}, {'info': 1L, 'article': 1L, 'www.79zw': 1L, 'files': 1L}, {'news': 1L, 'www.bnbw': 1L, 'l': 1L}, {'ks.yahoo': 1L, 'question': 1L, '?source=ycont_ncp_ks&qid=1307073003059': 1L}, {'ting.666ccc': 1L, 'l': 1L, 'song_words': 1L}, {'viewthread.php?tid=591163&extra=page%3d3': 1L, '218.189.234.235': 1L}, {'content': 1L, 'news': 1L, 'content_2083346': 1L, 'www.sznews': 1L}, {'a.36xp': 1L}, {'playbill': 1L, 'plist': 1L, 'www.kugou': 1L, 'special?id=1141268': 1L}, {'peng.blog.sohu': 1L}, {'b51126': 1L, 'www.vekee': 1L}, {'viewthread.php?tid=210322&extra=page%3d1': 1L, 'b.yinbbs': 1L}, {'do': 1L, 'www.mifang': 1L, 'p55l': 1L, 'bs': 1L}, {'ks.yahoo': 1L, 'question': 1L, 'l': 1L}, {'baike.baidu': 1L, 'view': 1L}, {'bjyouth.ynet': 1L, 'article.jsp?oid=12940279': 1L}, {'news': 1L, 'www.17tech': 1L}, {'dealer20708': 1L, 'channel.pcpop': 1L, 'mp4_01068_1l': 1L}, {'www.big-breast-archive': 1L}, {'a': 1L, 'news.qq': 1L}, {'index': 1L, 'book': 1L, 'html': 1L, 'html.hjsm.tom': 1L}, {'ks.yahoo': 1L, 'question': 1L, 'l': 1L}, {'l': 1L, 'finance.tom': 1L}, {'115ss': 1L, 's': 1L, 'html': 1L, 'zptp': 1L, 'indexl': 1L}, {'www.jdb666': 1L}, {'system': 1L, 'news.66wz': 1L}, {'daqian': 1L, 'news.21cn': 1L, 'social': 1L}, {'a': 1L, 'cq.qq': 1L}, {'id_937166l': 1L, 'www.youku': 1L, 'playlist_show': 1L}, {'literature': 1L, 'ziliao': 1L, 'study.sooyuu': 1L}, {'system': 1L, 'sports.enorth': 1L}, {'www.xy.gz': 1L}, {'a': 1L, 'news.qq': 1L}, {'zhidao.baidu': 1L, 'question': 1L}, ... ]"
      ]
     },
     "execution_count": 15,
     "metadata": {},
     "output_type": "execute_result"
    }
   ],
   "source": [
    "data2['word_count']"
   ]
  },
  {
   "cell_type": "code",
   "execution_count": 16,
   "metadata": {
    "collapsed": false
   },
   "outputs": [],
   "source": [
    "from collections import OrderedDict\n",
    "from collections import Counter\n",
    "from multiprocessing.dummy import Pool\n",
    "pool = Pool(4)\n",
    "def add_Counter(each):\n",
    "    global word_counter\n",
    "    word_counter = word_counter + Counter(each)\n",
    "word_counter = Counter()\n",
    "results = pool.map(add_Counter, data2['word_count'])\n",
    "word_dict = OrderedDict(word_counter)\n",
    "pool.close()\n",
    "pool.join()"
   ]
  },
  {
   "cell_type": "code",
   "execution_count": 17,
   "metadata": {
    "collapsed": false
   },
   "outputs": [],
   "source": [
    "word_dict = OrderedDict(sorted(word_dict.items(), key=lambda t: t[1]))"
   ]
  },
  {
   "cell_type": "code",
   "execution_count": 67,
   "metadata": {
    "collapsed": true
   },
   "outputs": [],
   "source": [
    "f = open('SogouM_url_word_counter.csv','w')"
   ]
  },
  {
   "cell_type": "code",
   "execution_count": 68,
   "metadata": {
    "collapsed": false,
    "scrolled": true
   },
   "outputs": [],
   "source": [
    "for (k, v) in word_dict.items():\n",
    "    f.write(k)\n",
    "    f.write('\\t')\n",
    "    f.write(str(v))\n",
    "    f.write('\\n')\n",
    "f.close()"
   ]
  },
  {
   "cell_type": "code",
   "execution_count": 21,
   "metadata": {
    "collapsed": false
   },
   "outputs": [],
   "source": [
    "def remove_punctuation(text):\n",
    "    import string\n",
    "    return text.translate(None, string.punctuation) \n",
    "\n",
    "# Remove punctuation.\n",
    "data2['review_clean'] = data2['4'].apply(remove_punctuation)"
   ]
  },
  {
   "cell_type": "code",
   "execution_count": 2,
   "metadata": {
    "collapsed": false
   },
   "outputs": [],
   "source": [
    "import pandas as pd\n",
    "df = pd.read_csv('memeda.csv',sep = '\\t',encoding='utf-8',header=None)"
   ]
  },
  {
   "cell_type": "code",
   "execution_count": 37,
   "metadata": {
    "collapsed": true
   },
   "outputs": [],
   "source": [
    "a = {'a':2, 'b':3, 'c':4, 'd':5}\n",
    "b = {'a':4, 'b':7, 'c':9}"
   ]
  },
  {
   "cell_type": "code",
   "execution_count": 38,
   "metadata": {
    "collapsed": false
   },
   "outputs": [
    {
     "name": "stdout",
     "output_type": "stream",
     "text": [
      "Counter({'d': 5, 'c': 4, 'b': 3, 'a': 2})\n",
      "Counter({'c': 9, 'b': 7, 'a': 4})\n"
     ]
    }
   ],
   "source": [
    "from collections import OrderedDict\n",
    "from collections import Counter\n",
    "X, Y = Counter(a), Counter(b)\n",
    "print X\n",
    "print Y\n",
    "d = X + Y"
   ]
  },
  {
   "cell_type": "code",
   "execution_count": 39,
   "metadata": {
    "collapsed": false,
    "scrolled": true
   },
   "outputs": [
    {
     "data": {
      "text/plain": [
       "Counter({'a': 6, 'b': 10, 'c': 13, 'd': 5})"
      ]
     },
     "execution_count": 39,
     "metadata": {},
     "output_type": "execute_result"
    }
   ],
   "source": [
    "d"
   ]
  },
  {
   "cell_type": "markdown",
   "metadata": {},
   "source": [
    "# Process the ODP."
   ]
  },
  {
   "cell_type": "code",
   "execution_count": 1,
   "metadata": {
    "collapsed": false
   },
   "outputs": [],
   "source": [
    "import graphlab"
   ]
  },
  {
   "cell_type": "code",
   "execution_count": 20,
   "metadata": {
    "collapsed": false
   },
   "outputs": [
    {
     "ename": "AttributeError",
     "evalue": "'module' object has no attribute 'connect'",
     "output_type": "error",
     "traceback": [
      "\u001b[1;31m---------------------------------------------------------------------------\u001b[0m",
      "\u001b[1;31mAttributeError\u001b[0m                            Traceback (most recent call last)",
      "\u001b[1;32m<ipython-input-20-56ed25825084>\u001b[0m in \u001b[0;36m<module>\u001b[1;34m()\u001b[0m\n\u001b[1;32m----> 1\u001b[1;33m \u001b[1;32mimport\u001b[0m \u001b[0mgraphlab\u001b[0m\u001b[1;33m\u001b[0m\u001b[0m\n\u001b[0m\u001b[0;32m      2\u001b[0m \u001b[0modp\u001b[0m \u001b[1;33m=\u001b[0m \u001b[0mgraphlab\u001b[0m\u001b[1;33m.\u001b[0m\u001b[0mSFrame\u001b[0m\u001b[1;33m.\u001b[0m\u001b[0mread_csv\u001b[0m\u001b[1;33m(\u001b[0m\u001b[1;34m'ODP.csv'\u001b[0m\u001b[1;33m,\u001b[0m \u001b[0mdelimiter\u001b[0m\u001b[1;33m=\u001b[0m\u001b[1;34m','\u001b[0m\u001b[1;33m,\u001b[0m \u001b[0mheader\u001b[0m \u001b[1;33m=\u001b[0m \u001b[0mTrue\u001b[0m\u001b[1;33m)\u001b[0m\u001b[1;33m\u001b[0m\u001b[0m\n",
      "\u001b[1;32mE:\\Anaconda2\\envs\\dato-env\\lib\\site-packages\\graphlab\\__init__.py\u001b[0m in \u001b[0;36m<module>\u001b[1;34m()\u001b[0m\n\u001b[0;32m     42\u001b[0m \u001b[1;32mfrom\u001b[0m \u001b[0mgraphlab\u001b[0m\u001b[1;33m.\u001b[0m\u001b[0mutil\u001b[0m \u001b[1;32mimport\u001b[0m \u001b[0mset_runtime_config\u001b[0m\u001b[1;33m\u001b[0m\u001b[0m\n\u001b[0;32m     43\u001b[0m \u001b[1;33m\u001b[0m\u001b[0m\n\u001b[1;32m---> 44\u001b[1;33m \u001b[1;32mimport\u001b[0m \u001b[0mgraphlab\u001b[0m\u001b[1;33m.\u001b[0m\u001b[0mconnect\u001b[0m \u001b[1;32mas\u001b[0m \u001b[0m_mt\u001b[0m\u001b[1;33m\u001b[0m\u001b[0m\n\u001b[0m\u001b[0;32m     45\u001b[0m \u001b[1;32mimport\u001b[0m \u001b[0mgraphlab\u001b[0m\u001b[1;33m.\u001b[0m\u001b[0mconnect\u001b[0m\u001b[1;33m.\u001b[0m\u001b[0maws\u001b[0m \u001b[1;32mas\u001b[0m \u001b[0maws\u001b[0m\u001b[1;33m\u001b[0m\u001b[0m\n\u001b[0;32m     46\u001b[0m \u001b[1;32mfrom\u001b[0m \u001b[1;33m.\u001b[0m \u001b[1;32mimport\u001b[0m \u001b[0mvisualization\u001b[0m\u001b[1;33m\u001b[0m\u001b[0m\n",
      "\u001b[1;31mAttributeError\u001b[0m: 'module' object has no attribute 'connect'"
     ]
    }
   ],
   "source": [
    "odp = graphlab.SFrame.read_csv('ODP.csv', delimiter=',', header = True)"
   ]
  },
  {
   "cell_type": "code",
   "execution_count": 37,
   "metadata": {
    "collapsed": true
   },
   "outputs": [],
   "source": [
    "import re\n",
    "import string"
   ]
  },
  {
   "cell_type": "code",
   "execution_count": 38,
   "metadata": {
    "collapsed": false
   },
   "outputs": [
    {
     "data": {
      "text/plain": [
       "str"
      ]
     },
     "execution_count": 38,
     "metadata": {},
     "output_type": "execute_result"
    }
   ],
   "source": [
    "type(odp['X1'][0])"
   ]
  },
  {
   "cell_type": "code",
   "execution_count": 52,
   "metadata": {
    "collapsed": true
   },
   "outputs": [],
   "source": [
    "def remove(row):\n",
    "    string.replace(row, re.match(r'(.*?)',row).group(0), '')"
   ]
  },
  {
   "cell_type": "code",
   "execution_count": 53,
   "metadata": {
    "collapsed": false,
    "scrolled": true
   },
   "outputs": [
    {
     "ename": "AttributeError",
     "evalue": "'NoneType' object has no attribute 'group'",
     "output_type": "error",
     "traceback": [
      "\u001b[1;31m---------------------------------------------------------------------------\u001b[0m",
      "\u001b[1;31mAttributeError\u001b[0m                            Traceback (most recent call last)",
      "\u001b[1;32m<ipython-input-53-c98668d2ee4b>\u001b[0m in \u001b[0;36m<module>\u001b[1;34m()\u001b[0m\n\u001b[1;32m----> 1\u001b[1;33m \u001b[0modp\u001b[0m\u001b[1;33m[\u001b[0m\u001b[1;34m'X4'\u001b[0m\u001b[1;33m]\u001b[0m \u001b[1;33m=\u001b[0m \u001b[0modp\u001b[0m\u001b[1;33m[\u001b[0m\u001b[1;34m'X1'\u001b[0m\u001b[1;33m]\u001b[0m\u001b[1;33m.\u001b[0m\u001b[0mapply\u001b[0m\u001b[1;33m(\u001b[0m\u001b[0mremove\u001b[0m\u001b[1;33m)\u001b[0m\u001b[1;33m\u001b[0m\u001b[0m\n\u001b[0m",
      "\u001b[1;32mE:\\Anaconda2\\envs\\dato-env\\lib\\site-packages\\graphlab\\data_structures\\sarray.pyc\u001b[0m in \u001b[0;36mapply\u001b[1;34m(self, fn, dtype, skip_undefined, seed)\u001b[0m\n\u001b[0;32m   1675\u001b[0m         \u001b[1;32massert\u001b[0m \u001b[0mcallable\u001b[0m\u001b[1;33m(\u001b[0m\u001b[0mfn\u001b[0m\u001b[1;33m)\u001b[0m\u001b[1;33m,\u001b[0m \u001b[1;34m\"Input function must be callable.\"\u001b[0m\u001b[1;33m\u001b[0m\u001b[0m\n\u001b[0;32m   1676\u001b[0m \u001b[1;33m\u001b[0m\u001b[0m\n\u001b[1;32m-> 1677\u001b[1;33m         \u001b[0mdryrun\u001b[0m \u001b[1;33m=\u001b[0m \u001b[1;33m[\u001b[0m\u001b[0mfn\u001b[0m\u001b[1;33m(\u001b[0m\u001b[0mi\u001b[0m\u001b[1;33m)\u001b[0m \u001b[1;32mfor\u001b[0m \u001b[0mi\u001b[0m \u001b[1;32min\u001b[0m \u001b[0mself\u001b[0m\u001b[1;33m.\u001b[0m\u001b[0mhead\u001b[0m\u001b[1;33m(\u001b[0m\u001b[1;36m100\u001b[0m\u001b[1;33m)\u001b[0m \u001b[1;32mif\u001b[0m \u001b[0mi\u001b[0m \u001b[1;32mis\u001b[0m \u001b[1;32mnot\u001b[0m \u001b[0mNone\u001b[0m\u001b[1;33m]\u001b[0m\u001b[1;33m\u001b[0m\u001b[0m\n\u001b[0m\u001b[0;32m   1678\u001b[0m         \u001b[1;32mif\u001b[0m \u001b[0mdtype\u001b[0m \u001b[1;33m==\u001b[0m \u001b[0mNone\u001b[0m\u001b[1;33m:\u001b[0m\u001b[1;33m\u001b[0m\u001b[0m\n\u001b[0;32m   1679\u001b[0m             \u001b[0mdtype\u001b[0m \u001b[1;33m=\u001b[0m \u001b[0minfer_type_of_list\u001b[0m\u001b[1;33m(\u001b[0m\u001b[0mdryrun\u001b[0m\u001b[1;33m)\u001b[0m\u001b[1;33m\u001b[0m\u001b[0m\n",
      "\u001b[1;32m<ipython-input-52-56dad72638c3>\u001b[0m in \u001b[0;36mremove\u001b[1;34m(row)\u001b[0m\n\u001b[0;32m      1\u001b[0m \u001b[1;32mdef\u001b[0m \u001b[0mremove\u001b[0m\u001b[1;33m(\u001b[0m\u001b[0mrow\u001b[0m\u001b[1;33m)\u001b[0m\u001b[1;33m:\u001b[0m\u001b[1;33m\u001b[0m\u001b[0m\n\u001b[1;32m----> 2\u001b[1;33m     \u001b[0mstring\u001b[0m\u001b[1;33m.\u001b[0m\u001b[0mreplace\u001b[0m\u001b[1;33m(\u001b[0m\u001b[0mrow\u001b[0m\u001b[1;33m,\u001b[0m \u001b[0mre\u001b[0m\u001b[1;33m.\u001b[0m\u001b[0mmatch\u001b[0m\u001b[1;33m(\u001b[0m\u001b[1;34mr'.*/\"(.*?)'\u001b[0m\u001b[1;33m,\u001b[0m\u001b[0mrow\u001b[0m\u001b[1;33m)\u001b[0m\u001b[1;33m.\u001b[0m\u001b[0mgroup\u001b[0m\u001b[1;33m(\u001b[0m\u001b[1;36m0\u001b[0m\u001b[1;33m)\u001b[0m\u001b[1;33m,\u001b[0m \u001b[1;34m''\u001b[0m\u001b[1;33m)\u001b[0m\u001b[1;33m\u001b[0m\u001b[0m\n\u001b[0m",
      "\u001b[1;31mAttributeError\u001b[0m: 'NoneType' object has no attribute 'group'"
     ]
    }
   ],
   "source": [
    "odp['X4'] = odp['X1'].apply(remove)"
   ]
  },
  {
   "cell_type": "code",
   "execution_count": 51,
   "metadata": {
    "collapsed": false
   },
   "outputs": [
    {
     "data": {
      "text/html": [
       "<div style=\"max-height:1000px;max-width:1500px;overflow:auto;\"><table frame=\"box\" rules=\"cols\">\n",
       "    <tr>\n",
       "        <th style=\"padding-left: 1em; padding-right: 1em; text-align: center\">X1</th>\n",
       "        <th style=\"padding-left: 1em; padding-right: 1em; text-align: center\">X2</th>\n",
       "        <th style=\"padding-left: 1em; padding-right: 1em; text-align: center\">X3</th>\n",
       "        <th style=\"padding-left: 1em; padding-right: 1em; text-align: center\">X4</th>\n",
       "    </tr>\n",
       "    <tr>\n",
       "        <td style=\"padding-left: 1em; padding-right: 1em; text-align: center; vertical-align: top\">http://www.cnkly.com/\"<br>class=\"listinglink ...</td>\n",
       "        <td style=\"padding-left: 1em; padding-right: 1em; text-align: center; vertical-align: top\">中华恐龙园</td>\n",
       "        <td style=\"padding-left: 1em; padding-right: 1em; text-align: center; vertical-align: top\">主题公园</td>\n",
       "        <td style=\"padding-left: 1em; padding-right: 1em; text-align: center; vertical-align: top\">None</td>\n",
       "    </tr>\n",
       "    <tr>\n",
       "        <td style=\"padding-left: 1em; padding-right: 1em; text-align: center; vertical-align: top\">http://www.bjsjsyly.com/\"<br>class=\"listinglink ...</td>\n",
       "        <td style=\"padding-left: 1em; padding-right: 1em; text-align: center; vertical-align: top\">北京石景山游乐园</td>\n",
       "        <td style=\"padding-left: 1em; padding-right: 1em; text-align: center; vertical-align: top\">主题公园</td>\n",
       "        <td style=\"padding-left: 1em; padding-right: 1em; text-align: center; vertical-align: top\">None</td>\n",
       "    </tr>\n",
       "    <tr>\n",
       "        <td style=\"padding-left: 1em; padding-right: 1em; text-align: center; vertical-align: top\">http://www.beihaipark.com<br>.cn/\" class=\"listinglink ...</td>\n",
       "        <td style=\"padding-left: 1em; padding-right: 1em; text-align: center; vertical-align: top\">北海公园</td>\n",
       "        <td style=\"padding-left: 1em; padding-right: 1em; text-align: center; vertical-align: top\">主题公园</td>\n",
       "        <td style=\"padding-left: 1em; padding-right: 1em; text-align: center; vertical-align: top\">None</td>\n",
       "    </tr>\n",
       "    <tr>\n",
       "        <td style=\"padding-left: 1em; padding-right: 1em; text-align: center; vertical-align: top\">http://www.hrbpolarland.c<br>om/\" class=\"listinglink ...</td>\n",
       "        <td style=\"padding-left: 1em; padding-right: 1em; text-align: center; vertical-align: top\">哈尔滨极地馆</td>\n",
       "        <td style=\"padding-left: 1em; padding-right: 1em; text-align: center; vertical-align: top\">主题公园</td>\n",
       "        <td style=\"padding-left: 1em; padding-right: 1em; text-align: center; vertical-align: top\">None</td>\n",
       "    </tr>\n",
       "    <tr>\n",
       "        <td style=\"padding-left: 1em; padding-right: 1em; text-align: center; vertical-align: top\">http://www.yuanmingyuanpa<br>rk.com/\" ...</td>\n",
       "        <td style=\"padding-left: 1em; padding-right: 1em; text-align: center; vertical-align: top\">圆明园遗址公园</td>\n",
       "        <td style=\"padding-left: 1em; padding-right: 1em; text-align: center; vertical-align: top\">主题公园</td>\n",
       "        <td style=\"padding-left: 1em; padding-right: 1em; text-align: center; vertical-align: top\">None</td>\n",
       "    </tr>\n",
       "    <tr>\n",
       "        <td style=\"padding-left: 1em; padding-right: 1em; text-align: center; vertical-align: top\">http://www.ymy.com.cn/\"<br>class=\"listinglink ...</td>\n",
       "        <td style=\"padding-left: 1em; padding-right: 1em; text-align: center; vertical-align: top\">圆明新园</td>\n",
       "        <td style=\"padding-left: 1em; padding-right: 1em; text-align: center; vertical-align: top\">主题公园</td>\n",
       "        <td style=\"padding-left: 1em; padding-right: 1em; text-align: center; vertical-align: top\">None</td>\n",
       "    </tr>\n",
       "    <tr>\n",
       "        <td style=\"padding-left: 1em; padding-right: 1em; text-align: center; vertical-align: top\">http://www.cdpeoplespark.<br>com/\" class=\"listinglink ...</td>\n",
       "        <td style=\"padding-left: 1em; padding-right: 1em; text-align: center; vertical-align: top\">成都人民公园</td>\n",
       "        <td style=\"padding-left: 1em; padding-right: 1em; text-align: center; vertical-align: top\">主题公园</td>\n",
       "        <td style=\"padding-left: 1em; padding-right: 1em; text-align: center; vertical-align: top\">None</td>\n",
       "    </tr>\n",
       "    <tr>\n",
       "        <td style=\"padding-left: 1em; padding-right: 1em; text-align: center; vertical-align: top\">http://www.songcn.com/\"<br>class=\"listinglink ...</td>\n",
       "        <td style=\"padding-left: 1em; padding-right: 1em; text-align: center; vertical-align: top\">杭州宋城</td>\n",
       "        <td style=\"padding-left: 1em; padding-right: 1em; text-align: center; vertical-align: top\">主题公园</td>\n",
       "        <td style=\"padding-left: 1em; padding-right: 1em; text-align: center; vertical-align: top\">None</td>\n",
       "    </tr>\n",
       "    <tr>\n",
       "        <td style=\"padding-left: 1em; padding-right: 1em; text-align: center; vertical-align: top\">http://www.happyvalley.cn<br>/\" class=\"listinglink ...</td>\n",
       "        <td style=\"padding-left: 1em; padding-right: 1em; text-align: center; vertical-align: top\">欢乐谷</td>\n",
       "        <td style=\"padding-left: 1em; padding-right: 1em; text-align: center; vertical-align: top\">主题公园</td>\n",
       "        <td style=\"padding-left: 1em; padding-right: 1em; text-align: center; vertical-align: top\">None</td>\n",
       "    </tr>\n",
       "    <tr>\n",
       "        <td style=\"padding-left: 1em; padding-right: 1em; text-align: center; vertical-align: top\">http://www.jnysdwsj.cn/\"<br>class=\"listinglink ...</td>\n",
       "        <td style=\"padding-left: 1em; padding-right: 1em; text-align: center; vertical-align: top\">济南跑马岭野生动�<br>��世界 ...</td>\n",
       "        <td style=\"padding-left: 1em; padding-right: 1em; text-align: center; vertical-align: top\">主题公园</td>\n",
       "        <td style=\"padding-left: 1em; padding-right: 1em; text-align: center; vertical-align: top\">None</td>\n",
       "    </tr>\n",
       "</table>\n",
       "[31150 rows x 4 columns]<br/>Note: Only the head of the SFrame is printed.<br/>You can use print_rows(num_rows=m, num_columns=n) to print more rows and columns.\n",
       "</div>"
      ],
      "text/plain": [
       "Columns:\n",
       "\tX1\tstr\n",
       "\tX2\tstr\n",
       "\tX3\tstr\n",
       "\tX4\tfloat\n",
       "\n",
       "Rows: 31150\n",
       "\n",
       "Data:\n",
       "+-------------------------------+---------------------------+----------+------+\n",
       "|               X1              |             X2            |    X3    |  X4  |\n",
       "+-------------------------------+---------------------------+----------+------+\n",
       "| http://www.cnkly.com/\" cla... |         中华恐龙园        | 主题公园 | None |\n",
       "| http://www.bjsjsyly.com/\" ... |      北京石景山游乐园     | 主题公园 | None |\n",
       "| http://www.beihaipark.com.... |          北海公园         | 主题公园 | None |\n",
       "| http://www.hrbpolarland.co... |        哈尔滨极地馆       | 主题公园 | None |\n",
       "| http://www.yuanmingyuanpar... |       圆明园遗址公园      | 主题公园 | None |\n",
       "| http://www.ymy.com.cn/\" cl... |          圆明新园         | 主题公园 | None |\n",
       "| http://www.cdpeoplespark.c... |        成都人民公园       | 主题公园 | None |\n",
       "| http://www.songcn.com/\" cl... |          杭州宋城         | 主题公园 | None |\n",
       "| http://www.happyvalley.cn/... |           欢乐谷          | 主题公园 | None |\n",
       "| http://www.jnysdwsj.cn/\" c... | 济南跑马岭野生动物世界... | 主题公园 | None |\n",
       "+-------------------------------+---------------------------+----------+------+\n",
       "[31150 rows x 4 columns]\n",
       "Note: Only the head of the SFrame is printed.\n",
       "You can use print_rows(num_rows=m, num_columns=n) to print more rows and columns."
      ]
     },
     "execution_count": 51,
     "metadata": {},
     "output_type": "execute_result"
    }
   ],
   "source": [
    "odp"
   ]
  },
  {
   "cell_type": "code",
   "execution_count": 1,
   "metadata": {
    "collapsed": true
   },
   "outputs": [],
   "source": [
    "import re, string"
   ]
  },
  {
   "cell_type": "code",
   "execution_count": 3,
   "metadata": {
    "collapsed": false
   },
   "outputs": [
    {
     "data": {
      "text/plain": [
       "'http://www.cnkly.com/'"
      ]
     },
     "execution_count": 3,
     "metadata": {},
     "output_type": "execute_result"
    }
   ],
   "source": [
    "str1 = r'http://www.cnkly.com/\" class=\"listinglink'\n",
    "re.match('(.*?)\" class=\"listinglink', str1).group(1)"
   ]
  },
  {
   "cell_type": "code",
   "execution_count": 2,
   "metadata": {
    "collapsed": true
   },
   "outputs": [],
   "source": [
    "import re, string"
   ]
  },
  {
   "cell_type": "code",
   "execution_count": 27,
   "metadata": {
    "collapsed": false
   },
   "outputs": [
    {
     "name": "stdout",
     "output_type": "stream",
     "text": [
      "www.dafadfasdfagaga.afasdfas23423424234.org\n"
     ]
    }
   ],
   "source": [
    "str1 = 'http://www.dafadfasdfagaga.afasdfas23423424234.org'\n",
    "str1 = string.replace(str1, 'http://', '')\n",
    "print re.match(r'www(.*?)\\b(com|cn|org|net|gov|xin|red|pub|ink|info|xyz|win|edu|mil|tv|TV|mobi|travel|name|aero|museum|pro|biz|coop|aero)\\b$',str1).group(0)"
   ]
  },
  {
   "cell_type": "markdown",
   "metadata": {},
   "source": [
    "# Get the Resources Url."
   ]
  },
  {
   "cell_type": "code",
   "execution_count": 1,
   "metadata": {
    "collapsed": true
   },
   "outputs": [],
   "source": [
    "import graphlab"
   ]
  },
  {
   "cell_type": "code",
   "execution_count": 28,
   "metadata": {
    "collapsed": false
   },
   "outputs": [
    {
     "name": "stdout",
     "output_type": "stream",
     "text": [
      "This non-commercial license of GraphLab Create is assigned to guoxiuhe@nefu.edu.cn and will expire on April 02, 2017. For commercial licensing options, visit https://dato.com/buy/.\n"
     ]
    },
    {
     "name": "stderr",
     "output_type": "stream",
     "text": [
      "2016-05-02 18:00:31,711 [INFO] graphlab.cython.cy_server, 176: GraphLab Create v1.9 started. Logging: C:\\Users\\heguoxiu\\AppData\\Local\\Temp\\graphlab_server_1462183221.log.0\n"
     ]
    },
    {
     "data": {
      "text/html": [
       "<pre>Finished parsing file E:\\Python\\2GraduationProject\\ODP.csv</pre>"
      ],
      "text/plain": [
       "Finished parsing file E:\\Python\\2GraduationProject\\ODP.csv"
      ]
     },
     "metadata": {},
     "output_type": "display_data"
    },
    {
     "data": {
      "text/html": [
       "<pre>Parsing completed. Parsed 100 lines in 0.141009 secs.</pre>"
      ],
      "text/plain": [
       "Parsing completed. Parsed 100 lines in 0.141009 secs."
      ]
     },
     "metadata": {},
     "output_type": "display_data"
    },
    {
     "name": "stdout",
     "output_type": "stream",
     "text": [
      "------------------------------------------------------\n",
      "Inferred types from first 100 line(s) of file as \n",
      "column_type_hints=[str,str,str]\n",
      "If parsing fails due to incorrect types, you can correct\n",
      "the inferred type list above and pass it to read_csv in\n",
      "the column_type_hints argument\n",
      "------------------------------------------------------\n"
     ]
    },
    {
     "data": {
      "text/html": [
       "<pre>Finished parsing file E:\\Python\\2GraduationProject\\ODP.csv</pre>"
      ],
      "text/plain": [
       "Finished parsing file E:\\Python\\2GraduationProject\\ODP.csv"
      ]
     },
     "metadata": {},
     "output_type": "display_data"
    },
    {
     "data": {
      "text/html": [
       "<pre>Parsing completed. Parsed 16248 lines in 0.048002 secs.</pre>"
      ],
      "text/plain": [
       "Parsing completed. Parsed 16248 lines in 0.048002 secs."
      ]
     },
     "metadata": {},
     "output_type": "display_data"
    }
   ],
   "source": [
    "odp = graphlab.SFrame.read_csv('ODP.csv', delimiter=',', header=True)"
   ]
  },
  {
   "cell_type": "code",
   "execution_count": 30,
   "metadata": {
    "collapsed": true
   },
   "outputs": [],
   "source": [
    "odp['url_new'] = odp['url'].apply(remove_head)"
   ]
  },
  {
   "cell_type": "code",
   "execution_count": 32,
   "metadata": {
    "collapsed": false
   },
   "outputs": [],
   "source": [
    "odp.save('ODP.csv')"
   ]
  },
  {
   "cell_type": "code",
   "execution_count": 33,
   "metadata": {
    "collapsed": false
   },
   "outputs": [
    {
     "data": {
      "text/html": [
       "<pre>Finished parsing file E:\\Python\\2GraduationProject\\Sogou1.csv</pre>"
      ],
      "text/plain": [
       "Finished parsing file E:\\Python\\2GraduationProject\\Sogou1.csv"
      ]
     },
     "metadata": {},
     "output_type": "display_data"
    },
    {
     "data": {
      "text/html": [
       "<pre>Parsing completed. Parsed 100 lines in 0.269015 secs.</pre>"
      ],
      "text/plain": [
       "Parsing completed. Parsed 100 lines in 0.269015 secs."
      ]
     },
     "metadata": {},
     "output_type": "display_data"
    },
    {
     "name": "stdout",
     "output_type": "stream",
     "text": [
      "------------------------------------------------------\n",
      "Inferred types from first 100 line(s) of file as \n",
      "column_type_hints=[str,long,str,str,str,list,long,long,str,dict]\n",
      "If parsing fails due to incorrect types, you can correct\n",
      "the inferred type list above and pass it to read_csv in\n",
      "the column_type_hints argument\n",
      "------------------------------------------------------\n"
     ]
    },
    {
     "data": {
      "text/html": [
       "<pre>Finished parsing file E:\\Python\\2GraduationProject\\Sogou1.csv</pre>"
      ],
      "text/plain": [
       "Finished parsing file E:\\Python\\2GraduationProject\\Sogou1.csv"
      ]
     },
     "metadata": {},
     "output_type": "display_data"
    },
    {
     "data": {
      "text/html": [
       "<pre>Parsing completed. Parsed 10000 lines in 0.212012 secs.</pre>"
      ],
      "text/plain": [
       "Parsing completed. Parsed 10000 lines in 0.212012 secs."
      ]
     },
     "metadata": {},
     "output_type": "display_data"
    }
   ],
   "source": [
    "data = graphlab.SFrame.read_csv('Sogou1.csv', delimiter=',', header=True)"
   ]
  },
  {
   "cell_type": "code",
   "execution_count": 39,
   "metadata": {
    "collapsed": false,
    "scrolled": false
   },
   "outputs": [
    {
     "data": {
      "text/plain": [
       "\n",
       "+------------------+-------+----------+\n",
       "|       item       | value | is exact |\n",
       "+------------------+-------+----------+\n",
       "|      Length      | 10000 |   Yes    |\n",
       "| # Missing Values |   0   |   Yes    |\n",
       "| # unique values  |  7685 |    No    |\n",
       "+------------------+-------+----------+\n",
       "\n",
       "Most frequent items:\n",
       "+-------+-------------------------------+-------------------------------+-------------------------------+\n",
       "| value | news.21cn.com/social/daqia... | news.21cn.com/zhuanti/dome... | www.tudou.com/programs/vie... |\n",
       "+-------+-------------------------------+-------------------------------+-------------------------------+\n",
       "| count |              135              |              113              |               80              |\n",
       "+-------+-------------------------------+-------------------------------+-------------------------------+\n",
       "+-------------------------------+-------------------------------+-------------------------------+\n",
       "| www.17tech.com/news/200805... | pic.news.mop.com/gs/2008/0... | www.17tech.com/news/200805... |\n",
       "+-------------------------------+-------------------------------+-------------------------------+\n",
       "|               69              |               66              |               52              |\n",
       "+-------------------------------+-------------------------------+-------------------------------+\n",
       "+-------------------------------+----------------+-------------------------------+\n",
       "| bjyouth.ynet.com/view.jsp?... | www.big38.net/ | zhidao.baidu.com/question/... |\n",
       "+-------------------------------+----------------+-------------------------------+\n",
       "|               48              |       43       |               35              |\n",
       "+-------------------------------+----------------+-------------------------------+\n",
       "+----------------+\n",
       "| www.baidu.com/ |\n",
       "+----------------+\n",
       "|       26       |\n",
       "+----------------+\n"
      ]
     },
     "execution_count": 39,
     "metadata": {},
     "output_type": "execute_result"
    }
   ],
   "source": [
    "data['url'].sketch_summary()"
   ]
  },
  {
   "cell_type": "code",
   "execution_count": 41,
   "metadata": {
    "collapsed": false
   },
   "outputs": [],
   "source": [
    "data['url'].save('url.csv')"
   ]
  },
  {
   "cell_type": "code",
   "execution_count": 142,
   "metadata": {
    "collapsed": true
   },
   "outputs": [],
   "source": [
    "l = ['二手货','交通工具','休闲','体育用品','健康饮食','健康器材','在线销售','化妆美容','出版物','办公用品','化妆美容','古董与收藏','图书',\\\n",
    "     '婴幼儿用品','宠物','家具','家居与园艺','批发','日用商品','服装饰品','消费电子产品','图书','玩具与游戏','杂志','音像制品','化妆品',\\\n",
    "     '珠宝首饰','礼品','视觉艺术','计算机','食品','鲜花','精油香氛','分类','拍卖','目录','大学出版社','家具','家居装饰','电器','体育用品',\\\n",
    "    '乒乓球','渔具','飞镖','家具','文具','办公室服务','购物','批发与分销','烟草','机动车','珠宝首饰','眼镜','行李与包','食品','女装','童装',\\\n",
    "     '鞋帽','饰品','电子通讯','数字卡','虚拟物品交易','摄影','画','饮料','茶','葡萄酒']"
   ]
  },
  {
   "cell_type": "code",
   "execution_count": 143,
   "metadata": {
    "collapsed": false
   },
   "outputs": [],
   "source": [
    "resource = graphlab.SFrame()"
   ]
  },
  {
   "cell_type": "code",
   "execution_count": 154,
   "metadata": {
    "collapsed": false,
    "scrolled": true
   },
   "outputs": [],
   "source": [
    "for i in l:\n",
    "    for url in odp[odp['label'] == i]['url_new']:\n",
    "        f.writelines(url+'\\n')\n",
    "f.close()"
   ]
  },
  {
   "cell_type": "code",
   "execution_count": 214,
   "metadata": {
    "collapsed": false
   },
   "outputs": [
    {
     "data": {
      "text/html": [
       "<pre>Finished parsing file E:\\Python\\spyder\\zhaopin.csv</pre>"
      ],
      "text/plain": [
       "Finished parsing file E:\\Python\\spyder\\zhaopin.csv"
      ]
     },
     "metadata": {},
     "output_type": "display_data"
    },
    {
     "data": {
      "text/html": [
       "<pre>Parsing completed. Parsed 100 lines in 0.029002 secs.</pre>"
      ],
      "text/plain": [
       "Parsing completed. Parsed 100 lines in 0.029002 secs."
      ]
     },
     "metadata": {},
     "output_type": "display_data"
    },
    {
     "name": "stdout",
     "output_type": "stream",
     "text": [
      "------------------------------------------------------\n",
      "Inferred types from first 100 line(s) of file as \n",
      "column_type_hints=[str,str]\n",
      "If parsing fails due to incorrect types, you can correct\n",
      "the inferred type list above and pass it to read_csv in\n",
      "the column_type_hints argument\n",
      "------------------------------------------------------\n"
     ]
    },
    {
     "data": {
      "text/html": [
       "<pre>Finished parsing file E:\\Python\\spyder\\zhaopin.csv</pre>"
      ],
      "text/plain": [
       "Finished parsing file E:\\Python\\spyder\\zhaopin.csv"
      ]
     },
     "metadata": {},
     "output_type": "display_data"
    },
    {
     "data": {
      "text/html": [
       "<pre>Parsing completed. Parsed 442 lines in 0.042002 secs.</pre>"
      ],
      "text/plain": [
       "Parsing completed. Parsed 442 lines in 0.042002 secs."
      ]
     },
     "metadata": {},
     "output_type": "display_data"
    }
   ],
   "source": [
    "zhaopin = graphlab.SFrame.read_csv('E:/Python/spyder/zhaopin.csv',delimiter='\\t',header=False)"
   ]
  },
  {
   "cell_type": "code",
   "execution_count": 221,
   "metadata": {
    "collapsed": true
   },
   "outputs": [],
   "source": [
    "f = open('resource.csv', 'a')"
   ]
  },
  {
   "cell_type": "code",
   "execution_count": 216,
   "metadata": {
    "collapsed": false
   },
   "outputs": [],
   "source": [
    "for i in zhaopin:\n",
    "    f.writelines(i['X1']+'\\n')"
   ]
  },
  {
   "cell_type": "code",
   "execution_count": 217,
   "metadata": {
    "collapsed": true
   },
   "outputs": [],
   "source": [
    "f.close()"
   ]
  },
  {
   "cell_type": "code",
   "execution_count": 218,
   "metadata": {
    "collapsed": false
   },
   "outputs": [
    {
     "data": {
      "text/html": [
       "<pre>Finished parsing file E:\\Python\\2GraduationProject\\resource.csv</pre>"
      ],
      "text/plain": [
       "Finished parsing file E:\\Python\\2GraduationProject\\resource.csv"
      ]
     },
     "metadata": {},
     "output_type": "display_data"
    },
    {
     "data": {
      "text/html": [
       "<pre>Parsing completed. Parsed 100 lines in 0.029002 secs.</pre>"
      ],
      "text/plain": [
       "Parsing completed. Parsed 100 lines in 0.029002 secs."
      ]
     },
     "metadata": {},
     "output_type": "display_data"
    },
    {
     "name": "stdout",
     "output_type": "stream",
     "text": [
      "------------------------------------------------------\n",
      "Inferred types from first 100 line(s) of file as \n",
      "column_type_hints=[str]\n",
      "If parsing fails due to incorrect types, you can correct\n",
      "the inferred type list above and pass it to read_csv in\n",
      "the column_type_hints argument\n",
      "------------------------------------------------------\n"
     ]
    },
    {
     "data": {
      "text/html": [
       "<pre>Finished parsing file E:\\Python\\2GraduationProject\\resource.csv</pre>"
      ],
      "text/plain": [
       "Finished parsing file E:\\Python\\2GraduationProject\\resource.csv"
      ]
     },
     "metadata": {},
     "output_type": "display_data"
    },
    {
     "data": {
      "text/html": [
       "<pre>Parsing completed. Parsed 1675 lines in 0.090005 secs.</pre>"
      ],
      "text/plain": [
       "Parsing completed. Parsed 1675 lines in 0.090005 secs."
      ]
     },
     "metadata": {},
     "output_type": "display_data"
    }
   ],
   "source": [
    "resource = graphlab.SFrame.read_csv('resource.csv',header=True)"
   ]
  },
  {
   "cell_type": "code",
   "execution_count": 219,
   "metadata": {
    "collapsed": false
   },
   "outputs": [],
   "source": [
    "game = ['卡牌游戏','投币式游戏','棋类游戏','牌类游戏','电子游戏','电脑游戏','益智游戏','网络游戏','角色扮演','赌博',\\\n",
    "        '中国象棋','军棋','围棋','国际象棋','连珠','黑白棋','组织','休闲','体育','冒险','动作','射击','格斗','模拟','益智','策略','网络游戏',\\\n",
    "        '角色扮演','赛车','音乐与舞蹈','射击','格斗','网页游戏','魔兽争霸','魔兽世界','大型多人在线','网页游戏','角色扮演',\\\n",
    "       '网络泥巴','角色扮演','冒险岛','天龙八部','永恒之塔','魔兽世界','手持平台','游戏机平台','网页游戏','计算机平台','手机','新闻与评论',\\\n",
    "        '世嘉','任天堂','微软','索尼','下载','下载','会议展览','作弊与攻略','家族与公会','开发商与发布商','新闻与评论',\\\n",
    "        '电子竞技','聊天与论坛','麻将','体育','彩票','赌场']"
   ]
  },
  {
   "cell_type": "code",
   "execution_count": 222,
   "metadata": {
    "collapsed": false
   },
   "outputs": [],
   "source": [
    "for i in game:\n",
    "    for url in odp[odp['label'] == i]['url_new']:\n",
    "        f.writelines(url+'\\n')\n",
    "f.close()"
   ]
  },
  {
   "cell_type": "markdown",
   "metadata": {},
   "source": [
    "# Process the Resources to Get Resources_final."
   ]
  },
  {
   "cell_type": "code",
   "execution_count": 2,
   "metadata": {
    "collapsed": false
   },
   "outputs": [
    {
     "name": "stdout",
     "output_type": "stream",
     "text": [
      "This non-commercial license of GraphLab Create is assigned to guoxiuhe@nefu.edu.cn and will expire on April 02, 2017. For commercial licensing options, visit https://dato.com/buy/.\n"
     ]
    },
    {
     "name": "stderr",
     "output_type": "stream",
     "text": [
      "2016-05-03 08:27:07,157 [INFO] graphlab.cython.cy_server, 176: GraphLab Create v1.9 started. Logging: C:\\Users\\heguoxiu\\AppData\\Local\\Temp\\graphlab_server_1462235219.log.0\n"
     ]
    },
    {
     "data": {
      "text/html": [
       "<pre>Finished parsing file E:\\Python\\2GraduationProject\\resource.csv</pre>"
      ],
      "text/plain": [
       "Finished parsing file E:\\Python\\2GraduationProject\\resource.csv"
      ]
     },
     "metadata": {},
     "output_type": "display_data"
    },
    {
     "data": {
      "text/html": [
       "<pre>Parsing completed. Parsed 100 lines in 0.094005 secs.</pre>"
      ],
      "text/plain": [
       "Parsing completed. Parsed 100 lines in 0.094005 secs."
      ]
     },
     "metadata": {},
     "output_type": "display_data"
    },
    {
     "name": "stdout",
     "output_type": "stream",
     "text": [
      "------------------------------------------------------\n",
      "Inferred types from first 100 line(s) of file as \n",
      "column_type_hints=[str]\n",
      "If parsing fails due to incorrect types, you can correct\n",
      "the inferred type list above and pass it to read_csv in\n",
      "the column_type_hints argument\n",
      "------------------------------------------------------\n"
     ]
    },
    {
     "data": {
      "text/html": [
       "<pre>Finished parsing file E:\\Python\\2GraduationProject\\resource.csv</pre>"
      ],
      "text/plain": [
       "Finished parsing file E:\\Python\\2GraduationProject\\resource.csv"
      ]
     },
     "metadata": {},
     "output_type": "display_data"
    },
    {
     "data": {
      "text/html": [
       "<pre>Parsing completed. Parsed 3256 lines in 0.035002 secs.</pre>"
      ],
      "text/plain": [
       "Parsing completed. Parsed 3256 lines in 0.035002 secs."
      ]
     },
     "metadata": {},
     "output_type": "display_data"
    }
   ],
   "source": [
    "resource = graphlab.SFrame.read_csv('resource.csv',header=True)"
   ]
  },
  {
   "cell_type": "code",
   "execution_count": 3,
   "metadata": {
    "collapsed": false
   },
   "outputs": [],
   "source": [
    "resource.unique().save('resource_final.csv')"
   ]
  },
  {
   "cell_type": "code",
   "execution_count": 4,
   "metadata": {
    "collapsed": false
   },
   "outputs": [
    {
     "data": {
      "text/html": [
       "<pre>Finished parsing file E:\\Python\\2GraduationProject\\resource_final.csv</pre>"
      ],
      "text/plain": [
       "Finished parsing file E:\\Python\\2GraduationProject\\resource_final.csv"
      ]
     },
     "metadata": {},
     "output_type": "display_data"
    },
    {
     "data": {
      "text/html": [
       "<pre>Parsing completed. Parsed 100 lines in 0.020001 secs.</pre>"
      ],
      "text/plain": [
       "Parsing completed. Parsed 100 lines in 0.020001 secs."
      ]
     },
     "metadata": {},
     "output_type": "display_data"
    },
    {
     "name": "stdout",
     "output_type": "stream",
     "text": [
      "------------------------------------------------------\n",
      "Inferred types from first 100 line(s) of file as \n",
      "column_type_hints=[str]\n",
      "If parsing fails due to incorrect types, you can correct\n",
      "the inferred type list above and pass it to read_csv in\n",
      "the column_type_hints argument\n",
      "------------------------------------------------------\n"
     ]
    },
    {
     "data": {
      "text/html": [
       "<pre>Finished parsing file E:\\Python\\2GraduationProject\\resource_final.csv</pre>"
      ],
      "text/plain": [
       "Finished parsing file E:\\Python\\2GraduationProject\\resource_final.csv"
      ]
     },
     "metadata": {},
     "output_type": "display_data"
    },
    {
     "data": {
      "text/html": [
       "<pre>Parsing completed. Parsed 2377 lines in 0.019001 secs.</pre>"
      ],
      "text/plain": [
       "Parsing completed. Parsed 2377 lines in 0.019001 secs."
      ]
     },
     "metadata": {},
     "output_type": "display_data"
    }
   ],
   "source": [
    "resource = graphlab.SFrame.read_csv('resource_final.csv',header=True)"
   ]
  },
  {
   "cell_type": "code",
   "execution_count": 5,
   "metadata": {
    "collapsed": true
   },
   "outputs": [],
   "source": [
    "import string"
   ]
  },
  {
   "cell_type": "code",
   "execution_count": 7,
   "metadata": {
    "collapsed": true
   },
   "outputs": [],
   "source": [
    "def remove_head(url):\n",
    "    return string.replace(url, 'http://', '')"
   ]
  },
  {
   "cell_type": "code",
   "execution_count": 8,
   "metadata": {
    "collapsed": false
   },
   "outputs": [],
   "source": [
    "resource['url'] = resource['url'].apply(remove_head)"
   ]
  },
  {
   "cell_type": "code",
   "execution_count": 9,
   "metadata": {
    "collapsed": false,
    "scrolled": true
   },
   "outputs": [],
   "source": [
    "resource.save('resource_final.csv')"
   ]
  },
  {
   "cell_type": "code",
   "execution_count": 10,
   "metadata": {
    "collapsed": false
   },
   "outputs": [
    {
     "data": {
      "text/html": [
       "<pre>Finished parsing file E:\\Python\\2GraduationProject\\resource_final.csv</pre>"
      ],
      "text/plain": [
       "Finished parsing file E:\\Python\\2GraduationProject\\resource_final.csv"
      ]
     },
     "metadata": {},
     "output_type": "display_data"
    },
    {
     "data": {
      "text/html": [
       "<pre>Parsing completed. Parsed 100 lines in 0.041003 secs.</pre>"
      ],
      "text/plain": [
       "Parsing completed. Parsed 100 lines in 0.041003 secs."
      ]
     },
     "metadata": {},
     "output_type": "display_data"
    },
    {
     "name": "stdout",
     "output_type": "stream",
     "text": [
      "------------------------------------------------------\n",
      "Inferred types from first 100 line(s) of file as \n",
      "column_type_hints=[str]\n",
      "If parsing fails due to incorrect types, you can correct\n",
      "the inferred type list above and pass it to read_csv in\n",
      "the column_type_hints argument\n",
      "------------------------------------------------------\n"
     ]
    },
    {
     "data": {
      "text/html": [
       "<pre>Finished parsing file E:\\Python\\2GraduationProject\\resource_final.csv</pre>"
      ],
      "text/plain": [
       "Finished parsing file E:\\Python\\2GraduationProject\\resource_final.csv"
      ]
     },
     "metadata": {},
     "output_type": "display_data"
    },
    {
     "data": {
      "text/html": [
       "<pre>Parsing completed. Parsed 2377 lines in 0.026001 secs.</pre>"
      ],
      "text/plain": [
       "Parsing completed. Parsed 2377 lines in 0.026001 secs."
      ]
     },
     "metadata": {},
     "output_type": "display_data"
    }
   ],
   "source": [
    "resource = graphlab.SFrame.read_csv('resource_final.csv',header=True)"
   ]
  },
  {
   "cell_type": "code",
   "execution_count": 12,
   "metadata": {
    "collapsed": true
   },
   "outputs": [],
   "source": [
    "def remove_tail(url):\n",
    "    if url[-1] == '/':\n",
    "        return url[:-1]\n",
    "    else:\n",
    "        return url[:]"
   ]
  },
  {
   "cell_type": "code",
   "execution_count": 13,
   "metadata": {
    "collapsed": false,
    "scrolled": true
   },
   "outputs": [],
   "source": [
    "resource['url'] = resource['url'].apply(lambda x: remove_tail(x))"
   ]
  },
  {
   "cell_type": "code",
   "execution_count": 14,
   "metadata": {
    "collapsed": false
   },
   "outputs": [
    {
     "data": {
      "text/html": [
       "<div style=\"max-height:1000px;max-width:1500px;overflow:auto;\"><table frame=\"box\" rules=\"cols\">\n",
       "    <tr>\n",
       "        <th style=\"padding-left: 1em; padding-right: 1em; text-align: center\">url</th>\n",
       "    </tr>\n",
       "    <tr>\n",
       "        <td style=\"padding-left: 1em; padding-right: 1em; text-align: center; vertical-align: top\">www.52384.com</td>\n",
       "    </tr>\n",
       "    <tr>\n",
       "        <td style=\"padding-left: 1em; padding-right: 1em; text-align: center; vertical-align: top\">map.baidu.com</td>\n",
       "    </tr>\n",
       "    <tr>\n",
       "        <td style=\"padding-left: 1em; padding-right: 1em; text-align: center; vertical-align: top\">www.htffund.com</td>\n",
       "    </tr>\n",
       "    <tr>\n",
       "        <td style=\"padding-left: 1em; padding-right: 1em; text-align: center; vertical-align: top\">www.hnbys.gov.cn</td>\n",
       "    </tr>\n",
       "    <tr>\n",
       "        <td style=\"padding-left: 1em; padding-right: 1em; text-align: center; vertical-align: top\">www.lncana.cn</td>\n",
       "    </tr>\n",
       "    <tr>\n",
       "        <td style=\"padding-left: 1em; padding-right: 1em; text-align: center; vertical-align: top\">www.goonmax.com</td>\n",
       "    </tr>\n",
       "    <tr>\n",
       "        <td style=\"padding-left: 1em; padding-right: 1em; text-align: center; vertical-align: top\">www.enet.com.cn/ciweekly</td>\n",
       "    </tr>\n",
       "    <tr>\n",
       "        <td style=\"padding-left: 1em; padding-right: 1em; text-align: center; vertical-align: top\">zh.wikipedia.org/zh-<br>cn/Xbox ...</td>\n",
       "    </tr>\n",
       "    <tr>\n",
       "        <td style=\"padding-left: 1em; padding-right: 1em; text-align: center; vertical-align: top\">www.mlpxcl.com</td>\n",
       "    </tr>\n",
       "    <tr>\n",
       "        <td style=\"padding-left: 1em; padding-right: 1em; text-align: center; vertical-align: top\">www.zbrc.com.cn</td>\n",
       "    </tr>\n",
       "</table>\n",
       "[2377 rows x 1 columns]<br/>Note: Only the head of the SFrame is printed.<br/>You can use print_rows(num_rows=m, num_columns=n) to print more rows and columns.\n",
       "</div>"
      ],
      "text/plain": [
       "Columns:\n",
       "\turl\tstr\n",
       "\n",
       "Rows: 2377\n",
       "\n",
       "Data:\n",
       "+-----------------------------+\n",
       "|             url             |\n",
       "+-----------------------------+\n",
       "|        www.52384.com        |\n",
       "|        map.baidu.com        |\n",
       "|       www.htffund.com       |\n",
       "|       www.hnbys.gov.cn      |\n",
       "|        www.lncana.cn        |\n",
       "|       www.goonmax.com       |\n",
       "|   www.enet.com.cn/ciweekly  |\n",
       "| zh.wikipedia.org/zh-cn/Xbox |\n",
       "|        www.mlpxcl.com       |\n",
       "|       www.zbrc.com.cn       |\n",
       "+-----------------------------+\n",
       "[2377 rows x 1 columns]\n",
       "Note: Only the head of the SFrame is printed.\n",
       "You can use print_rows(num_rows=m, num_columns=n) to print more rows and columns."
      ]
     },
     "execution_count": 14,
     "metadata": {},
     "output_type": "execute_result"
    }
   ],
   "source": [
    "resource"
   ]
  },
  {
   "cell_type": "code",
   "execution_count": 15,
   "metadata": {
    "collapsed": true
   },
   "outputs": [],
   "source": [
    "resource.save('resource_final_1.csv')"
   ]
  },
  {
   "cell_type": "markdown",
   "metadata": {
    "collapsed": true
   },
   "source": [
    "# Processing the resource"
   ]
  },
  {
   "cell_type": "code",
   "execution_count": 1,
   "metadata": {
    "collapsed": true
   },
   "outputs": [],
   "source": [
    "import string"
   ]
  },
  {
   "cell_type": "code",
   "execution_count": 2,
   "metadata": {
    "collapsed": true
   },
   "outputs": [],
   "source": [
    "import graphlab"
   ]
  },
  {
   "cell_type": "code",
   "execution_count": 3,
   "metadata": {
    "collapsed": false
   },
   "outputs": [
    {
     "name": "stdout",
     "output_type": "stream",
     "text": [
      "This non-commercial license of GraphLab Create is assigned to guoxiuhe@nefu.edu.cn and will expire on April 02, 2017. For commercial licensing options, visit https://dato.com/buy/.\n"
     ]
    },
    {
     "name": "stderr",
     "output_type": "stream",
     "text": [
      "2016-05-03 21:07:48,266 [INFO] graphlab.cython.cy_server, 176: GraphLab Create v1.9 started. Logging: C:\\Users\\heguoxiu\\AppData\\Local\\Temp\\graphlab_server_1462280859.log.0\n"
     ]
    },
    {
     "data": {
      "text/html": [
       "<pre>Finished parsing file E:\\Python\\2GraduationProject\\resource_final_1.csv</pre>"
      ],
      "text/plain": [
       "Finished parsing file E:\\Python\\2GraduationProject\\resource_final_1.csv"
      ]
     },
     "metadata": {},
     "output_type": "display_data"
    },
    {
     "data": {
      "text/html": [
       "<pre>Parsing completed. Parsed 100 lines in 0.065004 secs.</pre>"
      ],
      "text/plain": [
       "Parsing completed. Parsed 100 lines in 0.065004 secs."
      ]
     },
     "metadata": {},
     "output_type": "display_data"
    },
    {
     "name": "stdout",
     "output_type": "stream",
     "text": [
      "------------------------------------------------------\n",
      "Inferred types from first 100 line(s) of file as \n",
      "column_type_hints=[str]\n",
      "If parsing fails due to incorrect types, you can correct\n",
      "the inferred type list above and pass it to read_csv in\n",
      "the column_type_hints argument\n",
      "------------------------------------------------------\n"
     ]
    },
    {
     "data": {
      "text/html": [
       "<pre>Finished parsing file E:\\Python\\2GraduationProject\\resource_final_1.csv</pre>"
      ],
      "text/plain": [
       "Finished parsing file E:\\Python\\2GraduationProject\\resource_final_1.csv"
      ]
     },
     "metadata": {},
     "output_type": "display_data"
    },
    {
     "data": {
      "text/html": [
       "<pre>Parsing completed. Parsed 2377 lines in 0.023002 secs.</pre>"
      ],
      "text/plain": [
       "Parsing completed. Parsed 2377 lines in 0.023002 secs."
      ]
     },
     "metadata": {},
     "output_type": "display_data"
    }
   ],
   "source": [
    "resources = graphlab.SFrame.read_csv('resource_final_1.csv')"
   ]
  },
  {
   "cell_type": "code",
   "execution_count": 5,
   "metadata": {
    "collapsed": false
   },
   "outputs": [
    {
     "data": {
      "text/plain": [
       "dtype: str\n",
       "Rows: 2377\n",
       "['52384.com', 'map.baidu.com', 'htffund.com', 'hnbys.gov.cn', 'lncana.cn', 'goonmax.com', 'enet.com.cn/ciweekly', 'zh.wikipedia.org/zh-cn/Xbox', 'mlpxcl.com', 'zbrc.com.cn', 'hljjob.com', 'jlsrc.com', 'ahtv.cn', 'rxjh.17game.com', 'web.4399.com/mcsd', 'sports.sohu.com/weiqi.shtml', 'chinagrandrally.com', 'download.17173.com', 'mjtea.com', 'finance.qq.com/fund', 'suning.cn', 'lifeworld.com.cn', 'feimeng.net.cn', 'down.766.com', 'came-online.org', 'tlgay.com', 'google.com/language_tools?hl=zh-CN', '54yjs.cn', 'dezai.cn', 'ctsports.com.cn', 'verycd.com/sto/tv', '0752rc.cn', 'fund123.cn', '5617.com', 'csapa.org', 'jiaoyou.58.com/?utm_source=d_123sogou&utm_campaign=123sogou-jiaoyou', 'cqfengjiedpf.org.cn', 'dyrc.gov.cn', 'llrc.com.cn', 'henanweiqi.com', 'syrc.com.cn', 'sports.qq.com/zt2011/ittf/index.htm', 'nbweekly.com', 'ndchina.cn', 'csrcsc.com', 'hunantv.com', 'jzrc.gov.cn', 'shunde.zsjjob.com', 'henanfucai.com', 'mxd.766.com', 'chinahighway.gov.cn', 'bai.sohu.com', 'hljweiqi.com', 'people.sina.com.cn/forum', 'zh.wikipedia.org/zh-cn/%E5%9B%B4%E6%A3%8B', 'wlrcw.com', 'manmankan.com/html/265/index.asp', 'qusoo.com', 'chemicalbook.com', 'job168.com', 'baike.baidu.com/subview/71155/14536128.htm', 'shrail.com', 'heli1818.com', 'yoger.com.cn', 'puzzz.com', 'house.focus.cn/housemarket/housemarket3.php', 'app.sogou.com/soft/1/7/0/0/1', 'beareyes.com', 'qsgct999.cn', 'bbs.games.sina.com.cn', 'sqwomen.org', 'hebpta.com.cn', 'tuziba.net', 'club.autohome.com.cn', 'wwenglish.com', 'lx.9you.com', 'go.sogou.com/plane/?fr=dituhbcx', 'szepi.org.cn', 'tytlj.com.cn', '6.cn', 'seahai.com', 'pmph.com', 'chinahuamin.org', 'zpwz.net', 'brtn.cn', 'dmzj.com', 'tjkx.com', 'xd.xoyo.com', 'echung.com.cn', 'video.sina.com.cn/movie/category/teleplay/index.html', 'dxcl.org', 'zsfn.com', 'n64.cngba.com', 'people.com.cn/GB/paper2515', 'ex.net.cn', 'hn-lt.com', 'tl.changyou.com', 'zh.wikipedia.org/zh-cn/%E8%BB%8D%E6%A3%8B', 'ybweiqi.com', 'trainingmag.com.cn', ... ]"
      ]
     },
     "execution_count": 5,
     "metadata": {},
     "output_type": "execute_result"
    }
   ],
   "source": [
    "resources['url'].apply(lambda x: x.replace('www.',''))"
   ]
  },
  {
   "cell_type": "code",
   "execution_count": 6,
   "metadata": {
    "collapsed": true
   },
   "outputs": [],
   "source": [
    "resources.save('resources.csv')"
   ]
  },
  {
   "cell_type": "code",
   "execution_count": 7,
   "metadata": {
    "collapsed": true
   },
   "outputs": [],
   "source": [
    "resources['url'] = resources['url'].apply(lambda x: x.replace('www.',''))"
   ]
  },
  {
   "cell_type": "code",
   "execution_count": 8,
   "metadata": {
    "collapsed": true
   },
   "outputs": [],
   "source": [
    "resources.save('resources.csv')"
   ]
  },
  {
   "cell_type": "code",
   "execution_count": 1,
   "metadata": {
    "collapsed": true
   },
   "outputs": [],
   "source": [
    "import pandas as pd"
   ]
  },
  {
   "cell_type": "code",
   "execution_count": 2,
   "metadata": {
    "collapsed": true
   },
   "outputs": [],
   "source": [
    "df = pd.read_csv('ODP.csv')"
   ]
  },
  {
   "cell_type": "code",
   "execution_count": 5,
   "metadata": {
    "collapsed": false
   },
   "outputs": [
    {
     "data": {
      "text/html": [
       "<div>\n",
       "<table border=\"1\" class=\"dataframe\">\n",
       "  <thead>\n",
       "    <tr style=\"text-align: right;\">\n",
       "      <th></th>\n",
       "      <th>url</th>\n",
       "      <th>name</th>\n",
       "      <th>label</th>\n",
       "      <th>url_new</th>\n",
       "    </tr>\n",
       "  </thead>\n",
       "  <tbody>\n",
       "    <tr>\n",
       "      <th>0</th>\n",
       "      <td>http://news.jmu.edu.cn/</td>\n",
       "      <td>集美大学新闻网</td>\n",
       "      <td>大专院校</td>\n",
       "      <td>news.jmu.edu.cn/</td>\n",
       "    </tr>\n",
       "    <tr>\n",
       "      <th>1</th>\n",
       "      <td>http://jjxj.swufe.edu.cn/</td>\n",
       "      <td>经济学家</td>\n",
       "      <td>出版物</td>\n",
       "      <td>jjxj.swufe.edu.cn/</td>\n",
       "    </tr>\n",
       "    <tr>\n",
       "      <th>2</th>\n",
       "      <td>http://www.jsacd.gov.cn/</td>\n",
       "      <td>江苏省农业资源开发局</td>\n",
       "      <td>江苏</td>\n",
       "      <td>www.jsacd.gov.cn/</td>\n",
       "    </tr>\n",
       "    <tr>\n",
       "      <th>3</th>\n",
       "      <td>http://www.yndaily.com/</td>\n",
       "      <td>云南日报网</td>\n",
       "      <td>地区</td>\n",
       "      <td>www.yndaily.com/</td>\n",
       "    </tr>\n",
       "    <tr>\n",
       "      <th>4</th>\n",
       "      <td>http://www.panda.org.cn/</td>\n",
       "      <td>成都大熊猫繁育研究基地</td>\n",
       "      <td>熊猫</td>\n",
       "      <td>www.panda.org.cn/</td>\n",
       "    </tr>\n",
       "    <tr>\n",
       "      <th>5</th>\n",
       "      <td>http://www.fjinfo.gov.cn/</td>\n",
       "      <td>福建科技信息</td>\n",
       "      <td>福建</td>\n",
       "      <td>www.fjinfo.gov.cn/</td>\n",
       "    </tr>\n",
       "    <tr>\n",
       "      <th>6</th>\n",
       "      <td>http://www.klxuexi.com/</td>\n",
       "      <td>快乐学习教育科技集团</td>\n",
       "      <td>上海</td>\n",
       "      <td>www.klxuexi.com/</td>\n",
       "    </tr>\n",
       "    <tr>\n",
       "      <th>7</th>\n",
       "      <td>http://www.haier.com/cn/</td>\n",
       "      <td>海尔集团</td>\n",
       "      <td>消费电子产品</td>\n",
       "      <td>www.haier.com/cn/</td>\n",
       "    </tr>\n",
       "    <tr>\n",
       "      <th>8</th>\n",
       "      <td>http://www.jstvu.edu.cn/</td>\n",
       "      <td>江苏广播电视大学</td>\n",
       "      <td>江苏</td>\n",
       "      <td>www.jstvu.edu.cn/</td>\n",
       "    </tr>\n",
       "    <tr>\n",
       "      <th>9</th>\n",
       "      <td>http://www.gxtc.edu.cn/</td>\n",
       "      <td>广西师范学院</td>\n",
       "      <td>大专院校</td>\n",
       "      <td>www.gxtc.edu.cn/</td>\n",
       "    </tr>\n",
       "    <tr>\n",
       "      <th>10</th>\n",
       "      <td>http://www.ccughc.net/</td>\n",
       "      <td>长春大学光华学院</td>\n",
       "      <td>大专院校</td>\n",
       "      <td>www.ccughc.net/</td>\n",
       "    </tr>\n",
       "    <tr>\n",
       "      <th>11</th>\n",
       "      <td>http://www.geomech.ac.cn/</td>\n",
       "      <td>中国地质科学院地质力学研究所</td>\n",
       "      <td>地质学</td>\n",
       "      <td>www.geomech.ac.cn/</td>\n",
       "    </tr>\n",
       "    <tr>\n",
       "      <th>12</th>\n",
       "      <td>http://www.acucn.com/</td>\n",
       "      <td>针灸中国</td>\n",
       "      <td>针灸推拿</td>\n",
       "      <td>www.acucn.com/</td>\n",
       "    </tr>\n",
       "    <tr>\n",
       "      <th>13</th>\n",
       "      <td>http://www.nttec.edu.cn/</td>\n",
       "      <td>南通纺织职业技术学院</td>\n",
       "      <td>江苏</td>\n",
       "      <td>www.nttec.edu.cn/</td>\n",
       "    </tr>\n",
       "    <tr>\n",
       "      <th>14</th>\n",
       "      <td>http://www.weiqi8.com/</td>\n",
       "      <td>围棋吧</td>\n",
       "      <td>围棋</td>\n",
       "      <td>www.weiqi8.com/</td>\n",
       "    </tr>\n",
       "    <tr>\n",
       "      <th>15</th>\n",
       "      <td>http://www.cc148.com/</td>\n",
       "      <td>长春市司法局</td>\n",
       "      <td>长春</td>\n",
       "      <td>www.cc148.com/</td>\n",
       "    </tr>\n",
       "    <tr>\n",
       "      <th>16</th>\n",
       "      <td>http://www.sdx.js.cn/</td>\n",
       "      <td>中共江苏省委党校</td>\n",
       "      <td>江苏</td>\n",
       "      <td>www.sdx.js.cn/</td>\n",
       "    </tr>\n",
       "    <tr>\n",
       "      <th>17</th>\n",
       "      <td>http://www.lnd.com.cn/</td>\n",
       "      <td>北国网</td>\n",
       "      <td>地区</td>\n",
       "      <td>www.lnd.com.cn/</td>\n",
       "    </tr>\n",
       "    <tr>\n",
       "      <th>18</th>\n",
       "      <td>http://minsheng.henu.edu.cn/</td>\n",
       "      <td>河南大学民生学院</td>\n",
       "      <td>大专院校</td>\n",
       "      <td>minsheng.henu.edu.cn/</td>\n",
       "    </tr>\n",
       "    <tr>\n",
       "      <th>19</th>\n",
       "      <td>http://www.beijingbg.com/</td>\n",
       "      <td>北京植物园</td>\n",
       "      <td>植物</td>\n",
       "      <td>www.beijingbg.com/</td>\n",
       "    </tr>\n",
       "    <tr>\n",
       "      <th>20</th>\n",
       "      <td>http://www.dlls114.com/</td>\n",
       "      <td>大连法律咨询网</td>\n",
       "      <td>律师及律师事务所</td>\n",
       "      <td>www.dlls114.com/</td>\n",
       "    </tr>\n",
       "    <tr>\n",
       "      <th>21</th>\n",
       "      <td>http://www.fjpsc.edu.cn/</td>\n",
       "      <td>福建警察学院</td>\n",
       "      <td>福建</td>\n",
       "      <td>www.fjpsc.edu.cn/</td>\n",
       "    </tr>\n",
       "    <tr>\n",
       "      <th>22</th>\n",
       "      <td>http://www.4399.com/</td>\n",
       "      <td>4399小游戏</td>\n",
       "      <td>Flash</td>\n",
       "      <td>www.4399.com/</td>\n",
       "    </tr>\n",
       "    <tr>\n",
       "      <th>23</th>\n",
       "      <td>http://med.yangtzeu.edu.cn/</td>\n",
       "      <td>长江大学医学院</td>\n",
       "      <td>医学</td>\n",
       "      <td>med.yangtzeu.edu.cn/</td>\n",
       "    </tr>\n",
       "    <tr>\n",
       "      <th>24</th>\n",
       "      <td>http://www.sicnu.edu.cn/</td>\n",
       "      <td>四川师范大学</td>\n",
       "      <td>大专院校</td>\n",
       "      <td>www.sicnu.edu.cn/</td>\n",
       "    </tr>\n",
       "    <tr>\n",
       "      <th>25</th>\n",
       "      <td>http://travel.sohu.com/</td>\n",
       "      <td>旅游频道-搜狐</td>\n",
       "      <td>旅行服务</td>\n",
       "      <td>travel.sohu.com/</td>\n",
       "    </tr>\n",
       "    <tr>\n",
       "      <th>26</th>\n",
       "      <td>http://www.chzy.org/</td>\n",
       "      <td>巢湖职业技术学院</td>\n",
       "      <td>大专院校</td>\n",
       "      <td>www.chzy.org/</td>\n",
       "    </tr>\n",
       "    <tr>\n",
       "      <th>27</th>\n",
       "      <td>http://www.gdqy.edu.cn/</td>\n",
       "      <td>广东轻工职业技术学院</td>\n",
       "      <td>大专院校</td>\n",
       "      <td>www.gdqy.edu.cn/</td>\n",
       "    </tr>\n",
       "    <tr>\n",
       "      <th>28</th>\n",
       "      <td>http://www.finddoc.com/sc</td>\n",
       "      <td>FindDoc - 香港医生网- 提供香港医生,香港牙医和香港中医资料及网上预约服务</td>\n",
       "      <td>香港</td>\n",
       "      <td>www.finddoc.com/sc</td>\n",
       "    </tr>\n",
       "    <tr>\n",
       "      <th>29</th>\n",
       "      <td>http://www.hyhifi.com/</td>\n",
       "      <td>华韵音响</td>\n",
       "      <td>音频</td>\n",
       "      <td>www.hyhifi.com/</td>\n",
       "    </tr>\n",
       "    <tr>\n",
       "      <th>...</th>\n",
       "      <td>...</td>\n",
       "      <td>...</td>\n",
       "      <td>...</td>\n",
       "      <td>...</td>\n",
       "    </tr>\n",
       "    <tr>\n",
       "      <th>16218</th>\n",
       "      <td>http://www.zx98.com/</td>\n",
       "      <td>中学数学网</td>\n",
       "      <td>学习时光</td>\n",
       "      <td>www.zx98.com/</td>\n",
       "    </tr>\n",
       "    <tr>\n",
       "      <th>16219</th>\n",
       "      <td>http://www.chinabuses.com/</td>\n",
       "      <td>中国客车网</td>\n",
       "      <td>机动车</td>\n",
       "      <td>www.chinabuses.com/</td>\n",
       "    </tr>\n",
       "    <tr>\n",
       "      <th>16220</th>\n",
       "      <td>http://www.lnbxcs.com/</td>\n",
       "      <td>本溪市慈善总会</td>\n",
       "      <td>组织</td>\n",
       "      <td>www.lnbxcs.com/</td>\n",
       "    </tr>\n",
       "    <tr>\n",
       "      <th>16221</th>\n",
       "      <td>http://www.threetong.com/</td>\n",
       "      <td>风水堂</td>\n",
       "      <td>风水</td>\n",
       "      <td>www.threetong.com/</td>\n",
       "    </tr>\n",
       "    <tr>\n",
       "      <th>16222</th>\n",
       "      <td>http://www.dxu.gov.cn/</td>\n",
       "      <td>北京市大兴区旅游信息网</td>\n",
       "      <td>旅游指南</td>\n",
       "      <td>www.dxu.gov.cn/</td>\n",
       "    </tr>\n",
       "    <tr>\n",
       "      <th>16223</th>\n",
       "      <td>http://www.thdrying.com/</td>\n",
       "      <td>靖江市天和干燥机械制造有限公司</td>\n",
       "      <td>机械</td>\n",
       "      <td>www.thdrying.com/</td>\n",
       "    </tr>\n",
       "    <tr>\n",
       "      <th>16224</th>\n",
       "      <td>http://www.fjll.gov.cn/</td>\n",
       "      <td>福建老龄网</td>\n",
       "      <td>老人</td>\n",
       "      <td>www.fjll.gov.cn/</td>\n",
       "    </tr>\n",
       "    <tr>\n",
       "      <th>16225</th>\n",
       "      <td>http://www.rwrw.cn/</td>\n",
       "      <td>西安人文经贸学院</td>\n",
       "      <td>陕西</td>\n",
       "      <td>www.rwrw.cn/</td>\n",
       "    </tr>\n",
       "    <tr>\n",
       "      <th>16226</th>\n",
       "      <td>http://www.qumei.com/</td>\n",
       "      <td>曲美集团-北京曲美家居有限公司</td>\n",
       "      <td>家具</td>\n",
       "      <td>www.qumei.com/</td>\n",
       "    </tr>\n",
       "    <tr>\n",
       "      <th>16227</th>\n",
       "      <td>http://www.cblyw.com/</td>\n",
       "      <td>赤壁旅游网</td>\n",
       "      <td>湖北</td>\n",
       "      <td>www.cblyw.com/</td>\n",
       "    </tr>\n",
       "    <tr>\n",
       "      <th>16228</th>\n",
       "      <td>http://tech.163.com/</td>\n",
       "      <td>网易科技</td>\n",
       "      <td>计算机</td>\n",
       "      <td>tech.163.com/</td>\n",
       "    </tr>\n",
       "    <tr>\n",
       "      <th>16229</th>\n",
       "      <td>http://www.rixin-flow.com/</td>\n",
       "      <td>泉州日新流量仪器仪表有限公司</td>\n",
       "      <td>流量</td>\n",
       "      <td>www.rixin-flow.com/</td>\n",
       "    </tr>\n",
       "    <tr>\n",
       "      <th>16230</th>\n",
       "      <td>http://www.diannao.wang/</td>\n",
       "      <td>电脑网</td>\n",
       "      <td>编程</td>\n",
       "      <td>www.diannao.wang/</td>\n",
       "    </tr>\n",
       "    <tr>\n",
       "      <th>16231</th>\n",
       "      <td>http://www.ysu.edu.cn/</td>\n",
       "      <td>燕山大学</td>\n",
       "      <td>河北</td>\n",
       "      <td>www.ysu.edu.cn/</td>\n",
       "    </tr>\n",
       "    <tr>\n",
       "      <th>16232</th>\n",
       "      <td>http://bbs.lianzhong.com/showforum-14.aspx</td>\n",
       "      <td>联众四国军棋论坛</td>\n",
       "      <td>军棋</td>\n",
       "      <td>bbs.lianzhong.com/showforum-14.aspx</td>\n",
       "    </tr>\n",
       "    <tr>\n",
       "      <th>16233</th>\n",
       "      <td>http://www.cs.cmu.edu/~xliu/txt/</td>\n",
       "      <td>金庸全集</td>\n",
       "      <td>金庸</td>\n",
       "      <td>www.cs.cmu.edu/~xliu/txt/</td>\n",
       "    </tr>\n",
       "    <tr>\n",
       "      <th>16234</th>\n",
       "      <td>http://www.iae.org.cn/</td>\n",
       "      <td>中国农业科学院农业经济研究所</td>\n",
       "      <td>农业</td>\n",
       "      <td>www.iae.org.cn/</td>\n",
       "    </tr>\n",
       "    <tr>\n",
       "      <th>16235</th>\n",
       "      <td>http://www.dajiangchem.com/</td>\n",
       "      <td>江都市大江化工厂</td>\n",
       "      <td>试剂与助剂</td>\n",
       "      <td>www.dajiangchem.com/</td>\n",
       "    </tr>\n",
       "    <tr>\n",
       "      <th>16236</th>\n",
       "      <td>http://www.byjng.com/</td>\n",
       "      <td>南昌八一起义纪念馆</td>\n",
       "      <td>博物馆</td>\n",
       "      <td>www.byjng.com/</td>\n",
       "    </tr>\n",
       "    <tr>\n",
       "      <th>16237</th>\n",
       "      <td>http://zjnet.zjaic.gov.cn/</td>\n",
       "      <td>浙江省网络经济服务监管网</td>\n",
       "      <td>浙江</td>\n",
       "      <td>zjnet.zjaic.gov.cn/</td>\n",
       "    </tr>\n",
       "    <tr>\n",
       "      <th>16238</th>\n",
       "      <td>http://www.wjmj.gov.cn/</td>\n",
       "      <td>南通市对外贸易经济合作局</td>\n",
       "      <td>南通</td>\n",
       "      <td>www.wjmj.gov.cn/</td>\n",
       "    </tr>\n",
       "    <tr>\n",
       "      <th>16239</th>\n",
       "      <td>http://zsb.xmu.edu.cn/</td>\n",
       "      <td>厦门大学招生办公室</td>\n",
       "      <td>厦门大学</td>\n",
       "      <td>zsb.xmu.edu.cn/</td>\n",
       "    </tr>\n",
       "    <tr>\n",
       "      <th>16240</th>\n",
       "      <td>http://sl.qq.com/</td>\n",
       "      <td>丝路英雄</td>\n",
       "      <td>策略</td>\n",
       "      <td>sl.qq.com/</td>\n",
       "    </tr>\n",
       "    <tr>\n",
       "      <th>16241</th>\n",
       "      <td>http://www.tsdled.com/</td>\n",
       "      <td>深圳市天盛达光电有限公司</td>\n",
       "      <td>灯具与指示器</td>\n",
       "      <td>www.tsdled.com/</td>\n",
       "    </tr>\n",
       "    <tr>\n",
       "      <th>16242</th>\n",
       "      <td>http://www.torlincn.com/</td>\n",
       "      <td>上海多林化工科技有限公司</td>\n",
       "      <td>无机原料</td>\n",
       "      <td>www.torlincn.com/</td>\n",
       "    </tr>\n",
       "    <tr>\n",
       "      <th>16243</th>\n",
       "      <td>http://chessjoy.com/</td>\n",
       "      <td>chessjoy 国际象棋网</td>\n",
       "      <td>国际象棋</td>\n",
       "      <td>chessjoy.com/</td>\n",
       "    </tr>\n",
       "    <tr>\n",
       "      <th>16244</th>\n",
       "      <td>http://www.jingshan.gov.cn/</td>\n",
       "      <td>今日京山</td>\n",
       "      <td>湖北</td>\n",
       "      <td>www.jingshan.gov.cn/</td>\n",
       "    </tr>\n",
       "    <tr>\n",
       "      <th>16245</th>\n",
       "      <td>http://www.hkwb.net/</td>\n",
       "      <td>海口晚报</td>\n",
       "      <td>海口</td>\n",
       "      <td>www.hkwb.net/</td>\n",
       "    </tr>\n",
       "    <tr>\n",
       "      <th>16246</th>\n",
       "      <td>http://www.xiaoxingxing.net/</td>\n",
       "      <td>小星星儿童心理康复中心</td>\n",
       "      <td>儿童康复</td>\n",
       "      <td>www.xiaoxingxing.net/</td>\n",
       "    </tr>\n",
       "    <tr>\n",
       "      <th>16247</th>\n",
       "      <td>http://journal.psych.ac.cn/</td>\n",
       "      <td>心理学报</td>\n",
       "      <td>心理健康</td>\n",
       "      <td>journal.psych.ac.cn/</td>\n",
       "    </tr>\n",
       "  </tbody>\n",
       "</table>\n",
       "<p>16248 rows × 4 columns</p>\n",
       "</div>"
      ],
      "text/plain": [
       "                                              url  \\\n",
       "0                         http://news.jmu.edu.cn/   \n",
       "1                       http://jjxj.swufe.edu.cn/   \n",
       "2                        http://www.jsacd.gov.cn/   \n",
       "3                         http://www.yndaily.com/   \n",
       "4                        http://www.panda.org.cn/   \n",
       "5                       http://www.fjinfo.gov.cn/   \n",
       "6                         http://www.klxuexi.com/   \n",
       "7                        http://www.haier.com/cn/   \n",
       "8                        http://www.jstvu.edu.cn/   \n",
       "9                         http://www.gxtc.edu.cn/   \n",
       "10                         http://www.ccughc.net/   \n",
       "11                      http://www.geomech.ac.cn/   \n",
       "12                          http://www.acucn.com/   \n",
       "13                       http://www.nttec.edu.cn/   \n",
       "14                         http://www.weiqi8.com/   \n",
       "15                          http://www.cc148.com/   \n",
       "16                          http://www.sdx.js.cn/   \n",
       "17                         http://www.lnd.com.cn/   \n",
       "18                   http://minsheng.henu.edu.cn/   \n",
       "19                      http://www.beijingbg.com/   \n",
       "20                        http://www.dlls114.com/   \n",
       "21                       http://www.fjpsc.edu.cn/   \n",
       "22                           http://www.4399.com/   \n",
       "23                    http://med.yangtzeu.edu.cn/   \n",
       "24                       http://www.sicnu.edu.cn/   \n",
       "25                        http://travel.sohu.com/   \n",
       "26                           http://www.chzy.org/   \n",
       "27                        http://www.gdqy.edu.cn/   \n",
       "28                      http://www.finddoc.com/sc   \n",
       "29                         http://www.hyhifi.com/   \n",
       "...                                           ...   \n",
       "16218                        http://www.zx98.com/   \n",
       "16219                  http://www.chinabuses.com/   \n",
       "16220                      http://www.lnbxcs.com/   \n",
       "16221                   http://www.threetong.com/   \n",
       "16222                      http://www.dxu.gov.cn/   \n",
       "16223                    http://www.thdrying.com/   \n",
       "16224                     http://www.fjll.gov.cn/   \n",
       "16225                         http://www.rwrw.cn/   \n",
       "16226                       http://www.qumei.com/   \n",
       "16227                       http://www.cblyw.com/   \n",
       "16228                        http://tech.163.com/   \n",
       "16229                  http://www.rixin-flow.com/   \n",
       "16230                    http://www.diannao.wang/   \n",
       "16231                      http://www.ysu.edu.cn/   \n",
       "16232  http://bbs.lianzhong.com/showforum-14.aspx   \n",
       "16233            http://www.cs.cmu.edu/~xliu/txt/   \n",
       "16234                      http://www.iae.org.cn/   \n",
       "16235                 http://www.dajiangchem.com/   \n",
       "16236                       http://www.byjng.com/   \n",
       "16237                  http://zjnet.zjaic.gov.cn/   \n",
       "16238                     http://www.wjmj.gov.cn/   \n",
       "16239                      http://zsb.xmu.edu.cn/   \n",
       "16240                           http://sl.qq.com/   \n",
       "16241                      http://www.tsdled.com/   \n",
       "16242                    http://www.torlincn.com/   \n",
       "16243                        http://chessjoy.com/   \n",
       "16244                 http://www.jingshan.gov.cn/   \n",
       "16245                        http://www.hkwb.net/   \n",
       "16246                http://www.xiaoxingxing.net/   \n",
       "16247                 http://journal.psych.ac.cn/   \n",
       "\n",
       "                                             name     label  \\\n",
       "0                                         集美大学新闻网      大专院校   \n",
       "1                                            经济学家       出版物   \n",
       "2                                      江苏省农业资源开发局        江苏   \n",
       "3                                           云南日报网        地区   \n",
       "4                                     成都大熊猫繁育研究基地        熊猫   \n",
       "5                                          福建科技信息        福建   \n",
       "6                                      快乐学习教育科技集团        上海   \n",
       "7                                            海尔集团    消费电子产品   \n",
       "8                                        江苏广播电视大学        江苏   \n",
       "9                                          广西师范学院      大专院校   \n",
       "10                                       长春大学光华学院      大专院校   \n",
       "11                                 中国地质科学院地质力学研究所       地质学   \n",
       "12                                           针灸中国      针灸推拿   \n",
       "13                                     南通纺织职业技术学院        江苏   \n",
       "14                                            围棋吧        围棋   \n",
       "15                                         长春市司法局        长春   \n",
       "16                                       中共江苏省委党校        江苏   \n",
       "17                                            北国网        地区   \n",
       "18                                       河南大学民生学院      大专院校   \n",
       "19                                          北京植物园        植物   \n",
       "20                                        大连法律咨询网  律师及律师事务所   \n",
       "21                                         福建警察学院        福建   \n",
       "22                                        4399小游戏     Flash   \n",
       "23                                        长江大学医学院        医学   \n",
       "24                                         四川师范大学      大专院校   \n",
       "25                                        旅游频道-搜狐      旅行服务   \n",
       "26                                       巢湖职业技术学院      大专院校   \n",
       "27                                     广东轻工职业技术学院      大专院校   \n",
       "28     FindDoc - 香港医生网- 提供香港医生,香港牙医和香港中医资料及网上预约服务        香港   \n",
       "29                                           华韵音响        音频   \n",
       "...                                           ...       ...   \n",
       "16218                                       中学数学网      学习时光   \n",
       "16219                                       中国客车网       机动车   \n",
       "16220                                     本溪市慈善总会        组织   \n",
       "16221                                         风水堂        风水   \n",
       "16222                                 北京市大兴区旅游信息网      旅游指南   \n",
       "16223                             靖江市天和干燥机械制造有限公司        机械   \n",
       "16224                                       福建老龄网        老人   \n",
       "16225                                    西安人文经贸学院        陕西   \n",
       "16226                             曲美集团-北京曲美家居有限公司        家具   \n",
       "16227                                       赤壁旅游网        湖北   \n",
       "16228                                        网易科技       计算机   \n",
       "16229                              泉州日新流量仪器仪表有限公司        流量   \n",
       "16230                                         电脑网        编程   \n",
       "16231                                        燕山大学        河北   \n",
       "16232                                    联众四国军棋论坛        军棋   \n",
       "16233                                        金庸全集        金庸   \n",
       "16234                              中国农业科学院农业经济研究所        农业   \n",
       "16235                                    江都市大江化工厂     试剂与助剂   \n",
       "16236                                   南昌八一起义纪念馆       博物馆   \n",
       "16237                                浙江省网络经济服务监管网        浙江   \n",
       "16238                                南通市对外贸易经济合作局        南通   \n",
       "16239                                   厦门大学招生办公室      厦门大学   \n",
       "16240                                        丝路英雄        策略   \n",
       "16241                                深圳市天盛达光电有限公司    灯具与指示器   \n",
       "16242                                上海多林化工科技有限公司      无机原料   \n",
       "16243                              chessjoy 国际象棋网      国际象棋   \n",
       "16244                                        今日京山        湖北   \n",
       "16245                                        海口晚报        海口   \n",
       "16246                                 小星星儿童心理康复中心      儿童康复   \n",
       "16247                                        心理学报      心理健康   \n",
       "\n",
       "                                   url_new  \n",
       "0                         news.jmu.edu.cn/  \n",
       "1                       jjxj.swufe.edu.cn/  \n",
       "2                        www.jsacd.gov.cn/  \n",
       "3                         www.yndaily.com/  \n",
       "4                        www.panda.org.cn/  \n",
       "5                       www.fjinfo.gov.cn/  \n",
       "6                         www.klxuexi.com/  \n",
       "7                        www.haier.com/cn/  \n",
       "8                        www.jstvu.edu.cn/  \n",
       "9                         www.gxtc.edu.cn/  \n",
       "10                         www.ccughc.net/  \n",
       "11                      www.geomech.ac.cn/  \n",
       "12                          www.acucn.com/  \n",
       "13                       www.nttec.edu.cn/  \n",
       "14                         www.weiqi8.com/  \n",
       "15                          www.cc148.com/  \n",
       "16                          www.sdx.js.cn/  \n",
       "17                         www.lnd.com.cn/  \n",
       "18                   minsheng.henu.edu.cn/  \n",
       "19                      www.beijingbg.com/  \n",
       "20                        www.dlls114.com/  \n",
       "21                       www.fjpsc.edu.cn/  \n",
       "22                           www.4399.com/  \n",
       "23                    med.yangtzeu.edu.cn/  \n",
       "24                       www.sicnu.edu.cn/  \n",
       "25                        travel.sohu.com/  \n",
       "26                           www.chzy.org/  \n",
       "27                        www.gdqy.edu.cn/  \n",
       "28                      www.finddoc.com/sc  \n",
       "29                         www.hyhifi.com/  \n",
       "...                                    ...  \n",
       "16218                        www.zx98.com/  \n",
       "16219                  www.chinabuses.com/  \n",
       "16220                      www.lnbxcs.com/  \n",
       "16221                   www.threetong.com/  \n",
       "16222                      www.dxu.gov.cn/  \n",
       "16223                    www.thdrying.com/  \n",
       "16224                     www.fjll.gov.cn/  \n",
       "16225                         www.rwrw.cn/  \n",
       "16226                       www.qumei.com/  \n",
       "16227                       www.cblyw.com/  \n",
       "16228                        tech.163.com/  \n",
       "16229                  www.rixin-flow.com/  \n",
       "16230                    www.diannao.wang/  \n",
       "16231                      www.ysu.edu.cn/  \n",
       "16232  bbs.lianzhong.com/showforum-14.aspx  \n",
       "16233            www.cs.cmu.edu/~xliu/txt/  \n",
       "16234                      www.iae.org.cn/  \n",
       "16235                 www.dajiangchem.com/  \n",
       "16236                       www.byjng.com/  \n",
       "16237                  zjnet.zjaic.gov.cn/  \n",
       "16238                     www.wjmj.gov.cn/  \n",
       "16239                      zsb.xmu.edu.cn/  \n",
       "16240                           sl.qq.com/  \n",
       "16241                      www.tsdled.com/  \n",
       "16242                    www.torlincn.com/  \n",
       "16243                        chessjoy.com/  \n",
       "16244                 www.jingshan.gov.cn/  \n",
       "16245                        www.hkwb.net/  \n",
       "16246                www.xiaoxingxing.net/  \n",
       "16247                 journal.psych.ac.cn/  \n",
       "\n",
       "[16248 rows x 4 columns]"
      ]
     },
     "execution_count": 5,
     "metadata": {},
     "output_type": "execute_result"
    }
   ],
   "source": [
    "df"
   ]
  },
  {
   "cell_type": "code",
   "execution_count": 1,
   "metadata": {
    "collapsed": true
   },
   "outputs": [],
   "source": [
    "import graphlab"
   ]
  },
  {
   "cell_type": "code",
   "execution_count": 2,
   "metadata": {
    "collapsed": false
   },
   "outputs": [
    {
     "name": "stdout",
     "output_type": "stream",
     "text": [
      "This non-commercial license of GraphLab Create is assigned to guoxiuhe@nefu.edu.cn and will expire on April 02, 2017. For commercial licensing options, visit https://dato.com/buy/.\n"
     ]
    },
    {
     "name": "stderr",
     "output_type": "stream",
     "text": [
      "2016-05-14 21:52:39,572 [INFO] graphlab.cython.cy_server, 176: GraphLab Create v1.9 started. Logging: C:\\Users\\heguoxiu\\AppData\\Local\\Temp\\graphlab_server_1463233941.log.0\n"
     ]
    },
    {
     "data": {
      "text/html": [
       "<pre>Unable to parse line \"12:10:47\t3182383064076715\t[1锛�璞″舰銆佹寚浜嬨�浼氭剰鐨勫尯鍒玗\t1 3\tks.cn.yahoo.com/question/1307012100335.html\"</pre>"
      ],
      "text/plain": [
       "Unable to parse line \"12:10:47\t3182383064076715\t[1锛�璞″舰銆佹寚浜嬨�浼氭剰鐨勫尯鍒玗\t1 3\tks.cn.yahoo.com/question/1307012100335.html\""
      ]
     },
     "metadata": {},
     "output_type": "display_data"
    },
    {
     "data": {
      "text/html": [
       "<pre>1 lines failed to parse correctly</pre>"
      ],
      "text/plain": [
       "1 lines failed to parse correctly"
      ]
     },
     "metadata": {},
     "output_type": "display_data"
    },
    {
     "data": {
      "text/html": [
       "<pre>Finished parsing file E:\\Python\\2Graduation-Project\\garbage\\SogouQ.csv</pre>"
      ],
      "text/plain": [
       "Finished parsing file E:\\Python\\2Graduation-Project\\garbage\\SogouQ.csv"
      ]
     },
     "metadata": {},
     "output_type": "display_data"
    },
    {
     "data": {
      "text/html": [
       "<pre>Parsing completed. Parsed 100 lines in 2.26743 secs.</pre>"
      ],
      "text/plain": [
       "Parsing completed. Parsed 100 lines in 2.26743 secs."
      ]
     },
     "metadata": {},
     "output_type": "display_data"
    },
    {
     "name": "stdout",
     "output_type": "stream",
     "text": [
      "------------------------------------------------------\n",
      "Inferred types from first 100 line(s) of file as \n",
      "column_type_hints=[str,long,list,str,str]\n",
      "If parsing fails due to incorrect types, you can correct\n",
      "the inferred type list above and pass it to read_csv in\n",
      "the column_type_hints argument\n",
      "------------------------------------------------------\n"
     ]
    },
    {
     "data": {
      "text/html": [
       "<pre>Unable to parse line \"00:00:15\t5028737953059696\t[600){this.resize=true;this.width+=+600;}\">]\t1 1\tbbs.xs163.net/showthread.php?t=793556\"</pre>"
      ],
      "text/plain": [
       "Unable to parse line \"00:00:15\t5028737953059696\t[600){this.resize=true;this.width+=+600;}\">]\t1 1\tbbs.xs163.net/showthread.php?t=793556\""
      ]
     },
     "metadata": {},
     "output_type": "display_data"
    },
    {
     "data": {
      "text/html": [
       "<pre>Unable to parse line \"07:53:56\t21044303380117352\t[[3E杩呴浄鐢靛奖绔檞ww.eee4.com]\t1 1\ttv.ezhun.com/227904.htm\"</pre>"
      ],
      "text/plain": [
       "Unable to parse line \"07:53:56\t21044303380117352\t[[3E杩呴浄鐢靛奖绔檞ww.eee4.com]\t1 1\ttv.ezhun.com/227904.htm\""
      ]
     },
     "metadata": {},
     "output_type": "display_data"
    },
    {
     "data": {
      "text/html": [
       "<pre>Unable to parse line \"10:24:42\t5157546097952033\t[鏂板畼鑳芥暀涔�榛戠嫳[鐪熶汉鐗圿涓嬭浇]\t2 1\tgamebbs.enet.com.cn/thread-3035928-4-1.html\"</pre>"
      ],
      "text/plain": [
       "Unable to parse line \"10:24:42\t5157546097952033\t[鏂板畼鑳芥暀涔�榛戠嫳[鐪熶汉鐗圿涓嬭浇]\t2 1\tgamebbs.enet.com.cn/thread-3035928-4-1.html\""
      ]
     },
     "metadata": {},
     "output_type": "display_data"
    },
    {
     "data": {
      "text/html": [
       "<pre>Unable to parse line \"10:25:05\t5157546097952033\t[鏂板畼鑳芥暀涔�榛戠嫳[鐪熶汉鐗圿涓嬭浇]\t3 2\tgamesbbs.enet.com.cn/viewthread.php?tid=3035928&extra=&page=2\"</pre>"
      ],
      "text/plain": [
       "Unable to parse line \"10:25:05\t5157546097952033\t[鏂板畼鑳芥暀涔�榛戠嫳[鐪熶汉鐗圿涓嬭浇]\t3 2\tgamesbbs.enet.com.cn/viewthread.php?tid=3035928&extra=&page=2\""
      ]
     },
     "metadata": {},
     "output_type": "display_data"
    },
    {
     "data": {
      "text/html": [
       "<pre>Unable to parse line \"07:55:54\t5015292968140459\t['闂归挓\"璇楁瓕]\t1 1\tzhidao.baidu.com/question/38023671\"</pre>"
      ],
      "text/plain": [
       "Unable to parse line \"07:55:54\t5015292968140459\t['闂归挓\"璇楁瓕]\t1 1\tzhidao.baidu.com/question/38023671\""
      ]
     },
     "metadata": {},
     "output_type": "display_data"
    },
    {
     "data": {
      "text/html": [
       "<pre>Unable to parse line \"07:56:15\t5015292968140459\t['闂归挓\"璇楁瓕]\t2 2\twww.dopoem.com/poem/poemsearch-???\\xa8\\xae.html\"</pre>"
      ],
      "text/plain": [
       "Unable to parse line \"07:56:15\t5015292968140459\t['闂归挓\"璇楁瓕]\t2 2\twww.dopoem.com/poem/poemsearch-???\\xa8\\xae.html\""
      ]
     },
     "metadata": {},
     "output_type": "display_data"
    },
    {
     "data": {
      "text/html": [
       "<pre>Unable to parse line \"07:56:34\t5015292968140459\t['闂归挓\"璇楁瓕]\t3 3\tarticle.hongxiu.com/a/2004-3-3/322790.shtml\"</pre>"
      ],
      "text/plain": [
       "Unable to parse line \"07:56:34\t5015292968140459\t['闂归挓\"璇楁瓕]\t3 3\tarticle.hongxiu.com/a/2004-3-3/322790.shtml\""
      ]
     },
     "metadata": {},
     "output_type": "display_data"
    },
    {
     "data": {
      "text/html": [
       "<pre>Unable to parse line \"07:56:50\t5015292968140459\t['闂归挓\"璇楁瓕]\t4 4\tarticle.hongxiu.com/a/2003-6-14/178045.shtml\"</pre>"
      ],
      "text/plain": [
       "Unable to parse line \"07:56:50\t5015292968140459\t['闂归挓\"璇楁瓕]\t4 4\tarticle.hongxiu.com/a/2003-6-14/178045.shtml\""
      ]
     },
     "metadata": {},
     "output_type": "display_data"
    },
    {
     "data": {
      "text/html": [
       "<pre>Unable to parse line \"07:57:56\t5015292968140459\t['闂归挓\"璇楁瓕]\t5 5\tmsn.hongxiu.com/a/a/01710/1709532.shtml\"</pre>"
      ],
      "text/plain": [
       "Unable to parse line \"07:57:56\t5015292968140459\t['闂归挓\"璇楁瓕]\t5 5\tmsn.hongxiu.com/a/a/01710/1709532.shtml\""
      ]
     },
     "metadata": {},
     "output_type": "display_data"
    },
    {
     "data": {
      "text/html": [
       "<pre>Unable to parse line \"07:58:11\t5015292968140459\t['闂归挓\"璇楁瓕]\t6 6\twanxiao2306.blog.sohu.com/23492833.html\"</pre>"
      ],
      "text/plain": [
       "Unable to parse line \"07:58:11\t5015292968140459\t['闂归挓\"璇楁瓕]\t6 6\twanxiao2306.blog.sohu.com/23492833.html\""
      ]
     },
     "metadata": {},
     "output_type": "display_data"
    },
    {
     "data": {
      "text/html": [
       "<pre>Read 552158 lines. Lines per second: 173563</pre>"
      ],
      "text/plain": [
       "Read 552158 lines. Lines per second: 173563"
      ]
     },
     "metadata": {},
     "output_type": "display_data"
    },
    {
     "data": {
      "text/html": [
       "<pre>1241 lines failed to parse correctly</pre>"
      ],
      "text/plain": [
       "1241 lines failed to parse correctly"
      ]
     },
     "metadata": {},
     "output_type": "display_data"
    },
    {
     "data": {
      "text/html": [
       "<pre>Finished parsing file E:\\Python\\2Graduation-Project\\garbage\\SogouQ.csv</pre>"
      ],
      "text/plain": [
       "Finished parsing file E:\\Python\\2Graduation-Project\\garbage\\SogouQ.csv"
      ]
     },
     "metadata": {},
     "output_type": "display_data"
    },
    {
     "data": {
      "text/html": [
       "<pre>Parsing completed. Parsed 1723023 lines in 5.57218 secs.</pre>"
      ],
      "text/plain": [
       "Parsing completed. Parsed 1723023 lines in 5.57218 secs."
      ]
     },
     "metadata": {},
     "output_type": "display_data"
    }
   ],
   "source": [
    "data = graphlab.SFrame.read_csv('./garbage/SogouQ.csv', delimiter='\\t')"
   ]
  },
  {
   "cell_type": "code",
   "execution_count": 3,
   "metadata": {
    "collapsed": false
   },
   "outputs": [
    {
     "data": {
      "text/html": [
       "<div style=\"max-height:1000px;max-width:1500px;overflow:auto;\"><table frame=\"box\" rules=\"cols\">\n",
       "    <tr>\n",
       "        <th style=\"padding-left: 1em; padding-right: 1em; text-align: center\">﻿time</th>\n",
       "        <th style=\"padding-left: 1em; padding-right: 1em; text-align: center\">user_id</th>\n",
       "        <th style=\"padding-left: 1em; padding-right: 1em; text-align: center\">query</th>\n",
       "        <th style=\"padding-left: 1em; padding-right: 1em; text-align: center\">result_click</th>\n",
       "        <th style=\"padding-left: 1em; padding-right: 1em; text-align: center\">url</th>\n",
       "    </tr>\n",
       "    <tr>\n",
       "        <td style=\"padding-left: 1em; padding-right: 1em; text-align: center; vertical-align: top\">00:00:00</td>\n",
       "        <td style=\"padding-left: 1em; padding-right: 1em; text-align: center; vertical-align: top\">2982199073774412</td>\n",
       "        <td style=\"padding-left: 1em; padding-right: 1em; text-align: center; vertical-align: top\">[360安全卫士]</td>\n",
       "        <td style=\"padding-left: 1em; padding-right: 1em; text-align: center; vertical-align: top\">8 3</td>\n",
       "        <td style=\"padding-left: 1em; padding-right: 1em; text-align: center; vertical-align: top\">download.it.com.cn/softwe<br>b/software/firewall/a ...</td>\n",
       "    </tr>\n",
       "    <tr>\n",
       "        <td style=\"padding-left: 1em; padding-right: 1em; text-align: center; vertical-align: top\">00:00:00</td>\n",
       "        <td style=\"padding-left: 1em; padding-right: 1em; text-align: center; vertical-align: top\">7594220010824798</td>\n",
       "        <td style=\"padding-left: 1em; padding-right: 1em; text-align: center; vertical-align: top\">[哄抢救灾物资]</td>\n",
       "        <td style=\"padding-left: 1em; padding-right: 1em; text-align: center; vertical-align: top\">1 1</td>\n",
       "        <td style=\"padding-left: 1em; padding-right: 1em; text-align: center; vertical-align: top\">news.21cn.com/social/daqi<br>an/2008/05/29/4777194 ...</td>\n",
       "    </tr>\n",
       "    <tr>\n",
       "        <td style=\"padding-left: 1em; padding-right: 1em; text-align: center; vertical-align: top\">00:00:00</td>\n",
       "        <td style=\"padding-left: 1em; padding-right: 1em; text-align: center; vertical-align: top\">5228056822071097</td>\n",
       "        <td style=\"padding-left: 1em; padding-right: 1em; text-align: center; vertical-align: top\">[75810部队]</td>\n",
       "        <td style=\"padding-left: 1em; padding-right: 1em; text-align: center; vertical-align: top\">14 5</td>\n",
       "        <td style=\"padding-left: 1em; padding-right: 1em; text-align: center; vertical-align: top\">www.greatoo.com/greatoo_c<br>n/list.asp?link_id=27 ...</td>\n",
       "    </tr>\n",
       "    <tr>\n",
       "        <td style=\"padding-left: 1em; padding-right: 1em; text-align: center; vertical-align: top\">00:00:00</td>\n",
       "        <td style=\"padding-left: 1em; padding-right: 1em; text-align: center; vertical-align: top\">6140463203615646</td>\n",
       "        <td style=\"padding-left: 1em; padding-right: 1em; text-align: center; vertical-align: top\">[绳艺]</td>\n",
       "        <td style=\"padding-left: 1em; padding-right: 1em; text-align: center; vertical-align: top\">62 36</td>\n",
       "        <td style=\"padding-left: 1em; padding-right: 1em; text-align: center; vertical-align: top\">www.jd-cd.com/jd_opus/xx/<br>200607/706.html ...</td>\n",
       "    </tr>\n",
       "    <tr>\n",
       "        <td style=\"padding-left: 1em; padding-right: 1em; text-align: center; vertical-align: top\">00:00:00</td>\n",
       "        <td style=\"padding-left: 1em; padding-right: 1em; text-align: center; vertical-align: top\">8561366108033201</td>\n",
       "        <td style=\"padding-left: 1em; padding-right: 1em; text-align: center; vertical-align: top\">[汶川地震原因]</td>\n",
       "        <td style=\"padding-left: 1em; padding-right: 1em; text-align: center; vertical-align: top\">3 2</td>\n",
       "        <td style=\"padding-left: 1em; padding-right: 1em; text-align: center; vertical-align: top\">www.big38.net/</td>\n",
       "    </tr>\n",
       "    <tr>\n",
       "        <td style=\"padding-left: 1em; padding-right: 1em; text-align: center; vertical-align: top\">00:00:00</td>\n",
       "        <td style=\"padding-left: 1em; padding-right: 1em; text-align: center; vertical-align: top\">23908140386148713</td>\n",
       "        <td style=\"padding-left: 1em; padding-right: 1em; text-align: center; vertical-align: top\">[莫衷一是的意思]</td>\n",
       "        <td style=\"padding-left: 1em; padding-right: 1em; text-align: center; vertical-align: top\">1 2</td>\n",
       "        <td style=\"padding-left: 1em; padding-right: 1em; text-align: center; vertical-align: top\">www.chinabaike.com/articl<br>e/81/82/110/2007/2007 ...</td>\n",
       "    </tr>\n",
       "    <tr>\n",
       "        <td style=\"padding-left: 1em; padding-right: 1em; text-align: center; vertical-align: top\">00:00:00</td>\n",
       "        <td style=\"padding-left: 1em; padding-right: 1em; text-align: center; vertical-align: top\">1797943298449139</td>\n",
       "        <td style=\"padding-left: 1em; padding-right: 1em; text-align: center; vertical-align: top\">[星梦缘全集在线观<br>看] ...</td>\n",
       "        <td style=\"padding-left: 1em; padding-right: 1em; text-align: center; vertical-align: top\">8 5</td>\n",
       "        <td style=\"padding-left: 1em; padding-right: 1em; text-align: center; vertical-align: top\">www.6wei.net/dianshiju/??<br>??\\xa1\\xe9|????do=index ...</td>\n",
       "    </tr>\n",
       "    <tr>\n",
       "        <td style=\"padding-left: 1em; padding-right: 1em; text-align: center; vertical-align: top\">00:00:00</td>\n",
       "        <td style=\"padding-left: 1em; padding-right: 1em; text-align: center; vertical-align: top\">717725924582846</td>\n",
       "        <td style=\"padding-left: 1em; padding-right: 1em; text-align: center; vertical-align: top\">[闪字吧]</td>\n",
       "        <td style=\"padding-left: 1em; padding-right: 1em; text-align: center; vertical-align: top\">1 2</td>\n",
       "        <td style=\"padding-left: 1em; padding-right: 1em; text-align: center; vertical-align: top\">www.shanziba.com/</td>\n",
       "    </tr>\n",
       "    <tr>\n",
       "        <td style=\"padding-left: 1em; padding-right: 1em; text-align: center; vertical-align: top\">00:00:00</td>\n",
       "        <td style=\"padding-left: 1em; padding-right: 1em; text-align: center; vertical-align: top\">41416219018952116</td>\n",
       "        <td style=\"padding-left: 1em; padding-right: 1em; text-align: center; vertical-align: top\">[霍震霆与朱玲玲照<br>片] ...</td>\n",
       "        <td style=\"padding-left: 1em; padding-right: 1em; text-align: center; vertical-align: top\">2 6</td>\n",
       "        <td style=\"padding-left: 1em; padding-right: 1em; text-align: center; vertical-align: top\">bbs.gouzai.cn/thread-6987<br>36.html ...</td>\n",
       "    </tr>\n",
       "    <tr>\n",
       "        <td style=\"padding-left: 1em; padding-right: 1em; text-align: center; vertical-align: top\">00:00:00</td>\n",
       "        <td style=\"padding-left: 1em; padding-right: 1em; text-align: center; vertical-align: top\">9975666857142764</td>\n",
       "        <td style=\"padding-left: 1em; padding-right: 1em; text-align: center; vertical-align: top\">[电脑创业]</td>\n",
       "        <td style=\"padding-left: 1em; padding-right: 1em; text-align: center; vertical-align: top\">2 2</td>\n",
       "        <td style=\"padding-left: 1em; padding-right: 1em; text-align: center; vertical-align: top\">ks.cn.yahoo.com/question/<br>1307120203719.html ...</td>\n",
       "    </tr>\n",
       "</table>\n",
       "[10 rows x 5 columns]<br/>\n",
       "</div>"
      ],
      "text/plain": [
       "Columns:\n",
       "\t﻿time\tstr\n",
       "\tuser_id\tint\n",
       "\tquery\tlist\n",
       "\tresult_click\tstr\n",
       "\turl\tstr\n",
       "\n",
       "Rows: 10\n",
       "\n",
       "Data:\n",
       "+----------+-------------------+----------------------+--------------+\n",
       "|  ﻿time   |      user_id      |        query         | result_click |\n",
       "+----------+-------------------+----------------------+--------------+\n",
       "| 00:00:00 |  2982199073774412 |    [360安全卫士]     |     8 3      |\n",
       "| 00:00:00 |  7594220010824798 |    [哄抢救灾物资]    |     1 1      |\n",
       "| 00:00:00 |  5228056822071097 |     [75810部队]      |     14 5     |\n",
       "| 00:00:00 |  6140463203615646 |        [绳艺]        |    62 36     |\n",
       "| 00:00:00 |  8561366108033201 |    [汶川地震原因]    |     3 2      |\n",
       "| 00:00:00 | 23908140386148713 |   [莫衷一是的意思]   |     1 2      |\n",
       "| 00:00:00 |  1797943298449139 | [星梦缘全集在线观看] |     8 5      |\n",
       "| 00:00:00 |  717725924582846  |       [闪字吧]       |     1 2      |\n",
       "| 00:00:00 | 41416219018952116 | [霍震霆与朱玲玲照片] |     2 6      |\n",
       "| 00:00:00 |  9975666857142764 |      [电脑创业]      |     2 2      |\n",
       "+----------+-------------------+----------------------+--------------+\n",
       "+-------------------------------+\n",
       "|              url              |\n",
       "+-------------------------------+\n",
       "| download.it.com.cn/softweb... |\n",
       "| news.21cn.com/social/daqia... |\n",
       "| www.greatoo.com/greatoo_cn... |\n",
       "| www.jd-cd.com/jd_opus/xx/2... |\n",
       "|         www.big38.net/        |\n",
       "| www.chinabaike.com/article... |\n",
       "| www.6wei.net/dianshiju/???... |\n",
       "|       www.shanziba.com/       |\n",
       "| bbs.gouzai.cn/thread-69873... |\n",
       "| ks.cn.yahoo.com/question/1... |\n",
       "+-------------------------------+\n",
       "[10 rows x 5 columns]"
      ]
     },
     "execution_count": 3,
     "metadata": {},
     "output_type": "execute_result"
    }
   ],
   "source": [
    "data.head()"
   ]
  },
  {
   "cell_type": "code",
   "execution_count": 4,
   "metadata": {
    "collapsed": false
   },
   "outputs": [
    {
     "data": {
      "text/plain": [
       "1723023"
      ]
     },
     "execution_count": 4,
     "metadata": {},
     "output_type": "execute_result"
    }
   ],
   "source": [
    "len(data)"
   ]
  },
  {
   "cell_type": "code",
   "execution_count": 5,
   "metadata": {
    "collapsed": true
   },
   "outputs": [],
   "source": [
    "subset = data.sample(500000.0/len(data), seed=1)"
   ]
  },
  {
   "cell_type": "code",
   "execution_count": 6,
   "metadata": {
    "collapsed": true
   },
   "outputs": [],
   "source": [
    "subset.save('Sogou50W.csv')"
   ]
  },
  {
   "cell_type": "code",
   "execution_count": 7,
   "metadata": {
    "collapsed": false
   },
   "outputs": [
    {
     "name": "stdout",
     "output_type": "stream",
     "text": [
      "Canvas is accessible via web browser at the URL: http://localhost:42679/index.html\n",
      "Opening Canvas in default web browser.\n"
     ]
    },
    {
     "name": "stderr",
     "output_type": "stream",
     "text": [
      "2016-05-14 21:56:00,634 [ERROR] tornado.access, 1946: 500 GET /sketch/%EF%BB%BFtime (::1) 183.00ms\n",
      "2016-05-14 21:56:32,332 [ERROR] tornado.access, 1946: 500 GET /sketch/%EF%BB%BFtime (::1) 15.00ms\n",
      "2016-05-14 21:57:02,996 [ERROR] tornado.access, 1946: 500 GET /sketch/%EF%BB%BFtime (::1) 10.00ms\n"
     ]
    }
   ],
   "source": [
    "subset.show()"
   ]
  },
  {
   "cell_type": "code",
   "execution_count": 1,
   "metadata": {
    "collapsed": true
   },
   "outputs": [],
   "source": [
    "# -*- coding: utf-8 -*-\n",
    "sentence = '年轻人住房问题'"
   ]
  },
  {
   "cell_type": "code",
   "execution_count": 2,
   "metadata": {
    "collapsed": false
   },
   "outputs": [
    {
     "name": "stdout",
     "output_type": "stream",
     "text": [
      "年轻人\t住房\t问题\n"
     ]
    }
   ],
   "source": [
    "from pyltp import Segmentor\n",
    "segmentor = Segmentor()\n",
    "segmentor.load('E:/Python/pyltp/ltp_data/cws.model')\n",
    "words = segmentor.segment(sentence)\n",
    "print '\\t'.join(words)\n",
    "segmentor.release()"
   ]
  },
  {
   "cell_type": "code",
   "execution_count": 3,
   "metadata": {
    "collapsed": false
   },
   "outputs": [
    {
     "name": "stdout",
     "output_type": "stream",
     "text": [
      "n\tn\tn\n"
     ]
    }
   ],
   "source": [
    "from pyltp import Postagger\n",
    "postagger = Postagger()\n",
    "postagger.load('E:/Python/pyltp/ltp_data/pos.model')\n",
    "postags = postagger.postag(words)\n",
    "print '\\t'.join(postags)\n",
    "postagger.release()"
   ]
  },
  {
   "cell_type": "code",
   "execution_count": 4,
   "metadata": {
    "collapsed": false
   },
   "outputs": [
    {
     "name": "stdout",
     "output_type": "stream",
     "text": [
      "2:ATT\t3:ATT\t0:HED\n"
     ]
    }
   ],
   "source": [
    "from pyltp import Parser\n",
    "parser = Parser()\n",
    "parser.load('E:/Python/pyltp/ltp_data/parser.model')\n",
    "arcs = parser.parse(words, postags)\n",
    "print \"\\t\".join(\"%d:%s\" % (arc.head, arc.relation) for arc in arcs)\n",
    "parser.release()"
   ]
  },
  {
   "cell_type": "code",
   "execution_count": 1,
   "metadata": {
    "collapsed": true
   },
   "outputs": [],
   "source": [
    "# -*- coding:utf-8 -*-"
   ]
  },
  {
   "cell_type": "code",
   "execution_count": 7,
   "metadata": {
    "collapsed": true
   },
   "outputs": [],
   "source": [
    "sentence = '我真是日了汪了！'"
   ]
  },
  {
   "cell_type": "code",
   "execution_count": 9,
   "metadata": {
    "collapsed": false
   },
   "outputs": [
    {
     "data": {
      "text/plain": [
       "8"
      ]
     },
     "execution_count": 9,
     "metadata": {},
     "output_type": "execute_result"
    }
   ],
   "source": [
    "len(sentence.decode('utf-8'))"
   ]
  },
  {
   "cell_type": "code",
   "execution_count": null,
   "metadata": {
    "collapsed": true
   },
   "outputs": [],
   "source": []
  }
 ],
 "metadata": {
  "kernelspec": {
   "display_name": "Python 2",
   "language": "python",
   "name": "python2"
  },
  "language_info": {
   "codemirror_mode": {
    "name": "ipython",
    "version": 2
   },
   "file_extension": ".py",
   "mimetype": "text/x-python",
   "name": "python",
   "nbconvert_exporter": "python",
   "pygments_lexer": "ipython2",
   "version": "2.7.11"
  }
 },
 "nbformat": 4,
 "nbformat_minor": 0
}
