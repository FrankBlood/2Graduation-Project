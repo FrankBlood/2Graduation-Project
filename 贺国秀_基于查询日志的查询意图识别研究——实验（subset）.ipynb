{
 "cells": [
  {
   "cell_type": "markdown",
   "metadata": {},
   "source": [
    "<img src='NEFUlogo.png' align='left'>"
   ]
  },
  {
   "cell_type": "markdown",
   "metadata": {},
   "source": [
    "# 基于查询日志的查询意图识别研究"
   ]
  },
  {
   "cell_type": "markdown",
   "metadata": {},
   "source": [
    "## 1. 讲在前面"
   ]
  },
  {
   "cell_type": "markdown",
   "metadata": {},
   "source": [
    "### 1.1 研究背景"
   ]
  },
  {
   "cell_type": "markdown",
   "metadata": {},
   "source": [
    "&nbsp;&nbsp;&nbsp;&nbsp;&nbsp;&nbsp;&nbsp;互联网（World Wide Web）是世界上最大的信息资源库，是人们快速获取信息的重要途径之一，极大的改变了人们的生活方式。据2016年1月中国互联网络信息中心（CNNIC）发布的第37次*《中国互联网络发展状况统计报告》*显示，截至2015年12月，中国网民已达6.88亿，互联网普及率高达50.3%。截至2015年12月，中国网站数量为423万个，年增长26.3%，中国网页的数量为2123亿个，年增长11.8%，如图所示。"
   ]
  },
  {
   "cell_type": "markdown",
   "metadata": {},
   "source": [
    "<img src='Extraction Features.jpeg' align='left'>"
   ]
  },
  {
   "cell_type": "markdown",
   "metadata": {},
   "source": [
    "<img src='中国网站数量.png' align='left'>"
   ]
  },
  {
   "cell_type": "markdown",
   "metadata": {},
   "source": [
    "<img src='中国网页数量.png' align='left'>"
   ]
  },
  {
   "cell_type": "markdown",
   "metadata": {},
   "source": [
    "&nbsp;&nbsp;&nbsp;&nbsp;&nbsp;&nbsp;&nbsp;由于用户提交的查询往往较短，自然语言存在模糊性，无法清晰的表达用户的意图。所以包含查询关键字的查询结果，有可能不足以满足用户的需求；搜索引擎返回的数以千计的文档也造成严重的信息过载。有研究显示，在查询日志中，有至少16%的歧义查询，有超过75%的查询具有更复杂的信息需求，难以被简单的答案或者特定的网址满足。"
   ]
  },
  {
   "cell_type": "markdown",
   "metadata": {},
   "source": [
    "<img src='结果点击排名.png' align='left'>"
   ]
  },
  {
   "cell_type": "markdown",
   "metadata": {},
   "source": [
    "### 1.2 研究意义"
   ]
  },
  {
   "cell_type": "markdown",
   "metadata": {},
   "source": [
    "* **增加用户对搜索结果的满意度**：正确对用户意图进行识别，可以有效解决“信息过载”等问题，提高搜索效率；<br>\n",
    "* **提高广告推荐的精度**：向搜索引擎用户提供和用户当前搜索相关的广告，提高商业价值；<br>\n",
    "* **帮助搜索引擎组织和检索信息**：可以根据意图整理网络上的信息资源，建立更高效的检索系统。"
   ]
  },
  {
   "cell_type": "markdown",
   "metadata": {},
   "source": [
    "### 1.3 国内外研究现状"
   ]
  },
  {
   "cell_type": "markdown",
   "metadata": {},
   "source": [
    "* 查询意图**类目体系构建**<br>\n",
    "* 查询意图**特征提取**<br>\n",
    "* 查询意图的**识别方法研究**<br>\n",
    "* **数据集与评价方法**<br>"
   ]
  },
  {
   "cell_type": "markdown",
   "metadata": {},
   "source": [
    "### 1.4 论文框架"
   ]
  },
  {
   "cell_type": "markdown",
   "metadata": {},
   "source": [
    "<img src='论文框架.png' align='left'>"
   ]
  },
  {
   "cell_type": "markdown",
   "metadata": {},
   "source": [
    "## 2. 相关理论介绍"
   ]
  },
  {
   "cell_type": "markdown",
   "metadata": {},
   "source": [
    "## 3. 实验"
   ]
  },
  {
   "cell_type": "markdown",
   "metadata": {},
   "source": [
    "&nbsp;&nbsp;&nbsp;&nbsp;&nbsp;&nbsp;&nbsp;导入要用到的python程序库，并且设置数据展示在notebook中。"
   ]
  },
  {
   "cell_type": "code",
   "execution_count": 1,
   "metadata": {
    "collapsed": true
   },
   "outputs": [],
   "source": [
    "#-*- coding:utf-8 -*-"
   ]
  },
  {
   "cell_type": "code",
   "execution_count": 2,
   "metadata": {
    "collapsed": true
   },
   "outputs": [],
   "source": [
    "import graphlab\n",
    "import re\n",
    "import pandas as pd\n",
    "import string\n",
    "import jieba.posseg as pseg\n",
    "import jieba\n",
    "from collections import OrderedDict\n",
    "from collections import Counter\n",
    "from pyltp import Segmentor, Postagger, Parser"
   ]
  },
  {
   "cell_type": "code",
   "execution_count": 3,
   "metadata": {
    "collapsed": true
   },
   "outputs": [],
   "source": [
    "import matplotlib.pyplot as plt\n",
    "%matplotlib inline"
   ]
  },
  {
   "cell_type": "code",
   "execution_count": 4,
   "metadata": {
    "collapsed": true
   },
   "outputs": [],
   "source": [
    "segmentor = Segmentor()\n",
    "postagger = Postagger()\n",
    "parser = Parser()\n",
    "segmentor.load('E:/Python/pyltp/ltp_data/cws.model')\n",
    "postagger.load('E:/Python/pyltp/ltp_data/pos.model')\n",
    "parser.load('E:/Python/pyltp/ltp_data/parser.model')"
   ]
  },
  {
   "cell_type": "code",
   "execution_count": 5,
   "metadata": {
    "collapsed": true
   },
   "outputs": [],
   "source": [
    "#graphlab.canvas.set_target('ipynb')"
   ]
  },
  {
   "cell_type": "markdown",
   "metadata": {},
   "source": [
    "### 3.1 搜集数据"
   ]
  },
  {
   "cell_type": "markdown",
   "metadata": {},
   "source": [
    "#### 3.1.1 查询日志数据（subset）"
   ]
  },
  {
   "cell_type": "code",
   "execution_count": 6,
   "metadata": {
    "collapsed": false
   },
   "outputs": [
    {
     "name": "stdout",
     "output_type": "stream",
     "text": [
      "This non-commercial license of GraphLab Create is assigned to guoxiuhe@nefu.edu.cn and will expire on April 02, 2017. For commercial licensing options, visit https://dato.com/buy/.\n"
     ]
    },
    {
     "name": "stderr",
     "output_type": "stream",
     "text": [
      "2016-05-20 09:10:07,094 [INFO] graphlab.cython.cy_server, 176: GraphLab Create v1.9 started. Logging: C:\\Users\\heguoxiu\\AppData\\Local\\Temp\\graphlab_server_1463706587.log.0\n"
     ]
    },
    {
     "data": {
      "text/html": [
       "<pre>Finished parsing file E:\\Python\\2Graduation-Project\\SogouM.txt</pre>"
      ],
      "text/plain": [
       "Finished parsing file E:\\Python\\2Graduation-Project\\SogouM.txt"
      ]
     },
     "metadata": {},
     "output_type": "display_data"
    },
    {
     "data": {
      "text/html": [
       "<pre>Parsing completed. Parsed 10000 lines in 0.186011 secs.</pre>"
      ],
      "text/plain": [
       "Parsing completed. Parsed 10000 lines in 0.186011 secs."
      ]
     },
     "metadata": {},
     "output_type": "display_data"
    }
   ],
   "source": [
    "data = graphlab.SFrame.read_csv('SogouM.txt', delimiter='\\t', header=True, column_type_hints=[str, str, str, str, str])"
   ]
  },
  {
   "cell_type": "code",
   "execution_count": 7,
   "metadata": {
    "collapsed": false
   },
   "outputs": [
    {
     "name": "stdout",
     "output_type": "stream",
     "text": [
      "Canvas is accessible via web browser at the URL: http://localhost:7120/index.html\n",
      "Opening Canvas in default web browser.\n"
     ]
    },
    {
     "name": "stderr",
     "output_type": "stream",
     "text": [
      "2016-05-20 09:10:33,009 [ERROR] tornado.access, 1946: 500 GET /sketch/%EF%BB%BFtime (::1) 195.00ms\n"
     ]
    }
   ],
   "source": [
    "data.show()"
   ]
  },
  {
   "cell_type": "code",
   "execution_count": 10,
   "metadata": {
    "collapsed": false
   },
   "outputs": [],
   "source": [
    "data['result_and_click'] = data['result_click'].apply(lambda x : re.split(r'\\s+',x))"
   ]
  },
  {
   "cell_type": "code",
   "execution_count": 11,
   "metadata": {
    "collapsed": false
   },
   "outputs": [],
   "source": [
    "def getfirst(l):\n",
    "    return int(l[0])\n",
    "def getsecond(l):\n",
    "    return int(l[1])\n",
    "\n",
    "data['result_rank'] = data['result_and_click'].apply(lambda l: getfirst(l))\n",
    "data['click_rank'] = data['result_and_click'].apply(lambda l: getsecond(l))"
   ]
  },
  {
   "cell_type": "code",
   "execution_count": 12,
   "metadata": {
    "collapsed": true
   },
   "outputs": [],
   "source": [
    "data['query'] = data['query'].apply(lambda x: str(x)).apply(lambda x: x.strip().lstrip('[').rstrip(']'))"
   ]
  },
  {
   "cell_type": "code",
   "execution_count": 13,
   "metadata": {
    "collapsed": true
   },
   "outputs": [],
   "source": [
    "def remove_tail(url):\n",
    "    if url[-1] == '/':\n",
    "        return url[:-1]\n",
    "    else:\n",
    "        return url[:]"
   ]
  },
  {
   "cell_type": "code",
   "execution_count": 14,
   "metadata": {
    "collapsed": true
   },
   "outputs": [],
   "source": [
    "data['url'] = data['url'].apply(remove_tail)"
   ]
  },
  {
   "cell_type": "code",
   "execution_count": 15,
   "metadata": {
    "collapsed": true
   },
   "outputs": [],
   "source": [
    "data_words = []\n",
    "data_poses = []\n",
    "data_parsers = []\n",
    "for query in data['query']:\n",
    "    temp_words = segmentor.segment(query)\n",
    "    temp_poses = postagger.postag(temp_words)\n",
    "    temp_parsers = parser.parse(temp_words, temp_poses)\n",
    "    words = ' '.join(temp_words)\n",
    "    poses = ' '.join(temp_poses)\n",
    "    parsers = ' '.join(\"%s\" % (arc.relation) for arc in temp_parsers)\n",
    "    data_words.append(words)\n",
    "    data_poses.append(poses)\n",
    "    data_parsers.append(parsers)"
   ]
  },
  {
   "cell_type": "code",
   "execution_count": 16,
   "metadata": {
    "collapsed": true
   },
   "outputs": [],
   "source": [
    "data['words'] = data_words\n",
    "data['poses'] = data_poses\n",
    "data['parsers'] = data_parsers"
   ]
  },
  {
   "cell_type": "code",
   "execution_count": 17,
   "metadata": {
    "collapsed": true
   },
   "outputs": [],
   "source": [
    "data['len_words'] = data['query'].apply(lambda x: len(x.decode('utf-8')))\n",
    "data['len_seg'] = data['words'].apply(lambda x: len(re.split(r'\\s+',x)))"
   ]
  },
  {
   "cell_type": "code",
   "execution_count": 18,
   "metadata": {
    "collapsed": false
   },
   "outputs": [
    {
     "data": {
      "text/html": [
       "<div style=\"max-height:1000px;max-width:1500px;overflow:auto;\"><table frame=\"box\" rules=\"cols\">\n",
       "    <tr>\n",
       "        <th style=\"padding-left: 1em; padding-right: 1em; text-align: center\">﻿time</th>\n",
       "        <th style=\"padding-left: 1em; padding-right: 1em; text-align: center\">user_id</th>\n",
       "        <th style=\"padding-left: 1em; padding-right: 1em; text-align: center\">query</th>\n",
       "        <th style=\"padding-left: 1em; padding-right: 1em; text-align: center\">result_click</th>\n",
       "        <th style=\"padding-left: 1em; padding-right: 1em; text-align: center\">url</th>\n",
       "        <th style=\"padding-left: 1em; padding-right: 1em; text-align: center\">result_and_click</th>\n",
       "        <th style=\"padding-left: 1em; padding-right: 1em; text-align: center\">result_rank</th>\n",
       "    </tr>\n",
       "    <tr>\n",
       "        <td style=\"padding-left: 1em; padding-right: 1em; text-align: center; vertical-align: top\">00:00:00</td>\n",
       "        <td style=\"padding-left: 1em; padding-right: 1em; text-align: center; vertical-align: top\">2982199073774412</td>\n",
       "        <td style=\"padding-left: 1em; padding-right: 1em; text-align: center; vertical-align: top\">360安全卫士</td>\n",
       "        <td style=\"padding-left: 1em; padding-right: 1em; text-align: center; vertical-align: top\">8 3</td>\n",
       "        <td style=\"padding-left: 1em; padding-right: 1em; text-align: center; vertical-align: top\">download.it.com.cn/softwe<br>b/software/firewall/a ...</td>\n",
       "        <td style=\"padding-left: 1em; padding-right: 1em; text-align: center; vertical-align: top\">[8, 3]</td>\n",
       "        <td style=\"padding-left: 1em; padding-right: 1em; text-align: center; vertical-align: top\">8</td>\n",
       "    </tr>\n",
       "    <tr>\n",
       "        <td style=\"padding-left: 1em; padding-right: 1em; text-align: center; vertical-align: top\">00:00:00</td>\n",
       "        <td style=\"padding-left: 1em; padding-right: 1em; text-align: center; vertical-align: top\">07594220010824798</td>\n",
       "        <td style=\"padding-left: 1em; padding-right: 1em; text-align: center; vertical-align: top\">哄抢救灾物资</td>\n",
       "        <td style=\"padding-left: 1em; padding-right: 1em; text-align: center; vertical-align: top\">1 1</td>\n",
       "        <td style=\"padding-left: 1em; padding-right: 1em; text-align: center; vertical-align: top\">news.21cn.com/social/daqi<br>an/2008/05/29/4777194 ...</td>\n",
       "        <td style=\"padding-left: 1em; padding-right: 1em; text-align: center; vertical-align: top\">[1, 1]</td>\n",
       "        <td style=\"padding-left: 1em; padding-right: 1em; text-align: center; vertical-align: top\">1</td>\n",
       "    </tr>\n",
       "    <tr>\n",
       "        <td style=\"padding-left: 1em; padding-right: 1em; text-align: center; vertical-align: top\">00:00:00</td>\n",
       "        <td style=\"padding-left: 1em; padding-right: 1em; text-align: center; vertical-align: top\">5228056822071097</td>\n",
       "        <td style=\"padding-left: 1em; padding-right: 1em; text-align: center; vertical-align: top\">75810部队</td>\n",
       "        <td style=\"padding-left: 1em; padding-right: 1em; text-align: center; vertical-align: top\">14 5</td>\n",
       "        <td style=\"padding-left: 1em; padding-right: 1em; text-align: center; vertical-align: top\">www.greatoo.com/greatoo_c<br>n/list.asp?link_id=27 ...</td>\n",
       "        <td style=\"padding-left: 1em; padding-right: 1em; text-align: center; vertical-align: top\">[14, 5]</td>\n",
       "        <td style=\"padding-left: 1em; padding-right: 1em; text-align: center; vertical-align: top\">14</td>\n",
       "    </tr>\n",
       "    <tr>\n",
       "        <td style=\"padding-left: 1em; padding-right: 1em; text-align: center; vertical-align: top\">00:00:00</td>\n",
       "        <td style=\"padding-left: 1em; padding-right: 1em; text-align: center; vertical-align: top\">6140463203615646</td>\n",
       "        <td style=\"padding-left: 1em; padding-right: 1em; text-align: center; vertical-align: top\">绳艺</td>\n",
       "        <td style=\"padding-left: 1em; padding-right: 1em; text-align: center; vertical-align: top\">62 36</td>\n",
       "        <td style=\"padding-left: 1em; padding-right: 1em; text-align: center; vertical-align: top\">www.jd-cd.com/jd_opus/xx/<br>200607/706.html ...</td>\n",
       "        <td style=\"padding-left: 1em; padding-right: 1em; text-align: center; vertical-align: top\">[62, 36]</td>\n",
       "        <td style=\"padding-left: 1em; padding-right: 1em; text-align: center; vertical-align: top\">62</td>\n",
       "    </tr>\n",
       "    <tr>\n",
       "        <td style=\"padding-left: 1em; padding-right: 1em; text-align: center; vertical-align: top\">00:00:00</td>\n",
       "        <td style=\"padding-left: 1em; padding-right: 1em; text-align: center; vertical-align: top\">8561366108033201</td>\n",
       "        <td style=\"padding-left: 1em; padding-right: 1em; text-align: center; vertical-align: top\">汶川地震原因</td>\n",
       "        <td style=\"padding-left: 1em; padding-right: 1em; text-align: center; vertical-align: top\">3 2</td>\n",
       "        <td style=\"padding-left: 1em; padding-right: 1em; text-align: center; vertical-align: top\">www.big38.net</td>\n",
       "        <td style=\"padding-left: 1em; padding-right: 1em; text-align: center; vertical-align: top\">[3, 2]</td>\n",
       "        <td style=\"padding-left: 1em; padding-right: 1em; text-align: center; vertical-align: top\">3</td>\n",
       "    </tr>\n",
       "    <tr>\n",
       "        <td style=\"padding-left: 1em; padding-right: 1em; text-align: center; vertical-align: top\">00:00:00</td>\n",
       "        <td style=\"padding-left: 1em; padding-right: 1em; text-align: center; vertical-align: top\">23908140386148713</td>\n",
       "        <td style=\"padding-left: 1em; padding-right: 1em; text-align: center; vertical-align: top\">莫衷一是的意思</td>\n",
       "        <td style=\"padding-left: 1em; padding-right: 1em; text-align: center; vertical-align: top\">1 2</td>\n",
       "        <td style=\"padding-left: 1em; padding-right: 1em; text-align: center; vertical-align: top\">www.chinabaike.com/articl<br>e/81/82/110/2007/2007 ...</td>\n",
       "        <td style=\"padding-left: 1em; padding-right: 1em; text-align: center; vertical-align: top\">[1, 2]</td>\n",
       "        <td style=\"padding-left: 1em; padding-right: 1em; text-align: center; vertical-align: top\">1</td>\n",
       "    </tr>\n",
       "    <tr>\n",
       "        <td style=\"padding-left: 1em; padding-right: 1em; text-align: center; vertical-align: top\">00:00:00</td>\n",
       "        <td style=\"padding-left: 1em; padding-right: 1em; text-align: center; vertical-align: top\">1797943298449139</td>\n",
       "        <td style=\"padding-left: 1em; padding-right: 1em; text-align: center; vertical-align: top\">星梦缘全集在线观�<br>�� ...</td>\n",
       "        <td style=\"padding-left: 1em; padding-right: 1em; text-align: center; vertical-align: top\">8 5</td>\n",
       "        <td style=\"padding-left: 1em; padding-right: 1em; text-align: center; vertical-align: top\">www.6wei.net/dianshiju/??<br>??\\xa1\\xe9|????do=index ...</td>\n",
       "        <td style=\"padding-left: 1em; padding-right: 1em; text-align: center; vertical-align: top\">[8, 5]</td>\n",
       "        <td style=\"padding-left: 1em; padding-right: 1em; text-align: center; vertical-align: top\">8</td>\n",
       "    </tr>\n",
       "    <tr>\n",
       "        <td style=\"padding-left: 1em; padding-right: 1em; text-align: center; vertical-align: top\">00:00:00</td>\n",
       "        <td style=\"padding-left: 1em; padding-right: 1em; text-align: center; vertical-align: top\">00717725924582846</td>\n",
       "        <td style=\"padding-left: 1em; padding-right: 1em; text-align: center; vertical-align: top\">闪字吧</td>\n",
       "        <td style=\"padding-left: 1em; padding-right: 1em; text-align: center; vertical-align: top\">1 2</td>\n",
       "        <td style=\"padding-left: 1em; padding-right: 1em; text-align: center; vertical-align: top\">www.shanziba.com</td>\n",
       "        <td style=\"padding-left: 1em; padding-right: 1em; text-align: center; vertical-align: top\">[1, 2]</td>\n",
       "        <td style=\"padding-left: 1em; padding-right: 1em; text-align: center; vertical-align: top\">1</td>\n",
       "    </tr>\n",
       "    <tr>\n",
       "        <td style=\"padding-left: 1em; padding-right: 1em; text-align: center; vertical-align: top\">00:00:00</td>\n",
       "        <td style=\"padding-left: 1em; padding-right: 1em; text-align: center; vertical-align: top\">41416219018952116</td>\n",
       "        <td style=\"padding-left: 1em; padding-right: 1em; text-align: center; vertical-align: top\">霍震霆与朱玲玲照�<br>�� ...</td>\n",
       "        <td style=\"padding-left: 1em; padding-right: 1em; text-align: center; vertical-align: top\">2 6</td>\n",
       "        <td style=\"padding-left: 1em; padding-right: 1em; text-align: center; vertical-align: top\">bbs.gouzai.cn/thread-6987<br>36.html ...</td>\n",
       "        <td style=\"padding-left: 1em; padding-right: 1em; text-align: center; vertical-align: top\">[2, 6]</td>\n",
       "        <td style=\"padding-left: 1em; padding-right: 1em; text-align: center; vertical-align: top\">2</td>\n",
       "    </tr>\n",
       "    <tr>\n",
       "        <td style=\"padding-left: 1em; padding-right: 1em; text-align: center; vertical-align: top\">00:00:00</td>\n",
       "        <td style=\"padding-left: 1em; padding-right: 1em; text-align: center; vertical-align: top\">9975666857142764</td>\n",
       "        <td style=\"padding-left: 1em; padding-right: 1em; text-align: center; vertical-align: top\">电脑创业</td>\n",
       "        <td style=\"padding-left: 1em; padding-right: 1em; text-align: center; vertical-align: top\">2 2</td>\n",
       "        <td style=\"padding-left: 1em; padding-right: 1em; text-align: center; vertical-align: top\">ks.cn.yahoo.com/question/<br>1307120203719.html ...</td>\n",
       "        <td style=\"padding-left: 1em; padding-right: 1em; text-align: center; vertical-align: top\">[2, 2]</td>\n",
       "        <td style=\"padding-left: 1em; padding-right: 1em; text-align: center; vertical-align: top\">2</td>\n",
       "    </tr>\n",
       "</table>\n",
       "<table frame=\"box\" rules=\"cols\">\n",
       "    <tr>\n",
       "        <th style=\"padding-left: 1em; padding-right: 1em; text-align: center\">click_rank</th>\n",
       "        <th style=\"padding-left: 1em; padding-right: 1em; text-align: center\">words</th>\n",
       "        <th style=\"padding-left: 1em; padding-right: 1em; text-align: center\">poses</th>\n",
       "        <th style=\"padding-left: 1em; padding-right: 1em; text-align: center\">parsers</th>\n",
       "        <th style=\"padding-left: 1em; padding-right: 1em; text-align: center\">len_words</th>\n",
       "        <th style=\"padding-left: 1em; padding-right: 1em; text-align: center\">len_seg</th>\n",
       "    </tr>\n",
       "    <tr>\n",
       "        <td style=\"padding-left: 1em; padding-right: 1em; text-align: center; vertical-align: top\">3</td>\n",
       "        <td style=\"padding-left: 1em; padding-right: 1em; text-align: center; vertical-align: top\">360 安全 卫士</td>\n",
       "        <td style=\"padding-left: 1em; padding-right: 1em; text-align: center; vertical-align: top\">nz a n</td>\n",
       "        <td style=\"padding-left: 1em; padding-right: 1em; text-align: center; vertical-align: top\">ATT ATT HED</td>\n",
       "        <td style=\"padding-left: 1em; padding-right: 1em; text-align: center; vertical-align: top\">7</td>\n",
       "        <td style=\"padding-left: 1em; padding-right: 1em; text-align: center; vertical-align: top\">3</td>\n",
       "    </tr>\n",
       "    <tr>\n",
       "        <td style=\"padding-left: 1em; padding-right: 1em; text-align: center; vertical-align: top\">1</td>\n",
       "        <td style=\"padding-left: 1em; padding-right: 1em; text-align: center; vertical-align: top\">哄抢 救灾 物资</td>\n",
       "        <td style=\"padding-left: 1em; padding-right: 1em; text-align: center; vertical-align: top\">v v n</td>\n",
       "        <td style=\"padding-left: 1em; padding-right: 1em; text-align: center; vertical-align: top\">HED ATT VOB</td>\n",
       "        <td style=\"padding-left: 1em; padding-right: 1em; text-align: center; vertical-align: top\">6</td>\n",
       "        <td style=\"padding-left: 1em; padding-right: 1em; text-align: center; vertical-align: top\">3</td>\n",
       "    </tr>\n",
       "    <tr>\n",
       "        <td style=\"padding-left: 1em; padding-right: 1em; text-align: center; vertical-align: top\">5</td>\n",
       "        <td style=\"padding-left: 1em; padding-right: 1em; text-align: center; vertical-align: top\">75810 部队</td>\n",
       "        <td style=\"padding-left: 1em; padding-right: 1em; text-align: center; vertical-align: top\">m n</td>\n",
       "        <td style=\"padding-left: 1em; padding-right: 1em; text-align: center; vertical-align: top\">ATT HED</td>\n",
       "        <td style=\"padding-left: 1em; padding-right: 1em; text-align: center; vertical-align: top\">7</td>\n",
       "        <td style=\"padding-left: 1em; padding-right: 1em; text-align: center; vertical-align: top\">2</td>\n",
       "    </tr>\n",
       "    <tr>\n",
       "        <td style=\"padding-left: 1em; padding-right: 1em; text-align: center; vertical-align: top\">36</td>\n",
       "        <td style=\"padding-left: 1em; padding-right: 1em; text-align: center; vertical-align: top\">绳艺</td>\n",
       "        <td style=\"padding-left: 1em; padding-right: 1em; text-align: center; vertical-align: top\">nh</td>\n",
       "        <td style=\"padding-left: 1em; padding-right: 1em; text-align: center; vertical-align: top\">HED</td>\n",
       "        <td style=\"padding-left: 1em; padding-right: 1em; text-align: center; vertical-align: top\">2</td>\n",
       "        <td style=\"padding-left: 1em; padding-right: 1em; text-align: center; vertical-align: top\">1</td>\n",
       "    </tr>\n",
       "    <tr>\n",
       "        <td style=\"padding-left: 1em; padding-right: 1em; text-align: center; vertical-align: top\">2</td>\n",
       "        <td style=\"padding-left: 1em; padding-right: 1em; text-align: center; vertical-align: top\">汶川 地震 原因</td>\n",
       "        <td style=\"padding-left: 1em; padding-right: 1em; text-align: center; vertical-align: top\">ns n n</td>\n",
       "        <td style=\"padding-left: 1em; padding-right: 1em; text-align: center; vertical-align: top\">ATT ATT HED</td>\n",
       "        <td style=\"padding-left: 1em; padding-right: 1em; text-align: center; vertical-align: top\">6</td>\n",
       "        <td style=\"padding-left: 1em; padding-right: 1em; text-align: center; vertical-align: top\">3</td>\n",
       "    </tr>\n",
       "    <tr>\n",
       "        <td style=\"padding-left: 1em; padding-right: 1em; text-align: center; vertical-align: top\">2</td>\n",
       "        <td style=\"padding-left: 1em; padding-right: 1em; text-align: center; vertical-align: top\">莫衷一是 的 意思</td>\n",
       "        <td style=\"padding-left: 1em; padding-right: 1em; text-align: center; vertical-align: top\">i u n</td>\n",
       "        <td style=\"padding-left: 1em; padding-right: 1em; text-align: center; vertical-align: top\">ATT RAD HED</td>\n",
       "        <td style=\"padding-left: 1em; padding-right: 1em; text-align: center; vertical-align: top\">7</td>\n",
       "        <td style=\"padding-left: 1em; padding-right: 1em; text-align: center; vertical-align: top\">3</td>\n",
       "    </tr>\n",
       "    <tr>\n",
       "        <td style=\"padding-left: 1em; padding-right: 1em; text-align: center; vertical-align: top\">5</td>\n",
       "        <td style=\"padding-left: 1em; padding-right: 1em; text-align: center; vertical-align: top\">星 梦 缘 全集 在线<br>观看 ...</td>\n",
       "        <td style=\"padding-left: 1em; padding-right: 1em; text-align: center; vertical-align: top\">n n p n n v</td>\n",
       "        <td style=\"padding-left: 1em; padding-right: 1em; text-align: center; vertical-align: top\">ATT ATT ATT ATT SBV HED</td>\n",
       "        <td style=\"padding-left: 1em; padding-right: 1em; text-align: center; vertical-align: top\">9</td>\n",
       "        <td style=\"padding-left: 1em; padding-right: 1em; text-align: center; vertical-align: top\">6</td>\n",
       "    </tr>\n",
       "    <tr>\n",
       "        <td style=\"padding-left: 1em; padding-right: 1em; text-align: center; vertical-align: top\">2</td>\n",
       "        <td style=\"padding-left: 1em; padding-right: 1em; text-align: center; vertical-align: top\">闪字 吧</td>\n",
       "        <td style=\"padding-left: 1em; padding-right: 1em; text-align: center; vertical-align: top\">n u</td>\n",
       "        <td style=\"padding-left: 1em; padding-right: 1em; text-align: center; vertical-align: top\">HED RAD</td>\n",
       "        <td style=\"padding-left: 1em; padding-right: 1em; text-align: center; vertical-align: top\">3</td>\n",
       "        <td style=\"padding-left: 1em; padding-right: 1em; text-align: center; vertical-align: top\">2</td>\n",
       "    </tr>\n",
       "    <tr>\n",
       "        <td style=\"padding-left: 1em; padding-right: 1em; text-align: center; vertical-align: top\">6</td>\n",
       "        <td style=\"padding-left: 1em; padding-right: 1em; text-align: center; vertical-align: top\">霍震霆 与 朱玲玲<br>照片 ...</td>\n",
       "        <td style=\"padding-left: 1em; padding-right: 1em; text-align: center; vertical-align: top\">nh p nh n</td>\n",
       "        <td style=\"padding-left: 1em; padding-right: 1em; text-align: center; vertical-align: top\">ATT LAD COO HED</td>\n",
       "        <td style=\"padding-left: 1em; padding-right: 1em; text-align: center; vertical-align: top\">9</td>\n",
       "        <td style=\"padding-left: 1em; padding-right: 1em; text-align: center; vertical-align: top\">4</td>\n",
       "    </tr>\n",
       "    <tr>\n",
       "        <td style=\"padding-left: 1em; padding-right: 1em; text-align: center; vertical-align: top\">2</td>\n",
       "        <td style=\"padding-left: 1em; padding-right: 1em; text-align: center; vertical-align: top\">电脑 创业</td>\n",
       "        <td style=\"padding-left: 1em; padding-right: 1em; text-align: center; vertical-align: top\">n v</td>\n",
       "        <td style=\"padding-left: 1em; padding-right: 1em; text-align: center; vertical-align: top\">SBV HED</td>\n",
       "        <td style=\"padding-left: 1em; padding-right: 1em; text-align: center; vertical-align: top\">4</td>\n",
       "        <td style=\"padding-left: 1em; padding-right: 1em; text-align: center; vertical-align: top\">2</td>\n",
       "    </tr>\n",
       "</table>\n",
       "[10 rows x 13 columns]<br/>\n",
       "</div>"
      ],
      "text/plain": [
       "Columns:\n",
       "\t﻿time\tstr\n",
       "\tuser_id\tstr\n",
       "\tquery\tstr\n",
       "\tresult_click\tstr\n",
       "\turl\tstr\n",
       "\tresult_and_click\tlist\n",
       "\tresult_rank\tint\n",
       "\tclick_rank\tint\n",
       "\twords\tstr\n",
       "\tposes\tstr\n",
       "\tparsers\tstr\n",
       "\tlen_words\tint\n",
       "\tlen_seg\tint\n",
       "\n",
       "Rows: 10\n",
       "\n",
       "Data:\n",
       "+----------+-------------------+--------------------+--------------+\n",
       "|  ﻿time   |      user_id      |       query        | result_click |\n",
       "+----------+-------------------+--------------------+--------------+\n",
       "| 00:00:00 |  2982199073774412 |    360安全卫士     |     8 3      |\n",
       "| 00:00:00 | 07594220010824798 |    哄抢救灾物资    |     1 1      |\n",
       "| 00:00:00 |  5228056822071097 |     75810部队      |     14 5     |\n",
       "| 00:00:00 |  6140463203615646 |        绳艺        |    62 36     |\n",
       "| 00:00:00 |  8561366108033201 |    汶川地震原因    |     3 2      |\n",
       "| 00:00:00 | 23908140386148713 |   莫衷一是的意思   |     1 2      |\n",
       "| 00:00:00 |  1797943298449139 | 星梦缘全集在线观看 |     8 5      |\n",
       "| 00:00:00 | 00717725924582846 |       闪字吧       |     1 2      |\n",
       "| 00:00:00 | 41416219018952116 | 霍震霆与朱玲玲照片 |     2 6      |\n",
       "| 00:00:00 |  9975666857142764 |      电脑创业      |     2 2      |\n",
       "+----------+-------------------+--------------------+--------------+\n",
       "+-------------------------------+------------------+-------------+------------+\n",
       "|              url              | result_and_click | result_rank | click_rank |\n",
       "+-------------------------------+------------------+-------------+------------+\n",
       "| download.it.com.cn/softweb... |      [8, 3]      |      8      |     3      |\n",
       "| news.21cn.com/social/daqia... |      [1, 1]      |      1      |     1      |\n",
       "| www.greatoo.com/greatoo_cn... |     [14, 5]      |      14     |     5      |\n",
       "| www.jd-cd.com/jd_opus/xx/2... |     [62, 36]     |      62     |     36     |\n",
       "|         www.big38.net         |      [3, 2]      |      3      |     2      |\n",
       "| www.chinabaike.com/article... |      [1, 2]      |      1      |     2      |\n",
       "| www.6wei.net/dianshiju/???... |      [8, 5]      |      8      |     5      |\n",
       "|        www.shanziba.com       |      [1, 2]      |      1      |     2      |\n",
       "| bbs.gouzai.cn/thread-69873... |      [2, 6]      |      2      |     6      |\n",
       "| ks.cn.yahoo.com/question/1... |      [2, 2]      |      2      |     2      |\n",
       "+-------------------------------+------------------+-------------+------------+\n",
       "+----------------------------+-------------+-------------------------+-----------+\n",
       "|           words            |    poses    |         parsers         | len_words |\n",
       "+----------------------------+-------------+-------------------------+-----------+\n",
       "|       360 安全 卫士        |    nz a n   |       ATT ATT HED       |     7     |\n",
       "|       哄抢 救灾 物资       |    v v n    |       HED ATT VOB       |     6     |\n",
       "|         75810 部队         |     m n     |         ATT HED         |     7     |\n",
       "|            绳艺            |      nh     |           HED           |     2     |\n",
       "|       汶川 地震 原因       |    ns n n   |       ATT ATT HED       |     6     |\n",
       "|      莫衷一是 的 意思      |    i u n    |       ATT RAD HED       |     7     |\n",
       "| 星 梦 缘 全集 在线 观看... | n n p n n v | ATT ATT ATT ATT SBV HED |     9     |\n",
       "|          闪字 吧           |     n u     |         HED RAD         |     3     |\n",
       "|   霍震霆 与 朱玲玲 照片    |  nh p nh n  |     ATT LAD COO HED     |     9     |\n",
       "|         电脑 创业          |     n v     |         SBV HED         |     4     |\n",
       "+----------------------------+-------------+-------------------------+-----------+\n",
       "+---------+\n",
       "| len_seg |\n",
       "+---------+\n",
       "|    3    |\n",
       "|    3    |\n",
       "|    2    |\n",
       "|    1    |\n",
       "|    3    |\n",
       "|    3    |\n",
       "|    6    |\n",
       "|    2    |\n",
       "|    4    |\n",
       "|    2    |\n",
       "+---------+\n",
       "[10 rows x 13 columns]"
      ]
     },
     "execution_count": 18,
     "metadata": {},
     "output_type": "execute_result"
    }
   ],
   "source": [
    "data.head()"
   ]
  },
  {
   "cell_type": "code",
   "execution_count": 16,
   "metadata": {
    "collapsed": false
   },
   "outputs": [
    {
     "data": {
      "text/html": [
       "<div style=\"max-height:1000px;max-width:1500px;overflow:auto;\"><table frame=\"box\" rules=\"cols\">\n",
       "    <tr>\n",
       "        <th style=\"padding-left: 1em; padding-right: 1em; text-align: center\">query</th>\n",
       "        <th style=\"padding-left: 1em; padding-right: 1em; text-align: center\">words</th>\n",
       "        <th style=\"padding-left: 1em; padding-right: 1em; text-align: center\">poses</th>\n",
       "        <th style=\"padding-left: 1em; padding-right: 1em; text-align: center\">parsers</th>\n",
       "    </tr>\n",
       "    <tr>\n",
       "        <td style=\"padding-left: 1em; padding-right: 1em; text-align: center; vertical-align: top\">360安全卫士</td>\n",
       "        <td style=\"padding-left: 1em; padding-right: 1em; text-align: center; vertical-align: top\">360 安全 卫士</td>\n",
       "        <td style=\"padding-left: 1em; padding-right: 1em; text-align: center; vertical-align: top\">nz a n</td>\n",
       "        <td style=\"padding-left: 1em; padding-right: 1em; text-align: center; vertical-align: top\">ATT ATT HED</td>\n",
       "    </tr>\n",
       "    <tr>\n",
       "        <td style=\"padding-left: 1em; padding-right: 1em; text-align: center; vertical-align: top\">哄抢救灾物资</td>\n",
       "        <td style=\"padding-left: 1em; padding-right: 1em; text-align: center; vertical-align: top\">哄抢 救灾 物资</td>\n",
       "        <td style=\"padding-left: 1em; padding-right: 1em; text-align: center; vertical-align: top\">v v n</td>\n",
       "        <td style=\"padding-left: 1em; padding-right: 1em; text-align: center; vertical-align: top\">HED ATT VOB</td>\n",
       "    </tr>\n",
       "    <tr>\n",
       "        <td style=\"padding-left: 1em; padding-right: 1em; text-align: center; vertical-align: top\">75810部队</td>\n",
       "        <td style=\"padding-left: 1em; padding-right: 1em; text-align: center; vertical-align: top\">75810 部队</td>\n",
       "        <td style=\"padding-left: 1em; padding-right: 1em; text-align: center; vertical-align: top\">m n</td>\n",
       "        <td style=\"padding-left: 1em; padding-right: 1em; text-align: center; vertical-align: top\">ATT HED</td>\n",
       "    </tr>\n",
       "    <tr>\n",
       "        <td style=\"padding-left: 1em; padding-right: 1em; text-align: center; vertical-align: top\">绳艺</td>\n",
       "        <td style=\"padding-left: 1em; padding-right: 1em; text-align: center; vertical-align: top\">绳艺</td>\n",
       "        <td style=\"padding-left: 1em; padding-right: 1em; text-align: center; vertical-align: top\">nh</td>\n",
       "        <td style=\"padding-left: 1em; padding-right: 1em; text-align: center; vertical-align: top\">HED</td>\n",
       "    </tr>\n",
       "    <tr>\n",
       "        <td style=\"padding-left: 1em; padding-right: 1em; text-align: center; vertical-align: top\">汶川地震原因</td>\n",
       "        <td style=\"padding-left: 1em; padding-right: 1em; text-align: center; vertical-align: top\">汶川 地震 原因</td>\n",
       "        <td style=\"padding-left: 1em; padding-right: 1em; text-align: center; vertical-align: top\">ns n n</td>\n",
       "        <td style=\"padding-left: 1em; padding-right: 1em; text-align: center; vertical-align: top\">ATT ATT HED</td>\n",
       "    </tr>\n",
       "    <tr>\n",
       "        <td style=\"padding-left: 1em; padding-right: 1em; text-align: center; vertical-align: top\">莫衷一是的意思</td>\n",
       "        <td style=\"padding-left: 1em; padding-right: 1em; text-align: center; vertical-align: top\">莫衷一是 的 意思</td>\n",
       "        <td style=\"padding-left: 1em; padding-right: 1em; text-align: center; vertical-align: top\">i u n</td>\n",
       "        <td style=\"padding-left: 1em; padding-right: 1em; text-align: center; vertical-align: top\">ATT RAD HED</td>\n",
       "    </tr>\n",
       "    <tr>\n",
       "        <td style=\"padding-left: 1em; padding-right: 1em; text-align: center; vertical-align: top\">星梦缘全集在线观�<br>�� ...</td>\n",
       "        <td style=\"padding-left: 1em; padding-right: 1em; text-align: center; vertical-align: top\">星 梦 缘 全集 在线<br>观看 ...</td>\n",
       "        <td style=\"padding-left: 1em; padding-right: 1em; text-align: center; vertical-align: top\">n n p n n v</td>\n",
       "        <td style=\"padding-left: 1em; padding-right: 1em; text-align: center; vertical-align: top\">ATT ATT ATT ATT SBV HED</td>\n",
       "    </tr>\n",
       "    <tr>\n",
       "        <td style=\"padding-left: 1em; padding-right: 1em; text-align: center; vertical-align: top\">闪字吧</td>\n",
       "        <td style=\"padding-left: 1em; padding-right: 1em; text-align: center; vertical-align: top\">闪字 吧</td>\n",
       "        <td style=\"padding-left: 1em; padding-right: 1em; text-align: center; vertical-align: top\">n u</td>\n",
       "        <td style=\"padding-left: 1em; padding-right: 1em; text-align: center; vertical-align: top\">HED RAD</td>\n",
       "    </tr>\n",
       "    <tr>\n",
       "        <td style=\"padding-left: 1em; padding-right: 1em; text-align: center; vertical-align: top\">霍震霆与朱玲玲照�<br>�� ...</td>\n",
       "        <td style=\"padding-left: 1em; padding-right: 1em; text-align: center; vertical-align: top\">霍震霆 与 朱玲玲<br>照片 ...</td>\n",
       "        <td style=\"padding-left: 1em; padding-right: 1em; text-align: center; vertical-align: top\">nh p nh n</td>\n",
       "        <td style=\"padding-left: 1em; padding-right: 1em; text-align: center; vertical-align: top\">ATT LAD COO HED</td>\n",
       "    </tr>\n",
       "    <tr>\n",
       "        <td style=\"padding-left: 1em; padding-right: 1em; text-align: center; vertical-align: top\">电脑创业</td>\n",
       "        <td style=\"padding-left: 1em; padding-right: 1em; text-align: center; vertical-align: top\">电脑 创业</td>\n",
       "        <td style=\"padding-left: 1em; padding-right: 1em; text-align: center; vertical-align: top\">n v</td>\n",
       "        <td style=\"padding-left: 1em; padding-right: 1em; text-align: center; vertical-align: top\">SBV HED</td>\n",
       "    </tr>\n",
       "</table>\n",
       "[10000 rows x 4 columns]<br/>Note: Only the head of the SFrame is printed.<br/>You can use print_rows(num_rows=m, num_columns=n) to print more rows and columns.\n",
       "</div>"
      ],
      "text/plain": [
       "Columns:\n",
       "\tquery\tstr\n",
       "\twords\tstr\n",
       "\tposes\tstr\n",
       "\tparsers\tstr\n",
       "\n",
       "Rows: 10000\n",
       "\n",
       "Data:\n",
       "+--------------------+----------------------------+-------------+\n",
       "|       query        |           words            |    poses    |\n",
       "+--------------------+----------------------------+-------------+\n",
       "|    360安全卫士     |       360 安全 卫士        |    nz a n   |\n",
       "|    哄抢救灾物资    |       哄抢 救灾 物资       |    v v n    |\n",
       "|     75810部队      |         75810 部队         |     m n     |\n",
       "|        绳艺        |            绳艺            |      nh     |\n",
       "|    汶川地震原因    |       汶川 地震 原因       |    ns n n   |\n",
       "|   莫衷一是的意思   |      莫衷一是 的 意思      |    i u n    |\n",
       "| 星梦缘全集在线观看 | 星 梦 缘 全集 在线 观看... | n n p n n v |\n",
       "|       闪字吧       |          闪字 吧           |     n u     |\n",
       "| 霍震霆与朱玲玲照片 |   霍震霆 与 朱玲玲 照片    |  nh p nh n  |\n",
       "|      电脑创业      |         电脑 创业          |     n v     |\n",
       "+--------------------+----------------------------+-------------+\n",
       "+-------------------------+\n",
       "|         parsers         |\n",
       "+-------------------------+\n",
       "|       ATT ATT HED       |\n",
       "|       HED ATT VOB       |\n",
       "|         ATT HED         |\n",
       "|           HED           |\n",
       "|       ATT ATT HED       |\n",
       "|       ATT RAD HED       |\n",
       "| ATT ATT ATT ATT SBV HED |\n",
       "|         HED RAD         |\n",
       "|     ATT LAD COO HED     |\n",
       "|         SBV HED         |\n",
       "+-------------------------+\n",
       "[10000 rows x 4 columns]\n",
       "Note: Only the head of the SFrame is printed.\n",
       "You can use print_rows(num_rows=m, num_columns=n) to print more rows and columns."
      ]
     },
     "execution_count": 16,
     "metadata": {},
     "output_type": "execute_result"
    }
   ],
   "source": [
    "data['query', 'words', 'poses', 'parsers']"
   ]
  },
  {
   "cell_type": "code",
   "execution_count": 17,
   "metadata": {
    "collapsed": true
   },
   "outputs": [],
   "source": [
    "data.save('Sogou1W_ltp1.csv')"
   ]
  },
  {
   "cell_type": "markdown",
   "metadata": {},
   "source": [
    "#### 3.1.2 Open Directory Project(ODP) 体系"
   ]
  },
  {
   "cell_type": "markdown",
   "metadata": {},
   "source": [
    "<img src='odp.png' align='left'>"
   ]
  },
  {
   "cell_type": "code",
   "execution_count": 18,
   "metadata": {
    "collapsed": false
   },
   "outputs": [
    {
     "data": {
      "text/html": [
       "<pre>Finished parsing file E:\\Python\\2Graduation-Project\\ODP.csv</pre>"
      ],
      "text/plain": [
       "Finished parsing file E:\\Python\\2Graduation-Project\\ODP.csv"
      ]
     },
     "metadata": {},
     "output_type": "display_data"
    },
    {
     "data": {
      "text/html": [
       "<pre>Parsing completed. Parsed 100 lines in 0.365021 secs.</pre>"
      ],
      "text/plain": [
       "Parsing completed. Parsed 100 lines in 0.365021 secs."
      ]
     },
     "metadata": {},
     "output_type": "display_data"
    },
    {
     "name": "stdout",
     "output_type": "stream",
     "text": [
      "------------------------------------------------------\n",
      "Inferred types from first 100 line(s) of file as \n",
      "column_type_hints=[str,str,str,str]\n",
      "If parsing fails due to incorrect types, you can correct\n",
      "the inferred type list above and pass it to read_csv in\n",
      "the column_type_hints argument\n",
      "------------------------------------------------------\n"
     ]
    },
    {
     "data": {
      "text/html": [
       "<pre>Finished parsing file E:\\Python\\2Graduation-Project\\ODP.csv</pre>"
      ],
      "text/plain": [
       "Finished parsing file E:\\Python\\2Graduation-Project\\ODP.csv"
      ]
     },
     "metadata": {},
     "output_type": "display_data"
    },
    {
     "data": {
      "text/html": [
       "<pre>Parsing completed. Parsed 16248 lines in 0.060004 secs.</pre>"
      ],
      "text/plain": [
       "Parsing completed. Parsed 16248 lines in 0.060004 secs."
      ]
     },
     "metadata": {},
     "output_type": "display_data"
    }
   ],
   "source": [
    "odp = graphlab.SFrame.read_csv('ODP.csv', delimiter=',', header=True)"
   ]
  },
  {
   "cell_type": "code",
   "execution_count": 19,
   "metadata": {
    "collapsed": false,
    "scrolled": true
   },
   "outputs": [
    {
     "data": {
      "text/html": [
       "<div style=\"max-height:1000px;max-width:1500px;overflow:auto;\"><table frame=\"box\" rules=\"cols\">\n",
       "    <tr>\n",
       "        <th style=\"padding-left: 1em; padding-right: 1em; text-align: center\">url</th>\n",
       "        <th style=\"padding-left: 1em; padding-right: 1em; text-align: center\">name</th>\n",
       "        <th style=\"padding-left: 1em; padding-right: 1em; text-align: center\">label</th>\n",
       "        <th style=\"padding-left: 1em; padding-right: 1em; text-align: center\">url_new</th>\n",
       "    </tr>\n",
       "    <tr>\n",
       "        <td style=\"padding-left: 1em; padding-right: 1em; text-align: center; vertical-align: top\">http://news.jmu.edu.cn/</td>\n",
       "        <td style=\"padding-left: 1em; padding-right: 1em; text-align: center; vertical-align: top\">集美大学新闻网</td>\n",
       "        <td style=\"padding-left: 1em; padding-right: 1em; text-align: center; vertical-align: top\">大专院校</td>\n",
       "        <td style=\"padding-left: 1em; padding-right: 1em; text-align: center; vertical-align: top\">news.jmu.edu.cn/</td>\n",
       "    </tr>\n",
       "    <tr>\n",
       "        <td style=\"padding-left: 1em; padding-right: 1em; text-align: center; vertical-align: top\">http://jjxj.swufe.edu.cn/</td>\n",
       "        <td style=\"padding-left: 1em; padding-right: 1em; text-align: center; vertical-align: top\">经济学家</td>\n",
       "        <td style=\"padding-left: 1em; padding-right: 1em; text-align: center; vertical-align: top\">出版物</td>\n",
       "        <td style=\"padding-left: 1em; padding-right: 1em; text-align: center; vertical-align: top\">jjxj.swufe.edu.cn/</td>\n",
       "    </tr>\n",
       "    <tr>\n",
       "        <td style=\"padding-left: 1em; padding-right: 1em; text-align: center; vertical-align: top\">http://www.jsacd.gov.cn/</td>\n",
       "        <td style=\"padding-left: 1em; padding-right: 1em; text-align: center; vertical-align: top\">江苏省农业资源开�<br>��局 ...</td>\n",
       "        <td style=\"padding-left: 1em; padding-right: 1em; text-align: center; vertical-align: top\">江苏</td>\n",
       "        <td style=\"padding-left: 1em; padding-right: 1em; text-align: center; vertical-align: top\">www.jsacd.gov.cn/</td>\n",
       "    </tr>\n",
       "    <tr>\n",
       "        <td style=\"padding-left: 1em; padding-right: 1em; text-align: center; vertical-align: top\">http://www.yndaily.com/</td>\n",
       "        <td style=\"padding-left: 1em; padding-right: 1em; text-align: center; vertical-align: top\">云南日报网</td>\n",
       "        <td style=\"padding-left: 1em; padding-right: 1em; text-align: center; vertical-align: top\">地区</td>\n",
       "        <td style=\"padding-left: 1em; padding-right: 1em; text-align: center; vertical-align: top\">www.yndaily.com/</td>\n",
       "    </tr>\n",
       "    <tr>\n",
       "        <td style=\"padding-left: 1em; padding-right: 1em; text-align: center; vertical-align: top\">http://www.panda.org.cn/</td>\n",
       "        <td style=\"padding-left: 1em; padding-right: 1em; text-align: center; vertical-align: top\">成都大熊猫繁育研�<br>��基地 ...</td>\n",
       "        <td style=\"padding-left: 1em; padding-right: 1em; text-align: center; vertical-align: top\">熊猫</td>\n",
       "        <td style=\"padding-left: 1em; padding-right: 1em; text-align: center; vertical-align: top\">www.panda.org.cn/</td>\n",
       "    </tr>\n",
       "    <tr>\n",
       "        <td style=\"padding-left: 1em; padding-right: 1em; text-align: center; vertical-align: top\">http://www.fjinfo.gov.cn/</td>\n",
       "        <td style=\"padding-left: 1em; padding-right: 1em; text-align: center; vertical-align: top\">福建科技信息</td>\n",
       "        <td style=\"padding-left: 1em; padding-right: 1em; text-align: center; vertical-align: top\">福建</td>\n",
       "        <td style=\"padding-left: 1em; padding-right: 1em; text-align: center; vertical-align: top\">www.fjinfo.gov.cn/</td>\n",
       "    </tr>\n",
       "    <tr>\n",
       "        <td style=\"padding-left: 1em; padding-right: 1em; text-align: center; vertical-align: top\">http://www.klxuexi.com/</td>\n",
       "        <td style=\"padding-left: 1em; padding-right: 1em; text-align: center; vertical-align: top\">快乐学习教育科技�<br>��团 ...</td>\n",
       "        <td style=\"padding-left: 1em; padding-right: 1em; text-align: center; vertical-align: top\">上海</td>\n",
       "        <td style=\"padding-left: 1em; padding-right: 1em; text-align: center; vertical-align: top\">www.klxuexi.com/</td>\n",
       "    </tr>\n",
       "    <tr>\n",
       "        <td style=\"padding-left: 1em; padding-right: 1em; text-align: center; vertical-align: top\">http://www.haier.com/cn/</td>\n",
       "        <td style=\"padding-left: 1em; padding-right: 1em; text-align: center; vertical-align: top\">海尔集团</td>\n",
       "        <td style=\"padding-left: 1em; padding-right: 1em; text-align: center; vertical-align: top\">消费电子产品</td>\n",
       "        <td style=\"padding-left: 1em; padding-right: 1em; text-align: center; vertical-align: top\">www.haier.com/cn/</td>\n",
       "    </tr>\n",
       "    <tr>\n",
       "        <td style=\"padding-left: 1em; padding-right: 1em; text-align: center; vertical-align: top\">http://www.jstvu.edu.cn/</td>\n",
       "        <td style=\"padding-left: 1em; padding-right: 1em; text-align: center; vertical-align: top\">江苏广播电视大学</td>\n",
       "        <td style=\"padding-left: 1em; padding-right: 1em; text-align: center; vertical-align: top\">江苏</td>\n",
       "        <td style=\"padding-left: 1em; padding-right: 1em; text-align: center; vertical-align: top\">www.jstvu.edu.cn/</td>\n",
       "    </tr>\n",
       "    <tr>\n",
       "        <td style=\"padding-left: 1em; padding-right: 1em; text-align: center; vertical-align: top\">http://www.gxtc.edu.cn/</td>\n",
       "        <td style=\"padding-left: 1em; padding-right: 1em; text-align: center; vertical-align: top\">广西师范学院</td>\n",
       "        <td style=\"padding-left: 1em; padding-right: 1em; text-align: center; vertical-align: top\">大专院校</td>\n",
       "        <td style=\"padding-left: 1em; padding-right: 1em; text-align: center; vertical-align: top\">www.gxtc.edu.cn/</td>\n",
       "    </tr>\n",
       "</table>\n",
       "[10 rows x 4 columns]<br/>\n",
       "</div>"
      ],
      "text/plain": [
       "Columns:\n",
       "\turl\tstr\n",
       "\tname\tstr\n",
       "\tlabel\tstr\n",
       "\turl_new\tstr\n",
       "\n",
       "Rows: 10\n",
       "\n",
       "Data:\n",
       "+---------------------------+---------------------------+--------------+\n",
       "|            url            |            name           |    label     |\n",
       "+---------------------------+---------------------------+--------------+\n",
       "|  http://news.jmu.edu.cn/  |       集美大学新闻网      |   大专院校   |\n",
       "| http://jjxj.swufe.edu.cn/ |          经济学家         |    出版物    |\n",
       "|  http://www.jsacd.gov.cn/ |    江苏省农业资源开发局   |     江苏     |\n",
       "|  http://www.yndaily.com/  |         云南日报网        |     地区     |\n",
       "|  http://www.panda.org.cn/ | 成都大熊猫繁育研究基地... |     熊猫     |\n",
       "| http://www.fjinfo.gov.cn/ |        福建科技信息       |     福建     |\n",
       "|  http://www.klxuexi.com/  |    快乐学习教育科技集团   |     上海     |\n",
       "|  http://www.haier.com/cn/ |          海尔集团         | 消费电子产品 |\n",
       "|  http://www.jstvu.edu.cn/ |      江苏广播电视大学     |     江苏     |\n",
       "|  http://www.gxtc.edu.cn/  |        广西师范学院       |   大专院校   |\n",
       "+---------------------------+---------------------------+--------------+\n",
       "+--------------------+\n",
       "|      url_new       |\n",
       "+--------------------+\n",
       "|  news.jmu.edu.cn/  |\n",
       "| jjxj.swufe.edu.cn/ |\n",
       "| www.jsacd.gov.cn/  |\n",
       "|  www.yndaily.com/  |\n",
       "| www.panda.org.cn/  |\n",
       "| www.fjinfo.gov.cn/ |\n",
       "|  www.klxuexi.com/  |\n",
       "| www.haier.com/cn/  |\n",
       "| www.jstvu.edu.cn/  |\n",
       "|  www.gxtc.edu.cn/  |\n",
       "+--------------------+\n",
       "[10 rows x 4 columns]"
      ]
     },
     "execution_count": 19,
     "metadata": {},
     "output_type": "execute_result"
    }
   ],
   "source": [
    "odp.head()"
   ]
  },
  {
   "cell_type": "code",
   "execution_count": 20,
   "metadata": {
    "collapsed": true
   },
   "outputs": [],
   "source": [
    "def remove_head(url):\n",
    "    return string.replace(url, 'http://', '')"
   ]
  },
  {
   "cell_type": "code",
   "execution_count": 21,
   "metadata": {
    "collapsed": true
   },
   "outputs": [],
   "source": [
    "def remove_tail(url):\n",
    "    if url[-1] == '/':\n",
    "        return url[:-1]\n",
    "    else:\n",
    "        return url[:]"
   ]
  },
  {
   "cell_type": "code",
   "execution_count": 22,
   "metadata": {
    "collapsed": true
   },
   "outputs": [],
   "source": [
    "odp['url_new'] = odp['url'].apply(remove_head).apply(remove_tail)"
   ]
  },
  {
   "cell_type": "code",
   "execution_count": 23,
   "metadata": {
    "collapsed": false
   },
   "outputs": [
    {
     "data": {
      "text/html": [
       "<div style=\"max-height:1000px;max-width:1500px;overflow:auto;\"><table frame=\"box\" rules=\"cols\">\n",
       "    <tr>\n",
       "        <th style=\"padding-left: 1em; padding-right: 1em; text-align: center\">url</th>\n",
       "        <th style=\"padding-left: 1em; padding-right: 1em; text-align: center\">name</th>\n",
       "        <th style=\"padding-left: 1em; padding-right: 1em; text-align: center\">label</th>\n",
       "        <th style=\"padding-left: 1em; padding-right: 1em; text-align: center\">url_new</th>\n",
       "    </tr>\n",
       "    <tr>\n",
       "        <td style=\"padding-left: 1em; padding-right: 1em; text-align: center; vertical-align: top\">http://news.jmu.edu.cn/</td>\n",
       "        <td style=\"padding-left: 1em; padding-right: 1em; text-align: center; vertical-align: top\">集美大学新闻网</td>\n",
       "        <td style=\"padding-left: 1em; padding-right: 1em; text-align: center; vertical-align: top\">大专院校</td>\n",
       "        <td style=\"padding-left: 1em; padding-right: 1em; text-align: center; vertical-align: top\">news.jmu.edu.cn</td>\n",
       "    </tr>\n",
       "    <tr>\n",
       "        <td style=\"padding-left: 1em; padding-right: 1em; text-align: center; vertical-align: top\">http://jjxj.swufe.edu.cn/</td>\n",
       "        <td style=\"padding-left: 1em; padding-right: 1em; text-align: center; vertical-align: top\">经济学家</td>\n",
       "        <td style=\"padding-left: 1em; padding-right: 1em; text-align: center; vertical-align: top\">出版物</td>\n",
       "        <td style=\"padding-left: 1em; padding-right: 1em; text-align: center; vertical-align: top\">jjxj.swufe.edu.cn</td>\n",
       "    </tr>\n",
       "    <tr>\n",
       "        <td style=\"padding-left: 1em; padding-right: 1em; text-align: center; vertical-align: top\">http://www.jsacd.gov.cn/</td>\n",
       "        <td style=\"padding-left: 1em; padding-right: 1em; text-align: center; vertical-align: top\">江苏省农业资源开�<br>��局 ...</td>\n",
       "        <td style=\"padding-left: 1em; padding-right: 1em; text-align: center; vertical-align: top\">江苏</td>\n",
       "        <td style=\"padding-left: 1em; padding-right: 1em; text-align: center; vertical-align: top\">www.jsacd.gov.cn</td>\n",
       "    </tr>\n",
       "    <tr>\n",
       "        <td style=\"padding-left: 1em; padding-right: 1em; text-align: center; vertical-align: top\">http://www.yndaily.com/</td>\n",
       "        <td style=\"padding-left: 1em; padding-right: 1em; text-align: center; vertical-align: top\">云南日报网</td>\n",
       "        <td style=\"padding-left: 1em; padding-right: 1em; text-align: center; vertical-align: top\">地区</td>\n",
       "        <td style=\"padding-left: 1em; padding-right: 1em; text-align: center; vertical-align: top\">www.yndaily.com</td>\n",
       "    </tr>\n",
       "    <tr>\n",
       "        <td style=\"padding-left: 1em; padding-right: 1em; text-align: center; vertical-align: top\">http://www.panda.org.cn/</td>\n",
       "        <td style=\"padding-left: 1em; padding-right: 1em; text-align: center; vertical-align: top\">成都大熊猫繁育研�<br>��基地 ...</td>\n",
       "        <td style=\"padding-left: 1em; padding-right: 1em; text-align: center; vertical-align: top\">熊猫</td>\n",
       "        <td style=\"padding-left: 1em; padding-right: 1em; text-align: center; vertical-align: top\">www.panda.org.cn</td>\n",
       "    </tr>\n",
       "    <tr>\n",
       "        <td style=\"padding-left: 1em; padding-right: 1em; text-align: center; vertical-align: top\">http://www.fjinfo.gov.cn/</td>\n",
       "        <td style=\"padding-left: 1em; padding-right: 1em; text-align: center; vertical-align: top\">福建科技信息</td>\n",
       "        <td style=\"padding-left: 1em; padding-right: 1em; text-align: center; vertical-align: top\">福建</td>\n",
       "        <td style=\"padding-left: 1em; padding-right: 1em; text-align: center; vertical-align: top\">www.fjinfo.gov.cn</td>\n",
       "    </tr>\n",
       "    <tr>\n",
       "        <td style=\"padding-left: 1em; padding-right: 1em; text-align: center; vertical-align: top\">http://www.klxuexi.com/</td>\n",
       "        <td style=\"padding-left: 1em; padding-right: 1em; text-align: center; vertical-align: top\">快乐学习教育科技�<br>��团 ...</td>\n",
       "        <td style=\"padding-left: 1em; padding-right: 1em; text-align: center; vertical-align: top\">上海</td>\n",
       "        <td style=\"padding-left: 1em; padding-right: 1em; text-align: center; vertical-align: top\">www.klxuexi.com</td>\n",
       "    </tr>\n",
       "    <tr>\n",
       "        <td style=\"padding-left: 1em; padding-right: 1em; text-align: center; vertical-align: top\">http://www.haier.com/cn/</td>\n",
       "        <td style=\"padding-left: 1em; padding-right: 1em; text-align: center; vertical-align: top\">海尔集团</td>\n",
       "        <td style=\"padding-left: 1em; padding-right: 1em; text-align: center; vertical-align: top\">消费电子产品</td>\n",
       "        <td style=\"padding-left: 1em; padding-right: 1em; text-align: center; vertical-align: top\">www.haier.com/cn</td>\n",
       "    </tr>\n",
       "    <tr>\n",
       "        <td style=\"padding-left: 1em; padding-right: 1em; text-align: center; vertical-align: top\">http://www.jstvu.edu.cn/</td>\n",
       "        <td style=\"padding-left: 1em; padding-right: 1em; text-align: center; vertical-align: top\">江苏广播电视大学</td>\n",
       "        <td style=\"padding-left: 1em; padding-right: 1em; text-align: center; vertical-align: top\">江苏</td>\n",
       "        <td style=\"padding-left: 1em; padding-right: 1em; text-align: center; vertical-align: top\">www.jstvu.edu.cn</td>\n",
       "    </tr>\n",
       "    <tr>\n",
       "        <td style=\"padding-left: 1em; padding-right: 1em; text-align: center; vertical-align: top\">http://www.gxtc.edu.cn/</td>\n",
       "        <td style=\"padding-left: 1em; padding-right: 1em; text-align: center; vertical-align: top\">广西师范学院</td>\n",
       "        <td style=\"padding-left: 1em; padding-right: 1em; text-align: center; vertical-align: top\">大专院校</td>\n",
       "        <td style=\"padding-left: 1em; padding-right: 1em; text-align: center; vertical-align: top\">www.gxtc.edu.cn</td>\n",
       "    </tr>\n",
       "</table>\n",
       "[10 rows x 4 columns]<br/>\n",
       "</div>"
      ],
      "text/plain": [
       "Columns:\n",
       "\turl\tstr\n",
       "\tname\tstr\n",
       "\tlabel\tstr\n",
       "\turl_new\tstr\n",
       "\n",
       "Rows: 10\n",
       "\n",
       "Data:\n",
       "+---------------------------+---------------------------+--------------+\n",
       "|            url            |            name           |    label     |\n",
       "+---------------------------+---------------------------+--------------+\n",
       "|  http://news.jmu.edu.cn/  |       集美大学新闻网      |   大专院校   |\n",
       "| http://jjxj.swufe.edu.cn/ |          经济学家         |    出版物    |\n",
       "|  http://www.jsacd.gov.cn/ |    江苏省农业资源开发局   |     江苏     |\n",
       "|  http://www.yndaily.com/  |         云南日报网        |     地区     |\n",
       "|  http://www.panda.org.cn/ | 成都大熊猫繁育研究基地... |     熊猫     |\n",
       "| http://www.fjinfo.gov.cn/ |        福建科技信息       |     福建     |\n",
       "|  http://www.klxuexi.com/  |    快乐学习教育科技集团   |     上海     |\n",
       "|  http://www.haier.com/cn/ |          海尔集团         | 消费电子产品 |\n",
       "|  http://www.jstvu.edu.cn/ |      江苏广播电视大学     |     江苏     |\n",
       "|  http://www.gxtc.edu.cn/  |        广西师范学院       |   大专院校   |\n",
       "+---------------------------+---------------------------+--------------+\n",
       "+-------------------+\n",
       "|      url_new      |\n",
       "+-------------------+\n",
       "|  news.jmu.edu.cn  |\n",
       "| jjxj.swufe.edu.cn |\n",
       "|  www.jsacd.gov.cn |\n",
       "|  www.yndaily.com  |\n",
       "|  www.panda.org.cn |\n",
       "| www.fjinfo.gov.cn |\n",
       "|  www.klxuexi.com  |\n",
       "|  www.haier.com/cn |\n",
       "|  www.jstvu.edu.cn |\n",
       "|  www.gxtc.edu.cn  |\n",
       "+-------------------+\n",
       "[10 rows x 4 columns]"
      ]
     },
     "execution_count": 23,
     "metadata": {},
     "output_type": "execute_result"
    }
   ],
   "source": [
    "odp.head()"
   ]
  },
  {
   "cell_type": "markdown",
   "metadata": {},
   "source": [
    "### 3.2 构建新的类目体系以标注查询日志数据"
   ]
  },
  {
   "cell_type": "markdown",
   "metadata": {},
   "source": [
    "#### 3.2.1 将ODP主题类目体系映射到Rose类目体系"
   ]
  },
  {
   "cell_type": "markdown",
   "metadata": {},
   "source": [
    "* Rose类目体系"
   ]
  },
  {
   "cell_type": "markdown",
   "metadata": {},
   "source": [
    "<img src='rose.png' align='left'>"
   ]
  },
  {
   "cell_type": "markdown",
   "metadata": {},
   "source": [
    "&nbsp;&nbsp;&nbsp;&nbsp;&nbsp;&nbsp;&nbsp;通过对Rose分类体系的分析，本文将ODP主题类目体系映射到Rose类目体系的三大类即*信息类* 、*资源类* 和*导航类* 中，主要是*信息类* 和*导航类*。然后对查询日志数据进行标注。"
   ]
  },
  {
   "cell_type": "markdown",
   "metadata": {},
   "source": [
    "* **导航类**：本文将日志数据中url仅能匹配到web服务器名称的标记为导航类。如：www.nefu.edu.cn\n",
    "* **资源类**：本文首先利用启发式的方法，把日志数据中url能匹配到download/game/music/movie/book等字符的标记为资源类。然后利用上述的分析，人工筛选出ODP中属于资源类的url，构建资源类url库*resource*，当日志数据中的url可以匹配到*resource*时，标记为资源类。例如：ODP中的购物类、游戏类等都属于资源类。\n",
    "* **信息类**：将其他不属于以上两类的标注为信息类。"
   ]
  },
  {
   "cell_type": "code",
   "execution_count": 24,
   "metadata": {
    "collapsed": true
   },
   "outputs": [],
   "source": [
    "r = ['二手货','交通工具','休闲','体育用品','健康饮食','健康器材','在线销售','化妆美容','出版物','办公用品','化妆美容','古董与收藏','图书',\\\n",
    "     '婴幼儿用品','宠物','家具','家居与园艺','批发','日用商品','服装饰品','消费电子产品','图书','玩具与游戏','杂志','音像制品','化妆品',\\\n",
    "     '珠宝首饰','礼品','视觉艺术','计算机','食品','鲜花','精油香氛','分类','拍卖','目录','大学出版社','家具','家居装饰','电器','体育用品',\\\n",
    "    '乒乓球','渔具','飞镖','家具','文具','办公室服务','购物','批发与分销','烟草','机动车','珠宝首饰','眼镜','行李与包','食品','女装','童装',\\\n",
    "     '鞋帽','饰品','电子通讯','数字卡','虚拟物品交易','摄影','画','饮料','茶','葡萄酒',\\\n",
    "    '卡牌游戏','投币式游戏','棋类游戏','牌类游戏','电子游戏','电脑游戏','益智游戏','网络游戏','角色扮演','赌博',\\\n",
    "        '中国象棋','军棋','围棋','国际象棋','连珠','黑白棋','组织','休闲','体育','冒险','动作','射击','格斗','模拟','益智','策略','网络游戏',\\\n",
    "        '角色扮演','赛车','音乐与舞蹈','射击','格斗','网页游戏','魔兽争霸','魔兽世界','大型多人在线','网页游戏','角色扮演',\\\n",
    "       '网络泥巴','角色扮演','冒险岛','天龙八部','永恒之塔','魔兽世界','手持平台','游戏机平台','网页游戏','计算机平台','手机','新闻与评论',\\\n",
    "        '世嘉','任天堂','微软','索尼','下载','下载','会议展览','作弊与攻略','家族与公会','开发商与发布商','新闻与评论',\\\n",
    "        '电子竞技','聊天与论坛','麻将','体育','彩票','赌场']"
   ]
  },
  {
   "cell_type": "code",
   "execution_count": 25,
   "metadata": {
    "collapsed": true
   },
   "outputs": [],
   "source": [
    "f = open('resource_show.csv', 'a')"
   ]
  },
  {
   "cell_type": "code",
   "execution_count": 26,
   "metadata": {
    "collapsed": true
   },
   "outputs": [],
   "source": [
    "for i in r:\n",
    "    for url in odp[odp['label'] == i]['url_new']:\n",
    "        f.writelines(url+'\\n')\n",
    "f.close()"
   ]
  },
  {
   "cell_type": "code",
   "execution_count": 27,
   "metadata": {
    "collapsed": false
   },
   "outputs": [
    {
     "data": {
      "text/html": [
       "<pre>Finished parsing file E:\\Python\\2Graduation-Project\\resource_show.csv</pre>"
      ],
      "text/plain": [
       "Finished parsing file E:\\Python\\2Graduation-Project\\resource_show.csv"
      ]
     },
     "metadata": {},
     "output_type": "display_data"
    },
    {
     "data": {
      "text/html": [
       "<pre>Parsing completed. Parsed 100 lines in 0.028002 secs.</pre>"
      ],
      "text/plain": [
       "Parsing completed. Parsed 100 lines in 0.028002 secs."
      ]
     },
     "metadata": {},
     "output_type": "display_data"
    },
    {
     "name": "stdout",
     "output_type": "stream",
     "text": [
      "------------------------------------------------------\n",
      "Inferred types from first 100 line(s) of file as \n",
      "column_type_hints=[str]\n",
      "If parsing fails due to incorrect types, you can correct\n",
      "the inferred type list above and pass it to read_csv in\n",
      "the column_type_hints argument\n",
      "------------------------------------------------------\n"
     ]
    },
    {
     "data": {
      "text/html": [
       "<pre>Finished parsing file E:\\Python\\2Graduation-Project\\resource_show.csv</pre>"
      ],
      "text/plain": [
       "Finished parsing file E:\\Python\\2Graduation-Project\\resource_show.csv"
      ]
     },
     "metadata": {},
     "output_type": "display_data"
    },
    {
     "data": {
      "text/html": [
       "<pre>Parsing completed. Parsed 4045 lines in 0.024001 secs.</pre>"
      ],
      "text/plain": [
       "Parsing completed. Parsed 4045 lines in 0.024001 secs."
      ]
     },
     "metadata": {},
     "output_type": "display_data"
    }
   ],
   "source": [
    "resource = graphlab.SFrame.read_csv('resource_show.csv',header=False)"
   ]
  },
  {
   "cell_type": "code",
   "execution_count": 28,
   "metadata": {
    "collapsed": true
   },
   "outputs": [],
   "source": [
    "resource.unique().save('resource_show.csv')"
   ]
  },
  {
   "cell_type": "code",
   "execution_count": 19,
   "metadata": {
    "collapsed": false
   },
   "outputs": [
    {
     "data": {
      "text/html": [
       "<pre>Finished parsing file E:\\Python\\2Graduation-Project\\resources.csv</pre>"
      ],
      "text/plain": [
       "Finished parsing file E:\\Python\\2Graduation-Project\\resources.csv"
      ]
     },
     "metadata": {},
     "output_type": "display_data"
    },
    {
     "data": {
      "text/html": [
       "<pre>Parsing completed. Parsed 100 lines in 0.130007 secs.</pre>"
      ],
      "text/plain": [
       "Parsing completed. Parsed 100 lines in 0.130007 secs."
      ]
     },
     "metadata": {},
     "output_type": "display_data"
    },
    {
     "name": "stdout",
     "output_type": "stream",
     "text": [
      "------------------------------------------------------\n",
      "Inferred types from first 100 line(s) of file as \n",
      "column_type_hints=[str]\n",
      "If parsing fails due to incorrect types, you can correct\n",
      "the inferred type list above and pass it to read_csv in\n",
      "the column_type_hints argument\n",
      "------------------------------------------------------\n"
     ]
    },
    {
     "data": {
      "text/html": [
       "<pre>Finished parsing file E:\\Python\\2Graduation-Project\\resources.csv</pre>"
      ],
      "text/plain": [
       "Finished parsing file E:\\Python\\2Graduation-Project\\resources.csv"
      ]
     },
     "metadata": {},
     "output_type": "display_data"
    },
    {
     "data": {
      "text/html": [
       "<pre>Parsing completed. Parsed 2383 lines in 0.020002 secs.</pre>"
      ],
      "text/plain": [
       "Parsing completed. Parsed 2383 lines in 0.020002 secs."
      ]
     },
     "metadata": {},
     "output_type": "display_data"
    }
   ],
   "source": [
    "resource = graphlab.SFrame.read_csv('resources.csv',header=True)"
   ]
  },
  {
   "cell_type": "code",
   "execution_count": 20,
   "metadata": {
    "collapsed": false
   },
   "outputs": [
    {
     "data": {
      "text/html": [
       "<div style=\"max-height:1000px;max-width:1500px;overflow:auto;\"><table frame=\"box\" rules=\"cols\">\n",
       "    <tr>\n",
       "        <th style=\"padding-left: 1em; padding-right: 1em; text-align: center\">url</th>\n",
       "    </tr>\n",
       "    <tr>\n",
       "        <td style=\"padding-left: 1em; padding-right: 1em; text-align: center; vertical-align: top\">download</td>\n",
       "    </tr>\n",
       "    <tr>\n",
       "        <td style=\"padding-left: 1em; padding-right: 1em; text-align: center; vertical-align: top\">book</td>\n",
       "    </tr>\n",
       "    <tr>\n",
       "        <td style=\"padding-left: 1em; padding-right: 1em; text-align: center; vertical-align: top\">read</td>\n",
       "    </tr>\n",
       "    <tr>\n",
       "        <td style=\"padding-left: 1em; padding-right: 1em; text-align: center; vertical-align: top\">music</td>\n",
       "    </tr>\n",
       "    <tr>\n",
       "        <td style=\"padding-left: 1em; padding-right: 1em; text-align: center; vertical-align: top\">movie</td>\n",
       "    </tr>\n",
       "    <tr>\n",
       "        <td style=\"padding-left: 1em; padding-right: 1em; text-align: center; vertical-align: top\">software</td>\n",
       "    </tr>\n",
       "    <tr>\n",
       "        <td style=\"padding-left: 1em; padding-right: 1em; text-align: center; vertical-align: top\">52384.com</td>\n",
       "    </tr>\n",
       "    <tr>\n",
       "        <td style=\"padding-left: 1em; padding-right: 1em; text-align: center; vertical-align: top\">map.baidu.com</td>\n",
       "    </tr>\n",
       "    <tr>\n",
       "        <td style=\"padding-left: 1em; padding-right: 1em; text-align: center; vertical-align: top\">htffund.com</td>\n",
       "    </tr>\n",
       "    <tr>\n",
       "        <td style=\"padding-left: 1em; padding-right: 1em; text-align: center; vertical-align: top\">hnbys.gov.cn</td>\n",
       "    </tr>\n",
       "</table>\n",
       "[10 rows x 1 columns]<br/>\n",
       "</div>"
      ],
      "text/plain": [
       "Columns:\n",
       "\turl\tstr\n",
       "\n",
       "Rows: 10\n",
       "\n",
       "Data:\n",
       "+---------------+\n",
       "|      url      |\n",
       "+---------------+\n",
       "|    download   |\n",
       "|      book     |\n",
       "|      read     |\n",
       "|     music     |\n",
       "|     movie     |\n",
       "|    software   |\n",
       "|   52384.com   |\n",
       "| map.baidu.com |\n",
       "|  htffund.com  |\n",
       "|  hnbys.gov.cn |\n",
       "+---------------+\n",
       "[10 rows x 1 columns]"
      ]
     },
     "execution_count": 20,
     "metadata": {},
     "output_type": "execute_result"
    }
   ],
   "source": [
    "resource.head()"
   ]
  },
  {
   "cell_type": "markdown",
   "metadata": {},
   "source": [
    "#### 3.2.2 对查询日志数据进行标注"
   ]
  },
  {
   "cell_type": "markdown",
   "metadata": {},
   "source": [
    "标注资源类数据的方法"
   ]
  },
  {
   "cell_type": "code",
   "execution_count": 21,
   "metadata": {
    "collapsed": true
   },
   "outputs": [],
   "source": [
    "def label_resource(row, resource):\n",
    "    for url_i in resource['url']:\n",
    "        if row['url'].find(url_i) != -1:\n",
    "            return True\n",
    "    return False"
   ]
  },
  {
   "cell_type": "markdown",
   "metadata": {},
   "source": [
    "对整个数据集进行标注的方法"
   ]
  },
  {
   "cell_type": "code",
   "execution_count": 22,
   "metadata": {
    "collapsed": true
   },
   "outputs": [],
   "source": [
    "def log_label(row, resource):\n",
    "    # 对导航类数据进行标注\n",
    "    if re.match(r'www(.*?)\\b(com|cn|org|net|gov|xin|red|pub|ink|info|xyz|win|edu|mil|tv|TV|mobi|travel|name|aero|museum|pro|biz|coop|aero)\\b$',\\\n",
    "                row['url']):\n",
    "        return 'Navigation'\n",
    "    # 对资源类数据进行标注\n",
    "    elif label_resource(row, resource):\n",
    "        return 'Resource'\n",
    "    # 对信息类数据进行标注\n",
    "    else:\n",
    "        return 'Information'"
   ]
  },
  {
   "cell_type": "code",
   "execution_count": 23,
   "metadata": {
    "collapsed": false
   },
   "outputs": [],
   "source": [
    "data['label'] = data.apply(lambda x: log_label(x, resource))"
   ]
  },
  {
   "cell_type": "code",
   "execution_count": 24,
   "metadata": {
    "collapsed": false
   },
   "outputs": [
    {
     "name": "stdout",
     "output_type": "stream",
     "text": [
      "Canvas is accessible via web browser at the URL: http://localhost:7120/index.html\n",
      "Opening Canvas in default web browser.\n"
     ]
    }
   ],
   "source": [
    "data['label'].show()"
   ]
  },
  {
   "cell_type": "code",
   "execution_count": 35,
   "metadata": {
    "collapsed": true
   },
   "outputs": [],
   "source": [
    "data.save('Sogou1W_ltp_label.csv')"
   ]
  },
  {
   "cell_type": "markdown",
   "metadata": {},
   "source": [
    "### 3.3 利用NLP技术提取特征"
   ]
  },
  {
   "cell_type": "markdown",
   "metadata": {},
   "source": [
    "&nbsp;&nbsp;&nbsp;&nbsp;&nbsp;&nbsp;&nbsp;本文主要利用NLP技术来提取Query中的特征，包括：分词、词性统计等特征。结合点击排序特征和结果排序特征共同作为查询意图识别的特征。"
   ]
  },
  {
   "cell_type": "markdown",
   "metadata": {},
   "source": [
    "### 3.4 比较Logistic Regression和Boost Tree对查询意图识别的效率"
   ]
  },
  {
   "cell_type": "code",
   "execution_count": 36,
   "metadata": {
    "collapsed": false
   },
   "outputs": [
    {
     "data": {
      "text/html": [
       "<div style=\"max-height:1000px;max-width:1500px;overflow:auto;\"><table frame=\"box\" rules=\"cols\">\n",
       "    <tr>\n",
       "        <th style=\"padding-left: 1em; padding-right: 1em; text-align: center\">﻿time</th>\n",
       "        <th style=\"padding-left: 1em; padding-right: 1em; text-align: center\">user_id</th>\n",
       "        <th style=\"padding-left: 1em; padding-right: 1em; text-align: center\">query</th>\n",
       "        <th style=\"padding-left: 1em; padding-right: 1em; text-align: center\">result_click</th>\n",
       "        <th style=\"padding-left: 1em; padding-right: 1em; text-align: center\">url</th>\n",
       "        <th style=\"padding-left: 1em; padding-right: 1em; text-align: center\">result_and_click</th>\n",
       "        <th style=\"padding-left: 1em; padding-right: 1em; text-align: center\">result_rank</th>\n",
       "    </tr>\n",
       "    <tr>\n",
       "        <td style=\"padding-left: 1em; padding-right: 1em; text-align: center; vertical-align: top\">00:00:00</td>\n",
       "        <td style=\"padding-left: 1em; padding-right: 1em; text-align: center; vertical-align: top\">2982199073774412</td>\n",
       "        <td style=\"padding-left: 1em; padding-right: 1em; text-align: center; vertical-align: top\">360安全卫士</td>\n",
       "        <td style=\"padding-left: 1em; padding-right: 1em; text-align: center; vertical-align: top\">8 3</td>\n",
       "        <td style=\"padding-left: 1em; padding-right: 1em; text-align: center; vertical-align: top\">download.it.com.cn/softwe<br>b/software/firewall/a ...</td>\n",
       "        <td style=\"padding-left: 1em; padding-right: 1em; text-align: center; vertical-align: top\">[8, 3]</td>\n",
       "        <td style=\"padding-left: 1em; padding-right: 1em; text-align: center; vertical-align: top\">8</td>\n",
       "    </tr>\n",
       "    <tr>\n",
       "        <td style=\"padding-left: 1em; padding-right: 1em; text-align: center; vertical-align: top\">00:00:00</td>\n",
       "        <td style=\"padding-left: 1em; padding-right: 1em; text-align: center; vertical-align: top\">07594220010824798</td>\n",
       "        <td style=\"padding-left: 1em; padding-right: 1em; text-align: center; vertical-align: top\">哄抢救灾物资</td>\n",
       "        <td style=\"padding-left: 1em; padding-right: 1em; text-align: center; vertical-align: top\">1 1</td>\n",
       "        <td style=\"padding-left: 1em; padding-right: 1em; text-align: center; vertical-align: top\">news.21cn.com/social/daqi<br>an/2008/05/29/4777194 ...</td>\n",
       "        <td style=\"padding-left: 1em; padding-right: 1em; text-align: center; vertical-align: top\">[1, 1]</td>\n",
       "        <td style=\"padding-left: 1em; padding-right: 1em; text-align: center; vertical-align: top\">1</td>\n",
       "    </tr>\n",
       "    <tr>\n",
       "        <td style=\"padding-left: 1em; padding-right: 1em; text-align: center; vertical-align: top\">00:00:00</td>\n",
       "        <td style=\"padding-left: 1em; padding-right: 1em; text-align: center; vertical-align: top\">5228056822071097</td>\n",
       "        <td style=\"padding-left: 1em; padding-right: 1em; text-align: center; vertical-align: top\">75810部队</td>\n",
       "        <td style=\"padding-left: 1em; padding-right: 1em; text-align: center; vertical-align: top\">14 5</td>\n",
       "        <td style=\"padding-left: 1em; padding-right: 1em; text-align: center; vertical-align: top\">www.greatoo.com/greatoo_c<br>n/list.asp?link_id=27 ...</td>\n",
       "        <td style=\"padding-left: 1em; padding-right: 1em; text-align: center; vertical-align: top\">[14, 5]</td>\n",
       "        <td style=\"padding-left: 1em; padding-right: 1em; text-align: center; vertical-align: top\">14</td>\n",
       "    </tr>\n",
       "    <tr>\n",
       "        <td style=\"padding-left: 1em; padding-right: 1em; text-align: center; vertical-align: top\">00:00:00</td>\n",
       "        <td style=\"padding-left: 1em; padding-right: 1em; text-align: center; vertical-align: top\">6140463203615646</td>\n",
       "        <td style=\"padding-left: 1em; padding-right: 1em; text-align: center; vertical-align: top\">绳艺</td>\n",
       "        <td style=\"padding-left: 1em; padding-right: 1em; text-align: center; vertical-align: top\">62 36</td>\n",
       "        <td style=\"padding-left: 1em; padding-right: 1em; text-align: center; vertical-align: top\">www.jd-cd.com/jd_opus/xx/<br>200607/706.html ...</td>\n",
       "        <td style=\"padding-left: 1em; padding-right: 1em; text-align: center; vertical-align: top\">[62, 36]</td>\n",
       "        <td style=\"padding-left: 1em; padding-right: 1em; text-align: center; vertical-align: top\">62</td>\n",
       "    </tr>\n",
       "    <tr>\n",
       "        <td style=\"padding-left: 1em; padding-right: 1em; text-align: center; vertical-align: top\">00:00:00</td>\n",
       "        <td style=\"padding-left: 1em; padding-right: 1em; text-align: center; vertical-align: top\">8561366108033201</td>\n",
       "        <td style=\"padding-left: 1em; padding-right: 1em; text-align: center; vertical-align: top\">汶川地震原因</td>\n",
       "        <td style=\"padding-left: 1em; padding-right: 1em; text-align: center; vertical-align: top\">3 2</td>\n",
       "        <td style=\"padding-left: 1em; padding-right: 1em; text-align: center; vertical-align: top\">www.big38.net</td>\n",
       "        <td style=\"padding-left: 1em; padding-right: 1em; text-align: center; vertical-align: top\">[3, 2]</td>\n",
       "        <td style=\"padding-left: 1em; padding-right: 1em; text-align: center; vertical-align: top\">3</td>\n",
       "    </tr>\n",
       "    <tr>\n",
       "        <td style=\"padding-left: 1em; padding-right: 1em; text-align: center; vertical-align: top\">00:00:00</td>\n",
       "        <td style=\"padding-left: 1em; padding-right: 1em; text-align: center; vertical-align: top\">23908140386148713</td>\n",
       "        <td style=\"padding-left: 1em; padding-right: 1em; text-align: center; vertical-align: top\">莫衷一是的意思</td>\n",
       "        <td style=\"padding-left: 1em; padding-right: 1em; text-align: center; vertical-align: top\">1 2</td>\n",
       "        <td style=\"padding-left: 1em; padding-right: 1em; text-align: center; vertical-align: top\">www.chinabaike.com/articl<br>e/81/82/110/2007/2007 ...</td>\n",
       "        <td style=\"padding-left: 1em; padding-right: 1em; text-align: center; vertical-align: top\">[1, 2]</td>\n",
       "        <td style=\"padding-left: 1em; padding-right: 1em; text-align: center; vertical-align: top\">1</td>\n",
       "    </tr>\n",
       "    <tr>\n",
       "        <td style=\"padding-left: 1em; padding-right: 1em; text-align: center; vertical-align: top\">00:00:00</td>\n",
       "        <td style=\"padding-left: 1em; padding-right: 1em; text-align: center; vertical-align: top\">1797943298449139</td>\n",
       "        <td style=\"padding-left: 1em; padding-right: 1em; text-align: center; vertical-align: top\">星梦缘全集在线观�<br>�� ...</td>\n",
       "        <td style=\"padding-left: 1em; padding-right: 1em; text-align: center; vertical-align: top\">8 5</td>\n",
       "        <td style=\"padding-left: 1em; padding-right: 1em; text-align: center; vertical-align: top\">www.6wei.net/dianshiju/??<br>??\\xa1\\xe9|????do=index ...</td>\n",
       "        <td style=\"padding-left: 1em; padding-right: 1em; text-align: center; vertical-align: top\">[8, 5]</td>\n",
       "        <td style=\"padding-left: 1em; padding-right: 1em; text-align: center; vertical-align: top\">8</td>\n",
       "    </tr>\n",
       "    <tr>\n",
       "        <td style=\"padding-left: 1em; padding-right: 1em; text-align: center; vertical-align: top\">00:00:00</td>\n",
       "        <td style=\"padding-left: 1em; padding-right: 1em; text-align: center; vertical-align: top\">00717725924582846</td>\n",
       "        <td style=\"padding-left: 1em; padding-right: 1em; text-align: center; vertical-align: top\">闪字吧</td>\n",
       "        <td style=\"padding-left: 1em; padding-right: 1em; text-align: center; vertical-align: top\">1 2</td>\n",
       "        <td style=\"padding-left: 1em; padding-right: 1em; text-align: center; vertical-align: top\">www.shanziba.com</td>\n",
       "        <td style=\"padding-left: 1em; padding-right: 1em; text-align: center; vertical-align: top\">[1, 2]</td>\n",
       "        <td style=\"padding-left: 1em; padding-right: 1em; text-align: center; vertical-align: top\">1</td>\n",
       "    </tr>\n",
       "    <tr>\n",
       "        <td style=\"padding-left: 1em; padding-right: 1em; text-align: center; vertical-align: top\">00:00:00</td>\n",
       "        <td style=\"padding-left: 1em; padding-right: 1em; text-align: center; vertical-align: top\">41416219018952116</td>\n",
       "        <td style=\"padding-left: 1em; padding-right: 1em; text-align: center; vertical-align: top\">霍震霆与朱玲玲照�<br>�� ...</td>\n",
       "        <td style=\"padding-left: 1em; padding-right: 1em; text-align: center; vertical-align: top\">2 6</td>\n",
       "        <td style=\"padding-left: 1em; padding-right: 1em; text-align: center; vertical-align: top\">bbs.gouzai.cn/thread-6987<br>36.html ...</td>\n",
       "        <td style=\"padding-left: 1em; padding-right: 1em; text-align: center; vertical-align: top\">[2, 6]</td>\n",
       "        <td style=\"padding-left: 1em; padding-right: 1em; text-align: center; vertical-align: top\">2</td>\n",
       "    </tr>\n",
       "    <tr>\n",
       "        <td style=\"padding-left: 1em; padding-right: 1em; text-align: center; vertical-align: top\">00:00:00</td>\n",
       "        <td style=\"padding-left: 1em; padding-right: 1em; text-align: center; vertical-align: top\">9975666857142764</td>\n",
       "        <td style=\"padding-left: 1em; padding-right: 1em; text-align: center; vertical-align: top\">电脑创业</td>\n",
       "        <td style=\"padding-left: 1em; padding-right: 1em; text-align: center; vertical-align: top\">2 2</td>\n",
       "        <td style=\"padding-left: 1em; padding-right: 1em; text-align: center; vertical-align: top\">ks.cn.yahoo.com/question/<br>1307120203719.html ...</td>\n",
       "        <td style=\"padding-left: 1em; padding-right: 1em; text-align: center; vertical-align: top\">[2, 2]</td>\n",
       "        <td style=\"padding-left: 1em; padding-right: 1em; text-align: center; vertical-align: top\">2</td>\n",
       "    </tr>\n",
       "</table>\n",
       "<table frame=\"box\" rules=\"cols\">\n",
       "    <tr>\n",
       "        <th style=\"padding-left: 1em; padding-right: 1em; text-align: center\">click_rank</th>\n",
       "        <th style=\"padding-left: 1em; padding-right: 1em; text-align: center\">words</th>\n",
       "        <th style=\"padding-left: 1em; padding-right: 1em; text-align: center\">poses</th>\n",
       "        <th style=\"padding-left: 1em; padding-right: 1em; text-align: center\">parsers</th>\n",
       "        <th style=\"padding-left: 1em; padding-right: 1em; text-align: center\">len_words</th>\n",
       "        <th style=\"padding-left: 1em; padding-right: 1em; text-align: center\">len_seg</th>\n",
       "        <th style=\"padding-left: 1em; padding-right: 1em; text-align: center\">label</th>\n",
       "    </tr>\n",
       "    <tr>\n",
       "        <td style=\"padding-left: 1em; padding-right: 1em; text-align: center; vertical-align: top\">3</td>\n",
       "        <td style=\"padding-left: 1em; padding-right: 1em; text-align: center; vertical-align: top\">360 安全 卫士</td>\n",
       "        <td style=\"padding-left: 1em; padding-right: 1em; text-align: center; vertical-align: top\">nz a n</td>\n",
       "        <td style=\"padding-left: 1em; padding-right: 1em; text-align: center; vertical-align: top\">ATT ATT HED</td>\n",
       "        <td style=\"padding-left: 1em; padding-right: 1em; text-align: center; vertical-align: top\">7</td>\n",
       "        <td style=\"padding-left: 1em; padding-right: 1em; text-align: center; vertical-align: top\">3</td>\n",
       "        <td style=\"padding-left: 1em; padding-right: 1em; text-align: center; vertical-align: top\">Resource</td>\n",
       "    </tr>\n",
       "    <tr>\n",
       "        <td style=\"padding-left: 1em; padding-right: 1em; text-align: center; vertical-align: top\">1</td>\n",
       "        <td style=\"padding-left: 1em; padding-right: 1em; text-align: center; vertical-align: top\">哄抢 救灾 物资</td>\n",
       "        <td style=\"padding-left: 1em; padding-right: 1em; text-align: center; vertical-align: top\">v v n</td>\n",
       "        <td style=\"padding-left: 1em; padding-right: 1em; text-align: center; vertical-align: top\">HED ATT VOB</td>\n",
       "        <td style=\"padding-left: 1em; padding-right: 1em; text-align: center; vertical-align: top\">6</td>\n",
       "        <td style=\"padding-left: 1em; padding-right: 1em; text-align: center; vertical-align: top\">3</td>\n",
       "        <td style=\"padding-left: 1em; padding-right: 1em; text-align: center; vertical-align: top\">Information</td>\n",
       "    </tr>\n",
       "    <tr>\n",
       "        <td style=\"padding-left: 1em; padding-right: 1em; text-align: center; vertical-align: top\">5</td>\n",
       "        <td style=\"padding-left: 1em; padding-right: 1em; text-align: center; vertical-align: top\">75810 部队</td>\n",
       "        <td style=\"padding-left: 1em; padding-right: 1em; text-align: center; vertical-align: top\">m n</td>\n",
       "        <td style=\"padding-left: 1em; padding-right: 1em; text-align: center; vertical-align: top\">ATT HED</td>\n",
       "        <td style=\"padding-left: 1em; padding-right: 1em; text-align: center; vertical-align: top\">7</td>\n",
       "        <td style=\"padding-left: 1em; padding-right: 1em; text-align: center; vertical-align: top\">2</td>\n",
       "        <td style=\"padding-left: 1em; padding-right: 1em; text-align: center; vertical-align: top\">Information</td>\n",
       "    </tr>\n",
       "    <tr>\n",
       "        <td style=\"padding-left: 1em; padding-right: 1em; text-align: center; vertical-align: top\">36</td>\n",
       "        <td style=\"padding-left: 1em; padding-right: 1em; text-align: center; vertical-align: top\">绳艺</td>\n",
       "        <td style=\"padding-left: 1em; padding-right: 1em; text-align: center; vertical-align: top\">nh</td>\n",
       "        <td style=\"padding-left: 1em; padding-right: 1em; text-align: center; vertical-align: top\">HED</td>\n",
       "        <td style=\"padding-left: 1em; padding-right: 1em; text-align: center; vertical-align: top\">2</td>\n",
       "        <td style=\"padding-left: 1em; padding-right: 1em; text-align: center; vertical-align: top\">1</td>\n",
       "        <td style=\"padding-left: 1em; padding-right: 1em; text-align: center; vertical-align: top\">Information</td>\n",
       "    </tr>\n",
       "    <tr>\n",
       "        <td style=\"padding-left: 1em; padding-right: 1em; text-align: center; vertical-align: top\">2</td>\n",
       "        <td style=\"padding-left: 1em; padding-right: 1em; text-align: center; vertical-align: top\">汶川 地震 原因</td>\n",
       "        <td style=\"padding-left: 1em; padding-right: 1em; text-align: center; vertical-align: top\">ns n n</td>\n",
       "        <td style=\"padding-left: 1em; padding-right: 1em; text-align: center; vertical-align: top\">ATT ATT HED</td>\n",
       "        <td style=\"padding-left: 1em; padding-right: 1em; text-align: center; vertical-align: top\">6</td>\n",
       "        <td style=\"padding-left: 1em; padding-right: 1em; text-align: center; vertical-align: top\">3</td>\n",
       "        <td style=\"padding-left: 1em; padding-right: 1em; text-align: center; vertical-align: top\">Navigation</td>\n",
       "    </tr>\n",
       "    <tr>\n",
       "        <td style=\"padding-left: 1em; padding-right: 1em; text-align: center; vertical-align: top\">2</td>\n",
       "        <td style=\"padding-left: 1em; padding-right: 1em; text-align: center; vertical-align: top\">莫衷一是 的 意思</td>\n",
       "        <td style=\"padding-left: 1em; padding-right: 1em; text-align: center; vertical-align: top\">i u n</td>\n",
       "        <td style=\"padding-left: 1em; padding-right: 1em; text-align: center; vertical-align: top\">ATT RAD HED</td>\n",
       "        <td style=\"padding-left: 1em; padding-right: 1em; text-align: center; vertical-align: top\">7</td>\n",
       "        <td style=\"padding-left: 1em; padding-right: 1em; text-align: center; vertical-align: top\">3</td>\n",
       "        <td style=\"padding-left: 1em; padding-right: 1em; text-align: center; vertical-align: top\">Information</td>\n",
       "    </tr>\n",
       "    <tr>\n",
       "        <td style=\"padding-left: 1em; padding-right: 1em; text-align: center; vertical-align: top\">5</td>\n",
       "        <td style=\"padding-left: 1em; padding-right: 1em; text-align: center; vertical-align: top\">星 梦 缘 全集 在线<br>观看 ...</td>\n",
       "        <td style=\"padding-left: 1em; padding-right: 1em; text-align: center; vertical-align: top\">n n p n n v</td>\n",
       "        <td style=\"padding-left: 1em; padding-right: 1em; text-align: center; vertical-align: top\">ATT ATT ATT ATT SBV HED</td>\n",
       "        <td style=\"padding-left: 1em; padding-right: 1em; text-align: center; vertical-align: top\">9</td>\n",
       "        <td style=\"padding-left: 1em; padding-right: 1em; text-align: center; vertical-align: top\">6</td>\n",
       "        <td style=\"padding-left: 1em; padding-right: 1em; text-align: center; vertical-align: top\">Information</td>\n",
       "    </tr>\n",
       "    <tr>\n",
       "        <td style=\"padding-left: 1em; padding-right: 1em; text-align: center; vertical-align: top\">2</td>\n",
       "        <td style=\"padding-left: 1em; padding-right: 1em; text-align: center; vertical-align: top\">闪字 吧</td>\n",
       "        <td style=\"padding-left: 1em; padding-right: 1em; text-align: center; vertical-align: top\">n u</td>\n",
       "        <td style=\"padding-left: 1em; padding-right: 1em; text-align: center; vertical-align: top\">HED RAD</td>\n",
       "        <td style=\"padding-left: 1em; padding-right: 1em; text-align: center; vertical-align: top\">3</td>\n",
       "        <td style=\"padding-left: 1em; padding-right: 1em; text-align: center; vertical-align: top\">2</td>\n",
       "        <td style=\"padding-left: 1em; padding-right: 1em; text-align: center; vertical-align: top\">Navigation</td>\n",
       "    </tr>\n",
       "    <tr>\n",
       "        <td style=\"padding-left: 1em; padding-right: 1em; text-align: center; vertical-align: top\">6</td>\n",
       "        <td style=\"padding-left: 1em; padding-right: 1em; text-align: center; vertical-align: top\">霍震霆 与 朱玲玲<br>照片 ...</td>\n",
       "        <td style=\"padding-left: 1em; padding-right: 1em; text-align: center; vertical-align: top\">nh p nh n</td>\n",
       "        <td style=\"padding-left: 1em; padding-right: 1em; text-align: center; vertical-align: top\">ATT LAD COO HED</td>\n",
       "        <td style=\"padding-left: 1em; padding-right: 1em; text-align: center; vertical-align: top\">9</td>\n",
       "        <td style=\"padding-left: 1em; padding-right: 1em; text-align: center; vertical-align: top\">4</td>\n",
       "        <td style=\"padding-left: 1em; padding-right: 1em; text-align: center; vertical-align: top\">Resource</td>\n",
       "    </tr>\n",
       "    <tr>\n",
       "        <td style=\"padding-left: 1em; padding-right: 1em; text-align: center; vertical-align: top\">2</td>\n",
       "        <td style=\"padding-left: 1em; padding-right: 1em; text-align: center; vertical-align: top\">电脑 创业</td>\n",
       "        <td style=\"padding-left: 1em; padding-right: 1em; text-align: center; vertical-align: top\">n v</td>\n",
       "        <td style=\"padding-left: 1em; padding-right: 1em; text-align: center; vertical-align: top\">SBV HED</td>\n",
       "        <td style=\"padding-left: 1em; padding-right: 1em; text-align: center; vertical-align: top\">4</td>\n",
       "        <td style=\"padding-left: 1em; padding-right: 1em; text-align: center; vertical-align: top\">2</td>\n",
       "        <td style=\"padding-left: 1em; padding-right: 1em; text-align: center; vertical-align: top\">Resource</td>\n",
       "    </tr>\n",
       "</table>\n",
       "[10 rows x 14 columns]<br/>\n",
       "</div>"
      ],
      "text/plain": [
       "Columns:\n",
       "\t﻿time\tstr\n",
       "\tuser_id\tstr\n",
       "\tquery\tstr\n",
       "\tresult_click\tstr\n",
       "\turl\tstr\n",
       "\tresult_and_click\tlist\n",
       "\tresult_rank\tint\n",
       "\tclick_rank\tint\n",
       "\twords\tstr\n",
       "\tposes\tstr\n",
       "\tparsers\tstr\n",
       "\tlen_words\tint\n",
       "\tlen_seg\tint\n",
       "\tlabel\tstr\n",
       "\n",
       "Rows: 10\n",
       "\n",
       "Data:\n",
       "+----------+-------------------+--------------------+--------------+\n",
       "|  ﻿time   |      user_id      |       query        | result_click |\n",
       "+----------+-------------------+--------------------+--------------+\n",
       "| 00:00:00 |  2982199073774412 |    360安全卫士     |     8 3      |\n",
       "| 00:00:00 | 07594220010824798 |    哄抢救灾物资    |     1 1      |\n",
       "| 00:00:00 |  5228056822071097 |     75810部队      |     14 5     |\n",
       "| 00:00:00 |  6140463203615646 |        绳艺        |    62 36     |\n",
       "| 00:00:00 |  8561366108033201 |    汶川地震原因    |     3 2      |\n",
       "| 00:00:00 | 23908140386148713 |   莫衷一是的意思   |     1 2      |\n",
       "| 00:00:00 |  1797943298449139 | 星梦缘全集在线观看 |     8 5      |\n",
       "| 00:00:00 | 00717725924582846 |       闪字吧       |     1 2      |\n",
       "| 00:00:00 | 41416219018952116 | 霍震霆与朱玲玲照片 |     2 6      |\n",
       "| 00:00:00 |  9975666857142764 |      电脑创业      |     2 2      |\n",
       "+----------+-------------------+--------------------+--------------+\n",
       "+-------------------------------+------------------+-------------+------------+\n",
       "|              url              | result_and_click | result_rank | click_rank |\n",
       "+-------------------------------+------------------+-------------+------------+\n",
       "| download.it.com.cn/softweb... |      [8, 3]      |      8      |     3      |\n",
       "| news.21cn.com/social/daqia... |      [1, 1]      |      1      |     1      |\n",
       "| www.greatoo.com/greatoo_cn... |     [14, 5]      |      14     |     5      |\n",
       "| www.jd-cd.com/jd_opus/xx/2... |     [62, 36]     |      62     |     36     |\n",
       "|         www.big38.net         |      [3, 2]      |      3      |     2      |\n",
       "| www.chinabaike.com/article... |      [1, 2]      |      1      |     2      |\n",
       "| www.6wei.net/dianshiju/???... |      [8, 5]      |      8      |     5      |\n",
       "|        www.shanziba.com       |      [1, 2]      |      1      |     2      |\n",
       "| bbs.gouzai.cn/thread-69873... |      [2, 6]      |      2      |     6      |\n",
       "| ks.cn.yahoo.com/question/1... |      [2, 2]      |      2      |     2      |\n",
       "+-------------------------------+------------------+-------------+------------+\n",
       "+----------------------------+-------------+-------------------------+-----------+\n",
       "|           words            |    poses    |         parsers         | len_words |\n",
       "+----------------------------+-------------+-------------------------+-----------+\n",
       "|       360 安全 卫士        |    nz a n   |       ATT ATT HED       |     7     |\n",
       "|       哄抢 救灾 物资       |    v v n    |       HED ATT VOB       |     6     |\n",
       "|         75810 部队         |     m n     |         ATT HED         |     7     |\n",
       "|            绳艺            |      nh     |           HED           |     2     |\n",
       "|       汶川 地震 原因       |    ns n n   |       ATT ATT HED       |     6     |\n",
       "|      莫衷一是 的 意思      |    i u n    |       ATT RAD HED       |     7     |\n",
       "| 星 梦 缘 全集 在线 观看... | n n p n n v | ATT ATT ATT ATT SBV HED |     9     |\n",
       "|          闪字 吧           |     n u     |         HED RAD         |     3     |\n",
       "|   霍震霆 与 朱玲玲 照片    |  nh p nh n  |     ATT LAD COO HED     |     9     |\n",
       "|         电脑 创业          |     n v     |         SBV HED         |     4     |\n",
       "+----------------------------+-------------+-------------------------+-----------+\n",
       "+---------+-------------+\n",
       "| len_seg |    label    |\n",
       "+---------+-------------+\n",
       "|    3    |   Resource  |\n",
       "|    3    | Information |\n",
       "|    2    | Information |\n",
       "|    1    | Information |\n",
       "|    3    |  Navigation |\n",
       "|    3    | Information |\n",
       "|    6    | Information |\n",
       "|    2    |  Navigation |\n",
       "|    4    |   Resource  |\n",
       "|    2    |   Resource  |\n",
       "+---------+-------------+\n",
       "[10 rows x 14 columns]"
      ]
     },
     "execution_count": 36,
     "metadata": {},
     "output_type": "execute_result"
    }
   ],
   "source": [
    "data.head()"
   ]
  },
  {
   "cell_type": "markdown",
   "metadata": {},
   "source": [
    "#### 3.4.1 数据准备(train_data, validation_data, test_data)"
   ]
  },
  {
   "cell_type": "code",
   "execution_count": 25,
   "metadata": {
    "collapsed": true
   },
   "outputs": [],
   "source": [
    "data['words_count'] = graphlab.text_analytics.count_words(data['words'])\n",
    "data['poses_count'] = graphlab.text_analytics.count_words(data['poses'])\n",
    "data['parsers_count'] = graphlab.text_analytics.count_words(data['parsers'])"
   ]
  },
  {
   "cell_type": "code",
   "execution_count": 26,
   "metadata": {
    "collapsed": true
   },
   "outputs": [],
   "source": [
    "data['words_tfidf'] = graphlab.text_analytics.tf_idf(data['words_count'])\n",
    "data['poses_tfidf'] = graphlab.text_analytics.tf_idf(data['poses_count'])\n",
    "data['parsers_tfidf'] = graphlab.text_analytics.tf_idf(data['parsers_count'])"
   ]
  },
  {
   "cell_type": "code",
   "execution_count": 27,
   "metadata": {
    "collapsed": true
   },
   "outputs": [],
   "source": [
    "data.save('Sogou1W_ltp_label.csv')"
   ]
  },
  {
   "cell_type": "code",
   "execution_count": 39,
   "metadata": {
    "collapsed": false
   },
   "outputs": [
    {
     "data": {
      "text/html": [
       "<div style=\"max-height:1000px;max-width:1500px;overflow:auto;\"><table frame=\"box\" rules=\"cols\">\n",
       "    <tr>\n",
       "        <th style=\"padding-left: 1em; padding-right: 1em; text-align: center\">query</th>\n",
       "        <th style=\"padding-left: 1em; padding-right: 1em; text-align: center\">words_count</th>\n",
       "        <th style=\"padding-left: 1em; padding-right: 1em; text-align: center\">poses_count</th>\n",
       "        <th style=\"padding-left: 1em; padding-right: 1em; text-align: center\">parsers_count</th>\n",
       "    </tr>\n",
       "    <tr>\n",
       "        <td style=\"padding-left: 1em; padding-right: 1em; text-align: center; vertical-align: top\">360安全卫士</td>\n",
       "        <td style=\"padding-left: 1em; padding-right: 1em; text-align: center; vertical-align: top\">{'\\xe5\\x8d\\xab\\xe5\\xa3\\xa<br>b': 1L, '\\xe5\\xae\\x89 ...</td>\n",
       "        <td style=\"padding-left: 1em; padding-right: 1em; text-align: center; vertical-align: top\">{'a': 1L, 'nz': 1L, 'n':<br>1L} ...</td>\n",
       "        <td style=\"padding-left: 1em; padding-right: 1em; text-align: center; vertical-align: top\">{'hed': 1L, 'att': 2L}</td>\n",
       "    </tr>\n",
       "    <tr>\n",
       "        <td style=\"padding-left: 1em; padding-right: 1em; text-align: center; vertical-align: top\">哄抢救灾物资</td>\n",
       "        <td style=\"padding-left: 1em; padding-right: 1em; text-align: center; vertical-align: top\">{'\\xe6\\x95\\x91\\xe7\\x81\\xb<br>e': 1L, '\\xe7\\x89\\xa9 ...</td>\n",
       "        <td style=\"padding-left: 1em; padding-right: 1em; text-align: center; vertical-align: top\">{'v': 2L, 'n': 1L}</td>\n",
       "        <td style=\"padding-left: 1em; padding-right: 1em; text-align: center; vertical-align: top\">{'hed': 1L, 'att': 1L,<br>'vob': 1L} ...</td>\n",
       "    </tr>\n",
       "    <tr>\n",
       "        <td style=\"padding-left: 1em; padding-right: 1em; text-align: center; vertical-align: top\">75810部队</td>\n",
       "        <td style=\"padding-left: 1em; padding-right: 1em; text-align: center; vertical-align: top\">{'\\xe9\\x83\\xa8\\xe9\\x98\\x9<br>f': 1L, '75810': 1L} ...</td>\n",
       "        <td style=\"padding-left: 1em; padding-right: 1em; text-align: center; vertical-align: top\">{'m': 1L, 'n': 1L}</td>\n",
       "        <td style=\"padding-left: 1em; padding-right: 1em; text-align: center; vertical-align: top\">{'hed': 1L, 'att': 1L}</td>\n",
       "    </tr>\n",
       "    <tr>\n",
       "        <td style=\"padding-left: 1em; padding-right: 1em; text-align: center; vertical-align: top\">绳艺</td>\n",
       "        <td style=\"padding-left: 1em; padding-right: 1em; text-align: center; vertical-align: top\">{'\\xe7\\xbb\\xb3\\xe8\\x89\\xb<br>a': 1L} ...</td>\n",
       "        <td style=\"padding-left: 1em; padding-right: 1em; text-align: center; vertical-align: top\">{'nh': 1L}</td>\n",
       "        <td style=\"padding-left: 1em; padding-right: 1em; text-align: center; vertical-align: top\">{'hed': 1L}</td>\n",
       "    </tr>\n",
       "    <tr>\n",
       "        <td style=\"padding-left: 1em; padding-right: 1em; text-align: center; vertical-align: top\">汶川地震原因</td>\n",
       "        <td style=\"padding-left: 1em; padding-right: 1em; text-align: center; vertical-align: top\">{'\\xe6\\xb1\\xb6\\xe5\\xb7\\x9<br>d': 1L, '\\xe5\\x8e\\x9f ...</td>\n",
       "        <td style=\"padding-left: 1em; padding-right: 1em; text-align: center; vertical-align: top\">{'ns': 1L, 'n': 2L}</td>\n",
       "        <td style=\"padding-left: 1em; padding-right: 1em; text-align: center; vertical-align: top\">{'hed': 1L, 'att': 2L}</td>\n",
       "    </tr>\n",
       "    <tr>\n",
       "        <td style=\"padding-left: 1em; padding-right: 1em; text-align: center; vertical-align: top\">莫衷一是的意思</td>\n",
       "        <td style=\"padding-left: 1em; padding-right: 1em; text-align: center; vertical-align: top\">{'\\xe6\\x84\\x8f\\xe6\\x80\\x9<br>d': 1L, '\\xe7\\x9a\\x84': ...</td>\n",
       "        <td style=\"padding-left: 1em; padding-right: 1em; text-align: center; vertical-align: top\">{'i': 1L, 'u': 1L, 'n':<br>1L} ...</td>\n",
       "        <td style=\"padding-left: 1em; padding-right: 1em; text-align: center; vertical-align: top\">{'hed': 1L, 'rad': 1L,<br>'att': 1L} ...</td>\n",
       "    </tr>\n",
       "    <tr>\n",
       "        <td style=\"padding-left: 1em; padding-right: 1em; text-align: center; vertical-align: top\">星梦缘全集在线观�<br>�� ...</td>\n",
       "        <td style=\"padding-left: 1em; padding-right: 1em; text-align: center; vertical-align: top\">{'\\xe7\\xbc\\x98': 1L,<br>'\\xe6\\x98\\x9f': 1L, ' ...</td>\n",
       "        <td style=\"padding-left: 1em; padding-right: 1em; text-align: center; vertical-align: top\">{'p': 1L, 'n': 4L, 'v':<br>1L} ...</td>\n",
       "        <td style=\"padding-left: 1em; padding-right: 1em; text-align: center; vertical-align: top\">{'hed': 1L, 'att': 4L,<br>'sbv': 1L} ...</td>\n",
       "    </tr>\n",
       "    <tr>\n",
       "        <td style=\"padding-left: 1em; padding-right: 1em; text-align: center; vertical-align: top\">闪字吧</td>\n",
       "        <td style=\"padding-left: 1em; padding-right: 1em; text-align: center; vertical-align: top\">{'\\xe5\\x90\\xa7': 1L, '\\xe<br>9\\x97\\xaa\\xe5\\xad\\x97': ...</td>\n",
       "        <td style=\"padding-left: 1em; padding-right: 1em; text-align: center; vertical-align: top\">{'u': 1L, 'n': 1L}</td>\n",
       "        <td style=\"padding-left: 1em; padding-right: 1em; text-align: center; vertical-align: top\">{'hed': 1L, 'rad': 1L}</td>\n",
       "    </tr>\n",
       "    <tr>\n",
       "        <td style=\"padding-left: 1em; padding-right: 1em; text-align: center; vertical-align: top\">霍震霆与朱玲玲照�<br>�� ...</td>\n",
       "        <td style=\"padding-left: 1em; padding-right: 1em; text-align: center; vertical-align: top\">{'\\xe6\\x9c\\xb1\\xe7\\x8e\\xb<br>2\\xe7\\x8e\\xb2': 1L, ...</td>\n",
       "        <td style=\"padding-left: 1em; padding-right: 1em; text-align: center; vertical-align: top\">{'nh': 2L, 'p': 1L, 'n':<br>1L} ...</td>\n",
       "        <td style=\"padding-left: 1em; padding-right: 1em; text-align: center; vertical-align: top\">{'hed': 1L, 'lad': 1L,<br>'att': 1L, 'coo': 1L} ...</td>\n",
       "    </tr>\n",
       "    <tr>\n",
       "        <td style=\"padding-left: 1em; padding-right: 1em; text-align: center; vertical-align: top\">电脑创业</td>\n",
       "        <td style=\"padding-left: 1em; padding-right: 1em; text-align: center; vertical-align: top\">{'\\xe7\\x94\\xb5\\xe8\\x84\\x9<br>1': 1L, '\\xe5\\x88\\x9b ...</td>\n",
       "        <td style=\"padding-left: 1em; padding-right: 1em; text-align: center; vertical-align: top\">{'n': 1L, 'v': 1L}</td>\n",
       "        <td style=\"padding-left: 1em; padding-right: 1em; text-align: center; vertical-align: top\">{'hed': 1L, 'sbv': 1L}</td>\n",
       "    </tr>\n",
       "</table>\n",
       "[10000 rows x 4 columns]<br/>Note: Only the head of the SFrame is printed.<br/>You can use print_rows(num_rows=m, num_columns=n) to print more rows and columns.\n",
       "</div>"
      ],
      "text/plain": [
       "Columns:\n",
       "\tquery\tstr\n",
       "\twords_count\tdict\n",
       "\tposes_count\tdict\n",
       "\tparsers_count\tdict\n",
       "\n",
       "Rows: 10000\n",
       "\n",
       "Data:\n",
       "+--------------------+-------------------------------+\n",
       "|       query        |          words_count          |\n",
       "+--------------------+-------------------------------+\n",
       "|    360安全卫士     | {'\\xe5\\x8d\\xab\\xe5\\xa3\\xab... |\n",
       "|    哄抢救灾物资    | {'\\xe6\\x95\\x91\\xe7\\x81\\xbe... |\n",
       "|     75810部队      | {'\\xe9\\x83\\xa8\\xe9\\x98\\x9f... |\n",
       "|        绳艺        | {'\\xe7\\xbb\\xb3\\xe8\\x89\\xba... |\n",
       "|    汶川地震原因    | {'\\xe6\\xb1\\xb6\\xe5\\xb7\\x9d... |\n",
       "|   莫衷一是的意思   | {'\\xe6\\x84\\x8f\\xe6\\x80\\x9d... |\n",
       "| 星梦缘全集在线观看 | {'\\xe7\\xbc\\x98': 1L, '\\xe6... |\n",
       "|       闪字吧       | {'\\xe5\\x90\\xa7': 1L, '\\xe9... |\n",
       "| 霍震霆与朱玲玲照片 | {'\\xe6\\x9c\\xb1\\xe7\\x8e\\xb2... |\n",
       "|      电脑创业      | {'\\xe7\\x94\\xb5\\xe8\\x84\\x91... |\n",
       "+--------------------+-------------------------------+\n",
       "+------------------------------+-------------------------------+\n",
       "|         poses_count          |         parsers_count         |\n",
       "+------------------------------+-------------------------------+\n",
       "| {'a': 1L, 'nz': 1L, 'n': 1L} |     {'hed': 1L, 'att': 2L}    |\n",
       "|      {'v': 2L, 'n': 1L}      | {'hed': 1L, 'att': 1L, 'vo... |\n",
       "|      {'m': 1L, 'n': 1L}      |     {'hed': 1L, 'att': 1L}    |\n",
       "|          {'nh': 1L}          |          {'hed': 1L}          |\n",
       "|     {'ns': 1L, 'n': 2L}      |     {'hed': 1L, 'att': 2L}    |\n",
       "| {'i': 1L, 'u': 1L, 'n': 1L}  | {'hed': 1L, 'rad': 1L, 'at... |\n",
       "| {'p': 1L, 'n': 4L, 'v': 1L}  | {'hed': 1L, 'att': 4L, 'sb... |\n",
       "|      {'u': 1L, 'n': 1L}      |     {'hed': 1L, 'rad': 1L}    |\n",
       "| {'nh': 2L, 'p': 1L, 'n': 1L} | {'hed': 1L, 'lad': 1L, 'at... |\n",
       "|      {'n': 1L, 'v': 1L}      |     {'hed': 1L, 'sbv': 1L}    |\n",
       "+------------------------------+-------------------------------+\n",
       "[10000 rows x 4 columns]\n",
       "Note: Only the head of the SFrame is printed.\n",
       "You can use print_rows(num_rows=m, num_columns=n) to print more rows and columns."
      ]
     },
     "execution_count": 39,
     "metadata": {},
     "output_type": "execute_result"
    }
   ],
   "source": [
    "data['query', 'words_count', 'poses_count', 'parsers_count']"
   ]
  },
  {
   "cell_type": "code",
   "execution_count": 40,
   "metadata": {
    "collapsed": false
   },
   "outputs": [
    {
     "data": {
      "text/html": [
       "<div style=\"max-height:1000px;max-width:1500px;overflow:auto;\"><table frame=\"box\" rules=\"cols\">\n",
       "    <tr>\n",
       "        <th style=\"padding-left: 1em; padding-right: 1em; text-align: center\">query</th>\n",
       "        <th style=\"padding-left: 1em; padding-right: 1em; text-align: center\">words_tfidf</th>\n",
       "        <th style=\"padding-left: 1em; padding-right: 1em; text-align: center\">poses_tfidf</th>\n",
       "        <th style=\"padding-left: 1em; padding-right: 1em; text-align: center\">parsers_tfidf</th>\n",
       "    </tr>\n",
       "    <tr>\n",
       "        <td style=\"padding-left: 1em; padding-right: 1em; text-align: center; vertical-align: top\">360安全卫士</td>\n",
       "        <td style=\"padding-left: 1em; padding-right: 1em; text-align: center; vertical-align: top\">{'\\xe5\\x8d\\xab\\xe5\\xa3\\xa<br>b': 8.517193191416238 ...</td>\n",
       "        <td style=\"padding-left: 1em; padding-right: 1em; text-align: center; vertical-align: top\">{'a': 2.6678684114693785,<br>'nz': 2.701571235004501, ...</td>\n",
       "        <td style=\"padding-left: 1em; padding-right: 1em; text-align: center; vertical-align: top\">{'hed': 0.0, 'att':<br>0.9496303724859151} ...</td>\n",
       "    </tr>\n",
       "    <tr>\n",
       "        <td style=\"padding-left: 1em; padding-right: 1em; text-align: center; vertical-align: top\">哄抢救灾物资</td>\n",
       "        <td style=\"padding-left: 1em; padding-right: 1em; text-align: center; vertical-align: top\">{'\\xe6\\x95\\x91\\xe7\\x81\\xb<br>e': 3.432688048753526 ...</td>\n",
       "        <td style=\"padding-left: 1em; padding-right: 1em; text-align: center; vertical-align: top\">{'v': 1.9955439474840764,<br>'n': 0.35967945295903 ...</td>\n",
       "        <td style=\"padding-left: 1em; padding-right: 1em; text-align: center; vertical-align: top\">{'hed': 0.0, 'att':<br>0.47481518624295754, ...</td>\n",
       "    </tr>\n",
       "    <tr>\n",
       "        <td style=\"padding-left: 1em; padding-right: 1em; text-align: center; vertical-align: top\">75810部队</td>\n",
       "        <td style=\"padding-left: 1em; padding-right: 1em; text-align: center; vertical-align: top\">{'\\xe9\\x83\\xa8\\xe9\\x98\\x9<br>f': 7.600902459542082, ...</td>\n",
       "        <td style=\"padding-left: 1em; padding-right: 1em; text-align: center; vertical-align: top\">{'m': 2.4349742810397914,<br>'n': 0.35967945295903 ...</td>\n",
       "        <td style=\"padding-left: 1em; padding-right: 1em; text-align: center; vertical-align: top\">{'hed': 0.0, 'att':<br>0.47481518624295754} ...</td>\n",
       "    </tr>\n",
       "    <tr>\n",
       "        <td style=\"padding-left: 1em; padding-right: 1em; text-align: center; vertical-align: top\">绳艺</td>\n",
       "        <td style=\"padding-left: 1em; padding-right: 1em; text-align: center; vertical-align: top\">{'\\xe7\\xbb\\xb3\\xe8\\x89\\xb<br>a': 7.264430222920869} ...</td>\n",
       "        <td style=\"padding-left: 1em; padding-right: 1em; text-align: center; vertical-align: top\">{'nh':<br>1.4610179073158271} ...</td>\n",
       "        <td style=\"padding-left: 1em; padding-right: 1em; text-align: center; vertical-align: top\">{'hed': 0.0}</td>\n",
       "    </tr>\n",
       "    <tr>\n",
       "        <td style=\"padding-left: 1em; padding-right: 1em; text-align: center; vertical-align: top\">汶川地震原因</td>\n",
       "        <td style=\"padding-left: 1em; padding-right: 1em; text-align: center; vertical-align: top\">{'\\xe6\\xb1\\xb6\\xe5\\xb7\\x9<br>d': 3.158251203051766 ...</td>\n",
       "        <td style=\"padding-left: 1em; padding-right: 1em; text-align: center; vertical-align: top\">{'ns':<br>1.6809339141391704, 'n': ...</td>\n",
       "        <td style=\"padding-left: 1em; padding-right: 1em; text-align: center; vertical-align: top\">{'hed': 0.0, 'att':<br>0.9496303724859151} ...</td>\n",
       "    </tr>\n",
       "    <tr>\n",
       "        <td style=\"padding-left: 1em; padding-right: 1em; text-align: center; vertical-align: top\">莫衷一是的意思</td>\n",
       "        <td style=\"padding-left: 1em; padding-right: 1em; text-align: center; vertical-align: top\">{'\\xe6\\x84\\x8f\\xe6\\x80\\x9<br>d': 6.812445099177812, ...</td>\n",
       "        <td style=\"padding-left: 1em; padding-right: 1em; text-align: center; vertical-align: top\">{'i': 5.0206856299497575,<br>'u': 2.8051119139453413, ...</td>\n",
       "        <td style=\"padding-left: 1em; padding-right: 1em; text-align: center; vertical-align: top\">{'hed': 0.0, 'rad':<br>2.8100829266673615, ...</td>\n",
       "    </tr>\n",
       "    <tr>\n",
       "        <td style=\"padding-left: 1em; padding-right: 1em; text-align: center; vertical-align: top\">星梦缘全集在线观�<br>�� ...</td>\n",
       "        <td style=\"padding-left: 1em; padding-right: 1em; text-align: center; vertical-align: top\">{'\\xe7\\xbc\\x98':<br>8.517193191416238, ...</td>\n",
       "        <td style=\"padding-left: 1em; padding-right: 1em; text-align: center; vertical-align: top\">{'p': 4.254513314374922,<br>'n': 1.4387178118361246, ...</td>\n",
       "        <td style=\"padding-left: 1em; padding-right: 1em; text-align: center; vertical-align: top\">{'hed': 0.0, 'att':<br>1.8992607449718302, ...</td>\n",
       "    </tr>\n",
       "    <tr>\n",
       "        <td style=\"padding-left: 1em; padding-right: 1em; text-align: center; vertical-align: top\">闪字吧</td>\n",
       "        <td style=\"padding-left: 1em; padding-right: 1em; text-align: center; vertical-align: top\">{'\\xe5\\x90\\xa7':<br>6.907755278982137, '\\ ...</td>\n",
       "        <td style=\"padding-left: 1em; padding-right: 1em; text-align: center; vertical-align: top\">{'u': 2.8051119139453413,<br>'n': 0.35967945295903 ...</td>\n",
       "        <td style=\"padding-left: 1em; padding-right: 1em; text-align: center; vertical-align: top\">{'hed': 0.0, 'rad':<br>2.8100829266673615} ...</td>\n",
       "    </tr>\n",
       "    <tr>\n",
       "        <td style=\"padding-left: 1em; padding-right: 1em; text-align: center; vertical-align: top\">霍震霆与朱玲玲照�<br>�� ...</td>\n",
       "        <td style=\"padding-left: 1em; padding-right: 1em; text-align: center; vertical-align: top\">{'\\xe6\\x9c\\xb1\\xe7\\x8e\\xb<br>2\\xe7\\x8e\\xb2': ...</td>\n",
       "        <td style=\"padding-left: 1em; padding-right: 1em; text-align: center; vertical-align: top\">{'nh':<br>2.9220358146316543, 'p': ...</td>\n",
       "        <td style=\"padding-left: 1em; padding-right: 1em; text-align: center; vertical-align: top\">{'hed': 0.0, 'lad':<br>4.8283137373023015, ...</td>\n",
       "    </tr>\n",
       "    <tr>\n",
       "        <td style=\"padding-left: 1em; padding-right: 1em; text-align: center; vertical-align: top\">电脑创业</td>\n",
       "        <td style=\"padding-left: 1em; padding-right: 1em; text-align: center; vertical-align: top\">{'\\xe7\\x94\\xb5\\xe8\\x84\\x9<br>1': 6.214608098422191 ...</td>\n",
       "        <td style=\"padding-left: 1em; padding-right: 1em; text-align: center; vertical-align: top\">{'n':<br>0.35967945295903114,  ...</td>\n",
       "        <td style=\"padding-left: 1em; padding-right: 1em; text-align: center; vertical-align: top\">{'hed': 0.0, 'sbv':<br>1.6607312068216509} ...</td>\n",
       "    </tr>\n",
       "</table>\n",
       "[10000 rows x 4 columns]<br/>Note: Only the head of the SFrame is printed.<br/>You can use print_rows(num_rows=m, num_columns=n) to print more rows and columns.\n",
       "</div>"
      ],
      "text/plain": [
       "Columns:\n",
       "\tquery\tstr\n",
       "\twords_tfidf\tdict\n",
       "\tposes_tfidf\tdict\n",
       "\tparsers_tfidf\tdict\n",
       "\n",
       "Rows: 10000\n",
       "\n",
       "Data:\n",
       "+--------------------+-------------------------------+\n",
       "|       query        |          words_tfidf          |\n",
       "+--------------------+-------------------------------+\n",
       "|    360安全卫士     | {'\\xe5\\x8d\\xab\\xe5\\xa3\\xab... |\n",
       "|    哄抢救灾物资    | {'\\xe6\\x95\\x91\\xe7\\x81\\xbe... |\n",
       "|     75810部队      | {'\\xe9\\x83\\xa8\\xe9\\x98\\x9f... |\n",
       "|        绳艺        | {'\\xe7\\xbb\\xb3\\xe8\\x89\\xba... |\n",
       "|    汶川地震原因    | {'\\xe6\\xb1\\xb6\\xe5\\xb7\\x9d... |\n",
       "|   莫衷一是的意思   | {'\\xe6\\x84\\x8f\\xe6\\x80\\x9d... |\n",
       "| 星梦缘全集在线观看 | {'\\xe7\\xbc\\x98': 8.5171931... |\n",
       "|       闪字吧       | {'\\xe5\\x90\\xa7': 6.9077552... |\n",
       "| 霍震霆与朱玲玲照片 | {'\\xe6\\x9c\\xb1\\xe7\\x8e\\xb2... |\n",
       "|      电脑创业      | {'\\xe7\\x94\\xb5\\xe8\\x84\\x91... |\n",
       "+--------------------+-------------------------------+\n",
       "+-------------------------------+-------------------------------+\n",
       "|          poses_tfidf          |         parsers_tfidf         |\n",
       "+-------------------------------+-------------------------------+\n",
       "| {'a': 2.6678684114693785, ... | {'hed': 0.0, 'att': 0.9496... |\n",
       "| {'v': 1.9955439474840764, ... | {'hed': 0.0, 'att': 0.4748... |\n",
       "| {'m': 2.4349742810397914, ... | {'hed': 0.0, 'att': 0.4748... |\n",
       "|   {'nh': 1.4610179073158271}  |          {'hed': 0.0}         |\n",
       "| {'ns': 1.6809339141391704,... | {'hed': 0.0, 'att': 0.9496... |\n",
       "| {'i': 5.0206856299497575, ... | {'hed': 0.0, 'rad': 2.8100... |\n",
       "| {'p': 4.254513314374922, '... | {'hed': 0.0, 'att': 1.8992... |\n",
       "| {'u': 2.8051119139453413, ... | {'hed': 0.0, 'rad': 2.8100... |\n",
       "| {'nh': 2.9220358146316543,... | {'hed': 0.0, 'lad': 4.8283... |\n",
       "| {'n': 0.35967945295903114,... | {'hed': 0.0, 'sbv': 1.6607... |\n",
       "+-------------------------------+-------------------------------+\n",
       "[10000 rows x 4 columns]\n",
       "Note: Only the head of the SFrame is printed.\n",
       "You can use print_rows(num_rows=m, num_columns=n) to print more rows and columns."
      ]
     },
     "execution_count": 40,
     "metadata": {},
     "output_type": "execute_result"
    }
   ],
   "source": [
    "data['query', 'words_tfidf', 'poses_tfidf', 'parsers_tfidf']"
   ]
  },
  {
   "cell_type": "code",
   "execution_count": 41,
   "metadata": {
    "collapsed": false
   },
   "outputs": [
    {
     "data": {
      "text/html": [
       "<div style=\"max-height:1000px;max-width:1500px;overflow:auto;\"><table frame=\"box\" rules=\"cols\">\n",
       "    <tr>\n",
       "        <th style=\"padding-left: 1em; padding-right: 1em; text-align: center\">query</th>\n",
       "        <th style=\"padding-left: 1em; padding-right: 1em; text-align: center\">len_words</th>\n",
       "        <th style=\"padding-left: 1em; padding-right: 1em; text-align: center\">len_seg</th>\n",
       "    </tr>\n",
       "    <tr>\n",
       "        <td style=\"padding-left: 1em; padding-right: 1em; text-align: center; vertical-align: top\">360安全卫士</td>\n",
       "        <td style=\"padding-left: 1em; padding-right: 1em; text-align: center; vertical-align: top\">7</td>\n",
       "        <td style=\"padding-left: 1em; padding-right: 1em; text-align: center; vertical-align: top\">3</td>\n",
       "    </tr>\n",
       "    <tr>\n",
       "        <td style=\"padding-left: 1em; padding-right: 1em; text-align: center; vertical-align: top\">哄抢救灾物资</td>\n",
       "        <td style=\"padding-left: 1em; padding-right: 1em; text-align: center; vertical-align: top\">6</td>\n",
       "        <td style=\"padding-left: 1em; padding-right: 1em; text-align: center; vertical-align: top\">3</td>\n",
       "    </tr>\n",
       "    <tr>\n",
       "        <td style=\"padding-left: 1em; padding-right: 1em; text-align: center; vertical-align: top\">75810部队</td>\n",
       "        <td style=\"padding-left: 1em; padding-right: 1em; text-align: center; vertical-align: top\">7</td>\n",
       "        <td style=\"padding-left: 1em; padding-right: 1em; text-align: center; vertical-align: top\">2</td>\n",
       "    </tr>\n",
       "    <tr>\n",
       "        <td style=\"padding-left: 1em; padding-right: 1em; text-align: center; vertical-align: top\">绳艺</td>\n",
       "        <td style=\"padding-left: 1em; padding-right: 1em; text-align: center; vertical-align: top\">2</td>\n",
       "        <td style=\"padding-left: 1em; padding-right: 1em; text-align: center; vertical-align: top\">1</td>\n",
       "    </tr>\n",
       "    <tr>\n",
       "        <td style=\"padding-left: 1em; padding-right: 1em; text-align: center; vertical-align: top\">汶川地震原因</td>\n",
       "        <td style=\"padding-left: 1em; padding-right: 1em; text-align: center; vertical-align: top\">6</td>\n",
       "        <td style=\"padding-left: 1em; padding-right: 1em; text-align: center; vertical-align: top\">3</td>\n",
       "    </tr>\n",
       "    <tr>\n",
       "        <td style=\"padding-left: 1em; padding-right: 1em; text-align: center; vertical-align: top\">莫衷一是的意思</td>\n",
       "        <td style=\"padding-left: 1em; padding-right: 1em; text-align: center; vertical-align: top\">7</td>\n",
       "        <td style=\"padding-left: 1em; padding-right: 1em; text-align: center; vertical-align: top\">3</td>\n",
       "    </tr>\n",
       "    <tr>\n",
       "        <td style=\"padding-left: 1em; padding-right: 1em; text-align: center; vertical-align: top\">星梦缘全集在线观�<br>�� ...</td>\n",
       "        <td style=\"padding-left: 1em; padding-right: 1em; text-align: center; vertical-align: top\">9</td>\n",
       "        <td style=\"padding-left: 1em; padding-right: 1em; text-align: center; vertical-align: top\">6</td>\n",
       "    </tr>\n",
       "    <tr>\n",
       "        <td style=\"padding-left: 1em; padding-right: 1em; text-align: center; vertical-align: top\">闪字吧</td>\n",
       "        <td style=\"padding-left: 1em; padding-right: 1em; text-align: center; vertical-align: top\">3</td>\n",
       "        <td style=\"padding-left: 1em; padding-right: 1em; text-align: center; vertical-align: top\">2</td>\n",
       "    </tr>\n",
       "    <tr>\n",
       "        <td style=\"padding-left: 1em; padding-right: 1em; text-align: center; vertical-align: top\">霍震霆与朱玲玲照�<br>�� ...</td>\n",
       "        <td style=\"padding-left: 1em; padding-right: 1em; text-align: center; vertical-align: top\">9</td>\n",
       "        <td style=\"padding-left: 1em; padding-right: 1em; text-align: center; vertical-align: top\">4</td>\n",
       "    </tr>\n",
       "    <tr>\n",
       "        <td style=\"padding-left: 1em; padding-right: 1em; text-align: center; vertical-align: top\">电脑创业</td>\n",
       "        <td style=\"padding-left: 1em; padding-right: 1em; text-align: center; vertical-align: top\">4</td>\n",
       "        <td style=\"padding-left: 1em; padding-right: 1em; text-align: center; vertical-align: top\">2</td>\n",
       "    </tr>\n",
       "</table>\n",
       "[10000 rows x 3 columns]<br/>Note: Only the head of the SFrame is printed.<br/>You can use print_rows(num_rows=m, num_columns=n) to print more rows and columns.\n",
       "</div>"
      ],
      "text/plain": [
       "Columns:\n",
       "\tquery\tstr\n",
       "\tlen_words\tint\n",
       "\tlen_seg\tint\n",
       "\n",
       "Rows: 10000\n",
       "\n",
       "Data:\n",
       "+--------------------+-----------+---------+\n",
       "|       query        | len_words | len_seg |\n",
       "+--------------------+-----------+---------+\n",
       "|    360安全卫士     |     7     |    3    |\n",
       "|    哄抢救灾物资    |     6     |    3    |\n",
       "|     75810部队      |     7     |    2    |\n",
       "|        绳艺        |     2     |    1    |\n",
       "|    汶川地震原因    |     6     |    3    |\n",
       "|   莫衷一是的意思   |     7     |    3    |\n",
       "| 星梦缘全集在线观看 |     9     |    6    |\n",
       "|       闪字吧       |     3     |    2    |\n",
       "| 霍震霆与朱玲玲照片 |     9     |    4    |\n",
       "|      电脑创业      |     4     |    2    |\n",
       "+--------------------+-----------+---------+\n",
       "[10000 rows x 3 columns]\n",
       "Note: Only the head of the SFrame is printed.\n",
       "You can use print_rows(num_rows=m, num_columns=n) to print more rows and columns."
      ]
     },
     "execution_count": 41,
     "metadata": {},
     "output_type": "execute_result"
    }
   ],
   "source": [
    "data['query', 'len_words', 'len_seg']"
   ]
  },
  {
   "cell_type": "code",
   "execution_count": 42,
   "metadata": {
    "collapsed": false
   },
   "outputs": [
    {
     "data": {
      "text/html": [
       "<div style=\"max-height:1000px;max-width:1500px;overflow:auto;\"><table frame=\"box\" rules=\"cols\">\n",
       "    <tr>\n",
       "        <th style=\"padding-left: 1em; padding-right: 1em; text-align: center\">query</th>\n",
       "        <th style=\"padding-left: 1em; padding-right: 1em; text-align: center\">result_rank</th>\n",
       "        <th style=\"padding-left: 1em; padding-right: 1em; text-align: center\">click_rank</th>\n",
       "    </tr>\n",
       "    <tr>\n",
       "        <td style=\"padding-left: 1em; padding-right: 1em; text-align: center; vertical-align: top\">360安全卫士</td>\n",
       "        <td style=\"padding-left: 1em; padding-right: 1em; text-align: center; vertical-align: top\">8</td>\n",
       "        <td style=\"padding-left: 1em; padding-right: 1em; text-align: center; vertical-align: top\">3</td>\n",
       "    </tr>\n",
       "    <tr>\n",
       "        <td style=\"padding-left: 1em; padding-right: 1em; text-align: center; vertical-align: top\">哄抢救灾物资</td>\n",
       "        <td style=\"padding-left: 1em; padding-right: 1em; text-align: center; vertical-align: top\">1</td>\n",
       "        <td style=\"padding-left: 1em; padding-right: 1em; text-align: center; vertical-align: top\">1</td>\n",
       "    </tr>\n",
       "    <tr>\n",
       "        <td style=\"padding-left: 1em; padding-right: 1em; text-align: center; vertical-align: top\">75810部队</td>\n",
       "        <td style=\"padding-left: 1em; padding-right: 1em; text-align: center; vertical-align: top\">14</td>\n",
       "        <td style=\"padding-left: 1em; padding-right: 1em; text-align: center; vertical-align: top\">5</td>\n",
       "    </tr>\n",
       "    <tr>\n",
       "        <td style=\"padding-left: 1em; padding-right: 1em; text-align: center; vertical-align: top\">绳艺</td>\n",
       "        <td style=\"padding-left: 1em; padding-right: 1em; text-align: center; vertical-align: top\">62</td>\n",
       "        <td style=\"padding-left: 1em; padding-right: 1em; text-align: center; vertical-align: top\">36</td>\n",
       "    </tr>\n",
       "    <tr>\n",
       "        <td style=\"padding-left: 1em; padding-right: 1em; text-align: center; vertical-align: top\">汶川地震原因</td>\n",
       "        <td style=\"padding-left: 1em; padding-right: 1em; text-align: center; vertical-align: top\">3</td>\n",
       "        <td style=\"padding-left: 1em; padding-right: 1em; text-align: center; vertical-align: top\">2</td>\n",
       "    </tr>\n",
       "    <tr>\n",
       "        <td style=\"padding-left: 1em; padding-right: 1em; text-align: center; vertical-align: top\">莫衷一是的意思</td>\n",
       "        <td style=\"padding-left: 1em; padding-right: 1em; text-align: center; vertical-align: top\">1</td>\n",
       "        <td style=\"padding-left: 1em; padding-right: 1em; text-align: center; vertical-align: top\">2</td>\n",
       "    </tr>\n",
       "    <tr>\n",
       "        <td style=\"padding-left: 1em; padding-right: 1em; text-align: center; vertical-align: top\">星梦缘全集在线观�<br>�� ...</td>\n",
       "        <td style=\"padding-left: 1em; padding-right: 1em; text-align: center; vertical-align: top\">8</td>\n",
       "        <td style=\"padding-left: 1em; padding-right: 1em; text-align: center; vertical-align: top\">5</td>\n",
       "    </tr>\n",
       "    <tr>\n",
       "        <td style=\"padding-left: 1em; padding-right: 1em; text-align: center; vertical-align: top\">闪字吧</td>\n",
       "        <td style=\"padding-left: 1em; padding-right: 1em; text-align: center; vertical-align: top\">1</td>\n",
       "        <td style=\"padding-left: 1em; padding-right: 1em; text-align: center; vertical-align: top\">2</td>\n",
       "    </tr>\n",
       "    <tr>\n",
       "        <td style=\"padding-left: 1em; padding-right: 1em; text-align: center; vertical-align: top\">霍震霆与朱玲玲照�<br>�� ...</td>\n",
       "        <td style=\"padding-left: 1em; padding-right: 1em; text-align: center; vertical-align: top\">2</td>\n",
       "        <td style=\"padding-left: 1em; padding-right: 1em; text-align: center; vertical-align: top\">6</td>\n",
       "    </tr>\n",
       "    <tr>\n",
       "        <td style=\"padding-left: 1em; padding-right: 1em; text-align: center; vertical-align: top\">电脑创业</td>\n",
       "        <td style=\"padding-left: 1em; padding-right: 1em; text-align: center; vertical-align: top\">2</td>\n",
       "        <td style=\"padding-left: 1em; padding-right: 1em; text-align: center; vertical-align: top\">2</td>\n",
       "    </tr>\n",
       "</table>\n",
       "[10000 rows x 3 columns]<br/>Note: Only the head of the SFrame is printed.<br/>You can use print_rows(num_rows=m, num_columns=n) to print more rows and columns.\n",
       "</div>"
      ],
      "text/plain": [
       "Columns:\n",
       "\tquery\tstr\n",
       "\tresult_rank\tint\n",
       "\tclick_rank\tint\n",
       "\n",
       "Rows: 10000\n",
       "\n",
       "Data:\n",
       "+--------------------+-------------+------------+\n",
       "|       query        | result_rank | click_rank |\n",
       "+--------------------+-------------+------------+\n",
       "|    360安全卫士     |      8      |     3      |\n",
       "|    哄抢救灾物资    |      1      |     1      |\n",
       "|     75810部队      |      14     |     5      |\n",
       "|        绳艺        |      62     |     36     |\n",
       "|    汶川地震原因    |      3      |     2      |\n",
       "|   莫衷一是的意思   |      1      |     2      |\n",
       "| 星梦缘全集在线观看 |      8      |     5      |\n",
       "|       闪字吧       |      1      |     2      |\n",
       "| 霍震霆与朱玲玲照片 |      2      |     6      |\n",
       "|      电脑创业      |      2      |     2      |\n",
       "+--------------------+-------------+------------+\n",
       "[10000 rows x 3 columns]\n",
       "Note: Only the head of the SFrame is printed.\n",
       "You can use print_rows(num_rows=m, num_columns=n) to print more rows and columns."
      ]
     },
     "execution_count": 42,
     "metadata": {},
     "output_type": "execute_result"
    }
   ],
   "source": [
    "data['query', 'result_rank', 'click_rank']"
   ]
  },
  {
   "cell_type": "code",
   "execution_count": 43,
   "metadata": {
    "collapsed": false
   },
   "outputs": [],
   "source": [
    "data['words_tfidf', 'poses_tfidf', 'parsers_tfidf', 'len_words', 'len_seg', 'result_rank', 'click_rank'].save('featureslala.csv')"
   ]
  },
  {
   "cell_type": "code",
   "execution_count": 44,
   "metadata": {
    "collapsed": true
   },
   "outputs": [],
   "source": [
    "df = pd.read_csv('featureslala.csv')"
   ]
  },
  {
   "cell_type": "code",
   "execution_count": 45,
   "metadata": {
    "collapsed": false
   },
   "outputs": [
    {
     "data": {
      "text/html": [
       "<div>\n",
       "<table border=\"1\" class=\"dataframe\">\n",
       "  <thead>\n",
       "    <tr style=\"text-align: right;\">\n",
       "      <th></th>\n",
       "      <th>words_tfidf</th>\n",
       "      <th>poses_tfidf</th>\n",
       "      <th>parsers_tfidf</th>\n",
       "      <th>len_words</th>\n",
       "      <th>len_seg</th>\n",
       "      <th>result_rank</th>\n",
       "      <th>click_rank</th>\n",
       "    </tr>\n",
       "  </thead>\n",
       "  <tbody>\n",
       "    <tr>\n",
       "      <th>0</th>\n",
       "      <td>{\"卫士\":8.51719,\"安全\":7.26443,\"360\":8.11173}</td>\n",
       "      <td>{\"n\":0.359679,\"a\":2.66787,\"nz\":2.70157}</td>\n",
       "      <td>{\"hed\":0,\"att\":0.94963}</td>\n",
       "      <td>7</td>\n",
       "      <td>3</td>\n",
       "      <td>8</td>\n",
       "      <td>3</td>\n",
       "    </tr>\n",
       "    <tr>\n",
       "      <th>1</th>\n",
       "      <td>{\"物资\":3.4389,\"救灾\":3.43269,\"哄抢\":3.4389}</td>\n",
       "      <td>{\"n\":0.359679,\"v\":1.99554}</td>\n",
       "      <td>{\"vob\":1.76785,\"att\":0.474815,\"hed\":0}</td>\n",
       "      <td>6</td>\n",
       "      <td>3</td>\n",
       "      <td>1</td>\n",
       "      <td>1</td>\n",
       "    </tr>\n",
       "    <tr>\n",
       "      <th>2</th>\n",
       "      <td>{\"部队\":7.6009,\"75810\":9.21034}</td>\n",
       "      <td>{\"n\":0.359679,\"m\":2.43497}</td>\n",
       "      <td>{\"hed\":0,\"att\":0.474815}</td>\n",
       "      <td>7</td>\n",
       "      <td>2</td>\n",
       "      <td>14</td>\n",
       "      <td>5</td>\n",
       "    </tr>\n",
       "    <tr>\n",
       "      <th>3</th>\n",
       "      <td>{\"绳艺\":7.26443}</td>\n",
       "      <td>{\"nh\":1.46102}</td>\n",
       "      <td>{\"hed\":0}</td>\n",
       "      <td>2</td>\n",
       "      <td>1</td>\n",
       "      <td>62</td>\n",
       "      <td>36</td>\n",
       "    </tr>\n",
       "    <tr>\n",
       "      <th>4</th>\n",
       "      <td>{\"地震\":2.80677,\"原因\":3.32424,\"汶川\":3.15825}</td>\n",
       "      <td>{\"n\":0.719359,\"ns\":1.68093}</td>\n",
       "      <td>{\"hed\":0,\"att\":0.94963}</td>\n",
       "      <td>6</td>\n",
       "      <td>3</td>\n",
       "      <td>3</td>\n",
       "      <td>2</td>\n",
       "    </tr>\n",
       "    <tr>\n",
       "      <th>5</th>\n",
       "      <td>{\"意思\":6.81245,\"的\":3.00175,\"莫衷一是\":9.21034}</td>\n",
       "      <td>{\"n\":0.359679,\"u\":2.80511,\"i\":5.02069}</td>\n",
       "      <td>{\"hed\":0,\"rad\":2.81008,\"att\":0.474815}</td>\n",
       "      <td>7</td>\n",
       "      <td>3</td>\n",
       "      <td>1</td>\n",
       "      <td>2</td>\n",
       "    </tr>\n",
       "    <tr>\n",
       "      <th>6</th>\n",
       "      <td>{\"全集\":5.08321,\"缘\":8.51719,\"在线\":4.75599,\"梦\":7.0...</td>\n",
       "      <td>{\"v\":0.997772,\"p\":4.25451,\"n\":1.43872}</td>\n",
       "      <td>{\"hed\":0,\"sbv\":1.66073,\"att\":1.89926}</td>\n",
       "      <td>9</td>\n",
       "      <td>6</td>\n",
       "      <td>8</td>\n",
       "      <td>5</td>\n",
       "    </tr>\n",
       "    <tr>\n",
       "      <th>7</th>\n",
       "      <td>{\"吧\":6.90776,\"闪字\":8.51719}</td>\n",
       "      <td>{\"u\":2.80511,\"n\":0.359679}</td>\n",
       "      <td>{\"rad\":2.81008,\"hed\":0}</td>\n",
       "      <td>3</td>\n",
       "      <td>2</td>\n",
       "      <td>1</td>\n",
       "      <td>2</td>\n",
       "    </tr>\n",
       "    <tr>\n",
       "      <th>8</th>\n",
       "      <td>{\"照片\":4.77952,\"朱玲玲\":8.51719,\"与\":5.42615,\"霍震霆\":...</td>\n",
       "      <td>{\"n\":0.359679,\"p\":4.25451,\"nh\":2.92204}</td>\n",
       "      <td>{\"hed\":0,\"coo\":2.21916,\"lad\":4.82831,\"att\":0.4...</td>\n",
       "      <td>9</td>\n",
       "      <td>4</td>\n",
       "      <td>2</td>\n",
       "      <td>6</td>\n",
       "    </tr>\n",
       "    <tr>\n",
       "      <th>9</th>\n",
       "      <td>{\"创业\":7.41858,\"电脑\":6.21461}</td>\n",
       "      <td>{\"v\":0.997772,\"n\":0.359679}</td>\n",
       "      <td>{\"hed\":0,\"sbv\":1.66073}</td>\n",
       "      <td>4</td>\n",
       "      <td>2</td>\n",
       "      <td>2</td>\n",
       "      <td>2</td>\n",
       "    </tr>\n",
       "    <tr>\n",
       "      <th>10</th>\n",
       "      <td>{\"图片\":3.64582,\"111aa\":9.21034}</td>\n",
       "      <td>{\"n\":0.359679,\"m\":2.43497}</td>\n",
       "      <td>{\"hed\":0,\"att\":0.474815}</td>\n",
       "      <td>7</td>\n",
       "      <td>2</td>\n",
       "      <td>1</td>\n",
       "      <td>6</td>\n",
       "    </tr>\n",
       "    <tr>\n",
       "      <th>11</th>\n",
       "      <td>{\"制成\":7.6009,\"的\":3.00175,\"豆腐\":7.82405}</td>\n",
       "      <td>{\"u\":2.80511,\"v\":0.997772,\"n\":0.359679}</td>\n",
       "      <td>{\"hed\":0,\"rad\":2.81008,\"att\":0.474815}</td>\n",
       "      <td>5</td>\n",
       "      <td>3</td>\n",
       "      <td>3</td>\n",
       "      <td>13</td>\n",
       "    </tr>\n",
       "    <tr>\n",
       "      <th>12</th>\n",
       "      <td>{\"电影\":4.15409,\"禁播\":8.11173,\"+\":2.19823,\"tudou....</td>\n",
       "      <td>{\"n\":0.359679,\"v\":0.997772,\"wp\":2.05105,\"ws\":1...</td>\n",
       "      <td>{\"vob\":1.76785,\"coo\":2.21916,\"wp\":2.05105,\"hed...</td>\n",
       "      <td>14</td>\n",
       "      <td>4</td>\n",
       "      <td>2</td>\n",
       "      <td>9</td>\n",
       "    </tr>\n",
       "    <tr>\n",
       "      <th>13</th>\n",
       "      <td>{\"时间\":6.07485,\"受孕\":6.50229,\"最佳\":7.26443}</td>\n",
       "      <td>{\"n\":0.359679,\"v\":0.997772,\"z\":6.37713}</td>\n",
       "      <td>{\"hed\":0,\"att\":0.94963}</td>\n",
       "      <td>6</td>\n",
       "      <td>3</td>\n",
       "      <td>6</td>\n",
       "      <td>3</td>\n",
       "    </tr>\n",
       "    <tr>\n",
       "      <th>14</th>\n",
       "      <td>{\"教案\":7.1309,\"+\":4.39645,\"土风舞\":8.51719,\"民歌\":8....</td>\n",
       "      <td>{\"wp\":4.1021,\"n\":1.07904,\"ns\":1.68093}</td>\n",
       "      <td>{\"coo\":2.21916,\"wp\":4.1021,\"hed\":0,\"att\":0.94963}</td>\n",
       "      <td>11</td>\n",
       "      <td>6</td>\n",
       "      <td>2</td>\n",
       "      <td>3</td>\n",
       "    </tr>\n",
       "    <tr>\n",
       "      <th>15</th>\n",
       "      <td>{\"pdf\":8.51719}</td>\n",
       "      <td>{\"ws\":1.88519}</td>\n",
       "      <td>{\"hed\":0}</td>\n",
       "      <td>3</td>\n",
       "      <td>1</td>\n",
       "      <td>1</td>\n",
       "      <td>1</td>\n",
       "    </tr>\n",
       "    <tr>\n",
       "      <th>16</th>\n",
       "      <td>{\"day\":9.21034,\"+\":2.19823,\"lonely\":9.21034,\"乐...</td>\n",
       "      <td>{\"wp\":2.05105,\"ws\":3.77038,\"n\":0.359679,\"v\":0....</td>\n",
       "      <td>{\"coo\":2.21916,\"wp\":2.05105,\"hed\":0,\"att\":0.94...</td>\n",
       "      <td>14</td>\n",
       "      <td>5</td>\n",
       "      <td>7</td>\n",
       "      <td>9</td>\n",
       "    </tr>\n",
       "    <tr>\n",
       "      <th>17</th>\n",
       "      <td>{\"报价\":5.9145,\"相机\":7.26443,\"尼康\":9.21034}</td>\n",
       "      <td>{\"v\":0.997772,\"n\":0.359679,\"nz\":2.70157}</td>\n",
       "      <td>{\"hed\":0,\"att\":0.94963}</td>\n",
       "      <td>6</td>\n",
       "      <td>3</td>\n",
       "      <td>6</td>\n",
       "      <td>4</td>\n",
       "    </tr>\n",
       "    <tr>\n",
       "      <th>18</th>\n",
       "      <td>{\"物资\":3.4389,\"救灾\":3.43269,\"哄抢\":3.4389}</td>\n",
       "      <td>{\"n\":0.359679,\"v\":1.99554}</td>\n",
       "      <td>{\"vob\":1.76785,\"att\":0.474815,\"hed\":0}</td>\n",
       "      <td>6</td>\n",
       "      <td>3</td>\n",
       "      <td>2</td>\n",
       "      <td>1</td>\n",
       "    </tr>\n",
       "    <tr>\n",
       "      <th>19</th>\n",
       "      <td>{\"1000\":9.21034}</td>\n",
       "      <td>{\"m\":2.43497}</td>\n",
       "      <td>{\"hed\":0}</td>\n",
       "      <td>4</td>\n",
       "      <td>1</td>\n",
       "      <td>4</td>\n",
       "      <td>1</td>\n",
       "    </tr>\n",
       "    <tr>\n",
       "      <th>20</th>\n",
       "      <td>{\"展鹏\":8.11173,\"天下\":7.82405,\"+\":6.59468,\"剑荡\":8....</td>\n",
       "      <td>{\"nh\":1.46102,\"wp\":6.15315,\"n\":0.359679,\"v\":0....</td>\n",
       "      <td>{\"coo\":2.21916,\"vob\":1.76785,\"wp\":6.15315,\"hed...</td>\n",
       "      <td>9</td>\n",
       "      <td>6</td>\n",
       "      <td>4</td>\n",
       "      <td>5</td>\n",
       "    </tr>\n",
       "    <tr>\n",
       "      <th>21</th>\n",
       "      <td>{\"人妖\":7.6009}</td>\n",
       "      <td>{\"n\":0.359679}</td>\n",
       "      <td>{\"hed\":0}</td>\n",
       "      <td>2</td>\n",
       "      <td>1</td>\n",
       "      <td>4</td>\n",
       "      <td>1</td>\n",
       "    </tr>\n",
       "    <tr>\n",
       "      <th>22</th>\n",
       "      <td>{\"事\":4.85363,\"回\":4.81589,\"怎么\":4.49184,\"是\":3.99...</td>\n",
       "      <td>{\"q\":3.4389,\"r\":2.85945,\"n\":0.359679,\"v\":1.995...</td>\n",
       "      <td>{\"vob\":1.76785,\"hed\":0,\"sbv\":1.66073,\"att\":1.4...</td>\n",
       "      <td>9</td>\n",
       "      <td>6</td>\n",
       "      <td>2</td>\n",
       "      <td>6</td>\n",
       "    </tr>\n",
       "    <tr>\n",
       "      <th>23</th>\n",
       "      <td>{\"五金厂\":9.21034,\"塑胶\":9.21034,\"新泰\":9.21034,\"塘厦\":...</td>\n",
       "      <td>{\"n\":0.719359,\"ns\":5.0428}</td>\n",
       "      <td>{\"hed\":0,\"att\":1.89926}</td>\n",
       "      <td>12</td>\n",
       "      <td>5</td>\n",
       "      <td>10</td>\n",
       "      <td>44</td>\n",
       "    </tr>\n",
       "    <tr>\n",
       "      <th>24</th>\n",
       "      <td>{\"胡其美\":8.11173}</td>\n",
       "      <td>{\"nh\":1.46102}</td>\n",
       "      <td>{\"hed\":0}</td>\n",
       "      <td>3</td>\n",
       "      <td>1</td>\n",
       "      <td>26</td>\n",
       "      <td>3</td>\n",
       "    </tr>\n",
       "    <tr>\n",
       "      <th>25</th>\n",
       "      <td>{\"经历\":6.50229,\"鸭子\":8.11173,\"找\":8.11173,\"女士\":6....</td>\n",
       "      <td>{\"v\":0.997772,\"n\":1.07904}</td>\n",
       "      <td>{\"vob\":3.5357,\"hed\":0,\"sbv\":1.66073}</td>\n",
       "      <td>7</td>\n",
       "      <td>4</td>\n",
       "      <td>3</td>\n",
       "      <td>2</td>\n",
       "    </tr>\n",
       "    <tr>\n",
       "      <th>26</th>\n",
       "      <td>{\"运程\":7.26443,\"2008年\":5.44914}</td>\n",
       "      <td>{\"n\":0.359679,\"nt\":3.63439}</td>\n",
       "      <td>{\"hed\":0,\"att\":0.474815}</td>\n",
       "      <td>7</td>\n",
       "      <td>2</td>\n",
       "      <td>4</td>\n",
       "      <td>3</td>\n",
       "    </tr>\n",
       "    <tr>\n",
       "      <th>27</th>\n",
       "      <td>{\"》\":6.64539,\"天鹅湖\":9.21034,\"《\":6.50229,\"芭蕾舞剧\":...</td>\n",
       "      <td>{\"ns\":1.68093,\"wp\":4.1021,\"n\":0.359679}</td>\n",
       "      <td>{\"hed\":0,\"wp\":4.1021,\"att\":0.474815}</td>\n",
       "      <td>9</td>\n",
       "      <td>4</td>\n",
       "      <td>5</td>\n",
       "      <td>6</td>\n",
       "    </tr>\n",
       "    <tr>\n",
       "      <th>28</th>\n",
       "      <td>{\"不锈钢\":8.51719}</td>\n",
       "      <td>{\"n\":0.359679}</td>\n",
       "      <td>{\"hed\":0}</td>\n",
       "      <td>3</td>\n",
       "      <td>1</td>\n",
       "      <td>1</td>\n",
       "      <td>1</td>\n",
       "    </tr>\n",
       "    <tr>\n",
       "      <th>29</th>\n",
       "      <td>{\"合成\":6.07485,\"明星\":5.87814}</td>\n",
       "      <td>{\"v\":0.997772,\"n\":0.359679}</td>\n",
       "      <td>{\"hed\":0,\"sbv\":1.66073}</td>\n",
       "      <td>4</td>\n",
       "      <td>2</td>\n",
       "      <td>64</td>\n",
       "      <td>21</td>\n",
       "    </tr>\n",
       "    <tr>\n",
       "      <th>...</th>\n",
       "      <td>...</td>\n",
       "      <td>...</td>\n",
       "      <td>...</td>\n",
       "      <td>...</td>\n",
       "      <td>...</td>\n",
       "      <td>...</td>\n",
       "      <td>...</td>\n",
       "    </tr>\n",
       "    <tr>\n",
       "      <th>9970</th>\n",
       "      <td>{\"+\":2.19823,\"亜梨\":7.41858,\"bt\":5.68398,\"沙\":7.4...</td>\n",
       "      <td>{\"ws\":1.88519,\"wp\":2.05105,\"n\":0.719359,\"ns\":1...</td>\n",
       "      <td>{\"coo\":2.21916,\"wp\":2.05105,\"hed\":0,\"att\":0.94...</td>\n",
       "      <td>8</td>\n",
       "      <td>5</td>\n",
       "      <td>40</td>\n",
       "      <td>32</td>\n",
       "    </tr>\n",
       "    <tr>\n",
       "      <th>9971</th>\n",
       "      <td>{\"8080\":9.21034}</td>\n",
       "      <td>{\"m\":2.43497}</td>\n",
       "      <td>{\"hed\":0}</td>\n",
       "      <td>4</td>\n",
       "      <td>1</td>\n",
       "      <td>1</td>\n",
       "      <td>1</td>\n",
       "    </tr>\n",
       "    <tr>\n",
       "      <th>9972</th>\n",
       "      <td>{\"漫画\":6.37713}</td>\n",
       "      <td>{\"n\":0.359679}</td>\n",
       "      <td>{\"hed\":0}</td>\n",
       "      <td>2</td>\n",
       "      <td>1</td>\n",
       "      <td>1</td>\n",
       "      <td>1</td>\n",
       "    </tr>\n",
       "    <tr>\n",
       "      <th>9973</th>\n",
       "      <td>{\"分析\":6.50229,\"市场\":7.1309,\"手机\":4.63563,\"08年\":6...</td>\n",
       "      <td>{\"v\":0.997772,\"n\":0.719359,\"nt\":3.63439}</td>\n",
       "      <td>{\"hed\":0,\"att\":0.94963,\"adv\":2.51084}</td>\n",
       "      <td>9</td>\n",
       "      <td>4</td>\n",
       "      <td>55</td>\n",
       "      <td>36</td>\n",
       "    </tr>\n",
       "    <tr>\n",
       "      <th>9974</th>\n",
       "      <td>{\"图片\":3.64582,\"海啸\":6.31997,\"印尼\":3.83506}</td>\n",
       "      <td>{\"n\":0.719359,\"ns\":1.68093}</td>\n",
       "      <td>{\"hed\":0,\"att\":0.94963}</td>\n",
       "      <td>6</td>\n",
       "      <td>3</td>\n",
       "      <td>2</td>\n",
       "      <td>9</td>\n",
       "    </tr>\n",
       "    <tr>\n",
       "      <th>9975</th>\n",
       "      <td>{\"物资\":3.4389,\"救灾\":3.43269,\"哄抢\":3.4389}</td>\n",
       "      <td>{\"n\":0.359679,\"v\":1.99554}</td>\n",
       "      <td>{\"vob\":1.76785,\"att\":0.474815,\"hed\":0}</td>\n",
       "      <td>6</td>\n",
       "      <td>3</td>\n",
       "      <td>2</td>\n",
       "      <td>2</td>\n",
       "    </tr>\n",
       "    <tr>\n",
       "      <th>9976</th>\n",
       "      <td>{\"租房\":7.82405,\"锦州\":8.51719}</td>\n",
       "      <td>{\"v\":0.997772,\"ns\":1.68093}</td>\n",
       "      <td>{\"hed\":0,\"att\":0.474815}</td>\n",
       "      <td>4</td>\n",
       "      <td>2</td>\n",
       "      <td>2</td>\n",
       "      <td>2</td>\n",
       "    </tr>\n",
       "    <tr>\n",
       "      <th>9977</th>\n",
       "      <td>{\"周天\":7.82405,\"大小\":7.82405}</td>\n",
       "      <td>{\"nh\":1.46102,\"n\":0.359679}</td>\n",
       "      <td>{\"hed\":0,\"att\":0.474815}</td>\n",
       "      <td>4</td>\n",
       "      <td>2</td>\n",
       "      <td>7</td>\n",
       "      <td>10</td>\n",
       "    </tr>\n",
       "    <tr>\n",
       "      <th>9978</th>\n",
       "      <td>{\"历史\":6.72543,\"唐朝\":9.21034}</td>\n",
       "      <td>{\"n\":0.359679,\"nt\":3.63439}</td>\n",
       "      <td>{\"hed\":0,\"att\":0.474815}</td>\n",
       "      <td>4</td>\n",
       "      <td>2</td>\n",
       "      <td>7</td>\n",
       "      <td>3</td>\n",
       "    </tr>\n",
       "    <tr>\n",
       "      <th>9979</th>\n",
       "      <td>{\"视频\":4.02295,\"金巧巧\":9.21034}</td>\n",
       "      <td>{\"n\":0.359679,\"nz\":2.70157}</td>\n",
       "      <td>{\"hed\":0,\"att\":0.474815}</td>\n",
       "      <td>5</td>\n",
       "      <td>2</td>\n",
       "      <td>9</td>\n",
       "      <td>4</td>\n",
       "    </tr>\n",
       "    <tr>\n",
       "      <th>9980</th>\n",
       "      <td>{\"暴行\":7.6009,\"排华\":4.62537,\"印尼\":3.83506}</td>\n",
       "      <td>{\"n\":0.359679,\"v\":0.997772,\"ns\":1.68093}</td>\n",
       "      <td>{\"vob\":1.76785,\"hed\":0,\"sbv\":1.66073}</td>\n",
       "      <td>6</td>\n",
       "      <td>3</td>\n",
       "      <td>10</td>\n",
       "      <td>3</td>\n",
       "    </tr>\n",
       "    <tr>\n",
       "      <th>9981</th>\n",
       "      <td>{\"钙\":7.26443,\"怎样\":5.68398,\"补\":6.72543,\"儿童\":5.6...</td>\n",
       "      <td>{\"r\":2.85945,\"v\":0.997772,\"n\":0.719359}</td>\n",
       "      <td>{\"vob\":1.76785,\"hed\":0,\"adv\":2.51084,\"sbv\":1.6...</td>\n",
       "      <td>6</td>\n",
       "      <td>4</td>\n",
       "      <td>4</td>\n",
       "      <td>11</td>\n",
       "    </tr>\n",
       "    <tr>\n",
       "      <th>9982</th>\n",
       "      <td>{\"预测\":6.31997,\"地震\":2.80677,\"陕西\":6.81245}</td>\n",
       "      <td>{\"v\":0.997772,\"n\":0.359679,\"ns\":1.68093}</td>\n",
       "      <td>{\"hed\":0,\"sbv\":1.66073,\"att\":0.474815}</td>\n",
       "      <td>6</td>\n",
       "      <td>3</td>\n",
       "      <td>2</td>\n",
       "      <td>6</td>\n",
       "    </tr>\n",
       "    <tr>\n",
       "      <th>9983</th>\n",
       "      <td>{\"清廉\":7.41858,\"+\":4.39645,\"务实\":7.41858,\"民\":7.4...</td>\n",
       "      <td>{\"a\":2.66787,\"wp\":4.1021,\"v\":0.997772,\"n\":0.35...</td>\n",
       "      <td>{\"hed\":0,\"wp\":4.1021,\"coo\":2.21916,\"sbv\":1.660...</td>\n",
       "      <td>8</td>\n",
       "      <td>6</td>\n",
       "      <td>10</td>\n",
       "      <td>14</td>\n",
       "    </tr>\n",
       "    <tr>\n",
       "      <th>9984</th>\n",
       "      <td>{\"英语\":6.07485,\"本\":6.81245,\"复习\":8.51719,\"专升\":8....</td>\n",
       "      <td>{\"nz\":2.70157,\"r\":2.85945,\"v\":1.99554}</td>\n",
       "      <td>{\"vob\":1.76785,\"hed\":0,\"adv\":5.02168}</td>\n",
       "      <td>7</td>\n",
       "      <td>4</td>\n",
       "      <td>3</td>\n",
       "      <td>2</td>\n",
       "    </tr>\n",
       "    <tr>\n",
       "      <th>9985</th>\n",
       "      <td>{\"婚姻\":6.37713,\"八字算\":7.82405,\"生辰\":7.82405,\"免费\":...</td>\n",
       "      <td>{\"n\":0.719359,\"v\":1.99554}</td>\n",
       "      <td>{\"vob\":1.76785,\"hed\":0,\"sbv\":1.66073,\"att\":0.4...</td>\n",
       "      <td>9</td>\n",
       "      <td>4</td>\n",
       "      <td>4</td>\n",
       "      <td>2</td>\n",
       "    </tr>\n",
       "    <tr>\n",
       "      <th>9986</th>\n",
       "      <td>{\"立花里子\":9.21034}</td>\n",
       "      <td>{\"nh\":1.46102}</td>\n",
       "      <td>{\"hed\":0}</td>\n",
       "      <td>4</td>\n",
       "      <td>1</td>\n",
       "      <td>4</td>\n",
       "      <td>1</td>\n",
       "    </tr>\n",
       "    <tr>\n",
       "      <th>9987</th>\n",
       "      <td>{\"歌曲\":5.7446,\"+\":2.19823,\"中英文\":8.11173}</td>\n",
       "      <td>{\"n\":0.359679,\"wp\":2.05105,\"j\":3.57913}</td>\n",
       "      <td>{\"hed\":0,\"wp\":2.05105,\"att\":0.474815}</td>\n",
       "      <td>6</td>\n",
       "      <td>3</td>\n",
       "      <td>5</td>\n",
       "      <td>2</td>\n",
       "    </tr>\n",
       "    <tr>\n",
       "      <th>9988</th>\n",
       "      <td>{\"十\":6.07485,\"震后\":6.57128,\"分钟\":6.57128,\"汶川\":3....</td>\n",
       "      <td>{\"q\":3.4389,\"m\":2.43497,\"nt\":3.63439,\"ns\":1.68...</td>\n",
       "      <td>{\"hed\":0,\"att\":1.42445}</td>\n",
       "      <td>7</td>\n",
       "      <td>4</td>\n",
       "      <td>8</td>\n",
       "      <td>28</td>\n",
       "    </tr>\n",
       "    <tr>\n",
       "      <th>9989</th>\n",
       "      <td>{\"时候\":6.64539,\"发片\":9.21034,\"什么\":4.61522,\"萧亚轩\":...</td>\n",
       "      <td>{\"n\":0.719359,\"r\":2.85945,\"nh\":1.46102}</td>\n",
       "      <td>{\"hed\":0,\"adv\":2.51084,\"att\":0.474815,\"sbv\":1....</td>\n",
       "      <td>9</td>\n",
       "      <td>4</td>\n",
       "      <td>1</td>\n",
       "      <td>1</td>\n",
       "    </tr>\n",
       "    <tr>\n",
       "      <th>9990</th>\n",
       "      <td>{\"十\":6.07485,\"震后\":6.57128,\"分钟\":6.57128,\"汶川\":3....</td>\n",
       "      <td>{\"q\":3.4389,\"m\":2.43497,\"nt\":3.63439,\"ns\":1.68...</td>\n",
       "      <td>{\"hed\":0,\"att\":1.42445}</td>\n",
       "      <td>7</td>\n",
       "      <td>4</td>\n",
       "      <td>8</td>\n",
       "      <td>29</td>\n",
       "    </tr>\n",
       "    <tr>\n",
       "      <th>9991</th>\n",
       "      <td>{\"网络\":5.54678}</td>\n",
       "      <td>{\"n\":0.359679}</td>\n",
       "      <td>{\"hed\":0}</td>\n",
       "      <td>2</td>\n",
       "      <td>1</td>\n",
       "      <td>1001</td>\n",
       "      <td>1</td>\n",
       "    </tr>\n",
       "    <tr>\n",
       "      <th>9992</th>\n",
       "      <td>{\"hp4vc\":6.43775}</td>\n",
       "      <td>{\"ws\":1.88519}</td>\n",
       "      <td>{\"hed\":0}</td>\n",
       "      <td>5</td>\n",
       "      <td>1</td>\n",
       "      <td>206</td>\n",
       "      <td>62</td>\n",
       "    </tr>\n",
       "    <tr>\n",
       "      <th>9993</th>\n",
       "      <td>{\"金铃\":6.72543,\"+\":2.19823,\"启示录\":6.57128,\"武林\":6...</td>\n",
       "      <td>{\"nh\":1.46102,\"wp\":2.05105,\"n\":0.719359}</td>\n",
       "      <td>{\"hed\":0,\"wp\":2.05105,\"att\":0.94963}</td>\n",
       "      <td>8</td>\n",
       "      <td>4</td>\n",
       "      <td>12</td>\n",
       "      <td>53</td>\n",
       "    </tr>\n",
       "    <tr>\n",
       "      <th>9994</th>\n",
       "      <td>{\"地震\":2.80677,\"天文\":7.01312}</td>\n",
       "      <td>{\"n\":0.719359}</td>\n",
       "      <td>{\"hed\":0,\"att\":0.474815}</td>\n",
       "      <td>4</td>\n",
       "      <td>2</td>\n",
       "      <td>75</td>\n",
       "      <td>40</td>\n",
       "    </tr>\n",
       "    <tr>\n",
       "      <th>9995</th>\n",
       "      <td>{\"整容\":7.01312,\"女星\":8.51719,\"前\":6.16582,\"韩国\":4....</td>\n",
       "      <td>{\"nd\":4.34281,\"v\":0.997772,\"n\":0.359679,\"ns\":1...</td>\n",
       "      <td>{\"hed\":0,\"sbv\":1.66073,\"att\":0.94963}</td>\n",
       "      <td>7</td>\n",
       "      <td>4</td>\n",
       "      <td>3</td>\n",
       "      <td>11</td>\n",
       "    </tr>\n",
       "    <tr>\n",
       "      <th>9996</th>\n",
       "      <td>{\"ass\":7.41858,\"in\":7.41858,\"her\":7.41858,\"+\":...</td>\n",
       "      <td>{\"wp\":6.15315,\"ws\":7.54077}</td>\n",
       "      <td>{\"coo\":6.65749,\"wp\":6.15315,\"hed\":0}</td>\n",
       "      <td>14</td>\n",
       "      <td>7</td>\n",
       "      <td>140</td>\n",
       "      <td>14</td>\n",
       "    </tr>\n",
       "    <tr>\n",
       "      <th>9997</th>\n",
       "      <td>{\"物资\":3.4389,\"救灾\":3.43269,\"哄抢\":3.4389}</td>\n",
       "      <td>{\"n\":0.359679,\"v\":1.99554}</td>\n",
       "      <td>{\"vob\":1.76785,\"att\":0.474815,\"hed\":0}</td>\n",
       "      <td>6</td>\n",
       "      <td>3</td>\n",
       "      <td>4</td>\n",
       "      <td>1</td>\n",
       "    </tr>\n",
       "    <tr>\n",
       "      <th>9998</th>\n",
       "      <td>{\"报价\":5.9145,\"轮胎\":7.1309,\"通\":6.57128,\"普利司\":7.6...</td>\n",
       "      <td>{\"v\":1.99554,\"n\":0.719359}</td>\n",
       "      <td>{\"vob\":3.5357,\"hed\":0,\"sbv\":1.66073}</td>\n",
       "      <td>8</td>\n",
       "      <td>4</td>\n",
       "      <td>1</td>\n",
       "      <td>6</td>\n",
       "    </tr>\n",
       "    <tr>\n",
       "      <th>9999</th>\n",
       "      <td>{\"酒店\":6.81245}</td>\n",
       "      <td>{\"n\":0.359679}</td>\n",
       "      <td>{\"hed\":0}</td>\n",
       "      <td>2</td>\n",
       "      <td>1</td>\n",
       "      <td>1001</td>\n",
       "      <td>1</td>\n",
       "    </tr>\n",
       "  </tbody>\n",
       "</table>\n",
       "<p>10000 rows × 7 columns</p>\n",
       "</div>"
      ],
      "text/plain": [
       "                                            words_tfidf  \\\n",
       "0             {\"卫士\":8.51719,\"安全\":7.26443,\"360\":8.11173}   \n",
       "1                {\"物资\":3.4389,\"救灾\":3.43269,\"哄抢\":3.4389}   \n",
       "2                         {\"部队\":7.6009,\"75810\":9.21034}   \n",
       "3                                        {\"绳艺\":7.26443}   \n",
       "4              {\"地震\":2.80677,\"原因\":3.32424,\"汶川\":3.15825}   \n",
       "5             {\"意思\":6.81245,\"的\":3.00175,\"莫衷一是\":9.21034}   \n",
       "6     {\"全集\":5.08321,\"缘\":8.51719,\"在线\":4.75599,\"梦\":7.0...   \n",
       "7                            {\"吧\":6.90776,\"闪字\":8.51719}   \n",
       "8     {\"照片\":4.77952,\"朱玲玲\":8.51719,\"与\":5.42615,\"霍震霆\":...   \n",
       "9                           {\"创业\":7.41858,\"电脑\":6.21461}   \n",
       "10                       {\"图片\":3.64582,\"111aa\":9.21034}   \n",
       "11               {\"制成\":7.6009,\"的\":3.00175,\"豆腐\":7.82405}   \n",
       "12    {\"电影\":4.15409,\"禁播\":8.11173,\"+\":2.19823,\"tudou....   \n",
       "13             {\"时间\":6.07485,\"受孕\":6.50229,\"最佳\":7.26443}   \n",
       "14    {\"教案\":7.1309,\"+\":4.39645,\"土风舞\":8.51719,\"民歌\":8....   \n",
       "15                                      {\"pdf\":8.51719}   \n",
       "16    {\"day\":9.21034,\"+\":2.19823,\"lonely\":9.21034,\"乐...   \n",
       "17              {\"报价\":5.9145,\"相机\":7.26443,\"尼康\":9.21034}   \n",
       "18               {\"物资\":3.4389,\"救灾\":3.43269,\"哄抢\":3.4389}   \n",
       "19                                     {\"1000\":9.21034}   \n",
       "20    {\"展鹏\":8.11173,\"天下\":7.82405,\"+\":6.59468,\"剑荡\":8....   \n",
       "21                                        {\"人妖\":7.6009}   \n",
       "22    {\"事\":4.85363,\"回\":4.81589,\"怎么\":4.49184,\"是\":3.99...   \n",
       "23    {\"五金厂\":9.21034,\"塑胶\":9.21034,\"新泰\":9.21034,\"塘厦\":...   \n",
       "24                                      {\"胡其美\":8.11173}   \n",
       "25    {\"经历\":6.50229,\"鸭子\":8.11173,\"找\":8.11173,\"女士\":6....   \n",
       "26                       {\"运程\":7.26443,\"2008年\":5.44914}   \n",
       "27    {\"》\":6.64539,\"天鹅湖\":9.21034,\"《\":6.50229,\"芭蕾舞剧\":...   \n",
       "28                                      {\"不锈钢\":8.51719}   \n",
       "29                          {\"合成\":6.07485,\"明星\":5.87814}   \n",
       "...                                                 ...   \n",
       "9970  {\"+\":2.19823,\"亜梨\":7.41858,\"bt\":5.68398,\"沙\":7.4...   \n",
       "9971                                   {\"8080\":9.21034}   \n",
       "9972                                     {\"漫画\":6.37713}   \n",
       "9973  {\"分析\":6.50229,\"市场\":7.1309,\"手机\":4.63563,\"08年\":6...   \n",
       "9974           {\"图片\":3.64582,\"海啸\":6.31997,\"印尼\":3.83506}   \n",
       "9975             {\"物资\":3.4389,\"救灾\":3.43269,\"哄抢\":3.4389}   \n",
       "9976                        {\"租房\":7.82405,\"锦州\":8.51719}   \n",
       "9977                        {\"周天\":7.82405,\"大小\":7.82405}   \n",
       "9978                        {\"历史\":6.72543,\"唐朝\":9.21034}   \n",
       "9979                       {\"视频\":4.02295,\"金巧巧\":9.21034}   \n",
       "9980            {\"暴行\":7.6009,\"排华\":4.62537,\"印尼\":3.83506}   \n",
       "9981  {\"钙\":7.26443,\"怎样\":5.68398,\"补\":6.72543,\"儿童\":5.6...   \n",
       "9982           {\"预测\":6.31997,\"地震\":2.80677,\"陕西\":6.81245}   \n",
       "9983  {\"清廉\":7.41858,\"+\":4.39645,\"务实\":7.41858,\"民\":7.4...   \n",
       "9984  {\"英语\":6.07485,\"本\":6.81245,\"复习\":8.51719,\"专升\":8....   \n",
       "9985  {\"婚姻\":6.37713,\"八字算\":7.82405,\"生辰\":7.82405,\"免费\":...   \n",
       "9986                                   {\"立花里子\":9.21034}   \n",
       "9987            {\"歌曲\":5.7446,\"+\":2.19823,\"中英文\":8.11173}   \n",
       "9988  {\"十\":6.07485,\"震后\":6.57128,\"分钟\":6.57128,\"汶川\":3....   \n",
       "9989  {\"时候\":6.64539,\"发片\":9.21034,\"什么\":4.61522,\"萧亚轩\":...   \n",
       "9990  {\"十\":6.07485,\"震后\":6.57128,\"分钟\":6.57128,\"汶川\":3....   \n",
       "9991                                     {\"网络\":5.54678}   \n",
       "9992                                  {\"hp4vc\":6.43775}   \n",
       "9993  {\"金铃\":6.72543,\"+\":2.19823,\"启示录\":6.57128,\"武林\":6...   \n",
       "9994                        {\"地震\":2.80677,\"天文\":7.01312}   \n",
       "9995  {\"整容\":7.01312,\"女星\":8.51719,\"前\":6.16582,\"韩国\":4....   \n",
       "9996  {\"ass\":7.41858,\"in\":7.41858,\"her\":7.41858,\"+\":...   \n",
       "9997             {\"物资\":3.4389,\"救灾\":3.43269,\"哄抢\":3.4389}   \n",
       "9998  {\"报价\":5.9145,\"轮胎\":7.1309,\"通\":6.57128,\"普利司\":7.6...   \n",
       "9999                                     {\"酒店\":6.81245}   \n",
       "\n",
       "                                            poses_tfidf  \\\n",
       "0               {\"n\":0.359679,\"a\":2.66787,\"nz\":2.70157}   \n",
       "1                            {\"n\":0.359679,\"v\":1.99554}   \n",
       "2                            {\"n\":0.359679,\"m\":2.43497}   \n",
       "3                                        {\"nh\":1.46102}   \n",
       "4                           {\"n\":0.719359,\"ns\":1.68093}   \n",
       "5                {\"n\":0.359679,\"u\":2.80511,\"i\":5.02069}   \n",
       "6                {\"v\":0.997772,\"p\":4.25451,\"n\":1.43872}   \n",
       "7                            {\"u\":2.80511,\"n\":0.359679}   \n",
       "8               {\"n\":0.359679,\"p\":4.25451,\"nh\":2.92204}   \n",
       "9                           {\"v\":0.997772,\"n\":0.359679}   \n",
       "10                           {\"n\":0.359679,\"m\":2.43497}   \n",
       "11              {\"u\":2.80511,\"v\":0.997772,\"n\":0.359679}   \n",
       "12    {\"n\":0.359679,\"v\":0.997772,\"wp\":2.05105,\"ws\":1...   \n",
       "13              {\"n\":0.359679,\"v\":0.997772,\"z\":6.37713}   \n",
       "14               {\"wp\":4.1021,\"n\":1.07904,\"ns\":1.68093}   \n",
       "15                                       {\"ws\":1.88519}   \n",
       "16    {\"wp\":2.05105,\"ws\":3.77038,\"n\":0.359679,\"v\":0....   \n",
       "17             {\"v\":0.997772,\"n\":0.359679,\"nz\":2.70157}   \n",
       "18                           {\"n\":0.359679,\"v\":1.99554}   \n",
       "19                                        {\"m\":2.43497}   \n",
       "20    {\"nh\":1.46102,\"wp\":6.15315,\"n\":0.359679,\"v\":0....   \n",
       "21                                       {\"n\":0.359679}   \n",
       "22    {\"q\":3.4389,\"r\":2.85945,\"n\":0.359679,\"v\":1.995...   \n",
       "23                           {\"n\":0.719359,\"ns\":5.0428}   \n",
       "24                                       {\"nh\":1.46102}   \n",
       "25                           {\"v\":0.997772,\"n\":1.07904}   \n",
       "26                          {\"n\":0.359679,\"nt\":3.63439}   \n",
       "27              {\"ns\":1.68093,\"wp\":4.1021,\"n\":0.359679}   \n",
       "28                                       {\"n\":0.359679}   \n",
       "29                          {\"v\":0.997772,\"n\":0.359679}   \n",
       "...                                                 ...   \n",
       "9970  {\"ws\":1.88519,\"wp\":2.05105,\"n\":0.719359,\"ns\":1...   \n",
       "9971                                      {\"m\":2.43497}   \n",
       "9972                                     {\"n\":0.359679}   \n",
       "9973           {\"v\":0.997772,\"n\":0.719359,\"nt\":3.63439}   \n",
       "9974                        {\"n\":0.719359,\"ns\":1.68093}   \n",
       "9975                         {\"n\":0.359679,\"v\":1.99554}   \n",
       "9976                        {\"v\":0.997772,\"ns\":1.68093}   \n",
       "9977                        {\"nh\":1.46102,\"n\":0.359679}   \n",
       "9978                        {\"n\":0.359679,\"nt\":3.63439}   \n",
       "9979                        {\"n\":0.359679,\"nz\":2.70157}   \n",
       "9980           {\"n\":0.359679,\"v\":0.997772,\"ns\":1.68093}   \n",
       "9981            {\"r\":2.85945,\"v\":0.997772,\"n\":0.719359}   \n",
       "9982           {\"v\":0.997772,\"n\":0.359679,\"ns\":1.68093}   \n",
       "9983  {\"a\":2.66787,\"wp\":4.1021,\"v\":0.997772,\"n\":0.35...   \n",
       "9984             {\"nz\":2.70157,\"r\":2.85945,\"v\":1.99554}   \n",
       "9985                         {\"n\":0.719359,\"v\":1.99554}   \n",
       "9986                                     {\"nh\":1.46102}   \n",
       "9987            {\"n\":0.359679,\"wp\":2.05105,\"j\":3.57913}   \n",
       "9988  {\"q\":3.4389,\"m\":2.43497,\"nt\":3.63439,\"ns\":1.68...   \n",
       "9989            {\"n\":0.719359,\"r\":2.85945,\"nh\":1.46102}   \n",
       "9990  {\"q\":3.4389,\"m\":2.43497,\"nt\":3.63439,\"ns\":1.68...   \n",
       "9991                                     {\"n\":0.359679}   \n",
       "9992                                     {\"ws\":1.88519}   \n",
       "9993           {\"nh\":1.46102,\"wp\":2.05105,\"n\":0.719359}   \n",
       "9994                                     {\"n\":0.719359}   \n",
       "9995  {\"nd\":4.34281,\"v\":0.997772,\"n\":0.359679,\"ns\":1...   \n",
       "9996                        {\"wp\":6.15315,\"ws\":7.54077}   \n",
       "9997                         {\"n\":0.359679,\"v\":1.99554}   \n",
       "9998                         {\"v\":1.99554,\"n\":0.719359}   \n",
       "9999                                     {\"n\":0.359679}   \n",
       "\n",
       "                                          parsers_tfidf  len_words  len_seg  \\\n",
       "0                               {\"hed\":0,\"att\":0.94963}          7        3   \n",
       "1                {\"vob\":1.76785,\"att\":0.474815,\"hed\":0}          6        3   \n",
       "2                              {\"hed\":0,\"att\":0.474815}          7        2   \n",
       "3                                             {\"hed\":0}          2        1   \n",
       "4                               {\"hed\":0,\"att\":0.94963}          6        3   \n",
       "5                {\"hed\":0,\"rad\":2.81008,\"att\":0.474815}          7        3   \n",
       "6                 {\"hed\":0,\"sbv\":1.66073,\"att\":1.89926}          9        6   \n",
       "7                               {\"rad\":2.81008,\"hed\":0}          3        2   \n",
       "8     {\"hed\":0,\"coo\":2.21916,\"lad\":4.82831,\"att\":0.4...          9        4   \n",
       "9                               {\"hed\":0,\"sbv\":1.66073}          4        2   \n",
       "10                             {\"hed\":0,\"att\":0.474815}          7        2   \n",
       "11               {\"hed\":0,\"rad\":2.81008,\"att\":0.474815}          5        3   \n",
       "12    {\"vob\":1.76785,\"coo\":2.21916,\"wp\":2.05105,\"hed...         14        4   \n",
       "13                              {\"hed\":0,\"att\":0.94963}          6        3   \n",
       "14    {\"coo\":2.21916,\"wp\":4.1021,\"hed\":0,\"att\":0.94963}         11        6   \n",
       "15                                            {\"hed\":0}          3        1   \n",
       "16    {\"coo\":2.21916,\"wp\":2.05105,\"hed\":0,\"att\":0.94...         14        5   \n",
       "17                              {\"hed\":0,\"att\":0.94963}          6        3   \n",
       "18               {\"vob\":1.76785,\"att\":0.474815,\"hed\":0}          6        3   \n",
       "19                                            {\"hed\":0}          4        1   \n",
       "20    {\"coo\":2.21916,\"vob\":1.76785,\"wp\":6.15315,\"hed...          9        6   \n",
       "21                                            {\"hed\":0}          2        1   \n",
       "22    {\"vob\":1.76785,\"hed\":0,\"sbv\":1.66073,\"att\":1.4...          9        6   \n",
       "23                              {\"hed\":0,\"att\":1.89926}         12        5   \n",
       "24                                            {\"hed\":0}          3        1   \n",
       "25                 {\"vob\":3.5357,\"hed\":0,\"sbv\":1.66073}          7        4   \n",
       "26                             {\"hed\":0,\"att\":0.474815}          7        2   \n",
       "27                 {\"hed\":0,\"wp\":4.1021,\"att\":0.474815}          9        4   \n",
       "28                                            {\"hed\":0}          3        1   \n",
       "29                              {\"hed\":0,\"sbv\":1.66073}          4        2   \n",
       "...                                                 ...        ...      ...   \n",
       "9970  {\"coo\":2.21916,\"wp\":2.05105,\"hed\":0,\"att\":0.94...          8        5   \n",
       "9971                                          {\"hed\":0}          4        1   \n",
       "9972                                          {\"hed\":0}          2        1   \n",
       "9973              {\"hed\":0,\"att\":0.94963,\"adv\":2.51084}          9        4   \n",
       "9974                            {\"hed\":0,\"att\":0.94963}          6        3   \n",
       "9975             {\"vob\":1.76785,\"att\":0.474815,\"hed\":0}          6        3   \n",
       "9976                           {\"hed\":0,\"att\":0.474815}          4        2   \n",
       "9977                           {\"hed\":0,\"att\":0.474815}          4        2   \n",
       "9978                           {\"hed\":0,\"att\":0.474815}          4        2   \n",
       "9979                           {\"hed\":0,\"att\":0.474815}          5        2   \n",
       "9980              {\"vob\":1.76785,\"hed\":0,\"sbv\":1.66073}          6        3   \n",
       "9981  {\"vob\":1.76785,\"hed\":0,\"adv\":2.51084,\"sbv\":1.6...          6        4   \n",
       "9982             {\"hed\":0,\"sbv\":1.66073,\"att\":0.474815}          6        3   \n",
       "9983  {\"hed\":0,\"wp\":4.1021,\"coo\":2.21916,\"sbv\":1.660...          8        6   \n",
       "9984              {\"vob\":1.76785,\"hed\":0,\"adv\":5.02168}          7        4   \n",
       "9985  {\"vob\":1.76785,\"hed\":0,\"sbv\":1.66073,\"att\":0.4...          9        4   \n",
       "9986                                          {\"hed\":0}          4        1   \n",
       "9987              {\"hed\":0,\"wp\":2.05105,\"att\":0.474815}          6        3   \n",
       "9988                            {\"hed\":0,\"att\":1.42445}          7        4   \n",
       "9989  {\"hed\":0,\"adv\":2.51084,\"att\":0.474815,\"sbv\":1....          9        4   \n",
       "9990                            {\"hed\":0,\"att\":1.42445}          7        4   \n",
       "9991                                          {\"hed\":0}          2        1   \n",
       "9992                                          {\"hed\":0}          5        1   \n",
       "9993               {\"hed\":0,\"wp\":2.05105,\"att\":0.94963}          8        4   \n",
       "9994                           {\"hed\":0,\"att\":0.474815}          4        2   \n",
       "9995              {\"hed\":0,\"sbv\":1.66073,\"att\":0.94963}          7        4   \n",
       "9996               {\"coo\":6.65749,\"wp\":6.15315,\"hed\":0}         14        7   \n",
       "9997             {\"vob\":1.76785,\"att\":0.474815,\"hed\":0}          6        3   \n",
       "9998               {\"vob\":3.5357,\"hed\":0,\"sbv\":1.66073}          8        4   \n",
       "9999                                          {\"hed\":0}          2        1   \n",
       "\n",
       "      result_rank  click_rank  \n",
       "0               8           3  \n",
       "1               1           1  \n",
       "2              14           5  \n",
       "3              62          36  \n",
       "4               3           2  \n",
       "5               1           2  \n",
       "6               8           5  \n",
       "7               1           2  \n",
       "8               2           6  \n",
       "9               2           2  \n",
       "10              1           6  \n",
       "11              3          13  \n",
       "12              2           9  \n",
       "13              6           3  \n",
       "14              2           3  \n",
       "15              1           1  \n",
       "16              7           9  \n",
       "17              6           4  \n",
       "18              2           1  \n",
       "19              4           1  \n",
       "20              4           5  \n",
       "21              4           1  \n",
       "22              2           6  \n",
       "23             10          44  \n",
       "24             26           3  \n",
       "25              3           2  \n",
       "26              4           3  \n",
       "27              5           6  \n",
       "28              1           1  \n",
       "29             64          21  \n",
       "...           ...         ...  \n",
       "9970           40          32  \n",
       "9971            1           1  \n",
       "9972            1           1  \n",
       "9973           55          36  \n",
       "9974            2           9  \n",
       "9975            2           2  \n",
       "9976            2           2  \n",
       "9977            7          10  \n",
       "9978            7           3  \n",
       "9979            9           4  \n",
       "9980           10           3  \n",
       "9981            4          11  \n",
       "9982            2           6  \n",
       "9983           10          14  \n",
       "9984            3           2  \n",
       "9985            4           2  \n",
       "9986            4           1  \n",
       "9987            5           2  \n",
       "9988            8          28  \n",
       "9989            1           1  \n",
       "9990            8          29  \n",
       "9991         1001           1  \n",
       "9992          206          62  \n",
       "9993           12          53  \n",
       "9994           75          40  \n",
       "9995            3          11  \n",
       "9996          140          14  \n",
       "9997            4           1  \n",
       "9998            1           6  \n",
       "9999         1001           1  \n",
       "\n",
       "[10000 rows x 7 columns]"
      ]
     },
     "execution_count": 45,
     "metadata": {},
     "output_type": "execute_result"
    }
   ],
   "source": [
    "df"
   ]
  },
  {
   "cell_type": "code",
   "execution_count": 46,
   "metadata": {
    "collapsed": false,
    "scrolled": true
   },
   "outputs": [
    {
     "data": {
      "text/html": [
       "<div style=\"max-height:1000px;max-width:1500px;overflow:auto;\"><table frame=\"box\" rules=\"cols\">\n",
       "    <tr>\n",
       "        <th style=\"padding-left: 1em; padding-right: 1em; text-align: center\">﻿time</th>\n",
       "        <th style=\"padding-left: 1em; padding-right: 1em; text-align: center\">user_id</th>\n",
       "        <th style=\"padding-left: 1em; padding-right: 1em; text-align: center\">query</th>\n",
       "        <th style=\"padding-left: 1em; padding-right: 1em; text-align: center\">result_click</th>\n",
       "        <th style=\"padding-left: 1em; padding-right: 1em; text-align: center\">url</th>\n",
       "        <th style=\"padding-left: 1em; padding-right: 1em; text-align: center\">result_and_click</th>\n",
       "        <th style=\"padding-left: 1em; padding-right: 1em; text-align: center\">result_rank</th>\n",
       "    </tr>\n",
       "    <tr>\n",
       "        <td style=\"padding-left: 1em; padding-right: 1em; text-align: center; vertical-align: top\">00:00:00</td>\n",
       "        <td style=\"padding-left: 1em; padding-right: 1em; text-align: center; vertical-align: top\">2982199073774412</td>\n",
       "        <td style=\"padding-left: 1em; padding-right: 1em; text-align: center; vertical-align: top\">360安全卫士</td>\n",
       "        <td style=\"padding-left: 1em; padding-right: 1em; text-align: center; vertical-align: top\">8 3</td>\n",
       "        <td style=\"padding-left: 1em; padding-right: 1em; text-align: center; vertical-align: top\">download.it.com.cn/softwe<br>b/software/firewall/a ...</td>\n",
       "        <td style=\"padding-left: 1em; padding-right: 1em; text-align: center; vertical-align: top\">[8, 3]</td>\n",
       "        <td style=\"padding-left: 1em; padding-right: 1em; text-align: center; vertical-align: top\">8</td>\n",
       "    </tr>\n",
       "    <tr>\n",
       "        <td style=\"padding-left: 1em; padding-right: 1em; text-align: center; vertical-align: top\">00:00:00</td>\n",
       "        <td style=\"padding-left: 1em; padding-right: 1em; text-align: center; vertical-align: top\">07594220010824798</td>\n",
       "        <td style=\"padding-left: 1em; padding-right: 1em; text-align: center; vertical-align: top\">哄抢救灾物资</td>\n",
       "        <td style=\"padding-left: 1em; padding-right: 1em; text-align: center; vertical-align: top\">1 1</td>\n",
       "        <td style=\"padding-left: 1em; padding-right: 1em; text-align: center; vertical-align: top\">news.21cn.com/social/daqi<br>an/2008/05/29/4777194 ...</td>\n",
       "        <td style=\"padding-left: 1em; padding-right: 1em; text-align: center; vertical-align: top\">[1, 1]</td>\n",
       "        <td style=\"padding-left: 1em; padding-right: 1em; text-align: center; vertical-align: top\">1</td>\n",
       "    </tr>\n",
       "    <tr>\n",
       "        <td style=\"padding-left: 1em; padding-right: 1em; text-align: center; vertical-align: top\">00:00:00</td>\n",
       "        <td style=\"padding-left: 1em; padding-right: 1em; text-align: center; vertical-align: top\">5228056822071097</td>\n",
       "        <td style=\"padding-left: 1em; padding-right: 1em; text-align: center; vertical-align: top\">75810部队</td>\n",
       "        <td style=\"padding-left: 1em; padding-right: 1em; text-align: center; vertical-align: top\">14 5</td>\n",
       "        <td style=\"padding-left: 1em; padding-right: 1em; text-align: center; vertical-align: top\">www.greatoo.com/greatoo_c<br>n/list.asp?link_id=27 ...</td>\n",
       "        <td style=\"padding-left: 1em; padding-right: 1em; text-align: center; vertical-align: top\">[14, 5]</td>\n",
       "        <td style=\"padding-left: 1em; padding-right: 1em; text-align: center; vertical-align: top\">14</td>\n",
       "    </tr>\n",
       "    <tr>\n",
       "        <td style=\"padding-left: 1em; padding-right: 1em; text-align: center; vertical-align: top\">00:00:00</td>\n",
       "        <td style=\"padding-left: 1em; padding-right: 1em; text-align: center; vertical-align: top\">6140463203615646</td>\n",
       "        <td style=\"padding-left: 1em; padding-right: 1em; text-align: center; vertical-align: top\">绳艺</td>\n",
       "        <td style=\"padding-left: 1em; padding-right: 1em; text-align: center; vertical-align: top\">62 36</td>\n",
       "        <td style=\"padding-left: 1em; padding-right: 1em; text-align: center; vertical-align: top\">www.jd-cd.com/jd_opus/xx/<br>200607/706.html ...</td>\n",
       "        <td style=\"padding-left: 1em; padding-right: 1em; text-align: center; vertical-align: top\">[62, 36]</td>\n",
       "        <td style=\"padding-left: 1em; padding-right: 1em; text-align: center; vertical-align: top\">62</td>\n",
       "    </tr>\n",
       "    <tr>\n",
       "        <td style=\"padding-left: 1em; padding-right: 1em; text-align: center; vertical-align: top\">00:00:00</td>\n",
       "        <td style=\"padding-left: 1em; padding-right: 1em; text-align: center; vertical-align: top\">8561366108033201</td>\n",
       "        <td style=\"padding-left: 1em; padding-right: 1em; text-align: center; vertical-align: top\">汶川地震原因</td>\n",
       "        <td style=\"padding-left: 1em; padding-right: 1em; text-align: center; vertical-align: top\">3 2</td>\n",
       "        <td style=\"padding-left: 1em; padding-right: 1em; text-align: center; vertical-align: top\">www.big38.net</td>\n",
       "        <td style=\"padding-left: 1em; padding-right: 1em; text-align: center; vertical-align: top\">[3, 2]</td>\n",
       "        <td style=\"padding-left: 1em; padding-right: 1em; text-align: center; vertical-align: top\">3</td>\n",
       "    </tr>\n",
       "    <tr>\n",
       "        <td style=\"padding-left: 1em; padding-right: 1em; text-align: center; vertical-align: top\">00:00:00</td>\n",
       "        <td style=\"padding-left: 1em; padding-right: 1em; text-align: center; vertical-align: top\">23908140386148713</td>\n",
       "        <td style=\"padding-left: 1em; padding-right: 1em; text-align: center; vertical-align: top\">莫衷一是的意思</td>\n",
       "        <td style=\"padding-left: 1em; padding-right: 1em; text-align: center; vertical-align: top\">1 2</td>\n",
       "        <td style=\"padding-left: 1em; padding-right: 1em; text-align: center; vertical-align: top\">www.chinabaike.com/articl<br>e/81/82/110/2007/2007 ...</td>\n",
       "        <td style=\"padding-left: 1em; padding-right: 1em; text-align: center; vertical-align: top\">[1, 2]</td>\n",
       "        <td style=\"padding-left: 1em; padding-right: 1em; text-align: center; vertical-align: top\">1</td>\n",
       "    </tr>\n",
       "    <tr>\n",
       "        <td style=\"padding-left: 1em; padding-right: 1em; text-align: center; vertical-align: top\">00:00:00</td>\n",
       "        <td style=\"padding-left: 1em; padding-right: 1em; text-align: center; vertical-align: top\">1797943298449139</td>\n",
       "        <td style=\"padding-left: 1em; padding-right: 1em; text-align: center; vertical-align: top\">星梦缘全集在线观�<br>�� ...</td>\n",
       "        <td style=\"padding-left: 1em; padding-right: 1em; text-align: center; vertical-align: top\">8 5</td>\n",
       "        <td style=\"padding-left: 1em; padding-right: 1em; text-align: center; vertical-align: top\">www.6wei.net/dianshiju/??<br>??\\xa1\\xe9|????do=index ...</td>\n",
       "        <td style=\"padding-left: 1em; padding-right: 1em; text-align: center; vertical-align: top\">[8, 5]</td>\n",
       "        <td style=\"padding-left: 1em; padding-right: 1em; text-align: center; vertical-align: top\">8</td>\n",
       "    </tr>\n",
       "    <tr>\n",
       "        <td style=\"padding-left: 1em; padding-right: 1em; text-align: center; vertical-align: top\">00:00:00</td>\n",
       "        <td style=\"padding-left: 1em; padding-right: 1em; text-align: center; vertical-align: top\">00717725924582846</td>\n",
       "        <td style=\"padding-left: 1em; padding-right: 1em; text-align: center; vertical-align: top\">闪字吧</td>\n",
       "        <td style=\"padding-left: 1em; padding-right: 1em; text-align: center; vertical-align: top\">1 2</td>\n",
       "        <td style=\"padding-left: 1em; padding-right: 1em; text-align: center; vertical-align: top\">www.shanziba.com</td>\n",
       "        <td style=\"padding-left: 1em; padding-right: 1em; text-align: center; vertical-align: top\">[1, 2]</td>\n",
       "        <td style=\"padding-left: 1em; padding-right: 1em; text-align: center; vertical-align: top\">1</td>\n",
       "    </tr>\n",
       "    <tr>\n",
       "        <td style=\"padding-left: 1em; padding-right: 1em; text-align: center; vertical-align: top\">00:00:00</td>\n",
       "        <td style=\"padding-left: 1em; padding-right: 1em; text-align: center; vertical-align: top\">41416219018952116</td>\n",
       "        <td style=\"padding-left: 1em; padding-right: 1em; text-align: center; vertical-align: top\">霍震霆与朱玲玲照�<br>�� ...</td>\n",
       "        <td style=\"padding-left: 1em; padding-right: 1em; text-align: center; vertical-align: top\">2 6</td>\n",
       "        <td style=\"padding-left: 1em; padding-right: 1em; text-align: center; vertical-align: top\">bbs.gouzai.cn/thread-6987<br>36.html ...</td>\n",
       "        <td style=\"padding-left: 1em; padding-right: 1em; text-align: center; vertical-align: top\">[2, 6]</td>\n",
       "        <td style=\"padding-left: 1em; padding-right: 1em; text-align: center; vertical-align: top\">2</td>\n",
       "    </tr>\n",
       "    <tr>\n",
       "        <td style=\"padding-left: 1em; padding-right: 1em; text-align: center; vertical-align: top\">00:00:00</td>\n",
       "        <td style=\"padding-left: 1em; padding-right: 1em; text-align: center; vertical-align: top\">9975666857142764</td>\n",
       "        <td style=\"padding-left: 1em; padding-right: 1em; text-align: center; vertical-align: top\">电脑创业</td>\n",
       "        <td style=\"padding-left: 1em; padding-right: 1em; text-align: center; vertical-align: top\">2 2</td>\n",
       "        <td style=\"padding-left: 1em; padding-right: 1em; text-align: center; vertical-align: top\">ks.cn.yahoo.com/question/<br>1307120203719.html ...</td>\n",
       "        <td style=\"padding-left: 1em; padding-right: 1em; text-align: center; vertical-align: top\">[2, 2]</td>\n",
       "        <td style=\"padding-left: 1em; padding-right: 1em; text-align: center; vertical-align: top\">2</td>\n",
       "    </tr>\n",
       "</table>\n",
       "<table frame=\"box\" rules=\"cols\">\n",
       "    <tr>\n",
       "        <th style=\"padding-left: 1em; padding-right: 1em; text-align: center\">click_rank</th>\n",
       "        <th style=\"padding-left: 1em; padding-right: 1em; text-align: center\">words</th>\n",
       "        <th style=\"padding-left: 1em; padding-right: 1em; text-align: center\">poses</th>\n",
       "        <th style=\"padding-left: 1em; padding-right: 1em; text-align: center\">parsers</th>\n",
       "        <th style=\"padding-left: 1em; padding-right: 1em; text-align: center\">len_words</th>\n",
       "        <th style=\"padding-left: 1em; padding-right: 1em; text-align: center\">len_seg</th>\n",
       "        <th style=\"padding-left: 1em; padding-right: 1em; text-align: center\">label</th>\n",
       "    </tr>\n",
       "    <tr>\n",
       "        <td style=\"padding-left: 1em; padding-right: 1em; text-align: center; vertical-align: top\">3</td>\n",
       "        <td style=\"padding-left: 1em; padding-right: 1em; text-align: center; vertical-align: top\">360 安全 卫士</td>\n",
       "        <td style=\"padding-left: 1em; padding-right: 1em; text-align: center; vertical-align: top\">nz a n</td>\n",
       "        <td style=\"padding-left: 1em; padding-right: 1em; text-align: center; vertical-align: top\">ATT ATT HED</td>\n",
       "        <td style=\"padding-left: 1em; padding-right: 1em; text-align: center; vertical-align: top\">7</td>\n",
       "        <td style=\"padding-left: 1em; padding-right: 1em; text-align: center; vertical-align: top\">3</td>\n",
       "        <td style=\"padding-left: 1em; padding-right: 1em; text-align: center; vertical-align: top\">Resource</td>\n",
       "    </tr>\n",
       "    <tr>\n",
       "        <td style=\"padding-left: 1em; padding-right: 1em; text-align: center; vertical-align: top\">1</td>\n",
       "        <td style=\"padding-left: 1em; padding-right: 1em; text-align: center; vertical-align: top\">哄抢 救灾 物资</td>\n",
       "        <td style=\"padding-left: 1em; padding-right: 1em; text-align: center; vertical-align: top\">v v n</td>\n",
       "        <td style=\"padding-left: 1em; padding-right: 1em; text-align: center; vertical-align: top\">HED ATT VOB</td>\n",
       "        <td style=\"padding-left: 1em; padding-right: 1em; text-align: center; vertical-align: top\">6</td>\n",
       "        <td style=\"padding-left: 1em; padding-right: 1em; text-align: center; vertical-align: top\">3</td>\n",
       "        <td style=\"padding-left: 1em; padding-right: 1em; text-align: center; vertical-align: top\">Information</td>\n",
       "    </tr>\n",
       "    <tr>\n",
       "        <td style=\"padding-left: 1em; padding-right: 1em; text-align: center; vertical-align: top\">5</td>\n",
       "        <td style=\"padding-left: 1em; padding-right: 1em; text-align: center; vertical-align: top\">75810 部队</td>\n",
       "        <td style=\"padding-left: 1em; padding-right: 1em; text-align: center; vertical-align: top\">m n</td>\n",
       "        <td style=\"padding-left: 1em; padding-right: 1em; text-align: center; vertical-align: top\">ATT HED</td>\n",
       "        <td style=\"padding-left: 1em; padding-right: 1em; text-align: center; vertical-align: top\">7</td>\n",
       "        <td style=\"padding-left: 1em; padding-right: 1em; text-align: center; vertical-align: top\">2</td>\n",
       "        <td style=\"padding-left: 1em; padding-right: 1em; text-align: center; vertical-align: top\">Information</td>\n",
       "    </tr>\n",
       "    <tr>\n",
       "        <td style=\"padding-left: 1em; padding-right: 1em; text-align: center; vertical-align: top\">36</td>\n",
       "        <td style=\"padding-left: 1em; padding-right: 1em; text-align: center; vertical-align: top\">绳艺</td>\n",
       "        <td style=\"padding-left: 1em; padding-right: 1em; text-align: center; vertical-align: top\">nh</td>\n",
       "        <td style=\"padding-left: 1em; padding-right: 1em; text-align: center; vertical-align: top\">HED</td>\n",
       "        <td style=\"padding-left: 1em; padding-right: 1em; text-align: center; vertical-align: top\">2</td>\n",
       "        <td style=\"padding-left: 1em; padding-right: 1em; text-align: center; vertical-align: top\">1</td>\n",
       "        <td style=\"padding-left: 1em; padding-right: 1em; text-align: center; vertical-align: top\">Information</td>\n",
       "    </tr>\n",
       "    <tr>\n",
       "        <td style=\"padding-left: 1em; padding-right: 1em; text-align: center; vertical-align: top\">2</td>\n",
       "        <td style=\"padding-left: 1em; padding-right: 1em; text-align: center; vertical-align: top\">汶川 地震 原因</td>\n",
       "        <td style=\"padding-left: 1em; padding-right: 1em; text-align: center; vertical-align: top\">ns n n</td>\n",
       "        <td style=\"padding-left: 1em; padding-right: 1em; text-align: center; vertical-align: top\">ATT ATT HED</td>\n",
       "        <td style=\"padding-left: 1em; padding-right: 1em; text-align: center; vertical-align: top\">6</td>\n",
       "        <td style=\"padding-left: 1em; padding-right: 1em; text-align: center; vertical-align: top\">3</td>\n",
       "        <td style=\"padding-left: 1em; padding-right: 1em; text-align: center; vertical-align: top\">Navigation</td>\n",
       "    </tr>\n",
       "    <tr>\n",
       "        <td style=\"padding-left: 1em; padding-right: 1em; text-align: center; vertical-align: top\">2</td>\n",
       "        <td style=\"padding-left: 1em; padding-right: 1em; text-align: center; vertical-align: top\">莫衷一是 的 意思</td>\n",
       "        <td style=\"padding-left: 1em; padding-right: 1em; text-align: center; vertical-align: top\">i u n</td>\n",
       "        <td style=\"padding-left: 1em; padding-right: 1em; text-align: center; vertical-align: top\">ATT RAD HED</td>\n",
       "        <td style=\"padding-left: 1em; padding-right: 1em; text-align: center; vertical-align: top\">7</td>\n",
       "        <td style=\"padding-left: 1em; padding-right: 1em; text-align: center; vertical-align: top\">3</td>\n",
       "        <td style=\"padding-left: 1em; padding-right: 1em; text-align: center; vertical-align: top\">Information</td>\n",
       "    </tr>\n",
       "    <tr>\n",
       "        <td style=\"padding-left: 1em; padding-right: 1em; text-align: center; vertical-align: top\">5</td>\n",
       "        <td style=\"padding-left: 1em; padding-right: 1em; text-align: center; vertical-align: top\">星 梦 缘 全集 在线<br>观看 ...</td>\n",
       "        <td style=\"padding-left: 1em; padding-right: 1em; text-align: center; vertical-align: top\">n n p n n v</td>\n",
       "        <td style=\"padding-left: 1em; padding-right: 1em; text-align: center; vertical-align: top\">ATT ATT ATT ATT SBV HED</td>\n",
       "        <td style=\"padding-left: 1em; padding-right: 1em; text-align: center; vertical-align: top\">9</td>\n",
       "        <td style=\"padding-left: 1em; padding-right: 1em; text-align: center; vertical-align: top\">6</td>\n",
       "        <td style=\"padding-left: 1em; padding-right: 1em; text-align: center; vertical-align: top\">Information</td>\n",
       "    </tr>\n",
       "    <tr>\n",
       "        <td style=\"padding-left: 1em; padding-right: 1em; text-align: center; vertical-align: top\">2</td>\n",
       "        <td style=\"padding-left: 1em; padding-right: 1em; text-align: center; vertical-align: top\">闪字 吧</td>\n",
       "        <td style=\"padding-left: 1em; padding-right: 1em; text-align: center; vertical-align: top\">n u</td>\n",
       "        <td style=\"padding-left: 1em; padding-right: 1em; text-align: center; vertical-align: top\">HED RAD</td>\n",
       "        <td style=\"padding-left: 1em; padding-right: 1em; text-align: center; vertical-align: top\">3</td>\n",
       "        <td style=\"padding-left: 1em; padding-right: 1em; text-align: center; vertical-align: top\">2</td>\n",
       "        <td style=\"padding-left: 1em; padding-right: 1em; text-align: center; vertical-align: top\">Navigation</td>\n",
       "    </tr>\n",
       "    <tr>\n",
       "        <td style=\"padding-left: 1em; padding-right: 1em; text-align: center; vertical-align: top\">6</td>\n",
       "        <td style=\"padding-left: 1em; padding-right: 1em; text-align: center; vertical-align: top\">霍震霆 与 朱玲玲<br>照片 ...</td>\n",
       "        <td style=\"padding-left: 1em; padding-right: 1em; text-align: center; vertical-align: top\">nh p nh n</td>\n",
       "        <td style=\"padding-left: 1em; padding-right: 1em; text-align: center; vertical-align: top\">ATT LAD COO HED</td>\n",
       "        <td style=\"padding-left: 1em; padding-right: 1em; text-align: center; vertical-align: top\">9</td>\n",
       "        <td style=\"padding-left: 1em; padding-right: 1em; text-align: center; vertical-align: top\">4</td>\n",
       "        <td style=\"padding-left: 1em; padding-right: 1em; text-align: center; vertical-align: top\">Resource</td>\n",
       "    </tr>\n",
       "    <tr>\n",
       "        <td style=\"padding-left: 1em; padding-right: 1em; text-align: center; vertical-align: top\">2</td>\n",
       "        <td style=\"padding-left: 1em; padding-right: 1em; text-align: center; vertical-align: top\">电脑 创业</td>\n",
       "        <td style=\"padding-left: 1em; padding-right: 1em; text-align: center; vertical-align: top\">n v</td>\n",
       "        <td style=\"padding-left: 1em; padding-right: 1em; text-align: center; vertical-align: top\">SBV HED</td>\n",
       "        <td style=\"padding-left: 1em; padding-right: 1em; text-align: center; vertical-align: top\">4</td>\n",
       "        <td style=\"padding-left: 1em; padding-right: 1em; text-align: center; vertical-align: top\">2</td>\n",
       "        <td style=\"padding-left: 1em; padding-right: 1em; text-align: center; vertical-align: top\">Resource</td>\n",
       "    </tr>\n",
       "</table>\n",
       "<table frame=\"box\" rules=\"cols\">\n",
       "    <tr>\n",
       "        <th style=\"padding-left: 1em; padding-right: 1em; text-align: center\">words_count</th>\n",
       "        <th style=\"padding-left: 1em; padding-right: 1em; text-align: center\">poses_count</th>\n",
       "        <th style=\"padding-left: 1em; padding-right: 1em; text-align: center\">parsers_count</th>\n",
       "        <th style=\"padding-left: 1em; padding-right: 1em; text-align: center\">words_tfidf</th>\n",
       "    </tr>\n",
       "    <tr>\n",
       "        <td style=\"padding-left: 1em; padding-right: 1em; text-align: center; vertical-align: top\">{'\\xe5\\x8d\\xab\\xe5\\xa3\\xa<br>b': 1L, '\\xe5\\xae\\x89 ...</td>\n",
       "        <td style=\"padding-left: 1em; padding-right: 1em; text-align: center; vertical-align: top\">{'a': 1L, 'nz': 1L, 'n':<br>1L} ...</td>\n",
       "        <td style=\"padding-left: 1em; padding-right: 1em; text-align: center; vertical-align: top\">{'hed': 1L, 'att': 2L}</td>\n",
       "        <td style=\"padding-left: 1em; padding-right: 1em; text-align: center; vertical-align: top\">{'\\xe5\\x8d\\xab\\xe5\\xa3\\xa<br>b': 8.517193191416238 ...</td>\n",
       "    </tr>\n",
       "    <tr>\n",
       "        <td style=\"padding-left: 1em; padding-right: 1em; text-align: center; vertical-align: top\">{'\\xe6\\x95\\x91\\xe7\\x81\\xb<br>e': 1L, '\\xe7\\x89\\xa9 ...</td>\n",
       "        <td style=\"padding-left: 1em; padding-right: 1em; text-align: center; vertical-align: top\">{'v': 2L, 'n': 1L}</td>\n",
       "        <td style=\"padding-left: 1em; padding-right: 1em; text-align: center; vertical-align: top\">{'hed': 1L, 'att': 1L,<br>'vob': 1L} ...</td>\n",
       "        <td style=\"padding-left: 1em; padding-right: 1em; text-align: center; vertical-align: top\">{'\\xe6\\x95\\x91\\xe7\\x81\\xb<br>e': 3.432688048753526 ...</td>\n",
       "    </tr>\n",
       "    <tr>\n",
       "        <td style=\"padding-left: 1em; padding-right: 1em; text-align: center; vertical-align: top\">{'\\xe9\\x83\\xa8\\xe9\\x98\\x9<br>f': 1L, '75810': 1L} ...</td>\n",
       "        <td style=\"padding-left: 1em; padding-right: 1em; text-align: center; vertical-align: top\">{'m': 1L, 'n': 1L}</td>\n",
       "        <td style=\"padding-left: 1em; padding-right: 1em; text-align: center; vertical-align: top\">{'hed': 1L, 'att': 1L}</td>\n",
       "        <td style=\"padding-left: 1em; padding-right: 1em; text-align: center; vertical-align: top\">{'\\xe9\\x83\\xa8\\xe9\\x98\\x9<br>f': 7.600902459542082, ...</td>\n",
       "    </tr>\n",
       "    <tr>\n",
       "        <td style=\"padding-left: 1em; padding-right: 1em; text-align: center; vertical-align: top\">{'\\xe7\\xbb\\xb3\\xe8\\x89\\xb<br>a': 1L} ...</td>\n",
       "        <td style=\"padding-left: 1em; padding-right: 1em; text-align: center; vertical-align: top\">{'nh': 1L}</td>\n",
       "        <td style=\"padding-left: 1em; padding-right: 1em; text-align: center; vertical-align: top\">{'hed': 1L}</td>\n",
       "        <td style=\"padding-left: 1em; padding-right: 1em; text-align: center; vertical-align: top\">{'\\xe7\\xbb\\xb3\\xe8\\x89\\xb<br>a': 7.264430222920869} ...</td>\n",
       "    </tr>\n",
       "    <tr>\n",
       "        <td style=\"padding-left: 1em; padding-right: 1em; text-align: center; vertical-align: top\">{'\\xe6\\xb1\\xb6\\xe5\\xb7\\x9<br>d': 1L, '\\xe5\\x8e\\x9f ...</td>\n",
       "        <td style=\"padding-left: 1em; padding-right: 1em; text-align: center; vertical-align: top\">{'ns': 1L, 'n': 2L}</td>\n",
       "        <td style=\"padding-left: 1em; padding-right: 1em; text-align: center; vertical-align: top\">{'hed': 1L, 'att': 2L}</td>\n",
       "        <td style=\"padding-left: 1em; padding-right: 1em; text-align: center; vertical-align: top\">{'\\xe6\\xb1\\xb6\\xe5\\xb7\\x9<br>d': 3.158251203051766 ...</td>\n",
       "    </tr>\n",
       "    <tr>\n",
       "        <td style=\"padding-left: 1em; padding-right: 1em; text-align: center; vertical-align: top\">{'\\xe6\\x84\\x8f\\xe6\\x80\\x9<br>d': 1L, '\\xe7\\x9a\\x84': ...</td>\n",
       "        <td style=\"padding-left: 1em; padding-right: 1em; text-align: center; vertical-align: top\">{'i': 1L, 'u': 1L, 'n':<br>1L} ...</td>\n",
       "        <td style=\"padding-left: 1em; padding-right: 1em; text-align: center; vertical-align: top\">{'hed': 1L, 'rad': 1L,<br>'att': 1L} ...</td>\n",
       "        <td style=\"padding-left: 1em; padding-right: 1em; text-align: center; vertical-align: top\">{'\\xe6\\x84\\x8f\\xe6\\x80\\x9<br>d': 6.812445099177812, ...</td>\n",
       "    </tr>\n",
       "    <tr>\n",
       "        <td style=\"padding-left: 1em; padding-right: 1em; text-align: center; vertical-align: top\">{'\\xe7\\xbc\\x98': 1L,<br>'\\xe6\\x98\\x9f': 1L, ' ...</td>\n",
       "        <td style=\"padding-left: 1em; padding-right: 1em; text-align: center; vertical-align: top\">{'p': 1L, 'n': 4L, 'v':<br>1L} ...</td>\n",
       "        <td style=\"padding-left: 1em; padding-right: 1em; text-align: center; vertical-align: top\">{'hed': 1L, 'att': 4L,<br>'sbv': 1L} ...</td>\n",
       "        <td style=\"padding-left: 1em; padding-right: 1em; text-align: center; vertical-align: top\">{'\\xe7\\xbc\\x98':<br>8.517193191416238, ...</td>\n",
       "    </tr>\n",
       "    <tr>\n",
       "        <td style=\"padding-left: 1em; padding-right: 1em; text-align: center; vertical-align: top\">{'\\xe5\\x90\\xa7': 1L, '\\xe<br>9\\x97\\xaa\\xe5\\xad\\x97': ...</td>\n",
       "        <td style=\"padding-left: 1em; padding-right: 1em; text-align: center; vertical-align: top\">{'u': 1L, 'n': 1L}</td>\n",
       "        <td style=\"padding-left: 1em; padding-right: 1em; text-align: center; vertical-align: top\">{'hed': 1L, 'rad': 1L}</td>\n",
       "        <td style=\"padding-left: 1em; padding-right: 1em; text-align: center; vertical-align: top\">{'\\xe5\\x90\\xa7':<br>6.907755278982137, '\\ ...</td>\n",
       "    </tr>\n",
       "    <tr>\n",
       "        <td style=\"padding-left: 1em; padding-right: 1em; text-align: center; vertical-align: top\">{'\\xe6\\x9c\\xb1\\xe7\\x8e\\xb<br>2\\xe7\\x8e\\xb2': 1L, ...</td>\n",
       "        <td style=\"padding-left: 1em; padding-right: 1em; text-align: center; vertical-align: top\">{'nh': 2L, 'p': 1L, 'n':<br>1L} ...</td>\n",
       "        <td style=\"padding-left: 1em; padding-right: 1em; text-align: center; vertical-align: top\">{'hed': 1L, 'lad': 1L,<br>'att': 1L, 'coo': 1L} ...</td>\n",
       "        <td style=\"padding-left: 1em; padding-right: 1em; text-align: center; vertical-align: top\">{'\\xe6\\x9c\\xb1\\xe7\\x8e\\xb<br>2\\xe7\\x8e\\xb2': ...</td>\n",
       "    </tr>\n",
       "    <tr>\n",
       "        <td style=\"padding-left: 1em; padding-right: 1em; text-align: center; vertical-align: top\">{'\\xe7\\x94\\xb5\\xe8\\x84\\x9<br>1': 1L, '\\xe5\\x88\\x9b ...</td>\n",
       "        <td style=\"padding-left: 1em; padding-right: 1em; text-align: center; vertical-align: top\">{'n': 1L, 'v': 1L}</td>\n",
       "        <td style=\"padding-left: 1em; padding-right: 1em; text-align: center; vertical-align: top\">{'hed': 1L, 'sbv': 1L}</td>\n",
       "        <td style=\"padding-left: 1em; padding-right: 1em; text-align: center; vertical-align: top\">{'\\xe7\\x94\\xb5\\xe8\\x84\\x9<br>1': 6.214608098422191 ...</td>\n",
       "    </tr>\n",
       "</table>\n",
       "<table frame=\"box\" rules=\"cols\">\n",
       "    <tr>\n",
       "        <th style=\"padding-left: 1em; padding-right: 1em; text-align: center\">poses_tfidf</th>\n",
       "        <th style=\"padding-left: 1em; padding-right: 1em; text-align: center\">parsers_tfidf</th>\n",
       "    </tr>\n",
       "    <tr>\n",
       "        <td style=\"padding-left: 1em; padding-right: 1em; text-align: center; vertical-align: top\">{'a': 2.6678684114693785,<br>'nz': 2.701571235004501, ...</td>\n",
       "        <td style=\"padding-left: 1em; padding-right: 1em; text-align: center; vertical-align: top\">{'hed': 0.0, 'att':<br>0.9496303724859151} ...</td>\n",
       "    </tr>\n",
       "    <tr>\n",
       "        <td style=\"padding-left: 1em; padding-right: 1em; text-align: center; vertical-align: top\">{'v': 1.9955439474840764,<br>'n': 0.35967945295903 ...</td>\n",
       "        <td style=\"padding-left: 1em; padding-right: 1em; text-align: center; vertical-align: top\">{'hed': 0.0, 'att':<br>0.47481518624295754, ...</td>\n",
       "    </tr>\n",
       "    <tr>\n",
       "        <td style=\"padding-left: 1em; padding-right: 1em; text-align: center; vertical-align: top\">{'m': 2.4349742810397914,<br>'n': 0.35967945295903 ...</td>\n",
       "        <td style=\"padding-left: 1em; padding-right: 1em; text-align: center; vertical-align: top\">{'hed': 0.0, 'att':<br>0.47481518624295754} ...</td>\n",
       "    </tr>\n",
       "    <tr>\n",
       "        <td style=\"padding-left: 1em; padding-right: 1em; text-align: center; vertical-align: top\">{'nh':<br>1.4610179073158271} ...</td>\n",
       "        <td style=\"padding-left: 1em; padding-right: 1em; text-align: center; vertical-align: top\">{'hed': 0.0}</td>\n",
       "    </tr>\n",
       "    <tr>\n",
       "        <td style=\"padding-left: 1em; padding-right: 1em; text-align: center; vertical-align: top\">{'ns':<br>1.6809339141391704, 'n': ...</td>\n",
       "        <td style=\"padding-left: 1em; padding-right: 1em; text-align: center; vertical-align: top\">{'hed': 0.0, 'att':<br>0.9496303724859151} ...</td>\n",
       "    </tr>\n",
       "    <tr>\n",
       "        <td style=\"padding-left: 1em; padding-right: 1em; text-align: center; vertical-align: top\">{'i': 5.0206856299497575,<br>'u': 2.8051119139453413, ...</td>\n",
       "        <td style=\"padding-left: 1em; padding-right: 1em; text-align: center; vertical-align: top\">{'hed': 0.0, 'rad':<br>2.8100829266673615, ...</td>\n",
       "    </tr>\n",
       "    <tr>\n",
       "        <td style=\"padding-left: 1em; padding-right: 1em; text-align: center; vertical-align: top\">{'p': 4.254513314374922,<br>'n': 1.4387178118361246, ...</td>\n",
       "        <td style=\"padding-left: 1em; padding-right: 1em; text-align: center; vertical-align: top\">{'hed': 0.0, 'att':<br>1.8992607449718302, ...</td>\n",
       "    </tr>\n",
       "    <tr>\n",
       "        <td style=\"padding-left: 1em; padding-right: 1em; text-align: center; vertical-align: top\">{'u': 2.8051119139453413,<br>'n': 0.35967945295903 ...</td>\n",
       "        <td style=\"padding-left: 1em; padding-right: 1em; text-align: center; vertical-align: top\">{'hed': 0.0, 'rad':<br>2.8100829266673615} ...</td>\n",
       "    </tr>\n",
       "    <tr>\n",
       "        <td style=\"padding-left: 1em; padding-right: 1em; text-align: center; vertical-align: top\">{'nh':<br>2.9220358146316543, 'p': ...</td>\n",
       "        <td style=\"padding-left: 1em; padding-right: 1em; text-align: center; vertical-align: top\">{'hed': 0.0, 'lad':<br>4.8283137373023015, ...</td>\n",
       "    </tr>\n",
       "    <tr>\n",
       "        <td style=\"padding-left: 1em; padding-right: 1em; text-align: center; vertical-align: top\">{'n':<br>0.35967945295903114,  ...</td>\n",
       "        <td style=\"padding-left: 1em; padding-right: 1em; text-align: center; vertical-align: top\">{'hed': 0.0, 'sbv':<br>1.6607312068216509} ...</td>\n",
       "    </tr>\n",
       "</table>\n",
       "[10 rows x 20 columns]<br/>\n",
       "</div>"
      ],
      "text/plain": [
       "Columns:\n",
       "\t﻿time\tstr\n",
       "\tuser_id\tstr\n",
       "\tquery\tstr\n",
       "\tresult_click\tstr\n",
       "\turl\tstr\n",
       "\tresult_and_click\tlist\n",
       "\tresult_rank\tint\n",
       "\tclick_rank\tint\n",
       "\twords\tstr\n",
       "\tposes\tstr\n",
       "\tparsers\tstr\n",
       "\tlen_words\tint\n",
       "\tlen_seg\tint\n",
       "\tlabel\tstr\n",
       "\twords_count\tdict\n",
       "\tposes_count\tdict\n",
       "\tparsers_count\tdict\n",
       "\twords_tfidf\tdict\n",
       "\tposes_tfidf\tdict\n",
       "\tparsers_tfidf\tdict\n",
       "\n",
       "Rows: 10\n",
       "\n",
       "Data:\n",
       "+----------+-------------------+--------------------+--------------+\n",
       "|  ﻿time   |      user_id      |       query        | result_click |\n",
       "+----------+-------------------+--------------------+--------------+\n",
       "| 00:00:00 |  2982199073774412 |    360安全卫士     |     8 3      |\n",
       "| 00:00:00 | 07594220010824798 |    哄抢救灾物资    |     1 1      |\n",
       "| 00:00:00 |  5228056822071097 |     75810部队      |     14 5     |\n",
       "| 00:00:00 |  6140463203615646 |        绳艺        |    62 36     |\n",
       "| 00:00:00 |  8561366108033201 |    汶川地震原因    |     3 2      |\n",
       "| 00:00:00 | 23908140386148713 |   莫衷一是的意思   |     1 2      |\n",
       "| 00:00:00 |  1797943298449139 | 星梦缘全集在线观看 |     8 5      |\n",
       "| 00:00:00 | 00717725924582846 |       闪字吧       |     1 2      |\n",
       "| 00:00:00 | 41416219018952116 | 霍震霆与朱玲玲照片 |     2 6      |\n",
       "| 00:00:00 |  9975666857142764 |      电脑创业      |     2 2      |\n",
       "+----------+-------------------+--------------------+--------------+\n",
       "+-------------------------------+------------------+-------------+------------+\n",
       "|              url              | result_and_click | result_rank | click_rank |\n",
       "+-------------------------------+------------------+-------------+------------+\n",
       "| download.it.com.cn/softweb... |      [8, 3]      |      8      |     3      |\n",
       "| news.21cn.com/social/daqia... |      [1, 1]      |      1      |     1      |\n",
       "| www.greatoo.com/greatoo_cn... |     [14, 5]      |      14     |     5      |\n",
       "| www.jd-cd.com/jd_opus/xx/2... |     [62, 36]     |      62     |     36     |\n",
       "|         www.big38.net         |      [3, 2]      |      3      |     2      |\n",
       "| www.chinabaike.com/article... |      [1, 2]      |      1      |     2      |\n",
       "| www.6wei.net/dianshiju/???... |      [8, 5]      |      8      |     5      |\n",
       "|        www.shanziba.com       |      [1, 2]      |      1      |     2      |\n",
       "| bbs.gouzai.cn/thread-69873... |      [2, 6]      |      2      |     6      |\n",
       "| ks.cn.yahoo.com/question/1... |      [2, 2]      |      2      |     2      |\n",
       "+-------------------------------+------------------+-------------+------------+\n",
       "+----------------------------+-------------+-------------------------+-----------+\n",
       "|           words            |    poses    |         parsers         | len_words |\n",
       "+----------------------------+-------------+-------------------------+-----------+\n",
       "|       360 安全 卫士        |    nz a n   |       ATT ATT HED       |     7     |\n",
       "|       哄抢 救灾 物资       |    v v n    |       HED ATT VOB       |     6     |\n",
       "|         75810 部队         |     m n     |         ATT HED         |     7     |\n",
       "|            绳艺            |      nh     |           HED           |     2     |\n",
       "|       汶川 地震 原因       |    ns n n   |       ATT ATT HED       |     6     |\n",
       "|      莫衷一是 的 意思      |    i u n    |       ATT RAD HED       |     7     |\n",
       "| 星 梦 缘 全集 在线 观看... | n n p n n v | ATT ATT ATT ATT SBV HED |     9     |\n",
       "|          闪字 吧           |     n u     |         HED RAD         |     3     |\n",
       "|   霍震霆 与 朱玲玲 照片    |  nh p nh n  |     ATT LAD COO HED     |     9     |\n",
       "|         电脑 创业          |     n v     |         SBV HED         |     4     |\n",
       "+----------------------------+-------------+-------------------------+-----------+\n",
       "+---------+-------------+-------------------------------+\n",
       "| len_seg |    label    |          words_count          |\n",
       "+---------+-------------+-------------------------------+\n",
       "|    3    |   Resource  | {'\\xe5\\x8d\\xab\\xe5\\xa3\\xab... |\n",
       "|    3    | Information | {'\\xe6\\x95\\x91\\xe7\\x81\\xbe... |\n",
       "|    2    | Information | {'\\xe9\\x83\\xa8\\xe9\\x98\\x9f... |\n",
       "|    1    | Information | {'\\xe7\\xbb\\xb3\\xe8\\x89\\xba... |\n",
       "|    3    |  Navigation | {'\\xe6\\xb1\\xb6\\xe5\\xb7\\x9d... |\n",
       "|    3    | Information | {'\\xe6\\x84\\x8f\\xe6\\x80\\x9d... |\n",
       "|    6    | Information | {'\\xe7\\xbc\\x98': 1L, '\\xe6... |\n",
       "|    2    |  Navigation | {'\\xe5\\x90\\xa7': 1L, '\\xe9... |\n",
       "|    4    |   Resource  | {'\\xe6\\x9c\\xb1\\xe7\\x8e\\xb2... |\n",
       "|    2    |   Resource  | {'\\xe7\\x94\\xb5\\xe8\\x84\\x91... |\n",
       "+---------+-------------+-------------------------------+\n",
       "+------------------------------+-------------------------------+\n",
       "|         poses_count          |         parsers_count         |\n",
       "+------------------------------+-------------------------------+\n",
       "| {'a': 1L, 'nz': 1L, 'n': 1L} |     {'hed': 1L, 'att': 2L}    |\n",
       "|      {'v': 2L, 'n': 1L}      | {'hed': 1L, 'att': 1L, 'vo... |\n",
       "|      {'m': 1L, 'n': 1L}      |     {'hed': 1L, 'att': 1L}    |\n",
       "|          {'nh': 1L}          |          {'hed': 1L}          |\n",
       "|     {'ns': 1L, 'n': 2L}      |     {'hed': 1L, 'att': 2L}    |\n",
       "| {'i': 1L, 'u': 1L, 'n': 1L}  | {'hed': 1L, 'rad': 1L, 'at... |\n",
       "| {'p': 1L, 'n': 4L, 'v': 1L}  | {'hed': 1L, 'att': 4L, 'sb... |\n",
       "|      {'u': 1L, 'n': 1L}      |     {'hed': 1L, 'rad': 1L}    |\n",
       "| {'nh': 2L, 'p': 1L, 'n': 1L} | {'hed': 1L, 'lad': 1L, 'at... |\n",
       "|      {'n': 1L, 'v': 1L}      |     {'hed': 1L, 'sbv': 1L}    |\n",
       "+------------------------------+-------------------------------+\n",
       "+-------------------------------+-------------------------------+\n",
       "|          words_tfidf          |          poses_tfidf          |\n",
       "+-------------------------------+-------------------------------+\n",
       "| {'\\xe5\\x8d\\xab\\xe5\\xa3\\xab... | {'a': 2.6678684114693785, ... |\n",
       "| {'\\xe6\\x95\\x91\\xe7\\x81\\xbe... | {'v': 1.9955439474840764, ... |\n",
       "| {'\\xe9\\x83\\xa8\\xe9\\x98\\x9f... | {'m': 2.4349742810397914, ... |\n",
       "| {'\\xe7\\xbb\\xb3\\xe8\\x89\\xba... |   {'nh': 1.4610179073158271}  |\n",
       "| {'\\xe6\\xb1\\xb6\\xe5\\xb7\\x9d... | {'ns': 1.6809339141391704,... |\n",
       "| {'\\xe6\\x84\\x8f\\xe6\\x80\\x9d... | {'i': 5.0206856299497575, ... |\n",
       "| {'\\xe7\\xbc\\x98': 8.5171931... | {'p': 4.254513314374922, '... |\n",
       "| {'\\xe5\\x90\\xa7': 6.9077552... | {'u': 2.8051119139453413, ... |\n",
       "| {'\\xe6\\x9c\\xb1\\xe7\\x8e\\xb2... | {'nh': 2.9220358146316543,... |\n",
       "| {'\\xe7\\x94\\xb5\\xe8\\x84\\x91... | {'n': 0.35967945295903114,... |\n",
       "+-------------------------------+-------------------------------+\n",
       "+-------------------------------+\n",
       "|         parsers_tfidf         |\n",
       "+-------------------------------+\n",
       "| {'hed': 0.0, 'att': 0.9496... |\n",
       "| {'hed': 0.0, 'att': 0.4748... |\n",
       "| {'hed': 0.0, 'att': 0.4748... |\n",
       "|          {'hed': 0.0}         |\n",
       "| {'hed': 0.0, 'att': 0.9496... |\n",
       "| {'hed': 0.0, 'rad': 2.8100... |\n",
       "| {'hed': 0.0, 'att': 1.8992... |\n",
       "| {'hed': 0.0, 'rad': 2.8100... |\n",
       "| {'hed': 0.0, 'lad': 4.8283... |\n",
       "| {'hed': 0.0, 'sbv': 1.6607... |\n",
       "+-------------------------------+\n",
       "[10 rows x 20 columns]"
      ]
     },
     "execution_count": 46,
     "metadata": {},
     "output_type": "execute_result"
    }
   ],
   "source": [
    "data.head()"
   ]
  },
  {
   "cell_type": "code",
   "execution_count": 47,
   "metadata": {
    "collapsed": true
   },
   "outputs": [],
   "source": [
    "labels = data['label']"
   ]
  },
  {
   "cell_type": "code",
   "execution_count": 48,
   "metadata": {
    "collapsed": false
   },
   "outputs": [],
   "source": [
    "data_one_hot_encoded = data['label'].apply(lambda x: {x: 1})    \n",
    "data_unpacked = data_one_hot_encoded.unpack(column_name_prefix='label')\n",
    "    \n",
    "# Change None's to 0's\n",
    "for column in data_unpacked.column_names():\n",
    "    data_unpacked[column] = data_unpacked[column].fillna(0)\n",
    "\n",
    "data.add_columns(data_unpacked)\n",
    "features = data.column_names()"
   ]
  },
  {
   "cell_type": "code",
   "execution_count": 49,
   "metadata": {
    "collapsed": false
   },
   "outputs": [
    {
     "data": {
      "text/html": [
       "<div style=\"max-height:1000px;max-width:1500px;overflow:auto;\"><table frame=\"box\" rules=\"cols\">\n",
       "    <tr>\n",
       "        <th style=\"padding-left: 1em; padding-right: 1em; text-align: center\">﻿time</th>\n",
       "        <th style=\"padding-left: 1em; padding-right: 1em; text-align: center\">user_id</th>\n",
       "        <th style=\"padding-left: 1em; padding-right: 1em; text-align: center\">query</th>\n",
       "        <th style=\"padding-left: 1em; padding-right: 1em; text-align: center\">result_click</th>\n",
       "        <th style=\"padding-left: 1em; padding-right: 1em; text-align: center\">url</th>\n",
       "        <th style=\"padding-left: 1em; padding-right: 1em; text-align: center\">result_and_click</th>\n",
       "        <th style=\"padding-left: 1em; padding-right: 1em; text-align: center\">result_rank</th>\n",
       "    </tr>\n",
       "    <tr>\n",
       "        <td style=\"padding-left: 1em; padding-right: 1em; text-align: center; vertical-align: top\">00:00:00</td>\n",
       "        <td style=\"padding-left: 1em; padding-right: 1em; text-align: center; vertical-align: top\">2982199073774412</td>\n",
       "        <td style=\"padding-left: 1em; padding-right: 1em; text-align: center; vertical-align: top\">360安全卫士</td>\n",
       "        <td style=\"padding-left: 1em; padding-right: 1em; text-align: center; vertical-align: top\">8 3</td>\n",
       "        <td style=\"padding-left: 1em; padding-right: 1em; text-align: center; vertical-align: top\">download.it.com.cn/softwe<br>b/software/firewall/a ...</td>\n",
       "        <td style=\"padding-left: 1em; padding-right: 1em; text-align: center; vertical-align: top\">[8, 3]</td>\n",
       "        <td style=\"padding-left: 1em; padding-right: 1em; text-align: center; vertical-align: top\">8</td>\n",
       "    </tr>\n",
       "    <tr>\n",
       "        <td style=\"padding-left: 1em; padding-right: 1em; text-align: center; vertical-align: top\">00:00:00</td>\n",
       "        <td style=\"padding-left: 1em; padding-right: 1em; text-align: center; vertical-align: top\">07594220010824798</td>\n",
       "        <td style=\"padding-left: 1em; padding-right: 1em; text-align: center; vertical-align: top\">哄抢救灾物资</td>\n",
       "        <td style=\"padding-left: 1em; padding-right: 1em; text-align: center; vertical-align: top\">1 1</td>\n",
       "        <td style=\"padding-left: 1em; padding-right: 1em; text-align: center; vertical-align: top\">news.21cn.com/social/daqi<br>an/2008/05/29/4777194 ...</td>\n",
       "        <td style=\"padding-left: 1em; padding-right: 1em; text-align: center; vertical-align: top\">[1, 1]</td>\n",
       "        <td style=\"padding-left: 1em; padding-right: 1em; text-align: center; vertical-align: top\">1</td>\n",
       "    </tr>\n",
       "    <tr>\n",
       "        <td style=\"padding-left: 1em; padding-right: 1em; text-align: center; vertical-align: top\">00:00:00</td>\n",
       "        <td style=\"padding-left: 1em; padding-right: 1em; text-align: center; vertical-align: top\">5228056822071097</td>\n",
       "        <td style=\"padding-left: 1em; padding-right: 1em; text-align: center; vertical-align: top\">75810部队</td>\n",
       "        <td style=\"padding-left: 1em; padding-right: 1em; text-align: center; vertical-align: top\">14 5</td>\n",
       "        <td style=\"padding-left: 1em; padding-right: 1em; text-align: center; vertical-align: top\">www.greatoo.com/greatoo_c<br>n/list.asp?link_id=27 ...</td>\n",
       "        <td style=\"padding-left: 1em; padding-right: 1em; text-align: center; vertical-align: top\">[14, 5]</td>\n",
       "        <td style=\"padding-left: 1em; padding-right: 1em; text-align: center; vertical-align: top\">14</td>\n",
       "    </tr>\n",
       "    <tr>\n",
       "        <td style=\"padding-left: 1em; padding-right: 1em; text-align: center; vertical-align: top\">00:00:00</td>\n",
       "        <td style=\"padding-left: 1em; padding-right: 1em; text-align: center; vertical-align: top\">6140463203615646</td>\n",
       "        <td style=\"padding-left: 1em; padding-right: 1em; text-align: center; vertical-align: top\">绳艺</td>\n",
       "        <td style=\"padding-left: 1em; padding-right: 1em; text-align: center; vertical-align: top\">62 36</td>\n",
       "        <td style=\"padding-left: 1em; padding-right: 1em; text-align: center; vertical-align: top\">www.jd-cd.com/jd_opus/xx/<br>200607/706.html ...</td>\n",
       "        <td style=\"padding-left: 1em; padding-right: 1em; text-align: center; vertical-align: top\">[62, 36]</td>\n",
       "        <td style=\"padding-left: 1em; padding-right: 1em; text-align: center; vertical-align: top\">62</td>\n",
       "    </tr>\n",
       "    <tr>\n",
       "        <td style=\"padding-left: 1em; padding-right: 1em; text-align: center; vertical-align: top\">00:00:00</td>\n",
       "        <td style=\"padding-left: 1em; padding-right: 1em; text-align: center; vertical-align: top\">8561366108033201</td>\n",
       "        <td style=\"padding-left: 1em; padding-right: 1em; text-align: center; vertical-align: top\">汶川地震原因</td>\n",
       "        <td style=\"padding-left: 1em; padding-right: 1em; text-align: center; vertical-align: top\">3 2</td>\n",
       "        <td style=\"padding-left: 1em; padding-right: 1em; text-align: center; vertical-align: top\">www.big38.net</td>\n",
       "        <td style=\"padding-left: 1em; padding-right: 1em; text-align: center; vertical-align: top\">[3, 2]</td>\n",
       "        <td style=\"padding-left: 1em; padding-right: 1em; text-align: center; vertical-align: top\">3</td>\n",
       "    </tr>\n",
       "    <tr>\n",
       "        <td style=\"padding-left: 1em; padding-right: 1em; text-align: center; vertical-align: top\">00:00:00</td>\n",
       "        <td style=\"padding-left: 1em; padding-right: 1em; text-align: center; vertical-align: top\">23908140386148713</td>\n",
       "        <td style=\"padding-left: 1em; padding-right: 1em; text-align: center; vertical-align: top\">莫衷一是的意思</td>\n",
       "        <td style=\"padding-left: 1em; padding-right: 1em; text-align: center; vertical-align: top\">1 2</td>\n",
       "        <td style=\"padding-left: 1em; padding-right: 1em; text-align: center; vertical-align: top\">www.chinabaike.com/articl<br>e/81/82/110/2007/2007 ...</td>\n",
       "        <td style=\"padding-left: 1em; padding-right: 1em; text-align: center; vertical-align: top\">[1, 2]</td>\n",
       "        <td style=\"padding-left: 1em; padding-right: 1em; text-align: center; vertical-align: top\">1</td>\n",
       "    </tr>\n",
       "    <tr>\n",
       "        <td style=\"padding-left: 1em; padding-right: 1em; text-align: center; vertical-align: top\">00:00:00</td>\n",
       "        <td style=\"padding-left: 1em; padding-right: 1em; text-align: center; vertical-align: top\">1797943298449139</td>\n",
       "        <td style=\"padding-left: 1em; padding-right: 1em; text-align: center; vertical-align: top\">星梦缘全集在线观�<br>�� ...</td>\n",
       "        <td style=\"padding-left: 1em; padding-right: 1em; text-align: center; vertical-align: top\">8 5</td>\n",
       "        <td style=\"padding-left: 1em; padding-right: 1em; text-align: center; vertical-align: top\">www.6wei.net/dianshiju/??<br>??\\xa1\\xe9|????do=index ...</td>\n",
       "        <td style=\"padding-left: 1em; padding-right: 1em; text-align: center; vertical-align: top\">[8, 5]</td>\n",
       "        <td style=\"padding-left: 1em; padding-right: 1em; text-align: center; vertical-align: top\">8</td>\n",
       "    </tr>\n",
       "    <tr>\n",
       "        <td style=\"padding-left: 1em; padding-right: 1em; text-align: center; vertical-align: top\">00:00:00</td>\n",
       "        <td style=\"padding-left: 1em; padding-right: 1em; text-align: center; vertical-align: top\">00717725924582846</td>\n",
       "        <td style=\"padding-left: 1em; padding-right: 1em; text-align: center; vertical-align: top\">闪字吧</td>\n",
       "        <td style=\"padding-left: 1em; padding-right: 1em; text-align: center; vertical-align: top\">1 2</td>\n",
       "        <td style=\"padding-left: 1em; padding-right: 1em; text-align: center; vertical-align: top\">www.shanziba.com</td>\n",
       "        <td style=\"padding-left: 1em; padding-right: 1em; text-align: center; vertical-align: top\">[1, 2]</td>\n",
       "        <td style=\"padding-left: 1em; padding-right: 1em; text-align: center; vertical-align: top\">1</td>\n",
       "    </tr>\n",
       "    <tr>\n",
       "        <td style=\"padding-left: 1em; padding-right: 1em; text-align: center; vertical-align: top\">00:00:00</td>\n",
       "        <td style=\"padding-left: 1em; padding-right: 1em; text-align: center; vertical-align: top\">41416219018952116</td>\n",
       "        <td style=\"padding-left: 1em; padding-right: 1em; text-align: center; vertical-align: top\">霍震霆与朱玲玲照�<br>�� ...</td>\n",
       "        <td style=\"padding-left: 1em; padding-right: 1em; text-align: center; vertical-align: top\">2 6</td>\n",
       "        <td style=\"padding-left: 1em; padding-right: 1em; text-align: center; vertical-align: top\">bbs.gouzai.cn/thread-6987<br>36.html ...</td>\n",
       "        <td style=\"padding-left: 1em; padding-right: 1em; text-align: center; vertical-align: top\">[2, 6]</td>\n",
       "        <td style=\"padding-left: 1em; padding-right: 1em; text-align: center; vertical-align: top\">2</td>\n",
       "    </tr>\n",
       "    <tr>\n",
       "        <td style=\"padding-left: 1em; padding-right: 1em; text-align: center; vertical-align: top\">00:00:00</td>\n",
       "        <td style=\"padding-left: 1em; padding-right: 1em; text-align: center; vertical-align: top\">9975666857142764</td>\n",
       "        <td style=\"padding-left: 1em; padding-right: 1em; text-align: center; vertical-align: top\">电脑创业</td>\n",
       "        <td style=\"padding-left: 1em; padding-right: 1em; text-align: center; vertical-align: top\">2 2</td>\n",
       "        <td style=\"padding-left: 1em; padding-right: 1em; text-align: center; vertical-align: top\">ks.cn.yahoo.com/question/<br>1307120203719.html ...</td>\n",
       "        <td style=\"padding-left: 1em; padding-right: 1em; text-align: center; vertical-align: top\">[2, 2]</td>\n",
       "        <td style=\"padding-left: 1em; padding-right: 1em; text-align: center; vertical-align: top\">2</td>\n",
       "    </tr>\n",
       "</table>\n",
       "<table frame=\"box\" rules=\"cols\">\n",
       "    <tr>\n",
       "        <th style=\"padding-left: 1em; padding-right: 1em; text-align: center\">click_rank</th>\n",
       "        <th style=\"padding-left: 1em; padding-right: 1em; text-align: center\">words</th>\n",
       "        <th style=\"padding-left: 1em; padding-right: 1em; text-align: center\">poses</th>\n",
       "        <th style=\"padding-left: 1em; padding-right: 1em; text-align: center\">parsers</th>\n",
       "        <th style=\"padding-left: 1em; padding-right: 1em; text-align: center\">len_words</th>\n",
       "        <th style=\"padding-left: 1em; padding-right: 1em; text-align: center\">len_seg</th>\n",
       "        <th style=\"padding-left: 1em; padding-right: 1em; text-align: center\">label</th>\n",
       "    </tr>\n",
       "    <tr>\n",
       "        <td style=\"padding-left: 1em; padding-right: 1em; text-align: center; vertical-align: top\">3</td>\n",
       "        <td style=\"padding-left: 1em; padding-right: 1em; text-align: center; vertical-align: top\">360 安全 卫士</td>\n",
       "        <td style=\"padding-left: 1em; padding-right: 1em; text-align: center; vertical-align: top\">nz a n</td>\n",
       "        <td style=\"padding-left: 1em; padding-right: 1em; text-align: center; vertical-align: top\">ATT ATT HED</td>\n",
       "        <td style=\"padding-left: 1em; padding-right: 1em; text-align: center; vertical-align: top\">7</td>\n",
       "        <td style=\"padding-left: 1em; padding-right: 1em; text-align: center; vertical-align: top\">3</td>\n",
       "        <td style=\"padding-left: 1em; padding-right: 1em; text-align: center; vertical-align: top\">Resource</td>\n",
       "    </tr>\n",
       "    <tr>\n",
       "        <td style=\"padding-left: 1em; padding-right: 1em; text-align: center; vertical-align: top\">1</td>\n",
       "        <td style=\"padding-left: 1em; padding-right: 1em; text-align: center; vertical-align: top\">哄抢 救灾 物资</td>\n",
       "        <td style=\"padding-left: 1em; padding-right: 1em; text-align: center; vertical-align: top\">v v n</td>\n",
       "        <td style=\"padding-left: 1em; padding-right: 1em; text-align: center; vertical-align: top\">HED ATT VOB</td>\n",
       "        <td style=\"padding-left: 1em; padding-right: 1em; text-align: center; vertical-align: top\">6</td>\n",
       "        <td style=\"padding-left: 1em; padding-right: 1em; text-align: center; vertical-align: top\">3</td>\n",
       "        <td style=\"padding-left: 1em; padding-right: 1em; text-align: center; vertical-align: top\">Information</td>\n",
       "    </tr>\n",
       "    <tr>\n",
       "        <td style=\"padding-left: 1em; padding-right: 1em; text-align: center; vertical-align: top\">5</td>\n",
       "        <td style=\"padding-left: 1em; padding-right: 1em; text-align: center; vertical-align: top\">75810 部队</td>\n",
       "        <td style=\"padding-left: 1em; padding-right: 1em; text-align: center; vertical-align: top\">m n</td>\n",
       "        <td style=\"padding-left: 1em; padding-right: 1em; text-align: center; vertical-align: top\">ATT HED</td>\n",
       "        <td style=\"padding-left: 1em; padding-right: 1em; text-align: center; vertical-align: top\">7</td>\n",
       "        <td style=\"padding-left: 1em; padding-right: 1em; text-align: center; vertical-align: top\">2</td>\n",
       "        <td style=\"padding-left: 1em; padding-right: 1em; text-align: center; vertical-align: top\">Information</td>\n",
       "    </tr>\n",
       "    <tr>\n",
       "        <td style=\"padding-left: 1em; padding-right: 1em; text-align: center; vertical-align: top\">36</td>\n",
       "        <td style=\"padding-left: 1em; padding-right: 1em; text-align: center; vertical-align: top\">绳艺</td>\n",
       "        <td style=\"padding-left: 1em; padding-right: 1em; text-align: center; vertical-align: top\">nh</td>\n",
       "        <td style=\"padding-left: 1em; padding-right: 1em; text-align: center; vertical-align: top\">HED</td>\n",
       "        <td style=\"padding-left: 1em; padding-right: 1em; text-align: center; vertical-align: top\">2</td>\n",
       "        <td style=\"padding-left: 1em; padding-right: 1em; text-align: center; vertical-align: top\">1</td>\n",
       "        <td style=\"padding-left: 1em; padding-right: 1em; text-align: center; vertical-align: top\">Information</td>\n",
       "    </tr>\n",
       "    <tr>\n",
       "        <td style=\"padding-left: 1em; padding-right: 1em; text-align: center; vertical-align: top\">2</td>\n",
       "        <td style=\"padding-left: 1em; padding-right: 1em; text-align: center; vertical-align: top\">汶川 地震 原因</td>\n",
       "        <td style=\"padding-left: 1em; padding-right: 1em; text-align: center; vertical-align: top\">ns n n</td>\n",
       "        <td style=\"padding-left: 1em; padding-right: 1em; text-align: center; vertical-align: top\">ATT ATT HED</td>\n",
       "        <td style=\"padding-left: 1em; padding-right: 1em; text-align: center; vertical-align: top\">6</td>\n",
       "        <td style=\"padding-left: 1em; padding-right: 1em; text-align: center; vertical-align: top\">3</td>\n",
       "        <td style=\"padding-left: 1em; padding-right: 1em; text-align: center; vertical-align: top\">Navigation</td>\n",
       "    </tr>\n",
       "    <tr>\n",
       "        <td style=\"padding-left: 1em; padding-right: 1em; text-align: center; vertical-align: top\">2</td>\n",
       "        <td style=\"padding-left: 1em; padding-right: 1em; text-align: center; vertical-align: top\">莫衷一是 的 意思</td>\n",
       "        <td style=\"padding-left: 1em; padding-right: 1em; text-align: center; vertical-align: top\">i u n</td>\n",
       "        <td style=\"padding-left: 1em; padding-right: 1em; text-align: center; vertical-align: top\">ATT RAD HED</td>\n",
       "        <td style=\"padding-left: 1em; padding-right: 1em; text-align: center; vertical-align: top\">7</td>\n",
       "        <td style=\"padding-left: 1em; padding-right: 1em; text-align: center; vertical-align: top\">3</td>\n",
       "        <td style=\"padding-left: 1em; padding-right: 1em; text-align: center; vertical-align: top\">Information</td>\n",
       "    </tr>\n",
       "    <tr>\n",
       "        <td style=\"padding-left: 1em; padding-right: 1em; text-align: center; vertical-align: top\">5</td>\n",
       "        <td style=\"padding-left: 1em; padding-right: 1em; text-align: center; vertical-align: top\">星 梦 缘 全集 在线<br>观看 ...</td>\n",
       "        <td style=\"padding-left: 1em; padding-right: 1em; text-align: center; vertical-align: top\">n n p n n v</td>\n",
       "        <td style=\"padding-left: 1em; padding-right: 1em; text-align: center; vertical-align: top\">ATT ATT ATT ATT SBV HED</td>\n",
       "        <td style=\"padding-left: 1em; padding-right: 1em; text-align: center; vertical-align: top\">9</td>\n",
       "        <td style=\"padding-left: 1em; padding-right: 1em; text-align: center; vertical-align: top\">6</td>\n",
       "        <td style=\"padding-left: 1em; padding-right: 1em; text-align: center; vertical-align: top\">Information</td>\n",
       "    </tr>\n",
       "    <tr>\n",
       "        <td style=\"padding-left: 1em; padding-right: 1em; text-align: center; vertical-align: top\">2</td>\n",
       "        <td style=\"padding-left: 1em; padding-right: 1em; text-align: center; vertical-align: top\">闪字 吧</td>\n",
       "        <td style=\"padding-left: 1em; padding-right: 1em; text-align: center; vertical-align: top\">n u</td>\n",
       "        <td style=\"padding-left: 1em; padding-right: 1em; text-align: center; vertical-align: top\">HED RAD</td>\n",
       "        <td style=\"padding-left: 1em; padding-right: 1em; text-align: center; vertical-align: top\">3</td>\n",
       "        <td style=\"padding-left: 1em; padding-right: 1em; text-align: center; vertical-align: top\">2</td>\n",
       "        <td style=\"padding-left: 1em; padding-right: 1em; text-align: center; vertical-align: top\">Navigation</td>\n",
       "    </tr>\n",
       "    <tr>\n",
       "        <td style=\"padding-left: 1em; padding-right: 1em; text-align: center; vertical-align: top\">6</td>\n",
       "        <td style=\"padding-left: 1em; padding-right: 1em; text-align: center; vertical-align: top\">霍震霆 与 朱玲玲<br>照片 ...</td>\n",
       "        <td style=\"padding-left: 1em; padding-right: 1em; text-align: center; vertical-align: top\">nh p nh n</td>\n",
       "        <td style=\"padding-left: 1em; padding-right: 1em; text-align: center; vertical-align: top\">ATT LAD COO HED</td>\n",
       "        <td style=\"padding-left: 1em; padding-right: 1em; text-align: center; vertical-align: top\">9</td>\n",
       "        <td style=\"padding-left: 1em; padding-right: 1em; text-align: center; vertical-align: top\">4</td>\n",
       "        <td style=\"padding-left: 1em; padding-right: 1em; text-align: center; vertical-align: top\">Resource</td>\n",
       "    </tr>\n",
       "    <tr>\n",
       "        <td style=\"padding-left: 1em; padding-right: 1em; text-align: center; vertical-align: top\">2</td>\n",
       "        <td style=\"padding-left: 1em; padding-right: 1em; text-align: center; vertical-align: top\">电脑 创业</td>\n",
       "        <td style=\"padding-left: 1em; padding-right: 1em; text-align: center; vertical-align: top\">n v</td>\n",
       "        <td style=\"padding-left: 1em; padding-right: 1em; text-align: center; vertical-align: top\">SBV HED</td>\n",
       "        <td style=\"padding-left: 1em; padding-right: 1em; text-align: center; vertical-align: top\">4</td>\n",
       "        <td style=\"padding-left: 1em; padding-right: 1em; text-align: center; vertical-align: top\">2</td>\n",
       "        <td style=\"padding-left: 1em; padding-right: 1em; text-align: center; vertical-align: top\">Resource</td>\n",
       "    </tr>\n",
       "</table>\n",
       "<table frame=\"box\" rules=\"cols\">\n",
       "    <tr>\n",
       "        <th style=\"padding-left: 1em; padding-right: 1em; text-align: center\">words_count</th>\n",
       "        <th style=\"padding-left: 1em; padding-right: 1em; text-align: center\">poses_count</th>\n",
       "        <th style=\"padding-left: 1em; padding-right: 1em; text-align: center\">parsers_count</th>\n",
       "        <th style=\"padding-left: 1em; padding-right: 1em; text-align: center\">words_tfidf</th>\n",
       "    </tr>\n",
       "    <tr>\n",
       "        <td style=\"padding-left: 1em; padding-right: 1em; text-align: center; vertical-align: top\">{'\\xe5\\x8d\\xab\\xe5\\xa3\\xa<br>b': 1L, '\\xe5\\xae\\x89 ...</td>\n",
       "        <td style=\"padding-left: 1em; padding-right: 1em; text-align: center; vertical-align: top\">{'a': 1L, 'nz': 1L, 'n':<br>1L} ...</td>\n",
       "        <td style=\"padding-left: 1em; padding-right: 1em; text-align: center; vertical-align: top\">{'hed': 1L, 'att': 2L}</td>\n",
       "        <td style=\"padding-left: 1em; padding-right: 1em; text-align: center; vertical-align: top\">{'\\xe5\\x8d\\xab\\xe5\\xa3\\xa<br>b': 8.517193191416238 ...</td>\n",
       "    </tr>\n",
       "    <tr>\n",
       "        <td style=\"padding-left: 1em; padding-right: 1em; text-align: center; vertical-align: top\">{'\\xe6\\x95\\x91\\xe7\\x81\\xb<br>e': 1L, '\\xe7\\x89\\xa9 ...</td>\n",
       "        <td style=\"padding-left: 1em; padding-right: 1em; text-align: center; vertical-align: top\">{'v': 2L, 'n': 1L}</td>\n",
       "        <td style=\"padding-left: 1em; padding-right: 1em; text-align: center; vertical-align: top\">{'hed': 1L, 'att': 1L,<br>'vob': 1L} ...</td>\n",
       "        <td style=\"padding-left: 1em; padding-right: 1em; text-align: center; vertical-align: top\">{'\\xe6\\x95\\x91\\xe7\\x81\\xb<br>e': 3.432688048753526 ...</td>\n",
       "    </tr>\n",
       "    <tr>\n",
       "        <td style=\"padding-left: 1em; padding-right: 1em; text-align: center; vertical-align: top\">{'\\xe9\\x83\\xa8\\xe9\\x98\\x9<br>f': 1L, '75810': 1L} ...</td>\n",
       "        <td style=\"padding-left: 1em; padding-right: 1em; text-align: center; vertical-align: top\">{'m': 1L, 'n': 1L}</td>\n",
       "        <td style=\"padding-left: 1em; padding-right: 1em; text-align: center; vertical-align: top\">{'hed': 1L, 'att': 1L}</td>\n",
       "        <td style=\"padding-left: 1em; padding-right: 1em; text-align: center; vertical-align: top\">{'\\xe9\\x83\\xa8\\xe9\\x98\\x9<br>f': 7.600902459542082, ...</td>\n",
       "    </tr>\n",
       "    <tr>\n",
       "        <td style=\"padding-left: 1em; padding-right: 1em; text-align: center; vertical-align: top\">{'\\xe7\\xbb\\xb3\\xe8\\x89\\xb<br>a': 1L} ...</td>\n",
       "        <td style=\"padding-left: 1em; padding-right: 1em; text-align: center; vertical-align: top\">{'nh': 1L}</td>\n",
       "        <td style=\"padding-left: 1em; padding-right: 1em; text-align: center; vertical-align: top\">{'hed': 1L}</td>\n",
       "        <td style=\"padding-left: 1em; padding-right: 1em; text-align: center; vertical-align: top\">{'\\xe7\\xbb\\xb3\\xe8\\x89\\xb<br>a': 7.264430222920869} ...</td>\n",
       "    </tr>\n",
       "    <tr>\n",
       "        <td style=\"padding-left: 1em; padding-right: 1em; text-align: center; vertical-align: top\">{'\\xe6\\xb1\\xb6\\xe5\\xb7\\x9<br>d': 1L, '\\xe5\\x8e\\x9f ...</td>\n",
       "        <td style=\"padding-left: 1em; padding-right: 1em; text-align: center; vertical-align: top\">{'ns': 1L, 'n': 2L}</td>\n",
       "        <td style=\"padding-left: 1em; padding-right: 1em; text-align: center; vertical-align: top\">{'hed': 1L, 'att': 2L}</td>\n",
       "        <td style=\"padding-left: 1em; padding-right: 1em; text-align: center; vertical-align: top\">{'\\xe6\\xb1\\xb6\\xe5\\xb7\\x9<br>d': 3.158251203051766 ...</td>\n",
       "    </tr>\n",
       "    <tr>\n",
       "        <td style=\"padding-left: 1em; padding-right: 1em; text-align: center; vertical-align: top\">{'\\xe6\\x84\\x8f\\xe6\\x80\\x9<br>d': 1L, '\\xe7\\x9a\\x84': ...</td>\n",
       "        <td style=\"padding-left: 1em; padding-right: 1em; text-align: center; vertical-align: top\">{'i': 1L, 'u': 1L, 'n':<br>1L} ...</td>\n",
       "        <td style=\"padding-left: 1em; padding-right: 1em; text-align: center; vertical-align: top\">{'hed': 1L, 'rad': 1L,<br>'att': 1L} ...</td>\n",
       "        <td style=\"padding-left: 1em; padding-right: 1em; text-align: center; vertical-align: top\">{'\\xe6\\x84\\x8f\\xe6\\x80\\x9<br>d': 6.812445099177812, ...</td>\n",
       "    </tr>\n",
       "    <tr>\n",
       "        <td style=\"padding-left: 1em; padding-right: 1em; text-align: center; vertical-align: top\">{'\\xe7\\xbc\\x98': 1L,<br>'\\xe6\\x98\\x9f': 1L, ' ...</td>\n",
       "        <td style=\"padding-left: 1em; padding-right: 1em; text-align: center; vertical-align: top\">{'p': 1L, 'n': 4L, 'v':<br>1L} ...</td>\n",
       "        <td style=\"padding-left: 1em; padding-right: 1em; text-align: center; vertical-align: top\">{'hed': 1L, 'att': 4L,<br>'sbv': 1L} ...</td>\n",
       "        <td style=\"padding-left: 1em; padding-right: 1em; text-align: center; vertical-align: top\">{'\\xe7\\xbc\\x98':<br>8.517193191416238, ...</td>\n",
       "    </tr>\n",
       "    <tr>\n",
       "        <td style=\"padding-left: 1em; padding-right: 1em; text-align: center; vertical-align: top\">{'\\xe5\\x90\\xa7': 1L, '\\xe<br>9\\x97\\xaa\\xe5\\xad\\x97': ...</td>\n",
       "        <td style=\"padding-left: 1em; padding-right: 1em; text-align: center; vertical-align: top\">{'u': 1L, 'n': 1L}</td>\n",
       "        <td style=\"padding-left: 1em; padding-right: 1em; text-align: center; vertical-align: top\">{'hed': 1L, 'rad': 1L}</td>\n",
       "        <td style=\"padding-left: 1em; padding-right: 1em; text-align: center; vertical-align: top\">{'\\xe5\\x90\\xa7':<br>6.907755278982137, '\\ ...</td>\n",
       "    </tr>\n",
       "    <tr>\n",
       "        <td style=\"padding-left: 1em; padding-right: 1em; text-align: center; vertical-align: top\">{'\\xe6\\x9c\\xb1\\xe7\\x8e\\xb<br>2\\xe7\\x8e\\xb2': 1L, ...</td>\n",
       "        <td style=\"padding-left: 1em; padding-right: 1em; text-align: center; vertical-align: top\">{'nh': 2L, 'p': 1L, 'n':<br>1L} ...</td>\n",
       "        <td style=\"padding-left: 1em; padding-right: 1em; text-align: center; vertical-align: top\">{'hed': 1L, 'lad': 1L,<br>'att': 1L, 'coo': 1L} ...</td>\n",
       "        <td style=\"padding-left: 1em; padding-right: 1em; text-align: center; vertical-align: top\">{'\\xe6\\x9c\\xb1\\xe7\\x8e\\xb<br>2\\xe7\\x8e\\xb2': ...</td>\n",
       "    </tr>\n",
       "    <tr>\n",
       "        <td style=\"padding-left: 1em; padding-right: 1em; text-align: center; vertical-align: top\">{'\\xe7\\x94\\xb5\\xe8\\x84\\x9<br>1': 1L, '\\xe5\\x88\\x9b ...</td>\n",
       "        <td style=\"padding-left: 1em; padding-right: 1em; text-align: center; vertical-align: top\">{'n': 1L, 'v': 1L}</td>\n",
       "        <td style=\"padding-left: 1em; padding-right: 1em; text-align: center; vertical-align: top\">{'hed': 1L, 'sbv': 1L}</td>\n",
       "        <td style=\"padding-left: 1em; padding-right: 1em; text-align: center; vertical-align: top\">{'\\xe7\\x94\\xb5\\xe8\\x84\\x9<br>1': 6.214608098422191 ...</td>\n",
       "    </tr>\n",
       "</table>\n",
       "<table frame=\"box\" rules=\"cols\">\n",
       "    <tr>\n",
       "        <th style=\"padding-left: 1em; padding-right: 1em; text-align: center\">poses_tfidf</th>\n",
       "        <th style=\"padding-left: 1em; padding-right: 1em; text-align: center\">parsers_tfidf</th>\n",
       "        <th style=\"padding-left: 1em; padding-right: 1em; text-align: center\">label.Information</th>\n",
       "        <th style=\"padding-left: 1em; padding-right: 1em; text-align: center\">label.Navigation</th>\n",
       "        <th style=\"padding-left: 1em; padding-right: 1em; text-align: center\">label.Resource</th>\n",
       "    </tr>\n",
       "    <tr>\n",
       "        <td style=\"padding-left: 1em; padding-right: 1em; text-align: center; vertical-align: top\">{'a': 2.6678684114693785,<br>'nz': 2.701571235004501, ...</td>\n",
       "        <td style=\"padding-left: 1em; padding-right: 1em; text-align: center; vertical-align: top\">{'hed': 0.0, 'att':<br>0.9496303724859151} ...</td>\n",
       "        <td style=\"padding-left: 1em; padding-right: 1em; text-align: center; vertical-align: top\">0</td>\n",
       "        <td style=\"padding-left: 1em; padding-right: 1em; text-align: center; vertical-align: top\">0</td>\n",
       "        <td style=\"padding-left: 1em; padding-right: 1em; text-align: center; vertical-align: top\">1</td>\n",
       "    </tr>\n",
       "    <tr>\n",
       "        <td style=\"padding-left: 1em; padding-right: 1em; text-align: center; vertical-align: top\">{'v': 1.9955439474840764,<br>'n': 0.35967945295903 ...</td>\n",
       "        <td style=\"padding-left: 1em; padding-right: 1em; text-align: center; vertical-align: top\">{'hed': 0.0, 'att':<br>0.47481518624295754, ...</td>\n",
       "        <td style=\"padding-left: 1em; padding-right: 1em; text-align: center; vertical-align: top\">1</td>\n",
       "        <td style=\"padding-left: 1em; padding-right: 1em; text-align: center; vertical-align: top\">0</td>\n",
       "        <td style=\"padding-left: 1em; padding-right: 1em; text-align: center; vertical-align: top\">0</td>\n",
       "    </tr>\n",
       "    <tr>\n",
       "        <td style=\"padding-left: 1em; padding-right: 1em; text-align: center; vertical-align: top\">{'m': 2.4349742810397914,<br>'n': 0.35967945295903 ...</td>\n",
       "        <td style=\"padding-left: 1em; padding-right: 1em; text-align: center; vertical-align: top\">{'hed': 0.0, 'att':<br>0.47481518624295754} ...</td>\n",
       "        <td style=\"padding-left: 1em; padding-right: 1em; text-align: center; vertical-align: top\">1</td>\n",
       "        <td style=\"padding-left: 1em; padding-right: 1em; text-align: center; vertical-align: top\">0</td>\n",
       "        <td style=\"padding-left: 1em; padding-right: 1em; text-align: center; vertical-align: top\">0</td>\n",
       "    </tr>\n",
       "    <tr>\n",
       "        <td style=\"padding-left: 1em; padding-right: 1em; text-align: center; vertical-align: top\">{'nh':<br>1.4610179073158271} ...</td>\n",
       "        <td style=\"padding-left: 1em; padding-right: 1em; text-align: center; vertical-align: top\">{'hed': 0.0}</td>\n",
       "        <td style=\"padding-left: 1em; padding-right: 1em; text-align: center; vertical-align: top\">1</td>\n",
       "        <td style=\"padding-left: 1em; padding-right: 1em; text-align: center; vertical-align: top\">0</td>\n",
       "        <td style=\"padding-left: 1em; padding-right: 1em; text-align: center; vertical-align: top\">0</td>\n",
       "    </tr>\n",
       "    <tr>\n",
       "        <td style=\"padding-left: 1em; padding-right: 1em; text-align: center; vertical-align: top\">{'ns':<br>1.6809339141391704, 'n': ...</td>\n",
       "        <td style=\"padding-left: 1em; padding-right: 1em; text-align: center; vertical-align: top\">{'hed': 0.0, 'att':<br>0.9496303724859151} ...</td>\n",
       "        <td style=\"padding-left: 1em; padding-right: 1em; text-align: center; vertical-align: top\">0</td>\n",
       "        <td style=\"padding-left: 1em; padding-right: 1em; text-align: center; vertical-align: top\">1</td>\n",
       "        <td style=\"padding-left: 1em; padding-right: 1em; text-align: center; vertical-align: top\">0</td>\n",
       "    </tr>\n",
       "    <tr>\n",
       "        <td style=\"padding-left: 1em; padding-right: 1em; text-align: center; vertical-align: top\">{'i': 5.0206856299497575,<br>'u': 2.8051119139453413, ...</td>\n",
       "        <td style=\"padding-left: 1em; padding-right: 1em; text-align: center; vertical-align: top\">{'hed': 0.0, 'rad':<br>2.8100829266673615, ...</td>\n",
       "        <td style=\"padding-left: 1em; padding-right: 1em; text-align: center; vertical-align: top\">1</td>\n",
       "        <td style=\"padding-left: 1em; padding-right: 1em; text-align: center; vertical-align: top\">0</td>\n",
       "        <td style=\"padding-left: 1em; padding-right: 1em; text-align: center; vertical-align: top\">0</td>\n",
       "    </tr>\n",
       "    <tr>\n",
       "        <td style=\"padding-left: 1em; padding-right: 1em; text-align: center; vertical-align: top\">{'p': 4.254513314374922,<br>'n': 1.4387178118361246, ...</td>\n",
       "        <td style=\"padding-left: 1em; padding-right: 1em; text-align: center; vertical-align: top\">{'hed': 0.0, 'att':<br>1.8992607449718302, ...</td>\n",
       "        <td style=\"padding-left: 1em; padding-right: 1em; text-align: center; vertical-align: top\">1</td>\n",
       "        <td style=\"padding-left: 1em; padding-right: 1em; text-align: center; vertical-align: top\">0</td>\n",
       "        <td style=\"padding-left: 1em; padding-right: 1em; text-align: center; vertical-align: top\">0</td>\n",
       "    </tr>\n",
       "    <tr>\n",
       "        <td style=\"padding-left: 1em; padding-right: 1em; text-align: center; vertical-align: top\">{'u': 2.8051119139453413,<br>'n': 0.35967945295903 ...</td>\n",
       "        <td style=\"padding-left: 1em; padding-right: 1em; text-align: center; vertical-align: top\">{'hed': 0.0, 'rad':<br>2.8100829266673615} ...</td>\n",
       "        <td style=\"padding-left: 1em; padding-right: 1em; text-align: center; vertical-align: top\">0</td>\n",
       "        <td style=\"padding-left: 1em; padding-right: 1em; text-align: center; vertical-align: top\">1</td>\n",
       "        <td style=\"padding-left: 1em; padding-right: 1em; text-align: center; vertical-align: top\">0</td>\n",
       "    </tr>\n",
       "    <tr>\n",
       "        <td style=\"padding-left: 1em; padding-right: 1em; text-align: center; vertical-align: top\">{'nh':<br>2.9220358146316543, 'p': ...</td>\n",
       "        <td style=\"padding-left: 1em; padding-right: 1em; text-align: center; vertical-align: top\">{'hed': 0.0, 'lad':<br>4.8283137373023015, ...</td>\n",
       "        <td style=\"padding-left: 1em; padding-right: 1em; text-align: center; vertical-align: top\">0</td>\n",
       "        <td style=\"padding-left: 1em; padding-right: 1em; text-align: center; vertical-align: top\">0</td>\n",
       "        <td style=\"padding-left: 1em; padding-right: 1em; text-align: center; vertical-align: top\">1</td>\n",
       "    </tr>\n",
       "    <tr>\n",
       "        <td style=\"padding-left: 1em; padding-right: 1em; text-align: center; vertical-align: top\">{'n':<br>0.35967945295903114,  ...</td>\n",
       "        <td style=\"padding-left: 1em; padding-right: 1em; text-align: center; vertical-align: top\">{'hed': 0.0, 'sbv':<br>1.6607312068216509} ...</td>\n",
       "        <td style=\"padding-left: 1em; padding-right: 1em; text-align: center; vertical-align: top\">0</td>\n",
       "        <td style=\"padding-left: 1em; padding-right: 1em; text-align: center; vertical-align: top\">0</td>\n",
       "        <td style=\"padding-left: 1em; padding-right: 1em; text-align: center; vertical-align: top\">1</td>\n",
       "    </tr>\n",
       "</table>\n",
       "[10 rows x 23 columns]<br/>\n",
       "</div>"
      ],
      "text/plain": [
       "Columns:\n",
       "\t﻿time\tstr\n",
       "\tuser_id\tstr\n",
       "\tquery\tstr\n",
       "\tresult_click\tstr\n",
       "\turl\tstr\n",
       "\tresult_and_click\tlist\n",
       "\tresult_rank\tint\n",
       "\tclick_rank\tint\n",
       "\twords\tstr\n",
       "\tposes\tstr\n",
       "\tparsers\tstr\n",
       "\tlen_words\tint\n",
       "\tlen_seg\tint\n",
       "\tlabel\tstr\n",
       "\twords_count\tdict\n",
       "\tposes_count\tdict\n",
       "\tparsers_count\tdict\n",
       "\twords_tfidf\tdict\n",
       "\tposes_tfidf\tdict\n",
       "\tparsers_tfidf\tdict\n",
       "\tlabel.Information\tint\n",
       "\tlabel.Navigation\tint\n",
       "\tlabel.Resource\tint\n",
       "\n",
       "Rows: 10\n",
       "\n",
       "Data:\n",
       "+----------+-------------------+--------------------+--------------+\n",
       "|  ﻿time   |      user_id      |       query        | result_click |\n",
       "+----------+-------------------+--------------------+--------------+\n",
       "| 00:00:00 |  2982199073774412 |    360安全卫士     |     8 3      |\n",
       "| 00:00:00 | 07594220010824798 |    哄抢救灾物资    |     1 1      |\n",
       "| 00:00:00 |  5228056822071097 |     75810部队      |     14 5     |\n",
       "| 00:00:00 |  6140463203615646 |        绳艺        |    62 36     |\n",
       "| 00:00:00 |  8561366108033201 |    汶川地震原因    |     3 2      |\n",
       "| 00:00:00 | 23908140386148713 |   莫衷一是的意思   |     1 2      |\n",
       "| 00:00:00 |  1797943298449139 | 星梦缘全集在线观看 |     8 5      |\n",
       "| 00:00:00 | 00717725924582846 |       闪字吧       |     1 2      |\n",
       "| 00:00:00 | 41416219018952116 | 霍震霆与朱玲玲照片 |     2 6      |\n",
       "| 00:00:00 |  9975666857142764 |      电脑创业      |     2 2      |\n",
       "+----------+-------------------+--------------------+--------------+\n",
       "+-------------------------------+------------------+-------------+------------+\n",
       "|              url              | result_and_click | result_rank | click_rank |\n",
       "+-------------------------------+------------------+-------------+------------+\n",
       "| download.it.com.cn/softweb... |      [8, 3]      |      8      |     3      |\n",
       "| news.21cn.com/social/daqia... |      [1, 1]      |      1      |     1      |\n",
       "| www.greatoo.com/greatoo_cn... |     [14, 5]      |      14     |     5      |\n",
       "| www.jd-cd.com/jd_opus/xx/2... |     [62, 36]     |      62     |     36     |\n",
       "|         www.big38.net         |      [3, 2]      |      3      |     2      |\n",
       "| www.chinabaike.com/article... |      [1, 2]      |      1      |     2      |\n",
       "| www.6wei.net/dianshiju/???... |      [8, 5]      |      8      |     5      |\n",
       "|        www.shanziba.com       |      [1, 2]      |      1      |     2      |\n",
       "| bbs.gouzai.cn/thread-69873... |      [2, 6]      |      2      |     6      |\n",
       "| ks.cn.yahoo.com/question/1... |      [2, 2]      |      2      |     2      |\n",
       "+-------------------------------+------------------+-------------+------------+\n",
       "+----------------------------+-------------+-------------------------+-----------+\n",
       "|           words            |    poses    |         parsers         | len_words |\n",
       "+----------------------------+-------------+-------------------------+-----------+\n",
       "|       360 安全 卫士        |    nz a n   |       ATT ATT HED       |     7     |\n",
       "|       哄抢 救灾 物资       |    v v n    |       HED ATT VOB       |     6     |\n",
       "|         75810 部队         |     m n     |         ATT HED         |     7     |\n",
       "|            绳艺            |      nh     |           HED           |     2     |\n",
       "|       汶川 地震 原因       |    ns n n   |       ATT ATT HED       |     6     |\n",
       "|      莫衷一是 的 意思      |    i u n    |       ATT RAD HED       |     7     |\n",
       "| 星 梦 缘 全集 在线 观看... | n n p n n v | ATT ATT ATT ATT SBV HED |     9     |\n",
       "|          闪字 吧           |     n u     |         HED RAD         |     3     |\n",
       "|   霍震霆 与 朱玲玲 照片    |  nh p nh n  |     ATT LAD COO HED     |     9     |\n",
       "|         电脑 创业          |     n v     |         SBV HED         |     4     |\n",
       "+----------------------------+-------------+-------------------------+-----------+\n",
       "+---------+-------------+-------------------------------+\n",
       "| len_seg |    label    |          words_count          |\n",
       "+---------+-------------+-------------------------------+\n",
       "|    3    |   Resource  | {'\\xe5\\x8d\\xab\\xe5\\xa3\\xab... |\n",
       "|    3    | Information | {'\\xe6\\x95\\x91\\xe7\\x81\\xbe... |\n",
       "|    2    | Information | {'\\xe9\\x83\\xa8\\xe9\\x98\\x9f... |\n",
       "|    1    | Information | {'\\xe7\\xbb\\xb3\\xe8\\x89\\xba... |\n",
       "|    3    |  Navigation | {'\\xe6\\xb1\\xb6\\xe5\\xb7\\x9d... |\n",
       "|    3    | Information | {'\\xe6\\x84\\x8f\\xe6\\x80\\x9d... |\n",
       "|    6    | Information | {'\\xe7\\xbc\\x98': 1L, '\\xe6... |\n",
       "|    2    |  Navigation | {'\\xe5\\x90\\xa7': 1L, '\\xe9... |\n",
       "|    4    |   Resource  | {'\\xe6\\x9c\\xb1\\xe7\\x8e\\xb2... |\n",
       "|    2    |   Resource  | {'\\xe7\\x94\\xb5\\xe8\\x84\\x91... |\n",
       "+---------+-------------+-------------------------------+\n",
       "+------------------------------+-------------------------------+\n",
       "|         poses_count          |         parsers_count         |\n",
       "+------------------------------+-------------------------------+\n",
       "| {'a': 1L, 'nz': 1L, 'n': 1L} |     {'hed': 1L, 'att': 2L}    |\n",
       "|      {'v': 2L, 'n': 1L}      | {'hed': 1L, 'att': 1L, 'vo... |\n",
       "|      {'m': 1L, 'n': 1L}      |     {'hed': 1L, 'att': 1L}    |\n",
       "|          {'nh': 1L}          |          {'hed': 1L}          |\n",
       "|     {'ns': 1L, 'n': 2L}      |     {'hed': 1L, 'att': 2L}    |\n",
       "| {'i': 1L, 'u': 1L, 'n': 1L}  | {'hed': 1L, 'rad': 1L, 'at... |\n",
       "| {'p': 1L, 'n': 4L, 'v': 1L}  | {'hed': 1L, 'att': 4L, 'sb... |\n",
       "|      {'u': 1L, 'n': 1L}      |     {'hed': 1L, 'rad': 1L}    |\n",
       "| {'nh': 2L, 'p': 1L, 'n': 1L} | {'hed': 1L, 'lad': 1L, 'at... |\n",
       "|      {'n': 1L, 'v': 1L}      |     {'hed': 1L, 'sbv': 1L}    |\n",
       "+------------------------------+-------------------------------+\n",
       "+-------------------------------+-------------------------------+\n",
       "|          words_tfidf          |          poses_tfidf          |\n",
       "+-------------------------------+-------------------------------+\n",
       "| {'\\xe5\\x8d\\xab\\xe5\\xa3\\xab... | {'a': 2.6678684114693785, ... |\n",
       "| {'\\xe6\\x95\\x91\\xe7\\x81\\xbe... | {'v': 1.9955439474840764, ... |\n",
       "| {'\\xe9\\x83\\xa8\\xe9\\x98\\x9f... | {'m': 2.4349742810397914, ... |\n",
       "| {'\\xe7\\xbb\\xb3\\xe8\\x89\\xba... |   {'nh': 1.4610179073158271}  |\n",
       "| {'\\xe6\\xb1\\xb6\\xe5\\xb7\\x9d... | {'ns': 1.6809339141391704,... |\n",
       "| {'\\xe6\\x84\\x8f\\xe6\\x80\\x9d... | {'i': 5.0206856299497575, ... |\n",
       "| {'\\xe7\\xbc\\x98': 8.5171931... | {'p': 4.254513314374922, '... |\n",
       "| {'\\xe5\\x90\\xa7': 6.9077552... | {'u': 2.8051119139453413, ... |\n",
       "| {'\\xe6\\x9c\\xb1\\xe7\\x8e\\xb2... | {'nh': 2.9220358146316543,... |\n",
       "| {'\\xe7\\x94\\xb5\\xe8\\x84\\x91... | {'n': 0.35967945295903114,... |\n",
       "+-------------------------------+-------------------------------+\n",
       "+-------------------------------+-----+\n",
       "|         parsers_tfidf         | ... |\n",
       "+-------------------------------+-----+\n",
       "| {'hed': 0.0, 'att': 0.9496... | ... |\n",
       "| {'hed': 0.0, 'att': 0.4748... | ... |\n",
       "| {'hed': 0.0, 'att': 0.4748... | ... |\n",
       "|          {'hed': 0.0}         | ... |\n",
       "| {'hed': 0.0, 'att': 0.9496... | ... |\n",
       "| {'hed': 0.0, 'rad': 2.8100... | ... |\n",
       "| {'hed': 0.0, 'att': 1.8992... | ... |\n",
       "| {'hed': 0.0, 'rad': 2.8100... | ... |\n",
       "| {'hed': 0.0, 'lad': 4.8283... | ... |\n",
       "| {'hed': 0.0, 'sbv': 1.6607... | ... |\n",
       "+-------------------------------+-----+\n",
       "[10 rows x 23 columns]"
      ]
     },
     "execution_count": 49,
     "metadata": {},
     "output_type": "execute_result"
    }
   ],
   "source": [
    "data.head()"
   ]
  },
  {
   "cell_type": "code",
   "execution_count": 50,
   "metadata": {
    "collapsed": false
   },
   "outputs": [
    {
     "data": {
      "text/plain": [
       "['\\xef\\xbb\\xbftime',\n",
       " 'user_id',\n",
       " 'query',\n",
       " 'result_click',\n",
       " 'url',\n",
       " 'result_and_click',\n",
       " 'result_rank',\n",
       " 'click_rank',\n",
       " 'words',\n",
       " 'poses',\n",
       " 'parsers',\n",
       " 'len_words',\n",
       " 'len_seg',\n",
       " 'label',\n",
       " 'words_count',\n",
       " 'poses_count',\n",
       " 'parsers_count',\n",
       " 'words_tfidf',\n",
       " 'poses_tfidf',\n",
       " 'parsers_tfidf',\n",
       " 'label.Information',\n",
       " 'label.Navigation',\n",
       " 'label.Resource']"
      ]
     },
     "execution_count": 50,
     "metadata": {},
     "output_type": "execute_result"
    }
   ],
   "source": [
    "features"
   ]
  },
  {
   "cell_type": "code",
   "execution_count": 54,
   "metadata": {
    "collapsed": true
   },
   "outputs": [],
   "source": [
    "features1 = ['words_tfidf', 'poses_tfidf', 'parsers_tfidf', 'len_words', 'len_seg', 'result_rank', 'click_rank']\n",
    "features2 = ['words_count']"
   ]
  },
  {
   "cell_type": "code",
   "execution_count": 55,
   "metadata": {
    "collapsed": true
   },
   "outputs": [],
   "source": [
    "train_data, test_data = data.random_split(.8, seed=0)"
   ]
  },
  {
   "cell_type": "code",
   "execution_count": 56,
   "metadata": {
    "collapsed": true
   },
   "outputs": [],
   "source": [
    "train_data, validation_data = train_data.random_split(0.75, seed=0)"
   ]
  },
  {
   "cell_type": "markdown",
   "metadata": {},
   "source": [
    "#### 3.4.2 Logistic Regression"
   ]
  },
  {
   "cell_type": "markdown",
   "metadata": {},
   "source": [
    "* 分类器训练"
   ]
  },
  {
   "cell_type": "code",
   "execution_count": 61,
   "metadata": {
    "collapsed": false,
    "scrolled": false
   },
   "outputs": [
    {
     "data": {
      "text/html": [
       "<pre>WARNING: Detected extremely low variance for feature(s) 'parsers_tfidf' because all entries are nearly the same.\n",
       "Proceeding with model training using all features. If the model does not provide results of adequate quality, exclude the above mentioned feature(s) from the input dataset.</pre>"
      ],
      "text/plain": [
       "WARNING: Detected extremely low variance for feature(s) 'parsers_tfidf' because all entries are nearly the same.\n",
       "Proceeding with model training using all features. If the model does not provide results of adequate quality, exclude the above mentioned feature(s) from the input dataset."
      ]
     },
     "metadata": {},
     "output_type": "display_data"
    },
    {
     "data": {
      "text/html": [
       "<pre>Logistic regression:</pre>"
      ],
      "text/plain": [
       "Logistic regression:"
      ]
     },
     "metadata": {},
     "output_type": "display_data"
    },
    {
     "data": {
      "text/html": [
       "<pre>--------------------------------------------------------</pre>"
      ],
      "text/plain": [
       "--------------------------------------------------------"
      ]
     },
     "metadata": {},
     "output_type": "display_data"
    },
    {
     "data": {
      "text/html": [
       "<pre>Number of examples          : 6010</pre>"
      ],
      "text/plain": [
       "Number of examples          : 6010"
      ]
     },
     "metadata": {},
     "output_type": "display_data"
    },
    {
     "data": {
      "text/html": [
       "<pre>Number of classes           : 3</pre>"
      ],
      "text/plain": [
       "Number of classes           : 3"
      ]
     },
     "metadata": {},
     "output_type": "display_data"
    },
    {
     "data": {
      "text/html": [
       "<pre>Number of feature columns   : 7</pre>"
      ],
      "text/plain": [
       "Number of feature columns   : 7"
      ]
     },
     "metadata": {},
     "output_type": "display_data"
    },
    {
     "data": {
      "text/html": [
       "<pre>Number of unpacked features : 4319</pre>"
      ],
      "text/plain": [
       "Number of unpacked features : 4319"
      ]
     },
     "metadata": {},
     "output_type": "display_data"
    },
    {
     "data": {
      "text/html": [
       "<pre>Number of coefficients    : 8640</pre>"
      ],
      "text/plain": [
       "Number of coefficients    : 8640"
      ]
     },
     "metadata": {},
     "output_type": "display_data"
    },
    {
     "data": {
      "text/html": [
       "<pre>Starting L-BFGS</pre>"
      ],
      "text/plain": [
       "Starting L-BFGS"
      ]
     },
     "metadata": {},
     "output_type": "display_data"
    },
    {
     "data": {
      "text/html": [
       "<pre>--------------------------------------------------------</pre>"
      ],
      "text/plain": [
       "--------------------------------------------------------"
      ]
     },
     "metadata": {},
     "output_type": "display_data"
    },
    {
     "data": {
      "text/html": [
       "<pre>+-----------+----------+-----------+--------------+-------------------+---------------------+</pre>"
      ],
      "text/plain": [
       "+-----------+----------+-----------+--------------+-------------------+---------------------+"
      ]
     },
     "metadata": {},
     "output_type": "display_data"
    },
    {
     "data": {
      "text/html": [
       "<pre>| Iteration | Passes   | Step size | Elapsed Time | Training-accuracy | Validation-accuracy |</pre>"
      ],
      "text/plain": [
       "| Iteration | Passes   | Step size | Elapsed Time | Training-accuracy | Validation-accuracy |"
      ]
     },
     "metadata": {},
     "output_type": "display_data"
    },
    {
     "data": {
      "text/html": [
       "<pre>+-----------+----------+-----------+--------------+-------------------+---------------------+</pre>"
      ],
      "text/plain": [
       "+-----------+----------+-----------+--------------+-------------------+---------------------+"
      ]
     },
     "metadata": {},
     "output_type": "display_data"
    },
    {
     "data": {
      "text/html": [
       "<pre>| 1         | 3        | 0.000166  | 0.032002     | 0.779368          | 0.676558            |</pre>"
      ],
      "text/plain": [
       "| 1         | 3        | 0.000166  | 0.032002     | 0.779368          | 0.676558            |"
      ]
     },
     "metadata": {},
     "output_type": "display_data"
    },
    {
     "data": {
      "text/html": [
       "<pre>| 2         | 5        | 1.000000  | 0.098006     | 0.829451          | 0.677547            |</pre>"
      ],
      "text/plain": [
       "| 2         | 5        | 1.000000  | 0.098006     | 0.829451          | 0.677547            |"
      ]
     },
     "metadata": {},
     "output_type": "display_data"
    },
    {
     "data": {
      "text/html": [
       "<pre>| 3         | 6        | 1.000000  | 0.156009     | 0.838103          | 0.648368            |</pre>"
      ],
      "text/plain": [
       "| 3         | 6        | 1.000000  | 0.156009     | 0.838103          | 0.648368            |"
      ]
     },
     "metadata": {},
     "output_type": "display_data"
    },
    {
     "data": {
      "text/html": [
       "<pre>| 4         | 7        | 1.000000  | 0.206012     | 0.856572          | 0.673096            |</pre>"
      ],
      "text/plain": [
       "| 4         | 7        | 1.000000  | 0.206012     | 0.856572          | 0.673096            |"
      ]
     },
     "metadata": {},
     "output_type": "display_data"
    },
    {
     "data": {
      "text/html": [
       "<pre>| 5         | 8        | 1.000000  | 0.249014     | 0.859900          | 0.677052            |</pre>"
      ],
      "text/plain": [
       "| 5         | 8        | 1.000000  | 0.249014     | 0.859900          | 0.677052            |"
      ]
     },
     "metadata": {},
     "output_type": "display_data"
    },
    {
     "data": {
      "text/html": [
       "<pre>| 6         | 9        | 1.000000  | 0.296017     | 0.861730          | 0.673096            |</pre>"
      ],
      "text/plain": [
       "| 6         | 9        | 1.000000  | 0.296017     | 0.861730          | 0.673096            |"
      ]
     },
     "metadata": {},
     "output_type": "display_data"
    },
    {
     "data": {
      "text/html": [
       "<pre>| 11        | 14       | 1.000000  | 0.535031     | 0.870882          | 0.668645            |</pre>"
      ],
      "text/plain": [
       "| 11        | 14       | 1.000000  | 0.535031     | 0.870882          | 0.668645            |"
      ]
     },
     "metadata": {},
     "output_type": "display_data"
    },
    {
     "data": {
      "text/html": [
       "<pre>| 25        | 28       | 1.000000  | 1.084062     | 0.878203          | 0.669634            |</pre>"
      ],
      "text/plain": [
       "| 25        | 28       | 1.000000  | 1.084062     | 0.878203          | 0.669634            |"
      ]
     },
     "metadata": {},
     "output_type": "display_data"
    },
    {
     "data": {
      "text/html": [
       "<pre>| 50        | 53       | 1.000000  | 2.111121     | 0.882363          | 0.675074            |</pre>"
      ],
      "text/plain": [
       "| 50        | 53       | 1.000000  | 2.111121     | 0.882363          | 0.675074            |"
      ]
     },
     "metadata": {},
     "output_type": "display_data"
    },
    {
     "data": {
      "text/html": [
       "<pre>+-----------+----------+-----------+--------------+-------------------+---------------------+</pre>"
      ],
      "text/plain": [
       "+-----------+----------+-----------+--------------+-------------------+---------------------+"
      ]
     },
     "metadata": {},
     "output_type": "display_data"
    },
    {
     "data": {
      "text/html": [
       "<pre>TERMINATED: Iteration limit reached.</pre>"
      ],
      "text/plain": [
       "TERMINATED: Iteration limit reached."
      ]
     },
     "metadata": {},
     "output_type": "display_data"
    },
    {
     "data": {
      "text/html": [
       "<pre>This model may not be optimal. To improve it, consider increasing `max_iterations`.</pre>"
      ],
      "text/plain": [
       "This model may not be optimal. To improve it, consider increasing `max_iterations`."
      ]
     },
     "metadata": {},
     "output_type": "display_data"
    }
   ],
   "source": [
    "logistic_model_1 = graphlab.logistic_classifier.create(train_data, target='label', \\\n",
    "                                                                   features=features1, validation_set=validation_data, \\\n",
    "                                                                   max_iterations=50, l2_penalty=0.01,l1_penalty=0)"
   ]
  },
  {
   "cell_type": "code",
   "execution_count": null,
   "metadata": {
    "collapsed": true
   },
   "outputs": [],
   "source": [
    "logistic_model_1.evaluat"
   ]
  },
  {
   "cell_type": "code",
   "execution_count": 58,
   "metadata": {
    "collapsed": false
   },
   "outputs": [
    {
     "data": {
      "text/html": [
       "<pre>Logistic regression:</pre>"
      ],
      "text/plain": [
       "Logistic regression:"
      ]
     },
     "metadata": {},
     "output_type": "display_data"
    },
    {
     "data": {
      "text/html": [
       "<pre>--------------------------------------------------------</pre>"
      ],
      "text/plain": [
       "--------------------------------------------------------"
      ]
     },
     "metadata": {},
     "output_type": "display_data"
    },
    {
     "data": {
      "text/html": [
       "<pre>Number of examples          : 6010</pre>"
      ],
      "text/plain": [
       "Number of examples          : 6010"
      ]
     },
     "metadata": {},
     "output_type": "display_data"
    },
    {
     "data": {
      "text/html": [
       "<pre>Number of classes           : 3</pre>"
      ],
      "text/plain": [
       "Number of classes           : 3"
      ]
     },
     "metadata": {},
     "output_type": "display_data"
    },
    {
     "data": {
      "text/html": [
       "<pre>Number of feature columns   : 1</pre>"
      ],
      "text/plain": [
       "Number of feature columns   : 1"
      ]
     },
     "metadata": {},
     "output_type": "display_data"
    },
    {
     "data": {
      "text/html": [
       "<pre>Number of unpacked features : 4276</pre>"
      ],
      "text/plain": [
       "Number of unpacked features : 4276"
      ]
     },
     "metadata": {},
     "output_type": "display_data"
    },
    {
     "data": {
      "text/html": [
       "<pre>Number of coefficients    : 8554</pre>"
      ],
      "text/plain": [
       "Number of coefficients    : 8554"
      ]
     },
     "metadata": {},
     "output_type": "display_data"
    },
    {
     "data": {
      "text/html": [
       "<pre>Starting L-BFGS</pre>"
      ],
      "text/plain": [
       "Starting L-BFGS"
      ]
     },
     "metadata": {},
     "output_type": "display_data"
    },
    {
     "data": {
      "text/html": [
       "<pre>--------------------------------------------------------</pre>"
      ],
      "text/plain": [
       "--------------------------------------------------------"
      ]
     },
     "metadata": {},
     "output_type": "display_data"
    },
    {
     "data": {
      "text/html": [
       "<pre>+-----------+----------+-----------+--------------+-------------------+---------------------+</pre>"
      ],
      "text/plain": [
       "+-----------+----------+-----------+--------------+-------------------+---------------------+"
      ]
     },
     "metadata": {},
     "output_type": "display_data"
    },
    {
     "data": {
      "text/html": [
       "<pre>| Iteration | Passes   | Step size | Elapsed Time | Training-accuracy | Validation-accuracy |</pre>"
      ],
      "text/plain": [
       "| Iteration | Passes   | Step size | Elapsed Time | Training-accuracy | Validation-accuracy |"
      ]
     },
     "metadata": {},
     "output_type": "display_data"
    },
    {
     "data": {
      "text/html": [
       "<pre>+-----------+----------+-----------+--------------+-------------------+---------------------+</pre>"
      ],
      "text/plain": [
       "+-----------+----------+-----------+--------------+-------------------+---------------------+"
      ]
     },
     "metadata": {},
     "output_type": "display_data"
    },
    {
     "data": {
      "text/html": [
       "<pre>| 1         | 3        | 0.000166  | 0.020001     | 0.825291          | 0.652819            |</pre>"
      ],
      "text/plain": [
       "| 1         | 3        | 0.000166  | 0.020001     | 0.825291          | 0.652819            |"
      ]
     },
     "metadata": {},
     "output_type": "display_data"
    },
    {
     "data": {
      "text/html": [
       "<pre>| 2         | 5        | 1.000000  | 0.070004     | 0.836273          | 0.667161            |</pre>"
      ],
      "text/plain": [
       "| 2         | 5        | 1.000000  | 0.070004     | 0.836273          | 0.667161            |"
      ]
     },
     "metadata": {},
     "output_type": "display_data"
    },
    {
     "data": {
      "text/html": [
       "<pre>| 3         | 6        | 1.000000  | 0.117006     | 0.842263          | 0.651830            |</pre>"
      ],
      "text/plain": [
       "| 3         | 6        | 1.000000  | 0.117006     | 0.842263          | 0.651830            |"
      ]
     },
     "metadata": {},
     "output_type": "display_data"
    },
    {
     "data": {
      "text/html": [
       "<pre>| 4         | 7        | 1.000000  | 0.159009     | 0.854409          | 0.659248            |</pre>"
      ],
      "text/plain": [
       "| 4         | 7        | 1.000000  | 0.159009     | 0.854409          | 0.659248            |"
      ]
     },
     "metadata": {},
     "output_type": "display_data"
    },
    {
     "data": {
      "text/html": [
       "<pre>| 5         | 8        | 1.000000  | 0.197011     | 0.857404          | 0.669139            |</pre>"
      ],
      "text/plain": [
       "| 5         | 8        | 1.000000  | 0.197011     | 0.857404          | 0.669139            |"
      ]
     },
     "metadata": {},
     "output_type": "display_data"
    },
    {
     "data": {
      "text/html": [
       "<pre>| 6         | 9        | 1.000000  | 0.244014     | 0.864226          | 0.667161            |</pre>"
      ],
      "text/plain": [
       "| 6         | 9        | 1.000000  | 0.244014     | 0.864226          | 0.667161            |"
      ]
     },
     "metadata": {},
     "output_type": "display_data"
    },
    {
     "data": {
      "text/html": [
       "<pre>| 11        | 14       | 1.000000  | 0.449025     | 0.868220          | 0.662710            |</pre>"
      ],
      "text/plain": [
       "| 11        | 14       | 1.000000  | 0.449025     | 0.868220          | 0.662710            |"
      ]
     },
     "metadata": {},
     "output_type": "display_data"
    },
    {
     "data": {
      "text/html": [
       "<pre>| 25        | 33       | 1.000000  | 1.015058     | 0.870549          | 0.657270            |</pre>"
      ],
      "text/plain": [
       "| 25        | 33       | 1.000000  | 1.015058     | 0.870549          | 0.657270            |"
      ]
     },
     "metadata": {},
     "output_type": "display_data"
    },
    {
     "data": {
      "text/html": [
       "<pre>| 50        | 71       | 1.000000  | 1.978113     | 0.870549          | 0.660237            |</pre>"
      ],
      "text/plain": [
       "| 50        | 71       | 1.000000  | 1.978113     | 0.870549          | 0.660237            |"
      ]
     },
     "metadata": {},
     "output_type": "display_data"
    },
    {
     "data": {
      "text/html": [
       "<pre>+-----------+----------+-----------+--------------+-------------------+---------------------+</pre>"
      ],
      "text/plain": [
       "+-----------+----------+-----------+--------------+-------------------+---------------------+"
      ]
     },
     "metadata": {},
     "output_type": "display_data"
    },
    {
     "data": {
      "text/html": [
       "<pre>TERMINATED: Iteration limit reached.</pre>"
      ],
      "text/plain": [
       "TERMINATED: Iteration limit reached."
      ]
     },
     "metadata": {},
     "output_type": "display_data"
    },
    {
     "data": {
      "text/html": [
       "<pre>This model may not be optimal. To improve it, consider increasing `max_iterations`.</pre>"
      ],
      "text/plain": [
       "This model may not be optimal. To improve it, consider increasing `max_iterations`."
      ]
     },
     "metadata": {},
     "output_type": "display_data"
    },
    {
     "name": "stderr",
     "output_type": "stream",
     "text": [
      "2016-05-19 14:43:56,220 [ERROR] tornado.access, 1946: 500 GET /sketch/%EF%BB%BFtime (::1) 106.00ms\n"
     ]
    }
   ],
   "source": [
    "logistic_model_2 = graphlab.logistic_classifier.create(train_data, target='label', \\\n",
    "                                                                   features=features2, validation_set=validation_data, \\\n",
    "                                                                   max_iterations=50, l2_penalty=0.05,l1_penalty=0)"
   ]
  },
  {
   "cell_type": "code",
   "execution_count": 75,
   "metadata": {
    "collapsed": false
   },
   "outputs": [
    {
     "data": {
      "text/plain": [
       "{'accuracy': 0.6676829268292683,\n",
       " 'auc': 0.7108382904723468,\n",
       " 'confusion_matrix': Columns:\n",
       " \ttarget_label\tstr\n",
       " \tpredicted_label\tstr\n",
       " \tcount\tint\n",
       " \n",
       " Rows: 9\n",
       " \n",
       " Data:\n",
       " +--------------+-----------------+-------+\n",
       " | target_label | predicted_label | count |\n",
       " +--------------+-----------------+-------+\n",
       " |   Resource   |    Navigation   |   15  |\n",
       " |  Navigation  |    Navigation   |  110  |\n",
       " |  Navigation  |   Information   |  100  |\n",
       " | Information  |    Navigation   |   65  |\n",
       " | Information  |     Resource    |  196  |\n",
       " |  Navigation  |     Resource    |   11  |\n",
       " |   Resource   |     Resource    |  133  |\n",
       " |   Resource   |   Information   |  267  |\n",
       " | Information  |   Information   |  1071 |\n",
       " +--------------+-----------------+-------+\n",
       " [9 rows x 3 columns],\n",
       " 'f1_score': 0.5536276282344855,\n",
       " 'log_loss': 2.561308966948614,\n",
       " 'precision': 0.5716360872729151,\n",
       " 'recall': 0.5407578461086612,\n",
       " 'roc_curve': Columns:\n",
       " \tthreshold\tfloat\n",
       " \tfpr\tfloat\n",
       " \ttpr\tfloat\n",
       " \tp\tint\n",
       " \tn\tint\n",
       " \tclass\tint\n",
       " \n",
       " Rows: 300003\n",
       " \n",
       " Data:\n",
       " +-----------+----------------+----------------+------+-----+-------+\n",
       " | threshold |      fpr       |      tpr       |  p   |  n  | class |\n",
       " +-----------+----------------+----------------+------+-----+-------+\n",
       " |    0.0    |      1.0       |      1.0       | 1332 | 636 |   0   |\n",
       " |   1e-05   | 0.87106918239  | 0.930930930931 | 1332 | 636 |   0   |\n",
       " |   2e-05   | 0.852201257862 | 0.924174174174 | 1332 | 636 |   0   |\n",
       " |   3e-05   | 0.849056603774 | 0.923423423423 | 1332 | 636 |   0   |\n",
       " |   4e-05   | 0.84748427673  | 0.917417417417 | 1332 | 636 |   0   |\n",
       " |   5e-05   | 0.844339622642 | 0.916666666667 | 1332 | 636 |   0   |\n",
       " |   6e-05   | 0.842767295597 | 0.916666666667 | 1332 | 636 |   0   |\n",
       " |   7e-05   | 0.841194968553 | 0.915915915916 | 1332 | 636 |   0   |\n",
       " |   8e-05   | 0.841194968553 | 0.914414414414 | 1332 | 636 |   0   |\n",
       " |   9e-05   | 0.841194968553 | 0.913663663664 | 1332 | 636 |   0   |\n",
       " +-----------+----------------+----------------+------+-----+-------+\n",
       " [300003 rows x 6 columns]\n",
       " Note: Only the head of the SFrame is printed.\n",
       " You can use print_rows(num_rows=m, num_columns=n) to print more rows and columns.}"
      ]
     },
     "execution_count": 75,
     "metadata": {},
     "output_type": "execute_result"
    }
   ],
   "source": [
    "logistic_model_1.evaluate(test_data)"
   ]
  },
  {
   "cell_type": "code",
   "execution_count": 115,
   "metadata": {
    "collapsed": false
   },
   "outputs": [
    {
     "data": {
      "text/html": [
       "<pre>WARNING: Detected extremely low variance for feature(s) 'parsers_tfidf' because all entries are nearly the same.\n",
       "Proceeding with model training using all features. If the model does not provide results of adequate quality, exclude the above mentioned feature(s) from the input dataset.</pre>"
      ],
      "text/plain": [
       "WARNING: Detected extremely low variance for feature(s) 'parsers_tfidf' because all entries are nearly the same.\n",
       "Proceeding with model training using all features. If the model does not provide results of adequate quality, exclude the above mentioned feature(s) from the input dataset."
      ]
     },
     "metadata": {},
     "output_type": "display_data"
    },
    {
     "data": {
      "text/html": [
       "<pre>Boosted trees classifier:</pre>"
      ],
      "text/plain": [
       "Boosted trees classifier:"
      ]
     },
     "metadata": {},
     "output_type": "display_data"
    },
    {
     "data": {
      "text/html": [
       "<pre>--------------------------------------------------------</pre>"
      ],
      "text/plain": [
       "--------------------------------------------------------"
      ]
     },
     "metadata": {},
     "output_type": "display_data"
    },
    {
     "data": {
      "text/html": [
       "<pre>Number of examples          : 6010</pre>"
      ],
      "text/plain": [
       "Number of examples          : 6010"
      ]
     },
     "metadata": {},
     "output_type": "display_data"
    },
    {
     "data": {
      "text/html": [
       "<pre>Number of classes           : 3</pre>"
      ],
      "text/plain": [
       "Number of classes           : 3"
      ]
     },
     "metadata": {},
     "output_type": "display_data"
    },
    {
     "data": {
      "text/html": [
       "<pre>Number of feature columns   : 7</pre>"
      ],
      "text/plain": [
       "Number of feature columns   : 7"
      ]
     },
     "metadata": {},
     "output_type": "display_data"
    },
    {
     "data": {
      "text/html": [
       "<pre>Number of unpacked features : 4319</pre>"
      ],
      "text/plain": [
       "Number of unpacked features : 4319"
      ]
     },
     "metadata": {},
     "output_type": "display_data"
    },
    {
     "data": {
      "text/html": [
       "<pre>+-----------+--------------+-------------------+-------------------+---------------------+---------------------+</pre>"
      ],
      "text/plain": [
       "+-----------+--------------+-------------------+-------------------+---------------------+---------------------+"
      ]
     },
     "metadata": {},
     "output_type": "display_data"
    },
    {
     "data": {
      "text/html": [
       "<pre>| Iteration | Elapsed Time | Training-accuracy | Training-log_loss | Validation-accuracy | Validation-log_loss |</pre>"
      ],
      "text/plain": [
       "| Iteration | Elapsed Time | Training-accuracy | Training-log_loss | Validation-accuracy | Validation-log_loss |"
      ]
     },
     "metadata": {},
     "output_type": "display_data"
    },
    {
     "data": {
      "text/html": [
       "<pre>+-----------+--------------+-------------------+-------------------+---------------------+---------------------+</pre>"
      ],
      "text/plain": [
       "+-----------+--------------+-------------------+-------------------+---------------------+---------------------+"
      ]
     },
     "metadata": {},
     "output_type": "display_data"
    },
    {
     "data": {
      "text/html": [
       "<pre>| 1         | 0.158009     | 0.836772          | 0.877555          | 0.731949            | 0.926627            |</pre>"
      ],
      "text/plain": [
       "| 1         | 0.158009     | 0.836772          | 0.877555          | 0.731949            | 0.926627            |"
      ]
     },
     "metadata": {},
     "output_type": "display_data"
    },
    {
     "data": {
      "text/html": [
       "<pre>| 2         | 0.285016     | 0.849917          | 0.730622          | 0.736400            | 0.825759            |</pre>"
      ],
      "text/plain": [
       "| 2         | 0.285016     | 0.849917          | 0.730622          | 0.736400            | 0.825759            |"
      ]
     },
     "metadata": {},
     "output_type": "display_data"
    },
    {
     "data": {
      "text/html": [
       "<pre>| 3         | 0.401023     | 0.863727          | 0.622163          | 0.741345            | 0.762226            |</pre>"
      ],
      "text/plain": [
       "| 3         | 0.401023     | 0.863727          | 0.622163          | 0.741345            | 0.762226            |"
      ]
     },
     "metadata": {},
     "output_type": "display_data"
    },
    {
     "data": {
      "text/html": [
       "<pre>| 4         | 0.513030     | 0.869218          | 0.548975          | 0.740851            | 0.721974            |</pre>"
      ],
      "text/plain": [
       "| 4         | 0.513030     | 0.869218          | 0.548975          | 0.740851            | 0.721974            |"
      ]
     },
     "metadata": {},
     "output_type": "display_data"
    },
    {
     "data": {
      "text/html": [
       "<pre>| 5         | 0.625036     | 0.881364          | 0.488802          | 0.739861            | 0.695822            |</pre>"
      ],
      "text/plain": [
       "| 5         | 0.625036     | 0.881364          | 0.488802          | 0.739861            | 0.695822            |"
      ]
     },
     "metadata": {},
     "output_type": "display_data"
    },
    {
     "data": {
      "text/html": [
       "<pre>| 6         | 0.725042     | 0.883860          | 0.447954          | 0.741345            | 0.678684            |</pre>"
      ],
      "text/plain": [
       "| 6         | 0.725042     | 0.883860          | 0.447954          | 0.741345            | 0.678684            |"
      ]
     },
     "metadata": {},
     "output_type": "display_data"
    },
    {
     "data": {
      "text/html": [
       "<pre>| 10        | 1.079062     | 0.906656          | 0.335833          | 0.747280            | 0.647699            |</pre>"
      ],
      "text/plain": [
       "| 10        | 1.079062     | 0.906656          | 0.335833          | 0.747280            | 0.647699            |"
      ]
     },
     "metadata": {},
     "output_type": "display_data"
    },
    {
     "data": {
      "text/html": [
       "<pre>| 11        | 1.180068     | 0.910483          | 0.319533          | 0.748269            | 0.643855            |</pre>"
      ],
      "text/plain": [
       "| 11        | 1.180068     | 0.910483          | 0.319533          | 0.748269            | 0.643855            |"
      ]
     },
     "metadata": {},
     "output_type": "display_data"
    },
    {
     "data": {
      "text/html": [
       "<pre>| 20        | 1.835105     | 0.935108          | 0.251140          | 0.745302            | 0.640149            |</pre>"
      ],
      "text/plain": [
       "| 20        | 1.835105     | 0.935108          | 0.251140          | 0.745302            | 0.640149            |"
      ]
     },
     "metadata": {},
     "output_type": "display_data"
    },
    {
     "data": {
      "text/html": [
       "<pre>| 30        | 2.534145     | 0.942263          | 0.230864          | 0.747280            | 0.645400            |</pre>"
      ],
      "text/plain": [
       "| 30        | 2.534145     | 0.942263          | 0.230864          | 0.747280            | 0.645400            |"
      ]
     },
     "metadata": {},
     "output_type": "display_data"
    },
    {
     "data": {
      "text/html": [
       "<pre>| 40        | 3.236185     | 0.946090          | 0.217609          | 0.747774            | 0.649956            |</pre>"
      ],
      "text/plain": [
       "| 40        | 3.236185     | 0.946090          | 0.217609          | 0.747774            | 0.649956            |"
      ]
     },
     "metadata": {},
     "output_type": "display_data"
    },
    {
     "data": {
      "text/html": [
       "<pre>| 50        | 3.823219     | 0.950749          | 0.207504          | 0.751236            | 0.651726            |</pre>"
      ],
      "text/plain": [
       "| 50        | 3.823219     | 0.950749          | 0.207504          | 0.751236            | 0.651726            |"
      ]
     },
     "metadata": {},
     "output_type": "display_data"
    },
    {
     "data": {
      "text/html": [
       "<pre>+-----------+--------------+-------------------+-------------------+---------------------+---------------------+</pre>"
      ],
      "text/plain": [
       "+-----------+--------------+-------------------+-------------------+---------------------+---------------------+"
      ]
     },
     "metadata": {},
     "output_type": "display_data"
    }
   ],
   "source": [
    "boost_tree_1 = graphlab.boosted_trees_classifier.create(train_data, 'label', features=features1, \\\n",
    "                                                      max_iterations=50, validation_set=validation_data, \\\n",
    "                                                     max_depth = 20)"
   ]
  },
  {
   "cell_type": "code",
   "execution_count": 117,
   "metadata": {
    "collapsed": false
   },
   "outputs": [
    {
     "data": {
      "text/plain": [
       "{'accuracy': 0.7235772357723578,\n",
       " 'auc': 0.7866244990978039,\n",
       " 'confusion_matrix': Columns:\n",
       " \ttarget_label\tstr\n",
       " \tpredicted_label\tstr\n",
       " \tcount\tint\n",
       " \n",
       " Rows: 8\n",
       " \n",
       " Data:\n",
       " +--------------+-----------------+-------+\n",
       " | target_label | predicted_label | count |\n",
       " +--------------+-----------------+-------+\n",
       " | Information  |     Resource    |   92  |\n",
       " | Information  |    Navigation   |   56  |\n",
       " |  Navigation  |    Navigation   |  133  |\n",
       " |  Navigation  |   Information   |   88  |\n",
       " |   Resource   |    Navigation   |   23  |\n",
       " |   Resource   |     Resource    |  107  |\n",
       " |   Resource   |   Information   |  285  |\n",
       " | Information  |   Information   |  1184 |\n",
       " +--------------+-----------------+-------+\n",
       " [8 rows x 3 columns],\n",
       " 'f1_score': 0.5941712303098206,\n",
       " 'log_loss': 0.6858752157606018,\n",
       " 'precision': 0.6418278900308144,\n",
       " 'recall': 0.5828433896470749,\n",
       " 'roc_curve': Columns:\n",
       " \tthreshold\tfloat\n",
       " \tfpr\tfloat\n",
       " \ttpr\tfloat\n",
       " \tp\tint\n",
       " \tn\tint\n",
       " \tclass\tint\n",
       " \n",
       " Rows: 300003\n",
       " \n",
       " Data:\n",
       " +-----------+-----+-----+------+-----+-------+\n",
       " | threshold | fpr | tpr |  p   |  n  | class |\n",
       " +-----------+-----+-----+------+-----+-------+\n",
       " |    0.0    | 1.0 | 1.0 | 1332 | 636 |   0   |\n",
       " |   1e-05   | 1.0 | 1.0 | 1332 | 636 |   0   |\n",
       " |   2e-05   | 1.0 | 1.0 | 1332 | 636 |   0   |\n",
       " |   3e-05   | 1.0 | 1.0 | 1332 | 636 |   0   |\n",
       " |   4e-05   | 1.0 | 1.0 | 1332 | 636 |   0   |\n",
       " |   5e-05   | 1.0 | 1.0 | 1332 | 636 |   0   |\n",
       " |   6e-05   | 1.0 | 1.0 | 1332 | 636 |   0   |\n",
       " |   7e-05   | 1.0 | 1.0 | 1332 | 636 |   0   |\n",
       " |   8e-05   | 1.0 | 1.0 | 1332 | 636 |   0   |\n",
       " |   9e-05   | 1.0 | 1.0 | 1332 | 636 |   0   |\n",
       " +-----------+-----+-----+------+-----+-------+\n",
       " [300003 rows x 6 columns]\n",
       " Note: Only the head of the SFrame is printed.\n",
       " You can use print_rows(num_rows=m, num_columns=n) to print more rows and columns.}"
      ]
     },
     "execution_count": 117,
     "metadata": {},
     "output_type": "execute_result"
    }
   ],
   "source": [
    "boost_tree_1.evaluate(test_data)"
   ]
  },
  {
   "cell_type": "code",
   "execution_count": 116,
   "metadata": {
    "collapsed": false
   },
   "outputs": [
    {
     "data": {
      "text/html": [
       "<pre>Boosted trees classifier:</pre>"
      ],
      "text/plain": [
       "Boosted trees classifier:"
      ]
     },
     "metadata": {},
     "output_type": "display_data"
    },
    {
     "data": {
      "text/html": [
       "<pre>--------------------------------------------------------</pre>"
      ],
      "text/plain": [
       "--------------------------------------------------------"
      ]
     },
     "metadata": {},
     "output_type": "display_data"
    },
    {
     "data": {
      "text/html": [
       "<pre>Number of examples          : 6010</pre>"
      ],
      "text/plain": [
       "Number of examples          : 6010"
      ]
     },
     "metadata": {},
     "output_type": "display_data"
    },
    {
     "data": {
      "text/html": [
       "<pre>Number of classes           : 3</pre>"
      ],
      "text/plain": [
       "Number of classes           : 3"
      ]
     },
     "metadata": {},
     "output_type": "display_data"
    },
    {
     "data": {
      "text/html": [
       "<pre>Number of feature columns   : 1</pre>"
      ],
      "text/plain": [
       "Number of feature columns   : 1"
      ]
     },
     "metadata": {},
     "output_type": "display_data"
    },
    {
     "data": {
      "text/html": [
       "<pre>Number of unpacked features : 4276</pre>"
      ],
      "text/plain": [
       "Number of unpacked features : 4276"
      ]
     },
     "metadata": {},
     "output_type": "display_data"
    },
    {
     "data": {
      "text/html": [
       "<pre>+-----------+--------------+-------------------+-------------------+---------------------+---------------------+</pre>"
      ],
      "text/plain": [
       "+-----------+--------------+-------------------+-------------------+---------------------+---------------------+"
      ]
     },
     "metadata": {},
     "output_type": "display_data"
    },
    {
     "data": {
      "text/html": [
       "<pre>| Iteration | Elapsed Time | Training-accuracy | Training-log_loss | Validation-accuracy | Validation-log_loss |</pre>"
      ],
      "text/plain": [
       "| Iteration | Elapsed Time | Training-accuracy | Training-log_loss | Validation-accuracy | Validation-log_loss |"
      ]
     },
     "metadata": {},
     "output_type": "display_data"
    },
    {
     "data": {
      "text/html": [
       "<pre>+-----------+--------------+-------------------+-------------------+---------------------+---------------------+</pre>"
      ],
      "text/plain": [
       "+-----------+--------------+-------------------+-------------------+---------------------+---------------------+"
      ]
     },
     "metadata": {},
     "output_type": "display_data"
    },
    {
     "data": {
      "text/html": [
       "<pre>| 1         | 0.080005     | 0.710316          | 0.967615          | 0.672107            | 0.979926            |</pre>"
      ],
      "text/plain": [
       "| 1         | 0.080005     | 0.710316          | 0.967615          | 0.672107            | 0.979926            |"
      ]
     },
     "metadata": {},
     "output_type": "display_data"
    },
    {
     "data": {
      "text/html": [
       "<pre>| 2         | 0.152009     | 0.707987          | 0.888878          | 0.670129            | 0.910587            |</pre>"
      ],
      "text/plain": [
       "| 2         | 0.152009     | 0.707987          | 0.888878          | 0.670129            | 0.910587            |"
      ]
     },
     "metadata": {},
     "output_type": "display_data"
    },
    {
     "data": {
      "text/html": [
       "<pre>| 3         | 0.224013     | 0.706323          | 0.838058          | 0.671612            | 0.868781            |</pre>"
      ],
      "text/plain": [
       "| 3         | 0.224013     | 0.706323          | 0.838058          | 0.671612            | 0.868781            |"
      ]
     },
     "metadata": {},
     "output_type": "display_data"
    },
    {
     "data": {
      "text/html": [
       "<pre>| 4         | 0.298017     | 0.709983          | 0.803682          | 0.673591            | 0.842234            |</pre>"
      ],
      "text/plain": [
       "| 4         | 0.298017     | 0.709983          | 0.803682          | 0.673591            | 0.842234            |"
      ]
     },
     "metadata": {},
     "output_type": "display_data"
    },
    {
     "data": {
      "text/html": [
       "<pre>| 5         | 0.367021     | 0.710483          | 0.777917          | 0.672107            | 0.825025            |</pre>"
      ],
      "text/plain": [
       "| 5         | 0.367021     | 0.710483          | 0.777917          | 0.672107            | 0.825025            |"
      ]
     },
     "metadata": {},
     "output_type": "display_data"
    },
    {
     "data": {
      "text/html": [
       "<pre>| 6         | 0.431025     | 0.706656          | 0.760516          | 0.671118            | 0.814029            |</pre>"
      ],
      "text/plain": [
       "| 6         | 0.431025     | 0.706656          | 0.760516          | 0.671118            | 0.814029            |"
      ]
     },
     "metadata": {},
     "output_type": "display_data"
    },
    {
     "data": {
      "text/html": [
       "<pre>| 11        | 0.656037     | 0.714143          | 0.708030          | 0.675569            | 0.786447            |</pre>"
      ],
      "text/plain": [
       "| 11        | 0.656037     | 0.714143          | 0.708030          | 0.675569            | 0.786447            |"
      ]
     },
     "metadata": {},
     "output_type": "display_data"
    },
    {
     "data": {
      "text/html": [
       "<pre>| 25        | 1.242071     | 0.737105          | 0.642020          | 0.675569            | 0.764346            |</pre>"
      ],
      "text/plain": [
       "| 25        | 1.242071     | 0.737105          | 0.642020          | 0.675569            | 0.764346            |"
      ]
     },
     "metadata": {},
     "output_type": "display_data"
    },
    {
     "data": {
      "text/html": [
       "<pre>| 50        | 2.374136     | 0.780366          | 0.580851          | 0.679525            | 0.750886            |</pre>"
      ],
      "text/plain": [
       "| 50        | 2.374136     | 0.780366          | 0.580851          | 0.679525            | 0.750886            |"
      ]
     },
     "metadata": {},
     "output_type": "display_data"
    },
    {
     "data": {
      "text/html": [
       "<pre>+-----------+--------------+-------------------+-------------------+---------------------+---------------------+</pre>"
      ],
      "text/plain": [
       "+-----------+--------------+-------------------+-------------------+---------------------+---------------------+"
      ]
     },
     "metadata": {},
     "output_type": "display_data"
    }
   ],
   "source": [
    "boost_tree_2 = graphlab.boosted_trees_classifier.create(train_data, 'label', features=features2, \\\n",
    "                                                      max_iterations=50, validation_set=validation_data, \\\n",
    "                                                     max_depth = 20)"
   ]
  },
  {
   "cell_type": "code",
   "execution_count": 81,
   "metadata": {
    "collapsed": false,
    "scrolled": true
   },
   "outputs": [
    {
     "data": {
      "text/html": [
       "<pre>WARNING: Detected extremely low variance for feature(s) 'parsers_tfidf' because all entries are nearly the same.\n",
       "Proceeding with model training using all features. If the model does not provide results of adequate quality, exclude the above mentioned feature(s) from the input dataset.</pre>"
      ],
      "text/plain": [
       "WARNING: Detected extremely low variance for feature(s) 'parsers_tfidf' because all entries are nearly the same.\n",
       "Proceeding with model training using all features. If the model does not provide results of adequate quality, exclude the above mentioned feature(s) from the input dataset."
      ]
     },
     "metadata": {},
     "output_type": "display_data"
    },
    {
     "data": {
      "text/html": [
       "<pre>SVM:</pre>"
      ],
      "text/plain": [
       "SVM:"
      ]
     },
     "metadata": {},
     "output_type": "display_data"
    },
    {
     "data": {
      "text/html": [
       "<pre>--------------------------------------------------------</pre>"
      ],
      "text/plain": [
       "--------------------------------------------------------"
      ]
     },
     "metadata": {},
     "output_type": "display_data"
    },
    {
     "data": {
      "text/html": [
       "<pre>Number of examples          : 6010</pre>"
      ],
      "text/plain": [
       "Number of examples          : 6010"
      ]
     },
     "metadata": {},
     "output_type": "display_data"
    },
    {
     "data": {
      "text/html": [
       "<pre>Number of classes           : 2</pre>"
      ],
      "text/plain": [
       "Number of classes           : 2"
      ]
     },
     "metadata": {},
     "output_type": "display_data"
    },
    {
     "data": {
      "text/html": [
       "<pre>Number of feature columns   : 7</pre>"
      ],
      "text/plain": [
       "Number of feature columns   : 7"
      ]
     },
     "metadata": {},
     "output_type": "display_data"
    },
    {
     "data": {
      "text/html": [
       "<pre>Number of unpacked features : 4319</pre>"
      ],
      "text/plain": [
       "Number of unpacked features : 4319"
      ]
     },
     "metadata": {},
     "output_type": "display_data"
    },
    {
     "data": {
      "text/html": [
       "<pre>Number of coefficients    : 4320</pre>"
      ],
      "text/plain": [
       "Number of coefficients    : 4320"
      ]
     },
     "metadata": {},
     "output_type": "display_data"
    },
    {
     "data": {
      "text/html": [
       "<pre>Starting L-BFGS</pre>"
      ],
      "text/plain": [
       "Starting L-BFGS"
      ]
     },
     "metadata": {},
     "output_type": "display_data"
    },
    {
     "data": {
      "text/html": [
       "<pre>--------------------------------------------------------</pre>"
      ],
      "text/plain": [
       "--------------------------------------------------------"
      ]
     },
     "metadata": {},
     "output_type": "display_data"
    },
    {
     "data": {
      "text/html": [
       "<pre>+-----------+----------+-----------+--------------+-------------------+---------------------+</pre>"
      ],
      "text/plain": [
       "+-----------+----------+-----------+--------------+-------------------+---------------------+"
      ]
     },
     "metadata": {},
     "output_type": "display_data"
    },
    {
     "data": {
      "text/html": [
       "<pre>| Iteration | Passes   | Step size | Elapsed Time | Training-accuracy | Validation-accuracy |</pre>"
      ],
      "text/plain": [
       "| Iteration | Passes   | Step size | Elapsed Time | Training-accuracy | Validation-accuracy |"
      ]
     },
     "metadata": {},
     "output_type": "display_data"
    },
    {
     "data": {
      "text/html": [
       "<pre>+-----------+----------+-----------+--------------+-------------------+---------------------+</pre>"
      ],
      "text/plain": [
       "+-----------+----------+-----------+--------------+-------------------+---------------------+"
      ]
     },
     "metadata": {},
     "output_type": "display_data"
    },
    {
     "data": {
      "text/html": [
       "<pre>| 1         | 3        | 0.000166  | 0.025002     | 0.728453          | 0.678536            |</pre>"
      ],
      "text/plain": [
       "| 1         | 3        | 0.000166  | 0.025002     | 0.728453          | 0.678536            |"
      ]
     },
     "metadata": {},
     "output_type": "display_data"
    },
    {
     "data": {
      "text/html": [
       "<pre>| 2         | 5        | 1.000000  | 0.053003     | 0.809817          | 0.693373            |</pre>"
      ],
      "text/plain": [
       "| 2         | 5        | 1.000000  | 0.053003     | 0.809817          | 0.693373            |"
      ]
     },
     "metadata": {},
     "output_type": "display_data"
    },
    {
     "data": {
      "text/html": [
       "<pre>| 3         | 6        | 1.000000  | 0.077005     | 0.766556          | 0.579624            |</pre>"
      ],
      "text/plain": [
       "| 3         | 6        | 1.000000  | 0.077005     | 0.766556          | 0.579624            |"
      ]
     },
     "metadata": {},
     "output_type": "display_data"
    },
    {
     "data": {
      "text/html": [
       "<pre>| 4         | 8        | 1.000000  | 0.104006     | 0.854243          | 0.675074            |</pre>"
      ],
      "text/plain": [
       "| 4         | 8        | 1.000000  | 0.104006     | 0.854243          | 0.675074            |"
      ]
     },
     "metadata": {},
     "output_type": "display_data"
    },
    {
     "data": {
      "text/html": [
       "<pre>| 5         | 9        | 1.000000  | 0.126008     | 0.858403          | 0.681009            |</pre>"
      ],
      "text/plain": [
       "| 5         | 9        | 1.000000  | 0.126008     | 0.858403          | 0.681009            |"
      ]
     },
     "metadata": {},
     "output_type": "display_data"
    },
    {
     "data": {
      "text/html": [
       "<pre>| 6         | 10       | 1.000000  | 0.152009     | 0.863727          | 0.684471            |</pre>"
      ],
      "text/plain": [
       "| 6         | 10       | 1.000000  | 0.152009     | 0.863727          | 0.684471            |"
      ]
     },
     "metadata": {},
     "output_type": "display_data"
    },
    {
     "data": {
      "text/html": [
       "<pre>| 11        | 15       | 1.000000  | 0.244014     | 0.869551          | 0.682493            |</pre>"
      ],
      "text/plain": [
       "| 11        | 15       | 1.000000  | 0.244014     | 0.869551          | 0.682493            |"
      ]
     },
     "metadata": {},
     "output_type": "display_data"
    },
    {
     "data": {
      "text/html": [
       "<pre>| 50        | 60       | 0.500000  | 0.886051     | 0.876872          | 0.683976            |</pre>"
      ],
      "text/plain": [
       "| 50        | 60       | 0.500000  | 0.886051     | 0.876872          | 0.683976            |"
      ]
     },
     "metadata": {},
     "output_type": "display_data"
    },
    {
     "data": {
      "text/html": [
       "<pre>| 51        | 61       | 0.500000  | 0.901052     | 0.877537          | 0.684471            |</pre>"
      ],
      "text/plain": [
       "| 51        | 61       | 0.500000  | 0.901052     | 0.877537          | 0.684471            |"
      ]
     },
     "metadata": {},
     "output_type": "display_data"
    },
    {
     "data": {
      "text/html": [
       "<pre>| 100       | 112      | 1.000000  | 1.915110     | 0.879534          | 0.682493            |</pre>"
      ],
      "text/plain": [
       "| 100       | 112      | 1.000000  | 1.915110     | 0.879534          | 0.682493            |"
      ]
     },
     "metadata": {},
     "output_type": "display_data"
    },
    {
     "data": {
      "text/html": [
       "<pre>| 101       | 113      | 1.000000  | 1.931111     | 0.879700          | 0.681998            |</pre>"
      ],
      "text/plain": [
       "| 101       | 113      | 1.000000  | 1.931111     | 0.879700          | 0.681998            |"
      ]
     },
     "metadata": {},
     "output_type": "display_data"
    },
    {
     "data": {
      "text/html": [
       "<pre>| 150       | 166      | 1.000000  | 2.771159     | 0.879035          | 0.679525            |</pre>"
      ],
      "text/plain": [
       "| 150       | 166      | 1.000000  | 2.771159     | 0.879035          | 0.679525            |"
      ]
     },
     "metadata": {},
     "output_type": "display_data"
    },
    {
     "data": {
      "text/html": [
       "<pre>| 200       | 218      | 1.000000  | 3.632208     | 0.879035          | 0.684965            |</pre>"
      ],
      "text/plain": [
       "| 200       | 218      | 1.000000  | 3.632208     | 0.879035          | 0.684965            |"
      ]
     },
     "metadata": {},
     "output_type": "display_data"
    },
    {
     "data": {
      "text/html": [
       "<pre>| 250       | 277      | 1.000000  | 4.436254     | 0.879368          | 0.683482            |</pre>"
      ],
      "text/plain": [
       "| 250       | 277      | 1.000000  | 4.436254     | 0.879368          | 0.683482            |"
      ]
     },
     "metadata": {},
     "output_type": "display_data"
    },
    {
     "data": {
      "text/html": [
       "<pre>| 300       | 332      | 1.000000  | 5.262301     | 0.879201          | 0.683976            |</pre>"
      ],
      "text/plain": [
       "| 300       | 332      | 1.000000  | 5.262301     | 0.879201          | 0.683976            |"
      ]
     },
     "metadata": {},
     "output_type": "display_data"
    },
    {
     "data": {
      "text/html": [
       "<pre>| 350       | 389      | 1.000000  | 6.042346     | 0.878369          | 0.684471            |</pre>"
      ],
      "text/plain": [
       "| 350       | 389      | 1.000000  | 6.042346     | 0.878369          | 0.684471            |"
      ]
     },
     "metadata": {},
     "output_type": "display_data"
    },
    {
     "data": {
      "text/html": [
       "<pre>| 400       | 467      | 1.000000  | 6.949398     | 0.879700          | 0.686449            |</pre>"
      ],
      "text/plain": [
       "| 400       | 467      | 1.000000  | 6.949398     | 0.879700          | 0.686449            |"
      ]
     },
     "metadata": {},
     "output_type": "display_data"
    },
    {
     "data": {
      "text/html": [
       "<pre>| 450       | 549      | 1.000000  | 7.869451     | 0.878869          | 0.688427            |</pre>"
      ],
      "text/plain": [
       "| 450       | 549      | 1.000000  | 7.869451     | 0.878869          | 0.688427            |"
      ]
     },
     "metadata": {},
     "output_type": "display_data"
    },
    {
     "data": {
      "text/html": [
       "<pre>| 500       | 625      | 1.000000  | 8.766502     | 0.879201          | 0.687933            |</pre>"
      ],
      "text/plain": [
       "| 500       | 625      | 1.000000  | 8.766502     | 0.879201          | 0.687933            |"
      ]
     },
     "metadata": {},
     "output_type": "display_data"
    },
    {
     "data": {
      "text/html": [
       "<pre>| 501       | 626      | 1.000000  | 8.781503     | 0.879201          | 0.687933            |</pre>"
      ],
      "text/plain": [
       "| 501       | 626      | 1.000000  | 8.781503     | 0.879201          | 0.687933            |"
      ]
     },
     "metadata": {},
     "output_type": "display_data"
    },
    {
     "data": {
      "text/html": [
       "<pre>| 550       | 695      | 1.000000  | 9.637552     | 0.879534          | 0.689911            |</pre>"
      ],
      "text/plain": [
       "| 550       | 695      | 1.000000  | 9.637552     | 0.879534          | 0.689911            |"
      ]
     },
     "metadata": {},
     "output_type": "display_data"
    },
    {
     "data": {
      "text/html": [
       "<pre>| 600       | 766      | 1.000000  | 10.524602    | 0.879201          | 0.689911            |</pre>"
      ],
      "text/plain": [
       "| 600       | 766      | 1.000000  | 10.524602    | 0.879201          | 0.689911            |"
      ]
     },
     "metadata": {},
     "output_type": "display_data"
    },
    {
     "data": {
      "text/html": [
       "<pre>| 650       | 835      | 1.000000  | 11.406653    | 0.879035          | 0.687933            |</pre>"
      ],
      "text/plain": [
       "| 650       | 835      | 1.000000  | 11.406653    | 0.879035          | 0.687933            |"
      ]
     },
     "metadata": {},
     "output_type": "display_data"
    },
    {
     "data": {
      "text/html": [
       "<pre>| 700       | 914      | 1.000000  | 12.317705    | 0.879201          | 0.687933            |</pre>"
      ],
      "text/plain": [
       "| 700       | 914      | 1.000000  | 12.317705    | 0.879201          | 0.687933            |"
      ]
     },
     "metadata": {},
     "output_type": "display_data"
    },
    {
     "data": {
      "text/html": [
       "<pre>| 750       | 988      | 1.000000  | 13.190755    | 0.878869          | 0.685955            |</pre>"
      ],
      "text/plain": [
       "| 750       | 988      | 1.000000  | 13.190755    | 0.878869          | 0.685955            |"
      ]
     },
     "metadata": {},
     "output_type": "display_data"
    },
    {
     "data": {
      "text/html": [
       "<pre>| 800       | 1063     | 1.000000  | 14.130809    | 0.878869          | 0.683976            |</pre>"
      ],
      "text/plain": [
       "| 800       | 1063     | 1.000000  | 14.130809    | 0.878869          | 0.683976            |"
      ]
     },
     "metadata": {},
     "output_type": "display_data"
    },
    {
     "data": {
      "text/html": [
       "<pre>| 850       | 1138     | 1.000000  | 15.037861    | 0.878869          | 0.684965            |</pre>"
      ],
      "text/plain": [
       "| 850       | 1138     | 1.000000  | 15.037861    | 0.878869          | 0.684965            |"
      ]
     },
     "metadata": {},
     "output_type": "display_data"
    },
    {
     "data": {
      "text/html": [
       "<pre>| 900       | 1217     | 0.500000  | 16.089921    | 0.878869          | 0.682987            |</pre>"
      ],
      "text/plain": [
       "| 900       | 1217     | 0.500000  | 16.089921    | 0.878869          | 0.682987            |"
      ]
     },
     "metadata": {},
     "output_type": "display_data"
    },
    {
     "data": {
      "text/html": [
       "<pre>| 950       | 1293     | 1.000000  | 16.978972    | 0.879201          | 0.682493            |</pre>"
      ],
      "text/plain": [
       "| 950       | 1293     | 1.000000  | 16.978972    | 0.879201          | 0.682493            |"
      ]
     },
     "metadata": {},
     "output_type": "display_data"
    },
    {
     "data": {
      "text/html": [
       "<pre>| 1000      | 1366     | 1.000000  | 17.834020    | 0.878869          | 0.683482            |</pre>"
      ],
      "text/plain": [
       "| 1000      | 1366     | 1.000000  | 17.834020    | 0.878869          | 0.683482            |"
      ]
     },
     "metadata": {},
     "output_type": "display_data"
    },
    {
     "data": {
      "text/html": [
       "<pre>| 1001      | 1368     | 1.000000  | 17.854022    | 0.878869          | 0.683482            |</pre>"
      ],
      "text/plain": [
       "| 1001      | 1368     | 1.000000  | 17.854022    | 0.878869          | 0.683482            |"
      ]
     },
     "metadata": {},
     "output_type": "display_data"
    },
    {
     "data": {
      "text/html": [
       "<pre>| 1050      | 1439     | 1.000000  | 18.714071    | 0.879035          | 0.684965            |</pre>"
      ],
      "text/plain": [
       "| 1050      | 1439     | 1.000000  | 18.714071    | 0.879035          | 0.684965            |"
      ]
     },
     "metadata": {},
     "output_type": "display_data"
    },
    {
     "data": {
      "text/html": [
       "<pre>| 1100      | 1513     | 1.000000  | 19.585121    | 0.878702          | 0.685460            |</pre>"
      ],
      "text/plain": [
       "| 1100      | 1513     | 1.000000  | 19.585121    | 0.878702          | 0.685460            |"
      ]
     },
     "metadata": {},
     "output_type": "display_data"
    },
    {
     "data": {
      "text/html": [
       "<pre>| 1150      | 1588     | 1.000000  | 20.472171    | 0.878369          | 0.685460            |</pre>"
      ],
      "text/plain": [
       "| 1150      | 1588     | 1.000000  | 20.472171    | 0.878369          | 0.685460            |"
      ]
     },
     "metadata": {},
     "output_type": "display_data"
    },
    {
     "data": {
      "text/html": [
       "<pre>| 1200      | 1664     | 1.000000  | 21.346221    | 0.878702          | 0.685955            |</pre>"
      ],
      "text/plain": [
       "| 1200      | 1664     | 1.000000  | 21.346221    | 0.878702          | 0.685955            |"
      ]
     },
     "metadata": {},
     "output_type": "display_data"
    },
    {
     "data": {
      "text/html": [
       "<pre>| 1250      | 1715     | 1.000000  | 22.137267    | 0.878702          | 0.685955            |</pre>"
      ],
      "text/plain": [
       "| 1250      | 1715     | 1.000000  | 22.137267    | 0.878702          | 0.685955            |"
      ]
     },
     "metadata": {},
     "output_type": "display_data"
    },
    {
     "data": {
      "text/html": [
       "<pre>| 1300      | 1778     | 1.000000  | 22.996316    | 0.878702          | 0.685955            |</pre>"
      ],
      "text/plain": [
       "| 1300      | 1778     | 1.000000  | 22.996316    | 0.878702          | 0.685955            |"
      ]
     },
     "metadata": {},
     "output_type": "display_data"
    },
    {
     "data": {
      "text/html": [
       "<pre>| 1350      | 1853     | 1.000000  | 23.931369    | 0.878702          | 0.685460            |</pre>"
      ],
      "text/plain": [
       "| 1350      | 1853     | 1.000000  | 23.931369    | 0.878702          | 0.685460            |"
      ]
     },
     "metadata": {},
     "output_type": "display_data"
    },
    {
     "data": {
      "text/html": [
       "<pre>| 1400      | 1923     | 1.000000  | 24.845422    | 0.878536          | 0.684965            |</pre>"
      ],
      "text/plain": [
       "| 1400      | 1923     | 1.000000  | 24.845422    | 0.878536          | 0.684965            |"
      ]
     },
     "metadata": {},
     "output_type": "display_data"
    },
    {
     "data": {
      "text/html": [
       "<pre>+-----------+----------+-----------+--------------+-------------------+---------------------+</pre>"
      ],
      "text/plain": [
       "+-----------+----------+-----------+--------------+-------------------+---------------------+"
      ]
     },
     "metadata": {},
     "output_type": "display_data"
    },
    {
     "data": {
      "text/html": [
       "<pre>TERMINATED: Iteration limit reached.</pre>"
      ],
      "text/plain": [
       "TERMINATED: Iteration limit reached."
      ]
     },
     "metadata": {},
     "output_type": "display_data"
    },
    {
     "data": {
      "text/html": [
       "<pre>This model may not be optimal. To improve it, consider increasing `max_iterations`.</pre>"
      ],
      "text/plain": [
       "This model may not be optimal. To improve it, consider increasing `max_iterations`."
      ]
     },
     "metadata": {},
     "output_type": "display_data"
    }
   ],
   "source": [
    "svm_model_1_information = graphlab.svm_classifier.create(train_data, target='label.Information', \\\n",
    "                                                                   features=features1, validation_set=validation_data, \\\n",
    "                                                                   max_iterations=1400)"
   ]
  },
  {
   "cell_type": "code",
   "execution_count": 82,
   "metadata": {
    "collapsed": false
   },
   "outputs": [
    {
     "data": {
      "text/plain": [
       "{'accuracy': 0.6595528455284553, 'confusion_matrix': Columns:\n",
       " \ttarget_label\tint\n",
       " \tpredicted_label\tint\n",
       " \tcount\tint\n",
       " \n",
       " Rows: 4\n",
       " \n",
       " Data:\n",
       " +--------------+-----------------+-------+\n",
       " | target_label | predicted_label | count |\n",
       " +--------------+-----------------+-------+\n",
       " |      1       |        0        |  371  |\n",
       " |      0       |        0        |  337  |\n",
       " |      0       |        1        |  299  |\n",
       " |      1       |        1        |  961  |\n",
       " +--------------+-----------------+-------+\n",
       " [4 rows x 3 columns], 'f1_score': 0.7415123456790124, 'precision': 0.7626984126984127, 'recall': 0.7214714714714715}"
      ]
     },
     "execution_count": 82,
     "metadata": {},
     "output_type": "execute_result"
    }
   ],
   "source": [
    "svm_model_1_information.evaluate(test_data)"
   ]
  },
  {
   "cell_type": "code",
   "execution_count": 85,
   "metadata": {
    "collapsed": false,
    "scrolled": true
   },
   "outputs": [
    {
     "data": {
      "text/html": [
       "<pre>SVM:</pre>"
      ],
      "text/plain": [
       "SVM:"
      ]
     },
     "metadata": {},
     "output_type": "display_data"
    },
    {
     "data": {
      "text/html": [
       "<pre>--------------------------------------------------------</pre>"
      ],
      "text/plain": [
       "--------------------------------------------------------"
      ]
     },
     "metadata": {},
     "output_type": "display_data"
    },
    {
     "data": {
      "text/html": [
       "<pre>Number of examples          : 6010</pre>"
      ],
      "text/plain": [
       "Number of examples          : 6010"
      ]
     },
     "metadata": {},
     "output_type": "display_data"
    },
    {
     "data": {
      "text/html": [
       "<pre>Number of classes           : 2</pre>"
      ],
      "text/plain": [
       "Number of classes           : 2"
      ]
     },
     "metadata": {},
     "output_type": "display_data"
    },
    {
     "data": {
      "text/html": [
       "<pre>Number of feature columns   : 1</pre>"
      ],
      "text/plain": [
       "Number of feature columns   : 1"
      ]
     },
     "metadata": {},
     "output_type": "display_data"
    },
    {
     "data": {
      "text/html": [
       "<pre>Number of unpacked features : 4276</pre>"
      ],
      "text/plain": [
       "Number of unpacked features : 4276"
      ]
     },
     "metadata": {},
     "output_type": "display_data"
    },
    {
     "data": {
      "text/html": [
       "<pre>Number of coefficients    : 4277</pre>"
      ],
      "text/plain": [
       "Number of coefficients    : 4277"
      ]
     },
     "metadata": {},
     "output_type": "display_data"
    },
    {
     "data": {
      "text/html": [
       "<pre>Starting L-BFGS</pre>"
      ],
      "text/plain": [
       "Starting L-BFGS"
      ]
     },
     "metadata": {},
     "output_type": "display_data"
    },
    {
     "data": {
      "text/html": [
       "<pre>--------------------------------------------------------</pre>"
      ],
      "text/plain": [
       "--------------------------------------------------------"
      ]
     },
     "metadata": {},
     "output_type": "display_data"
    },
    {
     "data": {
      "text/html": [
       "<pre>+-----------+----------+-----------+--------------+-------------------+---------------------+</pre>"
      ],
      "text/plain": [
       "+-----------+----------+-----------+--------------+-------------------+---------------------+"
      ]
     },
     "metadata": {},
     "output_type": "display_data"
    },
    {
     "data": {
      "text/html": [
       "<pre>| Iteration | Passes   | Step size | Elapsed Time | Training-accuracy | Validation-accuracy |</pre>"
      ],
      "text/plain": [
       "| Iteration | Passes   | Step size | Elapsed Time | Training-accuracy | Validation-accuracy |"
      ]
     },
     "metadata": {},
     "output_type": "display_data"
    },
    {
     "data": {
      "text/html": [
       "<pre>+-----------+----------+-----------+--------------+-------------------+---------------------+</pre>"
      ],
      "text/plain": [
       "+-----------+----------+-----------+--------------+-------------------+---------------------+"
      ]
     },
     "metadata": {},
     "output_type": "display_data"
    },
    {
     "data": {
      "text/html": [
       "<pre>| 1         | 3        | 0.000166  | 0.016000     | 0.811314          | 0.684965            |</pre>"
      ],
      "text/plain": [
       "| 1         | 3        | 0.000166  | 0.016000     | 0.811314          | 0.684965            |"
      ]
     },
     "metadata": {},
     "output_type": "display_data"
    },
    {
     "data": {
      "text/html": [
       "<pre>| 2         | 5        | 1.000000  | 0.028001     | 0.847421          | 0.676558            |</pre>"
      ],
      "text/plain": [
       "| 2         | 5        | 1.000000  | 0.028001     | 0.847421          | 0.676558            |"
      ]
     },
     "metadata": {},
     "output_type": "display_data"
    },
    {
     "data": {
      "text/html": [
       "<pre>| 3         | 6        | 1.000000  | 0.037002     | 0.856905          | 0.678042            |</pre>"
      ],
      "text/plain": [
       "| 3         | 6        | 1.000000  | 0.037002     | 0.856905          | 0.678042            |"
      ]
     },
     "metadata": {},
     "output_type": "display_data"
    },
    {
     "data": {
      "text/html": [
       "<pre>| 4         | 7        | 1.000000  | 0.045002     | 0.860899          | 0.679031            |</pre>"
      ],
      "text/plain": [
       "| 4         | 7        | 1.000000  | 0.045002     | 0.860899          | 0.679031            |"
      ]
     },
     "metadata": {},
     "output_type": "display_data"
    },
    {
     "data": {
      "text/html": [
       "<pre>| 5         | 8        | 1.000000  | 0.055003     | 0.861065          | 0.678042            |</pre>"
      ],
      "text/plain": [
       "| 5         | 8        | 1.000000  | 0.055003     | 0.861065          | 0.678042            |"
      ]
     },
     "metadata": {},
     "output_type": "display_data"
    },
    {
     "data": {
      "text/html": [
       "<pre>| 6         | 9        | 1.000000  | 0.064003     | 0.863394          | 0.680020            |</pre>"
      ],
      "text/plain": [
       "| 6         | 9        | 1.000000  | 0.064003     | 0.863394          | 0.680020            |"
      ]
     },
     "metadata": {},
     "output_type": "display_data"
    },
    {
     "data": {
      "text/html": [
       "<pre>| 11        | 15       | 1.000000  | 0.123007     | 0.866223          | 0.679031            |</pre>"
      ],
      "text/plain": [
       "| 11        | 15       | 1.000000  | 0.123007     | 0.866223          | 0.679031            |"
      ]
     },
     "metadata": {},
     "output_type": "display_data"
    },
    {
     "data": {
      "text/html": [
       "<pre>| 51        | 58       | 1.000000  | 0.507029     | 0.874875          | 0.682493            |</pre>"
      ],
      "text/plain": [
       "| 51        | 58       | 1.000000  | 0.507029     | 0.874875          | 0.682493            |"
      ]
     },
     "metadata": {},
     "output_type": "display_data"
    },
    {
     "data": {
      "text/html": [
       "<pre>| 100       | 109      | 1.000000  | 0.932053     | 0.875874          | 0.677052            |</pre>"
      ],
      "text/plain": [
       "| 100       | 109      | 1.000000  | 0.932053     | 0.875874          | 0.677052            |"
      ]
     },
     "metadata": {},
     "output_type": "display_data"
    },
    {
     "data": {
      "text/html": [
       "<pre>| 101       | 110      | 1.000000  | 0.941053     | 0.875874          | 0.677052            |</pre>"
      ],
      "text/plain": [
       "| 101       | 110      | 1.000000  | 0.941053     | 0.875874          | 0.677052            |"
      ]
     },
     "metadata": {},
     "output_type": "display_data"
    },
    {
     "data": {
      "text/html": [
       "<pre>| 200       | 213      | 1.000000  | 1.861106     | 0.875874          | 0.666172            |</pre>"
      ],
      "text/plain": [
       "| 200       | 213      | 1.000000  | 1.861106     | 0.875874          | 0.666172            |"
      ]
     },
     "metadata": {},
     "output_type": "display_data"
    },
    {
     "data": {
      "text/html": [
       "<pre>| 300       | 319      | 0.500000  | 2.878164     | 0.875374          | 0.656775            |</pre>"
      ],
      "text/plain": [
       "| 300       | 319      | 0.500000  | 2.878164     | 0.875374          | 0.656775            |"
      ]
     },
     "metadata": {},
     "output_type": "display_data"
    },
    {
     "data": {
      "text/html": [
       "<pre>| 400       | 419      | 0.500000  | 3.777216     | 0.875374          | 0.657765            |</pre>"
      ],
      "text/plain": [
       "| 400       | 419      | 0.500000  | 3.777216     | 0.875374          | 0.657765            |"
      ]
     },
     "metadata": {},
     "output_type": "display_data"
    },
    {
     "data": {
      "text/html": [
       "<pre>| 500       | 542      | 1.000000  | 4.735270     | 0.875707          | 0.661227            |</pre>"
      ],
      "text/plain": [
       "| 500       | 542      | 1.000000  | 4.735270     | 0.875707          | 0.661227            |"
      ]
     },
     "metadata": {},
     "output_type": "display_data"
    },
    {
     "data": {
      "text/html": [
       "<pre>| 501       | 543      | 1.000000  | 4.745271     | 0.875707          | 0.661227            |</pre>"
      ],
      "text/plain": [
       "| 501       | 543      | 1.000000  | 4.745271     | 0.875707          | 0.661227            |"
      ]
     },
     "metadata": {},
     "output_type": "display_data"
    },
    {
     "data": {
      "text/html": [
       "<pre>| 600       | 705      | 1.000000  | 5.907337     | 0.875874          | 0.658754            |</pre>"
      ],
      "text/plain": [
       "| 600       | 705      | 1.000000  | 5.907337     | 0.875874          | 0.658754            |"
      ]
     },
     "metadata": {},
     "output_type": "display_data"
    },
    {
     "data": {
      "text/html": [
       "<pre>| 700       | 855      | 1.000000  | 6.952397     | 0.875707          | 0.659743            |</pre>"
      ],
      "text/plain": [
       "| 700       | 855      | 1.000000  | 6.952397     | 0.875707          | 0.659743            |"
      ]
     },
     "metadata": {},
     "output_type": "display_data"
    },
    {
     "data": {
      "text/html": [
       "<pre>| 800       | 1009     | 1.000000  | 8.005457     | 0.875707          | 0.660237            |</pre>"
      ],
      "text/plain": [
       "| 800       | 1009     | 1.000000  | 8.005457     | 0.875707          | 0.660237            |"
      ]
     },
     "metadata": {},
     "output_type": "display_data"
    },
    {
     "data": {
      "text/html": [
       "<pre>| 900       | 1122     | 1.000000  | 9.002514     | 0.875707          | 0.661227            |</pre>"
      ],
      "text/plain": [
       "| 900       | 1122     | 1.000000  | 9.002514     | 0.875707          | 0.661227            |"
      ]
     },
     "metadata": {},
     "output_type": "display_data"
    },
    {
     "data": {
      "text/html": [
       "<pre>| 1000      | 1270     | 1.000000  | 10.092577    | 0.875707          | 0.662216            |</pre>"
      ],
      "text/plain": [
       "| 1000      | 1270     | 1.000000  | 10.092577    | 0.875707          | 0.662216            |"
      ]
     },
     "metadata": {},
     "output_type": "display_data"
    },
    {
     "data": {
      "text/html": [
       "<pre>+-----------+----------+-----------+--------------+-------------------+---------------------+</pre>"
      ],
      "text/plain": [
       "+-----------+----------+-----------+--------------+-------------------+---------------------+"
      ]
     },
     "metadata": {},
     "output_type": "display_data"
    },
    {
     "data": {
      "text/html": [
       "<pre>TERMINATED: Iteration limit reached.</pre>"
      ],
      "text/plain": [
       "TERMINATED: Iteration limit reached."
      ]
     },
     "metadata": {},
     "output_type": "display_data"
    },
    {
     "data": {
      "text/html": [
       "<pre>This model may not be optimal. To improve it, consider increasing `max_iterations`.</pre>"
      ],
      "text/plain": [
       "This model may not be optimal. To improve it, consider increasing `max_iterations`."
      ]
     },
     "metadata": {},
     "output_type": "display_data"
    }
   ],
   "source": [
    "svm_model_2_information = graphlab.svm_classifier.create(train_data, target='label.Information', \\\n",
    "                                                                   features=features2, validation_set=validation_data, \\\n",
    "                                                                   max_iterations=1000)"
   ]
  },
  {
   "cell_type": "code",
   "execution_count": 86,
   "metadata": {
    "collapsed": false
   },
   "outputs": [
    {
     "data": {
      "text/plain": [
       "{'accuracy': 0.6478658536585366, 'confusion_matrix': Columns:\n",
       " \ttarget_label\tint\n",
       " \tpredicted_label\tint\n",
       " \tcount\tint\n",
       " \n",
       " Rows: 4\n",
       " \n",
       " Data:\n",
       " +--------------+-----------------+-------+\n",
       " | target_label | predicted_label | count |\n",
       " +--------------+-----------------+-------+\n",
       " |      0       |        1        |  264  |\n",
       " |      1       |        1        |  903  |\n",
       " |      0       |        0        |  372  |\n",
       " |      1       |        0        |  429  |\n",
       " +--------------+-----------------+-------+\n",
       " [4 rows x 3 columns], 'f1_score': 0.7226890756302522, 'precision': 0.7737789203084833, 'recall': 0.6779279279279279}"
      ]
     },
     "execution_count": 86,
     "metadata": {},
     "output_type": "execute_result"
    }
   ],
   "source": [
    "svm_model_2_information.evaluate(test_data)"
   ]
  },
  {
   "cell_type": "code",
   "execution_count": 72,
   "metadata": {
    "collapsed": false,
    "scrolled": false
   },
   "outputs": [
    {
     "data": {
      "text/html": [
       "<pre>WARNING: Detected extremely low variance for feature(s) 'parsers_tfidf' because all entries are nearly the same.\n",
       "Proceeding with model training using all features. If the model does not provide results of adequate quality, exclude the above mentioned feature(s) from the input dataset.</pre>"
      ],
      "text/plain": [
       "WARNING: Detected extremely low variance for feature(s) 'parsers_tfidf' because all entries are nearly the same.\n",
       "Proceeding with model training using all features. If the model does not provide results of adequate quality, exclude the above mentioned feature(s) from the input dataset."
      ]
     },
     "metadata": {},
     "output_type": "display_data"
    },
    {
     "data": {
      "text/html": [
       "<pre>Logistic regression:</pre>"
      ],
      "text/plain": [
       "Logistic regression:"
      ]
     },
     "metadata": {},
     "output_type": "display_data"
    },
    {
     "data": {
      "text/html": [
       "<pre>--------------------------------------------------------</pre>"
      ],
      "text/plain": [
       "--------------------------------------------------------"
      ]
     },
     "metadata": {},
     "output_type": "display_data"
    },
    {
     "data": {
      "text/html": [
       "<pre>Number of examples          : 6010</pre>"
      ],
      "text/plain": [
       "Number of examples          : 6010"
      ]
     },
     "metadata": {},
     "output_type": "display_data"
    },
    {
     "data": {
      "text/html": [
       "<pre>Number of classes           : 2</pre>"
      ],
      "text/plain": [
       "Number of classes           : 2"
      ]
     },
     "metadata": {},
     "output_type": "display_data"
    },
    {
     "data": {
      "text/html": [
       "<pre>Number of feature columns   : 7</pre>"
      ],
      "text/plain": [
       "Number of feature columns   : 7"
      ]
     },
     "metadata": {},
     "output_type": "display_data"
    },
    {
     "data": {
      "text/html": [
       "<pre>Number of unpacked features : 4319</pre>"
      ],
      "text/plain": [
       "Number of unpacked features : 4319"
      ]
     },
     "metadata": {},
     "output_type": "display_data"
    },
    {
     "data": {
      "text/html": [
       "<pre>Number of coefficients    : 4320</pre>"
      ],
      "text/plain": [
       "Number of coefficients    : 4320"
      ]
     },
     "metadata": {},
     "output_type": "display_data"
    },
    {
     "data": {
      "text/html": [
       "<pre>Starting L-BFGS</pre>"
      ],
      "text/plain": [
       "Starting L-BFGS"
      ]
     },
     "metadata": {},
     "output_type": "display_data"
    },
    {
     "data": {
      "text/html": [
       "<pre>--------------------------------------------------------</pre>"
      ],
      "text/plain": [
       "--------------------------------------------------------"
      ]
     },
     "metadata": {},
     "output_type": "display_data"
    },
    {
     "data": {
      "text/html": [
       "<pre>+-----------+----------+-----------+--------------+-------------------+---------------------+</pre>"
      ],
      "text/plain": [
       "+-----------+----------+-----------+--------------+-------------------+---------------------+"
      ]
     },
     "metadata": {},
     "output_type": "display_data"
    },
    {
     "data": {
      "text/html": [
       "<pre>| Iteration | Passes   | Step size | Elapsed Time | Training-accuracy | Validation-accuracy |</pre>"
      ],
      "text/plain": [
       "| Iteration | Passes   | Step size | Elapsed Time | Training-accuracy | Validation-accuracy |"
      ]
     },
     "metadata": {},
     "output_type": "display_data"
    },
    {
     "data": {
      "text/html": [
       "<pre>+-----------+----------+-----------+--------------+-------------------+---------------------+</pre>"
      ],
      "text/plain": [
       "+-----------+----------+-----------+--------------+-------------------+---------------------+"
      ]
     },
     "metadata": {},
     "output_type": "display_data"
    },
    {
     "data": {
      "text/html": [
       "<pre>| 1         | 3        | 0.000166  | 0.027001     | 0.728453          | 0.678536            |</pre>"
      ],
      "text/plain": [
       "| 1         | 3        | 0.000166  | 0.027001     | 0.728453          | 0.678536            |"
      ]
     },
     "metadata": {},
     "output_type": "display_data"
    },
    {
     "data": {
      "text/html": [
       "<pre>| 2         | 5        | 1.000000  | 0.070004     | 0.810150          | 0.688922            |</pre>"
      ],
      "text/plain": [
       "| 2         | 5        | 1.000000  | 0.070004     | 0.810150          | 0.688922            |"
      ]
     },
     "metadata": {},
     "output_type": "display_data"
    },
    {
     "data": {
      "text/html": [
       "<pre>| 3         | 6        | 1.000000  | 0.093005     | 0.854243          | 0.674085            |</pre>"
      ],
      "text/plain": [
       "| 3         | 6        | 1.000000  | 0.093005     | 0.854243          | 0.674085            |"
      ]
     },
     "metadata": {},
     "output_type": "display_data"
    },
    {
     "data": {
      "text/html": [
       "<pre>| 4         | 7        | 1.000000  | 0.117007     | 0.860732          | 0.681998            |</pre>"
      ],
      "text/plain": [
       "| 4         | 7        | 1.000000  | 0.117007     | 0.860732          | 0.681998            |"
      ]
     },
     "metadata": {},
     "output_type": "display_data"
    },
    {
     "data": {
      "text/html": [
       "<pre>| 5         | 8        | 1.000000  | 0.137008     | 0.865058          | 0.681009            |</pre>"
      ],
      "text/plain": [
       "| 5         | 8        | 1.000000  | 0.137008     | 0.865058          | 0.681009            |"
      ]
     },
     "metadata": {},
     "output_type": "display_data"
    },
    {
     "data": {
      "text/html": [
       "<pre>| 6         | 9        | 1.000000  | 0.153009     | 0.869218          | 0.681009            |</pre>"
      ],
      "text/plain": [
       "| 6         | 9        | 1.000000  | 0.153009     | 0.869218          | 0.681009            |"
      ]
     },
     "metadata": {},
     "output_type": "display_data"
    },
    {
     "data": {
      "text/html": [
       "<pre>| 11        | 14       | 1.000000  | 0.240014     | 0.875874          | 0.683482            |</pre>"
      ],
      "text/plain": [
       "| 11        | 14       | 1.000000  | 0.240014     | 0.875874          | 0.683482            |"
      ]
     },
     "metadata": {},
     "output_type": "display_data"
    },
    {
     "data": {
      "text/html": [
       "<pre>| 50        | 53       | 1.000000  | 0.894051     | 0.882862          | 0.680514            |</pre>"
      ],
      "text/plain": [
       "| 50        | 53       | 1.000000  | 0.894051     | 0.882862          | 0.680514            |"
      ]
     },
     "metadata": {},
     "output_type": "display_data"
    },
    {
     "data": {
      "text/html": [
       "<pre>+-----------+----------+-----------+--------------+-------------------+---------------------+</pre>"
      ],
      "text/plain": [
       "+-----------+----------+-----------+--------------+-------------------+---------------------+"
      ]
     },
     "metadata": {},
     "output_type": "display_data"
    },
    {
     "data": {
      "text/html": [
       "<pre>TERMINATED: Iteration limit reached.</pre>"
      ],
      "text/plain": [
       "TERMINATED: Iteration limit reached."
      ]
     },
     "metadata": {},
     "output_type": "display_data"
    },
    {
     "data": {
      "text/html": [
       "<pre>This model may not be optimal. To improve it, consider increasing `max_iterations`.</pre>"
      ],
      "text/plain": [
       "This model may not be optimal. To improve it, consider increasing `max_iterations`."
      ]
     },
     "metadata": {},
     "output_type": "display_data"
    }
   ],
   "source": [
    "logistic_model_1_information = graphlab.logistic_classifier.create(train_data, target='label.Information', \\\n",
    "                                                                   features=features1, validation_set=validation_data, \\\n",
    "                                                                   max_iterations=50, l2_penalty=0.05,l1_penalty=0)"
   ]
  },
  {
   "cell_type": "code",
   "execution_count": 73,
   "metadata": {
    "collapsed": false,
    "scrolled": false
   },
   "outputs": [
    {
     "data": {
      "text/plain": [
       "{'accuracy': 0.6686991869918699,\n",
       " 'auc': 0.6361083961319807,\n",
       " 'confusion_matrix': Columns:\n",
       " \ttarget_label\tint\n",
       " \tpredicted_label\tint\n",
       " \tcount\tint\n",
       " \n",
       " Rows: 4\n",
       " \n",
       " Data:\n",
       " +--------------+-----------------+-------+\n",
       " | target_label | predicted_label | count |\n",
       " +--------------+-----------------+-------+\n",
       " |      0       |        1        |  339  |\n",
       " |      1       |        0        |  313  |\n",
       " |      0       |        0        |  297  |\n",
       " |      1       |        1        |  1019 |\n",
       " +--------------+-----------------+-------+\n",
       " [4 rows x 3 columns],\n",
       " 'f1_score': 0.7576208178438661,\n",
       " 'log_loss': 2.469118473734102,\n",
       " 'precision': 0.7503681885125184,\n",
       " 'recall': 0.765015015015015,\n",
       " 'roc_curve': Columns:\n",
       " \tthreshold\tfloat\n",
       " \tfpr\tfloat\n",
       " \ttpr\tfloat\n",
       " \tp\tint\n",
       " \tn\tint\n",
       " \n",
       " Rows: 100001\n",
       " \n",
       " Data:\n",
       " +-----------+----------------+----------------+------+-----+\n",
       " | threshold |      fpr       |      tpr       |  p   |  n  |\n",
       " +-----------+----------------+----------------+------+-----+\n",
       " |    0.0    |      1.0       |      1.0       | 1332 | 636 |\n",
       " |   1e-05   | 0.842767295597 | 0.916666666667 | 1332 | 636 |\n",
       " |   2e-05   | 0.842767295597 | 0.914414414414 | 1332 | 636 |\n",
       " |   3e-05   | 0.841194968553 | 0.912162162162 | 1332 | 636 |\n",
       " |   4e-05   | 0.836477987421 | 0.911411411411 | 1332 | 636 |\n",
       " |   5e-05   | 0.833333333333 | 0.908408408408 | 1332 | 636 |\n",
       " |   6e-05   | 0.831761006289 | 0.908408408408 | 1332 | 636 |\n",
       " |   7e-05   | 0.828616352201 | 0.908408408408 | 1332 | 636 |\n",
       " |   8e-05   | 0.828616352201 | 0.908408408408 | 1332 | 636 |\n",
       " |   9e-05   | 0.828616352201 | 0.908408408408 | 1332 | 636 |\n",
       " +-----------+----------------+----------------+------+-----+\n",
       " [100001 rows x 5 columns]\n",
       " Note: Only the head of the SFrame is printed.\n",
       " You can use print_rows(num_rows=m, num_columns=n) to print more rows and columns.}"
      ]
     },
     "execution_count": 73,
     "metadata": {},
     "output_type": "execute_result"
    }
   ],
   "source": [
    "logistic_model_1_information.evaluate(test_data)"
   ]
  },
  {
   "cell_type": "code",
   "execution_count": 91,
   "metadata": {
    "collapsed": false,
    "scrolled": false
   },
   "outputs": [
    {
     "data": {
      "text/html": [
       "<pre>Logistic regression:</pre>"
      ],
      "text/plain": [
       "Logistic regression:"
      ]
     },
     "metadata": {},
     "output_type": "display_data"
    },
    {
     "data": {
      "text/html": [
       "<pre>--------------------------------------------------------</pre>"
      ],
      "text/plain": [
       "--------------------------------------------------------"
      ]
     },
     "metadata": {},
     "output_type": "display_data"
    },
    {
     "data": {
      "text/html": [
       "<pre>Number of examples          : 6010</pre>"
      ],
      "text/plain": [
       "Number of examples          : 6010"
      ]
     },
     "metadata": {},
     "output_type": "display_data"
    },
    {
     "data": {
      "text/html": [
       "<pre>Number of classes           : 2</pre>"
      ],
      "text/plain": [
       "Number of classes           : 2"
      ]
     },
     "metadata": {},
     "output_type": "display_data"
    },
    {
     "data": {
      "text/html": [
       "<pre>Number of feature columns   : 4</pre>"
      ],
      "text/plain": [
       "Number of feature columns   : 4"
      ]
     },
     "metadata": {},
     "output_type": "display_data"
    },
    {
     "data": {
      "text/html": [
       "<pre>Number of unpacked features : 5053</pre>"
      ],
      "text/plain": [
       "Number of unpacked features : 5053"
      ]
     },
     "metadata": {},
     "output_type": "display_data"
    },
    {
     "data": {
      "text/html": [
       "<pre>Number of coefficients    : 5054</pre>"
      ],
      "text/plain": [
       "Number of coefficients    : 5054"
      ]
     },
     "metadata": {},
     "output_type": "display_data"
    },
    {
     "data": {
      "text/html": [
       "<pre>Starting Accelerated Gradient (FISTA)</pre>"
      ],
      "text/plain": [
       "Starting Accelerated Gradient (FISTA)"
      ]
     },
     "metadata": {},
     "output_type": "display_data"
    },
    {
     "data": {
      "text/html": [
       "<pre>--------------------------------------------------------</pre>"
      ],
      "text/plain": [
       "--------------------------------------------------------"
      ]
     },
     "metadata": {},
     "output_type": "display_data"
    },
    {
     "data": {
      "text/html": [
       "<pre>+-----------+----------+-----------+--------------+-------------------+---------------------+</pre>"
      ],
      "text/plain": [
       "+-----------+----------+-----------+--------------+-------------------+---------------------+"
      ]
     },
     "metadata": {},
     "output_type": "display_data"
    },
    {
     "data": {
      "text/html": [
       "<pre>| Iteration | Passes   | Step size | Elapsed Time | Training-accuracy | Validation-accuracy |</pre>"
      ],
      "text/plain": [
       "| Iteration | Passes   | Step size | Elapsed Time | Training-accuracy | Validation-accuracy |"
      ]
     },
     "metadata": {},
     "output_type": "display_data"
    },
    {
     "data": {
      "text/html": [
       "<pre>+-----------+----------+-----------+--------------+-------------------+---------------------+</pre>"
      ],
      "text/plain": [
       "+-----------+----------+-----------+--------------+-------------------+---------------------+"
      ]
     },
     "metadata": {},
     "output_type": "display_data"
    },
    {
     "data": {
      "text/html": [
       "<pre>Tuning step size. First iteration could take longer than subsequent iterations.</pre>"
      ],
      "text/plain": [
       "Tuning step size. First iteration could take longer than subsequent iterations."
      ]
     },
     "metadata": {},
     "output_type": "display_data"
    },
    {
     "data": {
      "text/html": [
       "<pre>| 1         | 2        | 0.000089  | 0.169010     | 0.876872          | 0.000000            |</pre>"
      ],
      "text/plain": [
       "| 1         | 2        | 0.000089  | 0.169010     | 0.876872          | 0.000000            |"
      ]
     },
     "metadata": {},
     "output_type": "display_data"
    },
    {
     "data": {
      "text/html": [
       "<pre>| 2         | 3        | 0.000089  | 0.187011     | 0.881032          | 0.024691            |</pre>"
      ],
      "text/plain": [
       "| 2         | 3        | 0.000089  | 0.187011     | 0.881032          | 0.024691            |"
      ]
     },
     "metadata": {},
     "output_type": "display_data"
    },
    {
     "data": {
      "text/html": [
       "<pre>| 3         | 4        | 0.000089  | 0.205012     | 0.892679          | 0.098765            |</pre>"
      ],
      "text/plain": [
       "| 3         | 4        | 0.000089  | 0.205012     | 0.892679          | 0.098765            |"
      ]
     },
     "metadata": {},
     "output_type": "display_data"
    },
    {
     "data": {
      "text/html": [
       "<pre>| 4         | 5        | 0.000089  | 0.226013     | 0.907654          | 0.168724            |</pre>"
      ],
      "text/plain": [
       "| 4         | 5        | 0.000089  | 0.226013     | 0.907654          | 0.168724            |"
      ]
     },
     "metadata": {},
     "output_type": "display_data"
    },
    {
     "data": {
      "text/html": [
       "<pre>| 5         | 6        | 0.000089  | 0.245015     | 0.917304          | 0.242798            |</pre>"
      ],
      "text/plain": [
       "| 5         | 6        | 0.000089  | 0.245015     | 0.917304          | 0.242798            |"
      ]
     },
     "metadata": {},
     "output_type": "display_data"
    },
    {
     "data": {
      "text/html": [
       "<pre>| 6         | 7        | 0.000089  | 0.264016     | 0.924792          | 0.304527            |</pre>"
      ],
      "text/plain": [
       "| 6         | 7        | 0.000089  | 0.264016     | 0.924792          | 0.304527            |"
      ]
     },
     "metadata": {},
     "output_type": "display_data"
    },
    {
     "data": {
      "text/html": [
       "<pre>| 11        | 12       | 0.000089  | 0.371022     | 0.941098          | 0.423868            |</pre>"
      ],
      "text/plain": [
       "| 11        | 12       | 0.000089  | 0.371022     | 0.941098          | 0.423868            |"
      ]
     },
     "metadata": {},
     "output_type": "display_data"
    },
    {
     "data": {
      "text/html": [
       "<pre>+-----------+----------+-----------+--------------+-------------------+---------------------+</pre>"
      ],
      "text/plain": [
       "+-----------+----------+-----------+--------------+-------------------+---------------------+"
      ]
     },
     "metadata": {},
     "output_type": "display_data"
    },
    {
     "data": {
      "text/html": [
       "<pre>SUCCESS: Optimal solution found.</pre>"
      ],
      "text/plain": [
       "SUCCESS: Optimal solution found."
      ]
     },
     "metadata": {},
     "output_type": "display_data"
    },
    {
     "data": {
      "text/html": [
       "<pre></pre>"
      ],
      "text/plain": []
     },
     "metadata": {},
     "output_type": "display_data"
    }
   ],
   "source": [
    "logistic_model_1_navigation = graphlab.logistic_classifier.create(train_data, target='label.Navigation', \\\n",
    "                                                       features=['tfidf', 'search_tfidf', 'result_rank', 'click_rank'], \\\n",
    "                                                       validation_set=validation_data_navigation, max_iterations=50, l2_penalty=0,l1_penalty=30)"
   ]
  },
  {
   "cell_type": "code",
   "execution_count": 92,
   "metadata": {
    "collapsed": false
   },
   "outputs": [
    {
     "data": {
      "text/plain": [
       "{'accuracy': 0.9014227642276422,\n",
       " 'auc': 0.8685283368774397,\n",
       " 'confusion_matrix': Columns:\n",
       " \ttarget_label\tint\n",
       " \tpredicted_label\tint\n",
       " \tcount\tint\n",
       " \n",
       " Rows: 4\n",
       " \n",
       " Data:\n",
       " +--------------+-----------------+-------+\n",
       " | target_label | predicted_label | count |\n",
       " +--------------+-----------------+-------+\n",
       " |      1       |        1        |   71  |\n",
       " |      0       |        1        |   44  |\n",
       " |      1       |        0        |  150  |\n",
       " |      0       |        0        |  1703 |\n",
       " +--------------+-----------------+-------+\n",
       " [4 rows x 3 columns],\n",
       " 'f1_score': 0.42261904761904767,\n",
       " 'log_loss': 0.249450913006891,\n",
       " 'precision': 0.6173913043478261,\n",
       " 'recall': 0.3212669683257919,\n",
       " 'roc_curve': Columns:\n",
       " \tthreshold\tfloat\n",
       " \tfpr\tfloat\n",
       " \ttpr\tfloat\n",
       " \tp\tint\n",
       " \tn\tint\n",
       " \n",
       " Rows: 100001\n",
       " \n",
       " Data:\n",
       " +-----------+----------------+-----+-----+------+\n",
       " | threshold |      fpr       | tpr |  p  |  n   |\n",
       " +-----------+----------------+-----+-----+------+\n",
       " |    0.0    |      1.0       | 1.0 | 221 | 1747 |\n",
       " |   1e-05   |      1.0       | 1.0 | 221 | 1747 |\n",
       " |   2e-05   |      1.0       | 1.0 | 221 | 1747 |\n",
       " |   3e-05   |      1.0       | 1.0 | 221 | 1747 |\n",
       " |   4e-05   |      1.0       | 1.0 | 221 | 1747 |\n",
       " |   5e-05   |      1.0       | 1.0 | 221 | 1747 |\n",
       " |   6e-05   | 0.998855180309 | 1.0 | 221 | 1747 |\n",
       " |   7e-05   | 0.998855180309 | 1.0 | 221 | 1747 |\n",
       " |   8e-05   | 0.998855180309 | 1.0 | 221 | 1747 |\n",
       " |   9e-05   | 0.998855180309 | 1.0 | 221 | 1747 |\n",
       " +-----------+----------------+-----+-----+------+\n",
       " [100001 rows x 5 columns]\n",
       " Note: Only the head of the SFrame is printed.\n",
       " You can use print_rows(num_rows=m, num_columns=n) to print more rows and columns.}"
      ]
     },
     "execution_count": 92,
     "metadata": {},
     "output_type": "execute_result"
    }
   ],
   "source": [
    "logistic_model_1_navigation.evaluate(test_data)"
   ]
  },
  {
   "cell_type": "code",
   "execution_count": 93,
   "metadata": {
    "collapsed": false
   },
   "outputs": [
    {
     "data": {
      "text/html": [
       "<pre>Logistic regression:</pre>"
      ],
      "text/plain": [
       "Logistic regression:"
      ]
     },
     "metadata": {},
     "output_type": "display_data"
    },
    {
     "data": {
      "text/html": [
       "<pre>--------------------------------------------------------</pre>"
      ],
      "text/plain": [
       "--------------------------------------------------------"
      ]
     },
     "metadata": {},
     "output_type": "display_data"
    },
    {
     "data": {
      "text/html": [
       "<pre>Number of examples          : 6010</pre>"
      ],
      "text/plain": [
       "Number of examples          : 6010"
      ]
     },
     "metadata": {},
     "output_type": "display_data"
    },
    {
     "data": {
      "text/html": [
       "<pre>Number of classes           : 2</pre>"
      ],
      "text/plain": [
       "Number of classes           : 2"
      ]
     },
     "metadata": {},
     "output_type": "display_data"
    },
    {
     "data": {
      "text/html": [
       "<pre>Number of feature columns   : 4</pre>"
      ],
      "text/plain": [
       "Number of feature columns   : 4"
      ]
     },
     "metadata": {},
     "output_type": "display_data"
    },
    {
     "data": {
      "text/html": [
       "<pre>Number of unpacked features : 5053</pre>"
      ],
      "text/plain": [
       "Number of unpacked features : 5053"
      ]
     },
     "metadata": {},
     "output_type": "display_data"
    },
    {
     "data": {
      "text/html": [
       "<pre>Number of coefficients    : 5054</pre>"
      ],
      "text/plain": [
       "Number of coefficients    : 5054"
      ]
     },
     "metadata": {},
     "output_type": "display_data"
    },
    {
     "data": {
      "text/html": [
       "<pre>Starting Accelerated Gradient (FISTA)</pre>"
      ],
      "text/plain": [
       "Starting Accelerated Gradient (FISTA)"
      ]
     },
     "metadata": {},
     "output_type": "display_data"
    },
    {
     "data": {
      "text/html": [
       "<pre>--------------------------------------------------------</pre>"
      ],
      "text/plain": [
       "--------------------------------------------------------"
      ]
     },
     "metadata": {},
     "output_type": "display_data"
    },
    {
     "data": {
      "text/html": [
       "<pre>+-----------+----------+-----------+--------------+-------------------+---------------------+</pre>"
      ],
      "text/plain": [
       "+-----------+----------+-----------+--------------+-------------------+---------------------+"
      ]
     },
     "metadata": {},
     "output_type": "display_data"
    },
    {
     "data": {
      "text/html": [
       "<pre>| Iteration | Passes   | Step size | Elapsed Time | Training-accuracy | Validation-accuracy |</pre>"
      ],
      "text/plain": [
       "| Iteration | Passes   | Step size | Elapsed Time | Training-accuracy | Validation-accuracy |"
      ]
     },
     "metadata": {},
     "output_type": "display_data"
    },
    {
     "data": {
      "text/html": [
       "<pre>+-----------+----------+-----------+--------------+-------------------+---------------------+</pre>"
      ],
      "text/plain": [
       "+-----------+----------+-----------+--------------+-------------------+---------------------+"
      ]
     },
     "metadata": {},
     "output_type": "display_data"
    },
    {
     "data": {
      "text/html": [
       "<pre>Tuning step size. First iteration could take longer than subsequent iterations.</pre>"
      ],
      "text/plain": [
       "Tuning step size. First iteration could take longer than subsequent iterations."
      ]
     },
     "metadata": {},
     "output_type": "display_data"
    },
    {
     "data": {
      "text/html": [
       "<pre>| 1         | 2        | 0.000089  | 0.179010     | 0.977205          | 1.000000            |</pre>"
      ],
      "text/plain": [
       "| 1         | 2        | 0.000089  | 0.179010     | 0.977205          | 1.000000            |"
      ]
     },
     "metadata": {},
     "output_type": "display_data"
    },
    {
     "data": {
      "text/html": [
       "<pre>| 2         | 3        | 0.000089  | 0.208012     | 0.977537          | 1.000000            |</pre>"
      ],
      "text/plain": [
       "| 2         | 3        | 0.000089  | 0.208012     | 0.977537          | 1.000000            |"
      ]
     },
     "metadata": {},
     "output_type": "display_data"
    },
    {
     "data": {
      "text/html": [
       "<pre>| 3         | 4        | 0.000089  | 0.228013     | 0.977704          | 1.000000            |</pre>"
      ],
      "text/plain": [
       "| 3         | 4        | 0.000089  | 0.228013     | 0.977704          | 1.000000            |"
      ]
     },
     "metadata": {},
     "output_type": "display_data"
    },
    {
     "data": {
      "text/html": [
       "<pre>| 4         | 5        | 0.000089  | 0.259015     | 0.977870          | 1.000000            |</pre>"
      ],
      "text/plain": [
       "| 4         | 5        | 0.000089  | 0.259015     | 0.977870          | 1.000000            |"
      ]
     },
     "metadata": {},
     "output_type": "display_data"
    },
    {
     "data": {
      "text/html": [
       "<pre>| 5         | 6        | 0.000089  | 0.290017     | 0.978369          | 1.000000            |</pre>"
      ],
      "text/plain": [
       "| 5         | 6        | 0.000089  | 0.290017     | 0.978369          | 1.000000            |"
      ]
     },
     "metadata": {},
     "output_type": "display_data"
    },
    {
     "data": {
      "text/html": [
       "<pre>| 6         | 7        | 0.000089  | 0.315018     | 0.979700          | 1.000000            |</pre>"
      ],
      "text/plain": [
       "| 6         | 7        | 0.000089  | 0.315018     | 0.979700          | 1.000000            |"
      ]
     },
     "metadata": {},
     "output_type": "display_data"
    },
    {
     "data": {
      "text/html": [
       "<pre>| 11        | 12       | 0.000089  | 0.428025     | 0.982196          | 1.000000            |</pre>"
      ],
      "text/plain": [
       "| 11        | 12       | 0.000089  | 0.428025     | 0.982196          | 1.000000            |"
      ]
     },
     "metadata": {},
     "output_type": "display_data"
    },
    {
     "data": {
      "text/html": [
       "<pre>| 50        | 51       | 0.000089  | 0.987057     | 0.982696          | 1.000000            |</pre>"
      ],
      "text/plain": [
       "| 50        | 51       | 0.000089  | 0.987057     | 0.982696          | 1.000000            |"
      ]
     },
     "metadata": {},
     "output_type": "display_data"
    },
    {
     "data": {
      "text/html": [
       "<pre>+-----------+----------+-----------+--------------+-------------------+---------------------+</pre>"
      ],
      "text/plain": [
       "+-----------+----------+-----------+--------------+-------------------+---------------------+"
      ]
     },
     "metadata": {},
     "output_type": "display_data"
    },
    {
     "data": {
      "text/html": [
       "<pre>TERMINATED: Iteration limit reached.</pre>"
      ],
      "text/plain": [
       "TERMINATED: Iteration limit reached."
      ]
     },
     "metadata": {},
     "output_type": "display_data"
    },
    {
     "data": {
      "text/html": [
       "<pre>This model may not be optimal. To improve it, consider increasing `max_iterations`.</pre>"
      ],
      "text/plain": [
       "This model may not be optimal. To improve it, consider increasing `max_iterations`."
      ]
     },
     "metadata": {},
     "output_type": "display_data"
    }
   ],
   "source": [
    "logistic_model_1_resource = graphlab.logistic_classifier.create(train_data, target='label.Resource', \\\n",
    "                                                       features=['tfidf', 'search_tfidf', 'result_rank', 'click_rank'], \\\n",
    "                                                       validation_set=validation_data_navigation, max_iterations=50, l2_penalty=0,l1_penalty=30)"
   ]
  },
  {
   "cell_type": "code",
   "execution_count": 94,
   "metadata": {
    "collapsed": false
   },
   "outputs": [
    {
     "data": {
      "text/plain": [
       "{'accuracy': 0.9735772357723578,\n",
       " 'auc': 0.6935112847222209,\n",
       " 'confusion_matrix': Columns:\n",
       " \ttarget_label\tint\n",
       " \tpredicted_label\tint\n",
       " \tcount\tint\n",
       " \n",
       " Rows: 4\n",
       " \n",
       " Data:\n",
       " +--------------+-----------------+-------+\n",
       " | target_label | predicted_label | count |\n",
       " +--------------+-----------------+-------+\n",
       " |      0       |        1        |   5   |\n",
       " |      1       |        0        |   47  |\n",
       " |      0       |        0        |  1915 |\n",
       " |      1       |        1        |   1   |\n",
       " +--------------+-----------------+-------+\n",
       " [4 rows x 3 columns],\n",
       " 'f1_score': 0.037037037037037035,\n",
       " 'log_loss': 0.10829273084385369,\n",
       " 'precision': 0.16666666666666666,\n",
       " 'recall': 0.020833333333333332,\n",
       " 'roc_curve': Columns:\n",
       " \tthreshold\tfloat\n",
       " \tfpr\tfloat\n",
       " \ttpr\tfloat\n",
       " \tp\tint\n",
       " \tn\tint\n",
       " \n",
       " Rows: 100001\n",
       " \n",
       " Data:\n",
       " +-----------+-----+-----+----+------+\n",
       " | threshold | fpr | tpr | p  |  n   |\n",
       " +-----------+-----+-----+----+------+\n",
       " |    0.0    | 1.0 | 1.0 | 48 | 1920 |\n",
       " |   1e-05   | 1.0 | 1.0 | 48 | 1920 |\n",
       " |   2e-05   | 1.0 | 1.0 | 48 | 1920 |\n",
       " |   3e-05   | 1.0 | 1.0 | 48 | 1920 |\n",
       " |   4e-05   | 1.0 | 1.0 | 48 | 1920 |\n",
       " |   5e-05   | 1.0 | 1.0 | 48 | 1920 |\n",
       " |   6e-05   | 1.0 | 1.0 | 48 | 1920 |\n",
       " |   7e-05   | 1.0 | 1.0 | 48 | 1920 |\n",
       " |   8e-05   | 1.0 | 1.0 | 48 | 1920 |\n",
       " |   9e-05   | 1.0 | 1.0 | 48 | 1920 |\n",
       " +-----------+-----+-----+----+------+\n",
       " [100001 rows x 5 columns]\n",
       " Note: Only the head of the SFrame is printed.\n",
       " You can use print_rows(num_rows=m, num_columns=n) to print more rows and columns.}"
      ]
     },
     "execution_count": 94,
     "metadata": {},
     "output_type": "execute_result"
    }
   ],
   "source": [
    "logistic_model_1_resource.evaluate(test_data)"
   ]
  },
  {
   "cell_type": "code",
   "execution_count": 41,
   "metadata": {
    "collapsed": false,
    "scrolled": false
   },
   "outputs": [
    {
     "data": {
      "text/html": [
       "<pre>Logistic regression:</pre>"
      ],
      "text/plain": [
       "Logistic regression:"
      ]
     },
     "metadata": {},
     "output_type": "display_data"
    },
    {
     "data": {
      "text/html": [
       "<pre>--------------------------------------------------------</pre>"
      ],
      "text/plain": [
       "--------------------------------------------------------"
      ]
     },
     "metadata": {},
     "output_type": "display_data"
    },
    {
     "data": {
      "text/html": [
       "<pre>Number of examples          : 6010</pre>"
      ],
      "text/plain": [
       "Number of examples          : 6010"
      ]
     },
     "metadata": {},
     "output_type": "display_data"
    },
    {
     "data": {
      "text/html": [
       "<pre>Number of classes           : 3</pre>"
      ],
      "text/plain": [
       "Number of classes           : 3"
      ]
     },
     "metadata": {},
     "output_type": "display_data"
    },
    {
     "data": {
      "text/html": [
       "<pre>Number of feature columns   : 3</pre>"
      ],
      "text/plain": [
       "Number of feature columns   : 3"
      ]
     },
     "metadata": {},
     "output_type": "display_data"
    },
    {
     "data": {
      "text/html": [
       "<pre>Number of unpacked features : 5007</pre>"
      ],
      "text/plain": [
       "Number of unpacked features : 5007"
      ]
     },
     "metadata": {},
     "output_type": "display_data"
    },
    {
     "data": {
      "text/html": [
       "<pre>Number of coefficients    : 10016</pre>"
      ],
      "text/plain": [
       "Number of coefficients    : 10016"
      ]
     },
     "metadata": {},
     "output_type": "display_data"
    },
    {
     "data": {
      "text/html": [
       "<pre>Starting L-BFGS</pre>"
      ],
      "text/plain": [
       "Starting L-BFGS"
      ]
     },
     "metadata": {},
     "output_type": "display_data"
    },
    {
     "data": {
      "text/html": [
       "<pre>--------------------------------------------------------</pre>"
      ],
      "text/plain": [
       "--------------------------------------------------------"
      ]
     },
     "metadata": {},
     "output_type": "display_data"
    },
    {
     "data": {
      "text/html": [
       "<pre>+-----------+----------+-----------+--------------+-------------------+---------------------+</pre>"
      ],
      "text/plain": [
       "+-----------+----------+-----------+--------------+-------------------+---------------------+"
      ]
     },
     "metadata": {},
     "output_type": "display_data"
    },
    {
     "data": {
      "text/html": [
       "<pre>| Iteration | Passes   | Step size | Elapsed Time | Training-accuracy | Validation-accuracy |</pre>"
      ],
      "text/plain": [
       "| Iteration | Passes   | Step size | Elapsed Time | Training-accuracy | Validation-accuracy |"
      ]
     },
     "metadata": {},
     "output_type": "display_data"
    },
    {
     "data": {
      "text/html": [
       "<pre>+-----------+----------+-----------+--------------+-------------------+---------------------+</pre>"
      ],
      "text/plain": [
       "+-----------+----------+-----------+--------------+-------------------+---------------------+"
      ]
     },
     "metadata": {},
     "output_type": "display_data"
    },
    {
     "data": {
      "text/html": [
       "<pre>| 1         | 3        | 0.000166  | 0.036002     | 0.923627          | 0.871414            |</pre>"
      ],
      "text/plain": [
       "| 1         | 3        | 0.000166  | 0.036002     | 0.923627          | 0.871414            |"
      ]
     },
     "metadata": {},
     "output_type": "display_data"
    },
    {
     "data": {
      "text/html": [
       "<pre>| 2         | 5        | 1.000000  | 0.092005     | 0.934443          | 0.873887            |</pre>"
      ],
      "text/plain": [
       "| 2         | 5        | 1.000000  | 0.092005     | 0.934443          | 0.873887            |"
      ]
     },
     "metadata": {},
     "output_type": "display_data"
    },
    {
     "data": {
      "text/html": [
       "<pre>| 3         | 6        | 1.000000  | 0.138008     | 0.940266          | 0.867953            |</pre>"
      ],
      "text/plain": [
       "| 3         | 6        | 1.000000  | 0.138008     | 0.940266          | 0.867953            |"
      ]
     },
     "metadata": {},
     "output_type": "display_data"
    },
    {
     "data": {
      "text/html": [
       "<pre>| 4         | 7        | 1.000000  | 0.186010     | 0.942097          | 0.872898            |</pre>"
      ],
      "text/plain": [
       "| 4         | 7        | 1.000000  | 0.186010     | 0.942097          | 0.872898            |"
      ]
     },
     "metadata": {},
     "output_type": "display_data"
    },
    {
     "data": {
      "text/html": [
       "<pre>| 5         | 8        | 1.000000  | 0.237013     | 0.946090          | 0.868447            |</pre>"
      ],
      "text/plain": [
       "| 5         | 8        | 1.000000  | 0.237013     | 0.946090          | 0.868447            |"
      ]
     },
     "metadata": {},
     "output_type": "display_data"
    },
    {
     "data": {
      "text/html": [
       "<pre>| 6         | 9        | 1.000000  | 0.285016     | 0.948419          | 0.868447            |</pre>"
      ],
      "text/plain": [
       "| 6         | 9        | 1.000000  | 0.285016     | 0.948419          | 0.868447            |"
      ]
     },
     "metadata": {},
     "output_type": "display_data"
    },
    {
     "data": {
      "text/html": [
       "<pre>+-----------+----------+-----------+--------------+-------------------+---------------------+</pre>"
      ],
      "text/plain": [
       "+-----------+----------+-----------+--------------+-------------------+---------------------+"
      ]
     },
     "metadata": {},
     "output_type": "display_data"
    },
    {
     "data": {
      "text/html": [
       "<pre>TERMINATED: Iteration limit reached.</pre>"
      ],
      "text/plain": [
       "TERMINATED: Iteration limit reached."
      ]
     },
     "metadata": {},
     "output_type": "display_data"
    },
    {
     "data": {
      "text/html": [
       "<pre>This model may not be optimal. To improve it, consider increasing `max_iterations`.</pre>"
      ],
      "text/plain": [
       "This model may not be optimal. To improve it, consider increasing `max_iterations`."
      ]
     },
     "metadata": {},
     "output_type": "display_data"
    }
   ],
   "source": [
    "logistic_model_2 = graphlab.logistic_classifier.create(train_data, target='label', \\\n",
    "                                                       features=['search_tfidf', 'result_rank', 'click_rank'], \\\n",
    "                                                       validation_set=validation_data)"
   ]
  },
  {
   "cell_type": "markdown",
   "metadata": {},
   "source": [
    "* 分类器测试"
   ]
  },
  {
   "cell_type": "code",
   "execution_count": 42,
   "metadata": {
    "collapsed": false,
    "scrolled": false
   },
   "outputs": [
    {
     "data": {
      "text/plain": [
       "{'accuracy': 0.8689024390243902,\n",
       " 'auc': 0.7889915995372349,\n",
       " 'confusion_matrix': Columns:\n",
       " \ttarget_label\tstr\n",
       " \tpredicted_label\tstr\n",
       " \tcount\tint\n",
       " \n",
       " Rows: 9\n",
       " \n",
       " Data:\n",
       " +--------------+-----------------+-------+\n",
       " | target_label | predicted_label | count |\n",
       " +--------------+-----------------+-------+\n",
       " |  Navigation  |    Navigation   |  103  |\n",
       " | Information  |    Navigation   |   76  |\n",
       " | Information  |     Resource    |   23  |\n",
       " |  Navigation  |   Information   |  117  |\n",
       " |   Resource   |   Information   |   40  |\n",
       " | Information  |   Information   |  1600 |\n",
       " |  Navigation  |     Resource    |   1   |\n",
       " |   Resource   |     Resource    |   7   |\n",
       " |   Resource   |    Navigation   |   1   |\n",
       " +--------------+-----------------+-------+\n",
       " [9 rows x 3 columns],\n",
       " 'f1_score': 0.5389522755075119,\n",
       " 'log_loss': 0.46973028282117485,\n",
       " 'precision': 0.5695572718513214,\n",
       " 'recall': 0.5178757038047105,\n",
       " 'roc_curve': Columns:\n",
       " \tthreshold\tfloat\n",
       " \tfpr\tfloat\n",
       " \ttpr\tfloat\n",
       " \tp\tint\n",
       " \tn\tint\n",
       " \tclass\tint\n",
       " \n",
       " Rows: 300003\n",
       " \n",
       " Data:\n",
       " +-----------+-----+----------------+------+-----+-------+\n",
       " | threshold | fpr |      tpr       |  p   |  n  | class |\n",
       " +-----------+-----+----------------+------+-----+-------+\n",
       " |    0.0    | 1.0 |      1.0       | 1699 | 269 |   0   |\n",
       " |   1e-05   | 1.0 |      1.0       | 1699 | 269 |   0   |\n",
       " |   2e-05   | 1.0 | 0.999411418481 | 1699 | 269 |   0   |\n",
       " |   3e-05   | 1.0 | 0.999411418481 | 1699 | 269 |   0   |\n",
       " |   4e-05   | 1.0 | 0.999411418481 | 1699 | 269 |   0   |\n",
       " |   5e-05   | 1.0 | 0.999411418481 | 1699 | 269 |   0   |\n",
       " |   6e-05   | 1.0 | 0.999411418481 | 1699 | 269 |   0   |\n",
       " |   7e-05   | 1.0 | 0.999411418481 | 1699 | 269 |   0   |\n",
       " |   8e-05   | 1.0 | 0.999411418481 | 1699 | 269 |   0   |\n",
       " |   9e-05   | 1.0 | 0.999411418481 | 1699 | 269 |   0   |\n",
       " +-----------+-----+----------------+------+-----+-------+\n",
       " [300003 rows x 6 columns]\n",
       " Note: Only the head of the SFrame is printed.\n",
       " You can use print_rows(num_rows=m, num_columns=n) to print more rows and columns.}"
      ]
     },
     "execution_count": 42,
     "metadata": {},
     "output_type": "execute_result"
    }
   ],
   "source": [
    "logistic_model_1.evaluate(test_data)"
   ]
  },
  {
   "cell_type": "code",
   "execution_count": 43,
   "metadata": {
    "collapsed": false,
    "scrolled": false
   },
   "outputs": [
    {
     "data": {
      "text/plain": [
       "{'accuracy': 0.8648373983739838,\n",
       " 'auc': 0.7887784476518876,\n",
       " 'confusion_matrix': Columns:\n",
       " \ttarget_label\tstr\n",
       " \tpredicted_label\tstr\n",
       " \tcount\tint\n",
       " \n",
       " Rows: 9\n",
       " \n",
       " Data:\n",
       " +--------------+-----------------+-------+\n",
       " | target_label | predicted_label | count |\n",
       " +--------------+-----------------+-------+\n",
       " | Information  |     Resource    |   20  |\n",
       " | Information  |    Navigation   |   85  |\n",
       " |  Navigation  |    Navigation   |  102  |\n",
       " |  Navigation  |   Information   |  118  |\n",
       " |   Resource   |   Information   |   41  |\n",
       " | Information  |   Information   |  1594 |\n",
       " |  Navigation  |     Resource    |   1   |\n",
       " |   Resource   |     Resource    |   6   |\n",
       " |   Resource   |    Navigation   |   1   |\n",
       " +--------------+-----------------+-------+\n",
       " [9 rows x 3 columns],\n",
       " 'f1_score': 0.5274333672364083,\n",
       " 'log_loss': 0.479065690164296,\n",
       " 'precision': 0.5580245864682271,\n",
       " 'recall': 0.5082458006972427,\n",
       " 'roc_curve': Columns:\n",
       " \tthreshold\tfloat\n",
       " \tfpr\tfloat\n",
       " \ttpr\tfloat\n",
       " \tp\tint\n",
       " \tn\tint\n",
       " \tclass\tint\n",
       " \n",
       " Rows: 300003\n",
       " \n",
       " Data:\n",
       " +-----------+-----+-----+------+-----+-------+\n",
       " | threshold | fpr | tpr |  p   |  n  | class |\n",
       " +-----------+-----+-----+------+-----+-------+\n",
       " |    0.0    | 1.0 | 1.0 | 1699 | 269 |   0   |\n",
       " |   1e-05   | 1.0 | 1.0 | 1699 | 269 |   0   |\n",
       " |   2e-05   | 1.0 | 1.0 | 1699 | 269 |   0   |\n",
       " |   3e-05   | 1.0 | 1.0 | 1699 | 269 |   0   |\n",
       " |   4e-05   | 1.0 | 1.0 | 1699 | 269 |   0   |\n",
       " |   5e-05   | 1.0 | 1.0 | 1699 | 269 |   0   |\n",
       " |   6e-05   | 1.0 | 1.0 | 1699 | 269 |   0   |\n",
       " |   7e-05   | 1.0 | 1.0 | 1699 | 269 |   0   |\n",
       " |   8e-05   | 1.0 | 1.0 | 1699 | 269 |   0   |\n",
       " |   9e-05   | 1.0 | 1.0 | 1699 | 269 |   0   |\n",
       " +-----------+-----+-----+------+-----+-------+\n",
       " [300003 rows x 6 columns]\n",
       " Note: Only the head of the SFrame is printed.\n",
       " You can use print_rows(num_rows=m, num_columns=n) to print more rows and columns.}"
      ]
     },
     "execution_count": 43,
     "metadata": {},
     "output_type": "execute_result"
    }
   ],
   "source": [
    "logistic_model_2.evaluate(test_data)"
   ]
  },
  {
   "cell_type": "markdown",
   "metadata": {},
   "source": [
    "#### 3.4.3 Boosted Tree"
   ]
  },
  {
   "cell_type": "markdown",
   "metadata": {},
   "source": [
    "* 分类器训练"
   ]
  },
  {
   "cell_type": "code",
   "execution_count": 44,
   "metadata": {
    "collapsed": false,
    "scrolled": false
   },
   "outputs": [
    {
     "data": {
      "text/html": [
       "<pre>Boosted trees classifier:</pre>"
      ],
      "text/plain": [
       "Boosted trees classifier:"
      ]
     },
     "metadata": {},
     "output_type": "display_data"
    },
    {
     "data": {
      "text/html": [
       "<pre>--------------------------------------------------------</pre>"
      ],
      "text/plain": [
       "--------------------------------------------------------"
      ]
     },
     "metadata": {},
     "output_type": "display_data"
    },
    {
     "data": {
      "text/html": [
       "<pre>Number of examples          : 6010</pre>"
      ],
      "text/plain": [
       "Number of examples          : 6010"
      ]
     },
     "metadata": {},
     "output_type": "display_data"
    },
    {
     "data": {
      "text/html": [
       "<pre>Number of classes           : 3</pre>"
      ],
      "text/plain": [
       "Number of classes           : 3"
      ]
     },
     "metadata": {},
     "output_type": "display_data"
    },
    {
     "data": {
      "text/html": [
       "<pre>Number of feature columns   : 4</pre>"
      ],
      "text/plain": [
       "Number of feature columns   : 4"
      ]
     },
     "metadata": {},
     "output_type": "display_data"
    },
    {
     "data": {
      "text/html": [
       "<pre>Number of unpacked features : 5053</pre>"
      ],
      "text/plain": [
       "Number of unpacked features : 5053"
      ]
     },
     "metadata": {},
     "output_type": "display_data"
    },
    {
     "data": {
      "text/html": [
       "<pre>+-----------+--------------+-------------------+-------------------+---------------------+---------------------+</pre>"
      ],
      "text/plain": [
       "+-----------+--------------+-------------------+-------------------+---------------------+---------------------+"
      ]
     },
     "metadata": {},
     "output_type": "display_data"
    },
    {
     "data": {
      "text/html": [
       "<pre>| Iteration | Elapsed Time | Training-accuracy | Training-log_loss | Validation-accuracy | Validation-log_loss |</pre>"
      ],
      "text/plain": [
       "| Iteration | Elapsed Time | Training-accuracy | Training-log_loss | Validation-accuracy | Validation-log_loss |"
      ]
     },
     "metadata": {},
     "output_type": "display_data"
    },
    {
     "data": {
      "text/html": [
       "<pre>+-----------+--------------+-------------------+-------------------+---------------------+---------------------+</pre>"
      ],
      "text/plain": [
       "+-----------+--------------+-------------------+-------------------+---------------------+---------------------+"
      ]
     },
     "metadata": {},
     "output_type": "display_data"
    },
    {
     "data": {
      "text/html": [
       "<pre>| 1         | 0.059004     | 0.873711          | 0.816677          | 0.868447            | 0.819736            |</pre>"
      ],
      "text/plain": [
       "| 1         | 0.059004     | 0.873711          | 0.816677          | 0.868447            | 0.819736            |"
      ]
     },
     "metadata": {},
     "output_type": "display_data"
    },
    {
     "data": {
      "text/html": [
       "<pre>| 2         | 0.105006     | 0.879867          | 0.654540          | 0.868942            | 0.660694            |</pre>"
      ],
      "text/plain": [
       "| 2         | 0.105006     | 0.879867          | 0.654540          | 0.868942            | 0.660694            |"
      ]
     },
     "metadata": {},
     "output_type": "display_data"
    },
    {
     "data": {
      "text/html": [
       "<pre>| 3         | 0.148009     | 0.876040          | 0.551717          | 0.872898            | 0.560675            |</pre>"
      ],
      "text/plain": [
       "| 3         | 0.148009     | 0.876040          | 0.551717          | 0.872898            | 0.560675            |"
      ]
     },
     "metadata": {},
     "output_type": "display_data"
    },
    {
     "data": {
      "text/html": [
       "<pre>| 4         | 0.190011     | 0.881364          | 0.481115          | 0.873393            | 0.493366            |</pre>"
      ],
      "text/plain": [
       "| 4         | 0.190011     | 0.881364          | 0.481115          | 0.873393            | 0.493366            |"
      ]
     },
     "metadata": {},
     "output_type": "display_data"
    },
    {
     "data": {
      "text/html": [
       "<pre>| 5         | 0.229013     | 0.881864          | 0.432191          | 0.873887            | 0.447579            |</pre>"
      ],
      "text/plain": [
       "| 5         | 0.229013     | 0.881864          | 0.432191          | 0.873887            | 0.447579            |"
      ]
     },
     "metadata": {},
     "output_type": "display_data"
    },
    {
     "data": {
      "text/html": [
       "<pre>| 6         | 0.276016     | 0.883694          | 0.398424          | 0.873887            | 0.416491            |</pre>"
      ],
      "text/plain": [
       "| 6         | 0.276016     | 0.883694          | 0.398424          | 0.873887            | 0.416491            |"
      ]
     },
     "metadata": {},
     "output_type": "display_data"
    },
    {
     "data": {
      "text/html": [
       "<pre>+-----------+--------------+-------------------+-------------------+---------------------+---------------------+</pre>"
      ],
      "text/plain": [
       "+-----------+--------------+-------------------+-------------------+---------------------+---------------------+"
      ]
     },
     "metadata": {},
     "output_type": "display_data"
    }
   ],
   "source": [
    "boost_model_1 = graphlab.boosted_trees_classifier.create(train_data, target='label', \\\n",
    "                                                         features=['tfidf', 'search_tfidf', 'result_rank', 'click_rank'], \\\n",
    "                                                         validation_set=validation_data)"
   ]
  },
  {
   "cell_type": "code",
   "execution_count": 45,
   "metadata": {
    "collapsed": false,
    "scrolled": true
   },
   "outputs": [
    {
     "data": {
      "text/html": [
       "<pre>Boosted trees classifier:</pre>"
      ],
      "text/plain": [
       "Boosted trees classifier:"
      ]
     },
     "metadata": {},
     "output_type": "display_data"
    },
    {
     "data": {
      "text/html": [
       "<pre>--------------------------------------------------------</pre>"
      ],
      "text/plain": [
       "--------------------------------------------------------"
      ]
     },
     "metadata": {},
     "output_type": "display_data"
    },
    {
     "data": {
      "text/html": [
       "<pre>Number of examples          : 6010</pre>"
      ],
      "text/plain": [
       "Number of examples          : 6010"
      ]
     },
     "metadata": {},
     "output_type": "display_data"
    },
    {
     "data": {
      "text/html": [
       "<pre>Number of classes           : 3</pre>"
      ],
      "text/plain": [
       "Number of classes           : 3"
      ]
     },
     "metadata": {},
     "output_type": "display_data"
    },
    {
     "data": {
      "text/html": [
       "<pre>Number of feature columns   : 3</pre>"
      ],
      "text/plain": [
       "Number of feature columns   : 3"
      ]
     },
     "metadata": {},
     "output_type": "display_data"
    },
    {
     "data": {
      "text/html": [
       "<pre>Number of unpacked features : 5007</pre>"
      ],
      "text/plain": [
       "Number of unpacked features : 5007"
      ]
     },
     "metadata": {},
     "output_type": "display_data"
    },
    {
     "data": {
      "text/html": [
       "<pre>+-----------+--------------+-------------------+-------------------+---------------------+---------------------+</pre>"
      ],
      "text/plain": [
       "+-----------+--------------+-------------------+-------------------+---------------------+---------------------+"
      ]
     },
     "metadata": {},
     "output_type": "display_data"
    },
    {
     "data": {
      "text/html": [
       "<pre>| Iteration | Elapsed Time | Training-accuracy | Training-log_loss | Validation-accuracy | Validation-log_loss |</pre>"
      ],
      "text/plain": [
       "| Iteration | Elapsed Time | Training-accuracy | Training-log_loss | Validation-accuracy | Validation-log_loss |"
      ]
     },
     "metadata": {},
     "output_type": "display_data"
    },
    {
     "data": {
      "text/html": [
       "<pre>+-----------+--------------+-------------------+-------------------+---------------------+---------------------+</pre>"
      ],
      "text/plain": [
       "+-----------+--------------+-------------------+-------------------+---------------------+---------------------+"
      ]
     },
     "metadata": {},
     "output_type": "display_data"
    },
    {
     "data": {
      "text/html": [
       "<pre>| 1         | 0.064004     | 0.874043          | 0.832070          | 0.872898            | 0.833190            |</pre>"
      ],
      "text/plain": [
       "| 1         | 0.064004     | 0.874043          | 0.832070          | 0.872898            | 0.833190            |"
      ]
     },
     "metadata": {},
     "output_type": "display_data"
    },
    {
     "data": {
      "text/html": [
       "<pre>| 2         | 0.109006     | 0.874043          | 0.679494          | 0.872404            | 0.681089            |</pre>"
      ],
      "text/plain": [
       "| 2         | 0.109006     | 0.874043          | 0.679494          | 0.872404            | 0.681089            |"
      ]
     },
     "metadata": {},
     "output_type": "display_data"
    },
    {
     "data": {
      "text/html": [
       "<pre>| 3         | 0.162009     | 0.875874          | 0.582850          | 0.874876            | 0.585373            |</pre>"
      ],
      "text/plain": [
       "| 3         | 0.162009     | 0.875874          | 0.582850          | 0.874876            | 0.585373            |"
      ]
     },
     "metadata": {},
     "output_type": "display_data"
    },
    {
     "data": {
      "text/html": [
       "<pre>| 4         | 0.204012     | 0.875541          | 0.519184          | 0.873887            | 0.524795            |</pre>"
      ],
      "text/plain": [
       "| 4         | 0.204012     | 0.875541          | 0.519184          | 0.873887            | 0.524795            |"
      ]
     },
     "metadata": {},
     "output_type": "display_data"
    },
    {
     "data": {
      "text/html": [
       "<pre>| 5         | 0.240014     | 0.873711          | 0.476809          | 0.872898            | 0.483074            |</pre>"
      ],
      "text/plain": [
       "| 5         | 0.240014     | 0.873711          | 0.476809          | 0.872898            | 0.483074            |"
      ]
     },
     "metadata": {},
     "output_type": "display_data"
    },
    {
     "data": {
      "text/html": [
       "<pre>| 6         | 0.281016     | 0.873045          | 0.445507          | 0.872404            | 0.454434            |</pre>"
      ],
      "text/plain": [
       "| 6         | 0.281016     | 0.873045          | 0.445507          | 0.872404            | 0.454434            |"
      ]
     },
     "metadata": {},
     "output_type": "display_data"
    },
    {
     "data": {
      "text/html": [
       "<pre>+-----------+--------------+-------------------+-------------------+---------------------+---------------------+</pre>"
      ],
      "text/plain": [
       "+-----------+--------------+-------------------+-------------------+---------------------+---------------------+"
      ]
     },
     "metadata": {},
     "output_type": "display_data"
    }
   ],
   "source": [
    "boost_model_2 = graphlab.boosted_trees_classifier.create(train_data, target='label', \\\n",
    "                                                         features=['search_tfidf', 'result_rank', 'click_rank'], \\\n",
    "                                                         validation_set=validation_data)"
   ]
  },
  {
   "cell_type": "markdown",
   "metadata": {},
   "source": [
    "* 分类器测试"
   ]
  },
  {
   "cell_type": "code",
   "execution_count": 46,
   "metadata": {
    "collapsed": false,
    "scrolled": false
   },
   "outputs": [
    {
     "data": {
      "text/plain": [
       "{'accuracy': 0.8785569105691057,\n",
       " 'auc': 0.746247017529306,\n",
       " 'confusion_matrix': Columns:\n",
       " \ttarget_label\tstr\n",
       " \tpredicted_label\tstr\n",
       " \tcount\tint\n",
       " \n",
       " Rows: 7\n",
       " \n",
       " Data:\n",
       " +--------------+-----------------+-------+\n",
       " | target_label | predicted_label | count |\n",
       " +--------------+-----------------+-------+\n",
       " |   Resource   |    Navigation   |   3   |\n",
       " |  Navigation  |    Navigation   |   55  |\n",
       " |  Navigation  |   Information   |  166  |\n",
       " | Information  |    Navigation   |   26  |\n",
       " |   Resource   |   Information   |   44  |\n",
       " | Information  |   Information   |  1673 |\n",
       " |   Resource   |     Resource    |   1   |\n",
       " +--------------+-----------------+-------+\n",
       " [7 rows x 3 columns],\n",
       " 'f1_score': 0.44519569459256186,\n",
       " 'log_loss': 0.36782414625815874,\n",
       " 'precision': 0.8477459137310438,\n",
       " 'recall': 0.41813299737727605,\n",
       " 'roc_curve': Columns:\n",
       " \tthreshold\tfloat\n",
       " \tfpr\tfloat\n",
       " \ttpr\tfloat\n",
       " \tp\tint\n",
       " \tn\tint\n",
       " \tclass\tint\n",
       " \n",
       " Rows: 300003\n",
       " \n",
       " Data:\n",
       " +-----------+-----+-----+------+-----+-------+\n",
       " | threshold | fpr | tpr |  p   |  n  | class |\n",
       " +-----------+-----+-----+------+-----+-------+\n",
       " |    0.0    | 1.0 | 1.0 | 1699 | 269 |   0   |\n",
       " |   1e-05   | 1.0 | 1.0 | 1699 | 269 |   0   |\n",
       " |   2e-05   | 1.0 | 1.0 | 1699 | 269 |   0   |\n",
       " |   3e-05   | 1.0 | 1.0 | 1699 | 269 |   0   |\n",
       " |   4e-05   | 1.0 | 1.0 | 1699 | 269 |   0   |\n",
       " |   5e-05   | 1.0 | 1.0 | 1699 | 269 |   0   |\n",
       " |   6e-05   | 1.0 | 1.0 | 1699 | 269 |   0   |\n",
       " |   7e-05   | 1.0 | 1.0 | 1699 | 269 |   0   |\n",
       " |   8e-05   | 1.0 | 1.0 | 1699 | 269 |   0   |\n",
       " |   9e-05   | 1.0 | 1.0 | 1699 | 269 |   0   |\n",
       " +-----------+-----+-----+------+-----+-------+\n",
       " [300003 rows x 6 columns]\n",
       " Note: Only the head of the SFrame is printed.\n",
       " You can use print_rows(num_rows=m, num_columns=n) to print more rows and columns.}"
      ]
     },
     "execution_count": 46,
     "metadata": {},
     "output_type": "execute_result"
    }
   ],
   "source": [
    "boost_model_1.evaluate(test_data)"
   ]
  },
  {
   "cell_type": "code",
   "execution_count": 47,
   "metadata": {
    "collapsed": false,
    "scrolled": false
   },
   "outputs": [
    {
     "data": {
      "text/plain": [
       "{'accuracy': 0.8683943089430894,\n",
       " 'auc': 0.7198899577124401,\n",
       " 'confusion_matrix': Columns:\n",
       " \ttarget_label\tstr\n",
       " \tpredicted_label\tstr\n",
       " \tcount\tint\n",
       " \n",
       " Rows: 5\n",
       " \n",
       " Data:\n",
       " +--------------+-----------------+-------+\n",
       " | target_label | predicted_label | count |\n",
       " +--------------+-----------------+-------+\n",
       " |  Navigation  |    Navigation   |   19  |\n",
       " | Information  |    Navigation   |   9   |\n",
       " |  Navigation  |   Information   |  202  |\n",
       " |   Resource   |   Information   |   48  |\n",
       " | Information  |   Information   |  1690 |\n",
       " +--------------+-----------------+-------+\n",
       " [5 rows x 3 columns],\n",
       " 'f1_score': 0.36047901416051675,\n",
       " 'log_loss': 0.41459987487687805,\n",
       " 'precision': 0.7748527245949927,\n",
       " 'recall': 0.3602252056706234,\n",
       " 'roc_curve': Columns:\n",
       " \tthreshold\tfloat\n",
       " \tfpr\tfloat\n",
       " \ttpr\tfloat\n",
       " \tp\tint\n",
       " \tn\tint\n",
       " \tclass\tint\n",
       " \n",
       " Rows: 300003\n",
       " \n",
       " Data:\n",
       " +-----------+-----+-----+------+-----+-------+\n",
       " | threshold | fpr | tpr |  p   |  n  | class |\n",
       " +-----------+-----+-----+------+-----+-------+\n",
       " |    0.0    | 1.0 | 1.0 | 1699 | 269 |   0   |\n",
       " |   1e-05   | 1.0 | 1.0 | 1699 | 269 |   0   |\n",
       " |   2e-05   | 1.0 | 1.0 | 1699 | 269 |   0   |\n",
       " |   3e-05   | 1.0 | 1.0 | 1699 | 269 |   0   |\n",
       " |   4e-05   | 1.0 | 1.0 | 1699 | 269 |   0   |\n",
       " |   5e-05   | 1.0 | 1.0 | 1699 | 269 |   0   |\n",
       " |   6e-05   | 1.0 | 1.0 | 1699 | 269 |   0   |\n",
       " |   7e-05   | 1.0 | 1.0 | 1699 | 269 |   0   |\n",
       " |   8e-05   | 1.0 | 1.0 | 1699 | 269 |   0   |\n",
       " |   9e-05   | 1.0 | 1.0 | 1699 | 269 |   0   |\n",
       " +-----------+-----+-----+------+-----+-------+\n",
       " [300003 rows x 6 columns]\n",
       " Note: Only the head of the SFrame is printed.\n",
       " You can use print_rows(num_rows=m, num_columns=n) to print more rows and columns.}"
      ]
     },
     "execution_count": 47,
     "metadata": {},
     "output_type": "execute_result"
    }
   ],
   "source": [
    "boost_model_2.evaluate(test_data)"
   ]
  },
  {
   "cell_type": "markdown",
   "metadata": {},
   "source": [
    "#### 3.4.4 比较不同分类器和不同特征提取对查询意图识别的影响"
   ]
  },
  {
   "cell_type": "markdown",
   "metadata": {},
   "source": [
    "&nbsp;&nbsp;&nbsp;&nbsp;&nbsp;&nbsp;&nbsp;呃，其实这部分还**有待改进**。毕竟虽然有影响，但是影响比较小。\n",
    "* 不同分类器对查询意图识别会有**1个百分点**的影响；\n",
    "* 不同特征提取对意图识别的影响仅仅有**0.1个百分点**。"
   ]
  },
  {
   "cell_type": "markdown",
   "metadata": {},
   "source": [
    "## 4. 结论"
   ]
  },
  {
   "cell_type": "markdown",
   "metadata": {},
   "source": [
    "&nbsp;&nbsp;&nbsp;&nbsp;&nbsp;&nbsp;&nbsp;由于论文没有完成，所以结论部分还有待分析。\n",
    "* 在答辩前，要深入学习**LTP工具**，优化特征提取；\n",
    "* 同时要**调整分类器的参数**，优化分类结果。"
   ]
  },
  {
   "cell_type": "markdown",
   "metadata": {},
   "source": [
    "<img src='classification.jpg' align='left'>"
   ]
  },
  {
   "cell_type": "markdown",
   "metadata": {},
   "source": [
    "# 欢迎大家批评指正，谢谢！"
   ]
  }
 ],
 "metadata": {
  "kernelspec": {
   "display_name": "Python 2",
   "language": "python",
   "name": "python2"
  },
  "language_info": {
   "codemirror_mode": {
    "name": "ipython",
    "version": 2
   },
   "file_extension": ".py",
   "mimetype": "text/x-python",
   "name": "python",
   "nbconvert_exporter": "python",
   "pygments_lexer": "ipython2",
   "version": "2.7.11"
  }
 },
 "nbformat": 4,
 "nbformat_minor": 0
}
